{
 "cells": [
  {
   "cell_type": "code",
   "execution_count": 1,
   "id": "aa5cc897",
   "metadata": {},
   "outputs": [],
   "source": [
    "import csv, os\n",
    "import pandas as pd\n",
    "import seaborn as sns\n",
    "import numpy as np\n",
    "from matplotlib import pyplot as plt\n",
    "from datetime import datetime\n",
    "\n",
    "# Data standard scaler\n",
    "from sklearn.preprocessing import StandardScaler\n",
    "\n",
    "# Random train-test split\n",
    "from sklearn.model_selection import train_test_split\n",
    "\n",
    "# Metrics and model selection\n",
    "from sklearn.metrics import classification_report, confusion_matrix, auc, roc_curve, \\\n",
    "    precision_recall_curve\n",
    "from sklearn.model_selection import cross_val_predict\n",
    "\n",
    "# Classifiers\n",
    "from sklearn.linear_model import LogisticRegression\n",
    "\n",
    "from scipy.stats import ttest_ind\n",
    "\n",
    "#colors used when comparing genders\n",
    "PURPLE = 'purple'\n",
    "ORANGE = '#ffb82c'\n",
    "\n",
    "#colors used when generic comparisons\n",
    "BLUE = '#0173b2'\n",
    "RED = '#d55e00'"
   ]
  },
  {
   "cell_type": "code",
   "execution_count": 2,
   "id": "c3079717",
   "metadata": {},
   "outputs": [
    {
     "data": {
      "text/html": [
       "\n",
       "<style>\n",
       ".output_png {\n",
       "    display: table-cell;\n",
       "    text-align: center;\n",
       "    vertical-align: middle;\n",
       "}\n",
       "</style>\n"
      ],
      "text/plain": [
       "<IPython.core.display.HTML object>"
      ]
     },
     "execution_count": 2,
     "metadata": {},
     "output_type": "execute_result"
    }
   ],
   "source": [
    "from IPython.core.display import HTML\n",
    "\n",
    "HTML(\"\"\"\n",
    "<style>\n",
    ".output_png {\n",
    "    display: table-cell;\n",
    "    text-align: center;\n",
    "    vertical-align: middle;\n",
    "}\n",
    "</style>\n",
    "\"\"\")"
   ]
  },
  {
   "cell_type": "code",
   "execution_count": 3,
   "id": "6e562ba5",
   "metadata": {},
   "outputs": [],
   "source": [
    "# Matches the feature names of the logistic regression to understandable titles\n",
    "logistic_regression_col_names = {\n",
    "    'cast_max': 'Highest actor score in RM',\n",
    "    'cast_mean': 'Casting’s average score in RM',\n",
    "    'cast_median': 'Cast’s median score in RM',\n",
    "    'cast_nb_famous_actors': 'Number of famous actors in RM',\n",
    "    'cast_prop_famous_actors': 'Ratio of famous actors in RM',\n",
    "    'F_max': 'Most famous female actress score in RM',\n",
    "    'F_mean': 'Average score of the female casting of the RM',\n",
    "    'F_median': 'Median score of the female casting of the RM',\n",
    "    'F_nb_famous_actors': 'Number of famous female actresses in RM',\n",
    "    'F_prop_famous_actors': 'Ratio of famous female actresses in RM',\n",
    "    'M_max': 'Most famous male actor in RM',\n",
    "    'M_mean': 'Average score of the male casting of the RM',\n",
    "    'M_median': 'Median score of the male casting of the RM',\n",
    "    'M_nb_famous_actors': 'Number of famous male actors in RM',\n",
    "    'M_prop_famous_actors': 'Ratio of famous male actors in RM',\n",
    "    'previous_cast_max': 'Score of the most famous actor the actor has played within the past three years',\n",
    "    'previous_cast_mean': 'Average score of all actors the actor has played within the past three years',\n",
    "    'previous_cast_prop_famous_actors': 'Average ratio of famous actors among each movie the actor has played within the past three years',\n",
    "    'previous_cast_nb_famous_actors': 'Total number of famous actors the actor has played within the past three years',\n",
    "    'm_release_year': 'Movie release year',\n",
    "    'actor_age': 'Actor age',\n",
    "    'actor_gender_cat': 'Female gender',\n",
    "    'nb_movies_before_this_movie': 'Number of movies the actor has already starred in'\n",
    "}"
   ]
  },
  {
   "cell_type": "markdown",
   "id": "9acafde8",
   "metadata": {},
   "source": [
    "# 1. Load the preprocessed data"
   ]
  },
  {
   "cell_type": "code",
   "execution_count": 4,
   "id": "201443db",
   "metadata": {},
   "outputs": [],
   "source": [
    "DATA_PATH = './preprocessed_data'\n",
    "IMG_PATH = './images'\n",
    "CHAR_PATH = os.path.join(DATA_PATH, 'characters_preprocessed.tsv')\n",
    "SCORE_FUNCTION_PATH = os.path.join(DATA_PATH, 'score_function.tsv')\n",
    "OUTPUT_LOGISTIC_IMAGES_PATH = os.path.join(IMG_PATH, 'regression')"
   ]
  },
  {
   "cell_type": "markdown",
   "id": "b0c6d06f",
   "metadata": {},
   "source": [
    "### 1.1 Characters dataset"
   ]
  },
  {
   "cell_type": "code",
   "execution_count": 5,
   "id": "549a98de",
   "metadata": {},
   "outputs": [
    {
     "data": {
      "text/html": [
       "<div>\n",
       "<style scoped>\n",
       "    .dataframe tbody tr th:only-of-type {\n",
       "        vertical-align: middle;\n",
       "    }\n",
       "\n",
       "    .dataframe tbody tr th {\n",
       "        vertical-align: top;\n",
       "    }\n",
       "\n",
       "    .dataframe thead th {\n",
       "        text-align: right;\n",
       "    }\n",
       "</style>\n",
       "<table border=\"1\" class=\"dataframe\">\n",
       "  <thead>\n",
       "    <tr style=\"text-align: right;\">\n",
       "      <th></th>\n",
       "      <th>wikipedia_m_ID</th>\n",
       "      <th>m_release_date</th>\n",
       "      <th>character_name</th>\n",
       "      <th>actor_dob</th>\n",
       "      <th>actor_gender</th>\n",
       "      <th>actor_height</th>\n",
       "      <th>actor_ethnicity</th>\n",
       "      <th>actor_name</th>\n",
       "      <th>actor_age</th>\n",
       "      <th>m_name</th>\n",
       "      <th>m_genre_PCA</th>\n",
       "      <th>m_release_year</th>\n",
       "      <th>min_year</th>\n",
       "      <th>min_year_score</th>\n",
       "    </tr>\n",
       "  </thead>\n",
       "  <tbody>\n",
       "    <tr>\n",
       "      <th>0</th>\n",
       "      <td>975900</td>\n",
       "      <td>2001-08-24</td>\n",
       "      <td>Akooshay</td>\n",
       "      <td>1958-08-26</td>\n",
       "      <td>F</td>\n",
       "      <td>1.62</td>\n",
       "      <td>NaN</td>\n",
       "      <td>Wanda De Jesus</td>\n",
       "      <td>42.0</td>\n",
       "      <td>Ghosts of Mars</td>\n",
       "      <td>Documentary, Culture &amp; Society, Gay, Gay Interest</td>\n",
       "      <td>2001</td>\n",
       "      <td>NaN</td>\n",
       "      <td>NaN</td>\n",
       "    </tr>\n",
       "    <tr>\n",
       "      <th>1</th>\n",
       "      <td>975900</td>\n",
       "      <td>2001-08-24</td>\n",
       "      <td>Lieutenant Melanie Ballard</td>\n",
       "      <td>1974-08-15</td>\n",
       "      <td>F</td>\n",
       "      <td>1.78</td>\n",
       "      <td>NaN</td>\n",
       "      <td>Natasha Henstridge</td>\n",
       "      <td>27.0</td>\n",
       "      <td>Ghosts of Mars</td>\n",
       "      <td>Documentary, Culture &amp; Society, Gay, Gay Interest</td>\n",
       "      <td>2001</td>\n",
       "      <td>2000.0</td>\n",
       "      <td>57.0</td>\n",
       "    </tr>\n",
       "  </tbody>\n",
       "</table>\n",
       "</div>"
      ],
      "text/plain": [
       "   wikipedia_m_ID m_release_date              character_name  actor_dob  \\\n",
       "0          975900     2001-08-24                    Akooshay 1958-08-26   \n",
       "1          975900     2001-08-24  Lieutenant Melanie Ballard 1974-08-15   \n",
       "\n",
       "  actor_gender  actor_height actor_ethnicity          actor_name  actor_age  \\\n",
       "0            F          1.62             NaN      Wanda De Jesus       42.0   \n",
       "1            F          1.78             NaN  Natasha Henstridge       27.0   \n",
       "\n",
       "           m_name                                        m_genre_PCA  \\\n",
       "0  Ghosts of Mars  Documentary, Culture & Society, Gay, Gay Interest   \n",
       "1  Ghosts of Mars  Documentary, Culture & Society, Gay, Gay Interest   \n",
       "\n",
       "   m_release_year  min_year  min_year_score  \n",
       "0            2001       NaN             NaN  \n",
       "1            2001    2000.0            57.0  "
      ]
     },
     "execution_count": 5,
     "metadata": {},
     "output_type": "execute_result"
    }
   ],
   "source": [
    "df_chars = pd.read_csv(CHAR_PATH, sep=\"\\t\")\n",
    "df_chars['m_release_date'] = pd.to_datetime(df_chars['m_release_date'], errors='coerce')\n",
    "df_chars['actor_dob'] = pd.to_datetime(df_chars['actor_dob'], errors='coerce')\n",
    "df_chars.head(2)"
   ]
  },
  {
   "cell_type": "markdown",
   "id": "68d45c5c",
   "metadata": {},
   "source": [
    "### 1.2 The score function"
   ]
  },
  {
   "cell_type": "code",
   "execution_count": 6,
   "id": "adea5536",
   "metadata": {},
   "outputs": [
    {
     "data": {
      "text/html": [
       "<div>\n",
       "<style scoped>\n",
       "    .dataframe tbody tr th:only-of-type {\n",
       "        vertical-align: middle;\n",
       "    }\n",
       "\n",
       "    .dataframe tbody tr th {\n",
       "        vertical-align: top;\n",
       "    }\n",
       "\n",
       "    .dataframe thead th {\n",
       "        text-align: right;\n",
       "    }\n",
       "</style>\n",
       "<table border=\"1\" class=\"dataframe\">\n",
       "  <thead>\n",
       "    <tr style=\"text-align: right;\">\n",
       "      <th></th>\n",
       "      <th>1980</th>\n",
       "      <th>1981</th>\n",
       "      <th>1982</th>\n",
       "      <th>1983</th>\n",
       "      <th>1984</th>\n",
       "      <th>1985</th>\n",
       "      <th>1986</th>\n",
       "      <th>1987</th>\n",
       "      <th>1988</th>\n",
       "      <th>1989</th>\n",
       "      <th>...</th>\n",
       "      <th>2005</th>\n",
       "      <th>2006</th>\n",
       "      <th>2007</th>\n",
       "      <th>2008</th>\n",
       "      <th>2009</th>\n",
       "      <th>2010</th>\n",
       "      <th>2011</th>\n",
       "      <th>2012</th>\n",
       "      <th>min_year</th>\n",
       "      <th>min_year_score</th>\n",
       "    </tr>\n",
       "    <tr>\n",
       "      <th>actor_name</th>\n",
       "      <th></th>\n",
       "      <th></th>\n",
       "      <th></th>\n",
       "      <th></th>\n",
       "      <th></th>\n",
       "      <th></th>\n",
       "      <th></th>\n",
       "      <th></th>\n",
       "      <th></th>\n",
       "      <th></th>\n",
       "      <th></th>\n",
       "      <th></th>\n",
       "      <th></th>\n",
       "      <th></th>\n",
       "      <th></th>\n",
       "      <th></th>\n",
       "      <th></th>\n",
       "      <th></th>\n",
       "      <th></th>\n",
       "      <th></th>\n",
       "      <th></th>\n",
       "    </tr>\n",
       "  </thead>\n",
       "  <tbody>\n",
       "    <tr>\n",
       "      <th>Jane Fonda</th>\n",
       "      <td>99.0</td>\n",
       "      <td>346.5</td>\n",
       "      <td>181.5</td>\n",
       "      <td>123.75</td>\n",
       "      <td>94.050000</td>\n",
       "      <td>75.900000</td>\n",
       "      <td>441.642857</td>\n",
       "      <td>243.803571</td>\n",
       "      <td>174.125000</td>\n",
       "      <td>137.400000</td>\n",
       "      <td>...</td>\n",
       "      <td>892.587692</td>\n",
       "      <td>462.089744</td>\n",
       "      <td>317.717532</td>\n",
       "      <td>244.955719</td>\n",
       "      <td>200.891379</td>\n",
       "      <td>171.213548</td>\n",
       "      <td>149.784285</td>\n",
       "      <td>133.531250</td>\n",
       "      <td>1980</td>\n",
       "      <td>99.0</td>\n",
       "    </tr>\n",
       "    <tr>\n",
       "      <th>Clint Eastwood</th>\n",
       "      <td>348.0</td>\n",
       "      <td>174.0</td>\n",
       "      <td>460.0</td>\n",
       "      <td>729.00</td>\n",
       "      <td>1755.266667</td>\n",
       "      <td>1706.666667</td>\n",
       "      <td>1880.347619</td>\n",
       "      <td>1189.833333</td>\n",
       "      <td>1686.509524</td>\n",
       "      <td>1454.709524</td>\n",
       "      <td>...</td>\n",
       "      <td>2139.009068</td>\n",
       "      <td>1715.610398</td>\n",
       "      <td>1470.104342</td>\n",
       "      <td>3616.394846</td>\n",
       "      <td>2334.278040</td>\n",
       "      <td>1850.068876</td>\n",
       "      <td>1576.740235</td>\n",
       "      <td>1825.545952</td>\n",
       "      <td>1980</td>\n",
       "      <td>348.0</td>\n",
       "    </tr>\n",
       "  </tbody>\n",
       "</table>\n",
       "<p>2 rows × 35 columns</p>\n",
       "</div>"
      ],
      "text/plain": [
       "                 1980   1981   1982    1983         1984         1985  \\\n",
       "actor_name                                                              \n",
       "Jane Fonda       99.0  346.5  181.5  123.75    94.050000    75.900000   \n",
       "Clint Eastwood  348.0  174.0  460.0  729.00  1755.266667  1706.666667   \n",
       "\n",
       "                       1986         1987         1988         1989  ...  \\\n",
       "actor_name                                                          ...   \n",
       "Jane Fonda       441.642857   243.803571   174.125000   137.400000  ...   \n",
       "Clint Eastwood  1880.347619  1189.833333  1686.509524  1454.709524  ...   \n",
       "\n",
       "                       2005         2006         2007         2008  \\\n",
       "actor_name                                                           \n",
       "Jane Fonda       892.587692   462.089744   317.717532   244.955719   \n",
       "Clint Eastwood  2139.009068  1715.610398  1470.104342  3616.394846   \n",
       "\n",
       "                       2009         2010         2011         2012  min_year  \\\n",
       "actor_name                                                                     \n",
       "Jane Fonda       200.891379   171.213548   149.784285   133.531250      1980   \n",
       "Clint Eastwood  2334.278040  1850.068876  1576.740235  1825.545952      1980   \n",
       "\n",
       "                min_year_score  \n",
       "actor_name                      \n",
       "Jane Fonda                99.0  \n",
       "Clint Eastwood           348.0  \n",
       "\n",
       "[2 rows x 35 columns]"
      ]
     },
     "execution_count": 6,
     "metadata": {},
     "output_type": "execute_result"
    }
   ],
   "source": [
    "df_numbers = pd.read_csv(SCORE_FUNCTION_PATH, sep='\\t')\n",
    "df_numbers.set_index('actor_name', inplace=True)\n",
    "df_numbers.head(2)"
   ]
  },
  {
   "cell_type": "markdown",
   "id": "9c648774",
   "metadata": {},
   "source": [
    "# 2. Dataset preparation"
   ]
  },
  {
   "cell_type": "markdown",
   "id": "5f72f3d2",
   "metadata": {},
   "source": [
    "#### Add a new column: \n",
    "* `min_year_starring`: it corresponds to the starting year of career of an actor"
   ]
  },
  {
   "cell_type": "code",
   "execution_count": 7,
   "id": "2faf8c26",
   "metadata": {},
   "outputs": [],
   "source": [
    "map_min_year_starring = df_chars.groupby(['actor_name'])['m_release_year'].min()\n",
    "df_chars['min_year_starring'] = df_chars['actor_name'].map(lambda x: map_min_year_starring[x])"
   ]
  },
  {
   "cell_type": "markdown",
   "id": "76bb3adc",
   "metadata": {},
   "source": [
    "#### Add two new columns:\n",
    "* `is_revealed`: boolean which is true if the release year of the movie the actor is starring in correspond to the year the actor has appeared in the numbers' ranking for the first time\n",
    "* `already_revealed`: boolean which is true if the release year of the movie the actor is starring in correspond to a greater year than your revelation year: the actor has already appeared in the numbers ranking before starring in this movie"
   ]
  },
  {
   "cell_type": "code",
   "execution_count": 8,
   "id": "29f3bced",
   "metadata": {},
   "outputs": [],
   "source": [
    "df_chars['is_revealed'] = df_chars.apply(lambda row: row['min_year'] == row['m_release_date'].year, axis=1).astype(int)\n",
    "df_chars['already_revealed'] = df_chars.apply(\n",
    "    lambda row: row['min_year'] < row['m_release_date'].year and row['min_year'] != 0.0, axis=1).astype(int)"
   ]
  },
  {
   "cell_type": "markdown",
   "id": "9e1c035f",
   "metadata": {},
   "source": [
    "#### Add a new column:\n",
    "* `popularity`: Categorical column which takes three possible values: **famous**, **revelation**, **unknown**. It corresponds to, at the release year of the movie, either: have been already revealed in the numbers at that time, being revealed at that time, or haven't been revealed at that time."
   ]
  },
  {
   "cell_type": "code",
   "execution_count": 9,
   "id": "7bf91798",
   "metadata": {},
   "outputs": [],
   "source": [
    "def get_popularity(row):\n",
    "    \"\"\"\n",
    "    Compute the popularity of each actor at a period\n",
    "    :param row: row of the df\n",
    "    :return: the popularity, ie: famous (already revealed), revelation(being revealed) or unknown (not yet revealed)\n",
    "    \"\"\"\n",
    "    if (row.is_revealed == 0) and (row.already_revealed == 0):\n",
    "        return 'unknown'\n",
    "    if (row.is_revealed == 0) and (row.already_revealed == 1):\n",
    "        return 'famous'\n",
    "    if (row.is_revealed == 1) and (row.already_revealed == 0):\n",
    "        return 'revelation'\n",
    "    if (row.is_revealed == 1) and (row.already_revealed == 1):\n",
    "        raise ValueError('The actor {} has a value 1 for is_revealed and 1 for already_revealed'.format(row.actor_name))"
   ]
  },
  {
   "cell_type": "code",
   "execution_count": 10,
   "id": "0b4c4a81",
   "metadata": {},
   "outputs": [],
   "source": [
    "df_chars['popularity'] = df_chars.apply(lambda row: get_popularity(row), axis=1)"
   ]
  },
  {
   "cell_type": "markdown",
   "id": "e1bb1c51",
   "metadata": {},
   "source": [
    "# 3. Regression analysis: how co-acting impacts being revealed\n",
    "## 3.1 Features of actor score"
   ]
  },
  {
   "cell_type": "code",
   "execution_count": 11,
   "id": "2479a404",
   "metadata": {},
   "outputs": [],
   "source": [
    "df_regression = df_chars.copy()"
   ]
  },
  {
   "cell_type": "markdown",
   "id": "a8bd8120",
   "metadata": {},
   "source": [
    "#### Column conversion\n",
    "* add a column `actor_gender_cat`: it represents the actor gender as a binary input"
   ]
  },
  {
   "cell_type": "code",
   "execution_count": 12,
   "id": "a8805950",
   "metadata": {},
   "outputs": [],
   "source": [
    "df_regression['actor_gender_cat'] = (df_regression['actor_gender'] == 'F').astype(int)"
   ]
  },
  {
   "cell_type": "markdown",
   "id": "0b8d3f72",
   "metadata": {},
   "source": [
    "#### Drop columns \n",
    "* Two columns won't be used for the analysis: `actor_height` and `actor_ethnicity`"
   ]
  },
  {
   "cell_type": "code",
   "execution_count": 13,
   "id": "598ddd43",
   "metadata": {},
   "outputs": [],
   "source": [
    "df_regression.drop(['actor_height', 'actor_ethnicity', 'm_release_date'], axis=1, inplace=True)"
   ]
  },
  {
   "cell_type": "markdown",
   "id": "c0fcda0c",
   "metadata": {},
   "source": [
    "#### Number of actors per movie\n",
    "* add a new column: `nb_actors`: Number of actors per movie"
   ]
  },
  {
   "cell_type": "code",
   "execution_count": 14,
   "id": "9bc0d249",
   "metadata": {},
   "outputs": [],
   "source": [
    "#compute number of actors per movie\n",
    "map_nb_actors_per_movie = df_regression.groupby(['wikipedia_m_ID'])['actor_name'].count()\n",
    "df_regression['nb_actors'] = df_regression['wikipedia_m_ID'].map(lambda x: map_nb_actors_per_movie[x])"
   ]
  },
  {
   "cell_type": "markdown",
   "id": "98e76bda",
   "metadata": {},
   "source": [
    "#### Number of movies of each actor before releasing movie\n",
    "* add a new column `nb_movies_before_releasing_movie`: it corresponds to the number of movies an actor has starred in before playing in the movie row"
   ]
  },
  {
   "cell_type": "code",
   "execution_count": 15,
   "id": "7cac3c5f",
   "metadata": {},
   "outputs": [],
   "source": [
    "map_nb_movies_per_year = df_regression.groupby(['actor_name', 'm_release_year'])['wikipedia_m_ID'].count().reset_index()"
   ]
  },
  {
   "cell_type": "code",
   "execution_count": 16,
   "id": "c3957cf4",
   "metadata": {},
   "outputs": [],
   "source": [
    "year = range(1980, 2013)\n",
    "list_nb_movies_at_year = dict()\n",
    "for y in year:\n",
    "    filter_conditions = (\n",
    "        (map_nb_movies_per_year['m_release_year'] < y)\n",
    "    )\n",
    "    list_nb_movies = map_nb_movies_per_year.loc[filter_conditions]\n",
    "    list_nb_movies = list_nb_movies.groupby('actor_name')['wikipedia_m_ID'].sum()\n",
    "    list_nb_movies_at_year.update({y: list_nb_movies})"
   ]
  },
  {
   "cell_type": "code",
   "execution_count": 17,
   "id": "d4ff37fc",
   "metadata": {},
   "outputs": [],
   "source": [
    "def get_nb_movies_before_year(row):\n",
    "    \"\"\"\n",
    "    Retrieve the number of movies an actor has starred in before the movie release year of a specific movie\n",
    "    :param row: row of the df characters\n",
    "    :return: The number of movies the actor has performed\n",
    "    \"\"\"\n",
    "    release_year = row['m_release_year']\n",
    "    actor_name = row['actor_name']\n",
    "    try:\n",
    "        df_tmp = list_nb_movies_at_year[release_year]\n",
    "        nb_movies = df_tmp[actor_name]\n",
    "        return nb_movies\n",
    "    except:\n",
    "        return 0"
   ]
  },
  {
   "cell_type": "code",
   "execution_count": 18,
   "id": "e0661e76",
   "metadata": {},
   "outputs": [],
   "source": [
    "df_regression['nb_movies_before_this_movie'] = df_regression.apply(lambda row: get_nb_movies_before_year(row), axis=1)"
   ]
  },
  {
   "cell_type": "code",
   "execution_count": 19,
   "id": "7e770983",
   "metadata": {},
   "outputs": [
    {
     "data": {
      "image/png": "[encoded data removed]",
      "text/plain": [
       "<Figure size 864x360 with 1 Axes>"
      ]
     },
     "metadata": {
      "needs_background": "light"
     },
     "output_type": "display_data"
    },
    {
     "name": "stdout",
     "output_type": "stream",
     "text": [
      "In average, there are 7.61 actors per movie in our dataset.\n",
      "It corresponds to 24884 different movies.\n"
     ]
    }
   ],
   "source": [
    "# Number of actors per movie\n",
    "plt.figure(figsize=(12, 5))\n",
    "sns.histplot(data=df_regression.drop_duplicates('wikipedia_m_ID'), x='nb_actors')\n",
    "plt.title(\"Distribution of the number of actors per movie\")\n",
    "plt.ylabel(\"Count\")\n",
    "plt.xlabel(\"Number of actors per movie\")\n",
    "plt.show()\n",
    "avg_nb_actors_per_movie = df_regression.drop_duplicates('wikipedia_m_ID')['nb_actors'].mean()\n",
    "nb_unique_movies_with_actors = df_regression['wikipedia_m_ID'].nunique()\n",
    "print(\"In average, there are {:.2f} actors per movie in our dataset.\".format(avg_nb_actors_per_movie))\n",
    "print(\"It corresponds to {} different movies.\".format(nb_unique_movies_with_actors))"
   ]
  },
  {
   "cell_type": "markdown",
   "id": "59f9cf1e",
   "metadata": {},
   "source": [
    "#### Number of movies per decade\n",
    "* Add four columns that compute the number of movies an actor has performed during each decade"
   ]
  },
  {
   "cell_type": "code",
   "execution_count": 20,
   "id": "4df2a343",
   "metadata": {},
   "outputs": [],
   "source": [
    "nb_decades_lower = range(1980, 2030, 10)\n",
    "nb_decades_upper = range(1990, 2030, 10)\n",
    "list_decades = dict()\n",
    "for dec_lower, dec_upper in zip(nb_decades_lower, nb_decades_upper):\n",
    "    filter_conditions = (\n",
    "            (map_nb_movies_per_year['m_release_year'] >= dec_lower) &\n",
    "            (map_nb_movies_per_year['m_release_year'] < dec_upper)\n",
    "    )\n",
    "    list_dec = map_nb_movies_per_year.loc[filter_conditions]\n",
    "    list_dec = list_dec.groupby('actor_name')['wikipedia_m_ID'].count().reset_index()\n",
    "    list_dec['wikipedia_m_ID'] = list_dec['wikipedia_m_ID'].astype(int)\n",
    "    list_dec.rename({'wikipedia_m_ID': 'nb_movies_dec_{}_{}'.format(dec_lower, dec_upper)}, axis=1, inplace=True)\n",
    "    list_decades.update({range(dec_lower, dec_upper): list_dec})"
   ]
  },
  {
   "cell_type": "code",
   "execution_count": 21,
   "id": "81a7afcf",
   "metadata": {},
   "outputs": [],
   "source": [
    "for key, dec in list_decades.items():\n",
    "    df_regression = df_regression.merge(dec, on='actor_name', how='left')\n",
    "    df_regression['nb_movies_dec_{}_{}'.format(key.start, key.stop)].fillna(0, inplace=True)"
   ]
  },
  {
   "cell_type": "code",
   "execution_count": 22,
   "id": "6cd0c03e",
   "metadata": {},
   "outputs": [
    {
     "data": {
      "text/html": [
       "<div>\n",
       "<style scoped>\n",
       "    .dataframe tbody tr th:only-of-type {\n",
       "        vertical-align: middle;\n",
       "    }\n",
       "\n",
       "    .dataframe tbody tr th {\n",
       "        vertical-align: top;\n",
       "    }\n",
       "\n",
       "    .dataframe thead th {\n",
       "        text-align: right;\n",
       "    }\n",
       "</style>\n",
       "<table border=\"1\" class=\"dataframe\">\n",
       "  <thead>\n",
       "    <tr style=\"text-align: right;\">\n",
       "      <th></th>\n",
       "      <th>wikipedia_m_ID</th>\n",
       "      <th>character_name</th>\n",
       "      <th>actor_dob</th>\n",
       "      <th>actor_gender</th>\n",
       "      <th>actor_name</th>\n",
       "      <th>actor_age</th>\n",
       "      <th>m_name</th>\n",
       "      <th>m_genre_PCA</th>\n",
       "      <th>m_release_year</th>\n",
       "      <th>min_year</th>\n",
       "      <th>...</th>\n",
       "      <th>is_revealed</th>\n",
       "      <th>already_revealed</th>\n",
       "      <th>popularity</th>\n",
       "      <th>actor_gender_cat</th>\n",
       "      <th>nb_actors</th>\n",
       "      <th>nb_movies_before_this_movie</th>\n",
       "      <th>nb_movies_dec_1980_1990</th>\n",
       "      <th>nb_movies_dec_1990_2000</th>\n",
       "      <th>nb_movies_dec_2000_2010</th>\n",
       "      <th>nb_movies_dec_2010_2020</th>\n",
       "    </tr>\n",
       "  </thead>\n",
       "  <tbody>\n",
       "    <tr>\n",
       "      <th>0</th>\n",
       "      <td>975900</td>\n",
       "      <td>Akooshay</td>\n",
       "      <td>1958-08-26</td>\n",
       "      <td>F</td>\n",
       "      <td>Wanda De Jesus</td>\n",
       "      <td>42.0</td>\n",
       "      <td>Ghosts of Mars</td>\n",
       "      <td>Documentary, Culture &amp; Society, Gay, Gay Interest</td>\n",
       "      <td>2001</td>\n",
       "      <td>NaN</td>\n",
       "      <td>...</td>\n",
       "      <td>0</td>\n",
       "      <td>0</td>\n",
       "      <td>unknown</td>\n",
       "      <td>1</td>\n",
       "      <td>13</td>\n",
       "      <td>3</td>\n",
       "      <td>0.0</td>\n",
       "      <td>2.0</td>\n",
       "      <td>4.0</td>\n",
       "      <td>0.0</td>\n",
       "    </tr>\n",
       "    <tr>\n",
       "      <th>1</th>\n",
       "      <td>975900</td>\n",
       "      <td>Lieutenant Melanie Ballard</td>\n",
       "      <td>1974-08-15</td>\n",
       "      <td>F</td>\n",
       "      <td>Natasha Henstridge</td>\n",
       "      <td>27.0</td>\n",
       "      <td>Ghosts of Mars</td>\n",
       "      <td>Documentary, Culture &amp; Society, Gay, Gay Interest</td>\n",
       "      <td>2001</td>\n",
       "      <td>2000.0</td>\n",
       "      <td>...</td>\n",
       "      <td>0</td>\n",
       "      <td>1</td>\n",
       "      <td>famous</td>\n",
       "      <td>1</td>\n",
       "      <td>13</td>\n",
       "      <td>8</td>\n",
       "      <td>0.0</td>\n",
       "      <td>3.0</td>\n",
       "      <td>6.0</td>\n",
       "      <td>0.0</td>\n",
       "    </tr>\n",
       "  </tbody>\n",
       "</table>\n",
       "<p>2 rows × 22 columns</p>\n",
       "</div>"
      ],
      "text/plain": [
       "   wikipedia_m_ID              character_name  actor_dob actor_gender  \\\n",
       "0          975900                    Akooshay 1958-08-26            F   \n",
       "1          975900  Lieutenant Melanie Ballard 1974-08-15            F   \n",
       "\n",
       "           actor_name  actor_age          m_name  \\\n",
       "0      Wanda De Jesus       42.0  Ghosts of Mars   \n",
       "1  Natasha Henstridge       27.0  Ghosts of Mars   \n",
       "\n",
       "                                         m_genre_PCA  m_release_year  \\\n",
       "0  Documentary, Culture & Society, Gay, Gay Interest            2001   \n",
       "1  Documentary, Culture & Society, Gay, Gay Interest            2001   \n",
       "\n",
       "   min_year  ...  is_revealed  already_revealed  popularity  actor_gender_cat  \\\n",
       "0       NaN  ...            0                 0     unknown                 1   \n",
       "1    2000.0  ...            0                 1      famous                 1   \n",
       "\n",
       "  nb_actors  nb_movies_before_this_movie  nb_movies_dec_1980_1990  \\\n",
       "0        13                            3                      0.0   \n",
       "1        13                            8                      0.0   \n",
       "\n",
       "   nb_movies_dec_1990_2000  nb_movies_dec_2000_2010  nb_movies_dec_2010_2020  \n",
       "0                      2.0                      4.0                      0.0  \n",
       "1                      3.0                      6.0                      0.0  \n",
       "\n",
       "[2 rows x 22 columns]"
      ]
     },
     "execution_count": 22,
     "metadata": {},
     "output_type": "execute_result"
    }
   ],
   "source": [
    "df_regression.head(2)"
   ]
  },
  {
   "cell_type": "markdown",
   "id": "1d7b9320",
   "metadata": {},
   "source": [
    "#### Retrieve the scores per actor at movie time\n",
    "* add a new column `actor_score`: it corresponds to the score of the actor at the year before starring the movie"
   ]
  },
  {
   "cell_type": "code",
   "execution_count": 23,
   "id": "bc56f940",
   "metadata": {},
   "outputs": [],
   "source": [
    "def retrieve_actor_score(row):\n",
    "    \"\"\"\n",
    "    Retrieve the actor score the year before the movie release\n",
    "    :param row: row of the df characters\n",
    "    :return: The actor score the actor has the year before the release year\n",
    "    \"\"\"\n",
    "    score_year_to_retrieve = row['m_release_year'] - 1\n",
    "    actor_name = row['actor_name']\n",
    "    try:\n",
    "        return df_numbers['{}'.format(score_year_to_retrieve)][actor_name]\n",
    "    except:\n",
    "        return 0"
   ]
  },
  {
   "cell_type": "code",
   "execution_count": 24,
   "id": "901a11d9",
   "metadata": {},
   "outputs": [],
   "source": [
    "df_regression['actor_score'] = df_regression.apply(lambda row: retrieve_actor_score(row), axis=1)"
   ]
  },
  {
   "cell_type": "markdown",
   "id": "8bb6560d",
   "metadata": {},
   "source": [
    "#### Keep only movies strictly after 1980 (minimal year for which we have an actor score)"
   ]
  },
  {
   "cell_type": "code",
   "execution_count": 25,
   "id": "20d5d76b",
   "metadata": {},
   "outputs": [],
   "source": [
    "# Keep only movies after 1980\n",
    "df_regression = df_regression[df_regression['m_release_year'] > 1980].copy()"
   ]
  },
  {
   "cell_type": "markdown",
   "id": "16713af4",
   "metadata": {},
   "source": [
    "#### Quick analysis just for fun"
   ]
  },
  {
   "cell_type": "code",
   "execution_count": 26,
   "id": "8f9c3b84",
   "metadata": {},
   "outputs": [
    {
     "name": "stdout",
     "output_type": "stream",
     "text": [
      "There are 13712 unique movies released after 1980 and with at least two actors in the dataset.\n"
     ]
    }
   ],
   "source": [
    "nb_unique_movies = df_regression['wikipedia_m_ID'].nunique()\n",
    "print(\"There are {} unique movies released after 1980 and with at least two actors in the dataset.\".format(\n",
    "    nb_unique_movies))"
   ]
  },
  {
   "cell_type": "code",
   "execution_count": 27,
   "id": "5995ccb2",
   "metadata": {},
   "outputs": [
    {
     "name": "stdout",
     "output_type": "stream",
     "text": [
      "There are 24701 actors in this dataset.\n",
      "Among them, there are 3732 actors who had started their carreer before 1980.\n"
     ]
    }
   ],
   "source": [
    "nb_actors = df_regression['actor_name'].nunique()\n",
    "nb_actors_who_started_carreer_after_1980 = df_regression.loc[(df_regression['nb_movies_before_this_movie'] == 0)][\n",
    "    'actor_name'].nunique()\n",
    "print(\"There are {} actors in this dataset.\".format(nb_actors))\n",
    "print(\"Among them, there are {} actors who had started their carreer before 1980.\".format(\n",
    "    nb_actors - nb_actors_who_started_carreer_after_1980))"
   ]
  },
  {
   "cell_type": "code",
   "execution_count": 28,
   "id": "bdd410a5",
   "metadata": {},
   "outputs": [
    {
     "data": {
      "image/png": "[encoded data removed]",
      "text/plain": [
       "<Figure size 432x288 with 1 Axes>"
      ]
     },
     "metadata": {
      "needs_background": "light"
     },
     "output_type": "display_data"
    }
   ],
   "source": [
    "sns.scatterplot(\n",
    "    data=df_regression.loc[(df_regression['actor_score'] > 0)].sort_values('actor_score').drop_duplicates('actor_name',\n",
    "                                                                                                          keep='last'),\n",
    "    y='nb_movies_before_this_movie', x='actor_score', hue=\"actor_gender\");"
   ]
  },
  {
   "cell_type": "code",
   "execution_count": 29,
   "id": "2ea32fae",
   "metadata": {},
   "outputs": [],
   "source": [
    "women_nb_movies_highest_score = \\\n",
    "    df_regression.loc[(df_regression['actor_score'] > 0) & (df_regression['actor_gender'] == 'F')].sort_values(\n",
    "        'actor_score').drop_duplicates('actor_name', keep='last')['nb_movies_before_this_movie']\n",
    "men_nb_movies_highest_score = \\\n",
    "    df_regression.loc[(df_regression['actor_score'] > 0) & (df_regression['actor_gender'] == 'M')].sort_values(\n",
    "        'actor_score').drop_duplicates('actor_name', keep='last')['nb_movies_before_this_movie']"
   ]
  },
  {
   "cell_type": "code",
   "execution_count": 30,
   "id": "499b7fd5",
   "metadata": {},
   "outputs": [
    {
     "name": "stdout",
     "output_type": "stream",
     "text": [
      "At the peak of their carreer, women had before performed 12.32 movies in average.\n",
      "At the peak of their carreer, men had before performed 16.21 movies in average.\n"
     ]
    },
    {
     "data": {
      "text/plain": [
       "Ttest_indResult(statistic=-5.362465244255523, pvalue=9.619260122200605e-08)"
      ]
     },
     "execution_count": 30,
     "metadata": {},
     "output_type": "execute_result"
    }
   ],
   "source": [
    "women_mean_nb_movies_highest_score = women_nb_movies_highest_score.mean()\n",
    "men_mean_nb_movies_highest_score = men_nb_movies_highest_score.mean()\n",
    "print(\"At the peak of their carreer, women had before performed {:.2f} movies in average.\".format(\n",
    "    women_mean_nb_movies_highest_score))\n",
    "print(\"At the peak of their carreer, men had before performed {:.2f} movies in average.\".format(\n",
    "    men_mean_nb_movies_highest_score))\n",
    "ttest_ind(women_nb_movies_highest_score, men_nb_movies_highest_score)"
   ]
  },
  {
   "cell_type": "code",
   "execution_count": 31,
   "id": "14e91e0b",
   "metadata": {},
   "outputs": [],
   "source": [
    "women_highest_score = \\\n",
    "    df_regression.loc[(df_regression['actor_score'] > 0) & (df_regression['actor_gender'] == 'F')].sort_values(\n",
    "        'actor_score').drop_duplicates('actor_name', keep='last')['actor_score']\n",
    "men_highest_score = \\\n",
    "    df_regression.loc[(df_regression['actor_score'] > 0) & (df_regression['actor_gender'] == 'M')].sort_values(\n",
    "        'actor_score').drop_duplicates('actor_name', keep='last')['actor_score']"
   ]
  },
  {
   "cell_type": "code",
   "execution_count": 32,
   "id": "7723612e",
   "metadata": {},
   "outputs": [
    {
     "name": "stdout",
     "output_type": "stream",
     "text": [
      "At the peak of their career, women have in average reached a score of 525.89.\n",
      "At the peak of their career, men have in average reached a score of 890.59.\n"
     ]
    },
    {
     "data": {
      "text/plain": [
       "Ttest_indResult(statistic=-4.022467941449092, pvalue=6.0723689662790975e-05)"
      ]
     },
     "execution_count": 32,
     "metadata": {},
     "output_type": "execute_result"
    }
   ],
   "source": [
    "women_mean_highest_score = women_highest_score.mean()\n",
    "men_mean_highest_score = men_highest_score.mean()\n",
    "print(\"At the peak of their career, women have in average reached a score of {:.2f}.\".format(women_mean_highest_score))\n",
    "print(\"At the peak of their career, men have in average reached a score of {:.2f}.\".format(men_mean_highest_score))\n",
    "ttest_ind(women_highest_score, men_highest_score)"
   ]
  },
  {
   "cell_type": "markdown",
   "id": "85d9229d",
   "metadata": {},
   "source": [
    "## 3.2 Compute movie features\n",
    "#### Merge actors information for each movie"
   ]
  },
  {
   "cell_type": "code",
   "execution_count": 33,
   "id": "8f1d8548",
   "metadata": {},
   "outputs": [],
   "source": [
    "columns = ['wikipedia_m_ID', 'actor_name', 'actor_gender', 'actor_score']\n",
    "df_temp = df_regression.copy()\n",
    "df_temp['actor_score'] = df_temp['actor_score'].astype(str)\n",
    "df_temp['actor_gender'] = df_temp['actor_gender'].astype(str)\n",
    "df_movies_features = df_temp[columns].groupby('wikipedia_m_ID').agg(\n",
    "    {'actor_name': '$l$'.join, 'actor_gender': '$l$'.join, 'actor_score': '$l$'.join})"
   ]
  },
  {
   "cell_type": "code",
   "execution_count": 34,
   "id": "28645beb",
   "metadata": {},
   "outputs": [
    {
     "data": {
      "text/html": [
       "<div>\n",
       "<style scoped>\n",
       "    .dataframe tbody tr th:only-of-type {\n",
       "        vertical-align: middle;\n",
       "    }\n",
       "\n",
       "    .dataframe tbody tr th {\n",
       "        vertical-align: top;\n",
       "    }\n",
       "\n",
       "    .dataframe thead th {\n",
       "        text-align: right;\n",
       "    }\n",
       "</style>\n",
       "<table border=\"1\" class=\"dataframe\">\n",
       "  <thead>\n",
       "    <tr style=\"text-align: right;\">\n",
       "      <th></th>\n",
       "      <th>actor_name</th>\n",
       "      <th>actor_gender</th>\n",
       "      <th>actor_score</th>\n",
       "    </tr>\n",
       "    <tr>\n",
       "      <th>wikipedia_m_ID</th>\n",
       "      <th></th>\n",
       "      <th></th>\n",
       "      <th></th>\n",
       "    </tr>\n",
       "  </thead>\n",
       "  <tbody>\n",
       "    <tr>\n",
       "      <th>3217</th>\n",
       "      <td>Ted Raimi$l$Ivan Raimi$l$Bruce Campbell$l$Brid...</td>\n",
       "      <td>M$l$M$l$M$l$F$l$F$l$F$l$M$l$M$l$M</td>\n",
       "      <td>0.0$l$0.0$l$0.0$l$0.0$l$0.0$l$0.0$l$0.0$l$0.0$...</td>\n",
       "    </tr>\n",
       "    <tr>\n",
       "      <th>3746</th>\n",
       "      <td>William Sanderson$l$Harrison Ford$l$Rutger Hau...</td>\n",
       "      <td>M$l$M$l$M$l$F$l$F$l$F$l$M$l$M$l$M$l$M$l$M$l$M$l$M</td>\n",
       "      <td>0.0$l$250.0$l$0.0$l$0.0$l$0.0$l$0.0$l$0.0$l$0....</td>\n",
       "    </tr>\n",
       "  </tbody>\n",
       "</table>\n",
       "</div>"
      ],
      "text/plain": [
       "                                                       actor_name  \\\n",
       "wikipedia_m_ID                                                      \n",
       "3217            Ted Raimi$l$Ivan Raimi$l$Bruce Campbell$l$Brid...   \n",
       "3746            William Sanderson$l$Harrison Ford$l$Rutger Hau...   \n",
       "\n",
       "                                                     actor_gender  \\\n",
       "wikipedia_m_ID                                                      \n",
       "3217                            M$l$M$l$M$l$F$l$F$l$F$l$M$l$M$l$M   \n",
       "3746            M$l$M$l$M$l$F$l$F$l$F$l$M$l$M$l$M$l$M$l$M$l$M$l$M   \n",
       "\n",
       "                                                      actor_score  \n",
       "wikipedia_m_ID                                                     \n",
       "3217            0.0$l$0.0$l$0.0$l$0.0$l$0.0$l$0.0$l$0.0$l$0.0$...  \n",
       "3746            0.0$l$250.0$l$0.0$l$0.0$l$0.0$l$0.0$l$0.0$l$0....  "
      ]
     },
     "execution_count": 34,
     "metadata": {},
     "output_type": "execute_result"
    }
   ],
   "source": [
    "df_movies_features.head(2)"
   ]
  },
  {
   "cell_type": "markdown",
   "id": "a3cbc51a",
   "metadata": {},
   "source": [
    "#### Compute the features of each movie"
   ]
  },
  {
   "cell_type": "code",
   "execution_count": 35,
   "id": "2b5d6024",
   "metadata": {},
   "outputs": [],
   "source": [
    "def get_function_of_list_values(row, function, gender_att=None):\n",
    "    \"\"\"\n",
    "    Retrieve the number of movies an actor has starred in before the movie release year of a specific movie\n",
    "\n",
    "    :param row: row of the df movies\n",
    "    :param function: function to apply to the list of scores of each actor\n",
    "    :param gender_att: either 'F', 'M' or None. The function will be either performed on the entire list of scores or\n",
    "                       just a specific gender\n",
    "    :return: The function applied to the list of scores\n",
    "    \"\"\"\n",
    "\n",
    "    list_temp = row['actor_score'].split('$l$')\n",
    "    gender_split = row['actor_gender'].split('$l$')\n",
    "    list_temp = [float(x) for x in list_temp]\n",
    "    if gender_att:\n",
    "        list_split = []\n",
    "        for x, gender in zip(list_temp, gender_split):\n",
    "            if gender == gender_att:\n",
    "                list_split.append(x)\n",
    "    else:\n",
    "        list_split = list_temp\n",
    "    if len(list_split) == 0:\n",
    "        return np.nan\n",
    "    if function == 'max':\n",
    "        return max(list_split)\n",
    "    if function == 'min':\n",
    "        return min(list_split)\n",
    "    if function == 'mean':\n",
    "        return np.mean(list_split)\n",
    "    if function == 'median':\n",
    "        return np.median(list_split)\n",
    "    if function == 'nb_famous_actors' or function == 'nb_actors_already_played':\n",
    "        return np.count_nonzero(list_split)\n",
    "    if function == 'prop_famous_actors' or function == 'prop_nb_movies':\n",
    "        if gender_att:\n",
    "            try:\n",
    "                return (np.count_nonzero(list_split)) / float(len(list_temp))\n",
    "            except:\n",
    "                return 0\n",
    "        else:\n",
    "            return (np.count_nonzero(list_split)) / float(len(list_split))"
   ]
  },
  {
   "cell_type": "code",
   "execution_count": 36,
   "id": "13ea158f",
   "metadata": {},
   "outputs": [],
   "source": [
    "# Operations that will be applied for each casting\n",
    "list_function_score = ['max', 'min', 'mean', 'median', 'nb_famous_actors', 'prop_famous_actors']\n",
    "for f in list_function_score:\n",
    "    df_movies_features['cast_' + f] = df_movies_features.apply(\n",
    "        lambda row: get_function_of_list_values(row, f), axis=1)"
   ]
  },
  {
   "cell_type": "code",
   "execution_count": 37,
   "id": "1c4cb91c",
   "metadata": {},
   "outputs": [
    {
     "data": {
      "text/html": [
       "<div>\n",
       "<style scoped>\n",
       "    .dataframe tbody tr th:only-of-type {\n",
       "        vertical-align: middle;\n",
       "    }\n",
       "\n",
       "    .dataframe tbody tr th {\n",
       "        vertical-align: top;\n",
       "    }\n",
       "\n",
       "    .dataframe thead th {\n",
       "        text-align: right;\n",
       "    }\n",
       "</style>\n",
       "<table border=\"1\" class=\"dataframe\">\n",
       "  <thead>\n",
       "    <tr style=\"text-align: right;\">\n",
       "      <th></th>\n",
       "      <th>actor_name</th>\n",
       "      <th>actor_gender</th>\n",
       "      <th>actor_score</th>\n",
       "      <th>cast_max</th>\n",
       "      <th>cast_min</th>\n",
       "      <th>cast_mean</th>\n",
       "      <th>cast_median</th>\n",
       "      <th>cast_nb_famous_actors</th>\n",
       "      <th>cast_prop_famous_actors</th>\n",
       "      <th>M_max</th>\n",
       "      <th>...</th>\n",
       "      <th>M_mean</th>\n",
       "      <th>M_median</th>\n",
       "      <th>M_nb_famous_actors</th>\n",
       "      <th>M_prop_famous_actors</th>\n",
       "      <th>F_max</th>\n",
       "      <th>F_min</th>\n",
       "      <th>F_mean</th>\n",
       "      <th>F_median</th>\n",
       "      <th>F_nb_famous_actors</th>\n",
       "      <th>F_prop_famous_actors</th>\n",
       "    </tr>\n",
       "    <tr>\n",
       "      <th>wikipedia_m_ID</th>\n",
       "      <th></th>\n",
       "      <th></th>\n",
       "      <th></th>\n",
       "      <th></th>\n",
       "      <th></th>\n",
       "      <th></th>\n",
       "      <th></th>\n",
       "      <th></th>\n",
       "      <th></th>\n",
       "      <th></th>\n",
       "      <th></th>\n",
       "      <th></th>\n",
       "      <th></th>\n",
       "      <th></th>\n",
       "      <th></th>\n",
       "      <th></th>\n",
       "      <th></th>\n",
       "      <th></th>\n",
       "      <th></th>\n",
       "      <th></th>\n",
       "      <th></th>\n",
       "    </tr>\n",
       "  </thead>\n",
       "  <tbody>\n",
       "    <tr>\n",
       "      <th>3217</th>\n",
       "      <td>Ted Raimi$l$Ivan Raimi$l$Bruce Campbell$l$Brid...</td>\n",
       "      <td>M$l$M$l$M$l$F$l$F$l$F$l$M$l$M$l$M</td>\n",
       "      <td>0.0$l$0.0$l$0.0$l$0.0$l$0.0$l$0.0$l$0.0$l$0.0$...</td>\n",
       "      <td>0.0</td>\n",
       "      <td>0.0</td>\n",
       "      <td>0.000000</td>\n",
       "      <td>0.0</td>\n",
       "      <td>0</td>\n",
       "      <td>0.000000</td>\n",
       "      <td>0.0</td>\n",
       "      <td>...</td>\n",
       "      <td>0.0</td>\n",
       "      <td>0.0</td>\n",
       "      <td>0.0</td>\n",
       "      <td>0.000000</td>\n",
       "      <td>0.0</td>\n",
       "      <td>0.0</td>\n",
       "      <td>0.0</td>\n",
       "      <td>0.0</td>\n",
       "      <td>0.0</td>\n",
       "      <td>0.0</td>\n",
       "    </tr>\n",
       "    <tr>\n",
       "      <th>3746</th>\n",
       "      <td>William Sanderson$l$Harrison Ford$l$Rutger Hau...</td>\n",
       "      <td>M$l$M$l$M$l$F$l$F$l$F$l$M$l$M$l$M$l$M$l$M$l$M$l$M</td>\n",
       "      <td>0.0$l$250.0$l$0.0$l$0.0$l$0.0$l$0.0$l$0.0$l$0....</td>\n",
       "      <td>250.0</td>\n",
       "      <td>0.0</td>\n",
       "      <td>19.230769</td>\n",
       "      <td>0.0</td>\n",
       "      <td>1</td>\n",
       "      <td>0.076923</td>\n",
       "      <td>250.0</td>\n",
       "      <td>...</td>\n",
       "      <td>25.0</td>\n",
       "      <td>0.0</td>\n",
       "      <td>1.0</td>\n",
       "      <td>0.076923</td>\n",
       "      <td>0.0</td>\n",
       "      <td>0.0</td>\n",
       "      <td>0.0</td>\n",
       "      <td>0.0</td>\n",
       "      <td>0.0</td>\n",
       "      <td>0.0</td>\n",
       "    </tr>\n",
       "  </tbody>\n",
       "</table>\n",
       "<p>2 rows × 21 columns</p>\n",
       "</div>"
      ],
      "text/plain": [
       "                                                       actor_name  \\\n",
       "wikipedia_m_ID                                                      \n",
       "3217            Ted Raimi$l$Ivan Raimi$l$Bruce Campbell$l$Brid...   \n",
       "3746            William Sanderson$l$Harrison Ford$l$Rutger Hau...   \n",
       "\n",
       "                                                     actor_gender  \\\n",
       "wikipedia_m_ID                                                      \n",
       "3217                            M$l$M$l$M$l$F$l$F$l$F$l$M$l$M$l$M   \n",
       "3746            M$l$M$l$M$l$F$l$F$l$F$l$M$l$M$l$M$l$M$l$M$l$M$l$M   \n",
       "\n",
       "                                                      actor_score  cast_max  \\\n",
       "wikipedia_m_ID                                                                \n",
       "3217            0.0$l$0.0$l$0.0$l$0.0$l$0.0$l$0.0$l$0.0$l$0.0$...       0.0   \n",
       "3746            0.0$l$250.0$l$0.0$l$0.0$l$0.0$l$0.0$l$0.0$l$0....     250.0   \n",
       "\n",
       "                cast_min  cast_mean  cast_median  cast_nb_famous_actors  \\\n",
       "wikipedia_m_ID                                                            \n",
       "3217                 0.0   0.000000          0.0                      0   \n",
       "3746                 0.0  19.230769          0.0                      1   \n",
       "\n",
       "                cast_prop_famous_actors  M_max  ...  M_mean  M_median  \\\n",
       "wikipedia_m_ID                                  ...                     \n",
       "3217                           0.000000    0.0  ...     0.0       0.0   \n",
       "3746                           0.076923  250.0  ...    25.0       0.0   \n",
       "\n",
       "                M_nb_famous_actors  M_prop_famous_actors  F_max  F_min  \\\n",
       "wikipedia_m_ID                                                           \n",
       "3217                           0.0              0.000000    0.0    0.0   \n",
       "3746                           1.0              0.076923    0.0    0.0   \n",
       "\n",
       "                F_mean  F_median  F_nb_famous_actors  F_prop_famous_actors  \n",
       "wikipedia_m_ID                                                              \n",
       "3217               0.0       0.0                 0.0                   0.0  \n",
       "3746               0.0       0.0                 0.0                   0.0  \n",
       "\n",
       "[2 rows x 21 columns]"
      ]
     },
     "execution_count": 37,
     "metadata": {},
     "output_type": "execute_result"
    }
   ],
   "source": [
    "gender_list = ['M', 'F']\n",
    "for gender in gender_list:\n",
    "    for f in list_function_score:\n",
    "        df_movies_features[gender + '_' + f] = df_movies_features.apply(\n",
    "            lambda row: get_function_of_list_values(row, f, gender_att=gender), axis=1)\n",
    "        \n",
    "df_movies_features.head(2)"
   ]
  },
  {
   "cell_type": "markdown",
   "id": "6f9ee06d",
   "metadata": {},
   "source": [
    "## 3.3 Compute actor story\n",
    "#### Merge each actor movie with the corresponding movie features\n",
    "When having played several movies in the same year, the movie features are grouped using the average"
   ]
  },
  {
   "cell_type": "code",
   "execution_count": 38,
   "id": "5d2376e3",
   "metadata": {},
   "outputs": [],
   "source": [
    "list_columns = ['cast_' + x for x in list_function_score] + ['F_' + x for x in list_function_score] + ['M_' + x for x in\n",
    "                                                                                                       list_function_score]"
   ]
  },
  {
   "cell_type": "code",
   "execution_count": 39,
   "id": "2e940de3",
   "metadata": {},
   "outputs": [
    {
     "data": {
      "text/html": [
       "<div>\n",
       "<style scoped>\n",
       "    .dataframe tbody tr th:only-of-type {\n",
       "        vertical-align: middle;\n",
       "    }\n",
       "\n",
       "    .dataframe tbody tr th {\n",
       "        vertical-align: top;\n",
       "    }\n",
       "\n",
       "    .dataframe thead th {\n",
       "        text-align: right;\n",
       "    }\n",
       "</style>\n",
       "<table border=\"1\" class=\"dataframe\">\n",
       "  <thead>\n",
       "    <tr style=\"text-align: right;\">\n",
       "      <th></th>\n",
       "      <th>actor_name</th>\n",
       "      <th>m_release_year</th>\n",
       "      <th>wikipedia_m_ID</th>\n",
       "      <th>actor_age</th>\n",
       "      <th>min_year</th>\n",
       "      <th>min_year_score</th>\n",
       "      <th>min_year_starring</th>\n",
       "      <th>is_revealed</th>\n",
       "      <th>already_revealed</th>\n",
       "      <th>actor_gender_cat</th>\n",
       "      <th>...</th>\n",
       "      <th>F_mean</th>\n",
       "      <th>F_median</th>\n",
       "      <th>F_nb_famous_actors</th>\n",
       "      <th>F_prop_famous_actors</th>\n",
       "      <th>M_max</th>\n",
       "      <th>M_min</th>\n",
       "      <th>M_mean</th>\n",
       "      <th>M_median</th>\n",
       "      <th>M_nb_famous_actors</th>\n",
       "      <th>M_prop_famous_actors</th>\n",
       "    </tr>\n",
       "  </thead>\n",
       "  <tbody>\n",
       "    <tr>\n",
       "      <th>0</th>\n",
       "      <td>Daniel Newman</td>\n",
       "      <td>1998</td>\n",
       "      <td>20116200.0</td>\n",
       "      <td>22.0</td>\n",
       "      <td>NaN</td>\n",
       "      <td>NaN</td>\n",
       "      <td>1998.0</td>\n",
       "      <td>0.0</td>\n",
       "      <td>0.0</td>\n",
       "      <td>0.0</td>\n",
       "      <td>...</td>\n",
       "      <td>0.0</td>\n",
       "      <td>0.0</td>\n",
       "      <td>0.0</td>\n",
       "      <td>0.0</td>\n",
       "      <td>136.666667</td>\n",
       "      <td>0.0</td>\n",
       "      <td>19.523810</td>\n",
       "      <td>0.0</td>\n",
       "      <td>1.0</td>\n",
       "      <td>0.111111</td>\n",
       "    </tr>\n",
       "    <tr>\n",
       "      <th>1</th>\n",
       "      <td>2 Tuff Tony</td>\n",
       "      <td>2010</td>\n",
       "      <td>11901968.0</td>\n",
       "      <td>35.0</td>\n",
       "      <td>NaN</td>\n",
       "      <td>NaN</td>\n",
       "      <td>2010.0</td>\n",
       "      <td>0.0</td>\n",
       "      <td>0.0</td>\n",
       "      <td>0.0</td>\n",
       "      <td>...</td>\n",
       "      <td>0.0</td>\n",
       "      <td>0.0</td>\n",
       "      <td>0.0</td>\n",
       "      <td>0.0</td>\n",
       "      <td>189.025641</td>\n",
       "      <td>0.0</td>\n",
       "      <td>14.452769</td>\n",
       "      <td>0.0</td>\n",
       "      <td>2.0</td>\n",
       "      <td>0.133333</td>\n",
       "    </tr>\n",
       "    <tr>\n",
       "      <th>2</th>\n",
       "      <td>40 Glocc</td>\n",
       "      <td>2009</td>\n",
       "      <td>21029252.0</td>\n",
       "      <td>29.0</td>\n",
       "      <td>NaN</td>\n",
       "      <td>NaN</td>\n",
       "      <td>2009.0</td>\n",
       "      <td>0.0</td>\n",
       "      <td>0.0</td>\n",
       "      <td>0.0</td>\n",
       "      <td>...</td>\n",
       "      <td>0.0</td>\n",
       "      <td>0.0</td>\n",
       "      <td>0.0</td>\n",
       "      <td>0.0</td>\n",
       "      <td>0.000000</td>\n",
       "      <td>0.0</td>\n",
       "      <td>0.000000</td>\n",
       "      <td>0.0</td>\n",
       "      <td>0.0</td>\n",
       "      <td>0.000000</td>\n",
       "    </tr>\n",
       "  </tbody>\n",
       "</table>\n",
       "<p>3 rows × 35 columns</p>\n",
       "</div>"
      ],
      "text/plain": [
       "       actor_name  m_release_year  wikipedia_m_ID  actor_age  min_year  \\\n",
       "0   Daniel Newman            1998      20116200.0       22.0       NaN   \n",
       "1     2 Tuff Tony            2010      11901968.0       35.0       NaN   \n",
       "2        40 Glocc            2009      21029252.0       29.0       NaN   \n",
       "\n",
       "   min_year_score  min_year_starring  is_revealed  already_revealed  \\\n",
       "0             NaN             1998.0          0.0               0.0   \n",
       "1             NaN             2010.0          0.0               0.0   \n",
       "2             NaN             2009.0          0.0               0.0   \n",
       "\n",
       "   actor_gender_cat  ...  F_mean  F_median  F_nb_famous_actors  \\\n",
       "0               0.0  ...     0.0       0.0                 0.0   \n",
       "1               0.0  ...     0.0       0.0                 0.0   \n",
       "2               0.0  ...     0.0       0.0                 0.0   \n",
       "\n",
       "   F_prop_famous_actors       M_max  M_min     M_mean  M_median  \\\n",
       "0                   0.0  136.666667    0.0  19.523810       0.0   \n",
       "1                   0.0  189.025641    0.0  14.452769       0.0   \n",
       "2                   0.0    0.000000    0.0   0.000000       0.0   \n",
       "\n",
       "   M_nb_famous_actors  M_prop_famous_actors  \n",
       "0                 1.0              0.111111  \n",
       "1                 2.0              0.133333  \n",
       "2                 0.0              0.000000  \n",
       "\n",
       "[3 rows x 35 columns]"
      ]
     },
     "execution_count": 39,
     "metadata": {},
     "output_type": "execute_result"
    }
   ],
   "source": [
    "df_regression_merged = df_regression.merge(df_movies_features[list_columns], left_on='wikipedia_m_ID', right_index=True,\n",
    "                                           how='left').copy()\n",
    "\n",
    "df_regression_merged = df_regression_merged.groupby(['actor_name', 'm_release_year']).mean().reset_index()\n",
    "df_regression_merged.head(3)"
   ]
  },
  {
   "cell_type": "markdown",
   "id": "f473b100",
   "metadata": {},
   "source": [
    "#### Mapping past of actor\n",
    "\n",
    "The previous features of movie the actor has starred in in the past three years are merged to each actor movie."
   ]
  },
  {
   "cell_type": "code",
   "execution_count": 40,
   "id": "db5fb75e",
   "metadata": {},
   "outputs": [],
   "source": [
    "aggregation = {\"cast_max\": \"max\", \"cast_mean\": \"mean\", \"cast_prop_famous_actors\": \"mean\",\n",
    "               \"cast_prop_famous_actors\": \"max\", \"cast_nb_famous_actors\": \"max\"}\n",
    "map_past_of_actor = df_regression_merged.groupby(['actor_name', 'm_release_year']).agg(aggregation).reset_index()"
   ]
  },
  {
   "cell_type": "code",
   "execution_count": 41,
   "id": "6b6056c7",
   "metadata": {},
   "outputs": [],
   "source": [
    "year = range(1982, 2013)\n",
    "list_past_actors_per_year = pd.DataFrame()\n",
    "for y in year:\n",
    "    filter_conditions = (\n",
    "            (map_past_of_actor['m_release_year'] >= y - 3) &\n",
    "            (map_past_of_actor['m_release_year'] <= y)\n",
    "    )\n",
    "    list_past_actors = map_past_of_actor.loc[filter_conditions].copy()\n",
    "    list_past_actors = list_past_actors.groupby('actor_name').agg(aggregation)\n",
    "    previous_col = list_past_actors.columns\n",
    "    list_past_actors.columns = ['previous_' + c for c in previous_col]\n",
    "    list_past_actors['m_release_year'] = list_past_actors.apply(lambda row: y, axis=1)\n",
    "    list_past_actors_per_year = pd.concat([list_past_actors_per_year, list_past_actors])\n",
    "\n",
    "list_past_actors_per_year.reset_index(inplace=True)"
   ]
  },
  {
   "cell_type": "code",
   "execution_count": 42,
   "id": "5c0c0370",
   "metadata": {},
   "outputs": [
    {
     "data": {
      "text/html": [
       "<div>\n",
       "<style scoped>\n",
       "    .dataframe tbody tr th:only-of-type {\n",
       "        vertical-align: middle;\n",
       "    }\n",
       "\n",
       "    .dataframe tbody tr th {\n",
       "        vertical-align: top;\n",
       "    }\n",
       "\n",
       "    .dataframe thead th {\n",
       "        text-align: right;\n",
       "    }\n",
       "</style>\n",
       "<table border=\"1\" class=\"dataframe\">\n",
       "  <thead>\n",
       "    <tr style=\"text-align: right;\">\n",
       "      <th></th>\n",
       "      <th>actor_name</th>\n",
       "      <th>m_release_year</th>\n",
       "      <th>wikipedia_m_ID</th>\n",
       "      <th>actor_age</th>\n",
       "      <th>min_year</th>\n",
       "      <th>min_year_score</th>\n",
       "      <th>min_year_starring</th>\n",
       "      <th>is_revealed</th>\n",
       "      <th>already_revealed</th>\n",
       "      <th>actor_gender_cat</th>\n",
       "      <th>...</th>\n",
       "      <th>M_max</th>\n",
       "      <th>M_min</th>\n",
       "      <th>M_mean</th>\n",
       "      <th>M_median</th>\n",
       "      <th>M_nb_famous_actors</th>\n",
       "      <th>M_prop_famous_actors</th>\n",
       "      <th>previous_cast_max</th>\n",
       "      <th>previous_cast_mean</th>\n",
       "      <th>previous_cast_prop_famous_actors</th>\n",
       "      <th>previous_cast_nb_famous_actors</th>\n",
       "    </tr>\n",
       "  </thead>\n",
       "  <tbody>\n",
       "    <tr>\n",
       "      <th>0</th>\n",
       "      <td>Daniel Newman</td>\n",
       "      <td>1998</td>\n",
       "      <td>20116200.0</td>\n",
       "      <td>22.0</td>\n",
       "      <td>NaN</td>\n",
       "      <td>NaN</td>\n",
       "      <td>1998.0</td>\n",
       "      <td>0.0</td>\n",
       "      <td>0.0</td>\n",
       "      <td>0.0</td>\n",
       "      <td>...</td>\n",
       "      <td>136.666667</td>\n",
       "      <td>0.0</td>\n",
       "      <td>19.523810</td>\n",
       "      <td>0.0</td>\n",
       "      <td>1.0</td>\n",
       "      <td>0.111111</td>\n",
       "      <td>136.666667</td>\n",
       "      <td>15.185185</td>\n",
       "      <td>0.111111</td>\n",
       "      <td>1.0</td>\n",
       "    </tr>\n",
       "    <tr>\n",
       "      <th>1</th>\n",
       "      <td>2 Tuff Tony</td>\n",
       "      <td>2010</td>\n",
       "      <td>11901968.0</td>\n",
       "      <td>35.0</td>\n",
       "      <td>NaN</td>\n",
       "      <td>NaN</td>\n",
       "      <td>2010.0</td>\n",
       "      <td>0.0</td>\n",
       "      <td>0.0</td>\n",
       "      <td>0.0</td>\n",
       "      <td>...</td>\n",
       "      <td>189.025641</td>\n",
       "      <td>0.0</td>\n",
       "      <td>14.452769</td>\n",
       "      <td>0.0</td>\n",
       "      <td>2.0</td>\n",
       "      <td>0.133333</td>\n",
       "      <td>189.025641</td>\n",
       "      <td>13.489251</td>\n",
       "      <td>0.133333</td>\n",
       "      <td>2.0</td>\n",
       "    </tr>\n",
       "  </tbody>\n",
       "</table>\n",
       "<p>2 rows × 39 columns</p>\n",
       "</div>"
      ],
      "text/plain": [
       "       actor_name  m_release_year  wikipedia_m_ID  actor_age  min_year  \\\n",
       "0   Daniel Newman            1998      20116200.0       22.0       NaN   \n",
       "1     2 Tuff Tony            2010      11901968.0       35.0       NaN   \n",
       "\n",
       "   min_year_score  min_year_starring  is_revealed  already_revealed  \\\n",
       "0             NaN             1998.0          0.0               0.0   \n",
       "1             NaN             2010.0          0.0               0.0   \n",
       "\n",
       "   actor_gender_cat  ...       M_max  M_min     M_mean  M_median  \\\n",
       "0               0.0  ...  136.666667    0.0  19.523810       0.0   \n",
       "1               0.0  ...  189.025641    0.0  14.452769       0.0   \n",
       "\n",
       "   M_nb_famous_actors  M_prop_famous_actors  previous_cast_max  \\\n",
       "0                 1.0              0.111111         136.666667   \n",
       "1                 2.0              0.133333         189.025641   \n",
       "\n",
       "   previous_cast_mean  previous_cast_prop_famous_actors  \\\n",
       "0           15.185185                          0.111111   \n",
       "1           13.489251                          0.133333   \n",
       "\n",
       "   previous_cast_nb_famous_actors  \n",
       "0                             1.0  \n",
       "1                             2.0  \n",
       "\n",
       "[2 rows x 39 columns]"
      ]
     },
     "execution_count": 42,
     "metadata": {},
     "output_type": "execute_result"
    }
   ],
   "source": [
    "df_regression_merged = df_regression_merged.merge(list_past_actors_per_year, on=['actor_name', 'm_release_year'], how='left')\n",
    "df_regression_merged.head(2)"
   ]
  },
  {
   "cell_type": "markdown",
   "id": "0290fa38",
   "metadata": {},
   "source": [
    "#### Filter out actors when movie released date was after his·her revelation\n",
    "\n",
    "As the focus is on the conditions for an actor to be releaved, the rows corresponding to actors who are already revealed are dropped."
   ]
  },
  {
   "cell_type": "code",
   "execution_count": 43,
   "id": "33ff07bd",
   "metadata": {},
   "outputs": [
    {
     "data": {
      "text/html": [
       "<div>\n",
       "<style scoped>\n",
       "    .dataframe tbody tr th:only-of-type {\n",
       "        vertical-align: middle;\n",
       "    }\n",
       "\n",
       "    .dataframe tbody tr th {\n",
       "        vertical-align: top;\n",
       "    }\n",
       "\n",
       "    .dataframe thead th {\n",
       "        text-align: right;\n",
       "    }\n",
       "</style>\n",
       "<table border=\"1\" class=\"dataframe\">\n",
       "  <thead>\n",
       "    <tr style=\"text-align: right;\">\n",
       "      <th></th>\n",
       "      <th>actor_name</th>\n",
       "      <th>m_release_year</th>\n",
       "      <th>wikipedia_m_ID</th>\n",
       "      <th>actor_age</th>\n",
       "      <th>min_year</th>\n",
       "      <th>min_year_score</th>\n",
       "      <th>min_year_starring</th>\n",
       "      <th>is_revealed</th>\n",
       "      <th>already_revealed</th>\n",
       "      <th>actor_gender_cat</th>\n",
       "      <th>...</th>\n",
       "      <th>M_max</th>\n",
       "      <th>M_min</th>\n",
       "      <th>M_mean</th>\n",
       "      <th>M_median</th>\n",
       "      <th>M_nb_famous_actors</th>\n",
       "      <th>M_prop_famous_actors</th>\n",
       "      <th>previous_cast_max</th>\n",
       "      <th>previous_cast_mean</th>\n",
       "      <th>previous_cast_prop_famous_actors</th>\n",
       "      <th>previous_cast_nb_famous_actors</th>\n",
       "    </tr>\n",
       "  </thead>\n",
       "  <tbody>\n",
       "    <tr>\n",
       "      <th>0</th>\n",
       "      <td>Daniel Newman</td>\n",
       "      <td>1998</td>\n",
       "      <td>20116200.0</td>\n",
       "      <td>22.0</td>\n",
       "      <td>NaN</td>\n",
       "      <td>NaN</td>\n",
       "      <td>1998.0</td>\n",
       "      <td>0.0</td>\n",
       "      <td>0.0</td>\n",
       "      <td>0.0</td>\n",
       "      <td>...</td>\n",
       "      <td>136.666667</td>\n",
       "      <td>0.0</td>\n",
       "      <td>19.523810</td>\n",
       "      <td>0.0</td>\n",
       "      <td>1.0</td>\n",
       "      <td>0.111111</td>\n",
       "      <td>136.666667</td>\n",
       "      <td>15.185185</td>\n",
       "      <td>0.111111</td>\n",
       "      <td>1.0</td>\n",
       "    </tr>\n",
       "    <tr>\n",
       "      <th>1</th>\n",
       "      <td>2 Tuff Tony</td>\n",
       "      <td>2010</td>\n",
       "      <td>11901968.0</td>\n",
       "      <td>35.0</td>\n",
       "      <td>NaN</td>\n",
       "      <td>NaN</td>\n",
       "      <td>2010.0</td>\n",
       "      <td>0.0</td>\n",
       "      <td>0.0</td>\n",
       "      <td>0.0</td>\n",
       "      <td>...</td>\n",
       "      <td>189.025641</td>\n",
       "      <td>0.0</td>\n",
       "      <td>14.452769</td>\n",
       "      <td>0.0</td>\n",
       "      <td>2.0</td>\n",
       "      <td>0.133333</td>\n",
       "      <td>189.025641</td>\n",
       "      <td>13.489251</td>\n",
       "      <td>0.133333</td>\n",
       "      <td>2.0</td>\n",
       "    </tr>\n",
       "  </tbody>\n",
       "</table>\n",
       "<p>2 rows × 39 columns</p>\n",
       "</div>"
      ],
      "text/plain": [
       "       actor_name  m_release_year  wikipedia_m_ID  actor_age  min_year  \\\n",
       "0   Daniel Newman            1998      20116200.0       22.0       NaN   \n",
       "1     2 Tuff Tony            2010      11901968.0       35.0       NaN   \n",
       "\n",
       "   min_year_score  min_year_starring  is_revealed  already_revealed  \\\n",
       "0             NaN             1998.0          0.0               0.0   \n",
       "1             NaN             2010.0          0.0               0.0   \n",
       "\n",
       "   actor_gender_cat  ...       M_max  M_min     M_mean  M_median  \\\n",
       "0               0.0  ...  136.666667    0.0  19.523810       0.0   \n",
       "1               0.0  ...  189.025641    0.0  14.452769       0.0   \n",
       "\n",
       "   M_nb_famous_actors  M_prop_famous_actors  previous_cast_max  \\\n",
       "0                 1.0              0.111111         136.666667   \n",
       "1                 2.0              0.133333         189.025641   \n",
       "\n",
       "   previous_cast_mean  previous_cast_prop_famous_actors  \\\n",
       "0           15.185185                          0.111111   \n",
       "1           13.489251                          0.133333   \n",
       "\n",
       "   previous_cast_nb_famous_actors  \n",
       "0                             1.0  \n",
       "1                             2.0  \n",
       "\n",
       "[2 rows x 39 columns]"
      ]
     },
     "execution_count": 43,
     "metadata": {},
     "output_type": "execute_result"
    }
   ],
   "source": [
    "filter_conditions = (\n",
    "    (df_regression_merged['already_revealed'] == 0)\n",
    "\n",
    ")\n",
    "df_final = df_regression_merged.loc[filter_conditions].copy()\n",
    "df_final.head(2)"
   ]
  },
  {
   "cell_type": "markdown",
   "id": "a9d4509c",
   "metadata": {},
   "source": [
    "#### Quick analysis of the number of movies an actor has starred in before being revealed"
   ]
  },
  {
   "cell_type": "code",
   "execution_count": 44,
   "id": "f5cf158d",
   "metadata": {},
   "outputs": [
    {
     "data": {
      "text/plain": [
       "<AxesSubplot:xlabel='nb_movies_before_this_movie', ylabel='Count'>"
      ]
     },
     "execution_count": 44,
     "metadata": {},
     "output_type": "execute_result"
    },
    {
     "data": {
      "image/png": "[encoded data removed]",
      "text/plain": [
       "<Figure size 432x288 with 1 Axes>"
      ]
     },
     "metadata": {
      "needs_background": "light"
     },
     "output_type": "display_data"
    }
   ],
   "source": [
    "sns.histplot(data=df_final[df_final['is_revealed'] == 1], x='nb_movies_before_this_movie')"
   ]
  },
  {
   "cell_type": "code",
   "execution_count": 45,
   "id": "3dc7cf19",
   "metadata": {},
   "outputs": [
    {
     "data": {
      "text/plain": [
       "<AxesSubplot:>"
      ]
     },
     "execution_count": 45,
     "metadata": {},
     "output_type": "execute_result"
    },
    {
     "data": {
      "image/png": "[encoded data removed]",
      "text/plain": [
       "<Figure size 432x288 with 1 Axes>"
      ]
     },
     "metadata": {
      "needs_background": "light"
     },
     "output_type": "display_data"
    }
   ],
   "source": [
    "df_final.loc[(df_final['is_revealed'] == 1) & (df_final['nb_movies_before_this_movie'] == 0)]['m_release_year'].hist(\n",
    "    bins=32)"
   ]
  },
  {
   "cell_type": "markdown",
   "id": "04e97eec",
   "metadata": {},
   "source": [
    "## 3.4 Actor revelation quick view\n",
    "Each row represents a configuration, i.e. the past of an actor as well as the features of the movie he·she was revealed with."
   ]
  },
  {
   "cell_type": "code",
   "execution_count": 46,
   "id": "cd8bdf96",
   "metadata": {},
   "outputs": [
    {
     "name": "stdout",
     "output_type": "stream",
     "text": [
      "76643 configurations will be compared, mapping configurations of 24628 actors.\n"
     ]
    }
   ],
   "source": [
    "nb_configurations = df_final['actor_name'].count()\n",
    "nb_actors = df_final['actor_name'].nunique()\n",
    "print(\"{} configurations will be compared, mapping configurations of {} actors.\".format(nb_configurations, nb_actors))\n",
    "# Those configurations represent the situation of an actor and its output (is revealed or not)."
   ]
  },
  {
   "cell_type": "code",
   "execution_count": 47,
   "id": "51ac7105",
   "metadata": {},
   "outputs": [
    {
     "name": "stdout",
     "output_type": "stream",
     "text": [
      "Among those configurations, 1492.0 of them lead to the revelation of the actor, which represents 1.95% of the configurations.\n"
     ]
    }
   ],
   "source": [
    "nb_configurations_revelation = df_final['is_revealed'].sum()\n",
    "print(\n",
    "    \"Among those configurations, {} of them lead to the revelation of the actor, which represents {:.2f}% of the configurations.\".format(\n",
    "        nb_configurations_revelation, nb_configurations_revelation * 100 / nb_configurations))"
   ]
  },
  {
   "cell_type": "markdown",
   "id": "a145c2b2",
   "metadata": {},
   "source": [
    "## 3.5 Average per past feature and revelation movie feature"
   ]
  },
  {
   "cell_type": "code",
   "execution_count": 48,
   "id": "a63e9c2a",
   "metadata": {},
   "outputs": [
    {
     "data": {
      "text/html": [
       "<div>\n",
       "<style scoped>\n",
       "    .dataframe tbody tr th:only-of-type {\n",
       "        vertical-align: middle;\n",
       "    }\n",
       "\n",
       "    .dataframe tbody tr th {\n",
       "        vertical-align: top;\n",
       "    }\n",
       "\n",
       "    .dataframe thead th {\n",
       "        text-align: right;\n",
       "    }\n",
       "</style>\n",
       "<table border=\"1\" class=\"dataframe\">\n",
       "  <thead>\n",
       "    <tr style=\"text-align: right;\">\n",
       "      <th></th>\n",
       "      <th>m_release_year</th>\n",
       "      <th>wikipedia_m_ID</th>\n",
       "      <th>actor_age</th>\n",
       "      <th>min_year</th>\n",
       "      <th>min_year_score</th>\n",
       "      <th>min_year_starring</th>\n",
       "      <th>already_revealed</th>\n",
       "      <th>actor_gender_cat</th>\n",
       "      <th>nb_actors</th>\n",
       "      <th>nb_movies_before_this_movie</th>\n",
       "      <th>...</th>\n",
       "      <th>M_max</th>\n",
       "      <th>M_min</th>\n",
       "      <th>M_mean</th>\n",
       "      <th>M_median</th>\n",
       "      <th>M_nb_famous_actors</th>\n",
       "      <th>M_prop_famous_actors</th>\n",
       "      <th>previous_cast_max</th>\n",
       "      <th>previous_cast_mean</th>\n",
       "      <th>previous_cast_prop_famous_actors</th>\n",
       "      <th>previous_cast_nb_famous_actors</th>\n",
       "    </tr>\n",
       "    <tr>\n",
       "      <th>is_revealed</th>\n",
       "      <th></th>\n",
       "      <th></th>\n",
       "      <th></th>\n",
       "      <th></th>\n",
       "      <th></th>\n",
       "      <th></th>\n",
       "      <th></th>\n",
       "      <th></th>\n",
       "      <th></th>\n",
       "      <th></th>\n",
       "      <th></th>\n",
       "      <th></th>\n",
       "      <th></th>\n",
       "      <th></th>\n",
       "      <th></th>\n",
       "      <th></th>\n",
       "      <th></th>\n",
       "      <th></th>\n",
       "      <th></th>\n",
       "      <th></th>\n",
       "      <th></th>\n",
       "    </tr>\n",
       "  </thead>\n",
       "  <tbody>\n",
       "    <tr>\n",
       "      <th>0.0</th>\n",
       "      <td>1999.204522</td>\n",
       "      <td>1.025827e+07</td>\n",
       "      <td>38.713449</td>\n",
       "      <td>1789.577317</td>\n",
       "      <td>46.775554</td>\n",
       "      <td>1989.36927</td>\n",
       "      <td>0.0</td>\n",
       "      <td>0.341952</td>\n",
       "      <td>11.023397</td>\n",
       "      <td>5.616293</td>\n",
       "      <td>...</td>\n",
       "      <td>605.060644</td>\n",
       "      <td>-6.998647</td>\n",
       "      <td>80.423525</td>\n",
       "      <td>3.290879</td>\n",
       "      <td>1.133796</td>\n",
       "      <td>0.090112</td>\n",
       "      <td>1085.356094</td>\n",
       "      <td>66.196873</td>\n",
       "      <td>0.175462</td>\n",
       "      <td>2.233364</td>\n",
       "    </tr>\n",
       "    <tr>\n",
       "      <th>1.0</th>\n",
       "      <td>1998.049598</td>\n",
       "      <td>7.224766e+06</td>\n",
       "      <td>31.714711</td>\n",
       "      <td>1998.049598</td>\n",
       "      <td>57.553619</td>\n",
       "      <td>1989.83311</td>\n",
       "      <td>0.0</td>\n",
       "      <td>0.380027</td>\n",
       "      <td>13.375597</td>\n",
       "      <td>7.127346</td>\n",
       "      <td>...</td>\n",
       "      <td>1071.751888</td>\n",
       "      <td>-2.101120</td>\n",
       "      <td>140.960263</td>\n",
       "      <td>7.427677</td>\n",
       "      <td>1.713647</td>\n",
       "      <td>0.121838</td>\n",
       "      <td>1789.945184</td>\n",
       "      <td>98.703881</td>\n",
       "      <td>0.226658</td>\n",
       "      <td>3.184697</td>\n",
       "    </tr>\n",
       "  </tbody>\n",
       "</table>\n",
       "<p>2 rows × 37 columns</p>\n",
       "</div>"
      ],
      "text/plain": [
       "             m_release_year  wikipedia_m_ID  actor_age     min_year  \\\n",
       "is_revealed                                                           \n",
       "0.0             1999.204522    1.025827e+07  38.713449  1789.577317   \n",
       "1.0             1998.049598    7.224766e+06  31.714711  1998.049598   \n",
       "\n",
       "             min_year_score  min_year_starring  already_revealed  \\\n",
       "is_revealed                                                        \n",
       "0.0               46.775554         1989.36927               0.0   \n",
       "1.0               57.553619         1989.83311               0.0   \n",
       "\n",
       "             actor_gender_cat  nb_actors  nb_movies_before_this_movie  ...  \\\n",
       "is_revealed                                                            ...   \n",
       "0.0                  0.341952  11.023397                     5.616293  ...   \n",
       "1.0                  0.380027  13.375597                     7.127346  ...   \n",
       "\n",
       "                   M_max     M_min      M_mean  M_median  M_nb_famous_actors  \\\n",
       "is_revealed                                                                    \n",
       "0.0           605.060644 -6.998647   80.423525  3.290879            1.133796   \n",
       "1.0          1071.751888 -2.101120  140.960263  7.427677            1.713647   \n",
       "\n",
       "             M_prop_famous_actors  previous_cast_max  previous_cast_mean  \\\n",
       "is_revealed                                                                \n",
       "0.0                      0.090112        1085.356094           66.196873   \n",
       "1.0                      0.121838        1789.945184           98.703881   \n",
       "\n",
       "             previous_cast_prop_famous_actors  previous_cast_nb_famous_actors  \n",
       "is_revealed                                                                    \n",
       "0.0                                  0.175462                        2.233364  \n",
       "1.0                                  0.226658                        3.184697  \n",
       "\n",
       "[2 rows x 37 columns]"
      ]
     },
     "execution_count": 48,
     "metadata": {},
     "output_type": "execute_result"
    }
   ],
   "source": [
    "df_final.groupby('is_revealed').mean()"
   ]
  },
  {
   "cell_type": "code",
   "execution_count": 49,
   "id": "9fa614c2",
   "metadata": {},
   "outputs": [
    {
     "data": {
      "text/plain": [
       "<AxesSubplot:xlabel='is_revealed', ylabel='cast_prop_famous_actors'>"
      ]
     },
     "execution_count": 49,
     "metadata": {},
     "output_type": "execute_result"
    },
    {
     "data": {
      "image/png": "[encoded data removed]",
      "text/plain": [
       "<Figure size 432x288 with 1 Axes>"
      ]
     },
     "metadata": {
      "needs_background": "light"
     },
     "output_type": "display_data"
    }
   ],
   "source": [
    "sns.boxplot(data=df_final, x='is_revealed', y='cast_prop_famous_actors')"
   ]
  },
  {
   "cell_type": "code",
   "execution_count": 50,
   "id": "5a090588",
   "metadata": {},
   "outputs": [
    {
     "data": {
      "text/plain": [
       "<AxesSubplot:xlabel='is_revealed', ylabel='previous_cast_prop_famous_actors'>"
      ]
     },
     "execution_count": 50,
     "metadata": {},
     "output_type": "execute_result"
    },
    {
     "data": {
      "image/png": "[encoded data removed]",
      "text/plain": [
       "<Figure size 432x288 with 1 Axes>"
      ]
     },
     "metadata": {
      "needs_background": "light"
     },
     "output_type": "display_data"
    }
   ],
   "source": [
    "sns.boxplot(data=df_final, x='is_revealed', y='previous_cast_prop_famous_actors')"
   ]
  },
  {
   "cell_type": "code",
   "execution_count": 51,
   "id": "b4bc56ce",
   "metadata": {},
   "outputs": [
    {
     "data": {
      "text/plain": [
       "<AxesSubplot:xlabel='is_revealed', ylabel='cast_max'>"
      ]
     },
     "execution_count": 51,
     "metadata": {},
     "output_type": "execute_result"
    },
    {
     "data": {
      "image/png": "[encoded data removed]",
      "text/plain": [
       "<Figure size 432x288 with 1 Axes>"
      ]
     },
     "metadata": {
      "needs_background": "light"
     },
     "output_type": "display_data"
    }
   ],
   "source": [
    "sns.boxplot(data=df_final, x='is_revealed', y='cast_max')"
   ]
  },
  {
   "cell_type": "code",
   "execution_count": 52,
   "id": "f040e51b",
   "metadata": {},
   "outputs": [
    {
     "data": {
      "text/plain": [
       "<AxesSubplot:xlabel='is_revealed', ylabel='previous_cast_max'>"
      ]
     },
     "execution_count": 52,
     "metadata": {},
     "output_type": "execute_result"
    },
    {
     "data": {
      "image/png": "[encoded data removed]",
      "text/plain": [
       "<Figure size 432x288 with 1 Axes>"
      ]
     },
     "metadata": {
      "needs_background": "light"
     },
     "output_type": "display_data"
    }
   ],
   "source": [
    "sns.boxplot(data=df_final, x='is_revealed', y='previous_cast_max')"
   ]
  },
  {
   "cell_type": "code",
   "execution_count": 53,
   "id": "5d3fe878",
   "metadata": {},
   "outputs": [
    {
     "data": {
      "image/png": "[encoded data removed]",
      "text/plain": [
       "<Figure size 1080x432 with 1 Axes>"
      ]
     },
     "metadata": {
      "needs_background": "light"
     },
     "output_type": "display_data"
    }
   ],
   "source": [
    "plt.figure(figsize=(15, 6))\n",
    "sns.barplot(data=df_final, x='m_release_year', y='cast_max', hue='is_revealed')\n",
    "plt.xticks(rotation=90);"
   ]
  },
  {
   "cell_type": "code",
   "execution_count": 54,
   "id": "3ffd6c65",
   "metadata": {},
   "outputs": [
    {
     "data": {
      "image/png": "[encoded data removed]",
      "text/plain": [
       "<Figure size 1080x432 with 1 Axes>"
      ]
     },
     "metadata": {
      "needs_background": "light"
     },
     "output_type": "display_data"
    }
   ],
   "source": [
    "plt.figure(figsize=(15, 6))\n",
    "sns.barplot(data=df_final, x='m_release_year', y='cast_prop_famous_actors', hue='is_revealed')\n",
    "plt.xticks(rotation=90);"
   ]
  },
  {
   "cell_type": "code",
   "execution_count": 55,
   "id": "113d729c",
   "metadata": {},
   "outputs": [
    {
     "data": {
      "text/plain": [
       "Ttest_indResult(statistic=13.019113457805622, pvalue=1.0473135136300964e-38)"
      ]
     },
     "execution_count": 55,
     "metadata": {},
     "output_type": "execute_result"
    }
   ],
   "source": [
    "revealed_ = df_final[df_final['is_revealed'] == 1]\n",
    "not_revealed_ = df_final[df_final['is_revealed'] == 0]\n",
    "ttest_ind(revealed_['cast_prop_famous_actors'], not_revealed_['cast_prop_famous_actors'])"
   ]
  },
  {
   "cell_type": "code",
   "execution_count": 56,
   "id": "5ca812d8",
   "metadata": {},
   "outputs": [
    {
     "data": {
      "text/plain": [
       "Ttest_indResult(statistic=12.75558767004207, pvalue=3.1664583881185393e-37)"
      ]
     },
     "execution_count": 56,
     "metadata": {},
     "output_type": "execute_result"
    }
   ],
   "source": [
    "ttest_ind(revealed_['cast_max'], not_revealed_['cast_max'])"
   ]
  },
  {
   "cell_type": "code",
   "execution_count": 57,
   "id": "d84ec293",
   "metadata": {},
   "outputs": [
    {
     "data": {
      "text/plain": [
       "Ttest_indResult(statistic=16.034350937105494, pvalue=9.135439546887984e-58)"
      ]
     },
     "execution_count": 57,
     "metadata": {},
     "output_type": "execute_result"
    }
   ],
   "source": [
    "ttest_ind(revealed_['cast_nb_famous_actors'], not_revealed_['cast_nb_famous_actors'])"
   ]
  },
  {
   "cell_type": "markdown",
   "id": "7d473745",
   "metadata": {},
   "source": [
    "## 3.6 Actor revelation prediction"
   ]
  },
  {
   "cell_type": "code",
   "execution_count": 58,
   "id": "376f780f",
   "metadata": {},
   "outputs": [],
   "source": [
    "features_regression = ['cast_max', 'cast_mean', 'cast_median', 'cast_nb_famous_actors','cast_prop_famous_actors', \n",
    "                       'F_max', 'F_mean', 'F_median', 'F_nb_famous_actors', 'F_prop_famous_actors', \n",
    "                       'M_max', 'M_mean', 'M_median', 'M_nb_famous_actors', 'M_prop_famous_actors', \n",
    "                       'previous_cast_max', 'previous_cast_mean', 'previous_cast_prop_famous_actors',\n",
    "                       'previous_cast_nb_famous_actors', \n",
    "                       'm_release_year', 'actor_age', 'actor_gender_cat', 'nb_movies_before_this_movie',\n",
    "                       'is_revealed']"
   ]
  },
  {
   "cell_type": "markdown",
   "id": "a359fdde",
   "metadata": {},
   "source": [
    "#### Select just one random sample for a quick analysis"
   ]
  },
  {
   "cell_type": "code",
   "execution_count": 59,
   "id": "cd034aed",
   "metadata": {},
   "outputs": [],
   "source": [
    "nb_rows = df_final['is_revealed'].count()\n",
    "nb_is_revealed = df_final['is_revealed'].sum()\n",
    "weights = df_final['is_revealed'].apply(\n",
    "    lambda x: 1 - nb_is_revealed / nb_rows if x else nb_is_revealed / nb_rows).to_list()\n",
    "df_sampled = df_final.sample(n=4000, replace=True, weights=weights, random_state=1)"
   ]
  },
  {
   "cell_type": "code",
   "execution_count": 60,
   "id": "e4e0fa8a",
   "metadata": {
    "scrolled": false
   },
   "outputs": [
    {
     "data": {
      "image/png": "[encoded data removed]",
      "text/plain": [
       "<Figure size 1080x576 with 2 Axes>"
      ]
     },
     "metadata": {
      "needs_background": "light"
     },
     "output_type": "display_data"
    }
   ],
   "source": [
    "columns = features_regression\n",
    "dataset = df_sampled[columns].fillna(0)\n",
    "\n",
    "# Heatmap of the correlation between the attributes and the output 'is_revealed'\n",
    "corr = dataset.corr()\n",
    "corr.drop(corr.tail(1).index, inplace=True)\n",
    "\n",
    "plt.figure(figsize=(15, 8))\n",
    "cmap = sns.diverging_palette(240, 240, as_cmap=True)\n",
    "sns.heatmap(data=corr[['is_revealed']], cmap=cmap, center=0, annot=True)\n",
    "plt.show()"
   ]
  },
  {
   "cell_type": "markdown",
   "id": "c0dd13cc",
   "metadata": {},
   "source": [
    "## 4.3 Prediction\n",
    "Under-sampling will be performed as the dataset is substantially unbalanced. Bootstrapping with replacement will be performed in order to obtain a representative model."
   ]
  },
  {
   "cell_type": "code",
   "execution_count": 61,
   "id": "8c568b2d",
   "metadata": {},
   "outputs": [],
   "source": [
    "def select_sample(data, target_column, seed, nb_samples):\n",
    "    \"\"\"\n",
    "    Randomly selects a sample of size nb samples with replacement with each weight corresponding to each class weight\n",
    "\n",
    "    :param data: df train set with only unknown or just revealed in the year actors\n",
    "    :param target_column: name of the column to predict\n",
    "    :param seed: random seed used to sample\n",
    "    :param nb_samples: nb samples to retrieve when sampling\n",
    "    :return: The sample from the dataset\n",
    "    \"\"\"\n",
    "\n",
    "    rdness = datetime.now().time().microsecond\n",
    "    nb_rows = data[target_column].count()\n",
    "    nb_target_true = data[target_column].sum()\n",
    "    weights = data[target_column].apply(lambda x: 1 - nb_target_true / nb_rows if x else nb_target_true/nb_rows).to_list()\n",
    "    return data.sample(n=nb_samples, replace=True, weights=weights, random_state=seed*rdness)"
   ]
  },
  {
   "cell_type": "code",
   "execution_count": 62,
   "id": "4dc0e541",
   "metadata": {},
   "outputs": [],
   "source": [
    "def train_model(training_set, target_column, nb_samples, scaler, seed):\n",
    "    \"\"\"\n",
    "    Train a logistic regression model on a sample of the training set\n",
    "\n",
    "    :param training_set: df train set with only unknown or just revealed in the year actors\n",
    "    :param target_column: name of the column to predict\n",
    "    :param nb_samples: nb samples to retrieve when sampling\n",
    "    :param scaler: scaler to scale the data\n",
    "    :param seed: random seed used to sample\n",
    "    :return: The classifier trained\n",
    "    \"\"\"\n",
    "\n",
    "    subset = select_sample(training_set, target_column, seed, nb_samples)\n",
    "    \n",
    "    X_train = subset.drop(target_column, axis=1)\n",
    "    y_train = subset[target_column]\n",
    "    X_train = scaler.transform(X_train)\n",
    "\n",
    "    clf = LogisticRegression(max_iter=10000, C=2, class_weight='balanced')\n",
    "    clf.fit(X_train, y_train)\n",
    "    return clf"
   ]
  },
  {
   "cell_type": "code",
   "execution_count": 63,
   "id": "2c36cd31",
   "metadata": {},
   "outputs": [],
   "source": [
    "def test_model(clf_, testing_set, target_column, nb_samples, scaler, seed):\n",
    "    \"\"\"\n",
    "    Test the logistic regression model on a sample with replacement of the test set\n",
    "\n",
    "    :param clf_: logistic regression classifier\n",
    "    :param testing_set: df test set with only unknown or just revealed in the year actors\n",
    "    :param target_column: name of the column to predict\n",
    "    :param nb_samples: nb samples to retrieve when sampling\n",
    "    :param scaler: scaler to scale the data\n",
    "    :param seed: random seed used to sample\n",
    "    :return: The true values of the sampled test set, the binary predictions and probability predictions\n",
    "    \"\"\"\n",
    "\n",
    "    subset = select_sample(testing_set, target_column, seed, nb_samples)\n",
    "    X_test = subset.drop(target_column, axis=1)\n",
    "    X_test = scaler.transform(X_test)\n",
    "    \n",
    "    y_test = subset[target_column]\n",
    "    y_pred = cross_val_predict(clf_, X_test, y_test, cv=10, method=\"predict\")\n",
    "    y_pred_proba = cross_val_predict(clf_, X_test, y_test, cv=10, method=\"predict_proba\")\n",
    "    return y_test, y_pred, y_pred_proba"
   ]
  },
  {
   "cell_type": "code",
   "execution_count": 64,
   "id": "7cebbac5",
   "metadata": {},
   "outputs": [],
   "source": [
    "def compute_regressor(data, feature_columns, target_column, nb_trials=100, nb_features=None, nb_samples_per_training=1000):\n",
    "    \"\"\"\n",
    "    Compute a logistic regressor by sampling with replacement the training set and averages the weights of each model returned\n",
    "\n",
    "    :param data: df to apply the regression on\n",
    "    :param feature_columns: names of the feature columns of the prediction\n",
    "    :param target_column: name of the column to predict\n",
    "    :param nb_trials: number of models to train independently\n",
    "    :param nb_features: number of features of the model\n",
    "    :param nb_samples_per_training: number of samples to sample in the training set\n",
    "    :returns: \n",
    "            - A dictionary of the regressor features: classifier, classification report, confusion matrix,\n",
    "            precision/recall, false positive rate, true positive rate, precision-recall score, roc-score\n",
    "            - tuple (scaler_mean, scaler_scale): the normalization applied to the features\n",
    "    \"\"\"\n",
    "\n",
    "    output_dict = dict()\n",
    "\n",
    "    # Load the dataset\n",
    "    dataset = data[feature_columns].fillna(0)\n",
    "    X = dataset.drop(target_column, axis=1)\n",
    "    y = dataset[target_column]\n",
    "    X_train, X_test, y_train, y_test = train_test_split(X, y, test_size=0.3, random_state=45)\n",
    "\n",
    "    # Standardize data according to the training features\n",
    "    scaler = StandardScaler()\n",
    "    scaler.fit(X_train)\n",
    "\n",
    "    models = np.zeros((nb_trials, nb_features))\n",
    "    for i in range(nb_trials):\n",
    "        # Train independent models by sampling in the dataset\n",
    "        model = train_model(pd.concat([X_train, y_train], axis=1), target_column, nb_samples=nb_samples_per_training, scaler=scaler, seed=i)\n",
    "        models[i] = model.coef_[0]\n",
    "    \n",
    "    # Final classifier which weights will be the average of all the trained models\n",
    "    clf = LogisticRegression(max_iter=10000, C=2, class_weight='balanced')\n",
    "    clf.fit(X_train, y_train)\n",
    "    clf.coef_[0] = models.mean(axis=0)\n",
    "    \n",
    "    output_dict.update({'clf': clf})\n",
    "    \n",
    "    # Predict the binary output with a cross validation\n",
    "    y_true, y_pred, y_pred_proba = test_model(clf, pd.concat([X_test, y_test], axis=1),target_column, nb_samples_per_training, scaler, i)\n",
    "    # Compute the False Positive Rate and True Positive Rate\n",
    "    \n",
    "    output_dict.update({'classification report': classification_report(y_true, y_pred)})\n",
    "    \n",
    "    # Creation of confusion matrix\n",
    "    cm = confusion_matrix(y_true, y_pred)\n",
    "    conf_matrix = pd.DataFrame(data=cm, columns=['0', '1'], index=['0', '1'])\n",
    "    output_dict.update({'cm': conf_matrix})\n",
    "    \n",
    "    # Compute the precision and recall\n",
    "    precision, recall, _ = precision_recall_curve(y_true, y_pred_proba[:, 1])\n",
    "\n",
    "    # Compute the false positive rate and true positive rate\n",
    "    fpr, tpr, _ = roc_curve(y_true, y_pred_proba[:, 1])\n",
    "\n",
    "    # Compute the area under the P-R curve and ROC curve\n",
    "    pr_score = auc(recall, precision)\n",
    "    roc_score = auc(fpr, tpr)\n",
    "    \n",
    "    output_dict.update({'precision': precision})\n",
    "    output_dict.update({'recall': recall})\n",
    "    output_dict.update({'fpr': fpr})\n",
    "    output_dict.update({'tpr': tpr})\n",
    "    output_dict.update({'pr_score': pr_score})\n",
    "    output_dict.update({'roc_score': roc_score})\n",
    "    \n",
    "    return output_dict, (scaler.mean_, scaler.scale_)"
   ]
  },
  {
   "cell_type": "code",
   "execution_count": 65,
   "id": "5a1d2a4e",
   "metadata": {},
   "outputs": [],
   "source": [
    "def plot_logistic_regression_results(output_dict, output_filename, title=None):\n",
    "    \"\"\"\n",
    "    Plot: classification report, confusion matrix, precision-recall curve and ROC curve\n",
    "\n",
    "    :param output_dict: dictionary of the classifier with all its features\n",
    "    :param output_filename: filename of the file to save the confusion matrix\n",
    "    :param title: name of the regression being performed: 'is revealed' or 'still ranked'\n",
    "    :return:\n",
    "    \"\"\"\n",
    "\n",
    "    print(\"Classification report for {}:\".format(title))\n",
    "    print(output_dict['classification report'])\n",
    "\n",
    "    # Plot confusion matrix\n",
    "    fig, ax = plt.subplots(1, 1, figsize=(8, 5))\n",
    "    sns.heatmap(output_dict['cm'], annot=True, fmt='d', cmap='Reds')\n",
    "    plt.title(\"Confusion matrix of the logistic regression for {}\".format(title))\n",
    "    plt.xlabel(\"Predicted value\")\n",
    "    plt.ylabel(\"True value\")\n",
    "    plt.show()\n",
    "    \n",
    "    image_format = 'svg'\n",
    "    fig.savefig(output_filename, format=image_format, dpi=1200)\n",
    "    \n",
    "    # Plot P-R curve and ROC curve\n",
    "    fig, axs = plt.subplots(1, 2, figsize=(15, 6))\n",
    "\n",
    "    ax = axs[0]\n",
    "    ax.plot(output_dict['recall'], output_dict['precision'], label='logistic')\n",
    "    ax.plot([1, 0], [0, 1], 'r--', label='no skill')\n",
    "    ax.set_xlabel(\"Recall\")\n",
    "    ax.set_ylabel(\"Precision\")\n",
    "    ax.set_title(\"Precision-Recall Curve - Area = {:.3f}\".format(output_dict['pr_score']))\n",
    "    ax.legend(loc='lower left')\n",
    "\n",
    "    ax = axs[1]\n",
    "    ax.plot(output_dict['fpr'], output_dict['tpr'], label='logistic')\n",
    "    ax.plot([0, 1], [0, 1], 'r--', label='no skill')\n",
    "    ax.set_xlabel(\"False positive rate\")\n",
    "    ax.set_ylabel(\"True positive rate\")\n",
    "    ax.set_title(\"ROC Curve - Area = {:.3f}\".format(output_dict['roc_score']))\n",
    "    ax.legend(loc='lower right')\n",
    "\n",
    "    fig.suptitle('Logistic regression for {}'.format(title))\n",
    "    fig.tight_layout()\n",
    "    plt.show()\n",
    "    return"
   ]
  },
  {
   "cell_type": "code",
   "execution_count": 66,
   "id": "9e768ab1",
   "metadata": {},
   "outputs": [],
   "source": [
    "def compute_logistic_regression_weights(output_dict, feature_columns, output_filename):\n",
    "    \"\"\"\n",
    "    Compute the logistic regression weight of each feature of the classifier\n",
    "\n",
    "    :param output_dict: dictionary of the classifier with all its features\n",
    "    :param feature_columns: name of the features of each classifier feature\n",
    "    :param output_filename: filename of the file to save the barh plot of the feature contribution weight\n",
    "    :return:\n",
    "    \"\"\"\n",
    "\n",
    "    # Weight of each column in logistic regression\n",
    "    tmp = []\n",
    "    for name, value in zip(feature_columns, output_dict['clf'].coef_[0]):\n",
    "        tmp.append({\"name\": logistic_regression_col_names[name], \"value\": value})\n",
    "\n",
    "    features_coef = pd.DataFrame(tmp).sort_values(\"value\")\n",
    "\n",
    "    fig, axs = plt.subplots(figsize=(5, 7))\n",
    "    plt.barh(features_coef.name, features_coef.value, alpha=0.6)\n",
    "    fig.suptitle('Logistic regression analysis of the impact of coacting on being revealed \\n RM: revelation movie')\n",
    "    plt.show()\n",
    "    plt.tight_layout()\n",
    "\n",
    "    image_format = 'svg'\n",
    "    image_name = output_filename\n",
    "\n",
    "    fig.savefig(image_name, format=image_format, dpi=1200)\n",
    "    return"
   ]
  },
  {
   "cell_type": "code",
   "execution_count": 67,
   "id": "3fbbc1a4",
   "metadata": {},
   "outputs": [],
   "source": [
    "def retrieve_regression_weights(output_dict, feature_columns, scaler, output_filename):\n",
    "    \"\"\"\n",
    "    Retrieve the regression weights and normalization. Will be used to predict a new value entered by the user in \n",
    "    the data story\n",
    "\n",
    "    :param output_dict: dictionary of the classifier with all its features\n",
    "    :param feature_columns: name of the features of each classifier feature\n",
    "    :param scaler: scaler normalization to apply to the data\n",
    "    :param output_filename: filename of the file to save the csv of each feature contribution\n",
    "    :return:\n",
    "    \"\"\"\n",
    "\n",
    "    scaler_mean = scaler[0]\n",
    "    scaler_std = scaler[1]\n",
    "    regression_columns_weight = dict()\n",
    "    regression_columns_mean = dict()\n",
    "    for name, value , std in zip(feature_columns, output_dict['clf'].coef_[0], scaler_std):\n",
    "        regression_columns_weight.update({name: value/std})\n",
    "    for name, mean in zip(feature_columns, scaler_mean):\n",
    "        regression_columns_mean.update({name: mean})\n",
    "    \n",
    "    with open(output_filename, 'w') as f:\n",
    "        writer = csv.writer(f)\n",
    "        for key, val in regression_columns_weight.items():\n",
    "            row = [key, val]\n",
    "            writer.writerow(row)\n",
    "    return regression_columns_weight, regression_columns_mean"
   ]
  },
  {
   "cell_type": "code",
   "execution_count": 68,
   "id": "ffb0c381",
   "metadata": {},
   "outputs": [
    {
     "name": "stdout",
     "output_type": "stream",
     "text": [
      "Classification report for Revelation actors:\n",
      "              precision    recall  f1-score   support\n",
      "\n",
      "         0.0       0.69      0.68      0.69      1032\n",
      "         1.0       0.66      0.68      0.67       968\n",
      "\n",
      "    accuracy                           0.68      2000\n",
      "   macro avg       0.68      0.68      0.68      2000\n",
      "weighted avg       0.68      0.68      0.68      2000\n",
      "\n"
     ]
    },
    {
     "data": {
      "image/png": "[encoded data removed]",
      "text/plain": [
       "<Figure size 576x360 with 2 Axes>"
      ]
     },
     "metadata": {
      "needs_background": "light"
     },
     "output_type": "display_data"
    },
    {
     "data": {
      "image/png": "[encoded data removed]",
      "text/plain": [
       "<Figure size 1080x432 with 2 Axes>"
      ]
     },
     "metadata": {
      "needs_background": "light"
     },
     "output_type": "display_data"
    }
   ],
   "source": [
    "nb_trials = 100\n",
    "nb_features = dataset.shape[1]-1\n",
    "nb_samples_per_training = 2000\n",
    "PATH_REGRESSION_REVELATION_CMATRIX = os.path.join(OUTPUT_LOGISTIC_IMAGES_PATH, 'regression_revelation_cm.svg')\n",
    "regression_revelation_results, scaler = compute_regressor(df_final, feature_columns=columns, target_column='is_revealed', nb_trials=nb_trials, nb_features=nb_features, nb_samples_per_training=nb_samples_per_training)\n",
    "plot_logistic_regression_results(regression_revelation_results, PATH_REGRESSION_REVELATION_CMATRIX, title='Revelation actors')"
   ]
  },
  {
   "cell_type": "code",
   "execution_count": 69,
   "id": "969165af",
   "metadata": {},
   "outputs": [
    {
     "data": {
      "image/png": "[encoded data removed]",
      "text/plain": [
       "<Figure size 360x504 with 1 Axes>"
      ]
     },
     "metadata": {
      "needs_background": "light"
     },
     "output_type": "display_data"
    },
    {
     "data": {
      "text/plain": [
       "<Figure size 432x288 with 0 Axes>"
      ]
     },
     "metadata": {},
     "output_type": "display_data"
    }
   ],
   "source": [
    "OUTPUT_IMG_LOGISTIC_REGRESSION_REVELATION = os.path.join(OUTPUT_LOGISTIC_IMAGES_PATH, 'logistic_regression_revelation.svg')\n",
    "compute_logistic_regression_weights(regression_revelation_results, feature_columns=columns, output_filename=OUTPUT_IMG_LOGISTIC_REGRESSION_REVELATION)"
   ]
  },
  {
   "cell_type": "code",
   "execution_count": 70,
   "id": "6fad1c63",
   "metadata": {},
   "outputs": [],
   "source": [
    "OUTPUT_CSV_WEIGHTS_LOGISTIC_REGRESSION_REVELATION = 'weights_regression_revelation.csv'\n",
    "regression_columns_weight, regression_columns_mean = retrieve_regression_weights(regression_revelation_results, scaler=scaler, feature_columns=columns, output_filename=OUTPUT_CSV_WEIGHTS_LOGISTIC_REGRESSION_REVELATION)"
   ]
  },
  {
   "cell_type": "markdown",
   "id": "50c84095",
   "metadata": {},
   "source": [
    "# 4. Stay in the loop\n",
    "## 4.1 Load the yearly numbers dataset"
   ]
  },
  {
   "cell_type": "code",
   "execution_count": 71,
   "id": "5aa88513",
   "metadata": {},
   "outputs": [
    {
     "data": {
      "text/html": [
       "<div>\n",
       "<style scoped>\n",
       "    .dataframe tbody tr th:only-of-type {\n",
       "        vertical-align: middle;\n",
       "    }\n",
       "\n",
       "    .dataframe tbody tr th {\n",
       "        vertical-align: top;\n",
       "    }\n",
       "\n",
       "    .dataframe thead th {\n",
       "        text-align: right;\n",
       "    }\n",
       "</style>\n",
       "<table border=\"1\" class=\"dataframe\">\n",
       "  <thead>\n",
       "    <tr style=\"text-align: right;\">\n",
       "      <th></th>\n",
       "      <th>1978</th>\n",
       "      <th>1979</th>\n",
       "      <th>1980</th>\n",
       "      <th>1981</th>\n",
       "      <th>1982</th>\n",
       "      <th>1983</th>\n",
       "      <th>1984</th>\n",
       "      <th>1985</th>\n",
       "      <th>1986</th>\n",
       "      <th>1987</th>\n",
       "      <th>...</th>\n",
       "      <th>2013</th>\n",
       "      <th>2014</th>\n",
       "      <th>2015</th>\n",
       "      <th>2016</th>\n",
       "      <th>2017</th>\n",
       "      <th>2018</th>\n",
       "      <th>2019</th>\n",
       "      <th>2020</th>\n",
       "      <th>2021</th>\n",
       "      <th>2022</th>\n",
       "    </tr>\n",
       "    <tr>\n",
       "      <th>actor_name</th>\n",
       "      <th></th>\n",
       "      <th></th>\n",
       "      <th></th>\n",
       "      <th></th>\n",
       "      <th></th>\n",
       "      <th></th>\n",
       "      <th></th>\n",
       "      <th></th>\n",
       "      <th></th>\n",
       "      <th></th>\n",
       "      <th></th>\n",
       "      <th></th>\n",
       "      <th></th>\n",
       "      <th></th>\n",
       "      <th></th>\n",
       "      <th></th>\n",
       "      <th></th>\n",
       "      <th></th>\n",
       "      <th></th>\n",
       "      <th></th>\n",
       "      <th></th>\n",
       "    </tr>\n",
       "  </thead>\n",
       "  <tbody>\n",
       "    <tr>\n",
       "      <th>Jane Fonda</th>\n",
       "      <td>175.0</td>\n",
       "      <td>166.0</td>\n",
       "      <td>99.0</td>\n",
       "      <td>99.0</td>\n",
       "      <td>0.0</td>\n",
       "      <td>0.0</td>\n",
       "      <td>0.0</td>\n",
       "      <td>0.0</td>\n",
       "      <td>63.0</td>\n",
       "      <td>0.0</td>\n",
       "      <td>...</td>\n",
       "      <td>0.0</td>\n",
       "      <td>16.0</td>\n",
       "      <td>0.0</td>\n",
       "      <td>0.0</td>\n",
       "      <td>0.0</td>\n",
       "      <td>59.0</td>\n",
       "      <td>0.0</td>\n",
       "      <td>0.0</td>\n",
       "      <td>0.0</td>\n",
       "      <td>0.0</td>\n",
       "    </tr>\n",
       "    <tr>\n",
       "      <th>Clint Eastwood</th>\n",
       "      <td>97.0</td>\n",
       "      <td>89.0</td>\n",
       "      <td>174.0</td>\n",
       "      <td>0.0</td>\n",
       "      <td>86.0</td>\n",
       "      <td>94.0</td>\n",
       "      <td>167.0</td>\n",
       "      <td>82.0</td>\n",
       "      <td>83.0</td>\n",
       "      <td>0.0</td>\n",
       "      <td>...</td>\n",
       "      <td>0.0</td>\n",
       "      <td>0.0</td>\n",
       "      <td>0.0</td>\n",
       "      <td>0.0</td>\n",
       "      <td>0.0</td>\n",
       "      <td>71.0</td>\n",
       "      <td>0.0</td>\n",
       "      <td>0.0</td>\n",
       "      <td>36.0</td>\n",
       "      <td>0.0</td>\n",
       "    </tr>\n",
       "  </tbody>\n",
       "</table>\n",
       "<p>2 rows × 45 columns</p>\n",
       "</div>"
      ],
      "text/plain": [
       "                 1978   1979   1980  1981  1982  1983   1984  1985  1986  \\\n",
       "actor_name                                                                 \n",
       "Jane Fonda      175.0  166.0   99.0  99.0   0.0   0.0    0.0   0.0  63.0   \n",
       "Clint Eastwood   97.0   89.0  174.0   0.0  86.0  94.0  167.0  82.0  83.0   \n",
       "\n",
       "                1987  ...  2013  2014  2015  2016  2017  2018  2019  2020  \\\n",
       "actor_name            ...                                                   \n",
       "Jane Fonda       0.0  ...   0.0  16.0   0.0   0.0   0.0  59.0   0.0   0.0   \n",
       "Clint Eastwood   0.0  ...   0.0   0.0   0.0   0.0   0.0  71.0   0.0   0.0   \n",
       "\n",
       "                2021  2022  \n",
       "actor_name                  \n",
       "Jane Fonda       0.0   0.0  \n",
       "Clint Eastwood  36.0   0.0  \n",
       "\n",
       "[2 rows x 45 columns]"
      ]
     },
     "execution_count": 71,
     "metadata": {},
     "output_type": "execute_result"
    }
   ],
   "source": [
    "SCORE_YEARLY_PATH = os.path.join(DATA_PATH, 'score_yearly.tsv')\n",
    "df_numbers_yearly = pd.read_csv(SCORE_YEARLY_PATH, sep=\"\\t\")\n",
    "df_numbers_yearly.set_index('actor_name', inplace=True)\n",
    "df_numbers_yearly.head(2)"
   ]
  },
  {
   "cell_type": "markdown",
   "id": "6e2f2b2c",
   "metadata": {},
   "source": [
    "## 4.2 Retrieve the score of the actor, the next year after his·her revelation"
   ]
  },
  {
   "cell_type": "code",
   "execution_count": 72,
   "id": "e132734f",
   "metadata": {},
   "outputs": [
    {
     "data": {
      "text/html": [
       "<div>\n",
       "<style scoped>\n",
       "    .dataframe tbody tr th:only-of-type {\n",
       "        vertical-align: middle;\n",
       "    }\n",
       "\n",
       "    .dataframe tbody tr th {\n",
       "        vertical-align: top;\n",
       "    }\n",
       "\n",
       "    .dataframe thead th {\n",
       "        text-align: right;\n",
       "    }\n",
       "</style>\n",
       "<table border=\"1\" class=\"dataframe\">\n",
       "  <thead>\n",
       "    <tr style=\"text-align: right;\">\n",
       "      <th></th>\n",
       "      <th>actor_name</th>\n",
       "      <th>m_release_year</th>\n",
       "      <th>wikipedia_m_ID</th>\n",
       "      <th>actor_age</th>\n",
       "      <th>min_year</th>\n",
       "      <th>min_year_score</th>\n",
       "      <th>min_year_starring</th>\n",
       "      <th>is_revealed</th>\n",
       "      <th>already_revealed</th>\n",
       "      <th>actor_gender_cat</th>\n",
       "      <th>...</th>\n",
       "      <th>M_max</th>\n",
       "      <th>M_min</th>\n",
       "      <th>M_mean</th>\n",
       "      <th>M_median</th>\n",
       "      <th>M_nb_famous_actors</th>\n",
       "      <th>M_prop_famous_actors</th>\n",
       "      <th>previous_cast_max</th>\n",
       "      <th>previous_cast_mean</th>\n",
       "      <th>previous_cast_prop_famous_actors</th>\n",
       "      <th>previous_cast_nb_famous_actors</th>\n",
       "    </tr>\n",
       "  </thead>\n",
       "  <tbody>\n",
       "    <tr>\n",
       "      <th>58</th>\n",
       "      <td>Aaliyah</td>\n",
       "      <td>2002</td>\n",
       "      <td>9088886.00</td>\n",
       "      <td>22.00</td>\n",
       "      <td>2000.0</td>\n",
       "      <td>54.0</td>\n",
       "      <td>2000.0</td>\n",
       "      <td>0.0</td>\n",
       "      <td>1.0</td>\n",
       "      <td>1.0</td>\n",
       "      <td>...</td>\n",
       "      <td>0.000000</td>\n",
       "      <td>0.0</td>\n",
       "      <td>0.000000</td>\n",
       "      <td>0.0</td>\n",
       "      <td>0.00</td>\n",
       "      <td>0.000000</td>\n",
       "      <td>27.000000</td>\n",
       "      <td>1.377778</td>\n",
       "      <td>0.100000</td>\n",
       "      <td>1.00</td>\n",
       "    </tr>\n",
       "    <tr>\n",
       "      <th>88</th>\n",
       "      <td>Aaron Eckhart</td>\n",
       "      <td>2004</td>\n",
       "      <td>939561.00</td>\n",
       "      <td>36.00</td>\n",
       "      <td>2003.0</td>\n",
       "      <td>11.0</td>\n",
       "      <td>1994.0</td>\n",
       "      <td>0.0</td>\n",
       "      <td>1.0</td>\n",
       "      <td>0.0</td>\n",
       "      <td>...</td>\n",
       "      <td>33.000000</td>\n",
       "      <td>0.0</td>\n",
       "      <td>4.714286</td>\n",
       "      <td>0.0</td>\n",
       "      <td>1.00</td>\n",
       "      <td>0.100000</td>\n",
       "      <td>2261.794444</td>\n",
       "      <td>120.088226</td>\n",
       "      <td>0.375000</td>\n",
       "      <td>6.00</td>\n",
       "    </tr>\n",
       "    <tr>\n",
       "      <th>162</th>\n",
       "      <td>Aaron Yoo</td>\n",
       "      <td>2009</td>\n",
       "      <td>17930105.75</td>\n",
       "      <td>29.25</td>\n",
       "      <td>2008.0</td>\n",
       "      <td>65.0</td>\n",
       "      <td>2007.0</td>\n",
       "      <td>0.0</td>\n",
       "      <td>1.0</td>\n",
       "      <td>0.0</td>\n",
       "      <td>...</td>\n",
       "      <td>492.869444</td>\n",
       "      <td>0.0</td>\n",
       "      <td>58.863315</td>\n",
       "      <td>0.0</td>\n",
       "      <td>2.25</td>\n",
       "      <td>0.139067</td>\n",
       "      <td>516.220960</td>\n",
       "      <td>22.653759</td>\n",
       "      <td>0.267023</td>\n",
       "      <td>4.25</td>\n",
       "    </tr>\n",
       "    <tr>\n",
       "      <th>190</th>\n",
       "      <td>Abbie Cornish</td>\n",
       "      <td>2012</td>\n",
       "      <td>33757147.00</td>\n",
       "      <td>30.00</td>\n",
       "      <td>2011.0</td>\n",
       "      <td>13.0</td>\n",
       "      <td>2006.0</td>\n",
       "      <td>0.0</td>\n",
       "      <td>1.0</td>\n",
       "      <td>1.0</td>\n",
       "      <td>...</td>\n",
       "      <td>1683.388889</td>\n",
       "      <td>0.0</td>\n",
       "      <td>383.070481</td>\n",
       "      <td>0.0</td>\n",
       "      <td>4.00</td>\n",
       "      <td>0.266667</td>\n",
       "      <td>4858.138930</td>\n",
       "      <td>234.019930</td>\n",
       "      <td>0.400000</td>\n",
       "      <td>6.00</td>\n",
       "    </tr>\n",
       "    <tr>\n",
       "      <th>229</th>\n",
       "      <td>Abigail Breslin</td>\n",
       "      <td>2007</td>\n",
       "      <td>10746393.00</td>\n",
       "      <td>11.00</td>\n",
       "      <td>2006.0</td>\n",
       "      <td>50.0</td>\n",
       "      <td>2002.0</td>\n",
       "      <td>0.0</td>\n",
       "      <td>1.0</td>\n",
       "      <td>1.0</td>\n",
       "      <td>...</td>\n",
       "      <td>8.250000</td>\n",
       "      <td>0.0</td>\n",
       "      <td>2.750000</td>\n",
       "      <td>0.0</td>\n",
       "      <td>1.00</td>\n",
       "      <td>0.111111</td>\n",
       "      <td>858.636111</td>\n",
       "      <td>43.204688</td>\n",
       "      <td>0.333333</td>\n",
       "      <td>3.75</td>\n",
       "    </tr>\n",
       "  </tbody>\n",
       "</table>\n",
       "<p>5 rows × 39 columns</p>\n",
       "</div>"
      ],
      "text/plain": [
       "          actor_name  m_release_year  wikipedia_m_ID  actor_age  min_year  \\\n",
       "58           Aaliyah            2002      9088886.00      22.00    2000.0   \n",
       "88     Aaron Eckhart            2004       939561.00      36.00    2003.0   \n",
       "162        Aaron Yoo            2009     17930105.75      29.25    2008.0   \n",
       "190    Abbie Cornish            2012     33757147.00      30.00    2011.0   \n",
       "229  Abigail Breslin            2007     10746393.00      11.00    2006.0   \n",
       "\n",
       "     min_year_score  min_year_starring  is_revealed  already_revealed  \\\n",
       "58             54.0             2000.0          0.0               1.0   \n",
       "88             11.0             1994.0          0.0               1.0   \n",
       "162            65.0             2007.0          0.0               1.0   \n",
       "190            13.0             2006.0          0.0               1.0   \n",
       "229            50.0             2002.0          0.0               1.0   \n",
       "\n",
       "     actor_gender_cat  ...        M_max  M_min      M_mean  M_median  \\\n",
       "58                1.0  ...     0.000000    0.0    0.000000       0.0   \n",
       "88                0.0  ...    33.000000    0.0    4.714286       0.0   \n",
       "162               0.0  ...   492.869444    0.0   58.863315       0.0   \n",
       "190               1.0  ...  1683.388889    0.0  383.070481       0.0   \n",
       "229               1.0  ...     8.250000    0.0    2.750000       0.0   \n",
       "\n",
       "     M_nb_famous_actors  M_prop_famous_actors  previous_cast_max  \\\n",
       "58                 0.00              0.000000          27.000000   \n",
       "88                 1.00              0.100000        2261.794444   \n",
       "162                2.25              0.139067         516.220960   \n",
       "190                4.00              0.266667        4858.138930   \n",
       "229                1.00              0.111111         858.636111   \n",
       "\n",
       "     previous_cast_mean  previous_cast_prop_famous_actors  \\\n",
       "58             1.377778                          0.100000   \n",
       "88           120.088226                          0.375000   \n",
       "162           22.653759                          0.267023   \n",
       "190          234.019930                          0.400000   \n",
       "229           43.204688                          0.333333   \n",
       "\n",
       "     previous_cast_nb_famous_actors  \n",
       "58                             1.00  \n",
       "88                             6.00  \n",
       "162                            4.25  \n",
       "190                            6.00  \n",
       "229                            3.75  \n",
       "\n",
       "[5 rows x 39 columns]"
      ]
     },
     "execution_count": 72,
     "metadata": {},
     "output_type": "execute_result"
    }
   ],
   "source": [
    "df_loop = df_regression_merged.copy()\n",
    "df_loop = df_loop.loc[\n",
    "    (df_loop['already_revealed'] == 1) & (df_loop['nb_movies_before_this_movie'] >= 1)].sort_values(\n",
    "    ['actor_name', 'm_release_year']).drop_duplicates(['actor_name'], keep='first').copy()\n",
    "df_loop.head()"
   ]
  },
  {
   "cell_type": "code",
   "execution_count": 73,
   "id": "fafac0c2",
   "metadata": {},
   "outputs": [],
   "source": [
    "def is_still_ranked(row):\n",
    "    \"\"\"\n",
    "    Outputs a new binary column which is true when the actor is still ranked in the numbers in the next movie after\n",
    "    his·her revelation\n",
    "\n",
    "    :param row: row of the df characters\n",
    "    :return:1 if the actor is still ranked in the numbers in the next movie after his·her revelation otherwise 0\n",
    "    \"\"\"\n",
    "\n",
    "    score_year_to_retrieve = row['m_release_year']\n",
    "    actor_name = row['actor_name']\n",
    "    try:\n",
    "        score = df_numbers_yearly['{}'.format(score_year_to_retrieve)][actor_name]\n",
    "        return 1 if score else 0\n",
    "    except:\n",
    "        raise ValueError('The actor {} is already_revealed but is not in df numbers'.format(row.actor_name))"
   ]
  },
  {
   "cell_type": "code",
   "execution_count": 74,
   "id": "f63d6662",
   "metadata": {},
   "outputs": [],
   "source": [
    "df_loop['still_ranked'] = df_loop.apply(lambda row: is_still_ranked(row), axis=1)"
   ]
  },
  {
   "cell_type": "code",
   "execution_count": 75,
   "id": "64dce7a6",
   "metadata": {},
   "outputs": [],
   "source": [
    "df_loop['is_main_actor'] = (df_loop['cast_max'] == df_loop['min_year_score']).astype(int)"
   ]
  },
  {
   "cell_type": "code",
   "execution_count": 76,
   "id": "16c03283",
   "metadata": {},
   "outputs": [],
   "source": [
    "columns = df_numbers_yearly.columns[1:]"
   ]
  },
  {
   "cell_type": "code",
   "execution_count": 77,
   "id": "a05f61ae",
   "metadata": {},
   "outputs": [],
   "source": [
    "main_actors = df_loop[df_loop['is_main_actor'] == 1]\n",
    "not_main_actors = df_loop[df_loop['is_main_actor'] == 0]"
   ]
  },
  {
   "cell_type": "code",
   "execution_count": 78,
   "id": "682f758b",
   "metadata": {},
   "outputs": [
    {
     "data": {
      "text/plain": [
       "Ttest_indResult(statistic=-1.0921828025045788, pvalue=0.27493920549658835)"
      ]
     },
     "execution_count": 78,
     "metadata": {},
     "output_type": "execute_result"
    }
   ],
   "source": [
    "# There is no significant difference among actors who were still ranked, whether they were the main actor of their movie or not.\n",
    "ttest_ind(main_actors['still_ranked'], not_main_actors['still_ranked'])"
   ]
  },
  {
   "cell_type": "markdown",
   "id": "22aa8230",
   "metadata": {},
   "source": [
    "# 4.5 Are there patterns between actors to stay in the loop?"
   ]
  },
  {
   "cell_type": "code",
   "execution_count": 79,
   "id": "75888877",
   "metadata": {},
   "outputs": [],
   "source": [
    "features_loop = ['cast_max', 'cast_mean', 'cast_median', 'cast_nb_famous_actors','cast_prop_famous_actors', \n",
    "                       'F_max', 'F_mean', 'F_median', 'F_nb_famous_actors', 'F_prop_famous_actors', \n",
    "                       'M_max', 'M_mean', 'M_median', 'M_nb_famous_actors', 'M_prop_famous_actors', \n",
    "                       'previous_cast_max', 'previous_cast_mean', 'previous_cast_prop_famous_actors',\n",
    "                       'previous_cast_nb_famous_actors', \n",
    "                       'm_release_year', 'actor_age', 'actor_gender_cat', 'nb_movies_before_this_movie',\n",
    "                       'still_ranked']"
   ]
  },
  {
   "cell_type": "code",
   "execution_count": 80,
   "id": "bbed43fa",
   "metadata": {},
   "outputs": [
    {
     "data": {
      "image/png": "[encoded data removed]",
      "text/plain": [
       "<Figure size 1080x576 with 2 Axes>"
      ]
     },
     "metadata": {
      "needs_background": "light"
     },
     "output_type": "display_data"
    }
   ],
   "source": [
    "columns = features_loop\n",
    "dataset = df_loop[features_loop].fillna(0)\n",
    "\n",
    "# Heatmap of the correlation between the attributes and the output 'is_revealed'\n",
    "corr = dataset.corr()\n",
    "corr.drop(corr.tail(1).index, inplace=True)\n",
    "\n",
    "plt.figure(figsize=(15, 8))\n",
    "cmap = sns.diverging_palette(240, 240, as_cmap=True)\n",
    "sns.heatmap(data=corr[['still_ranked']], cmap=cmap, center=0, annot=True)\n",
    "plt.show()"
   ]
  },
  {
   "cell_type": "code",
   "execution_count": 81,
   "id": "0e0555ba",
   "metadata": {},
   "outputs": [],
   "source": [
    "features_loop = ['wikipedia_m_ID', 'character_name', 'actor_dob', 'actor_gender',\n",
    "                 'actor_name', 'actor_age', 'm_name', 'm_genre_PCA', 'm_release_year',\n",
    "                'min_year', 'min_year_score', 'min_year_starring', 'is_revealed',\n",
    "       'already_revealed', 'popularity', 'actor_gender_cat', 'nb_actors',\n",
    "       'nb_movies_before_this_movie', 'nb_movies_dec_1980_1990',\n",
    "       'nb_movies_dec_1990_2000', 'nb_movies_dec_2000_2010',\n",
    "       'nb_movies_dec_2010_2020', 'actor_score', 'cast_max', 'cast_min',\n",
    "       'cast_mean', 'cast_median', 'cast_nb_famous_actors',\n",
    "       'cast_prop_famous_actors', 'F_max', 'F_min', 'F_mean', 'F_median',\n",
    "       'F_nb_famous_actors', 'F_prop_famous_actors', 'M_max', 'M_min',\n",
    "       'M_mean', 'M_median', 'M_nb_famous_actors', 'M_prop_famous_actors',\n",
    "       'still_ranked'\n",
    "]"
   ]
  },
  {
   "cell_type": "code",
   "execution_count": 82,
   "id": "2a72feb4",
   "metadata": {},
   "outputs": [
    {
     "name": "stdout",
     "output_type": "stream",
     "text": [
      "Among actors 1st movie after their revelation, there are 320 actors that performed a new score which corresponds to 22.65% of those actors.\n"
     ]
    }
   ],
   "source": [
    "nb_still_ranked = dataset['still_ranked'].value_counts()[1]\n",
    "nb_all = dataset['still_ranked'].count()\n",
    "print(\"Among actors 1st movie after their revelation, there are {} actors that performed a new score which corresponds to {:.2f}% of those actors.\".format(nb_still_ranked, nb_still_ranked/nb_all*100))"
   ]
  },
  {
   "cell_type": "code",
   "execution_count": 83,
   "id": "455ed300",
   "metadata": {},
   "outputs": [
    {
     "name": "stdout",
     "output_type": "stream",
     "text": [
      "Classification report for Stay in the loop actors:\n",
      "              precision    recall  f1-score   support\n",
      "\n",
      "           0       0.70      0.67      0.68      1006\n",
      "           1       0.68      0.71      0.70       994\n",
      "\n",
      "    accuracy                           0.69      2000\n",
      "   macro avg       0.69      0.69      0.69      2000\n",
      "weighted avg       0.69      0.69      0.69      2000\n",
      "\n"
     ]
    },
    {
     "data": {
      "image/png": "[encoded data removed]",
      "text/plain": [
       "<Figure size 576x360 with 2 Axes>"
      ]
     },
     "metadata": {
      "needs_background": "light"
     },
     "output_type": "display_data"
    },
    {
     "data": {
      "image/png": "[encoded data removed]",
      "text/plain": [
       "<Figure size 1080x432 with 2 Axes>"
      ]
     },
     "metadata": {
      "needs_background": "light"
     },
     "output_type": "display_data"
    }
   ],
   "source": [
    "nb_trials = 100\n",
    "nb_features = dataset.shape[1]-1\n",
    "nb_samples_per_training = 2000\n",
    "PATH_REGRESSION_STAY_LOOP_CMATRIX = os.path.join(OUTPUT_LOGISTIC_IMAGES_PATH, 'regression_stay_loop_cm.svg')\n",
    "regression_stay_loop_results, _ = compute_regressor(df_loop, feature_columns=columns, target_column='still_ranked', nb_trials=nb_trials, nb_features=nb_features, nb_samples_per_training=nb_samples_per_training)\n",
    "plot_logistic_regression_results(regression_stay_loop_results, PATH_REGRESSION_STAY_LOOP_CMATRIX, title='Stay in the loop actors')"
   ]
  },
  {
   "cell_type": "code",
   "execution_count": 84,
   "id": "743aa527",
   "metadata": {},
   "outputs": [
    {
     "data": {
      "image/png": "[encoded data removed]",
      "text/plain": [
       "<Figure size 360x504 with 1 Axes>"
      ]
     },
     "metadata": {
      "needs_background": "light"
     },
     "output_type": "display_data"
    },
    {
     "data": {
      "text/plain": [
       "<Figure size 432x288 with 0 Axes>"
      ]
     },
     "metadata": {},
     "output_type": "display_data"
    }
   ],
   "source": [
    "OUTPUT_IMG_LOGISTIC_REGRESSION_LOOP = os.path.join(OUTPUT_LOGISTIC_IMAGES_PATH, 'logistic_regression_stay_in_the_loop.svg')\n",
    "compute_logistic_regression_weights(regression_stay_loop_results, feature_columns=columns, output_filename=OUTPUT_IMG_LOGISTIC_REGRESSION_LOOP)"
   ]
  },
  {
   "cell_type": "code",
   "execution_count": 85,
   "id": "1e4f3c2c",
   "metadata": {},
   "outputs": [
    {
     "data": {
      "image/png": "[encoded data removed]",
      "text/plain": [
       "<Figure size 864x432 with 2 Axes>"
      ]
     },
     "metadata": {
      "needs_background": "light"
     },
     "output_type": "display_data"
    },
    {
     "data": {
      "text/plain": [
       "<Figure size 432x288 with 0 Axes>"
      ]
     },
     "metadata": {},
     "output_type": "display_data"
    }
   ],
   "source": [
    "# Weight of each column in logistic regression\n",
    "tmp = []\n",
    "for name, value in zip(columns[:-1], regression_revelation_results['clf'].coef_[0]):\n",
    "    tmp.append({\"name\": logistic_regression_col_names[name], \"value\": value})\n",
    "\n",
    "tmp_2 = []\n",
    "for name, value in zip(columns[:-1], regression_stay_loop_results['clf'].coef_[0]):\n",
    "    tmp_2.append({\"name\": logistic_regression_col_names[name], \"value\": value})\n",
    "    \n",
    "\n",
    "features_coef_1 = pd.DataFrame(tmp).sort_values(\"value\")\n",
    "features_coef_2 = pd.DataFrame(tmp_2).sort_values(\"value\")\n",
    "\n",
    "#Plot the feature comparison between the logistic regression for the revelation actors and the one for the second movie\n",
    "fig, axs = plt.subplots(1, 2, figsize=(12, 6), sharey=True)\n",
    "axs[0].barh(features_coef_1.name, features_coef_1.value, alpha=0.6)\n",
    "axs[1].barh(features_coef_2.name, features_coef_2.value, alpha=0.6)\n",
    "axs[0].set_xlim(-1, 1)\n",
    "axs[1].set_xlim(-1, 1)\n",
    "axs[0].set_title(\"Revelation actors\")\n",
    "axs[1].set_title(\"Actors that stay ranked after their revelation\")\n",
    "fig.suptitle('Logistic regression analysis of the impact of coacting (RM: movie at year of revelation)')\n",
    "\n",
    "plt.show()\n",
    "plt.tight_layout()\n",
    "\n",
    "image_format = 'svg'\n",
    "OUTPUT_IMG_LOGISTIC_REGRESSION_COMPARISON = os.path.join(OUTPUT_LOGISTIC_IMAGES_PATH, 'logistic_regression_comparison.svg')\n",
    "image_name = OUTPUT_IMG_LOGISTIC_REGRESSION_COMPARISON\n",
    "\n",
    "fig.savefig(image_name, format=image_format, dpi=1200)"
   ]
  }
 ],
 "metadata": {
  "kernelspec": {
   "display_name": "Python 3 (ipykernel)",
   "language": "python",
   "name": "python3"
  },
  "language_info": {
   "codemirror_mode": {
    "name": "ipython",
    "version": 3
   },
   "file_extension": ".py",
   "mimetype": "text/x-python",
   "name": "python",
   "nbconvert_exporter": "python",
   "pygments_lexer": "ipython3",
   "version": "3.9.12"
  }
 },
 "nbformat": 4,
 "nbformat_minor": 5
}
