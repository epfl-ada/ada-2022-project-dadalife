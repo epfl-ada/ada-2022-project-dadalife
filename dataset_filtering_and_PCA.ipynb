{
 "cells": [
  {
   "cell_type": "code",
   "execution_count": 1,
   "id": "aa5cc897",
   "metadata": {},
   "outputs": [],
   "source": [
    "import operator\n",
    "import random\n",
    "import requests\n",
    "import time\n",
    "import csv\n",
    "import os\n",
    "import pandas as pd\n",
    "import seaborn as sns\n",
    "import numpy as np\n",
    "import networkx as nx\n",
    "from scipy import stats\n",
    "from ast import literal_eval\n",
    "from matplotlib import pyplot as plt\n",
    "from statsmodels.stats import diagnostic\n",
    "from datetime import datetime\n",
    "from sklearn.manifold import TSNE\n",
    "from sklearn.decomposition import PCA\n",
    "from sklearn.preprocessing import StandardScaler, MinMaxScaler\n",
    "\n",
    "#colors used when comparing genders\n",
    "PURPLE = 'purple'\n",
    "ORANGE = '#ffb82c'\n",
    "\n",
    "#colors used when generic comparisons\n",
    "BLUE = '#0173b2'\n",
    "RED = '#d55e00'\n",
    "\n",
    "#print(sns.color_palette(\"colorblind\").as_hex())\n",
    "#sns.color_palette(\"colorblind\")"
   ]
  },
  {
   "cell_type": "code",
   "execution_count": 2,
   "id": "c3079717",
   "metadata": {},
   "outputs": [
    {
     "data": {
      "text/html": [
       "\n",
       "<style>\n",
       ".output_png {\n",
       "    display: table-cell;\n",
       "    text-align: center;\n",
       "    vertical-align: middle;\n",
       "}\n",
       "</style>\n"
      ],
      "text/plain": [
       "<IPython.core.display.HTML object>"
      ]
     },
     "execution_count": 2,
     "metadata": {},
     "output_type": "execute_result"
    }
   ],
   "source": [
    "from IPython.core.display import HTML\n",
    "HTML(\"\"\"\n",
    "<style>\n",
    ".output_png {\n",
    "    display: table-cell;\n",
    "    text-align: center;\n",
    "    vertical-align: middle;\n",
    "}\n",
    "</style>\n",
    "\"\"\")"
   ]
  },
  {
   "cell_type": "markdown",
   "id": "9acafde8",
   "metadata": {},
   "source": [
    "# 1. Load the datasets\n",
    "<a class=\"anchor\" id=\"load\"></a>"
   ]
  },
  {
   "cell_type": "code",
   "execution_count": 3,
   "id": "201443db",
   "metadata": {},
   "outputs": [],
   "source": [
    "DATA_PATH = './data'\n",
    "MOVIE_PATH = os.path.join(DATA_PATH, 'american_movies_cleaned.tsv')\n",
    "CHAR_PATH = os.path.join(DATA_PATH, 'characters_cleaned.tsv')\n",
    "THE_NUMBERS_PATH = os.path.join(DATA_PATH, 'the_numbers_lifetime_cumulative.tsv')\n",
    "THE_NUMBERS_PATH_YEARLY = os.path.join(DATA_PATH, 'the_numbers_yearly_score.tsv')"
   ]
  },
  {
   "cell_type": "markdown",
   "id": "30ce1f8e",
   "metadata": {},
   "source": [
    "## 1.1 Characters dataset"
   ]
  },
  {
   "cell_type": "code",
   "execution_count": 4,
   "id": "549a98de",
   "metadata": {},
   "outputs": [
    {
     "data": {
      "text/html": [
       "<div>\n",
       "<style scoped>\n",
       "    .dataframe tbody tr th:only-of-type {\n",
       "        vertical-align: middle;\n",
       "    }\n",
       "\n",
       "    .dataframe tbody tr th {\n",
       "        vertical-align: top;\n",
       "    }\n",
       "\n",
       "    .dataframe thead th {\n",
       "        text-align: right;\n",
       "    }\n",
       "</style>\n",
       "<table border=\"1\" class=\"dataframe\">\n",
       "  <thead>\n",
       "    <tr style=\"text-align: right;\">\n",
       "      <th></th>\n",
       "      <th>wikipedia_m_ID</th>\n",
       "      <th>freebase_m_ID</th>\n",
       "      <th>m_release_date</th>\n",
       "      <th>character_name</th>\n",
       "      <th>actor_dob</th>\n",
       "      <th>actor_gender</th>\n",
       "      <th>actor_height</th>\n",
       "      <th>actor_ethnicity</th>\n",
       "      <th>actor_name</th>\n",
       "      <th>actor_age</th>\n",
       "      <th>freebase_character_map</th>\n",
       "      <th>freebase_character_id</th>\n",
       "      <th>freebase_actor_id</th>\n",
       "    </tr>\n",
       "  </thead>\n",
       "  <tbody>\n",
       "    <tr>\n",
       "      <th>0</th>\n",
       "      <td>975900</td>\n",
       "      <td>/m/03vyhn</td>\n",
       "      <td>2001-08-24</td>\n",
       "      <td>Akooshay</td>\n",
       "      <td>1958-08-26</td>\n",
       "      <td>F</td>\n",
       "      <td>1.62</td>\n",
       "      <td>NaN</td>\n",
       "      <td>Wanda De Jesus</td>\n",
       "      <td>42.0</td>\n",
       "      <td>/m/0bgchxw</td>\n",
       "      <td>/m/0bgcj3x</td>\n",
       "      <td>/m/03wcfv7</td>\n",
       "    </tr>\n",
       "    <tr>\n",
       "      <th>1</th>\n",
       "      <td>975900</td>\n",
       "      <td>/m/03vyhn</td>\n",
       "      <td>2001-08-24</td>\n",
       "      <td>Lieutenant Melanie Ballard</td>\n",
       "      <td>1974-08-15</td>\n",
       "      <td>F</td>\n",
       "      <td>1.78</td>\n",
       "      <td>NaN</td>\n",
       "      <td>Natasha Henstridge</td>\n",
       "      <td>27.0</td>\n",
       "      <td>/m/0jys3m</td>\n",
       "      <td>/m/0bgchn4</td>\n",
       "      <td>/m/0346l4</td>\n",
       "    </tr>\n",
       "  </tbody>\n",
       "</table>\n",
       "</div>"
      ],
      "text/plain": [
       "   wikipedia_m_ID freebase_m_ID m_release_date              character_name  \\\n",
       "0          975900     /m/03vyhn     2001-08-24                    Akooshay   \n",
       "1          975900     /m/03vyhn     2001-08-24  Lieutenant Melanie Ballard   \n",
       "\n",
       "   actor_dob actor_gender  actor_height actor_ethnicity          actor_name  \\\n",
       "0 1958-08-26            F          1.62             NaN      Wanda De Jesus   \n",
       "1 1974-08-15            F          1.78             NaN  Natasha Henstridge   \n",
       "\n",
       "   actor_age freebase_character_map freebase_character_id freebase_actor_id  \n",
       "0       42.0             /m/0bgchxw            /m/0bgcj3x        /m/03wcfv7  \n",
       "1       27.0              /m/0jys3m            /m/0bgchn4         /m/0346l4  "
      ]
     },
     "execution_count": 4,
     "metadata": {},
     "output_type": "execute_result"
    }
   ],
   "source": [
    "df_chars=pd.read_csv(CHAR_PATH, sep=\"\\t\")\n",
    "df_chars['m_release_date']=pd.to_datetime(df_chars['m_release_date'], errors = 'coerce')\n",
    "df_chars['actor_dob']=pd.to_datetime(df_chars['actor_dob'], errors = 'coerce')\n",
    "df_chars.head(2)"
   ]
  },
  {
   "cell_type": "markdown",
   "id": "6b837dbb",
   "metadata": {},
   "source": [
    "## 1.2 Movie dataset"
   ]
  },
  {
   "cell_type": "code",
   "execution_count": 5,
   "id": "0bacb798",
   "metadata": {},
   "outputs": [
    {
     "data": {
      "text/html": [
       "<div>\n",
       "<style scoped>\n",
       "    .dataframe tbody tr th:only-of-type {\n",
       "        vertical-align: middle;\n",
       "    }\n",
       "\n",
       "    .dataframe tbody tr th {\n",
       "        vertical-align: top;\n",
       "    }\n",
       "\n",
       "    .dataframe thead th {\n",
       "        text-align: right;\n",
       "    }\n",
       "</style>\n",
       "<table border=\"1\" class=\"dataframe\">\n",
       "  <thead>\n",
       "    <tr style=\"text-align: right;\">\n",
       "      <th></th>\n",
       "      <th>wikipedia_m_ID</th>\n",
       "      <th>freebase_m_ID</th>\n",
       "      <th>m_name</th>\n",
       "      <th>m_release_date</th>\n",
       "      <th>m_BO_revenue</th>\n",
       "      <th>m_runtime</th>\n",
       "      <th>m_languages</th>\n",
       "      <th>m_countries</th>\n",
       "      <th>m_genres</th>\n",
       "    </tr>\n",
       "  </thead>\n",
       "  <tbody>\n",
       "    <tr>\n",
       "      <th>0</th>\n",
       "      <td>975900</td>\n",
       "      <td>/m/03vyhn</td>\n",
       "      <td>Ghosts of Mars</td>\n",
       "      <td>2001-08-24</td>\n",
       "      <td>14010832.0</td>\n",
       "      <td>98.0</td>\n",
       "      <td>['English Language']</td>\n",
       "      <td>United States of America</td>\n",
       "      <td>['Thriller', 'Science Fiction', 'Horror', 'Adv...</td>\n",
       "    </tr>\n",
       "    <tr>\n",
       "      <th>1</th>\n",
       "      <td>3196793</td>\n",
       "      <td>/m/08yl5d</td>\n",
       "      <td>Getting Away with Murder: The JonBenét Ramsey ...</td>\n",
       "      <td>2000-02-16</td>\n",
       "      <td>NaN</td>\n",
       "      <td>95.0</td>\n",
       "      <td>['English Language']</td>\n",
       "      <td>United States of America</td>\n",
       "      <td>['Mystery', 'Biographical film', 'Drama', 'Cri...</td>\n",
       "    </tr>\n",
       "  </tbody>\n",
       "</table>\n",
       "</div>"
      ],
      "text/plain": [
       "   wikipedia_m_ID freebase_m_ID  \\\n",
       "0          975900     /m/03vyhn   \n",
       "1         3196793     /m/08yl5d   \n",
       "\n",
       "                                              m_name m_release_date  \\\n",
       "0                                     Ghosts of Mars     2001-08-24   \n",
       "1  Getting Away with Murder: The JonBenét Ramsey ...     2000-02-16   \n",
       "\n",
       "   m_BO_revenue  m_runtime           m_languages               m_countries  \\\n",
       "0    14010832.0       98.0  ['English Language']  United States of America   \n",
       "1           NaN       95.0  ['English Language']  United States of America   \n",
       "\n",
       "                                            m_genres  \n",
       "0  ['Thriller', 'Science Fiction', 'Horror', 'Adv...  \n",
       "1  ['Mystery', 'Biographical film', 'Drama', 'Cri...  "
      ]
     },
     "execution_count": 5,
     "metadata": {},
     "output_type": "execute_result"
    }
   ],
   "source": [
    "df_movies=pd.read_csv(MOVIE_PATH, sep='\\t', converters={\"m_genres\": lambda x: x.strip(\"[]\").split(\", \")})\n",
    "df_movies['m_release_date']=pd.to_datetime(df_movies['m_release_date'], errors = 'coerce')\n",
    "df_movies.drop('m_genre_PCA', axis=1, inplace=True)\n",
    "df_movies.head(2)"
   ]
  },
  {
   "cell_type": "code",
   "execution_count": 6,
   "id": "7f5f47e3",
   "metadata": {},
   "outputs": [],
   "source": [
    "#df_movies['m_genres'].apply(lambda list_genres: [x for x in list_genres])"
   ]
  },
  {
   "cell_type": "markdown",
   "id": "f35e34b6",
   "metadata": {},
   "source": [
    "# 2. Dataset preparation"
   ]
  },
  {
   "cell_type": "markdown",
   "id": "9538a238",
   "metadata": {},
   "source": [
    "## 2.1 Characters dataset"
   ]
  },
  {
   "cell_type": "code",
   "execution_count": 7,
   "id": "c138584d",
   "metadata": {},
   "outputs": [],
   "source": [
    "# Keeps just one row if an actor played several roles in a movie\n",
    "df_chars.drop_duplicates(['wikipedia_m_ID', 'actor_name'], keep='first', inplace=True)"
   ]
  },
  {
   "cell_type": "code",
   "execution_count": 8,
   "id": "6ce7bfc9",
   "metadata": {},
   "outputs": [],
   "source": [
    "# Keep correct actors (you're born before releasing a movie)\n",
    "df_chars = df_chars.loc[(df_chars['actor_dob'] < df_chars['m_release_date'])]"
   ]
  },
  {
   "cell_type": "code",
   "execution_count": 9,
   "id": "f95c997c",
   "metadata": {},
   "outputs": [
    {
     "name": "stdout",
     "output_type": "stream",
     "text": [
      "There are 515 rows with same actor name but different date of birth.\n"
     ]
    }
   ],
   "source": [
    "df_test = df_chars.copy()\n",
    "df_test.drop_duplicates(subset=['actor_name', 'actor_dob'], keep='first', inplace=True)\n",
    "df_test = df_test[df_test.duplicated('actor_name', keep=False)]\n",
    "print(\"There are {} rows with same actor name but different date of birth.\".format(df_test.shape[0]))\n",
    "# We decided to keep those rows, \n",
    "# but add modifications on the ones whose actor name appears in the numbers (to merge the score to the true actor)"
   ]
  },
  {
   "cell_type": "code",
   "execution_count": 10,
   "id": "c32d1188",
   "metadata": {},
   "outputs": [],
   "source": [
    "filter_conditions=(\n",
    "    ((df_chars['actor_name'] =='Edward Burns') & (df_chars['actor_dob'] =='1879-09-21')) |\n",
    "    ((df_chars['actor_name'] =='Harrison Ford') & (df_chars['actor_dob'] =='1884-03-16')) |\n",
    "    ((df_chars['actor_name'] =='Kevin James') & (df_chars['actor_dob'] =='1954-11-17')) # porn actor\n",
    ")\n",
    "df_chars = df_chars.loc[~filter_conditions]"
   ]
  },
  {
   "cell_type": "code",
   "execution_count": 11,
   "id": "513337e8",
   "metadata": {},
   "outputs": [],
   "source": [
    "filter_conditions=(\n",
    "    (df_chars['actor_name'] =='Patrick Wilson') & (df_chars['actor_dob'] =='1969-02-01') \n",
    ")\n",
    "df_chars.loc[filter_conditions, 'actor_dob']= '1973-07-03'"
   ]
  },
  {
   "cell_type": "code",
   "execution_count": 12,
   "id": "5b93a545",
   "metadata": {},
   "outputs": [],
   "source": [
    "filter_conditions=(\n",
    "    (df_chars['actor_name'] =='Justin Long') & (df_chars['actor_dob'] =='1970-06-29') \n",
    ")\n",
    "df_chars.loc[filter_conditions, 'actor_name']= 'Justin Long 2'"
   ]
  },
  {
   "cell_type": "code",
   "execution_count": 13,
   "id": "0e86974f",
   "metadata": {},
   "outputs": [],
   "source": [
    "filter_conditions=(\n",
    "    (df_chars['actor_name'] =='Kenny Rogers') & (df_chars['actor_dob'] =='1964-11-10') \n",
    ")\n",
    "df_chars.loc[filter_conditions, 'actor_dob']= '1938-08-21'"
   ]
  },
  {
   "cell_type": "code",
   "execution_count": 14,
   "id": "de8aaecd",
   "metadata": {},
   "outputs": [],
   "source": [
    "filter_conditions=(\n",
    "    (df_chars['actor_name'] =='Kevin Smith') & (df_chars['actor_dob'] =='1963-03-16') \n",
    ")\n",
    "df_chars.loc[filter_conditions, 'actor_name']= 'Kevin Smith_NZ'"
   ]
  },
  {
   "cell_type": "code",
   "execution_count": 15,
   "id": "23e14564",
   "metadata": {},
   "outputs": [],
   "source": [
    "# Keeps only movies where we have at least two actors (as the interest is coacting)\n",
    "df_chars = df_chars[df_chars.duplicated('wikipedia_m_ID', keep=False)]"
   ]
  },
  {
   "cell_type": "code",
   "execution_count": 16,
   "id": "1430e70c",
   "metadata": {},
   "outputs": [],
   "source": [
    "# Keeps only characters from american movies\n",
    "df_chars = df_chars.merge(df_movies[['wikipedia_m_ID', 'm_name']], how='inner', on='wikipedia_m_ID')"
   ]
  },
  {
   "cell_type": "code",
   "execution_count": 17,
   "id": "2416500a",
   "metadata": {},
   "outputs": [],
   "source": [
    "# Drop columns that won't be used at all for the analysis\n",
    "df_chars.drop(['freebase_character_map', 'freebase_character_id', 'freebase_actor_id', 'freebase_m_ID'], axis=1, inplace=True)"
   ]
  },
  {
   "cell_type": "markdown",
   "id": "44ab7b9d",
   "metadata": {},
   "source": [
    "## 2.2 Movie dataset"
   ]
  },
  {
   "cell_type": "code",
   "execution_count": 18,
   "id": "586c5e7d",
   "metadata": {},
   "outputs": [],
   "source": [
    "# Keeps only movies where actors data is available\n",
    "df_movies = df_movies.merge(df_chars.drop_duplicates('wikipedia_m_ID', keep='first'), how='inner', on=['wikipedia_m_ID', 'm_name', 'm_release_date'])"
   ]
  },
  {
   "cell_type": "code",
   "execution_count": 19,
   "id": "e15f6210",
   "metadata": {},
   "outputs": [],
   "source": [
    "# Drop columns that won't be used at all for the analysis\n",
    "df_movies.drop('freebase_m_ID', axis=1, inplace=True)"
   ]
  },
  {
   "cell_type": "markdown",
   "id": "c2b47df0",
   "metadata": {},
   "source": [
    "# 3. PCA"
   ]
  },
  {
   "cell_type": "code",
   "execution_count": 20,
   "id": "b177d128",
   "metadata": {},
   "outputs": [
    {
     "data": {
      "text/html": [
       "<div>\n",
       "<style scoped>\n",
       "    .dataframe tbody tr th:only-of-type {\n",
       "        vertical-align: middle;\n",
       "    }\n",
       "\n",
       "    .dataframe tbody tr th {\n",
       "        vertical-align: top;\n",
       "    }\n",
       "\n",
       "    .dataframe thead th {\n",
       "        text-align: right;\n",
       "    }\n",
       "</style>\n",
       "<table border=\"1\" class=\"dataframe\">\n",
       "  <thead>\n",
       "    <tr style=\"text-align: right;\">\n",
       "      <th></th>\n",
       "      <th>wikipedia_m_ID</th>\n",
       "      <th>m_name</th>\n",
       "      <th>m_release_date</th>\n",
       "      <th>m_BO_revenue</th>\n",
       "      <th>m_runtime</th>\n",
       "      <th>m_languages</th>\n",
       "      <th>m_countries</th>\n",
       "      <th>m_genres</th>\n",
       "      <th>character_name</th>\n",
       "      <th>actor_dob</th>\n",
       "      <th>actor_gender</th>\n",
       "      <th>actor_height</th>\n",
       "      <th>actor_ethnicity</th>\n",
       "      <th>actor_name</th>\n",
       "      <th>actor_age</th>\n",
       "    </tr>\n",
       "  </thead>\n",
       "  <tbody>\n",
       "    <tr>\n",
       "      <th>0</th>\n",
       "      <td>975900</td>\n",
       "      <td>Ghosts of Mars</td>\n",
       "      <td>2001-08-24</td>\n",
       "      <td>14010832.0</td>\n",
       "      <td>98.0</td>\n",
       "      <td>['English Language']</td>\n",
       "      <td>United States of America</td>\n",
       "      <td>'Thriller'</td>\n",
       "      <td>Akooshay</td>\n",
       "      <td>1958-08-26</td>\n",
       "      <td>F</td>\n",
       "      <td>1.62</td>\n",
       "      <td>NaN</td>\n",
       "      <td>Wanda De Jesus</td>\n",
       "      <td>42.0</td>\n",
       "    </tr>\n",
       "    <tr>\n",
       "      <th>0</th>\n",
       "      <td>975900</td>\n",
       "      <td>Ghosts of Mars</td>\n",
       "      <td>2001-08-24</td>\n",
       "      <td>14010832.0</td>\n",
       "      <td>98.0</td>\n",
       "      <td>['English Language']</td>\n",
       "      <td>United States of America</td>\n",
       "      <td>'Science Fiction'</td>\n",
       "      <td>Akooshay</td>\n",
       "      <td>1958-08-26</td>\n",
       "      <td>F</td>\n",
       "      <td>1.62</td>\n",
       "      <td>NaN</td>\n",
       "      <td>Wanda De Jesus</td>\n",
       "      <td>42.0</td>\n",
       "    </tr>\n",
       "    <tr>\n",
       "      <th>0</th>\n",
       "      <td>975900</td>\n",
       "      <td>Ghosts of Mars</td>\n",
       "      <td>2001-08-24</td>\n",
       "      <td>14010832.0</td>\n",
       "      <td>98.0</td>\n",
       "      <td>['English Language']</td>\n",
       "      <td>United States of America</td>\n",
       "      <td>'Horror'</td>\n",
       "      <td>Akooshay</td>\n",
       "      <td>1958-08-26</td>\n",
       "      <td>F</td>\n",
       "      <td>1.62</td>\n",
       "      <td>NaN</td>\n",
       "      <td>Wanda De Jesus</td>\n",
       "      <td>42.0</td>\n",
       "    </tr>\n",
       "    <tr>\n",
       "      <th>0</th>\n",
       "      <td>975900</td>\n",
       "      <td>Ghosts of Mars</td>\n",
       "      <td>2001-08-24</td>\n",
       "      <td>14010832.0</td>\n",
       "      <td>98.0</td>\n",
       "      <td>['English Language']</td>\n",
       "      <td>United States of America</td>\n",
       "      <td>'Adventure'</td>\n",
       "      <td>Akooshay</td>\n",
       "      <td>1958-08-26</td>\n",
       "      <td>F</td>\n",
       "      <td>1.62</td>\n",
       "      <td>NaN</td>\n",
       "      <td>Wanda De Jesus</td>\n",
       "      <td>42.0</td>\n",
       "    </tr>\n",
       "    <tr>\n",
       "      <th>0</th>\n",
       "      <td>975900</td>\n",
       "      <td>Ghosts of Mars</td>\n",
       "      <td>2001-08-24</td>\n",
       "      <td>14010832.0</td>\n",
       "      <td>98.0</td>\n",
       "      <td>['English Language']</td>\n",
       "      <td>United States of America</td>\n",
       "      <td>'Supernatural'</td>\n",
       "      <td>Akooshay</td>\n",
       "      <td>1958-08-26</td>\n",
       "      <td>F</td>\n",
       "      <td>1.62</td>\n",
       "      <td>NaN</td>\n",
       "      <td>Wanda De Jesus</td>\n",
       "      <td>42.0</td>\n",
       "    </tr>\n",
       "  </tbody>\n",
       "</table>\n",
       "</div>"
      ],
      "text/plain": [
       "   wikipedia_m_ID          m_name m_release_date  m_BO_revenue  m_runtime  \\\n",
       "0          975900  Ghosts of Mars     2001-08-24    14010832.0       98.0   \n",
       "0          975900  Ghosts of Mars     2001-08-24    14010832.0       98.0   \n",
       "0          975900  Ghosts of Mars     2001-08-24    14010832.0       98.0   \n",
       "0          975900  Ghosts of Mars     2001-08-24    14010832.0       98.0   \n",
       "0          975900  Ghosts of Mars     2001-08-24    14010832.0       98.0   \n",
       "\n",
       "            m_languages               m_countries           m_genres  \\\n",
       "0  ['English Language']  United States of America         'Thriller'   \n",
       "0  ['English Language']  United States of America  'Science Fiction'   \n",
       "0  ['English Language']  United States of America           'Horror'   \n",
       "0  ['English Language']  United States of America        'Adventure'   \n",
       "0  ['English Language']  United States of America     'Supernatural'   \n",
       "\n",
       "  character_name  actor_dob actor_gender  actor_height actor_ethnicity  \\\n",
       "0       Akooshay 1958-08-26            F          1.62             NaN   \n",
       "0       Akooshay 1958-08-26            F          1.62             NaN   \n",
       "0       Akooshay 1958-08-26            F          1.62             NaN   \n",
       "0       Akooshay 1958-08-26            F          1.62             NaN   \n",
       "0       Akooshay 1958-08-26            F          1.62             NaN   \n",
       "\n",
       "       actor_name  actor_age  \n",
       "0  Wanda De Jesus       42.0  \n",
       "0  Wanda De Jesus       42.0  \n",
       "0  Wanda De Jesus       42.0  \n",
       "0  Wanda De Jesus       42.0  \n",
       "0  Wanda De Jesus       42.0  "
      ]
     },
     "execution_count": 20,
     "metadata": {},
     "output_type": "execute_result"
    }
   ],
   "source": [
    "df_genres_m = df_movies.explode('m_genres').dropna(subset='m_genres').copy()\n",
    "df_genres_m.head()"
   ]
  },
  {
   "cell_type": "code",
   "execution_count": 128,
   "id": "a8edacfc",
   "metadata": {},
   "outputs": [],
   "source": [
    "def one_hot_encoding(df, col):\n",
    "    y = pd.get_dummies(df[col])\n",
    "    return y, y.columns[1:]"
   ]
  },
  {
   "cell_type": "code",
   "execution_count": 129,
   "id": "d996cd99",
   "metadata": {},
   "outputs": [],
   "source": [
    "one_hot, genres_one_hot_labels = one_hot_encoding(df_genres_m, 'm_genres')\n",
    "one_hot.drop('', axis=1, inplace=True)\n",
    "df_genres_one_hot = pd.concat([df_genres_m, one_hot], axis=1)\n",
    "df_genres_one_hot = df_genres_one_hot.groupby('wikipedia_m_ID')[genres_one_hot_labels].sum()"
   ]
  },
  {
   "cell_type": "code",
   "execution_count": 130,
   "id": "b2da3350",
   "metadata": {},
   "outputs": [],
   "source": [
    "nb_genres_USA=len(genres_one_hot_labels)"
   ]
  },
  {
   "cell_type": "code",
   "execution_count": 131,
   "id": "629c5d9a",
   "metadata": {},
   "outputs": [
    {
     "data": {
      "image/png": "[encoded data removed]",
      "text/plain": [
       "<Figure size 864x432 with 1 Axes>"
      ]
     },
     "metadata": {
      "needs_background": "light"
     },
     "output_type": "display_data"
    }
   ],
   "source": [
    "n=nb_genres_USA\n",
    "scaler = MinMaxScaler()\n",
    "X_features = scaler.fit_transform(df_genres_one_hot)\n",
    "pca = PCA(n)\n",
    "pca.fit(X_features)\n",
    "pca_variance = pca.explained_variance_\n",
    "pca_variance_ratio = pca.explained_variance_ratio_\n",
    "\n",
    "csum = np.cumsum(pca_variance_ratio)\n",
    "plt.figure(figsize=(12, 6))\n",
    "plt.plot(csum)\n",
    "plt.plot(15, 0.6, marker='o', color='red') \n",
    "plt.ylabel('Variance ratio')\n",
    "plt.xlabel('Number of component')\n",
    "plt.title('Cumulated variance ratio vs number of components')\n",
    "plt.text(15, 0.6, '  ({}, {})'.format(15, 0.6))\n",
    "plt.show()"
   ]
  },
  {
   "cell_type": "code",
   "execution_count": 132,
   "id": "9d4039c4",
   "metadata": {},
   "outputs": [],
   "source": [
    "n=20\n",
    "scaler = StandardScaler()\n",
    "X_features = scaler.fit_transform(df_genres_one_hot)\n",
    "pca = PCA(n)\n",
    "pca.fit_transform(X_features)\n",
    "pca_variance = pca.explained_variance_"
   ]
  },
  {
   "cell_type": "code",
   "execution_count": 133,
   "id": "62655dd2",
   "metadata": {},
   "outputs": [],
   "source": [
    "# number of components\n",
    "n_pcs = pca.components_.shape[0]\n",
    "\n",
    "best_four_important = []\n",
    "most_important_names = []\n",
    "n_best = 4\n",
    "initial_feature_names = genres_one_hot_labels\n",
    "for i in range(n_pcs):\n",
    "    elts = np.argsort((pca.components_[i]))[::-1][:n_best]\n",
    "    best_four_important.append(elts)\n",
    "    most_important_names.append([initial_feature_names[elts[i]] for i in range(n_best)])"
   ]
  },
  {
   "cell_type": "code",
   "execution_count": 134,
   "id": "5a5eeb03",
   "metadata": {},
   "outputs": [],
   "source": [
    "new_space = pca.transform(df_genres_one_hot.values)\n",
    "new_space = new_space.argmax(axis=1)\n",
    "\n",
    "df_genres_one_hot['m_genre_PCA'] = new_space\n",
    "df_genres_one_hot['m_genre_PCA'] = df_genres_one_hot['m_genre_PCA'].apply(lambda x: \", \".join(most_important_names[x]))"
   ]
  },
  {
   "cell_type": "code",
   "execution_count": 135,
   "id": "f6bf9888",
   "metadata": {},
   "outputs": [
    {
     "data": {
      "text/html": [
       "<div>\n",
       "<style scoped>\n",
       "    .dataframe tbody tr th:only-of-type {\n",
       "        vertical-align: middle;\n",
       "    }\n",
       "\n",
       "    .dataframe tbody tr th {\n",
       "        vertical-align: top;\n",
       "    }\n",
       "\n",
       "    .dataframe thead th {\n",
       "        text-align: right;\n",
       "    }\n",
       "</style>\n",
       "<table border=\"1\" class=\"dataframe\">\n",
       "  <thead>\n",
       "    <tr style=\"text-align: right;\">\n",
       "      <th></th>\n",
       "      <th>wikipedia_m_ID</th>\n",
       "      <th>m_name</th>\n",
       "      <th>m_release_date</th>\n",
       "      <th>m_BO_revenue</th>\n",
       "      <th>m_runtime</th>\n",
       "      <th>m_languages</th>\n",
       "      <th>m_countries</th>\n",
       "      <th>m_genres</th>\n",
       "      <th>character_name</th>\n",
       "      <th>actor_dob</th>\n",
       "      <th>actor_gender</th>\n",
       "      <th>actor_height</th>\n",
       "      <th>actor_ethnicity</th>\n",
       "      <th>actor_name</th>\n",
       "      <th>actor_age</th>\n",
       "      <th>m_genre_PCA</th>\n",
       "    </tr>\n",
       "  </thead>\n",
       "  <tbody>\n",
       "    <tr>\n",
       "      <th>0</th>\n",
       "      <td>975900</td>\n",
       "      <td>Ghosts of Mars</td>\n",
       "      <td>2001-08-24</td>\n",
       "      <td>14010832.0</td>\n",
       "      <td>98.0</td>\n",
       "      <td>['English Language']</td>\n",
       "      <td>United States of America</td>\n",
       "      <td>['Thriller', 'Science Fiction', 'Horror', 'Adv...</td>\n",
       "      <td>Akooshay</td>\n",
       "      <td>1958-08-26</td>\n",
       "      <td>F</td>\n",
       "      <td>1.62</td>\n",
       "      <td>NaN</td>\n",
       "      <td>Wanda De Jesus</td>\n",
       "      <td>42.0</td>\n",
       "      <td>'Documentary', 'Culture &amp; Society', 'Gay', 'So...</td>\n",
       "    </tr>\n",
       "    <tr>\n",
       "      <th>1</th>\n",
       "      <td>3196793</td>\n",
       "      <td>Getting Away with Murder: The JonBenét Ramsey ...</td>\n",
       "      <td>2000-02-16</td>\n",
       "      <td>NaN</td>\n",
       "      <td>95.0</td>\n",
       "      <td>['English Language']</td>\n",
       "      <td>United States of America</td>\n",
       "      <td>['Mystery', 'Biographical film', 'Drama', 'Cri...</td>\n",
       "      <td>Reporter</td>\n",
       "      <td>1956-12-19</td>\n",
       "      <td>F</td>\n",
       "      <td>NaN</td>\n",
       "      <td>NaN</td>\n",
       "      <td>Alice Barrett</td>\n",
       "      <td>43.0</td>\n",
       "      <td>'Gay', 'Gay Interest', 'Gay Themed', 'LGBT'</td>\n",
       "    </tr>\n",
       "    <tr>\n",
       "      <th>2</th>\n",
       "      <td>10408933</td>\n",
       "      <td>Alexander's Ragtime Band</td>\n",
       "      <td>1938-08-16</td>\n",
       "      <td>3600000.0</td>\n",
       "      <td>106.0</td>\n",
       "      <td>['English Language']</td>\n",
       "      <td>United States of America</td>\n",
       "      <td>['Musical', 'Comedy', 'Black-and-white']</td>\n",
       "      <td>NaN</td>\n",
       "      <td>1908-01-16</td>\n",
       "      <td>F</td>\n",
       "      <td>NaN</td>\n",
       "      <td>NaN</td>\n",
       "      <td>Ethel Merman</td>\n",
       "      <td>30.0</td>\n",
       "      <td>'Family Film', \"Children's/Family\", 'Comedy', ...</td>\n",
       "    </tr>\n",
       "    <tr>\n",
       "      <th>3</th>\n",
       "      <td>175026</td>\n",
       "      <td>Sarah and Son</td>\n",
       "      <td>1930-01-01</td>\n",
       "      <td>NaN</td>\n",
       "      <td>86.0</td>\n",
       "      <td>['English Language']</td>\n",
       "      <td>United States of America</td>\n",
       "      <td>['Drama', 'Black-and-white']</td>\n",
       "      <td>NaN</td>\n",
       "      <td>1892-12-24</td>\n",
       "      <td>F</td>\n",
       "      <td>1.57</td>\n",
       "      <td>NaN</td>\n",
       "      <td>Ruth Chatterton</td>\n",
       "      <td>NaN</td>\n",
       "      <td>'Gay', 'Gay Interest', 'Gay Themed', 'LGBT'</td>\n",
       "    </tr>\n",
       "    <tr>\n",
       "      <th>4</th>\n",
       "      <td>6631279</td>\n",
       "      <td>Little city</td>\n",
       "      <td>1997-04-04</td>\n",
       "      <td>NaN</td>\n",
       "      <td>93.0</td>\n",
       "      <td>['English Language']</td>\n",
       "      <td>United States of America</td>\n",
       "      <td>['Romantic comedy', 'Ensemble Film', 'Comedy-d...</td>\n",
       "      <td>NaN</td>\n",
       "      <td>1971-09-15</td>\n",
       "      <td>M</td>\n",
       "      <td>1.80</td>\n",
       "      <td>NaN</td>\n",
       "      <td>Josh Charles</td>\n",
       "      <td>25.0</td>\n",
       "      <td>'Gross out', 'Gross-out film', 'Comedy', 'Roma...</td>\n",
       "    </tr>\n",
       "  </tbody>\n",
       "</table>\n",
       "</div>"
      ],
      "text/plain": [
       "   wikipedia_m_ID                                             m_name  \\\n",
       "0          975900                                     Ghosts of Mars   \n",
       "1         3196793  Getting Away with Murder: The JonBenét Ramsey ...   \n",
       "2        10408933                           Alexander's Ragtime Band   \n",
       "3          175026                                      Sarah and Son   \n",
       "4         6631279                                        Little city   \n",
       "\n",
       "  m_release_date  m_BO_revenue  m_runtime           m_languages  \\\n",
       "0     2001-08-24    14010832.0       98.0  ['English Language']   \n",
       "1     2000-02-16           NaN       95.0  ['English Language']   \n",
       "2     1938-08-16     3600000.0      106.0  ['English Language']   \n",
       "3     1930-01-01           NaN       86.0  ['English Language']   \n",
       "4     1997-04-04           NaN       93.0  ['English Language']   \n",
       "\n",
       "                m_countries  \\\n",
       "0  United States of America   \n",
       "1  United States of America   \n",
       "2  United States of America   \n",
       "3  United States of America   \n",
       "4  United States of America   \n",
       "\n",
       "                                            m_genres character_name  \\\n",
       "0  ['Thriller', 'Science Fiction', 'Horror', 'Adv...       Akooshay   \n",
       "1  ['Mystery', 'Biographical film', 'Drama', 'Cri...       Reporter   \n",
       "2           ['Musical', 'Comedy', 'Black-and-white']            NaN   \n",
       "3                       ['Drama', 'Black-and-white']            NaN   \n",
       "4  ['Romantic comedy', 'Ensemble Film', 'Comedy-d...            NaN   \n",
       "\n",
       "   actor_dob actor_gender  actor_height actor_ethnicity       actor_name  \\\n",
       "0 1958-08-26            F          1.62             NaN   Wanda De Jesus   \n",
       "1 1956-12-19            F           NaN             NaN    Alice Barrett   \n",
       "2 1908-01-16            F           NaN             NaN     Ethel Merman   \n",
       "3 1892-12-24            F          1.57             NaN  Ruth Chatterton   \n",
       "4 1971-09-15            M          1.80             NaN     Josh Charles   \n",
       "\n",
       "   actor_age                                        m_genre_PCA  \n",
       "0       42.0  'Documentary', 'Culture & Society', 'Gay', 'So...  \n",
       "1       43.0        'Gay', 'Gay Interest', 'Gay Themed', 'LGBT'  \n",
       "2       30.0  'Family Film', \"Children's/Family\", 'Comedy', ...  \n",
       "3        NaN        'Gay', 'Gay Interest', 'Gay Themed', 'LGBT'  \n",
       "4       25.0  'Gross out', 'Gross-out film', 'Comedy', 'Roma...  "
      ]
     },
     "execution_count": 135,
     "metadata": {},
     "output_type": "execute_result"
    }
   ],
   "source": [
    "df_movies_genre_PCA = df_movies.merge(df_genres_one_hot[['m_genre_PCA']], left_on='wikipedia_m_ID', right_on='wikipedia_m_ID')\n",
    "df_movies_genre_PCA.head()"
   ]
  },
  {
   "cell_type": "code",
   "execution_count": 136,
   "id": "ac5a88d7",
   "metadata": {},
   "outputs": [
    {
     "data": {
      "image/png": "[encoded data removed]",
      "text/plain": [
       "<Figure size 1440x432 with 1 Axes>"
      ]
     },
     "metadata": {
      "needs_background": "light"
     },
     "output_type": "display_data"
    }
   ],
   "source": [
    "plt.figure(figsize=(20,6))\n",
    "df_movies_genre_PCA['m_genre_PCA'].value_counts().plot(kind='bar', figsize=(20,6))\n",
    "plt.title('Number of movies per movie genre after PCA', fontsize = 25)\n",
    "plt.xlabel('Movie genre', fontsize = 15)\n",
    "plt.ylabel('Number of movies', fontsize = 15)\n",
    "plt.show()"
   ]
  },
  {
   "cell_type": "code",
   "execution_count": 137,
   "id": "498826a4",
   "metadata": {},
   "outputs": [
    {
     "data": {
      "text/plain": [
       "Series([], Name: m_genres, dtype: int64)"
      ]
     },
     "execution_count": 137,
     "metadata": {},
     "output_type": "execute_result"
    }
   ],
   "source": [
    "df_tmp = df_movies_genre_PCA.explode('m_genres')\n",
    "df_tmp[df_tmp['m_genre_PCA'] == \"'Gross-out film', 'Gross out', 'Comedy', 'Parody'\"]['m_genres'].value_counts().head(15)"
   ]
  },
  {
   "cell_type": "code",
   "execution_count": 138,
   "id": "ddc03b2a",
   "metadata": {},
   "outputs": [
    {
     "data": {
      "text/plain": [
       "'Drama'                4832\n",
       "'Romance Film'         1379\n",
       "'Indie'                1307\n",
       "'Black-and-white'      1039\n",
       "'Romantic drama'        757\n",
       "'Comedy'                523\n",
       "'Crime Fiction'         511\n",
       "'Silent film'           416\n",
       "'LGBT'                  319\n",
       "'Period piece'          310\n",
       "'Melodrama'             304\n",
       "'Film adaptation'       274\n",
       "'Comedy-drama'          266\n",
       "'War film'              248\n",
       "'Family Drama'          216\n",
       "'Biographical film'     213\n",
       "'Romantic comedy'       210\n",
       "'Musical'               208\n",
       "'Television movie'      204\n",
       "'Biopic [feature]'      172\n",
       "'Sports'                156\n",
       "'Biography'             154\n",
       "'Gay Themed'            145\n",
       "'Political drama'       144\n",
       "'Docudrama'             139\n",
       "'Short Film'            133\n",
       "'Coming of age'         123\n",
       "'Comedy film'           119\n",
       "'Gay'                   118\n",
       "'Gay Interest'          117\n",
       "Name: m_genres, dtype: int64"
      ]
     },
     "execution_count": 138,
     "metadata": {},
     "output_type": "execute_result"
    }
   ],
   "source": [
    "df_tmp[df_tmp['m_genre_PCA'] == \"'Gay', 'Gay Interest', 'Gay Themed', 'LGBT'\"]['m_genres'].value_counts().head(30)"
   ]
  },
  {
   "cell_type": "code",
   "execution_count": 139,
   "id": "d98cfea9",
   "metadata": {},
   "outputs": [
    {
     "data": {
      "text/plain": [
       "'Gay', 'Gay Interest', 'Gay Themed', 'LGBT'                         118\n",
       "'Documentary', 'Culture & Society', 'Gay', 'Social issues'            1\n",
       "'Adult', 'Pornographic movie', 'Erotica', 'Hardcore pornography'      1\n",
       "'Family Film', \"Children's/Family\", 'Comedy', 'Animation'             1\n",
       "Name: m_genre_PCA, dtype: int64"
      ]
     },
     "execution_count": 139,
     "metadata": {},
     "output_type": "execute_result"
    }
   ],
   "source": [
    "df_tmp[df_tmp['m_genres']==\"'Gay'\"]['m_genre_PCA'].value_counts()"
   ]
  },
  {
   "cell_type": "code",
   "execution_count": 140,
   "id": "5e731476",
   "metadata": {},
   "outputs": [
    {
     "data": {
      "text/plain": [
       "'Gross out', 'Gross-out film', 'Comedy', 'Romance Film'                                       21272\n",
       "'Action/Adventure', 'Action', 'Comedy', 'Action Thrillers'                                    19004\n",
       "'Gay', 'Gay Interest', 'Gay Themed', 'LGBT'                                                   17026\n",
       "'Family Film', \"Children's/Family\", 'Comedy', 'Animation'                                     12477\n",
       "'Crime Thriller', 'Detective', 'Mystery', 'Detective fiction'                                  9402\n",
       "'Horror', 'B-movie', 'Cult', 'Slasher'                                                         6975\n",
       "'Business', 'Computers', 'Finance & Investing', 'Gross-out film'                               4817\n",
       "'Documentary', 'Culture & Society', 'Gay', 'Social issues'                                     3499\n",
       "'Doomsday film', 'Apocalyptic and post-apocalyptic fiction', 'Gross out', 'Gross-out film'     2090\n",
       "'Musical', 'Music', 'Romance Film', 'Rockumentary'                                             1499\n",
       "'Documentary', 'Culture & Society', 'Biography', 'Social issues'                               1422\n",
       "'Sword and sorcery films', 'Sword and sorcery', 'Rockumentary', 'Fantasy Adventure'             920\n",
       "'Rockumentary', 'Superhero', 'Superhero movie', 'Women in prison films'                         694\n",
       "'Avant-garde', 'Experimental film', 'Surrealism', 'Essay Film'                                  530\n",
       "'Anti-war', 'Anti-war film', 'War film', \"Children's/Family\"                                    508\n",
       "'Adult', 'Pornographic movie', 'Erotica', 'Hardcore pornography'                                415\n",
       "'Business', 'Computers', 'Finance & Investing', 'Romance Film'                                  346\n",
       "'Adult', 'Political satire', 'Pornographic movie', 'Political cinema'                           244\n",
       "'Environmental Science', 'Nature', 'Gross out', 'Gross-out film'                                 80\n",
       "'Environmental Science', 'Nature', 'Anti-war', 'Anti-war film'                                   63\n",
       "Name: m_genre_PCA, dtype: int64"
      ]
     },
     "execution_count": 140,
     "metadata": {},
     "output_type": "execute_result"
    }
   ],
   "source": [
    "df_tmp['m_genre_PCA'].value_counts()"
   ]
  },
  {
   "cell_type": "markdown",
   "id": "f9ce6de5",
   "metadata": {},
   "source": [
    "# 3. Output as clean CSV"
   ]
  },
  {
   "cell_type": "code",
   "execution_count": null,
   "id": "62ebc5d5",
   "metadata": {},
   "outputs": [],
   "source": [
    "OUTPUT_FILE = 'characters_filtered.tsv'\n",
    "OUTPUT_PATH = os.path.join(DATA_PATH, OUTPUT_FILE)\n",
    "df_chars.to_csv(OUTPUT_PATH, sep=\"\\t\", index=False)"
   ]
  },
  {
   "cell_type": "code",
   "execution_count": null,
   "id": "817fb234",
   "metadata": {},
   "outputs": [],
   "source": [
    "OUTPUT_FILE = 'american_movies_filtered.tsv'\n",
    "OUTPUT_PATH = os.path.join(DATA_PATH, OUTPUT_FILE)\n",
    "df_movies.to_csv(OUTPUT_PATH, sep=\"\\t\", index=False)"
   ]
  }
 ],
 "metadata": {
  "kernelspec": {
   "display_name": "Python 3 (ipykernel)",
   "language": "python",
   "name": "python3"
  },
  "language_info": {
   "codemirror_mode": {
    "name": "ipython",
    "version": 3
   },
   "file_extension": ".py",
   "mimetype": "text/x-python",
   "name": "python",
   "nbconvert_exporter": "python",
   "pygments_lexer": "ipython3",
   "version": "3.9.12"
  }
 },
 "nbformat": 4,
 "nbformat_minor": 5
}
