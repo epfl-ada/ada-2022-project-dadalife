{
 "cells": [
  {
   "cell_type": "code",
   "execution_count": 1,
   "id": "aa5cc897",
   "metadata": {},
   "outputs": [],
   "source": [
    "import operator\n",
    "import random\n",
    "import requests\n",
    "import time\n",
    "import csv\n",
    "import os\n",
    "import pandas as pd\n",
    "import seaborn as sns\n",
    "import numpy as np\n",
    "import networkx as nx\n",
    "from scipy import stats\n",
    "from ast import literal_eval\n",
    "from matplotlib import pyplot as plt\n",
    "from statsmodels.stats import diagnostic\n",
    "from datetime import datetime\n",
    "from sklearn.manifold import TSNE\n",
    "from sklearn.decomposition import PCA\n",
    "from sklearn.preprocessing import StandardScaler, MinMaxScaler\n",
    "\n",
    "#colors used when comparing genders\n",
    "PURPLE = 'purple'\n",
    "ORANGE = '#ffb82c'\n",
    "\n",
    "#colors used when generic comparisons\n",
    "BLUE = '#0173b2'\n",
    "RED = '#d55e00'\n",
    "\n",
    "#print(sns.color_palette(\"colorblind\").as_hex())\n",
    "#sns.color_palette(\"colorblind\")"
   ]
  },
  {
   "cell_type": "code",
   "execution_count": 2,
   "id": "c3079717",
   "metadata": {},
   "outputs": [
    {
     "data": {
      "text/html": [
       "\n",
       "<style>\n",
       ".output_png {\n",
       "    display: table-cell;\n",
       "    text-align: center;\n",
       "    vertical-align: middle;\n",
       "}\n",
       "</style>\n"
      ],
      "text/plain": [
       "<IPython.core.display.HTML object>"
      ]
     },
     "execution_count": 2,
     "metadata": {},
     "output_type": "execute_result"
    }
   ],
   "source": [
    "from IPython.core.display import HTML\n",
    "HTML(\"\"\"\n",
    "<style>\n",
    ".output_png {\n",
    "    display: table-cell;\n",
    "    text-align: center;\n",
    "    vertical-align: middle;\n",
    "}\n",
    "</style>\n",
    "\"\"\")"
   ]
  },
  {
   "cell_type": "markdown",
   "id": "9acafde8",
   "metadata": {},
   "source": [
    "# 1. Load the movies dataset\n",
    "<a class=\"anchor\" id=\"load\"></a>"
   ]
  },
  {
   "cell_type": "code",
   "execution_count": 3,
   "id": "201443db",
   "metadata": {},
   "outputs": [],
   "source": [
    "DATA_PATH = './data'\n",
    "MOVIE_PATH = os.path.join(DATA_PATH, 'movie.metadata.tsv')"
   ]
  },
  {
   "cell_type": "code",
   "execution_count": 4,
   "id": "c3ce24ef",
   "metadata": {},
   "outputs": [],
   "source": [
    "m_cols = [\"wikipedia_m_ID\", \"freebase_m_ID\", \"m_name\", \"m_release_date\", \"m_BO_revenue\", \"m_runtime\", \"m_languages\", \"m_countries\", \"m_genres\"]\n",
    "df_movies=pd.read_csv(MOVIE_PATH, sep='\\t', names=m_cols, converters={'m_languages': literal_eval, 'm_countries': literal_eval, 'm_genres': literal_eval})"
   ]
  },
  {
   "cell_type": "markdown",
   "id": "f35e34b6",
   "metadata": {},
   "source": [
    "# 2. Quick look at the data\n",
    "<a class=\"anchor\" id=\"quicklook\"></a>"
   ]
  },
  {
   "cell_type": "code",
   "execution_count": 5,
   "id": "f68607a3",
   "metadata": {},
   "outputs": [
    {
     "name": "stdout",
     "output_type": "stream",
     "text": [
      "<class 'pandas.core.frame.DataFrame'>\n",
      "RangeIndex: 81741 entries, 0 to 81740\n",
      "Data columns (total 9 columns):\n",
      " #   Column          Non-Null Count  Dtype  \n",
      "---  ------          --------------  -----  \n",
      " 0   wikipedia_m_ID  81741 non-null  int64  \n",
      " 1   freebase_m_ID   81741 non-null  object \n",
      " 2   m_name          81741 non-null  object \n",
      " 3   m_release_date  74839 non-null  object \n",
      " 4   m_BO_revenue    8401 non-null   float64\n",
      " 5   m_runtime       61291 non-null  float64\n",
      " 6   m_languages     81741 non-null  object \n",
      " 7   m_countries     81741 non-null  object \n",
      " 8   m_genres        81741 non-null  object \n",
      "dtypes: float64(2), int64(1), object(6)\n",
      "memory usage: 5.6+ MB\n"
     ]
    }
   ],
   "source": [
    "df_movies.info()"
   ]
  },
  {
   "cell_type": "code",
   "execution_count": 6,
   "id": "86697fdc",
   "metadata": {},
   "outputs": [
    {
     "data": {
      "text/html": [
       "<div>\n",
       "<style scoped>\n",
       "    .dataframe tbody tr th:only-of-type {\n",
       "        vertical-align: middle;\n",
       "    }\n",
       "\n",
       "    .dataframe tbody tr th {\n",
       "        vertical-align: top;\n",
       "    }\n",
       "\n",
       "    .dataframe thead th {\n",
       "        text-align: right;\n",
       "    }\n",
       "</style>\n",
       "<table border=\"1\" class=\"dataframe\">\n",
       "  <thead>\n",
       "    <tr style=\"text-align: right;\">\n",
       "      <th></th>\n",
       "      <th>wikipedia_m_ID</th>\n",
       "      <th>freebase_m_ID</th>\n",
       "      <th>m_name</th>\n",
       "      <th>m_release_date</th>\n",
       "      <th>m_BO_revenue</th>\n",
       "      <th>m_runtime</th>\n",
       "      <th>m_languages</th>\n",
       "      <th>m_countries</th>\n",
       "      <th>m_genres</th>\n",
       "    </tr>\n",
       "  </thead>\n",
       "  <tbody>\n",
       "    <tr>\n",
       "      <th>28961</th>\n",
       "      <td>789953</td>\n",
       "      <td>/m/03cd3z</td>\n",
       "      <td>The Chechahcos</td>\n",
       "      <td>1924-05-12</td>\n",
       "      <td>NaN</td>\n",
       "      <td>87.0</td>\n",
       "      <td>{}</td>\n",
       "      <td>{'/m/09c7w0': 'United States of America'}</td>\n",
       "      <td>{'/m/06ppq': 'Silent film', '/m/07s9rl0': 'Dra...</td>\n",
       "    </tr>\n",
       "    <tr>\n",
       "      <th>43464</th>\n",
       "      <td>1196030</td>\n",
       "      <td>/m/04gf4t</td>\n",
       "      <td>Car Wash</td>\n",
       "      <td>1976</td>\n",
       "      <td>NaN</td>\n",
       "      <td>97.0</td>\n",
       "      <td>{'/m/02h40lc': 'English Language'}</td>\n",
       "      <td>{'/m/09c7w0': 'United States of America'}</td>\n",
       "      <td>{'/m/01q03': 'Cult', '/m/01z4y': 'Comedy'}</td>\n",
       "    </tr>\n",
       "    <tr>\n",
       "      <th>59579</th>\n",
       "      <td>28645571</td>\n",
       "      <td>/m/0cz9r8d</td>\n",
       "      <td>Toxic Zombies</td>\n",
       "      <td>1980</td>\n",
       "      <td>NaN</td>\n",
       "      <td>89.0</td>\n",
       "      <td>{'/m/02h40lc': 'English Language'}</td>\n",
       "      <td>{'/m/09c7w0': 'United States of America'}</td>\n",
       "      <td>{'/m/0jb4p32': 'Zombie Film', '/m/03npn': 'Hor...</td>\n",
       "    </tr>\n",
       "    <tr>\n",
       "      <th>61446</th>\n",
       "      <td>24222823</td>\n",
       "      <td>/m/07k3zdk</td>\n",
       "      <td>Hellish Mad Rush</td>\n",
       "      <td>NaN</td>\n",
       "      <td>NaN</td>\n",
       "      <td>NaN</td>\n",
       "      <td>{}</td>\n",
       "      <td>{}</td>\n",
       "      <td>{}</td>\n",
       "    </tr>\n",
       "  </tbody>\n",
       "</table>\n",
       "</div>"
      ],
      "text/plain": [
       "       wikipedia_m_ID freebase_m_ID            m_name m_release_date  \\\n",
       "28961          789953     /m/03cd3z    The Chechahcos     1924-05-12   \n",
       "43464         1196030     /m/04gf4t          Car Wash           1976   \n",
       "59579        28645571    /m/0cz9r8d     Toxic Zombies           1980   \n",
       "61446        24222823    /m/07k3zdk  Hellish Mad Rush            NaN   \n",
       "\n",
       "       m_BO_revenue  m_runtime                         m_languages  \\\n",
       "28961           NaN       87.0                                  {}   \n",
       "43464           NaN       97.0  {'/m/02h40lc': 'English Language'}   \n",
       "59579           NaN       89.0  {'/m/02h40lc': 'English Language'}   \n",
       "61446           NaN        NaN                                  {}   \n",
       "\n",
       "                                     m_countries  \\\n",
       "28961  {'/m/09c7w0': 'United States of America'}   \n",
       "43464  {'/m/09c7w0': 'United States of America'}   \n",
       "59579  {'/m/09c7w0': 'United States of America'}   \n",
       "61446                                         {}   \n",
       "\n",
       "                                                m_genres  \n",
       "28961  {'/m/06ppq': 'Silent film', '/m/07s9rl0': 'Dra...  \n",
       "43464         {'/m/01q03': 'Cult', '/m/01z4y': 'Comedy'}  \n",
       "59579  {'/m/0jb4p32': 'Zombie Film', '/m/03npn': 'Hor...  \n",
       "61446                                                 {}  "
      ]
     },
     "execution_count": 6,
     "metadata": {},
     "output_type": "execute_result"
    }
   ],
   "source": [
    "df_movies.sample(4)"
   ]
  },
  {
   "cell_type": "markdown",
   "id": "55a71375",
   "metadata": {},
   "source": [
    "# 3. Data preprocessing\n",
    "<a class=\"anchor\" id=\"preprocessing\"></a>"
   ]
  },
  {
   "cell_type": "markdown",
   "id": "9fc80ab0",
   "metadata": {},
   "source": [
    "#### Columns conversion"
   ]
  },
  {
   "cell_type": "code",
   "execution_count": 7,
   "id": "06b111ba",
   "metadata": {},
   "outputs": [],
   "source": [
    "#Movie release dates are parsed as datetime.\n",
    "df_movies['m_release_date']=pd.to_datetime(df_movies['m_release_date'], errors = 'coerce')"
   ]
  },
  {
   "cell_type": "markdown",
   "id": "fd937356",
   "metadata": {},
   "source": [
    "#### Movie freebase ID"
   ]
  },
  {
   "cell_type": "code",
   "execution_count": 8,
   "id": "22af07d4",
   "metadata": {},
   "outputs": [],
   "source": [
    "#A sample of movies is taken to get their freebase ID. The average is then done on how much of them had a valid movie freebase ID.\n",
    "tot = []\n",
    "k_size = 8\n",
    "n = 100\n",
    "for k in range(k_size):\n",
    "    rd_elements = random.sample(df_movies['freebase_m_ID'].apply(lambda x: x.split('/')[2]).to_list(), n)\n",
    "    url='%28%3'\n",
    "    for x in rd_elements:\n",
    "        url += 'Ftitle%20%3D%20%22%2Fm%2F' + x + '%22%20%7C%7C%20%3'\n",
    "    query = 'https://query.wikidata.org/bigdata/namespace/wdq/sparql?format=json&query=PREFIX%20wd%3A%20%3Chttp%3A%2F%2Fwww.wikidata.org%2Fentity%2F%3E%0APREFIX%20wdt%3A%20%3Chttp%3A%2F%2Fwww.wikidata.org%2Fprop%2Fdirect%2F%3E%0APREFIX%20wikibase%3A%20%3Chttp%3A%2F%2Fwikiba.se%2Fontology%23%3E%0A%0ASELECT%20%20%3Fs%20%3Ftitle%20WHERE%20%7B%20%0A%20%20VALUES%20%3Fmovietype%20%7B%20wd%3AQ11424%7D%0A%20%20%3Fs%20p%3AP31%2Fps%3AP31%20%3Fmovietype.%0A%20%20%3Fs%20wdt%3AP646%20%3Ftitle.%0A%20%20FILTER{}%22%29%0A%0A%20%20%20SERVICE%20wikibase%3Alabel%20%7B%0A%20%20%20%20bd%3AserviceParam%20wikibase%3Alanguage%20%22en%22%20.%0A%20%20%20%7D%0A%20%7D'.format(url[:-17])\n",
    "    response = requests.get(query)\n",
    "    response = response.json()['results']['bindings']\n",
    "    tot.append(len(response))"
   ]
  },
  {
   "cell_type": "code",
   "execution_count": 9,
   "id": "9295a76e",
   "metadata": {},
   "outputs": [
    {
     "data": {
      "image/png": "[encoded data removed]",
      "text/plain": [
       "<Figure size 720x360 with 1 Axes>"
      ]
     },
     "metadata": {
      "needs_background": "light"
     },
     "output_type": "display_data"
    },
    {
     "name": "stdout",
     "output_type": "stream",
     "text": [
      "There is around 78.00% of the movies that have an active wikipedia freebase ID.\n"
     ]
    }
   ],
   "source": [
    "ratio = [x/n for x in tot]\n",
    "avg_ratio = sum(ratio)/k_size\n",
    "plt.figure(figsize=(10, 5))\n",
    "plt.plot(np.linspace(0, k_size-1, k_size).astype(int), ratio, marker='o', linewidth=0, markersize=8, color=BLUE, label='Folds')\n",
    "plt.xticks(np.linspace(0, k_size-1, k_size).astype(int))\n",
    "plt.plot(np.linspace(-1, k_size, k_size).astype(int), [avg_ratio]*k_size, color=RED, label='Average')\n",
    "plt.xlim(- 0.1, k_size -1 + 0.1)\n",
    "plt.ylim(0, 1)\n",
    "plt.xlabel(\"K folds\")\n",
    "plt.ylabel(\"Average in the sample of movie\")\n",
    "plt.grid()\n",
    "plt.text(0.1, avg_ratio + 0.05, \"Average = {:.2f}\".format(avg_ratio))\n",
    "plt.legend()\n",
    "plt.title(\"Proportion of movies that have a valid freebase ID\\nSampling {} times with replacement on {} movies.\".format(k_size, n))\n",
    "plt.show()\n",
    "print(\"There is around {:.2f}% of the movies that have an active wikipedia freebase ID.\".format(avg_ratio*100))"
   ]
  },
  {
   "cell_type": "markdown",
   "id": "adb8defb",
   "metadata": {},
   "source": [
    "#### Critical values"
   ]
  },
  {
   "cell_type": "code",
   "execution_count": 10,
   "id": "1ce6eeb4",
   "metadata": {},
   "outputs": [
    {
     "name": "stdout",
     "output_type": "stream",
     "text": [
      "There are 17949 rows with critical values. These are values such as: empty dictionaries, 0, nan, etc.\n"
     ]
    }
   ],
   "source": [
    "#Number of movies with critical values.\n",
    "nb_critical_values = df_movies[~df_movies.astype(bool).all(axis=1)].shape[0]\n",
    "print(\"There are {} rows with critical values. These are values such as: empty dictionaries, 0, nan, etc.\".format(nb_critical_values))"
   ]
  },
  {
   "cell_type": "markdown",
   "id": "60716a0e",
   "metadata": {},
   "source": [
    "#### Duplicated rows"
   ]
  },
  {
   "cell_type": "code",
   "execution_count": 11,
   "id": "86cd72fd",
   "metadata": {},
   "outputs": [
    {
     "name": "stdout",
     "output_type": "stream",
     "text": [
      "There are 0 duplicated rows in the movie dataset.\n"
     ]
    }
   ],
   "source": [
    "df_temp = df_movies.copy()\n",
    "df_temp['m_languages'] = df_temp['m_languages'].apply(lambda x: str(list(x.values())))\n",
    "df_temp['m_countries'] = df_temp['m_countries'].apply(lambda x: str(list(x.values())))\n",
    "df_temp['m_genres'] = df_temp['m_genres'].apply(lambda x: str(list(x.values())))\n",
    "nb_movie_duplicated_rows = df_temp.duplicated().sum()\n",
    "print(\"There are {} duplicated rows in the movie dataset.\".format(nb_movie_duplicated_rows))"
   ]
  },
  {
   "cell_type": "markdown",
   "id": "9d06e4ed",
   "metadata": {},
   "source": [
    "#### Duplicated movies"
   ]
  },
  {
   "cell_type": "code",
   "execution_count": 12,
   "id": "6c9068fa",
   "metadata": {},
   "outputs": [
    {
     "data": {
      "text/html": [
       "<div>\n",
       "<style scoped>\n",
       "    .dataframe tbody tr th:only-of-type {\n",
       "        vertical-align: middle;\n",
       "    }\n",
       "\n",
       "    .dataframe tbody tr th {\n",
       "        vertical-align: top;\n",
       "    }\n",
       "\n",
       "    .dataframe thead th {\n",
       "        text-align: right;\n",
       "    }\n",
       "</style>\n",
       "<table border=\"1\" class=\"dataframe\">\n",
       "  <thead>\n",
       "    <tr style=\"text-align: right;\">\n",
       "      <th></th>\n",
       "      <th>wikipedia_m_ID</th>\n",
       "      <th>freebase_m_ID</th>\n",
       "      <th>m_name</th>\n",
       "      <th>m_release_date</th>\n",
       "      <th>m_BO_revenue</th>\n",
       "      <th>m_runtime</th>\n",
       "      <th>m_languages</th>\n",
       "      <th>m_countries</th>\n",
       "      <th>m_genres</th>\n",
       "    </tr>\n",
       "  </thead>\n",
       "  <tbody>\n",
       "    <tr>\n",
       "      <th>64872</th>\n",
       "      <td>24604084</td>\n",
       "      <td>/m/080cdj1</td>\n",
       "      <td>A</td>\n",
       "      <td>1998-01-01</td>\n",
       "      <td>NaN</td>\n",
       "      <td>136.0</td>\n",
       "      <td>{'/m/03_9r': 'Japanese Language'}</td>\n",
       "      <td>{'/m/03_3d': 'Japan'}</td>\n",
       "      <td>{'/m/0gw5n2f': 'Japanese Movies', '/m/03q4nz':...</td>\n",
       "    </tr>\n",
       "    <tr>\n",
       "      <th>66267</th>\n",
       "      <td>23488527</td>\n",
       "      <td>/m/06w8mcl</td>\n",
       "      <td>A</td>\n",
       "      <td>1998-01-01</td>\n",
       "      <td>NaN</td>\n",
       "      <td>NaN</td>\n",
       "      <td>{'/m/09bnf': 'Kannada Language'}</td>\n",
       "      <td>{'/m/03rk0': 'India'}</td>\n",
       "      <td>{'/m/02l7c8': 'Romance Film'}</td>\n",
       "    </tr>\n",
       "    <tr>\n",
       "      <th>38544</th>\n",
       "      <td>33545449</td>\n",
       "      <td>/m/0hgrdzf</td>\n",
       "      <td>A Sister to Assist 'Er</td>\n",
       "      <td>NaT</td>\n",
       "      <td>NaN</td>\n",
       "      <td>59.0</td>\n",
       "      <td>{}</td>\n",
       "      <td>{}</td>\n",
       "      <td>{'/m/05p553': 'Comedy film'}</td>\n",
       "    </tr>\n",
       "    <tr>\n",
       "      <th>74307</th>\n",
       "      <td>33545395</td>\n",
       "      <td>/m/0hgrll0</td>\n",
       "      <td>A Sister to Assist 'Er</td>\n",
       "      <td>NaT</td>\n",
       "      <td>NaN</td>\n",
       "      <td>64.0</td>\n",
       "      <td>{}</td>\n",
       "      <td>{}</td>\n",
       "      <td>{'/m/05p553': 'Comedy film'}</td>\n",
       "    </tr>\n",
       "  </tbody>\n",
       "</table>\n",
       "</div>"
      ],
      "text/plain": [
       "       wikipedia_m_ID freebase_m_ID                  m_name m_release_date  \\\n",
       "64872        24604084    /m/080cdj1                       A     1998-01-01   \n",
       "66267        23488527    /m/06w8mcl                       A     1998-01-01   \n",
       "38544        33545449    /m/0hgrdzf  A Sister to Assist 'Er            NaT   \n",
       "74307        33545395    /m/0hgrll0  A Sister to Assist 'Er            NaT   \n",
       "\n",
       "       m_BO_revenue  m_runtime                        m_languages  \\\n",
       "64872           NaN      136.0  {'/m/03_9r': 'Japanese Language'}   \n",
       "66267           NaN        NaN   {'/m/09bnf': 'Kannada Language'}   \n",
       "38544           NaN       59.0                                 {}   \n",
       "74307           NaN       64.0                                 {}   \n",
       "\n",
       "                 m_countries  \\\n",
       "64872  {'/m/03_3d': 'Japan'}   \n",
       "66267  {'/m/03rk0': 'India'}   \n",
       "38544                     {}   \n",
       "74307                     {}   \n",
       "\n",
       "                                                m_genres  \n",
       "64872  {'/m/0gw5n2f': 'Japanese Movies', '/m/03q4nz':...  \n",
       "66267                      {'/m/02l7c8': 'Romance Film'}  \n",
       "38544                       {'/m/05p553': 'Comedy film'}  \n",
       "74307                       {'/m/05p553': 'Comedy film'}  "
      ]
     },
     "execution_count": 12,
     "metadata": {},
     "output_type": "execute_result"
    }
   ],
   "source": [
    "df_movies[df_movies.duplicated(subset=['m_name', 'm_release_date'], keep=False)].sort_values('m_name').head(4)"
   ]
  },
  {
   "cell_type": "code",
   "execution_count": 13,
   "id": "68a1f59c",
   "metadata": {},
   "outputs": [
    {
     "name": "stdout",
     "output_type": "stream",
     "text": [
      "There are 196 duplicated movies.\n"
     ]
    }
   ],
   "source": [
    "#Number of duplicated movies.\n",
    "nb_movies_duplicated = df_movies[df_movies.duplicated(subset=['m_name', 'm_release_date'], keep=False)]['wikipedia_m_ID'].count()\n",
    "print(\"There are {} duplicated movies.\".format(nb_movies_duplicated))"
   ]
  },
  {
   "cell_type": "markdown",
   "id": "bcb7139c",
   "metadata": {},
   "source": [
    "#### Movie release date"
   ]
  },
  {
   "cell_type": "code",
   "execution_count": 14,
   "id": "6edb5aa3",
   "metadata": {},
   "outputs": [
    {
     "data": {
      "image/png": "[encoded data removed]",
      "text/plain": [
       "<Figure size 2160x720 with 1 Axes>"
      ]
     },
     "metadata": {
      "needs_background": "light"
     },
     "output_type": "display_data"
    }
   ],
   "source": [
    "#Movie release date quick overview\n",
    "df_movies['m_release_date'].dropna().dt.year.sort_values().value_counts(sort=False).plot(kind='bar', figsize=(30,10))\n",
    "plt.grid()\n",
    "plt.title('Distribution of the film release date', fontsize=25)\n",
    "plt.xlabel('Date', fontsize=15)\n",
    "plt.ylabel('Number of films', fontsize=15)\n",
    "plt.show()"
   ]
  },
  {
   "cell_type": "code",
   "execution_count": 15,
   "id": "aac5ca5d",
   "metadata": {},
   "outputs": [
    {
     "data": {
      "text/html": [
       "<div>\n",
       "<style scoped>\n",
       "    .dataframe tbody tr th:only-of-type {\n",
       "        vertical-align: middle;\n",
       "    }\n",
       "\n",
       "    .dataframe tbody tr th {\n",
       "        vertical-align: top;\n",
       "    }\n",
       "\n",
       "    .dataframe thead th {\n",
       "        text-align: right;\n",
       "    }\n",
       "</style>\n",
       "<table border=\"1\" class=\"dataframe\">\n",
       "  <thead>\n",
       "    <tr style=\"text-align: right;\">\n",
       "      <th></th>\n",
       "      <th>wikipedia_m_ID</th>\n",
       "      <th>freebase_m_ID</th>\n",
       "      <th>m_name</th>\n",
       "      <th>m_release_date</th>\n",
       "      <th>m_BO_revenue</th>\n",
       "      <th>m_runtime</th>\n",
       "      <th>m_languages</th>\n",
       "      <th>m_countries</th>\n",
       "      <th>m_genres</th>\n",
       "    </tr>\n",
       "  </thead>\n",
       "  <tbody>\n",
       "    <tr>\n",
       "      <th>34022</th>\n",
       "      <td>23124260</td>\n",
       "      <td>/m/064mmw7</td>\n",
       "      <td>Jeepers Creepers 4</td>\n",
       "      <td>2016-06-08</td>\n",
       "      <td>NaN</td>\n",
       "      <td>NaN</td>\n",
       "      <td>{}</td>\n",
       "      <td>{'/m/09c7w0': 'United States of America'}</td>\n",
       "      <td>{'/m/01jfsb': 'Thriller', '/m/03npn': 'Horror'}</td>\n",
       "    </tr>\n",
       "    <tr>\n",
       "      <th>30275</th>\n",
       "      <td>27554912</td>\n",
       "      <td>/m/0c03gcc</td>\n",
       "      <td>Kung Fu Panda 3</td>\n",
       "      <td>2016-03-18</td>\n",
       "      <td>NaN</td>\n",
       "      <td>NaN</td>\n",
       "      <td>{}</td>\n",
       "      <td>{}</td>\n",
       "      <td>{}</td>\n",
       "    </tr>\n",
       "    <tr>\n",
       "      <th>64862</th>\n",
       "      <td>3139382</td>\n",
       "      <td>/m/08tyfg</td>\n",
       "      <td>Battle Angel</td>\n",
       "      <td>2016-01-01</td>\n",
       "      <td>NaN</td>\n",
       "      <td>NaN</td>\n",
       "      <td>{'/m/02h40lc': 'English Language'}</td>\n",
       "      <td>{'/m/09c7w0': 'United States of America'}</td>\n",
       "      <td>{'/m/01jfsb': 'Thriller', '/m/06n90': 'Science...</td>\n",
       "    </tr>\n",
       "    <tr>\n",
       "      <th>51429</th>\n",
       "      <td>25813358</td>\n",
       "      <td>/m/0gmbk1g</td>\n",
       "      <td>Avatar 2</td>\n",
       "      <td>2015-01-01</td>\n",
       "      <td>NaN</td>\n",
       "      <td>NaN</td>\n",
       "      <td>{'/m/02h40lc': 'English Language'}</td>\n",
       "      <td>{'/m/09c7w0': 'United States of America'}</td>\n",
       "      <td>{'/m/06n90': 'Science Fiction', '/m/02kdv5l': ...</td>\n",
       "    </tr>\n",
       "    <tr>\n",
       "      <th>53855</th>\n",
       "      <td>32416903</td>\n",
       "      <td>/m/0gys9tc</td>\n",
       "      <td>Total Dhamaal</td>\n",
       "      <td>2015-01-01</td>\n",
       "      <td>NaN</td>\n",
       "      <td>138.0</td>\n",
       "      <td>{'/m/03k50': 'Hindi Language'}</td>\n",
       "      <td>{}</td>\n",
       "      <td>{'/m/05p553': 'Comedy film'}</td>\n",
       "    </tr>\n",
       "  </tbody>\n",
       "</table>\n",
       "</div>"
      ],
      "text/plain": [
       "       wikipedia_m_ID freebase_m_ID              m_name m_release_date  \\\n",
       "34022        23124260    /m/064mmw7  Jeepers Creepers 4     2016-06-08   \n",
       "30275        27554912    /m/0c03gcc     Kung Fu Panda 3     2016-03-18   \n",
       "64862         3139382     /m/08tyfg        Battle Angel     2016-01-01   \n",
       "51429        25813358    /m/0gmbk1g            Avatar 2     2015-01-01   \n",
       "53855        32416903    /m/0gys9tc       Total Dhamaal     2015-01-01   \n",
       "\n",
       "       m_BO_revenue  m_runtime                         m_languages  \\\n",
       "34022           NaN        NaN                                  {}   \n",
       "30275           NaN        NaN                                  {}   \n",
       "64862           NaN        NaN  {'/m/02h40lc': 'English Language'}   \n",
       "51429           NaN        NaN  {'/m/02h40lc': 'English Language'}   \n",
       "53855           NaN      138.0      {'/m/03k50': 'Hindi Language'}   \n",
       "\n",
       "                                     m_countries  \\\n",
       "34022  {'/m/09c7w0': 'United States of America'}   \n",
       "30275                                         {}   \n",
       "64862  {'/m/09c7w0': 'United States of America'}   \n",
       "51429  {'/m/09c7w0': 'United States of America'}   \n",
       "53855                                         {}   \n",
       "\n",
       "                                                m_genres  \n",
       "34022    {'/m/01jfsb': 'Thriller', '/m/03npn': 'Horror'}  \n",
       "30275                                                 {}  \n",
       "64862  {'/m/01jfsb': 'Thriller', '/m/06n90': 'Science...  \n",
       "51429  {'/m/06n90': 'Science Fiction', '/m/02kdv5l': ...  \n",
       "53855                       {'/m/05p553': 'Comedy film'}  "
      ]
     },
     "execution_count": 15,
     "metadata": {},
     "output_type": "execute_result"
    }
   ],
   "source": [
    "#Quick look at the movies after 2013.\n",
    "df_movies[df_movies['m_release_date'].dt.year > 2013].sort_values('m_release_date', ascending=False).head()"
   ]
  },
  {
   "cell_type": "code",
   "execution_count": 16,
   "id": "a9f5397b",
   "metadata": {},
   "outputs": [
    {
     "name": "stdout",
     "output_type": "stream",
     "text": [
      "There are 24 movies released after 2013. It can be seen that several movies have a wrong date of release (e.g Avatar 2).\n"
     ]
    }
   ],
   "source": [
    "nb_movies_after_2013 = df_movies[df_movies['m_release_date'].dt.year > 2013].shape[0]\n",
    "print(\"There are {} movies released after 2013. It can be seen that several movies have a wrong date of release (e.g Avatar 2).\".format(nb_movies_after_2013))"
   ]
  },
  {
   "cell_type": "markdown",
   "id": "2f534fc4",
   "metadata": {},
   "source": [
    "#### Movie runtime"
   ]
  },
  {
   "cell_type": "code",
   "execution_count": 17,
   "id": "eb599e35",
   "metadata": {},
   "outputs": [
    {
     "data": {
      "image/png": "[encoded data removed]",
      "text/plain": [
       "<Figure size 1440x720 with 1 Axes>"
      ]
     },
     "metadata": {
      "needs_background": "light"
     },
     "output_type": "display_data"
    }
   ],
   "source": [
    "plt.figure(figsize=(20,10))\n",
    "df_movies.m_runtime.hist(bins=50)\n",
    "plt.yscale('log')\n",
    "plt.ylabel('Number of movies (log scale)', fontsize=15)\n",
    "plt.xlabel('Duration of movies', fontsize=15)\n",
    "plt.title(\"Log-scaled distribution of the movie duration in the dataset\", fontsize=25)\n",
    "plt.show()"
   ]
  },
  {
   "cell_type": "code",
   "execution_count": 18,
   "id": "1f28d058",
   "metadata": {},
   "outputs": [
    {
     "name": "stdout",
     "output_type": "stream",
     "text": [
      "There are 14 movies which a runtime > 1500 and 107 movies with a runtime < 1.\n"
     ]
    }
   ],
   "source": [
    "nb_movies_duration_inf_1 = df_movies[(df_movies['m_runtime']>= 1500)]['wikipedia_m_ID'].count()\n",
    "nb_movies_duration_supp_1500 = df_movies[(df_movies['m_runtime']<= 1)]['wikipedia_m_ID'].count()\n",
    "print(\"There are {} movies which a runtime > 1500 and {} movies with a runtime < 1.\".format(nb_movies_duration_inf_1, nb_movies_duration_supp_1500))"
   ]
  },
  {
   "cell_type": "markdown",
   "id": "6efb2f87",
   "metadata": {},
   "source": [
    "One can see that there are some outliers in the runtime. It might be due to the time conversion. As the runtime input is supposed to be in minutes, freebase ID will be queried using wikidata to know whether the runtime is the correct one."
   ]
  },
  {
   "cell_type": "markdown",
   "id": "b0b1d43f",
   "metadata": {},
   "source": [
    "The movie database contains following errors:\n",
    "- **Critical values**: There are values such as empty dictionaries, 0, False in the rows. For practicity, they'll be all replaced by np.nan values.\n",
    "- **Duplicated movies**: There are movies that can be considered identical (same movie name and same release date). Some of them are duplicated. They'll be safely removed by keeping the first one as they represent the same movie.\n",
    "- **Movie release date**: There are some outliers in the movie release date. This mainly concerns movies after 2013. It is due to the creation date of the dataset: 2013. It means all the movies after 2013 are probable dates of release rather than effective ones. Those will be queried using freebase movie ID and changed when possible (as it might be earlier). After this operation, the movies after 2013 will be dropped as it was too recent regarding the dataset creation. This is also a reason why there is too few movies after 2013.\n",
    "- **Movie runtime**: There are some outliers in the movie runtime. Movie runtime is supposed to be in minutes. However, there is one movie that would last 60 days. In the other way, there are many films that last less than a minute. It is probable that all those cases are due to wrong conversions (i.e duration expressed in seconds or in hours). Those will be queried using freebase movie ID and changed when possible. If the movie does not exist using freebase, the runtime will be kept. But when studying runtime, it will be important to remember those edgecases."
   ]
  },
  {
   "cell_type": "markdown",
   "id": "b576d2d2",
   "metadata": {},
   "source": [
    "#### Cleaning"
   ]
  },
  {
   "cell_type": "code",
   "execution_count": 19,
   "id": "d222a65b",
   "metadata": {},
   "outputs": [],
   "source": [
    "df_movies=df_movies.where(df_movies.astype(bool),np.nan).drop_duplicates(subset=['m_name', 'm_release_date'], keep='first')"
   ]
  },
  {
   "cell_type": "code",
   "execution_count": 20,
   "id": "742edf81",
   "metadata": {},
   "outputs": [],
   "source": [
    "feature_wiki_ID={\n",
    "    \"runtime\": 'AP2047',\n",
    "    \"pubdate\":'AP577'\n",
    "}\n",
    "\n",
    "def get_freebase_feature_movie(row, value, op, n_lim, feature):\n",
    "    ops = {\n",
    "    '>=' : operator.ge,\n",
    "    '<=' : operator.le,\n",
    "    '>' : operator.gt,\n",
    "    '<' : operator.lt,\n",
    "    }\n",
    "    op = ops[op]\n",
    "        \n",
    "    if feature == 'pubdate':\n",
    "        val_to_compare=value.year\n",
    "    else:\n",
    "        val_to_compare = value\n",
    "    \n",
    "    if op(val_to_compare, n_lim):\n",
    "        id_m = str(row['freebase_m_ID'].split('/')[2])\n",
    "        query = 'https://query.wikidata.org/bigdata/namespace/wdq/sparql?format=json&query=PREFIX%20wd%3A%20%3Chttp%3A%2F%2Fwww.wikidata.org%2Fentity%2F%3E%0APREFIX%20wdt%3A%20%3Chttp%3A%2F%2Fwww.wikidata.org%2Fprop%2Fdirect%2F%3E%0APREFIX%20wikibase%3A%20%3Chttp%3A%2F%2Fwikiba.se%2Fontology%23%3E%0A%0ASELECT%20%20%3Fs%20%3FsLabel%20%3Fp%20%20%3Fo%20%3FoLabel%20%3F{}%20WHERE%20%7B%0A%20%3Fs%20wdt%3AP646%20%22%2Fm%2F{}%22.%0A%20%3Fs%20wdt%3{}%20%3F{}.%0A%0A%20%20%20SERVICE%20wikibase%3Alabel%20%7B%0A%20%20%20%20bd%3AserviceParam%20wikibase%3Alanguage%20%22en%22%20.%0A%20%20%20%7D%0A%20%7D'.format(feature, id_m, feature_wiki_ID[feature], feature)\n",
    "        response_json = requests.get(query).json()['results']['bindings']\n",
    "        if len(response_json):\n",
    "            \n",
    "            if feature == 'runtime':\n",
    "                new_value = float(response_json[0][feature]['value'])\n",
    "                if new_value!=value:\n",
    "                    time.sleep(2)\n",
    "                    print(\"{} movie had a {} of {:.2f}. However, using freebase ID, {}={}min.\".format(row['m_name'], feature,\n",
    "                                                                                               value, feature, \n",
    "                                                                                               new_value))\n",
    "                    value = new_value\n",
    "            elif feature=='pubdate':\n",
    "                new_value = (response_json[0][feature]['value'])\n",
    "                new_value=new_value.replace(\"Z\", \"\")\n",
    "                new_value = datetime.strptime(new_value,'%Y-%m-%dT%H:%M:%S')\n",
    "                if new_value.year!=value.year:\n",
    "                    print(\"{} movie had a {} of {}. However, using freebase ID, {}={}.\".format(row['m_name'], feature,\n",
    "                                                                                               value.date(), feature, \n",
    "                                                                                               new_value.date()))\n",
    "                    value = new_value\n",
    "            \n",
    "    return value"
   ]
  },
  {
   "cell_type": "code",
   "execution_count": 21,
   "id": "7260e0d0",
   "metadata": {},
   "outputs": [
    {
     "name": "stdout",
     "output_type": "stream",
     "text": [
      "Avatar 2 movie had a pubdate of 2015-01-01. However, using freebase ID, pubdate=2022-12-14.\n",
      "Total Dhamaal movie had a pubdate of 2015-01-01. However, using freebase ID, pubdate=2018-12-07.\n",
      "Battle Angel movie had a pubdate of 2016-01-01. However, using freebase ID, pubdate=2019-02-06.\n"
     ]
    }
   ],
   "source": [
    "time.sleep(10)\n",
    "df_movies['m_release_date'] = df_movies[['m_release_date', 'freebase_m_ID', 'm_name']].apply(lambda row: get_freebase_feature_movie(row, row['m_release_date'], '>=', 2015, 'pubdate'), axis=1)"
   ]
  },
  {
   "cell_type": "code",
   "execution_count": 22,
   "id": "314fa374",
   "metadata": {},
   "outputs": [],
   "source": [
    "df_movies = df_movies[df_movies.m_release_date.dt.year < 2013]"
   ]
  },
  {
   "cell_type": "code",
   "execution_count": 23,
   "id": "e3d81a27",
   "metadata": {},
   "outputs": [
    {
     "name": "stdout",
     "output_type": "stream",
     "text": [
      "Zero Tolerance movie had a runtime of 1079281.00. However, using freebase ID, runtime=88.0min.\n",
      "Dhool Ka Phool movie had a runtime of 1533.00. However, using freebase ID, runtime=153.0min.\n",
      "Cinématon movie had a runtime of 9360.00. However, using freebase ID, runtime=11828.0min.\n",
      "Dil Ne Phir Yaad Kiya movie had a runtime of 1966.00. However, using freebase ID, runtime=148.0min.\n",
      "As Seen Through a Telescope movie had a runtime of 0.70. However, using freebase ID, runtime=55.0min.\n",
      "Men Boxing movie had a runtime of 0.08. However, using freebase ID, runtime=5.0min.\n",
      "Fred Ott's Sneeze movie had a runtime of 0.08. However, using freebase ID, runtime=4.0min.\n",
      "Sick Kitten movie had a runtime of 0.57. However, using freebase ID, runtime=34.0min.\n",
      "The X-Rays movie had a runtime of 0.73. However, using freebase ID, runtime=44.0min.\n",
      "Blacksmith Scene movie had a runtime of 0.57. However, using freebase ID, runtime=34.0min.\n",
      "L'Arroseur Arrosé movie had a runtime of 0.82. However, using freebase ID, runtime=49.0min.\n",
      "L'Arrivée d'un train en gare de la Ciotat movie had a runtime of 0.83. However, using freebase ID, runtime=49.0min.\n",
      "The Derby movie had a runtime of 0.47. However, using freebase ID, runtime=30.0min.\n",
      "Buffalo Dance movie had a runtime of 0.27. However, using freebase ID, runtime=16.0min.\n",
      "Rough Sea at Dover movie had a runtime of 0.65. However, using freebase ID, runtime=17.0min.\n",
      "La Mer movie had a runtime of 0.63. However, using freebase ID, runtime=30.0min.\n",
      "Carmencita movie had a runtime of 0.50. However, using freebase ID, runtime=22.0min.\n",
      "Akrobatisches Potpourri movie had a runtime of 0.10. However, using freebase ID, runtime=15.0min.\n",
      "Roundhay Garden Scene movie had a runtime of 0.03. However, using freebase ID, runtime=1.66min.\n",
      "Serpentinen Tanz movie had a runtime of 0.10. However, using freebase ID, runtime=20.0min.\n",
      "Awakening of Rip movie had a runtime of 0.42. However, using freebase ID, runtime=25.0min.\n",
      "The Kiss movie had a runtime of 0.78. However, using freebase ID, runtime=18.0min.\n",
      "Opening of the Kiel Canal movie had a runtime of 0.30. However, using freebase ID, runtime=18.0min.\n",
      "La Pêche aux poissons rouges movie had a runtime of 0.63. However, using freebase ID, runtime=34.0min.\n",
      "Les Forgerons movie had a runtime of 0.82. However, using freebase ID, runtime=40.0min.\n",
      "Workers Leaving the Lumiere Factory movie had a runtime of 0.77. However, using freebase ID, runtime=42.0min.\n"
     ]
    }
   ],
   "source": [
    "time.sleep(10)\n",
    "df_movies['m_runtime'] = df_movies[['m_runtime', 'freebase_m_ID', 'm_name']].apply(lambda row: get_freebase_feature_movie(row, row['m_runtime'], '>', 1500, 'runtime'), axis=1)\n",
    "df_movies['m_runtime'] = df_movies[['m_runtime', 'freebase_m_ID', 'm_name']].apply(lambda row: get_freebase_feature_movie(row, row['m_runtime'], '<', 1, 'runtime'), axis=1)"
   ]
  },
  {
   "cell_type": "markdown",
   "id": "38c976ec",
   "metadata": {},
   "source": [
    "# 4 Dataset preparation\n",
    "<a class=\"anchor\" id=\"datapreparation\"></a>"
   ]
  },
  {
   "cell_type": "markdown",
   "id": "c87ebbd0",
   "metadata": {},
   "source": [
    "3 columns of the movie dataset will be split: movie languages, movie country of production and movie genres. They will be split in two columns: freebase ID in the first, and value in the other."
   ]
  },
  {
   "cell_type": "code",
   "execution_count": 24,
   "id": "bd6b926f",
   "metadata": {},
   "outputs": [],
   "source": [
    "def split_feature(row, feature, flag):\n",
    "    \"\"\"\n",
    "    Splits list-like columns into key for freebase_ID and value for the value.\n",
    "\n",
    "    :param row: Row to apply the split\n",
    "    :param feature: Column to split\n",
    "    :param flag: Takes the value if True, the key if False\n",
    "    :return: The value or the key of row[feature]\n",
    "    \"\"\"\n",
    "    if isinstance(row[feature], float):\n",
    "        return np.nan\n",
    "    elif flag:\n",
    "        return list(row[feature].values())\n",
    "    else:\n",
    "        return row[feature].keys()"
   ]
  },
  {
   "cell_type": "code",
   "execution_count": 25,
   "id": "b52c9975",
   "metadata": {},
   "outputs": [],
   "source": [
    "features = ['m_languages', 'm_countries', 'm_genres']\n",
    "_freebase_ID = '_freebase_ID'\n",
    "for i, feature in enumerate(features):\n",
    "    df_movies[feature+_freebase_ID] = df_movies.apply(lambda row: split_feature(row, feature, 0), axis=1)\n",
    "    df_movies[feature] = df_movies.apply(lambda row: split_feature(row, feature, 1), axis=1)"
   ]
  },
  {
   "cell_type": "code",
   "execution_count": 26,
   "id": "32d137f4",
   "metadata": {},
   "outputs": [],
   "source": [
    "df_movies.drop(['m_languages_freebase_ID', 'm_countries_freebase_ID', 'm_genres_freebase_ID'], axis=1, inplace=True)"
   ]
  },
  {
   "cell_type": "code",
   "execution_count": 27,
   "id": "549caf6e",
   "metadata": {},
   "outputs": [
    {
     "name": "stdout",
     "output_type": "stream",
     "text": [
      "There are 146 different countries present in the dataset.\n"
     ]
    }
   ],
   "source": [
    "df_countries_m = df_movies.explode('m_countries').dropna(subset='m_countries')\n",
    "nb_unique_countries = df_countries_m['m_countries'].nunique()\n",
    "print(\"There are {} different countries present in the dataset.\".format(nb_unique_countries))"
   ]
  },
  {
   "cell_type": "code",
   "execution_count": 28,
   "id": "8e57fa19",
   "metadata": {},
   "outputs": [],
   "source": [
    "df_movies_USA = df_countries_m[df_countries_m['m_countries']=='United States of America']"
   ]
  },
  {
   "cell_type": "markdown",
   "id": "e1ba9da9",
   "metadata": {},
   "source": [
    "#### Movie genres"
   ]
  },
  {
   "cell_type": "code",
   "execution_count": 29,
   "id": "2fe84906",
   "metadata": {},
   "outputs": [],
   "source": [
    "df_genres_m_USA = df_movies_USA.explode('m_genres')"
   ]
  },
  {
   "cell_type": "code",
   "execution_count": 30,
   "id": "37535f4c",
   "metadata": {},
   "outputs": [
    {
     "name": "stdout",
     "output_type": "stream",
     "text": [
      "There are 341 different genre in american movies.\n"
     ]
    }
   ],
   "source": [
    "nb_genres_USA = df_genres_m_USA['m_genres'].nunique()\n",
    "print(\"There are {} different genre in american movies.\".format(nb_genres_USA))"
   ]
  },
  {
   "cell_type": "markdown",
   "id": "47ed27a7",
   "metadata": {},
   "source": [
    "####  PCA on movie genre"
   ]
  },
  {
   "cell_type": "code",
   "execution_count": 31,
   "id": "83ee821c",
   "metadata": {},
   "outputs": [],
   "source": [
    "def one_hot_encoding(df, col):\n",
    "    y = pd.get_dummies(df[col])\n",
    "    return y, y.columns"
   ]
  },
  {
   "cell_type": "code",
   "execution_count": 32,
   "id": "9662c432",
   "metadata": {},
   "outputs": [],
   "source": [
    "one_hot, genres_one_hot_labels = one_hot_encoding(df_genres_m_USA, 'm_genres')\n",
    "df_USA_genres_one_hot = pd.concat([df_genres_m_USA, one_hot], axis=1)\n",
    "df_USA_genres_one_hot = df_USA_genres_one_hot.groupby('wikipedia_m_ID')[genres_one_hot_labels].sum()"
   ]
  },
  {
   "cell_type": "code",
   "execution_count": 33,
   "id": "780a0462",
   "metadata": {},
   "outputs": [
    {
     "data": {
      "image/png": "[encoded data removed]",
      "text/plain": [
       "<Figure size 864x432 with 1 Axes>"
      ]
     },
     "metadata": {
      "needs_background": "light"
     },
     "output_type": "display_data"
    }
   ],
   "source": [
    "n=nb_genres_USA\n",
    "scaler = MinMaxScaler()\n",
    "X_features = scaler.fit_transform(df_USA_genres_one_hot)\n",
    "pca = PCA(n)\n",
    "pca.fit(X_features)\n",
    "pca_variance = pca.explained_variance_\n",
    "pca_variance_ratio = pca.explained_variance_ratio_\n",
    "\n",
    "csum = np.cumsum(pca_variance_ratio)\n",
    "plt.figure(figsize=(12, 6))\n",
    "plt.plot(csum)\n",
    "plt.plot(15, 0.6, marker='o', color='red') \n",
    "plt.ylabel('Variance ratio')\n",
    "plt.xlabel('Number of component')\n",
    "plt.title('Cumulated variance ratio vs number of components')\n",
    "plt.text(15, 0.6, '  ({}, {})'.format(15, 0.6))\n",
    "plt.show()"
   ]
  },
  {
   "cell_type": "markdown",
   "id": "87ed248b",
   "metadata": {},
   "source": [
    "The PCA shows that we can significantly reduce the number of genres. The following code is a work-in-progress to make analysis on genres and grasp the similarities and differences between genres.\n",
    "\n",
    "It was decided to keep 15 features in order to get 60% of the cumulated variance."
   ]
  },
  {
   "cell_type": "code",
   "execution_count": 34,
   "id": "b514aec3",
   "metadata": {},
   "outputs": [],
   "source": [
    "n=15\n",
    "scaler = StandardScaler()\n",
    "X_features = scaler.fit_transform(df_USA_genres_one_hot)\n",
    "pca = PCA(n)\n",
    "pca.fit_transform(X_features)\n",
    "pca_variance = pca.explained_variance_"
   ]
  },
  {
   "cell_type": "code",
   "execution_count": 35,
   "id": "7d8b626f",
   "metadata": {},
   "outputs": [],
   "source": [
    "# number of components\n",
    "n_pcs= pca.components_.shape[0]\n",
    "\n",
    "best_four_important = []\n",
    "most_important_names = []\n",
    "n_best = 4\n",
    "initial_feature_names = genres_one_hot_labels\n",
    "for i in range(n_pcs):\n",
    "    elts = np.argsort((pca.components_[i]))[::-1][:n_best]\n",
    "    best_four_important.append(elts)\n",
    "    most_important_names.append([initial_feature_names[elts[i]] for i in range(n_best)])"
   ]
  },
  {
   "cell_type": "code",
   "execution_count": 36,
   "id": "b7e5b5c6",
   "metadata": {},
   "outputs": [],
   "source": [
    "new_space = pca.transform(df_USA_genres_one_hot.values)\n",
    "new_space = new_space.argmax(axis=1)\n",
    "\n",
    "df_USA_genres_one_hot['m_genre_PCA'] = new_space\n",
    "df_USA_genres_one_hot['m_genre_PCA'] = df_USA_genres_one_hot['m_genre_PCA'].apply(lambda x: \", \".join(most_important_names[x]))"
   ]
  },
  {
   "cell_type": "code",
   "execution_count": 37,
   "id": "0fda5658",
   "metadata": {},
   "outputs": [],
   "source": [
    "df_movies_USA_genre_PCA = df_movies_USA.merge(df_USA_genres_one_hot[['m_genre_PCA']], left_on='wikipedia_m_ID', right_on='wikipedia_m_ID')"
   ]
  },
  {
   "cell_type": "code",
   "execution_count": 38,
   "id": "7489680c",
   "metadata": {},
   "outputs": [
    {
     "data": {
      "image/png": "[encoded data removed]",
      "text/plain": [
       "<Figure size 1440x432 with 1 Axes>"
      ]
     },
     "metadata": {
      "needs_background": "light"
     },
     "output_type": "display_data"
    }
   ],
   "source": [
    "plt.figure(figsize=(20,6))\n",
    "df_movies_USA_genre_PCA['m_genre_PCA'].value_counts().plot(kind='bar', figsize=(20,6))\n",
    "plt.title('Number of movies per movie genre after PCA', fontsize = 25)\n",
    "plt.xlabel('Movie genre', fontsize = 15)\n",
    "plt.ylabel('Number of movies', fontsize = 15)\n",
    "plt.show()"
   ]
  },
  {
   "cell_type": "markdown",
   "id": "55f1e920",
   "metadata": {},
   "source": [
    "# Output clean CSV"
   ]
  },
  {
   "cell_type": "code",
   "execution_count": 40,
   "id": "6321d279",
   "metadata": {},
   "outputs": [],
   "source": [
    "OUTPUT_FILE_MOVIES = 'american_movies_cleaned.tsv'\n",
    "OUTPUT_PATH = os.path.join(DATA_PATH, OUTPUT_FILE_MOVIES)\n",
    "df_movies_USA_genre_PCA.to_csv(OUTPUT_PATH, sep=\"\\t\", index=False)"
   ]
  }
 ],
 "metadata": {
  "kernelspec": {
   "display_name": "Python 3 (ipykernel)",
   "language": "python",
   "name": "python3"
  },
  "language_info": {
   "codemirror_mode": {
    "name": "ipython",
    "version": 3
   },
   "file_extension": ".py",
   "mimetype": "text/x-python",
   "name": "python",
   "nbconvert_exporter": "python",
   "pygments_lexer": "ipython3",
   "version": "3.9.12"
  }
 },
 "nbformat": 4,
 "nbformat_minor": 5
}
