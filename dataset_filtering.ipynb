{
 "cells": [
  {
   "cell_type": "code",
   "execution_count": 1,
   "id": "aa5cc897",
   "metadata": {},
   "outputs": [],
   "source": [
    "import operator\n",
    "import random\n",
    "import requests\n",
    "import time\n",
    "import csv\n",
    "import os\n",
    "import pandas as pd\n",
    "import seaborn as sns\n",
    "import numpy as np\n",
    "import networkx as nx\n",
    "from scipy import stats\n",
    "from ast import literal_eval\n",
    "from matplotlib import pyplot as plt\n",
    "from statsmodels.stats import diagnostic\n",
    "from datetime import datetime\n",
    "from sklearn.manifold import TSNE\n",
    "from sklearn.decomposition import PCA\n",
    "from sklearn.preprocessing import StandardScaler, MinMaxScaler\n",
    "\n",
    "#colors used when comparing genders\n",
    "PURPLE = 'purple'\n",
    "ORANGE = '#ffb82c'\n",
    "\n",
    "#colors used when generic comparisons\n",
    "BLUE = '#0173b2'\n",
    "RED = '#d55e00'\n",
    "\n",
    "#print(sns.color_palette(\"colorblind\").as_hex())\n",
    "#sns.color_palette(\"colorblind\")"
   ]
  },
  {
   "cell_type": "code",
   "execution_count": 2,
   "id": "c3079717",
   "metadata": {},
   "outputs": [
    {
     "data": {
      "text/html": [
       "\n",
       "<style>\n",
       ".output_png {\n",
       "    display: table-cell;\n",
       "    text-align: center;\n",
       "    vertical-align: middle;\n",
       "}\n",
       "</style>\n"
      ],
      "text/plain": [
       "<IPython.core.display.HTML object>"
      ]
     },
     "execution_count": 2,
     "metadata": {},
     "output_type": "execute_result"
    }
   ],
   "source": [
    "from IPython.core.display import HTML\n",
    "HTML(\"\"\"\n",
    "<style>\n",
    ".output_png {\n",
    "    display: table-cell;\n",
    "    text-align: center;\n",
    "    vertical-align: middle;\n",
    "}\n",
    "</style>\n",
    "\"\"\")"
   ]
  },
  {
   "cell_type": "markdown",
   "id": "9acafde8",
   "metadata": {},
   "source": [
    "# 1. Load the datasets\n",
    "<a class=\"anchor\" id=\"load\"></a>"
   ]
  },
  {
   "cell_type": "code",
   "execution_count": 3,
   "id": "201443db",
   "metadata": {},
   "outputs": [],
   "source": [
    "DATA_PATH = './data'\n",
    "MOVIE_PATH = os.path.join(DATA_PATH, 'american_movies_cleaned.tsv')\n",
    "CHAR_PATH = os.path.join(DATA_PATH, 'characters_cleaned.tsv')\n",
    "THE_NUMBERS_PATH = os.path.join(DATA_PATH, 'the_numbers_lifetime_cumulative.tsv')\n",
    "THE_NUMBERS_PATH_YEARLY = os.path.join(DATA_PATH, 'the_numbers_yearly_score.tsv')"
   ]
  },
  {
   "cell_type": "markdown",
   "id": "30ce1f8e",
   "metadata": {},
   "source": [
    "## 1.1 Characters dataset"
   ]
  },
  {
   "cell_type": "code",
   "execution_count": 4,
   "id": "549a98de",
   "metadata": {},
   "outputs": [
    {
     "data": {
      "text/html": [
       "<div>\n",
       "<style scoped>\n",
       "    .dataframe tbody tr th:only-of-type {\n",
       "        vertical-align: middle;\n",
       "    }\n",
       "\n",
       "    .dataframe tbody tr th {\n",
       "        vertical-align: top;\n",
       "    }\n",
       "\n",
       "    .dataframe thead th {\n",
       "        text-align: right;\n",
       "    }\n",
       "</style>\n",
       "<table border=\"1\" class=\"dataframe\">\n",
       "  <thead>\n",
       "    <tr style=\"text-align: right;\">\n",
       "      <th></th>\n",
       "      <th>wikipedia_m_ID</th>\n",
       "      <th>freebase_m_ID</th>\n",
       "      <th>m_release_date</th>\n",
       "      <th>character_name</th>\n",
       "      <th>actor_dob</th>\n",
       "      <th>actor_gender</th>\n",
       "      <th>actor_height</th>\n",
       "      <th>actor_ethnicity</th>\n",
       "      <th>actor_name</th>\n",
       "      <th>actor_age</th>\n",
       "      <th>freebase_character_map</th>\n",
       "      <th>freebase_character_id</th>\n",
       "      <th>freebase_actor_id</th>\n",
       "    </tr>\n",
       "  </thead>\n",
       "  <tbody>\n",
       "    <tr>\n",
       "      <th>0</th>\n",
       "      <td>975900</td>\n",
       "      <td>/m/03vyhn</td>\n",
       "      <td>2001-08-24</td>\n",
       "      <td>Akooshay</td>\n",
       "      <td>1958-08-26</td>\n",
       "      <td>F</td>\n",
       "      <td>1.62</td>\n",
       "      <td>NaN</td>\n",
       "      <td>Wanda De Jesus</td>\n",
       "      <td>42.0</td>\n",
       "      <td>/m/0bgchxw</td>\n",
       "      <td>/m/0bgcj3x</td>\n",
       "      <td>/m/03wcfv7</td>\n",
       "    </tr>\n",
       "    <tr>\n",
       "      <th>1</th>\n",
       "      <td>975900</td>\n",
       "      <td>/m/03vyhn</td>\n",
       "      <td>2001-08-24</td>\n",
       "      <td>Lieutenant Melanie Ballard</td>\n",
       "      <td>1974-08-15</td>\n",
       "      <td>F</td>\n",
       "      <td>1.78</td>\n",
       "      <td>NaN</td>\n",
       "      <td>Natasha Henstridge</td>\n",
       "      <td>27.0</td>\n",
       "      <td>/m/0jys3m</td>\n",
       "      <td>/m/0bgchn4</td>\n",
       "      <td>/m/0346l4</td>\n",
       "    </tr>\n",
       "  </tbody>\n",
       "</table>\n",
       "</div>"
      ],
      "text/plain": [
       "   wikipedia_m_ID freebase_m_ID m_release_date              character_name  \\\n",
       "0          975900     /m/03vyhn     2001-08-24                    Akooshay   \n",
       "1          975900     /m/03vyhn     2001-08-24  Lieutenant Melanie Ballard   \n",
       "\n",
       "   actor_dob actor_gender  actor_height actor_ethnicity          actor_name  \\\n",
       "0 1958-08-26            F          1.62             NaN      Wanda De Jesus   \n",
       "1 1974-08-15            F          1.78             NaN  Natasha Henstridge   \n",
       "\n",
       "   actor_age freebase_character_map freebase_character_id freebase_actor_id  \n",
       "0       42.0             /m/0bgchxw            /m/0bgcj3x        /m/03wcfv7  \n",
       "1       27.0              /m/0jys3m            /m/0bgchn4         /m/0346l4  "
      ]
     },
     "execution_count": 4,
     "metadata": {},
     "output_type": "execute_result"
    }
   ],
   "source": [
    "df_chars=pd.read_csv(CHAR_PATH, sep=\"\\t\")\n",
    "df_chars['m_release_date']=pd.to_datetime(df_chars['m_release_date'], errors = 'coerce')\n",
    "df_chars['actor_dob']=pd.to_datetime(df_chars['actor_dob'], errors = 'coerce')\n",
    "df_chars.head(2)"
   ]
  },
  {
   "cell_type": "markdown",
   "id": "6b837dbb",
   "metadata": {},
   "source": [
    "## 1.2 Movie dataset"
   ]
  },
  {
   "cell_type": "code",
   "execution_count": 5,
   "id": "0bacb798",
   "metadata": {},
   "outputs": [
    {
     "data": {
      "text/html": [
       "<div>\n",
       "<style scoped>\n",
       "    .dataframe tbody tr th:only-of-type {\n",
       "        vertical-align: middle;\n",
       "    }\n",
       "\n",
       "    .dataframe tbody tr th {\n",
       "        vertical-align: top;\n",
       "    }\n",
       "\n",
       "    .dataframe thead th {\n",
       "        text-align: right;\n",
       "    }\n",
       "</style>\n",
       "<table border=\"1\" class=\"dataframe\">\n",
       "  <thead>\n",
       "    <tr style=\"text-align: right;\">\n",
       "      <th></th>\n",
       "      <th>wikipedia_m_ID</th>\n",
       "      <th>freebase_m_ID</th>\n",
       "      <th>m_name</th>\n",
       "      <th>m_release_date</th>\n",
       "      <th>m_BO_revenue</th>\n",
       "      <th>m_runtime</th>\n",
       "      <th>m_languages</th>\n",
       "      <th>m_countries</th>\n",
       "      <th>m_genres</th>\n",
       "      <th>m_genre_PCA</th>\n",
       "    </tr>\n",
       "  </thead>\n",
       "  <tbody>\n",
       "    <tr>\n",
       "      <th>0</th>\n",
       "      <td>975900</td>\n",
       "      <td>/m/03vyhn</td>\n",
       "      <td>Ghosts of Mars</td>\n",
       "      <td>2001-08-24</td>\n",
       "      <td>14010832.0</td>\n",
       "      <td>98.0</td>\n",
       "      <td>['English Language']</td>\n",
       "      <td>United States of America</td>\n",
       "      <td>['Thriller', 'Science Fiction', 'Horror', 'Adv...</td>\n",
       "      <td>Thriller, Crime Thriller, Action, Mystery</td>\n",
       "    </tr>\n",
       "    <tr>\n",
       "      <th>1</th>\n",
       "      <td>3196793</td>\n",
       "      <td>/m/08yl5d</td>\n",
       "      <td>Getting Away with Murder: The JonBenét Ramsey ...</td>\n",
       "      <td>2000-02-16</td>\n",
       "      <td>NaN</td>\n",
       "      <td>95.0</td>\n",
       "      <td>['English Language']</td>\n",
       "      <td>United States of America</td>\n",
       "      <td>['Mystery', 'Biographical film', 'Drama', 'Cri...</td>\n",
       "      <td>Mystery, Horror, Children's/Family, Drama</td>\n",
       "    </tr>\n",
       "  </tbody>\n",
       "</table>\n",
       "</div>"
      ],
      "text/plain": [
       "   wikipedia_m_ID freebase_m_ID  \\\n",
       "0          975900     /m/03vyhn   \n",
       "1         3196793     /m/08yl5d   \n",
       "\n",
       "                                              m_name m_release_date  \\\n",
       "0                                     Ghosts of Mars     2001-08-24   \n",
       "1  Getting Away with Murder: The JonBenét Ramsey ...     2000-02-16   \n",
       "\n",
       "   m_BO_revenue  m_runtime           m_languages               m_countries  \\\n",
       "0    14010832.0       98.0  ['English Language']  United States of America   \n",
       "1           NaN       95.0  ['English Language']  United States of America   \n",
       "\n",
       "                                            m_genres  \\\n",
       "0  ['Thriller', 'Science Fiction', 'Horror', 'Adv...   \n",
       "1  ['Mystery', 'Biographical film', 'Drama', 'Cri...   \n",
       "\n",
       "                                 m_genre_PCA  \n",
       "0  Thriller, Crime Thriller, Action, Mystery  \n",
       "1  Mystery, Horror, Children's/Family, Drama  "
      ]
     },
     "execution_count": 5,
     "metadata": {},
     "output_type": "execute_result"
    }
   ],
   "source": [
    "df_movies=pd.read_csv(MOVIE_PATH, sep='\\t')\n",
    "df_movies['m_release_date']=pd.to_datetime(df_movies['m_release_date'], errors = 'coerce')\n",
    "df_movies.head(2)"
   ]
  },
  {
   "cell_type": "markdown",
   "id": "f35e34b6",
   "metadata": {},
   "source": [
    "# 2. Dataset preparation"
   ]
  },
  {
   "cell_type": "markdown",
   "id": "9538a238",
   "metadata": {},
   "source": [
    "## 2.1 Characters dataset"
   ]
  },
  {
   "cell_type": "code",
   "execution_count": 6,
   "id": "c138584d",
   "metadata": {},
   "outputs": [],
   "source": [
    "# Keeps just one row if an actor played several roles in a movie\n",
    "df_chars.drop_duplicates(['wikipedia_m_ID', 'actor_name'], keep='first', inplace=True)"
   ]
  },
  {
   "cell_type": "code",
   "execution_count": 7,
   "id": "6ce7bfc9",
   "metadata": {},
   "outputs": [],
   "source": [
    "# Keep correct actors (you're born before releasing a movie)\n",
    "df_chars = df_chars.loc[(df_chars['actor_dob'] < df_chars['m_release_date'])]"
   ]
  },
  {
   "cell_type": "code",
   "execution_count": 8,
   "id": "f95c997c",
   "metadata": {},
   "outputs": [
    {
     "name": "stdout",
     "output_type": "stream",
     "text": [
      "There are 515 rows with same actor name but different date of birth.\n"
     ]
    }
   ],
   "source": [
    "df_test = df_chars.copy()\n",
    "df_test.drop_duplicates(subset=['actor_name', 'actor_dob'], keep='first', inplace=True)\n",
    "df_test = df_test[df_test.duplicated('actor_name', keep=False)]\n",
    "print(\"There are {} rows with same actor name but different date of birth.\".format(df_test.shape[0]))\n",
    "# We decided to keep those rows, \n",
    "# but add modifications on the ones whose actor name appears in the numbers (to merge the score to the true actor)"
   ]
  },
  {
   "cell_type": "code",
   "execution_count": 9,
   "id": "c32d1188",
   "metadata": {},
   "outputs": [],
   "source": [
    "filter_conditions=(\n",
    "    ((df_chars['actor_name'] =='Edward Burns') & (df_chars['actor_dob'] =='1879-09-21')) |\n",
    "    ((df_chars['actor_name'] =='Harrison Ford') & (df_chars['actor_dob'] =='1884-03-16')) |\n",
    "    ((df_chars['actor_name'] =='Kevin James') & (df_chars['actor_dob'] =='1954-11-17')) # porn actor\n",
    ")\n",
    "df_chars = df_chars.loc[~filter_conditions]"
   ]
  },
  {
   "cell_type": "code",
   "execution_count": 10,
   "id": "513337e8",
   "metadata": {},
   "outputs": [],
   "source": [
    "filter_conditions=(\n",
    "    (df_chars['actor_name'] =='Patrick Wilson') & (df_chars['actor_dob'] =='1969-02-01') \n",
    ")\n",
    "df_chars.loc[filter_conditions, 'actor_dob']= '1973-07-03'"
   ]
  },
  {
   "cell_type": "code",
   "execution_count": 11,
   "id": "5b93a545",
   "metadata": {},
   "outputs": [],
   "source": [
    "filter_conditions=(\n",
    "    (df_chars['actor_name'] =='Justin Long') & (df_chars['actor_dob'] =='1970-06-29') \n",
    ")\n",
    "df_chars.loc[filter_conditions, 'actor_name']= 'Justin Long 2'"
   ]
  },
  {
   "cell_type": "code",
   "execution_count": 12,
   "id": "0e86974f",
   "metadata": {},
   "outputs": [],
   "source": [
    "filter_conditions=(\n",
    "    (df_chars['actor_name'] =='Kenny Rogers') & (df_chars['actor_dob'] =='1964-11-10') \n",
    ")\n",
    "df_chars.loc[filter_conditions, 'actor_dob']= '1938-08-21'"
   ]
  },
  {
   "cell_type": "code",
   "execution_count": 13,
   "id": "de8aaecd",
   "metadata": {},
   "outputs": [],
   "source": [
    "filter_conditions=(\n",
    "    (df_chars['actor_name'] =='Kevin Smith') & (df_chars['actor_dob'] =='1963-03-16') \n",
    ")\n",
    "df_chars.loc[filter_conditions, 'actor_name']= 'Kevin Smith_NZ'"
   ]
  },
  {
   "cell_type": "code",
   "execution_count": 14,
   "id": "23e14564",
   "metadata": {},
   "outputs": [],
   "source": [
    "# Keeps only movies where we have at least two actors (as the interest is coacting)\n",
    "df_chars = df_chars[df_chars.duplicated('wikipedia_m_ID', keep=False)]"
   ]
  },
  {
   "cell_type": "code",
   "execution_count": 15,
   "id": "1430e70c",
   "metadata": {},
   "outputs": [],
   "source": [
    "# Keeps only characters from american movies\n",
    "df_chars = df_chars.merge(df_movies[['wikipedia_m_ID', 'm_name', 'm_genre_PCA']], how='inner', on='wikipedia_m_ID')"
   ]
  },
  {
   "cell_type": "code",
   "execution_count": 16,
   "id": "2416500a",
   "metadata": {},
   "outputs": [],
   "source": [
    "# Drop columns that won't be used at all for the analysis\n",
    "df_chars.drop(['freebase_character_map', 'freebase_character_id', 'freebase_actor_id', 'freebase_m_ID'], axis=1, inplace=True)"
   ]
  },
  {
   "cell_type": "markdown",
   "id": "44ab7b9d",
   "metadata": {},
   "source": [
    "## 2.2 Movie dataset"
   ]
  },
  {
   "cell_type": "code",
   "execution_count": 17,
   "id": "586c5e7d",
   "metadata": {},
   "outputs": [],
   "source": [
    "# Keeps only movies where actors data is available\n",
    "df_movies = df_movies.merge(df_chars.drop_duplicates('wikipedia_m_ID', keep='first'), how='inner', on=['wikipedia_m_ID', 'm_release_date', 'm_genre_PCA'])"
   ]
  },
  {
   "cell_type": "code",
   "execution_count": 18,
   "id": "e15f6210",
   "metadata": {},
   "outputs": [],
   "source": [
    "# Drop columns that won't be used at all for the analysis\n",
    "df_movies.drop('freebase_m_ID', axis=1, inplace=True)"
   ]
  },
  {
   "cell_type": "markdown",
   "id": "f9ce6de5",
   "metadata": {},
   "source": [
    "# 3. Output as clean CSV"
   ]
  },
  {
   "cell_type": "code",
   "execution_count": 19,
   "id": "62ebc5d5",
   "metadata": {},
   "outputs": [],
   "source": [
    "OUTPUT_FILE = 'characters_filtered.tsv'\n",
    "OUTPUT_PATH = os.path.join(DATA_PATH, OUTPUT_FILE)\n",
    "df_chars.to_csv(OUTPUT_PATH, sep=\"\\t\", index=False)"
   ]
  },
  {
   "cell_type": "code",
   "execution_count": 20,
   "id": "817fb234",
   "metadata": {},
   "outputs": [],
   "source": [
    "OUTPUT_FILE = 'american_movies_filtered.tsv'\n",
    "OUTPUT_PATH = os.path.join(DATA_PATH, OUTPUT_FILE)\n",
    "df_movies.to_csv(OUTPUT_PATH, sep=\"\\t\", index=False)"
   ]
  }
 ],
 "metadata": {
  "kernelspec": {
   "display_name": "Python 3 (ipykernel)",
   "language": "python",
   "name": "python3"
  },
  "language_info": {
   "codemirror_mode": {
    "name": "ipython",
    "version": 3
   },
   "file_extension": ".py",
   "mimetype": "text/x-python",
   "name": "python",
   "nbconvert_exporter": "python",
   "pygments_lexer": "ipython3",
   "version": "3.9.12"
  }
 },
 "nbformat": 4,
 "nbformat_minor": 5
}
