{
 "cells": [
  {
   "cell_type": "code",
   "execution_count": 1,
   "id": "aa5cc897",
   "metadata": {},
   "outputs": [],
   "source": [
    "import operator\n",
    "import random\n",
    "import requests\n",
    "import time\n",
    "import csv\n",
    "import os\n",
    "import pandas as pd\n",
    "import seaborn as sns\n",
    "import numpy as np\n",
    "import networkx as nx\n",
    "from scipy import stats\n",
    "from ast import literal_eval\n",
    "from matplotlib import pyplot as plt\n",
    "from statsmodels.stats import diagnostic\n",
    "from datetime import datetime\n",
    "from sklearn.manifold import TSNE\n",
    "from sklearn.decomposition import PCA\n",
    "from sklearn.preprocessing import StandardScaler, MinMaxScaler\n",
    "\n",
    "#when comparing genders\n",
    "PURPLE = 'purple'\n",
    "ORANGE = '#ffb82c'\n",
    "\n",
    "#generic comparisons\n",
    "BLUE = '#0173b2'\n",
    "RED = '#d55e00'"
   ]
  },
  {
   "cell_type": "code",
   "execution_count": 36,
   "id": "9315c23c",
   "metadata": {},
   "outputs": [
    {
     "data": {
      "text/html": [
       "\n",
       "<style>\n",
       ".output_png {\n",
       "    display: table-cell;\n",
       "    text-align: center;\n",
       "    vertical-align: middle;\n",
       "}\n",
       "</style>\n"
      ],
      "text/plain": [
       "<IPython.core.display.HTML object>"
      ]
     },
     "execution_count": 36,
     "metadata": {},
     "output_type": "execute_result"
    }
   ],
   "source": [
    "from IPython.core.display import HTML\n",
    "HTML(\"\"\"\n",
    "<style>\n",
    ".output_png {\n",
    "    display: table-cell;\n",
    "    text-align: center;\n",
    "    vertical-align: middle;\n",
    "}\n",
    "</style>\n",
    "\"\"\")"
   ]
  },
  {
   "cell_type": "code",
   "execution_count": 2,
   "id": "e0c522d5",
   "metadata": {},
   "outputs": [],
   "source": [
    "#print(sns.color_palette(\"colorblind\").as_hex())\n",
    "#sns.color_palette(\"colorblind\")"
   ]
  },
  {
   "cell_type": "markdown",
   "id": "9e8fbdb7",
   "metadata": {},
   "source": [
    "## Table of Contents\n",
    "* [Load the data](#load)\n",
    "    * [Characters dataset](#load_characters)\n",
    "    * [Movies dataset](#load_movies)\n",
    "* [Quick look at the data](#quicklook)\n",
    "    * [Characters dataset](#quicklook_characters)\n",
    "    * [Movies dataset](#quicklook_movies)\n",
    "* [Data preprocessing](#datapreprocessing)\n",
    "    * [Characters dataset](#datapreprocessing_characters)\n",
    "    * [Movies dataset](#datapreprocessing_movies)"
   ]
  },
  {
   "cell_type": "markdown",
   "id": "9acafde8",
   "metadata": {},
   "source": [
    "# Load the data\n",
    "<a class=\"anchor\" id=\"load\"></a>"
   ]
  },
  {
   "cell_type": "code",
   "execution_count": 18,
   "id": "bc1a35fa",
   "metadata": {},
   "outputs": [],
   "source": [
    "DATA_PATH = './data'\n",
    "MOVIE_PATH = os.path.join(DATA_PATH, 'movie.metadata.tsv')\n",
    "CHAR_PATH = os.path.join(DATA_PATH, 'character.metadata.tsv')\n",
    "PLOT_PATH = os.path.join(DATA_PATH, 'plot_summaries.txt')\n",
    "ETHNICITIES_PATH =  os.path.join(DATA_PATH, 'ethnicities.csv')"
   ]
  },
  {
   "cell_type": "markdown",
   "id": "b0c6d06f",
   "metadata": {},
   "source": [
    "### Characters data\n",
    "<a class=\"anchor\" id=\"load_characters\"></a>"
   ]
  },
  {
   "cell_type": "code",
   "execution_count": 4,
   "id": "549a98de",
   "metadata": {},
   "outputs": [],
   "source": [
    "a_cols = ['wikipedia_m_ID', 'freebase_m_ID', 'm_release_date','character_name', 'actor_dob', 'actor_gender', 'actor_height', 'actor_ethnicity', 'actor_name', 'actor_age', 'freebase_character_map', 'freebase_character_id', 'freebase_actor_id']\n",
    "df_chars=pd.read_csv(CHAR_PATH, sep='\\t', names=a_cols)"
   ]
  },
  {
   "cell_type": "markdown",
   "id": "dd9cd6b6",
   "metadata": {},
   "source": [
    "### Movies data\n",
    "<a class=\"anchor\" id=\"load_movies\"></a>"
   ]
  },
  {
   "cell_type": "code",
   "execution_count": 5,
   "id": "c3ce24ef",
   "metadata": {},
   "outputs": [],
   "source": [
    "m_cols = [\"wikipedia_m_ID\", \"freebase_m_ID\", \"m_name\", \"m_release_date\", \"m_BO_revenue\", \"m_runtime\", \"m_languages\", \"m_countries\", \"m_genres\"]\n",
    "df_movies=pd.read_csv(MOVIE_PATH, sep='\\t', names=m_cols, converters={'m_languages': literal_eval, 'm_countries': literal_eval, 'm_genres': literal_eval})"
   ]
  },
  {
   "cell_type": "markdown",
   "id": "f35e34b6",
   "metadata": {},
   "source": [
    "# Quick look at the data\n",
    "<a class=\"anchor\" id=\"quicklook\"></a>"
   ]
  },
  {
   "cell_type": "markdown",
   "id": "7d060a76",
   "metadata": {},
   "source": [
    "### Characters dataset\n",
    "<a class=\"anchor\" id=\"quicklook_characters\"></a>"
   ]
  },
  {
   "cell_type": "code",
   "execution_count": 6,
   "id": "ea825008",
   "metadata": {},
   "outputs": [
    {
     "name": "stdout",
     "output_type": "stream",
     "text": [
      "<class 'pandas.core.frame.DataFrame'>\n",
      "RangeIndex: 450669 entries, 0 to 450668\n",
      "Data columns (total 13 columns):\n",
      " #   Column                  Non-Null Count   Dtype  \n",
      "---  ------                  --------------   -----  \n",
      " 0   wikipedia_m_ID          450669 non-null  int64  \n",
      " 1   freebase_m_ID           450669 non-null  object \n",
      " 2   m_release_date          440674 non-null  object \n",
      " 3   character_name          192794 non-null  object \n",
      " 4   actor_dob               344524 non-null  object \n",
      " 5   actor_gender            405060 non-null  object \n",
      " 6   actor_height            154824 non-null  float64\n",
      " 7   actor_ethnicity         106058 non-null  object \n",
      " 8   actor_name              449441 non-null  object \n",
      " 9   actor_age               292556 non-null  float64\n",
      " 10  freebase_character_map  450669 non-null  object \n",
      " 11  freebase_character_id   192804 non-null  object \n",
      " 12  freebase_actor_id       449854 non-null  object \n",
      "dtypes: float64(2), int64(1), object(10)\n",
      "memory usage: 44.7+ MB\n"
     ]
    }
   ],
   "source": [
    "df_chars.info()"
   ]
  },
  {
   "cell_type": "code",
   "execution_count": 7,
   "id": "b65b35eb",
   "metadata": {},
   "outputs": [
    {
     "data": {
      "text/html": [
       "<div>\n",
       "<style scoped>\n",
       "    .dataframe tbody tr th:only-of-type {\n",
       "        vertical-align: middle;\n",
       "    }\n",
       "\n",
       "    .dataframe tbody tr th {\n",
       "        vertical-align: top;\n",
       "    }\n",
       "\n",
       "    .dataframe thead th {\n",
       "        text-align: right;\n",
       "    }\n",
       "</style>\n",
       "<table border=\"1\" class=\"dataframe\">\n",
       "  <thead>\n",
       "    <tr style=\"text-align: right;\">\n",
       "      <th></th>\n",
       "      <th>wikipedia_m_ID</th>\n",
       "      <th>freebase_m_ID</th>\n",
       "      <th>m_release_date</th>\n",
       "      <th>character_name</th>\n",
       "      <th>actor_dob</th>\n",
       "      <th>actor_gender</th>\n",
       "      <th>actor_height</th>\n",
       "      <th>actor_ethnicity</th>\n",
       "      <th>actor_name</th>\n",
       "      <th>actor_age</th>\n",
       "      <th>freebase_character_map</th>\n",
       "      <th>freebase_character_id</th>\n",
       "      <th>freebase_actor_id</th>\n",
       "    </tr>\n",
       "  </thead>\n",
       "  <tbody>\n",
       "    <tr>\n",
       "      <th>93866</th>\n",
       "      <td>11257532</td>\n",
       "      <td>/m/02r59zp</td>\n",
       "      <td>2008-11-29</td>\n",
       "      <td>Sam the henchman</td>\n",
       "      <td>NaN</td>\n",
       "      <td>M</td>\n",
       "      <td>NaN</td>\n",
       "      <td>NaN</td>\n",
       "      <td>John Caponigro</td>\n",
       "      <td>NaN</td>\n",
       "      <td>/m/0jp2cgd</td>\n",
       "      <td>/m/0jp2cgh</td>\n",
       "      <td>/m/0jp2cgq</td>\n",
       "    </tr>\n",
       "    <tr>\n",
       "      <th>77964</th>\n",
       "      <td>3156227</td>\n",
       "      <td>/m/08w0ws</td>\n",
       "      <td>1994-11-21</td>\n",
       "      <td>Lab Technician</td>\n",
       "      <td>NaN</td>\n",
       "      <td>M</td>\n",
       "      <td>NaN</td>\n",
       "      <td>NaN</td>\n",
       "      <td>Brian To</td>\n",
       "      <td>NaN</td>\n",
       "      <td>/m/0j7r86c</td>\n",
       "      <td>/m/0j7r86g</td>\n",
       "      <td>/m/0j7r86p</td>\n",
       "    </tr>\n",
       "    <tr>\n",
       "      <th>379381</th>\n",
       "      <td>3168490</td>\n",
       "      <td>/m/08wrlb</td>\n",
       "      <td>1980-06-20</td>\n",
       "      <td>NaN</td>\n",
       "      <td>1959-05-23</td>\n",
       "      <td>M</td>\n",
       "      <td>NaN</td>\n",
       "      <td>/m/0x67</td>\n",
       "      <td>David Harris</td>\n",
       "      <td>21.0</td>\n",
       "      <td>/m/0gcp066</td>\n",
       "      <td>NaN</td>\n",
       "      <td>/m/0ckvff</td>\n",
       "    </tr>\n",
       "    <tr>\n",
       "      <th>293365</th>\n",
       "      <td>17306691</td>\n",
       "      <td>/m/043mbfq</td>\n",
       "      <td>2007</td>\n",
       "      <td>NaN</td>\n",
       "      <td>1975-10-04</td>\n",
       "      <td>F</td>\n",
       "      <td>NaN</td>\n",
       "      <td>NaN</td>\n",
       "      <td>Sanghavi</td>\n",
       "      <td>31.0</td>\n",
       "      <td>/m/0j9vngd</td>\n",
       "      <td>NaN</td>\n",
       "      <td>/m/0gpb_1</td>\n",
       "    </tr>\n",
       "  </tbody>\n",
       "</table>\n",
       "</div>"
      ],
      "text/plain": [
       "        wikipedia_m_ID freebase_m_ID m_release_date    character_name  \\\n",
       "93866         11257532    /m/02r59zp     2008-11-29  Sam the henchman   \n",
       "77964          3156227     /m/08w0ws     1994-11-21    Lab Technician   \n",
       "379381         3168490     /m/08wrlb     1980-06-20               NaN   \n",
       "293365        17306691    /m/043mbfq           2007               NaN   \n",
       "\n",
       "         actor_dob actor_gender  actor_height actor_ethnicity      actor_name  \\\n",
       "93866          NaN            M           NaN             NaN  John Caponigro   \n",
       "77964          NaN            M           NaN             NaN        Brian To   \n",
       "379381  1959-05-23            M           NaN         /m/0x67    David Harris   \n",
       "293365  1975-10-04            F           NaN             NaN        Sanghavi   \n",
       "\n",
       "        actor_age freebase_character_map freebase_character_id  \\\n",
       "93866         NaN             /m/0jp2cgd            /m/0jp2cgh   \n",
       "77964         NaN             /m/0j7r86c            /m/0j7r86g   \n",
       "379381       21.0             /m/0gcp066                   NaN   \n",
       "293365       31.0             /m/0j9vngd                   NaN   \n",
       "\n",
       "       freebase_actor_id  \n",
       "93866         /m/0jp2cgq  \n",
       "77964         /m/0j7r86p  \n",
       "379381         /m/0ckvff  \n",
       "293365         /m/0gpb_1  "
      ]
     },
     "execution_count": 7,
     "metadata": {},
     "output_type": "execute_result"
    }
   ],
   "source": [
    "df_chars.sample(4)"
   ]
  },
  {
   "cell_type": "markdown",
   "id": "564ced7c",
   "metadata": {},
   "source": [
    "### Movies dataset\n",
    "<a class=\"anchor\" id=\"quicklook_movies\"></a>"
   ]
  },
  {
   "cell_type": "code",
   "execution_count": 8,
   "id": "f68607a3",
   "metadata": {},
   "outputs": [
    {
     "name": "stdout",
     "output_type": "stream",
     "text": [
      "<class 'pandas.core.frame.DataFrame'>\n",
      "RangeIndex: 81741 entries, 0 to 81740\n",
      "Data columns (total 9 columns):\n",
      " #   Column          Non-Null Count  Dtype  \n",
      "---  ------          --------------  -----  \n",
      " 0   wikipedia_m_ID  81741 non-null  int64  \n",
      " 1   freebase_m_ID   81741 non-null  object \n",
      " 2   m_name          81741 non-null  object \n",
      " 3   m_release_date  74839 non-null  object \n",
      " 4   m_BO_revenue    8401 non-null   float64\n",
      " 5   m_runtime       61291 non-null  float64\n",
      " 6   m_languages     81741 non-null  object \n",
      " 7   m_countries     81741 non-null  object \n",
      " 8   m_genres        81741 non-null  object \n",
      "dtypes: float64(2), int64(1), object(6)\n",
      "memory usage: 5.6+ MB\n"
     ]
    }
   ],
   "source": [
    "df_movies.info()"
   ]
  },
  {
   "cell_type": "code",
   "execution_count": 9,
   "id": "86697fdc",
   "metadata": {},
   "outputs": [
    {
     "data": {
      "text/html": [
       "<div>\n",
       "<style scoped>\n",
       "    .dataframe tbody tr th:only-of-type {\n",
       "        vertical-align: middle;\n",
       "    }\n",
       "\n",
       "    .dataframe tbody tr th {\n",
       "        vertical-align: top;\n",
       "    }\n",
       "\n",
       "    .dataframe thead th {\n",
       "        text-align: right;\n",
       "    }\n",
       "</style>\n",
       "<table border=\"1\" class=\"dataframe\">\n",
       "  <thead>\n",
       "    <tr style=\"text-align: right;\">\n",
       "      <th></th>\n",
       "      <th>wikipedia_m_ID</th>\n",
       "      <th>freebase_m_ID</th>\n",
       "      <th>m_name</th>\n",
       "      <th>m_release_date</th>\n",
       "      <th>m_BO_revenue</th>\n",
       "      <th>m_runtime</th>\n",
       "      <th>m_languages</th>\n",
       "      <th>m_countries</th>\n",
       "      <th>m_genres</th>\n",
       "    </tr>\n",
       "  </thead>\n",
       "  <tbody>\n",
       "    <tr>\n",
       "      <th>44373</th>\n",
       "      <td>18531659</td>\n",
       "      <td>/m/04f15q3</td>\n",
       "      <td>The Hungry Bachelors Club</td>\n",
       "      <td>1999-11-12</td>\n",
       "      <td>NaN</td>\n",
       "      <td>93.0</td>\n",
       "      <td>{'/m/02h40lc': 'English Language'}</td>\n",
       "      <td>{'/m/09c7w0': 'United States of America'}</td>\n",
       "      <td>{'/m/06cvj': 'Romantic comedy', '/m/0hj3n0w': ...</td>\n",
       "    </tr>\n",
       "    <tr>\n",
       "      <th>59332</th>\n",
       "      <td>20532696</td>\n",
       "      <td>/m/051yl85</td>\n",
       "      <td>Slingshot 6 7/8</td>\n",
       "      <td>NaN</td>\n",
       "      <td>NaN</td>\n",
       "      <td>NaN</td>\n",
       "      <td>{}</td>\n",
       "      <td>{}</td>\n",
       "      <td>{'/m/02hmvc': 'Short Film', '/m/05p553': 'Come...</td>\n",
       "    </tr>\n",
       "    <tr>\n",
       "      <th>42322</th>\n",
       "      <td>2406029</td>\n",
       "      <td>/m/079vq8</td>\n",
       "      <td>The Private Eyes</td>\n",
       "      <td>1980</td>\n",
       "      <td>18014000.0</td>\n",
       "      <td>91.0</td>\n",
       "      <td>{'/m/02h40lc': 'English Language'}</td>\n",
       "      <td>{'/m/09c7w0': 'United States of America'}</td>\n",
       "      <td>{'/m/0lsxr': 'Crime Fiction', '/m/02n4kr': 'My...</td>\n",
       "    </tr>\n",
       "    <tr>\n",
       "      <th>40539</th>\n",
       "      <td>17705458</td>\n",
       "      <td>/m/047m_4q</td>\n",
       "      <td>Search and Destroy</td>\n",
       "      <td>1995</td>\n",
       "      <td>NaN</td>\n",
       "      <td>90.0</td>\n",
       "      <td>{'/m/02h40lc': 'English Language'}</td>\n",
       "      <td>{'/m/09c7w0': 'United States of America'}</td>\n",
       "      <td>{'/m/0lsxr': 'Crime Fiction', '/m/0gf28': 'Par...</td>\n",
       "    </tr>\n",
       "  </tbody>\n",
       "</table>\n",
       "</div>"
      ],
      "text/plain": [
       "       wikipedia_m_ID freebase_m_ID                     m_name m_release_date  \\\n",
       "44373        18531659    /m/04f15q3  The Hungry Bachelors Club     1999-11-12   \n",
       "59332        20532696    /m/051yl85            Slingshot 6 7/8            NaN   \n",
       "42322         2406029     /m/079vq8           The Private Eyes           1980   \n",
       "40539        17705458    /m/047m_4q         Search and Destroy           1995   \n",
       "\n",
       "       m_BO_revenue  m_runtime                         m_languages  \\\n",
       "44373           NaN       93.0  {'/m/02h40lc': 'English Language'}   \n",
       "59332           NaN        NaN                                  {}   \n",
       "42322    18014000.0       91.0  {'/m/02h40lc': 'English Language'}   \n",
       "40539           NaN       90.0  {'/m/02h40lc': 'English Language'}   \n",
       "\n",
       "                                     m_countries  \\\n",
       "44373  {'/m/09c7w0': 'United States of America'}   \n",
       "59332                                         {}   \n",
       "42322  {'/m/09c7w0': 'United States of America'}   \n",
       "40539  {'/m/09c7w0': 'United States of America'}   \n",
       "\n",
       "                                                m_genres  \n",
       "44373  {'/m/06cvj': 'Romantic comedy', '/m/0hj3n0w': ...  \n",
       "59332  {'/m/02hmvc': 'Short Film', '/m/05p553': 'Come...  \n",
       "42322  {'/m/0lsxr': 'Crime Fiction', '/m/02n4kr': 'My...  \n",
       "40539  {'/m/0lsxr': 'Crime Fiction', '/m/0gf28': 'Par...  "
      ]
     },
     "execution_count": 9,
     "metadata": {},
     "output_type": "execute_result"
    }
   ],
   "source": [
    "df_movies.sample(4)"
   ]
  },
  {
   "cell_type": "markdown",
   "id": "5d5d01ce",
   "metadata": {},
   "source": [
    "As shown with .info() function, it can be seen that data is in Mb order so it can be handled in size."
   ]
  },
  {
   "cell_type": "markdown",
   "id": "55a71375",
   "metadata": {},
   "source": [
    "# Data preprocessing\n",
    "<a class=\"anchor\" id=\"preprocessing\"></a>"
   ]
  },
  {
   "cell_type": "markdown",
   "id": "70003dde",
   "metadata": {},
   "source": [
    "### Characters dataset\n",
    "<a class=\"anchor\" id=\"preprocessing_characters\"></a>"
   ]
  },
  {
   "cell_type": "code",
   "execution_count": 10,
   "id": "75b29b73",
   "metadata": {},
   "outputs": [],
   "source": [
    "#Change problematic dates\n",
    "df_chars['m_release_date']=pd.to_datetime(df_chars['m_release_date'], errors = 'coerce')##min value of date '1010-12-02' qui plus petit que la plus petite date de to_datetime\n",
    "df_chars['actor_dob'] = df_chars['actor_dob'].apply(lambda x: str(x) if len(str(x)) <=10 else str(x)[:10])\n",
    "df_chars['actor_dob'] = pd.to_datetime(df_chars['actor_dob'], errors = 'coerce')\n",
    "df_chars.dropna(subset='actor_name', inplace=True)\n",
    "df_chars.drop_duplicates(keep='first', inplace=True)\n",
    "df_chars.drop_duplicates(subset=[\"wikipedia_m_ID\", \"character_name\", \"actor_name\", \"m_release_date\"], keep=False, inplace=True)"
   ]
  },
  {
   "cell_type": "markdown",
   "id": "2cb31642",
   "metadata": {},
   "source": [
    "In the character dataset, the age of actors is calculated at the time of the movie release. There are some negative age values, which would mean that movie would have been released before the actor's date of birth. This way, it was decided to drop the characters whose actor's age was negative."
   ]
  },
  {
   "cell_type": "code",
   "execution_count": 11,
   "id": "05239e0e",
   "metadata": {},
   "outputs": [],
   "source": [
    "df_chars = df_chars[df_chars.actor_age > 0]"
   ]
  },
  {
   "cell_type": "markdown",
   "id": "a74a1afd",
   "metadata": {},
   "source": [
    "The ethnicity of each actor is get using a wikidata freebase query."
   ]
  },
  {
   "cell_type": "code",
   "execution_count": 12,
   "id": "6b38135f",
   "metadata": {},
   "outputs": [],
   "source": [
    "dict_ethnicities = {}\n",
    "def get_ethnicities(arr_ethn):\n",
    "    for x in arr_ethn[1:]:\n",
    "        time.sleep(1)\n",
    "        x = x.split('/')[2]\n",
    "        query = 'https://query.wikidata.org/bigdata/namespace/wdq/sparql?format=json&query=PREFIX%20wd%3A%20%3Chttp%3A%2F%2Fwww.wikidata.org%2Fentity%2F%3E%0APREFIX%20wdt%3A%20%3Chttp%3A%2F%2Fwww.wikidata.org%2Fprop%2Fdirect%2F%3E%0APREFIX%20wikibase%3A%20%3Chttp%3A%2F%2Fwikiba.se%2Fontology%23%3E%0A%0ASELECT%20%20%3Fs%20%3FsLabel%20WHERE%20%7B%0A%20%3Fs%20wdt%3AP646%20%22%2Fm%2F{}%22.%0A%0A%20%20%20SERVICE%20wikibase%3Alabel%20%7B%0A%20%20%20%20bd%3AserviceParam%20wikibase%3Alanguage%20%22en%22%20.%0A%20%20%20%7D%0A%20%7D'.format(x)\n",
    "        response_json = requests.get(query).json()['results']['bindings']\n",
    "        if len(response_json):\n",
    "            value = response_json[0]['sLabel']['value']\n",
    "            dict_ethnicities.update({'/m/'+x: value})"
   ]
  },
  {
   "cell_type": "code",
   "execution_count": 13,
   "id": "2f3359d9",
   "metadata": {},
   "outputs": [],
   "source": [
    "def save_ethnicities():\n",
    "    csv_columns = ['freebase_ID', 'value']\n",
    "    with open(ETHNICITIES_PATH, 'w', encoding=\"utf-8\") as f:\n",
    "        writer_object = csv.writer(f)\n",
    "        for key in dict_ethnicities.keys():\n",
    "            value = dict_ethnicities[key]\n",
    "            writer_object.writerow([key, value])\n",
    "        f.close()\n",
    "    return"
   ]
  },
  {
   "cell_type": "code",
   "execution_count": 14,
   "id": "baac1bdb",
   "metadata": {},
   "outputs": [],
   "source": [
    "#get_ethnicities(df_chars['actor_ethnicity'].dropna().unique())\n",
    "#save_ethnicities(dict_ethnicities)"
   ]
  },
  {
   "cell_type": "code",
   "execution_count": 19,
   "id": "b352c317",
   "metadata": {},
   "outputs": [],
   "source": [
    "ethnicities = {}\n",
    "with open(ETHNICITIES_PATH, 'r', encoding=\"utf-8\") as f:\n",
    "    reader_object = csv.reader(f)\n",
    "    for data in reader_object:\n",
    "        if data:\n",
    "            key, value = data\n",
    "            ethnicities.update({key:value})"
   ]
  },
  {
   "cell_type": "code",
   "execution_count": 21,
   "id": "45082bfd",
   "metadata": {},
   "outputs": [],
   "source": [
    "df_chars['actor_ethnicity'] = df_chars['actor_ethnicity'].apply(lambda x: ethnicities[x] if x in ethnicities.keys() else np.nan)"
   ]
  },
  {
   "cell_type": "markdown",
   "id": "0a2875fa",
   "metadata": {},
   "source": [
    "### Movies dataset\n",
    "<a class=\"anchor\" id=\"preprocessing_movies\"></a>"
   ]
  },
  {
   "cell_type": "code",
   "execution_count": 22,
   "id": "06b111ba",
   "metadata": {},
   "outputs": [],
   "source": [
    "df_movies['m_release_date']=pd.to_datetime(df_movies['m_release_date'], errors = 'coerce')##min value of date '1010-12-02' qui plus petit que la plus petite date de to_datetime\n",
    "df_movies=df_movies.where(df_movies.astype(bool),np.nan).drop_duplicates(subset=['m_name', 'm_runtime'])"
   ]
  },
  {
   "cell_type": "markdown",
   "id": "47821aac",
   "metadata": {},
   "source": [
    "# Data exploration\n",
    "<a class=\"anchor\" id=\"exploration\"></a>"
   ]
  },
  {
   "cell_type": "markdown",
   "id": "147f06ef",
   "metadata": {},
   "source": [
    "Unique actors will be computed using the unique features (actor_name, actor_dob), as it is what will be used to map the actors to a popularity database. They will be saved in df_actors."
   ]
  },
  {
   "cell_type": "code",
   "execution_count": 23,
   "id": "8014476f",
   "metadata": {},
   "outputs": [
    {
     "name": "stdout",
     "output_type": "stream",
     "text": [
      "There are 51756 actors with different (name, date of birth) in the dataset. However, there are 51794 different actor freebase ID.\n"
     ]
    }
   ],
   "source": [
    "df_actors = df_chars.drop_duplicates(subset=['actor_dob', 'actor_name'], keep='first')\n",
    "nb_actors = df_actors['actor_name'].count()\n",
    "nb_actors_freebase_id = df_chars['freebase_actor_id'].drop_duplicates().count()\n",
    "print(\"There are {} actors with different (name, date of birth) in the dataset. However, there are {} different actor freebase ID.\".format(nb_actors, nb_actors_freebase_id))"
   ]
  },
  {
   "cell_type": "markdown",
   "id": "8d6f605c",
   "metadata": {},
   "source": [
    "The difference between the two figures is due to some incorrect matching (actor --> actor freebase ID). Those won't be taken into account when analysing \"unique actors\"."
   ]
  },
  {
   "cell_type": "markdown",
   "id": "11f66823",
   "metadata": {},
   "source": [
    "### Characters distribution"
   ]
  },
  {
   "cell_type": "code",
   "execution_count": 25,
   "id": "65ceccdb",
   "metadata": {},
   "outputs": [
    {
     "name": "stdout",
     "output_type": "stream",
     "text": [
      "There are 291127 characters and only 45.65% of them has a known freebase character ID.\n"
     ]
    }
   ],
   "source": [
    "nb_chars = df_chars['wikipedia_m_ID'].count()\n",
    "nb_chars_with_freebase = df_chars['freebase_character_id'].count()\n",
    "print(\"There are {} characters and only {:.2f}% of them has a known freebase character ID.\".format(nb_chars, nb_chars_with_freebase/nb_chars*100))"
   ]
  },
  {
   "cell_type": "code",
   "execution_count": 30,
   "id": "4d9f8369",
   "metadata": {},
   "outputs": [
    {
     "data": {
      "image/png": "[encoded data removed]",
      "text/plain": [
       "<Figure size 720x432 with 1 Axes>"
      ]
     },
     "metadata": {
      "needs_background": "light"
     },
     "output_type": "display_data"
    }
   ],
   "source": [
    "# Plots distribution of characters per movie\n",
    "plt.figure(figsize=(10,6))\n",
    "plt.title('Distribution of the number of characters per film in log scale')\n",
    "plt.xlabel('Number of characters (in the DB) per film')\n",
    "plt.ylabel('Count in log scale')\n",
    "plt.hist(df_chars['wikipedia_m_ID'].value_counts(), log=True, bins=80, color=BLUE)\n",
    "plt.tight_layout()\n",
    "plt.grid()\n",
    "plt.show()"
   ]
  },
  {
   "cell_type": "markdown",
   "id": "73df4fc8",
   "metadata": {},
   "source": [
    "### Casting age"
   ]
  },
  {
   "cell_type": "code",
   "execution_count": 31,
   "id": "03d30980",
   "metadata": {},
   "outputs": [
    {
     "name": "stdout",
     "output_type": "stream",
     "text": [
      "There are 291127 characters whose actor has a known age at the time he·she played the movie, which represents 100.00% of the characters.\n"
     ]
    }
   ],
   "source": [
    "nb_chars_with_age = df_chars['actor_age'].value_counts().sum()\n",
    "print(\"There are {} characters whose actor has a known age at the time he·she played the movie, which represents {:.2f}% of the characters.\".format(nb_chars_with_age, nb_chars_with_age/nb_chars*100))"
   ]
  },
  {
   "cell_type": "code",
   "execution_count": 32,
   "id": "0a9be8df",
   "metadata": {},
   "outputs": [
    {
     "data": {
      "image/png": "[encoded data removed]",
      "text/plain": [
       "<Figure size 1440x432 with 1 Axes>"
      ]
     },
     "metadata": {
      "needs_background": "light"
     },
     "output_type": "display_data"
    }
   ],
   "source": [
    "plt.figure(figsize=(20,6))\n",
    "sns.histplot(df_chars[df_chars.actor_gender == 'M'].actor_age, color=PURPLE, kde=True, label=\"Men\")\n",
    "sns.histplot(df_chars[df_chars.actor_gender == 'F'].actor_age, color=ORANGE, kde=True, label=\"Women\")\n",
    "plt.title(\"Casting age distribution\", fontsize=25)\n",
    "plt.xlabel(\"Age\", fontsize=15)\n",
    "plt.ylabel(\"Count\", fontsize=15)\n",
    "plt.legend()\n",
    "plt.show()"
   ]
  },
  {
   "cell_type": "markdown",
   "id": "6cad1bf2",
   "metadata": {},
   "source": [
    "### Casting gender"
   ]
  },
  {
   "cell_type": "code",
   "execution_count": 33,
   "id": "8e1d5131",
   "metadata": {},
   "outputs": [
    {
     "name": "stdout",
     "output_type": "stream",
     "text": [
      "There are 289360 characters whose actor has a known gender at the time he·she played the movie, which represents 99.39% of the characters.\n"
     ]
    }
   ],
   "source": [
    "nb_chars_with_gender = df_chars['actor_gender'].value_counts().sum()\n",
    "print(\"There are {} characters whose actor has a known gender at the time he·she played the movie, which represents {:.2f}% of the characters.\".format(nb_chars_with_gender, nb_chars_with_gender/nb_chars*100))"
   ]
  },
  {
   "cell_type": "code",
   "execution_count": 35,
   "id": "85e7fccb",
   "metadata": {},
   "outputs": [
    {
     "data": {
      "image/png": "[encoded data removed]",
      "text/plain": [
       "<Figure size 432x288 with 1 Axes>"
      ]
     },
     "metadata": {},
     "output_type": "display_data"
    }
   ],
   "source": [
    "plt.title('Casting gender distribution')\n",
    "plt.title('Gender distribution of the casting in the dataset')\n",
    "plt.pie(df_chars['actor_gender'].value_counts(), labels=['Men', 'Women'], autopct='%.0f%%', colors=[PURPLE, ORANGE])\n",
    "plt.tight_layout()\n",
    "plt.show()"
   ]
  },
  {
   "cell_type": "markdown",
   "id": "28561c2e",
   "metadata": {},
   "source": [
    "### Actors gender"
   ]
  },
  {
   "cell_type": "code",
   "execution_count": null,
   "id": "14fb8778",
   "metadata": {},
   "outputs": [],
   "source": [
    "nb_actors_with_gender = df_actors['actor_gender'].value_counts().sum()\n",
    "print(\"There are {} actors with a known gender, which represents {:.2f}% of the actors.\".format(nb_actors_with_gender, nb_actors_with_gender/nb_actors*100))"
   ]
  },
  {
   "cell_type": "code",
   "execution_count": null,
   "id": "fda62f96",
   "metadata": {},
   "outputs": [],
   "source": [
    "# Distribution of actors by gender\n",
    "plt.title('Gender distribution of the actors in the dataset')\n",
    "plt.pie(df_actors['actor_gender'].value_counts(), labels=['Men', 'Women'], autopct='%.0f%%', colors=[PURPLE, ORANGE])\n",
    "plt.show()"
   ]
  },
  {
   "cell_type": "markdown",
   "id": "be959eb1",
   "metadata": {},
   "source": [
    "There seem to be a different mean between both distributions (actors and casting genders). A T-test will be performed to know whether the mean is significatively different. As it is a binary column (Male or Female), binary values were attributed (0 for Male and 1 for Female)."
   ]
  },
  {
   "cell_type": "code",
   "execution_count": null,
   "id": "384db6e3",
   "metadata": {},
   "outputs": [],
   "source": [
    "stats.ttest_ind(df_chars.actor_gender.apply(lambda x: 1 if x=='F' else 0), df_actors.actor_gender.apply(lambda x: 1 if x=='F' else 0))"
   ]
  },
  {
   "cell_type": "markdown",
   "id": "feec3838",
   "metadata": {},
   "source": [
    "The p-value of the t-test being really close to 0, there is a significant difference in the distribution. The value of the t-test being largely negative (-13), it means that there are significally less women in average in the casting than in the actors. It means that women are less represented in movies than men, regardless of the initial proportion of women and men in the actor set."
   ]
  },
  {
   "cell_type": "markdown",
   "id": "af2541ab",
   "metadata": {},
   "source": [
    "### Actors birth date"
   ]
  },
  {
   "cell_type": "code",
   "execution_count": null,
   "id": "9c14a637",
   "metadata": {},
   "outputs": [],
   "source": [
    "nb_actors_with_dob = df_actors['actor_dob'].value_counts().sum()\n",
    "print(\"There are {} actors with a known birth date, which represents {:.2f}% of the actors.\".format(nb_actors_with_dob, nb_actors_with_dob/nb_actors*100))"
   ]
  },
  {
   "cell_type": "code",
   "execution_count": null,
   "id": "509c5456",
   "metadata": {},
   "outputs": [],
   "source": [
    "plt.figure(figsize=(20,6))\n",
    "sns.histplot(df_actors[df_actors.actor_gender == 'M'].actor_dob, color=PURPLE, kde=True, label=\"Men\")\n",
    "sns.histplot(df_actors[df_actors.actor_gender == 'F'].actor_dob, color=ORANGE, kde=True, label=\"Women\")\n",
    "plt.title(\"Birth date distribution of the actors\")\n",
    "plt.xlabel(\"Year\")\n",
    "plt.ylabel(\"Count\")\n",
    "plt.legend()\n",
    "plt.show()"
   ]
  },
  {
   "cell_type": "markdown",
   "id": "bc44709e",
   "metadata": {},
   "source": [
    "### Character ethnicity"
   ]
  },
  {
   "cell_type": "code",
   "execution_count": null,
   "id": "7fcaeeff",
   "metadata": {},
   "outputs": [],
   "source": [
    "plt.figure(figsize=(20, 6))\n",
    "df_chars['actor_ethnicity'].value_counts()[:30].plot(kind='bar', color=BLUE)\n",
    "plt.ylabel(\"Count\")\n",
    "plt.xlabel(\"Cast ethnicity\")\n",
    "plt.title(\"Distribution of the cast ethnicity\")\n",
    "plt.show()"
   ]
  },
  {
   "cell_type": "markdown",
   "id": "fa9de2e2",
   "metadata": {},
   "source": [
    "### Actor ethnicity"
   ]
  },
  {
   "cell_type": "code",
   "execution_count": null,
   "id": "6fc78f1f",
   "metadata": {},
   "outputs": [],
   "source": [
    "nb_actors_with_ethnicity = df_actors['actor_ethnicity'].value_counts().sum()\n",
    "print(\"There are {} actors with a known ethnicity, which represents {:.2f}% of the actors.\".format(nb_actors_with_ethnicity, nb_actors_with_ethnicity/nb_actors*100))"
   ]
  },
  {
   "cell_type": "code",
   "execution_count": null,
   "id": "e2eb47f0",
   "metadata": {},
   "outputs": [],
   "source": [
    "plt.figure(figsize=(20, 6))\n",
    "df_actors['actor_ethnicity'].value_counts()[:30].plot(kind='bar', color=BLUE)\n",
    "plt.ylabel(\"Count\")\n",
    "plt.xlabel(\"Actor ethnicity\")\n",
    "plt.title(\"Distribution of the actors ethnicity\")\n",
    "plt.show()"
   ]
  },
  {
   "cell_type": "code",
   "execution_count": null,
   "id": "8266c2b0",
   "metadata": {},
   "outputs": [],
   "source": [
    "plt.figure(figsize=(20, 6))\n",
    "nb = 15\n",
    "X_axis = np.linspace(0, nb, nb)\n",
    "plt.bar(X_axis - 0.2, (df_actors['actor_ethnicity'].value_counts()[:nb]/df_actors['actor_ethnicity'].count()).values, 0.4, label = 'Actors', color=BLUE)\n",
    "plt.bar(X_axis + 0.2, (df_chars['actor_ethnicity'].value_counts()[df_actors['actor_ethnicity'].value_counts()[:nb].index]/df_chars['actor_ethnicity'].count()).values, 0.4, label = 'Casting', color=RED)\n",
    "\n",
    "plt.xticks(X_axis, df_actors['actor_ethnicity'].value_counts()[:nb].index, rotation=90)\n",
    "plt.ylabel(\"Proportion\")\n",
    "plt.xlabel(\"Ethnicity\")\n",
    "plt.title(\"Proportion of the actors vs casting {} main ethnicities in the dataset\".format(nb))\n",
    "plt.legend()\n",
    "plt.show()"
   ]
  },
  {
   "cell_type": "markdown",
   "id": "ef6ae762",
   "metadata": {},
   "source": [
    "As shown in the graph above, there seem to be a difference in the distribution of the African Americans and Indians ethnicities, regarding actors and casting. It will be confirmed or infirmed using a t-test."
   ]
  },
  {
   "cell_type": "code",
   "execution_count": null,
   "id": "673afc25",
   "metadata": {},
   "outputs": [],
   "source": [
    "stats.ttest_ind(df_actors['actor_ethnicity'].dropna().apply(lambda x: 1 if x == 'African Americans' else 0), df_chars['actor_ethnicity'].dropna().apply(lambda x: 1 if x == 'African Americans' else 0))"
   ]
  },
  {
   "cell_type": "code",
   "execution_count": null,
   "id": "ae4b16d1",
   "metadata": {},
   "outputs": [],
   "source": [
    "stats.ttest_ind(df_actors['actor_ethnicity'].dropna().apply(lambda x: 1 if x == 'Indians' else 0), df_chars['actor_ethnicity'].dropna().apply(lambda x: 1 if x == 'Indians' else 0))"
   ]
  },
  {
   "cell_type": "markdown",
   "id": "07abc4b8",
   "metadata": {},
   "source": [
    "It could be deduced that African Americans actors play in average less in movies than Indian actors. However, there is only 5.8% of the actors with a known ethnicity. It that way, there is too few data to conclude anything as there are too many actors for which the ethnicity is unknown.\n",
    "\n",
    "For the following, actor ethnicity won't be taken into account when studying actor relationship as there is too few data available."
   ]
  },
  {
   "cell_type": "markdown",
   "id": "278cdf89",
   "metadata": {},
   "source": [
    "### Actors role distribution"
   ]
  },
  {
   "cell_type": "code",
   "execution_count": null,
   "id": "ee63e4cd",
   "metadata": {},
   "outputs": [],
   "source": [
    "df_chars.head()"
   ]
  },
  {
   "cell_type": "code",
   "execution_count": null,
   "id": "d9469a56",
   "metadata": {},
   "outputs": [],
   "source": [
    "cnt_m = df_chars[df_chars.actor_gender == \"M\"].groupby(['actor_name', 'actor_dob']).nunique().sort_values('wikipedia_m_ID', ascending=False)[['wikipedia_m_ID', 'character_name']].reset_index()\n",
    "cnt_w = df_chars[df_chars.actor_gender == \"F\"].groupby(['actor_name', 'actor_dob']).nunique().sort_values('wikipedia_m_ID', ascending=False)[['wikipedia_m_ID', 'character_name']].reset_index()"
   ]
  },
  {
   "cell_type": "code",
   "execution_count": null,
   "id": "a92528a6",
   "metadata": {},
   "outputs": [],
   "source": [
    "plt.figure(figsize=(20,6))\n",
    "sns.histplot(cnt_m['wikipedia_m_ID'], log_scale=(False, True), bins=50, color='purple', label=\"Men\")\n",
    "sns.histplot(cnt_w['wikipedia_m_ID'], log_scale=(False, True), bins=50, color='#ffb82c', label=\"Women\")\n",
    "plt.xlabel(\"Number of film played in\")\n",
    "plt.title(\"Number of roles distrubtion (in log scale)\")\n",
    "plt.ylabel(\"Count (log scale)\")\n",
    "plt.legend()\n",
    "plt.show()"
   ]
  },
  {
   "cell_type": "markdown",
   "id": "187c8ee8",
   "metadata": {},
   "source": [
    "As we can see, there is quite some disparity in the dataset between the number of movies and characters for a single actor. This is explained for some actors like Dharmendra Deol by having a lot of null values in the character name column (maybe due to bad char encoding choice). For others like Mel Blanc, (who was a voice actor) this is explained by having played some characters in different films like Buggs Bunny for example. Also, as he only was a voice actor, he is mentionned many times for the same film."
   ]
  },
  {
   "cell_type": "markdown",
   "id": "d39f3f9e",
   "metadata": {},
   "source": [
    "### Time between first and last performance"
   ]
  },
  {
   "cell_type": "code",
   "execution_count": null,
   "id": "04d2ace2",
   "metadata": {},
   "outputs": [],
   "source": [
    "# carreer length distribution\n",
    "carreers = df_actors[['wikipedia_m_ID', 'actor_name', 'actor_gender', 'actor_age']].groupby('actor_name', dropna=False).agg({'actor_age': ['mean', 'min', 'max', 'count'], 'actor_gender': ['first']}).reset_index()\n",
    "carreers['duration'] = carreers.actor_age['max'] - carreers.actor_age['min']"
   ]
  },
  {
   "cell_type": "code",
   "execution_count": null,
   "id": "b3d628b3",
   "metadata": {},
   "outputs": [],
   "source": [
    "sns.histplot(carreers[carreers.actor_gender['first'] == \"M\"]['duration'], log_scale=(False, True), color='blue', label=\"Men\")\n",
    "sns.histplot(carreers[carreers.actor_gender['first'] == \"F\"]['duration'], log_scale=(False, True), color='pink', label=\"Women\")\n",
    "plt.xlabel(\"Career length [Years]\")\n",
    "plt.title(\"Career length distribution\")\n",
    "plt.show()"
   ]
  },
  {
   "cell_type": "markdown",
   "id": "4ed151d0",
   "metadata": {},
   "source": [
    "### Age distribution for first and last movie"
   ]
  },
  {
   "cell_type": "code",
   "execution_count": null,
   "id": "6f05fddb",
   "metadata": {},
   "outputs": [],
   "source": [
    "fig, axs = plt.subplots(1, 2)\n",
    "\n",
    "sns.boxplot(x=carreers.actor_gender['first'], y=carreers.actor_age[\"min\"], ax=axs[0])\n",
    "sns.boxplot(x=carreers.actor_gender['first'], y=carreers.actor_age[\"max\"], ax=axs[1])\n",
    "axs[0].set_xlabel(\"Actor gender\")\n",
    "axs[1].set_xlabel(\"Actor gender\")\n",
    "axs[0].set_ylabel(\"Age at first movie\")\n",
    "axs[1].set_ylabel(\"Age at last movie\")\n",
    "plt.tight_layout()\n",
    "plt.show()"
   ]
  },
  {
   "cell_type": "markdown",
   "id": "fc0b12bd",
   "metadata": {},
   "source": [
    "### Interaction between actors"
   ]
  },
  {
   "cell_type": "code",
   "execution_count": null,
   "id": "a5c58888",
   "metadata": {},
   "outputs": [],
   "source": [
    "\n",
    "# let's start in a subset first : year [1980, 1990)\n",
    "date1 = datetime.datetime(1980, 1, 1)\n",
    "date2 = datetime.datetime(1984, 12, 31)\n",
    "\n",
    "selected_years = df[df.movie_release_date.between(date1, date2)]"
   ]
  },
  {
   "cell_type": "code",
   "execution_count": null,
   "id": "ac80d901",
   "metadata": {},
   "outputs": [],
   "source": [
    "binom = pd.DataFrame()\n",
    "# try and binomial\n",
    "for elem in selected_years.wikipedia_movie_id.unique()[:1000]:\n",
    "    tmp = selected_years[selected_years.wikipedia_movie_id == elem]\n",
    "    tmp = pd.merge(tmp, tmp, 'cross', suffixes=(\"1\",\"2\"))\n",
    "    tmp = tmp[tmp.actor_name1 > tmp.actor_name2]\n",
    "    binom = pd.concat([binom, tmp])"
   ]
  },
  {
   "cell_type": "code",
   "execution_count": null,
   "id": "62a3cfa6",
   "metadata": {},
   "outputs": [],
   "source": [
    "binom = binom[['actor_name1', 'actor_name2', 'wikipedia_movie_id1']]\n",
    "binom['weight'] = 1"
   ]
  },
  {
   "cell_type": "code",
   "execution_count": null,
   "id": "25b9e2f9",
   "metadata": {},
   "outputs": [],
   "source": [
    "# graph with interactions between actors. not very interesting, even when plotting only the GCC\n",
    "G = nx.from_pandas_edgelist(binom, 'actor_name1', 'actor_name2', edge_attr='weight')\n",
    "largest_cc = max(nx.connected_components(G), key=len)\n",
    "GCC = G.subgraph(largest_cc)"
   ]
  },
  {
   "cell_type": "code",
   "execution_count": null,
   "id": "824b1a1f",
   "metadata": {},
   "outputs": [],
   "source": [
    "_, axs = plt.subplots(1, 3, figsize=(30, 10))\n",
    "nx.draw(GCC, node_size=10, node_color=[(0., .8, 1, 0.24)] ,width=.1, ax=axs[0])\n",
    "nx.draw(GCC, pos=nx.kamada_kawai_layout(GCC), node_size=10, node_color=[(0., .8, 1, 0.24)] ,width=.1, ax=axs[1])\n",
    "axs[0].set_xlabel(\"Spring\")\n",
    "axs[1].set_xlabel(\"Kamada-Kawai\")\n",
    "plt.title(\"Giant connected components of co-acting interactions graph\")"
   ]
  },
  {
   "cell_type": "markdown",
   "id": "4957bbb7",
   "metadata": {},
   "source": [
    "# Movie general analysis"
   ]
  },
  {
   "cell_type": "markdown",
   "id": "d49bbc48",
   "metadata": {},
   "source": [
    "### Freebase movie ID"
   ]
  },
  {
   "cell_type": "code",
   "execution_count": null,
   "id": "701f5609",
   "metadata": {},
   "outputs": [],
   "source": [
    "tot = []\n",
    "k_size = 5\n",
    "for k in range(k_size):\n",
    "    n = 100\n",
    "    rd_elements = random.sample(df_movies['freebase_m_ID'].apply(lambda x: x.split('/')[2]).to_list(), n)\n",
    "    url='%28%3'\n",
    "    for x in rd_elements:\n",
    "        url += 'Ftitle%20%3D%20%22%2Fm%2F' + x + '%22%20%7C%7C%20%3'\n",
    "    query = 'https://query.wikidata.org/bigdata/namespace/wdq/sparql?format=json&query=PREFIX%20wd%3A%20%3Chttp%3A%2F%2Fwww.wikidata.org%2Fentity%2F%3E%0APREFIX%20wdt%3A%20%3Chttp%3A%2F%2Fwww.wikidata.org%2Fprop%2Fdirect%2F%3E%0APREFIX%20wikibase%3A%20%3Chttp%3A%2F%2Fwikiba.se%2Fontology%23%3E%0A%0ASELECT%20%20%3Fs%20%3Ftitle%20WHERE%20%7B%20%0A%20%20VALUES%20%3Fmovietype%20%7B%20wd%3AQ11424%7D%0A%20%20%3Fs%20p%3AP31%2Fps%3AP31%20%3Fmovietype.%0A%20%20%3Fs%20wdt%3AP646%20%3Ftitle.%0A%20%20FILTER{}%22%29%0A%0A%20%20%20SERVICE%20wikibase%3Alabel%20%7B%0A%20%20%20%20bd%3AserviceParam%20wikibase%3Alanguage%20%22en%22%20.%0A%20%20%20%7D%0A%20%7D'.format(url[:-17])\n",
    "    response = requests.get(query)\n",
    "    response = response.json()['results']['bindings']\n",
    "    tot.append(len(response))\n",
    "\n",
    "print(\"There is around {:.2f}% of the movies that have an active wikipedia freebase ID.\".format(sum(tot)/k_size))"
   ]
  },
  {
   "cell_type": "markdown",
   "id": "29022f01",
   "metadata": {},
   "source": [
    "### Movie name"
   ]
  },
  {
   "cell_type": "code",
   "execution_count": null,
   "id": "ed7f110d",
   "metadata": {},
   "outputs": [],
   "source": [
    "nb_movies = df_movies[[\"m_name\", \"freebase_m_ID\"]].value_counts().count()\n",
    "unique_wikipedia_m_id = df_movies[\"wikipedia_m_ID\"].count()\n",
    "print(\"There are {} different movies, corresponding to {} different wikipedia ID.\".format(nb_movies, \n",
    "                                                                                          unique_wikipedia_m_id))"
   ]
  },
  {
   "cell_type": "code",
   "execution_count": null,
   "id": "37c15036",
   "metadata": {},
   "outputs": [],
   "source": [
    "nb_duplicated_titles = df_movies[df_movies.duplicated('m_name', keep=False)]['wikipedia_m_ID'].count()\n",
    "print(\"There are {} movies with duplicated titles.\".format(nb_duplicated_titles))"
   ]
  },
  {
   "cell_type": "code",
   "execution_count": null,
   "id": "9d5d18e4",
   "metadata": {},
   "outputs": [],
   "source": [
    "df_movies[\"m_name\"].value_counts()"
   ]
  },
  {
   "cell_type": "markdown",
   "id": "993c3872",
   "metadata": {},
   "source": [
    "One can see that when some movies have the same title, it mainly corresponds to either remake movies or common titles where movies have nothing in common."
   ]
  },
  {
   "cell_type": "markdown",
   "id": "e2201f84",
   "metadata": {},
   "source": [
    "### Movie release date"
   ]
  },
  {
   "cell_type": "code",
   "execution_count": null,
   "id": "f2615478",
   "metadata": {},
   "outputs": [],
   "source": [
    "nb_movies_with_release_date = df_movies['m_release_date'].dropna().count()\n",
    "print(\"There are {} movies with a known release date. It corresponds to {:.2f} % of the movies.\".format(nb_movies_with_release_date, nb_movies_with_release_date / nb_movies * 100))"
   ]
  },
  {
   "cell_type": "markdown",
   "id": "1be5f9d8",
   "metadata": {},
   "source": [
    "Histogram of release date"
   ]
  },
  {
   "cell_type": "code",
   "execution_count": null,
   "id": "e0bd09e0",
   "metadata": {
    "scrolled": true
   },
   "outputs": [],
   "source": [
    "df_movies['m_release_date'].dropna().dt.year.sort_values().value_counts(sort=False).plot(kind='bar', figsize=(30,10))\n",
    "plt.grid()\n",
    "plt.title('Distribution of the film release date', fontsize=25)\n",
    "plt.xlabel('Date', fontsize=15)\n",
    "plt.ylabel('Number of films', fontsize=15)\n",
    "plt.show()\n",
    "print(\"The dataset is composed of \")"
   ]
  },
  {
   "cell_type": "code",
   "execution_count": null,
   "id": "e9629737",
   "metadata": {},
   "outputs": [],
   "source": [
    "def get_freebase_feature_movie(row, value, op, n_lim, feature):\n",
    "    ops = {\n",
    "    '>=' : operator.ge,\n",
    "    '<=' : operator.le,\n",
    "    '>' : operator.gt,\n",
    "    '<' : operator.lt,\n",
    "    }\n",
    "    op = ops[op]\n",
    "        \n",
    "    if feature == 'pubdate':\n",
    "        val_to_compare=value.year\n",
    "    else:\n",
    "        val_to_compare = value\n",
    "    \n",
    "    if op(val_to_compare, n_lim):\n",
    "        id_m = str(row['freebase_m_ID'].split('/')[2])\n",
    "        query = 'https://query.wikidata.org/bigdata/namespace/wdq/sparql?format=json&query=PREFIX%20wd%3A%20%3Chttp%3A%2F%2Fwww.wikidata.org%2Fentity%2F%3E%0APREFIX%20wdt%3A%20%3Chttp%3A%2F%2Fwww.wikidata.org%2Fprop%2Fdirect%2F%3E%0APREFIX%20wikibase%3A%20%3Chttp%3A%2F%2Fwikiba.se%2Fontology%23%3E%0A%0ASELECT%20%20%3Fs%20%3FsLabel%20%3Fp%20%20%3Fo%20%3FoLabel%20%3F{}%20WHERE%20%7B%0A%20%3Fs%20wdt%3AP646%20%22%2Fm%2F{}%22.%0A%20%3Fs%20wdt%3{}%20%3F{}.%0A%0A%20%20%20SERVICE%20wikibase%3Alabel%20%7B%0A%20%20%20%20bd%3AserviceParam%20wikibase%3Alanguage%20%22en%22%20.%0A%20%20%20%7D%0A%20%7D'.format(feature, id_m, feature_wiki_ID[feature], feature)\n",
    "        response_json = requests.get(query).json()['results']['bindings']\n",
    "        if len(response_json):\n",
    "            \n",
    "            if feature == 'runtime':\n",
    "                new_value = float(response_json[0][feature]['value'])\n",
    "                if new_value!=value:\n",
    "                    time.sleep(1)\n",
    "                    print(\"{} movie had a {} of {}. However, using freebase ID, {}={}min.\".format(row['m_name'], feature,\n",
    "                                                                                               value, feature, \n",
    "                                                                                               new_value))\n",
    "                    value = new_value\n",
    "            elif feature=='pubdate':\n",
    "                new_value = (response_json[0][feature]['value'])\n",
    "                new_value=new_value.replace(\"Z\", \"\")\n",
    "                new_value = datetime.strptime(new_value,'%Y-%m-%dT%H:%M:%S')\n",
    "                if new_value.year!=value.year:\n",
    "                    print(\"{} movie had a {} of {}. However, using freebase ID, {}={}.\".format(row['m_name'], feature,\n",
    "                                                                                               value.date(), feature, \n",
    "                                                                                               new_value.date()))\n",
    "                    value = new_value\n",
    "            \n",
    "    return value"
   ]
  },
  {
   "cell_type": "code",
   "execution_count": null,
   "id": "2573708c",
   "metadata": {
    "scrolled": true
   },
   "outputs": [],
   "source": [
    "df_movies['m_release_date'] = df_movies[['m_release_date', 'freebase_m_ID', 'm_name']].apply(lambda row: get_freebase_feature_movie(row, row['m_release_date'], '>=', 2015, 'pubdate'), axis=1)"
   ]
  },
  {
   "cell_type": "markdown",
   "id": "d06096a5",
   "metadata": {},
   "source": [
    "As the dataset is not representative after 2015, the analysis will only be done with movies released before 2015.\n"
   ]
  },
  {
   "cell_type": "code",
   "execution_count": null,
   "id": "596ac859",
   "metadata": {},
   "outputs": [],
   "source": [
    "df_movies = df_movies[df_movies['m_release_date'].dt.year < 2015]"
   ]
  },
  {
   "cell_type": "markdown",
   "id": "26f59e31",
   "metadata": {},
   "source": [
    "### Movie box office"
   ]
  },
  {
   "cell_type": "code",
   "execution_count": null,
   "id": "f4843206",
   "metadata": {},
   "outputs": [],
   "source": [
    "nb_movies_with_BO = df_movies['m_BO_revenue'].dropna().count()\n",
    "print(\"There are {} movies with a known box office revenue. It corresponds to {:.2f} % of the movies.\".format(nb_movies_with_BO, nb_movies_with_BO / nb_movies * 100))"
   ]
  },
  {
   "cell_type": "markdown",
   "id": "a7d31af4",
   "metadata": {},
   "source": [
    "Histogram of box office"
   ]
  },
  {
   "cell_type": "code",
   "execution_count": null,
   "id": "9394cdc7",
   "metadata": {},
   "outputs": [],
   "source": [
    "df_movies.groupby(df_movies.m_release_date.dt.year).mean()['m_BO_revenue'].dropna().plot(figsize=(20,6))\n",
    "plt.grid()\n",
    "plt.xlabel('Date', fontsize=15)\n",
    "plt.ylabel('Average box office revenue', fontsize=15)\n",
    "plt.title('Average box office revenue of movies per year', fontsize=25)\n",
    "plt.show()"
   ]
  },
  {
   "cell_type": "markdown",
   "id": "d7abd11b",
   "metadata": {},
   "source": [
    "### Movie runtime"
   ]
  },
  {
   "cell_type": "code",
   "execution_count": null,
   "id": "cb29933e",
   "metadata": {},
   "outputs": [],
   "source": [
    "nb_movies_with_runtime = df_movies['m_runtime'].dropna().count()\n",
    "print(\"There are {} movies with a known runtime duration. It corresponds to {:.2f} % of the movies.\".format(nb_movies_with_runtime, nb_movies_with_runtime / nb_movies * 100))"
   ]
  },
  {
   "cell_type": "markdown",
   "id": "bde7bb28",
   "metadata": {},
   "source": [
    "Histogram of the runtime"
   ]
  },
  {
   "cell_type": "code",
   "execution_count": null,
   "id": "a3b4657a",
   "metadata": {},
   "outputs": [],
   "source": [
    "plt.figure(figsize=(20,10))\n",
    "df_movies.m_runtime.hist(bins=50)\n",
    "plt.yscale('log')\n",
    "plt.ylabel('Number of movies (log scale)', fontsize=15)\n",
    "plt.xlabel('Duration of movies', fontsize=15)\n",
    "plt.title(\"Log-scaled distribution of the movie duration in the dataset\", fontsize=25)\n",
    "plt.show()"
   ]
  },
  {
   "cell_type": "code",
   "execution_count": null,
   "id": "2df6486d",
   "metadata": {},
   "outputs": [],
   "source": [
    "nb_movies_duration_inf_1 = df_movies[(df_movies['m_runtime']>= 1500)]['wikipedia_m_ID'].count()\n",
    "nb_movies_duration_supp_1500 = df_movies[(df_movies['m_runtime']<= 1)]['wikipedia_m_ID'].count()\n",
    "print(\"There are {} movies which a runtime > 1500 and {} movies with a runtime < 1.\".format(nb_movies_duration_inf_1, nb_movies_duration_supp_1500))"
   ]
  },
  {
   "cell_type": "markdown",
   "id": "b426a1ed",
   "metadata": {},
   "source": [
    "One can see that there are some outliers in the runtime. It might be due to the time conversion. As the runtime input is supposed to be in minutes, freebase ID will be queried using wikidata to know whether the runtime is the correct one."
   ]
  },
  {
   "cell_type": "code",
   "execution_count": null,
   "id": "8fc00037",
   "metadata": {},
   "outputs": [],
   "source": [
    "df_movies['m_runtime'] = df_movies[['m_runtime', 'freebase_m_ID', 'm_name']].apply(lambda row: get_freebase_feature(row, row['m_runtime'], '>', 1500, 'runtime'), axis=1)\n",
    "df_movies['m_runtime'] = df_movies[['m_runtime', 'freebase_m_ID', 'm_name']].apply(lambda row: get_freebase_feature(row, row['m_runtime'], '<', 1, 'runtime'), axis=1)"
   ]
  },
  {
   "cell_type": "markdown",
   "id": "cc1391dd",
   "metadata": {},
   "source": [
    "The new distribution of runtimes among movies can now be computed."
   ]
  },
  {
   "cell_type": "code",
   "execution_count": null,
   "id": "495826a9",
   "metadata": {},
   "outputs": [],
   "source": [
    "plt.figure(figsize=(20,10))\n",
    "df_movies.m_runtime.hist(bins=50)\n",
    "plt.yscale('log')\n",
    "plt.ylabel('Number of movies (log scale)', fontsize=15)\n",
    "plt.xlabel('Duration of movies (min)', fontsize=15)\n",
    "plt.title(\"Log-scaled distribution of the movie duration in the dataset\", fontsize=25)\n",
    "plt.show()"
   ]
  },
  {
   "cell_type": "markdown",
   "id": "045f4061",
   "metadata": {},
   "source": [
    "The average duration of a movie throughout the years is now studied. A bootstrap version is computed. "
   ]
  },
  {
   "cell_type": "code",
   "execution_count": null,
   "id": "4036e157",
   "metadata": {},
   "outputs": [],
   "source": [
    "#Boostrap confidence interval function\n",
    "def bootstrap_CI(data, nbr_draws):\n",
    "    \"\"\"\n",
    "    Args:\n",
    "    - data: \n",
    "    - nbr_draws: \n",
    "    \n",
    "    Returns: confidence interval\n",
    "    \"\"\"\n",
    "    means = np.zeros(nbr_draws)\n",
    "    data = np.array(data)\n",
    "\n",
    "    for n in range(nbr_draws):\n",
    "        indices = np.random.randint(0, len(data), len(data))\n",
    "        data_tmp = data[indices] \n",
    "        means[n] = np.nanmean(data_tmp)\n",
    "\n",
    "    return [np.nanpercentile(means, 2.5),np.nanpercentile(means, 97.5)]"
   ]
  },
  {
   "cell_type": "code",
   "execution_count": null,
   "id": "6fc099f1",
   "metadata": {},
   "outputs": [],
   "source": [
    "merge = df_movies.m_release_date.dt.year\n",
    "\n",
    "stat = df_movies[df_movies['m_runtime']<5000][['m_release_date', 'm_runtime']].dropna().groupby(merge).apply(lambda x: pd.Series({\n",
    "    'average_runtime': x['m_runtime'].mean(),\n",
    "    'lower_err_runtime': bootstrap_CI(x['m_runtime'], 3000)[0],\n",
    "    'upper_err_runtime': bootstrap_CI(x['m_runtime'], 3000)[1]\n",
    "}))"
   ]
  },
  {
   "cell_type": "code",
   "execution_count": null,
   "id": "469e40e9",
   "metadata": {},
   "outputs": [],
   "source": [
    "plt.figure(figsize=(20,6))\n",
    "plt.fill_between(stat.index, stat.average_runtime,\n",
    "         yerr = [-stat.lower_err_runtime + stat.average_runtime, \n",
    "                -stat.average_runtime + stat.upper_err_runtime],\n",
    "         capsize= 3)\n",
    "plt.xlabel('Date', fontsize=15)\n",
    "plt.xticks(rotation=90)\n",
    "plt.grid()\n",
    "plt.ylabel('Average duration of movies', fontsize=15)\n",
    "plt.title('Average duration of movies per year', fontsize=25)\n",
    "plt.show()"
   ]
  },
  {
   "cell_type": "markdown",
   "id": "02c548d8",
   "metadata": {},
   "source": [
    "### Movie dataset preparation"
   ]
  },
  {
   "cell_type": "code",
   "execution_count": null,
   "id": "3ecdeade",
   "metadata": {},
   "outputs": [],
   "source": [
    "def split_feature(row, feature, flag):\n",
    "    if isinstance(row[feature], float):\n",
    "        return np.nan\n",
    "    elif flag:\n",
    "        return list(row[feature].values())\n",
    "    else:\n",
    "        return row[feature].keys()"
   ]
  },
  {
   "cell_type": "code",
   "execution_count": null,
   "id": "55167288",
   "metadata": {},
   "outputs": [],
   "source": [
    "features=['m_languages', 'm_countries', 'm_genres']\n",
    "_freebase_ID='_freebase_ID'\n",
    "for i, feature in enumerate(features):\n",
    "    df_movies[feature+_freebase_ID]=df_movies.apply(lambda row: split_feature(row, feature, 0), axis=1)\n",
    "    df_movies[feature]=df_movies.apply(lambda row: split_feature(row, feature, 1), axis=1)"
   ]
  },
  {
   "cell_type": "markdown",
   "id": "6450a25e",
   "metadata": {},
   "source": [
    "### Movie genres"
   ]
  },
  {
   "cell_type": "code",
   "execution_count": null,
   "id": "8fa43ffc",
   "metadata": {},
   "outputs": [],
   "source": [
    "df_genres_m = df_movies.explode('m_genres').dropna(subset='m_genres')\n",
    "df_genres_m['m_genres'].value_counts()[:30].plot(kind='bar', figsize=(20,6))\n",
    "plt.title('Number of movies per movie genre', fontsize = 25)\n",
    "plt.xlabel('Movie genre', fontsize = 15)\n",
    "plt.ylabel('Number of movies', fontsize = 15)\n",
    "plt.show()"
   ]
  },
  {
   "cell_type": "code",
   "execution_count": null,
   "id": "66403cfa",
   "metadata": {},
   "outputs": [],
   "source": [
    "#df_genre_merged_m = df_genres_m.merge(df_movies, left_on='wikipedia_m_ID', right_on='wikipedia_m_ID')\n",
    "plt.figure(figsize=(20,6))\n",
    "df_genres_m[[\"m_BO_revenue\", \"m_genres\"]].dropna().groupby('m_genres')['m_BO_revenue'].mean().sort_values(ascending=False)[:30].plot(kind='bar')\n",
    "plt.title('Box Office revenue per movie genre', fontsize = 25)\n",
    "plt.xlabel('Movie genre', fontsize = 15)\n",
    "plt.ylabel('Box Office revenue', fontsize = 15)\n",
    "plt.show()"
   ]
  },
  {
   "cell_type": "code",
   "execution_count": null,
   "id": "6b52813a",
   "metadata": {},
   "outputs": [],
   "source": [
    "merge = 'm_genres'\n",
    "\n",
    "stat = df_genres_m.dropna().groupby(merge).apply(lambda x: pd.Series({\n",
    "    'average_bo': x['m_BO_revenue'].mean(),\n",
    "    'lower_err_bo': bootstrap_CI(x['m_BO_revenue'], 1000)[0],\n",
    "    'upper_err_bo': bootstrap_CI(x['m_BO_revenue'], 1000)[1]\n",
    "}))\n",
    "\n",
    "plt.figure(figsize=(10,5))\n",
    "stat = stat.sort_values(\"average_bo\", ascending=False)\n",
    "\n",
    "labels = stat.index[:30]\n",
    "labels_hist = df_genres_m.dropna(subset='m_BO_revenue')['m_genres'].value_counts()\n",
    "labels_mapping = labels.map(labels_hist)\n",
    "labels = [x + ' ({})'.format(labels_mapping[i]) for i, x in enumerate(labels)]\n",
    "\n",
    "plt.errorbar(labels, stat.average_bo[:30],\n",
    "         yerr = [-stat.lower_err_bo[:30] + stat.average_bo[:30], \n",
    "                -stat.average_bo[:30] + stat.upper_err_bo[:30]],\n",
    "         capsize= 3)\n",
    "plt.xlabel('Movie genre', fontsize=15)\n",
    "plt.xticks(rotation=90)\n",
    "plt.ylabel('Average box office (1e8)', fontsize=15)\n",
    "plt.grid()\n",
    "plt.title('Average box office revenue per genre', fontsize=25)\n",
    "plt.show()"
   ]
  },
  {
   "cell_type": "code",
   "execution_count": null,
   "id": "517e2943",
   "metadata": {},
   "outputs": [],
   "source": [
    "df_genre_a= df_genres_m.merge(df_actors, left_on='wikipedia_m_ID', right_on='wikipedia_movie_id').dropna()"
   ]
  },
  {
   "cell_type": "code",
   "execution_count": null,
   "id": "525c68a1",
   "metadata": {},
   "outputs": [],
   "source": [
    "merge = ['m_genres']\n",
    "\n",
    "df_temp = df_genre_a[['wikipedia_m_ID', 'm_genres', 'actor_gender']].copy()\n",
    "\n",
    "df_temp['actor_gender'] = df_temp['actor_gender'].apply(lambda x: 1 if x=='F' else 0)\n",
    "\n",
    "stat = df_temp.dropna(subset=['actor_gender', 'm_genres']).groupby(['m_genres', 'wikipedia_m_ID']).mean().groupby(merge).apply(lambda x: pd.Series({\n",
    "    'average_gender': x['actor_gender'].mean(),\n",
    "    'lower_err_gender': bootstrap_CI(x['actor_gender'], 1000)[0],\n",
    "    'upper_err_gender': bootstrap_CI(x['actor_gender'], 1000)[1]\n",
    "}))\n",
    "\n",
    "plt.figure(figsize=(20,6))\n",
    "stat = stat.sort_values(\"average_gender\", ascending=False)\n",
    "\n",
    "labels = stat.index[:30]\n",
    "labels_hist = df_temp.dropna(subset='actor_gender')['m_genres'].value_counts()\n",
    "labels_mapping = labels.map(labels_hist)\n",
    "labels = [x + ' ({})'.format(labels_mapping[i]) for i, x in enumerate(labels)]\n",
    "\n",
    "plt.errorbar(labels, stat.average_gender[:30],\n",
    "         yerr = [-stat.lower_err_gender[:30] + stat.average_gender[:30], \n",
    "                -stat.average_gender[:30] + stat.upper_err_gender[:30]],\n",
    "         capsize= 3)\n",
    "\n",
    "plt.ylim(-0.1, 1.1)\n",
    "plt.grid()\n",
    "plt.xticks(rotation=90)\n",
    "plt.xlabel('Genre', fontsize=15)\n",
    "plt.ylabel('Proportion of women in movies', fontsize=15)\n",
    "plt.title('Genres movies in which women are the most represented per movie', fontsize=25)\n",
    "plt.show()"
   ]
  },
  {
   "cell_type": "code",
   "execution_count": null,
   "id": "c7c3d676",
   "metadata": {},
   "outputs": [],
   "source": [
    "plt.figure(figsize=(20,6))\n",
    "stat = stat.sort_values(\"average_gender\", ascending=False)\n",
    "\n",
    "labels = stat.index[-30:]\n",
    "labels_hist = df_temp.dropna(subset='actor_gender')['m_genres'].value_counts()\n",
    "labels_mapping = labels.map(labels_hist)\n",
    "labels = [x + ' ({})'.format(labels_mapping[i]) for i, x in enumerate(labels)]\n",
    "\n",
    "plt.errorbar(labels, stat.average_gender[-30:],\n",
    "         yerr = [-stat.lower_err_gender[-30:] + stat.average_gender[-30:], \n",
    "                -stat.average_gender[-30:] + stat.upper_err_gender[-30:]],\n",
    "         capsize= 3)\n",
    "\n",
    "plt.xticks(rotation=90)\n",
    "plt.ylim(-0.1, 1.1)\n",
    "plt.grid()\n",
    "plt.xlabel('Genre (number of movies)', fontsize=15)\n",
    "plt.ylabel('Proportion of women in movies', fontsize=15)\n",
    "plt.title('Genres movies in which women are the least represented per movie', fontsize=25)\n",
    "plt.show()"
   ]
  },
  {
   "cell_type": "markdown",
   "id": "1d895130",
   "metadata": {},
   "source": [
    "### Country of production"
   ]
  },
  {
   "cell_type": "code",
   "execution_count": null,
   "id": "549caf6e",
   "metadata": {},
   "outputs": [],
   "source": [
    "df_countries_m = df_movies.explode('m_countries').dropna(subset='m_countries')\n",
    "nb_unique_countries = df_countries_m['m_countries'].nunique()\n",
    "print(\"There are {} different countries present in the dataset.\".format(nb_unique_countries))"
   ]
  },
  {
   "cell_type": "markdown",
   "id": "4f510426",
   "metadata": {},
   "source": [
    "Check to know if there were two identical country of production for a same movie."
   ]
  },
  {
   "cell_type": "code",
   "execution_count": null,
   "id": "66669cd6",
   "metadata": {},
   "outputs": [],
   "source": [
    "df_countries_m[df_countries_m.duplicated(['m_countries', 'wikipedia_m_ID'], keep=False)]"
   ]
  },
  {
   "cell_type": "code",
   "execution_count": null,
   "id": "249d15ad",
   "metadata": {},
   "outputs": [],
   "source": [
    "df_countries_m['m_countries'].value_counts()[:30].plot(kind='bar', figsize=(20,6))\n",
    "plt.title('Number of movies per country of production', fontsize = 25)\n",
    "plt.xlabel('Movie country of production', fontsize = 15)\n",
    "plt.ylabel('Number of movies', fontsize = 15)\n",
    "plt.show()"
   ]
  },
  {
   "cell_type": "code",
   "execution_count": null,
   "id": "1a974b9d",
   "metadata": {},
   "outputs": [],
   "source": [
    "nb_movies_with_countries = df_countries_m.dropna(subset='m_countries')['wikipedia_m_ID'].nunique()\n",
    "print(\"There are {} movies with a known country of production. It corresponds to {:.2f} % of the movies.\".format(nb_movies_with_countries, nb_movies_with_countries / nb_movies * 100))"
   ]
  },
  {
   "cell_type": "code",
   "execution_count": null,
   "id": "ffa8a5a6",
   "metadata": {},
   "outputs": [],
   "source": [
    "merge = 'm_countries'\n",
    "\n",
    "stat = df_countries_m.dropna(subset=['m_BO_revenue', 'm_countries']).groupby(merge).apply(lambda x: pd.Series({\n",
    "    'average_bo': x['m_BO_revenue'].mean(),\n",
    "    'lower_err_bo': bootstrap_CI(x['m_BO_revenue'], 1000)[0],\n",
    "    'upper_err_bo': bootstrap_CI(x['m_BO_revenue'], 1000)[1]\n",
    "}))\n",
    "\n",
    "plt.figure(figsize=(20,6))\n",
    "stat = stat.sort_values(\"average_bo\", ascending=False)\n",
    "\n",
    "labels = stat.index[:30]\n",
    "labels_hist = df_countries_m.dropna(subset='m_BO_revenue')['m_countries'].value_counts()\n",
    "labels_mapping = labels.map(labels_hist)\n",
    "labels = [x + ' ({})'.format(labels_mapping[i]) for i, x in enumerate(labels)]\n",
    "\n",
    "plt.errorbar(labels, stat.average_bo[:30],\n",
    "         yerr = [-stat.lower_err_bo[:30] + stat.average_bo[:30], \n",
    "                -stat.average_bo[:30] + stat.upper_err_bo[:30]],\n",
    "         capsize= 3)\n",
    "plt.xlabel('Country of production', fontsize=15)\n",
    "plt.xticks(rotation=90)\n",
    "plt.ylabel('Average box office (1e6)', fontsize=15)\n",
    "plt.grid()\n",
    "plt.title('Average box office revenue per country of production', fontsize=25)\n",
    "plt.show()"
   ]
  },
  {
   "cell_type": "code",
   "execution_count": null,
   "id": "ec3478d6",
   "metadata": {},
   "outputs": [],
   "source": [
    "nb_value_BO_USA = df_countries_m.dropna(subset='m_BO_revenue')['m_countries'].value_counts()['United States of America']\n",
    "print(\"American movies with known box office revenue represent {:.2f}% of all the movies with a known box office revenue.\".format(nb_value_BO_USA/nb_movies_with_BO *100))"
   ]
  },
  {
   "cell_type": "markdown",
   "id": "8df2c2f5",
   "metadata": {},
   "source": [
    "### Movie languages"
   ]
  },
  {
   "cell_type": "code",
   "execution_count": null,
   "id": "83389067",
   "metadata": {},
   "outputs": [],
   "source": [
    "df_languages_m = df_movies.explode('m_languages').dropna(subset='m_languages')\n",
    "nb_unique_languages = df_languages_m['m_languages'].nunique()\n",
    "print(\"There are {} different languages present in the dataset.\".format(nb_unique_languages))"
   ]
  },
  {
   "cell_type": "markdown",
   "id": "91811685",
   "metadata": {},
   "source": [
    "Check to know if there were two identical languages of production for a same movie."
   ]
  },
  {
   "cell_type": "code",
   "execution_count": null,
   "id": "ca7f614a",
   "metadata": {},
   "outputs": [],
   "source": [
    "df_languages_m[df_languages_m.duplicated(['m_languages', 'wikipedia_m_ID'], keep=False)]"
   ]
  },
  {
   "cell_type": "code",
   "execution_count": null,
   "id": "3182e1c5",
   "metadata": {},
   "outputs": [],
   "source": [
    "df_languages_muages_m['m_languages'].value_counts()[:30].plot(kind='bar', figsize=(20,6))\n",
    "plt.title('Number of movies per language of production', fontsize = 25)\n",
    "plt.xlabel('Movie language of production', fontsize = 15)\n",
    "plt.ylabel('Number of movies', fontsize = 15)\n",
    "plt.show()"
   ]
  },
  {
   "cell_type": "code",
   "execution_count": null,
   "id": "77b2d3cf",
   "metadata": {},
   "outputs": [],
   "source": [
    "nb_value_BO_english = df_languages_m.dropna(subset='m_BO_revenue')['m_languages'].value_counts()['English Language']\n",
    "print(\"English language movies with known box office revenue represent {:.2f}% of all the movies with a known box office revenue.\".format(nb_value_BO_english/nb_movies_with_BO *100))"
   ]
  },
  {
   "cell_type": "markdown",
   "id": "7fc5af2d",
   "metadata": {},
   "source": [
    "# Zoom on American movies"
   ]
  },
  {
   "cell_type": "code",
   "execution_count": null,
   "id": "8e57fa19",
   "metadata": {},
   "outputs": [],
   "source": [
    "df_movies_USA = df_countries_m[df_countries_m['m_countries']=='United States of America']\n",
    "df_m_a = df_movies_USA.merge(df_actors, left_on='wikipedia_m_ID', right_on='wikipedia_movie_id')"
   ]
  },
  {
   "cell_type": "code",
   "execution_count": null,
   "id": "ceab6222",
   "metadata": {},
   "outputs": [],
   "source": [
    "df_movies_USA.describe()"
   ]
  },
  {
   "cell_type": "markdown",
   "id": "e1ba9da9",
   "metadata": {},
   "source": [
    "### Movie genres"
   ]
  },
  {
   "cell_type": "code",
   "execution_count": null,
   "id": "2fe84906",
   "metadata": {},
   "outputs": [],
   "source": [
    "df_genres_m_USA = df_movies_USA.explode('m_genres')"
   ]
  },
  {
   "cell_type": "code",
   "execution_count": null,
   "id": "37535f4c",
   "metadata": {},
   "outputs": [],
   "source": [
    "nb_genres_USA = df_genres_m_USA['m_genres'].nunique()\n",
    "print(\"There are {} different genre in american movies.\".format(nb_genres_USA))"
   ]
  },
  {
   "cell_type": "code",
   "execution_count": null,
   "id": "4a14a6b2",
   "metadata": {},
   "outputs": [],
   "source": [
    "plt.figure(figsize=(20,6))\n",
    "df_genres_m_USA['m_genres'].value_counts()[:30].plot(kind='bar', figsize=(20,6))\n",
    "plt.title('Number of movies per movie genre', fontsize = 25)\n",
    "plt.xlabel('Movie genre', fontsize = 15)\n",
    "plt.ylabel('Number of movies', fontsize = 15)\n",
    "plt.show()"
   ]
  },
  {
   "cell_type": "code",
   "execution_count": null,
   "id": "83ee821c",
   "metadata": {},
   "outputs": [],
   "source": [
    "def one_hot_encoding(df, col):\n",
    "    y = pd.get_dummies(df[col])\n",
    "    return y, y.columns"
   ]
  },
  {
   "cell_type": "code",
   "execution_count": null,
   "id": "9662c432",
   "metadata": {},
   "outputs": [],
   "source": [
    "one_hot, genres_one_hot_labels = one_hot_encoding(df_genres_m_USA, 'm_genres')\n",
    "df_USA_genres_one_hot = pd.concat([df_genres_m_USA, one_hot], axis=1)\n",
    "df_USA_genres_one_hot = df_USA_genres_one_hot.groupby('wikipedia_m_ID')[genres_one_hot_labels].sum()"
   ]
  },
  {
   "cell_type": "code",
   "execution_count": null,
   "id": "780a0462",
   "metadata": {},
   "outputs": [],
   "source": [
    "n=nb_genres_USA\n",
    "scaler = MinMaxScaler()\n",
    "X_features = scaler.fit_transform(df_USA_genres_one_hot)\n",
    "pca = PCA(n)\n",
    "#pca.fit_transform(df_USA_genres_one_hot)\n",
    "pca.fit(X_features)\n",
    "pca_variance = pca.explained_variance_\n",
    "pca_variance_ratio = pca.explained_variance_ratio_\n",
    "\n",
    "csum = np.cumsum(pca_variance_ratio)\n",
    "plt.figure(figsize=(12, 6))\n",
    "plt.plot(csum)\n",
    "plt.plot(15, 0.6, marker='o', color='red') \n",
    "plt.ylabel('Variance ratio')\n",
    "plt.xlabel('Number of component')\n",
    "plt.title('Culumated variance ratio vs number of components')\n",
    "plt.text(15, 0.6, '  ({}, {})'.format(15, 0.6))\n",
    "plt.show()"
   ]
  },
  {
   "cell_type": "markdown",
   "id": "87ed248b",
   "metadata": {},
   "source": [
    "It was dedided to keep 15 features in order to get 60% of the cumulated variance."
   ]
  },
  {
   "cell_type": "code",
   "execution_count": null,
   "id": "b514aec3",
   "metadata": {},
   "outputs": [],
   "source": [
    "n=15\n",
    "scaler = StandardScaler()\n",
    "X_features = scaler.fit_transform(df_USA_genres_one_hot)\n",
    "pca = PCA(n)\n",
    "pca.fit_transform(X_features)\n",
    "pca_variance = pca.explained_variance_"
   ]
  },
  {
   "cell_type": "code",
   "execution_count": null,
   "id": "7d8b626f",
   "metadata": {},
   "outputs": [],
   "source": [
    "# number of components\n",
    "n_pcs= pca.components_.shape[0]\n",
    "\n",
    "# get the index of the most important feature on EACH component\n",
    "# LIST COMPREHENSION HERE\n",
    "best_four_important = []\n",
    "most_important_names = []\n",
    "n_best = 4\n",
    "initial_feature_names = genres_one_hot_labels\n",
    "for i in range(n_pcs):\n",
    "    elts = np.argsort((pca.components_[i]))[::-1][:n_best]\n",
    "    best_four_important.append(elts)\n",
    "    most_important_names.append([initial_feature_names[elts[i]] for i in range(n_best)])"
   ]
  },
  {
   "cell_type": "code",
   "execution_count": null,
   "id": "43e38f8e",
   "metadata": {},
   "outputs": [],
   "source": [
    "new_space = pca.transform(df_USA_genres_one_hot.values)\n",
    "new_space = new_space.argmax(axis=1)\n",
    "df_USA_genres_one_hot['m_genre_PCA'] = new_space\n",
    "df_USA_genres_one_hot['m_genre_PCA'] = df_USA_genres_one_hot['m_genre_PCA'].apply(lambda x: \", \".join(most_important_names[x]))"
   ]
  },
  {
   "cell_type": "code",
   "execution_count": null,
   "id": "0fda5658",
   "metadata": {},
   "outputs": [],
   "source": [
    "df_movies_USA_genre_PCA = df_movies_USA.merge(df_USA_genres_one_hot[['m_genre_PCA']], left_on='wikipedia_m_ID', right_on='wikipedia_m_ID')\n",
    "df_movies_USA_genre_PCA.head()"
   ]
  },
  {
   "cell_type": "code",
   "execution_count": null,
   "id": "538981bd",
   "metadata": {},
   "outputs": [],
   "source": [
    "nb_movies_USA_with_genre = df_genres_m_USA.dropna(subset='m_genres')['wikipedia_m_ID'].nunique()\n",
    "output = []\n",
    "for pc in most_important_names:\n",
    "    for x in pc:\n",
    "        if x not in output:\n",
    "            output.append(x)\n",
    "nb_USA_genres_reduced = df_genres_m_USA[df_genres_m_USA['m_genres'].isin(output)]['wikipedia_m_ID'].nunique()\n",
    "print(\"Selecting n={} genres out of {} different genres in american movies, the new dataset consists of {} american movies, which represent {:.2f}% of american movies with a known genre.\".format(len(output), nb_genres_USA, nb_USA_genres_reduced, nb_USA_genres_reduced/nb_movies_USA_with_genre*100))"
   ]
  },
  {
   "cell_type": "code",
   "execution_count": null,
   "id": "7489680c",
   "metadata": {},
   "outputs": [],
   "source": [
    "plt.figure(figsize=(20,6))\n",
    "df_movies_USA_genre_PCA['m_genre_PCA'].value_counts().plot(kind='bar', figsize=(20,6))\n",
    "plt.title('Number of movies per movie genre after PCA', fontsize = 25)\n",
    "plt.xlabel('Movie genre', fontsize = 15)\n",
    "plt.ylabel('Number of movies', fontsize = 15)\n",
    "plt.show()"
   ]
  },
  {
   "cell_type": "markdown",
   "id": "aee24e61",
   "metadata": {},
   "source": [
    "### Actor representation"
   ]
  },
  {
   "cell_type": "code",
   "execution_count": null,
   "id": "ad7b1f64",
   "metadata": {},
   "outputs": [],
   "source": [
    "#Boostrap confidence interval function\n",
    "def bootstrap_CI(data, nbr_draws):\n",
    "    \"\"\"\n",
    "    Args:\n",
    "    - data: \n",
    "    - nbr_draws: \n",
    "    \n",
    "    Returns: confidence interval\n",
    "    \"\"\"\n",
    "    means = np.zeros(nbr_draws)\n",
    "    data = np.array(data)\n",
    "    print(data)\n",
    "    print(len(data))\n",
    "\n",
    "    for n in range(nbr_draws):\n",
    "        indices = np.random.randint(0, len(data), len(data))\n",
    "        data_tmp = data[indices] \n",
    "        means[n] = np.nanmean(data_tmp)\n",
    "\n",
    "    return [np.nanpercentile(means, 2.5),np.nanpercentile(means, 97.5)]"
   ]
  },
  {
   "cell_type": "code",
   "execution_count": null,
   "id": "674f5782",
   "metadata": {},
   "outputs": [],
   "source": [
    "df_temp.reset_index()"
   ]
  },
  {
   "cell_type": "code",
   "execution_count": null,
   "id": "06d3cdc0",
   "metadata": {},
   "outputs": [],
   "source": [
    "merge = ['wikipedia_m_ID']\n",
    "\n",
    "\n",
    "#distrib = [df_m_a, df_countries_m.merge(df_actors, left_on='wikipedia_m_ID', right_on='wikipedia_movie_id')]\n",
    "distrib = [df_m_a]\n",
    "stats_comparison = []\n",
    "\n",
    "for df in distrib:\n",
    "    df_temp = df[['actor_gender', 'wikipedia_m_ID']].copy()\n",
    "    df_temp['actor_gender'] = df_temp['actor_gender'].apply(lambda x: 1 if x=='F' else 0)\n",
    "    df_temp = df_temp.dropna(subset=['actor_gender']).groupby(merge).mean().reset_index()\n",
    "    print(\"temp\", df_temp)\n",
    "    stat = df_temp.apply(lambda x: pd.Series({\n",
    "        'average_gender': x['actor_gender'].mean(),\n",
    "        'lower_err_gender': bootstrap_CI(x['actor_gender'], 1)[0],\n",
    "        'upper_err_gender': bootstrap_CI(x['actor_gender'], 1)[1]\n",
    "    }), axis=1)\n",
    "    stats_comparison.append(stat)\n",
    "\n",
    "print(stats_comparison[0])\n",
    "\n",
    "plt.figure(figsize=(20,6))\n",
    "for stat in stats_comparison:\n",
    "    print(stat.index)\n",
    "    labels = stat.index\n",
    "\n",
    "    plt.errorbar(labels, stat.average_gender,\n",
    "             yerr = [-stat.lower_err_gender + stat.average_gender,\n",
    "                    -stat.average_gender + stat.upper_err_gender],\n",
    "             capsize= 3)\n",
    "\n",
    "plt.ylim(-0.1, 1.1)\n",
    "plt.grid()\n",
    "plt.xticks(rotation=90)\n",
    "plt.xlabel('Genre', fontsize=15)\n",
    "plt.ylabel('Proportion of women in movies', fontsize=15)\n",
    "plt.title('Distribution of the proportion of women in the american movies', fontsize=25)\n",
    "plt.show()"
   ]
  },
  {
   "cell_type": "markdown",
   "id": "559fdbac",
   "metadata": {},
   "source": [
    "### Title"
   ]
  },
  {
   "cell_type": "code",
   "execution_count": null,
   "id": "ed8fdee0",
   "metadata": {},
   "outputs": [],
   "source": [
    "temp_df = df_movies_USA.merge(df_USA_genres_one_hot[['m_genre_PCA']], left_on='wikipedia_m_ID', right_on='wikipedia_m_ID').drop(columns=['m_BO_revenue', 'm_runtime', 'm_languages', 'm_countries', 'm_genres', 'm_languages_freebase_ID', 'm_countries_freebase_ID', 'm_genres_freebase_ID'])\n",
    "\n",
    "big_df = pd.merge(temp_df, df_actors, left_on=['wikipedia_m_ID', 'freebase_m_ID' , 'm_release_date'], right_on=['wikipedia_m_ID', 'freebase_m_ID' , 'm_release_date'])\n",
    "big_df = big_df.drop(columns=['freebase_m_ID', 'actor_dob', 'actor_gender', 'actor_height', 'actor_ethnicity', 'actor_age', 'freebase_character_id', 'freebase_character_map', 'freebase_actor_id'])\n",
    "\n",
    "big_df"
   ]
  },
  {
   "cell_type": "code",
   "execution_count": null,
   "id": "0ed87caf",
   "metadata": {},
   "outputs": [],
   "source": [
    "action_actors = big_df\n",
    "genre_dict = {}\n",
    "for vec in action_actors.m_genre_PCA.drop_duplicates():\n",
    "    genre_dict[vec] = action_actors[action_actors['m_genre_PCA'] == vec]\n",
    "\n",
    "test_graph = genre_dict[\", \".join(most_important_names[0])]\n",
    "\n",
    "graph = pd.merge(test_graph, test_graph, on=['wikipedia_m_ID', 'm_name', 'm_release_date', 'm_genre_PCA'])\n",
    "graph = graph[graph.actor_name_x < graph.actor_name_y]\n",
    "graph.head()"
   ]
  },
  {
   "cell_type": "code",
   "execution_count": null,
   "id": "1c7b3006",
   "metadata": {},
   "outputs": [],
   "source": [
    "# graph with interactions between actors. not very interesting, even when plotting only the GCC\n",
    "G = nx.from_pandas_edgelist(graph, 'actor_name_x', 'actor_name_y')"
   ]
  },
  {
   "cell_type": "code",
   "execution_count": null,
   "id": "e2ae63b7",
   "metadata": {},
   "outputs": [],
   "source": [
    "nx.draw(G, pos=nx.spring_layout(G), node_size=10, node_color=[(0., .8, 1, 0.24)] ,width=.1)"
   ]
  },
  {
   "cell_type": "markdown",
   "id": "9b6dd68e",
   "metadata": {},
   "source": [
    "As we can see, not all actors in this category are connected, let's see how the GCC looks like."
   ]
  },
  {
   "cell_type": "code",
   "execution_count": null,
   "id": "a52e0dca",
   "metadata": {},
   "outputs": [],
   "source": [
    "largest_cc = max(nx.connected_components(G), key=len)\n",
    "GCC = G.subgraph(largest_cc)"
   ]
  },
  {
   "cell_type": "code",
   "execution_count": null,
   "id": "52f6c26b",
   "metadata": {},
   "outputs": [],
   "source": [
    "nx.draw(GCC, pos=nx.spring_layout(GCC), node_size=10, node_color=[(0., .8, 1, 0.24)] ,width=.1)"
   ]
  },
  {
   "cell_type": "markdown",
   "id": "815e39ba",
   "metadata": {},
   "source": [
    "The above graph shows the GCC for all the actors that have played in the 1000 first films. We used 2 different layouts, that both can highlight different graph properties. We can see on graph using the spring layout that there is a strongly connected component, and some outliers. The Kamada-Kawai additionnaly shows that there are a few hubs, i.e. nodes that connect the strongly connected to some outliers."
   ]
  },
  {
   "cell_type": "markdown",
   "id": "37957c50",
   "metadata": {},
   "source": [
    "### Node degree distribution"
   ]
  },
  {
   "cell_type": "code",
   "execution_count": null,
   "id": "b0d3e9b5",
   "metadata": {},
   "outputs": [],
   "source": [
    "degree_sequence = sorted((d for n, d in G.degree()), reverse=True)\n",
    "sns.histplot(degree_sequence, bins=50, log_scale = (False, True))\n",
    "plt.title(\"Example of node degree distribution \\nwith genre {} in log scale\".format(most_important_names[0]))\n",
    "plt.show()"
   ]
  },
  {
   "cell_type": "code",
   "execution_count": null,
   "id": "d30ac0ff",
   "metadata": {},
   "outputs": [],
   "source": [
    "t_graph = pd.merge(big_df, big_df, on=['wikipedia_m_ID', 'm_name', 'm_release_date','m_genre_PCA'])\n",
    "t_graph = t_graph[t_graph.actor_name_x < t_graph.actor_name_y]\n",
    "\n",
    "G = nx.from_pandas_edgelist(t_graph, 'actor_name_x', 'actor_name_y')\n",
    "degree_sequence = sorted((d for n, d in G.degree()), reverse=True)\n",
    "sns.histplot(degree_sequence, bins=50, log_scale=(False,True))\n",
    "plt.title(\"Node degree distribution on all genres in log scale\")\n",
    "plt.show()"
   ]
  },
  {
   "cell_type": "code",
   "execution_count": null,
   "id": "fad272fe",
   "metadata": {},
   "outputs": [],
   "source": [
    "fig, axs = plt.subplots(5, 3, figsize=(20, 9), sharey='all', sharex='all')\n",
    "\n",
    "i = 0\n",
    "for k in genre_dict:\n",
    "    ax= axs[int(i/3)][i%3]\n",
    "    graph = pd.merge(genre_dict[k], genre_dict[k], on=['wikipedia_m_ID', 'm_name', 'm_release_date', 'm_genre_PCA'])\n",
    "    graph = graph[graph.actor_name_x < graph.actor_name_y]\n",
    "    g = nx.from_pandas_edgelist(graph, 'actor_name_x', 'actor_name_y')\n",
    "\n",
    "    degree_sequence = sorted((d for n, d in g.degree()), reverse=True)\n",
    "    sns.histplot(degree_sequence, log_scale=(True, True), ax=ax)\n",
    "    ax.set_title(k)\n",
    "    ax.set_xlabel(\"degree\")\n",
    "    i+=1\n",
    "plt.suptitle(\"Node degree distribution by genre\")\n",
    "plt.tight_layout()\n",
    "plt.show()"
   ]
  },
  {
   "cell_type": "code",
   "execution_count": null,
   "id": "3d0e8bb9",
   "metadata": {},
   "outputs": [],
   "source": [
    "fig, axs = plt.subplots(5, 3, figsize=(20, 9), sharey='all', sharex='all')\n",
    "\n",
    "i = 0\n",
    "for k in genre_dict:\n",
    "    ax= axs[int(i/3)][i%3]\n",
    "    graph = pd.merge(genre_dict[k], genre_dict[k], on=['wikipedia_m_ID', 'm_release_date', 'm_name', 'm_genre_PCA'])\n",
    "    graph = graph[graph.actor_name_x < graph.actor_name_y]\n",
    "    g = nx.from_pandas_edgelist(graph, 'actor_name_x', 'actor_name_y')\n",
    "    largest_cc = max(nx.connected_components(G), key=len)\n",
    "    gcc = g.subgraph(largest_cc)\n",
    "\n",
    "    degree_sequence = sorted((d for n, d in gcc.degree()), reverse=True)\n",
    "    sns.histplot(degree_sequence, log_scale=(True, True), ax=ax)\n",
    "    ax.set_title(k)\n",
    "    ax.set_xlabel(\"degree\")\n",
    "    i+=1\n",
    "plt.suptitle(\"Node degree distribution for GCC by genre\")\n",
    "plt.tight_layout()\n",
    "plt.show()"
   ]
  },
  {
   "cell_type": "markdown",
   "id": "f79fefab",
   "metadata": {},
   "source": [
    "### Graph connectivity"
   ]
  },
  {
   "cell_type": "code",
   "execution_count": null,
   "id": "6f3ea945",
   "metadata": {},
   "outputs": [],
   "source": [
    "fig, axs = plt.subplots(1, 2, figsize=(20, 9), sharey='all', sharex='all')\n",
    "\n",
    "graph = pd.merge(genre_dict[0], genre_dict[0], on=['wikipedia_m_ID', 'm_release_date', 'm_name', 'm_genre_PCA'])\n",
    "graph = graph[graph.actor_name_x < graph.actor_name_y]\n",
    "# graph with interactions between actors. not very interesting, even when plotting only the GCC\n",
    "G = nx.from_pandas_edgelist(graph, 'actor_name_x', 'actor_name_y')\n",
    "largest_cc = max(nx.connected_components(G), key=len)\n",
    "GCC = G.subgraph(largest_cc)\n",
    "\n",
    "nx.draw(G, pos=nx.spring_layout(G), node_size=10, node_color=[(0., .8, 1, 0.24)] ,width=.1, ax=axs[0])\n",
    "nx.draw(GCC, pos=nx.spring_layout(GCC), node_size=10, node_color=[(0., .8, 1, 0.24)] ,width=.1, ax=axs[1])"
   ]
  },
  {
   "cell_type": "code",
   "execution_count": null,
   "id": "5835b1bb",
   "metadata": {},
   "outputs": [],
   "source": [
    "fig, axs = plt.subplots(1, 2, figsize=(20, 9), sharey='all', sharex='all')\n",
    "\n",
    "graph = pd.merge(genre_dict[11], genre_dict[11], on=['wikipedia_m_ID', 'm_release_date', 'm_name', 'm_genre_PCA'])\n",
    "graph = graph[graph.actor_name_x < graph.actor_name_y]\n",
    "# graph with interactions between actors. not very interesting, even when plotting only the GCC\n",
    "G = nx.from_pandas_edgelist(graph, 'actor_name_x', 'actor_name_y')\n",
    "largest_cc = max(nx.connected_components(G), key=len)\n",
    "GCC = G.subgraph(largest_cc)\n",
    "\n",
    "nx.draw(G, pos=nx.spring_layout(G), node_size=10, node_color=[(0., .8, 1, 0.24)] ,width=.1, ax=axs[0])\n",
    "nx.draw(GCC, pos=nx.spring_layout(GCC), node_size=10, node_color=[(0., .8, 1, 0.24)] ,width=.1, ax=axs[1])"
   ]
  },
  {
   "cell_type": "markdown",
   "id": "f560a5f8",
   "metadata": {},
   "source": [
    "### Actors intersection between genres"
   ]
  },
  {
   "cell_type": "code",
   "execution_count": null,
   "id": "d70b9fa5",
   "metadata": {},
   "outputs": [],
   "source": [
    "plt.figure(figsize=(12, 8))\n",
    "intersection_log = np.empty((15, 15))\n",
    "intersection = np.empty((15, 15))\n",
    "actors = []\n",
    "heatmap_labels = []\n",
    "\n",
    "for k in genre_dict:\n",
    "    actor_set = set(genre_dict[k]['actor_name'])\n",
    "    actors.append([k, len(actor_set), actor_set])\n",
    "    heatmap_labels.append(k[:30]+\"...\")\n",
    "\n",
    "actors.sort(key=lambda x: x[1], reverse=True)\n",
    "\n",
    "for i, genre1 in enumerate(actors):\n",
    "    for j, genre2 in enumerate(actors):\n",
    "        intersection[i][j] = len(genre1[2].intersection(genre2[2]))/len(genre1[2].union(genre2[2]))\n",
    "\n",
    "\n",
    "sns.heatmap(intersection,  annot=True, yticklabels=heatmap_labels, xticklabels=heatmap_labels)\n",
    "\n",
    "plt.title('Set intersection cardinality between genres')\n",
    "plt.tight_layout()\n",
    "plt.show()"
   ]
  },
  {
   "cell_type": "code",
   "execution_count": null,
   "id": "89d294a1",
   "metadata": {},
   "outputs": [],
   "source": [
    "# find distribution for 1st film, second film, ... per actor\n",
    "test = big_df.sort_values(['actor_name', 'm_release_date']).reset_index()[['m_genre_PCA', 'actor_name']]\n",
    "test['number'] = 0\n",
    "test.dropna(subset='actor_name', axis=0, inplace=True)\n",
    "prev_actor = \"\"\n",
    "i = 0\n",
    "test = test[test.actor_name != 'Mel Blanc']\n",
    "for idx, row in test.iterrows():\n",
    "    if row.actor_name != prev_actor:\n",
    "        prev_actor = row.actor_name\n",
    "        i = 0\n",
    "    i+=1\n",
    "    test.at[idx, 'number'] = i"
   ]
  },
  {
   "cell_type": "code",
   "execution_count": null,
   "id": "15ca5098",
   "metadata": {},
   "outputs": [],
   "source": [
    "stacked_df = pd.DataFrame()\n",
    "for group in test.groupby('m_genre_PCA'):\n",
    "    tmp = group[1].groupby('number').count()['actor_name']\n",
    "    tmp = tmp.reindex(list(range(1,tmp.index.max()+1)), fill_value=0)\n",
    "    stacked_df[group[0]] = tmp\n",
    "\n",
    "stacked_df = stacked_df.fillna(0)"
   ]
  },
  {
   "cell_type": "code",
   "execution_count": null,
   "id": "f3e1a7a1",
   "metadata": {},
   "outputs": [],
   "source": [
    "fig, axs = plt.subplots(1, 2, figsize=(20,10))\n",
    "stacked_df.head(50).plot(kind='bar', stacked=True, ax=axs[0])\n",
    "axs[0].set_title('Genre evolution in carreer length')\n",
    "axs[0].set_xlabel('nth film for actor')\n",
    "axs[0].set_ylabel('count of roles in film genres')\n",
    "norm_stacked = stacked_df.copy()\n",
    "norm_stacked = norm_stacked.apply(lambda row: row/row.sum(), axis=1)\n",
    "\n",
    "norm_stacked.head(50).plot(kind='bar', stacked=True, ax=axs[1], legend=False)\n",
    "axs[1].set_title('Genre evolution in carreer length, normalized')\n",
    "axs[0].set_xlabel('nth film for actor')\n",
    "axs[0].set_ylabel('% of roles in film genres')\n",
    "\n",
    "plt.show()"
   ]
  },
  {
   "cell_type": "markdown",
   "id": "a0726ead",
   "metadata": {},
   "source": [
    "### Evolution of genre. \"Cumulative bar plots\"?"
   ]
  },
  {
   "cell_type": "markdown",
   "id": "38c42c98",
   "metadata": {},
   "source": [
    "Take actors born at the same period ? or actors that have high vs low popularity ? how to represent data ?"
   ]
  },
  {
   "cell_type": "code",
   "execution_count": null,
   "id": "cd8a9fd8",
   "metadata": {},
   "outputs": [],
   "source": []
  },
  {
   "cell_type": "code",
   "execution_count": null,
   "id": "e6782c2a",
   "metadata": {},
   "outputs": [],
   "source": []
  },
  {
   "cell_type": "markdown",
   "id": "12f62a42",
   "metadata": {},
   "source": [
    "# Trials de merde"
   ]
  },
  {
   "cell_type": "code",
   "execution_count": null,
   "id": "79e7dc9a",
   "metadata": {},
   "outputs": [],
   "source": [
    "df_stats = df_m_metadata.dropna()\n",
    "stats.pearsonr(df_stats['m_runtime'],df_stats['m_BO_revenue'])"
   ]
  },
  {
   "cell_type": "code",
   "execution_count": null,
   "id": "eb05a5fa",
   "metadata": {},
   "outputs": [],
   "source": [
    "stats.spearmanr(df_stats['m_runtime'],df_stats['m_BO_revenue'])"
   ]
  },
  {
   "cell_type": "code",
   "execution_count": null,
   "id": "6f0164d1",
   "metadata": {},
   "outputs": [],
   "source": [
    "stats.pearsonr(df_stats['m_release_date'].dt.year, df_stats['m_BO_revenue'])"
   ]
  },
  {
   "cell_type": "code",
   "execution_count": null,
   "id": "39b4fc22",
   "metadata": {},
   "outputs": [],
   "source": [
    "stats.spearmanr(df_stats['m_release_date'].dt.year, df_stats['m_BO_revenue'])"
   ]
  },
  {
   "cell_type": "code",
   "execution_count": null,
   "id": "8f3c30ff",
   "metadata": {},
   "outputs": [],
   "source": [
    "df_countries_merged= df_countries_exploded.merge(df_actors, left_on='wikipedia_m_ID', right_on='wikipedia_movie_id').dropna()"
   ]
  },
  {
   "cell_type": "code",
   "execution_count": null,
   "id": "1a81058c",
   "metadata": {},
   "outputs": [],
   "source": [
    "american_actors = df_countries_merged[df_countries_merged[\"m_countries\"] == 'United States of America']"
   ]
  },
  {
   "cell_type": "code",
   "execution_count": null,
   "id": "bef1759d",
   "metadata": {},
   "outputs": [],
   "source": [
    "american_actors.groupby(\"actor_name\")[\"wikipedia_movie_id\"].count().sort_values(ascending=False)[:1000]"
   ]
  },
  {
   "cell_type": "code",
   "execution_count": null,
   "id": "d8b0b3ce",
   "metadata": {
    "scrolled": true
   },
   "outputs": [],
   "source": []
  },
  {
   "cell_type": "code",
   "execution_count": null,
   "id": "7da066a1",
   "metadata": {},
   "outputs": [],
   "source": [
    "df_genre_merged= df_genre_exploded.merge(df_actors, left_on='wikipedia_m_ID', right_on='wikipedia_movie_id').dropna()"
   ]
  },
  {
   "cell_type": "code",
   "execution_count": null,
   "id": "6f32f1a6",
   "metadata": {},
   "outputs": [],
   "source": [
    "df_genre_merged.head()"
   ]
  },
  {
   "cell_type": "code",
   "execution_count": null,
   "id": "cecb6064",
   "metadata": {},
   "outputs": [],
   "source": [
    "#df_genre_merged['m_genre_hash'] = df_genre_merged['m_genres'].apply(lambda x: hash(x))\n",
    "#df_genre_merged['actor_gender_hash'] = df_genre_merged['actor_gender'].apply(lambda x: hash(x))\n",
    "#df_genre_merged['actor_ethnicity_hash'] = df_genre_merged['actor_ethnicity'].apply(lambda x: hash(x))"
   ]
  },
  {
   "cell_type": "code",
   "execution_count": null,
   "id": "c70cdf45",
   "metadata": {},
   "outputs": [],
   "source": [
    "stats.pearsonr(df_genre_merged['movie_release_date'].dt.year, df_genre_merged['m_genre_hash'])"
   ]
  },
  {
   "cell_type": "code",
   "execution_count": null,
   "id": "b5b865d2",
   "metadata": {},
   "outputs": [],
   "source": [
    "#stats.pearsonr(df_genre_merged['actor_gender_hash'], df_genre_merged['m_genre_hash'])"
   ]
  },
  {
   "cell_type": "code",
   "execution_count": null,
   "id": "285645a9",
   "metadata": {},
   "outputs": [],
   "source": [
    "#stats.pearsonr(df_genre_merged['actor_ethnicity_hash'], df_genre_merged['m_genre_hash'])"
   ]
  },
  {
   "cell_type": "code",
   "execution_count": null,
   "id": "f79aecc4",
   "metadata": {},
   "outputs": [],
   "source": [
    "df_corr=df_genre_merged.copy()\n",
    "df_corr['actor_gender']=df_corr['actor_gender'].astype('category').cat.codes\n",
    "df_corr['m_genres']=df_corr['m_genres'].astype('category').cat.codes\n",
    "df_corr['actor_dob']=df_corr['actor_dob'].dt.year.astype('category').cat.codes\n",
    "df_corr['actor_ethnicity']=df_corr['actor_ethnicity'].astype('category').cat.codes\n",
    "df_corr['movie_release_date']=df_corr['movie_release_date'].astype('category').cat.codes\n",
    "df_genre_merged.corr()"
   ]
  },
  {
   "cell_type": "code",
   "execution_count": null,
   "id": "f8bc16a5",
   "metadata": {},
   "outputs": [],
   "source": [
    "df_corr.head()"
   ]
  },
  {
   "cell_type": "code",
   "execution_count": null,
   "id": "6d356cf5",
   "metadata": {},
   "outputs": [],
   "source": [
    "df_genre_merged.head()"
   ]
  },
  {
   "cell_type": "code",
   "execution_count": null,
   "id": "c53c6c6d",
   "metadata": {},
   "outputs": [],
   "source": [
    "stats.ttest_ind(genres_female, genres_male)"
   ]
  },
  {
   "cell_type": "code",
   "execution_count": null,
   "id": "6a69da68",
   "metadata": {},
   "outputs": [],
   "source": [
    "df_temp = df_genre_merged[[\"m_genres\", \"actor_gender\"]].value_counts().sort_values().reset_index()\n",
    "df_temp = df_temp[df_temp.duplicated(['m_genres'], keep=False)]\n",
    "df_temp= df_temp.sort_values(\"m_genres\")\n",
    "genres_male = df_temp[df_temp[\"actor_gender\"] == 'M'][0]\n",
    "genres_female = df_temp[df_temp[\"actor_gender\"] == 'F'][0]"
   ]
  },
  {
   "cell_type": "code",
   "execution_count": null,
   "id": "ef61244b",
   "metadata": {},
   "outputs": [],
   "source": [
    "genres_female.count()"
   ]
  },
  {
   "cell_type": "code",
   "execution_count": null,
   "id": "09fe320b",
   "metadata": {},
   "outputs": [],
   "source": [
    "df_temp.sort_values(\"m_genres\").head(22)"
   ]
  },
  {
   "cell_type": "code",
   "execution_count": null,
   "id": "13793b6b",
   "metadata": {},
   "outputs": [],
   "source": [
    "df[\"logtime\"] = np.log(df[\"time\"])\n",
    "mod = smf.ols(formula='logtime ~  high_blood_pressure + diabetes + DEATH_EVENT', data=df)\n",
    "res = mod.fit()\n",
    "print(res.summary())"
   ]
  },
  {
   "cell_type": "code",
   "execution_count": null,
   "id": "1cf735dd",
   "metadata": {},
   "outputs": [],
   "source": [
    "df_genre_exploded['m_genres'].apply(lambda x: hash(x))"
   ]
  },
  {
   "cell_type": "code",
   "execution_count": null,
   "id": "39951c89",
   "metadata": {},
   "outputs": [],
   "source": [
    "df_genre_exploded.merge(df_m_metadata_clean_release_date, left_on='wikipedia_m_ID', right_on='wikipedia_m_ID')"
   ]
  },
  {
   "cell_type": "code",
   "execution_count": null,
   "id": "21a33770",
   "metadata": {},
   "outputs": [],
   "source": []
  },
  {
   "cell_type": "code",
   "execution_count": null,
   "id": "f538c79c",
   "metadata": {},
   "outputs": [],
   "source": []
  }
 ],
 "metadata": {
  "kernelspec": {
   "display_name": "Python 3 (ipykernel)",
   "language": "python",
   "name": "python3"
  },
  "language_info": {
   "codemirror_mode": {
    "name": "ipython",
    "version": 3
   },
   "file_extension": ".py",
   "mimetype": "text/x-python",
   "name": "python",
   "nbconvert_exporter": "python",
   "pygments_lexer": "ipython3",
   "version": "3.9.12"
  }
 },
 "nbformat": 4,
 "nbformat_minor": 5
}
