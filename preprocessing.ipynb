{
 "cells": [
  {
   "cell_type": "code",
   "execution_count": 1,
   "id": "6c6b777a",
   "metadata": {},
   "outputs": [],
   "source": [
    "import operator\n",
    "import random\n",
    "import requests\n",
    "import time\n",
    "import csv\n",
    "import os\n",
    "import pandas as pd\n",
    "import seaborn as sns\n",
    "import numpy as np\n",
    "import networkx as nx\n",
    "from scipy import stats\n",
    "from ast import literal_eval\n",
    "from matplotlib import pyplot as plt\n",
    "from statsmodels.stats import diagnostic\n",
    "from datetime import datetime\n",
    "from sklearn.manifold import TSNE\n",
    "from sklearn.decomposition import PCA\n",
    "from sklearn.preprocessing import StandardScaler, MinMaxScaler\n",
    "from sklearn.linear_model import LinearRegression, LogisticRegression\n",
    "from sklearn.model_selection import train_test_split\n",
    "\n",
    "# Data standard scaler\n",
    "from sklearn.preprocessing import StandardScaler\n",
    "\n",
    "# Random train-test split\n",
    "from sklearn.model_selection import train_test_split\n",
    "\n",
    "# Metrics and model selection\n",
    "from sklearn.metrics import classification_report, confusion_matrix, accuracy_score, auc, roc_curve, precision_recall_curve\n",
    "from sklearn.model_selection import cross_val_predict\n",
    "\n",
    "# Classifiers\n",
    "from sklearn.linear_model import LogisticRegression\n",
    "from sklearn.ensemble import RandomForestClassifier\n",
    "from sklearn.neural_network import MLPClassifier\n",
    "\n",
    "from scipy.stats import ttest_ind\n",
    "\n",
    "#To visualize on of the RandomForest decision trees\n",
    "#from sklearn import tree\n",
    "\n",
    "#colors used when comparing genders\n",
    "PURPLE = 'purple'\n",
    "ORANGE = '#ffb82c'\n",
    "\n",
    "#colors used when generic comparisons\n",
    "BLUE = '#0173b2'\n",
    "RED = '#d55e00'\n",
    "\n",
    "#print(sns.color_palette(\"colorblind\").as_hex())\n",
    "#sns.color_palette(\"colorblind\")"
   ]
  },
  {
   "cell_type": "code",
   "execution_count": 2,
   "id": "ca727fcb",
   "metadata": {},
   "outputs": [
    {
     "data": {
      "text/html": [
       "\n",
       "<style>\n",
       ".output_png {\n",
       "    display: table-cell;\n",
       "    text-align: center;\n",
       "    vertical-align: middle;\n",
       "}\n",
       "</style>\n"
      ],
      "text/plain": [
       "<IPython.core.display.HTML object>"
      ]
     },
     "execution_count": 2,
     "metadata": {},
     "output_type": "execute_result"
    }
   ],
   "source": [
    "from IPython.core.display import HTML\n",
    "HTML(\"\"\"\n",
    "<style>\n",
    ".output_png {\n",
    "    display: table-cell;\n",
    "    text-align: center;\n",
    "    vertical-align: middle;\n",
    "}\n",
    "</style>\n",
    "\"\"\")"
   ]
  },
  {
   "cell_type": "markdown",
   "id": "b73ccb64",
   "metadata": {},
   "source": [
    "# 1. Load the CMU data"
   ]
  },
  {
   "cell_type": "code",
   "execution_count": 3,
   "id": "df69f983",
   "metadata": {},
   "outputs": [],
   "source": [
    "DATA_PATH = './data'\n",
    "CHAR_PATH = os.path.join(DATA_PATH, 'character.metadata.tsv')\n",
    "ETHNICITIES_PATH =  os.path.join('ethnicities.csv')\n",
    "MOVIE_PATH = os.path.join(DATA_PATH, 'movie.metadata.tsv')\n",
    "THE_NUMBERS_PATH = os.path.join(DATA_PATH, 'actors_xxxx_the_numbers')"
   ]
  },
  {
   "cell_type": "markdown",
   "id": "d97f24df",
   "metadata": {},
   "source": [
    "## 1.1 Characters dataset"
   ]
  },
  {
   "cell_type": "code",
   "execution_count": 4,
   "id": "0319e485",
   "metadata": {},
   "outputs": [],
   "source": [
    "a_cols = ['wikipedia_m_ID', 'freebase_m_ID', 'm_release_date','character_name', 'actor_dob', 'actor_gender', 'actor_height', 'actor_ethnicity', 'actor_name', 'actor_age', 'freebase_character_map', 'freebase_character_id', 'freebase_actor_id']\n",
    "df_chars=pd.read_csv(CHAR_PATH, sep='\\t', names=a_cols)"
   ]
  },
  {
   "cell_type": "markdown",
   "id": "82e54b3a",
   "metadata": {},
   "source": [
    "## 1.2 Movie dataset"
   ]
  },
  {
   "cell_type": "code",
   "execution_count": 5,
   "id": "7c252022",
   "metadata": {},
   "outputs": [],
   "source": [
    "m_cols = [\"wikipedia_m_ID\", \"freebase_m_ID\", \"m_name\", \"m_release_date\", \"m_BO_revenue\", \"m_runtime\", \"m_languages\", \"m_countries\", \"m_genres\"]\n",
    "df_movies=pd.read_csv(MOVIE_PATH, sep='\\t', names=m_cols, converters={'m_languages': literal_eval, 'm_countries': literal_eval, 'm_genres': literal_eval})"
   ]
  },
  {
   "cell_type": "markdown",
   "id": "6c09d8e1",
   "metadata": {},
   "source": [
    "# 2 Quick look at the CMU data"
   ]
  },
  {
   "cell_type": "markdown",
   "id": "ee0c3d0a",
   "metadata": {},
   "source": [
    "## 2.1 Characters dataset"
   ]
  },
  {
   "cell_type": "code",
   "execution_count": 6,
   "id": "12ec8377",
   "metadata": {},
   "outputs": [
    {
     "name": "stdout",
     "output_type": "stream",
     "text": [
      "<class 'pandas.core.frame.DataFrame'>\n",
      "RangeIndex: 450669 entries, 0 to 450668\n",
      "Data columns (total 13 columns):\n",
      " #   Column                  Non-Null Count   Dtype  \n",
      "---  ------                  --------------   -----  \n",
      " 0   wikipedia_m_ID          450669 non-null  int64  \n",
      " 1   freebase_m_ID           450669 non-null  object \n",
      " 2   m_release_date          440674 non-null  object \n",
      " 3   character_name          192794 non-null  object \n",
      " 4   actor_dob               344524 non-null  object \n",
      " 5   actor_gender            405060 non-null  object \n",
      " 6   actor_height            154824 non-null  float64\n",
      " 7   actor_ethnicity         106058 non-null  object \n",
      " 8   actor_name              449441 non-null  object \n",
      " 9   actor_age               292556 non-null  float64\n",
      " 10  freebase_character_map  450669 non-null  object \n",
      " 11  freebase_character_id   192804 non-null  object \n",
      " 12  freebase_actor_id       449854 non-null  object \n",
      "dtypes: float64(2), int64(1), object(10)\n",
      "memory usage: 44.7+ MB\n"
     ]
    }
   ],
   "source": [
    "df_chars.info()"
   ]
  },
  {
   "cell_type": "code",
   "execution_count": 7,
   "id": "e2c68feb",
   "metadata": {},
   "outputs": [
    {
     "data": {
      "text/html": [
       "<div>\n",
       "<style scoped>\n",
       "    .dataframe tbody tr th:only-of-type {\n",
       "        vertical-align: middle;\n",
       "    }\n",
       "\n",
       "    .dataframe tbody tr th {\n",
       "        vertical-align: top;\n",
       "    }\n",
       "\n",
       "    .dataframe thead th {\n",
       "        text-align: right;\n",
       "    }\n",
       "</style>\n",
       "<table border=\"1\" class=\"dataframe\">\n",
       "  <thead>\n",
       "    <tr style=\"text-align: right;\">\n",
       "      <th></th>\n",
       "      <th>wikipedia_m_ID</th>\n",
       "      <th>freebase_m_ID</th>\n",
       "      <th>m_release_date</th>\n",
       "      <th>character_name</th>\n",
       "      <th>actor_dob</th>\n",
       "      <th>actor_gender</th>\n",
       "      <th>actor_height</th>\n",
       "      <th>actor_ethnicity</th>\n",
       "      <th>actor_name</th>\n",
       "      <th>actor_age</th>\n",
       "      <th>freebase_character_map</th>\n",
       "      <th>freebase_character_id</th>\n",
       "      <th>freebase_actor_id</th>\n",
       "    </tr>\n",
       "  </thead>\n",
       "  <tbody>\n",
       "    <tr>\n",
       "      <th>24036</th>\n",
       "      <td>9190793</td>\n",
       "      <td>/m/027_qx0</td>\n",
       "      <td>1998-08-13</td>\n",
       "      <td>NaN</td>\n",
       "      <td>1956-04-26</td>\n",
       "      <td>M</td>\n",
       "      <td>1.79</td>\n",
       "      <td>NaN</td>\n",
       "      <td>Imanol Arias</td>\n",
       "      <td>42.0</td>\n",
       "      <td>/m/02vbjhk</td>\n",
       "      <td>NaN</td>\n",
       "      <td>/m/027zy3n</td>\n",
       "    </tr>\n",
       "    <tr>\n",
       "      <th>207084</th>\n",
       "      <td>9907753</td>\n",
       "      <td>/m/02pwnk5</td>\n",
       "      <td>2005-06-10</td>\n",
       "      <td>NaN</td>\n",
       "      <td>1972-02-14</td>\n",
       "      <td>F</td>\n",
       "      <td>NaN</td>\n",
       "      <td>/m/03ttfc</td>\n",
       "      <td>Najwa Nimri</td>\n",
       "      <td>33.0</td>\n",
       "      <td>/m/0cgn326</td>\n",
       "      <td>NaN</td>\n",
       "      <td>/m/08cl84</td>\n",
       "    </tr>\n",
       "    <tr>\n",
       "      <th>160159</th>\n",
       "      <td>9188717</td>\n",
       "      <td>/m/027_ns_</td>\n",
       "      <td>1937</td>\n",
       "      <td>NaN</td>\n",
       "      <td>1896-09-13</td>\n",
       "      <td>M</td>\n",
       "      <td>NaN</td>\n",
       "      <td>NaN</td>\n",
       "      <td>Tito Lusiardo</td>\n",
       "      <td>NaN</td>\n",
       "      <td>/m/02vcv5z</td>\n",
       "      <td>NaN</td>\n",
       "      <td>/m/02phwbl</td>\n",
       "    </tr>\n",
       "    <tr>\n",
       "      <th>92750</th>\n",
       "      <td>27989050</td>\n",
       "      <td>/m/0ch460w</td>\n",
       "      <td>1984-05-04</td>\n",
       "      <td>NaN</td>\n",
       "      <td>1942-04-07</td>\n",
       "      <td>M</td>\n",
       "      <td>1.83</td>\n",
       "      <td>/m/0dryh9k</td>\n",
       "      <td>Jeetendra</td>\n",
       "      <td>42.0</td>\n",
       "      <td>/m/0gvz4h5</td>\n",
       "      <td>NaN</td>\n",
       "      <td>/m/043cl9</td>\n",
       "    </tr>\n",
       "  </tbody>\n",
       "</table>\n",
       "</div>"
      ],
      "text/plain": [
       "        wikipedia_m_ID freebase_m_ID m_release_date character_name  \\\n",
       "24036          9190793    /m/027_qx0     1998-08-13            NaN   \n",
       "207084         9907753    /m/02pwnk5     2005-06-10            NaN   \n",
       "160159         9188717    /m/027_ns_           1937            NaN   \n",
       "92750         27989050    /m/0ch460w     1984-05-04            NaN   \n",
       "\n",
       "         actor_dob actor_gender  actor_height actor_ethnicity     actor_name  \\\n",
       "24036   1956-04-26            M          1.79             NaN   Imanol Arias   \n",
       "207084  1972-02-14            F           NaN       /m/03ttfc    Najwa Nimri   \n",
       "160159  1896-09-13            M           NaN             NaN  Tito Lusiardo   \n",
       "92750   1942-04-07            M          1.83      /m/0dryh9k      Jeetendra   \n",
       "\n",
       "        actor_age freebase_character_map freebase_character_id  \\\n",
       "24036        42.0             /m/02vbjhk                   NaN   \n",
       "207084       33.0             /m/0cgn326                   NaN   \n",
       "160159        NaN             /m/02vcv5z                   NaN   \n",
       "92750        42.0             /m/0gvz4h5                   NaN   \n",
       "\n",
       "       freebase_actor_id  \n",
       "24036         /m/027zy3n  \n",
       "207084         /m/08cl84  \n",
       "160159        /m/02phwbl  \n",
       "92750          /m/043cl9  "
      ]
     },
     "execution_count": 7,
     "metadata": {},
     "output_type": "execute_result"
    }
   ],
   "source": [
    "df_chars.sample(4)"
   ]
  },
  {
   "cell_type": "markdown",
   "id": "3cf4cbd1",
   "metadata": {},
   "source": [
    "## 2.2 Movie dataset"
   ]
  },
  {
   "cell_type": "code",
   "execution_count": 8,
   "id": "b1f26faa",
   "metadata": {},
   "outputs": [
    {
     "name": "stdout",
     "output_type": "stream",
     "text": [
      "<class 'pandas.core.frame.DataFrame'>\n",
      "RangeIndex: 81741 entries, 0 to 81740\n",
      "Data columns (total 9 columns):\n",
      " #   Column          Non-Null Count  Dtype  \n",
      "---  ------          --------------  -----  \n",
      " 0   wikipedia_m_ID  81741 non-null  int64  \n",
      " 1   freebase_m_ID   81741 non-null  object \n",
      " 2   m_name          81741 non-null  object \n",
      " 3   m_release_date  74839 non-null  object \n",
      " 4   m_BO_revenue    8401 non-null   float64\n",
      " 5   m_runtime       61291 non-null  float64\n",
      " 6   m_languages     81741 non-null  object \n",
      " 7   m_countries     81741 non-null  object \n",
      " 8   m_genres        81741 non-null  object \n",
      "dtypes: float64(2), int64(1), object(6)\n",
      "memory usage: 5.6+ MB\n"
     ]
    }
   ],
   "source": [
    "df_movies.info()"
   ]
  },
  {
   "cell_type": "code",
   "execution_count": 9,
   "id": "58705110",
   "metadata": {},
   "outputs": [
    {
     "data": {
      "text/html": [
       "<div>\n",
       "<style scoped>\n",
       "    .dataframe tbody tr th:only-of-type {\n",
       "        vertical-align: middle;\n",
       "    }\n",
       "\n",
       "    .dataframe tbody tr th {\n",
       "        vertical-align: top;\n",
       "    }\n",
       "\n",
       "    .dataframe thead th {\n",
       "        text-align: right;\n",
       "    }\n",
       "</style>\n",
       "<table border=\"1\" class=\"dataframe\">\n",
       "  <thead>\n",
       "    <tr style=\"text-align: right;\">\n",
       "      <th></th>\n",
       "      <th>wikipedia_m_ID</th>\n",
       "      <th>freebase_m_ID</th>\n",
       "      <th>m_name</th>\n",
       "      <th>m_release_date</th>\n",
       "      <th>m_BO_revenue</th>\n",
       "      <th>m_runtime</th>\n",
       "      <th>m_languages</th>\n",
       "      <th>m_countries</th>\n",
       "      <th>m_genres</th>\n",
       "    </tr>\n",
       "  </thead>\n",
       "  <tbody>\n",
       "    <tr>\n",
       "      <th>52689</th>\n",
       "      <td>14859122</td>\n",
       "      <td>/m/03g_djf</td>\n",
       "      <td>Edgar Allan Poe's Ligeia</td>\n",
       "      <td>2008</td>\n",
       "      <td>NaN</td>\n",
       "      <td>90.0</td>\n",
       "      <td>{}</td>\n",
       "      <td>{'/m/09c7w0': 'United States of America'}</td>\n",
       "      <td>{'/m/0hj3n4p': 'Gothic Film', '/m/03npn': 'Hor...</td>\n",
       "    </tr>\n",
       "    <tr>\n",
       "      <th>4875</th>\n",
       "      <td>22644521</td>\n",
       "      <td>/m/05zzzk3</td>\n",
       "      <td>Sprong naar de Liefde</td>\n",
       "      <td>1982</td>\n",
       "      <td>NaN</td>\n",
       "      <td>NaN</td>\n",
       "      <td>{'/m/02bv9': 'Dutch Language'}</td>\n",
       "      <td>{'/m/059j2': 'Netherlands'}</td>\n",
       "      <td>{'/m/0lsxr': 'Crime Fiction', '/m/07s9rl0': 'D...</td>\n",
       "    </tr>\n",
       "    <tr>\n",
       "      <th>32039</th>\n",
       "      <td>23316410</td>\n",
       "      <td>/m/0660cx6</td>\n",
       "      <td>Sa Bangji</td>\n",
       "      <td>1988-10-29</td>\n",
       "      <td>NaN</td>\n",
       "      <td>94.0</td>\n",
       "      <td>{}</td>\n",
       "      <td>{'/m/06qd3': 'South Korea'}</td>\n",
       "      <td>{'/m/07s9rl0': 'Drama'}</td>\n",
       "    </tr>\n",
       "    <tr>\n",
       "      <th>67789</th>\n",
       "      <td>32967006</td>\n",
       "      <td>/m/0h54rks</td>\n",
       "      <td>Who's Your Neighbor?</td>\n",
       "      <td>NaN</td>\n",
       "      <td>NaN</td>\n",
       "      <td>NaN</td>\n",
       "      <td>{}</td>\n",
       "      <td>{}</td>\n",
       "      <td>{'/m/06ppq': 'Silent film'}</td>\n",
       "    </tr>\n",
       "  </tbody>\n",
       "</table>\n",
       "</div>"
      ],
      "text/plain": [
       "       wikipedia_m_ID freebase_m_ID                    m_name m_release_date  \\\n",
       "52689        14859122    /m/03g_djf  Edgar Allan Poe's Ligeia           2008   \n",
       "4875         22644521    /m/05zzzk3     Sprong naar de Liefde           1982   \n",
       "32039        23316410    /m/0660cx6                 Sa Bangji     1988-10-29   \n",
       "67789        32967006    /m/0h54rks      Who's Your Neighbor?            NaN   \n",
       "\n",
       "       m_BO_revenue  m_runtime                     m_languages  \\\n",
       "52689           NaN       90.0                              {}   \n",
       "4875            NaN        NaN  {'/m/02bv9': 'Dutch Language'}   \n",
       "32039           NaN       94.0                              {}   \n",
       "67789           NaN        NaN                              {}   \n",
       "\n",
       "                                     m_countries  \\\n",
       "52689  {'/m/09c7w0': 'United States of America'}   \n",
       "4875                 {'/m/059j2': 'Netherlands'}   \n",
       "32039                {'/m/06qd3': 'South Korea'}   \n",
       "67789                                         {}   \n",
       "\n",
       "                                                m_genres  \n",
       "52689  {'/m/0hj3n4p': 'Gothic Film', '/m/03npn': 'Hor...  \n",
       "4875   {'/m/0lsxr': 'Crime Fiction', '/m/07s9rl0': 'D...  \n",
       "32039                            {'/m/07s9rl0': 'Drama'}  \n",
       "67789                        {'/m/06ppq': 'Silent film'}  "
      ]
     },
     "execution_count": 9,
     "metadata": {},
     "output_type": "execute_result"
    }
   ],
   "source": [
    "df_movies.sample(4)"
   ]
  },
  {
   "cell_type": "markdown",
   "id": "38dd33ca",
   "metadata": {},
   "source": [
    "# 3. CMU data preprocessing"
   ]
  },
  {
   "cell_type": "markdown",
   "id": "556c3c7b",
   "metadata": {},
   "source": [
    "## 3.1 Characters dataset"
   ]
  },
  {
   "cell_type": "markdown",
   "id": "a6ebb902",
   "metadata": {},
   "source": [
    "#### Columns conversion"
   ]
  },
  {
   "cell_type": "code",
   "execution_count": 10,
   "id": "5c20d8b7",
   "metadata": {},
   "outputs": [],
   "source": [
    "#Change problematic dates\n",
    "df_chars['m_release_date']=pd.to_datetime(df_chars['m_release_date'], errors = 'coerce')##min value of date '1010-12-02' qui plus petit que la plus petite date de to_datetime\n",
    "df_chars['actor_dob'] = df_chars['actor_dob'].apply(lambda x: str(x) if len(str(x)) <=10 else str(x)[:10])\n",
    "df_chars['actor_dob'] = pd.to_datetime(df_chars['actor_dob'], errors = 'coerce')"
   ]
  },
  {
   "cell_type": "markdown",
   "id": "a460b33c",
   "metadata": {},
   "source": [
    "#### Actors age"
   ]
  },
  {
   "cell_type": "code",
   "execution_count": 11,
   "id": "653624eb",
   "metadata": {},
   "outputs": [
    {
     "name": "stdout",
     "output_type": "stream",
     "text": [
      "There are 433 characters whose actor has a negative age.\n"
     ]
    }
   ],
   "source": [
    "# Number of characters whose actor has a negative age when appearing in the movie\n",
    "nb_chars_negative_age = df_chars[df_chars['actor_age'] <= 0]['actor_age'].value_counts().sum()\n",
    "print(\"There are {} characters whose actor has a negative age.\".format(nb_chars_negative_age))"
   ]
  },
  {
   "cell_type": "markdown",
   "id": "fbf5d0c9",
   "metadata": {},
   "source": [
    "#### Actor name"
   ]
  },
  {
   "cell_type": "code",
   "execution_count": 12,
   "id": "17d4f9d7",
   "metadata": {},
   "outputs": [
    {
     "data": {
      "text/plain": [
       "NaN                   1228\n",
       "Mel Blanc              791\n",
       "Mithun Chakraborty     328\n",
       "Oliver Hardy           299\n",
       "Mohanlal               234\n",
       "Moe Howard             225\n",
       "Mammootty              225\n",
       "Dharmendra Deol        219\n",
       "Larry Fine             219\n",
       "Amitabh Bachchan       206\n",
       "Name: actor_name, dtype: int64"
      ]
     },
     "execution_count": 12,
     "metadata": {},
     "output_type": "execute_result"
    }
   ],
   "source": [
    "# Number of characters whose actor is named 'NaN'\n",
    "df_chars['actor_name'].value_counts(dropna=False)[:10]"
   ]
  },
  {
   "cell_type": "code",
   "execution_count": 13,
   "id": "a117782c",
   "metadata": {},
   "outputs": [
    {
     "name": "stdout",
     "output_type": "stream",
     "text": [
      "There are 1228 characters whose actor name is nan.\n"
     ]
    }
   ],
   "source": [
    "# Number of characters whose actor is named 'NaN'\n",
    "nb_chars_nan = df_chars['actor_name'].value_counts(dropna=False)[np.nan]\n",
    "print(\"There are {} characters whose actor name is nan.\".format(nb_chars_nan))"
   ]
  },
  {
   "cell_type": "markdown",
   "id": "5e7f0986",
   "metadata": {},
   "source": [
    "#### Duplicated characters"
   ]
  },
  {
   "cell_type": "code",
   "execution_count": 14,
   "id": "0c60b49e",
   "metadata": {},
   "outputs": [
    {
     "name": "stdout",
     "output_type": "stream",
     "text": [
      "There are 0 duplicated characters. So there is no duplicated row.\n"
     ]
    }
   ],
   "source": [
    "# Number of duplicates\n",
    "nb_char_duplicates = df_chars.duplicated().sum()\n",
    "print(\"There are {} duplicated characters. So there is no duplicated row.\".format(nb_char_duplicates))"
   ]
  },
  {
   "cell_type": "code",
   "execution_count": 15,
   "id": "c6677507",
   "metadata": {},
   "outputs": [
    {
     "name": "stdout",
     "output_type": "stream",
     "text": [
      "There are 1086 characters which appear in the same movie with the same release date, have the same name and which are played by the same actor.\n"
     ]
    }
   ],
   "source": [
    "# Number of occurrences with same subset of columns as described below\n",
    "nb_char_duplicates_sub = df_chars.duplicated(subset=['wikipedia_m_ID', 'character_name', 'actor_name', 'm_release_date']).sum()\n",
    "print(\"There are {} characters which appear in the same movie with the same release date, have the same name and which are played by the same actor.\".format(nb_char_duplicates_sub))"
   ]
  },
  {
   "cell_type": "markdown",
   "id": "2b70b0db",
   "metadata": {},
   "source": [
    "#### Casting date of birth"
   ]
  },
  {
   "cell_type": "code",
   "execution_count": 16,
   "id": "8359bbb4",
   "metadata": {},
   "outputs": [
    {
     "data": {
      "image/png": "[encoded data removed]",
      "text/plain": [
       "<Figure size 432x288 with 1 Axes>"
      ]
     },
     "metadata": {
      "needs_background": "light"
     },
     "output_type": "display_data"
    },
    {
     "name": "stdout",
     "output_type": "stream",
     "text": [
      "There are 59 actors born before 1850.\n",
      "There are 1 actors born after 2013.\n"
     ]
    }
   ],
   "source": [
    "#Looking at date of birth\n",
    "plt.title('Distribution of casting date of birth')\n",
    "plt.xlabel('Year')\n",
    "plt.ylabel('Number of actors born that year')\n",
    "plt.hist(df_chars['actor_dob'], bins=50, color=BLUE)\n",
    "plt.grid()\n",
    "plt.show()\n",
    "date_born_min = df_chars.loc[df_chars['actor_dob'].dt.year<1850]['wikipedia_m_ID'].count()\n",
    "date_born_max = df_chars.loc[df_chars['actor_dob'].dt.year>2013]['wikipedia_m_ID'].count()\n",
    "print(\"There are {} actors born before 1850.\\nThere are {} actors born after 2013.\".format(date_born_min, date_born_max))"
   ]
  },
  {
   "cell_type": "code",
   "execution_count": 17,
   "id": "cef7b03e",
   "metadata": {},
   "outputs": [
    {
     "data": {
      "text/plain": [
       "array([nan])"
      ]
     },
     "execution_count": 17,
     "metadata": {},
     "output_type": "execute_result"
    }
   ],
   "source": [
    "#The actors born before 1850 have all nan as age.\n",
    "df_chars.loc[df_chars['actor_dob'].dt.year<1850]['actor_age'].unique()"
   ]
  },
  {
   "cell_type": "code",
   "execution_count": 18,
   "id": "9e186ee8",
   "metadata": {},
   "outputs": [
    {
     "data": {
      "text/plain": [
       "array([-37.])"
      ]
     },
     "execution_count": 18,
     "metadata": {},
     "output_type": "execute_result"
    }
   ],
   "source": [
    "#The actor born after 2013 has a negative age. He'll be dropped in the next cell\n",
    "df_chars.loc[df_chars['actor_dob'].dt.year>2013]['actor_age'].unique()"
   ]
  },
  {
   "cell_type": "code",
   "execution_count": 19,
   "id": "daea9c7c",
   "metadata": {},
   "outputs": [
    {
     "name": "stdout",
     "output_type": "stream",
     "text": [
      "The first movie is released in 1888.\n"
     ]
    }
   ],
   "source": [
    "date_movie_first_release = df_chars['m_release_date'].min()\n",
    "print(\"The first movie is released in {}.\".format(date_movie_first_release.year))"
   ]
  },
  {
   "cell_type": "markdown",
   "id": "29cf2d97",
   "metadata": {},
   "source": [
    "The actor database contains following errors:\n",
    "- **Actors with negative age**: is (at least in some cases (wikipedia_movie_id: 15007384)) due to actors having the same last name, which probably led to some scraping missmatch, e.g. a movie attributed to a son when it was in fact his father acting. We are going to drop those since it is clearly mistaken.\n",
    "- **Actors with name 'Nan'**: there is no way for us to qualitatively use this data, so we will drop them.\n",
    "- **Actors duplicates**: some duplicates were identified, we will safely remove them.\n",
    "- **Actors with old date of birth**: there are some actors with really old date of birth (59 before 1850). It was decided to safely remove their characters."
   ]
  },
  {
   "cell_type": "markdown",
   "id": "35e5c033",
   "metadata": {},
   "source": [
    "#### Cleaning"
   ]
  },
  {
   "cell_type": "code",
   "execution_count": 20,
   "id": "13623fc7",
   "metadata": {},
   "outputs": [],
   "source": [
    "def cast_age(x):\n",
    "    try:\n",
    "        value = int(x)\n",
    "    except:\n",
    "        value = np.nan\n",
    "    return value"
   ]
  },
  {
   "cell_type": "code",
   "execution_count": 21,
   "id": "1be9dc8c",
   "metadata": {},
   "outputs": [],
   "source": [
    "df_chars['actor_age'] = df_chars['actor_age'].apply(lambda x: cast_age(x))\n",
    "df_chars['actor_age'] = df_chars.apply(lambda row: row['m_release_date'].year - row['actor_dob'].year if (row['actor_age']==np.nan and row['actor_dob']!=np.nan and row['m_release_date']!=np.nan) else row['actor_age'], axis=1)\n",
    "df_chars = df_chars.loc[(df_chars['actor_age'] >=0) | (df_chars['actor_age'].isna())]\n",
    "\n",
    "df_chars = df_chars.loc[(df_chars['actor_dob'].dt.year >=1850) | (df_chars['actor_dob'].isna())]\n",
    "df_chars.dropna(subset='actor_name', inplace=True)\n",
    "df_chars.drop_duplicates(subset=[\"wikipedia_m_ID\", \"character_name\", \"actor_name\", \"m_release_date\"], keep=False, inplace=True)"
   ]
  },
  {
   "cell_type": "markdown",
   "id": "d64524a5",
   "metadata": {},
   "source": [
    "## 3.2 Movie dataset"
   ]
  },
  {
   "cell_type": "markdown",
   "id": "31f60a29",
   "metadata": {},
   "source": [
    "#### Columns conversion"
   ]
  },
  {
   "cell_type": "code",
   "execution_count": 22,
   "id": "3170efeb",
   "metadata": {},
   "outputs": [],
   "source": [
    "#Movie release dates are parsed as datetime.\n",
    "df_movies['m_release_date']=pd.to_datetime(df_movies['m_release_date'], errors = 'coerce')"
   ]
  },
  {
   "cell_type": "markdown",
   "id": "64748f58",
   "metadata": {},
   "source": [
    "#### Movie freebase ID"
   ]
  },
  {
   "cell_type": "code",
   "execution_count": 23,
   "id": "7ed3ed4a",
   "metadata": {},
   "outputs": [],
   "source": [
    "#A sample of movies is taken to get their freebase ID. The average is then done on how much of them had a valid movie freebase ID.\n",
    "tot = []\n",
    "k_size = 8\n",
    "n = 100\n",
    "for k in range(k_size):\n",
    "    rd_elements = random.sample(df_movies['freebase_m_ID'].apply(lambda x: x.split('/')[2]).to_list(), n)\n",
    "    url='%28%3'\n",
    "    for x in rd_elements:\n",
    "        url += 'Ftitle%20%3D%20%22%2Fm%2F' + x + '%22%20%7C%7C%20%3'\n",
    "    query = 'https://query.wikidata.org/bigdata/namespace/wdq/sparql?format=json&query=PREFIX%20wd%3A%20%3Chttp%3A%2F%2Fwww.wikidata.org%2Fentity%2F%3E%0APREFIX%20wdt%3A%20%3Chttp%3A%2F%2Fwww.wikidata.org%2Fprop%2Fdirect%2F%3E%0APREFIX%20wikibase%3A%20%3Chttp%3A%2F%2Fwikiba.se%2Fontology%23%3E%0A%0ASELECT%20%20%3Fs%20%3Ftitle%20WHERE%20%7B%20%0A%20%20VALUES%20%3Fmovietype%20%7B%20wd%3AQ11424%7D%0A%20%20%3Fs%20p%3AP31%2Fps%3AP31%20%3Fmovietype.%0A%20%20%3Fs%20wdt%3AP646%20%3Ftitle.%0A%20%20FILTER{}%22%29%0A%0A%20%20%20SERVICE%20wikibase%3Alabel%20%7B%0A%20%20%20%20bd%3AserviceParam%20wikibase%3Alanguage%20%22en%22%20.%0A%20%20%20%7D%0A%20%7D'.format(url[:-17])\n",
    "    response = requests.get(query)\n",
    "    response = response.json()['results']['bindings']\n",
    "    tot.append(len(response))"
   ]
  },
  {
   "cell_type": "code",
   "execution_count": 24,
   "id": "c219f6c8",
   "metadata": {},
   "outputs": [
    {
     "data": {
      "image/png": "[encoded data removed]",
      "text/plain": [
       "<Figure size 720x360 with 1 Axes>"
      ]
     },
     "metadata": {
      "needs_background": "light"
     },
     "output_type": "display_data"
    },
    {
     "name": "stdout",
     "output_type": "stream",
     "text": [
      "There is around 77.62% of the movies that have an active wikipedia freebase ID.\n"
     ]
    }
   ],
   "source": [
    "ratio = [x/n for x in tot]\n",
    "avg_ratio = sum(ratio)/k_size\n",
    "plt.figure(figsize=(10, 5))\n",
    "plt.plot(np.linspace(0, k_size-1, k_size).astype(int), ratio, marker='o', linewidth=0, markersize=8, color=BLUE, label='Folds')\n",
    "plt.xticks(np.linspace(0, k_size-1, k_size).astype(int))\n",
    "plt.plot(np.linspace(-1, k_size, k_size).astype(int), [avg_ratio]*k_size, color=RED, label='Average')\n",
    "plt.xlim(- 0.1, k_size -1 + 0.1)\n",
    "plt.ylim(0, 1)\n",
    "plt.xlabel(\"K folds\")\n",
    "plt.ylabel(\"Average in the sample of movie\")\n",
    "plt.grid()\n",
    "plt.text(0.1, avg_ratio + 0.05, \"Average = {:.2f}\".format(avg_ratio))\n",
    "plt.legend()\n",
    "plt.title(\"Proportion of movies that have a valid freebase ID\\nSampling {} times with replacement on {} movies.\".format(k_size, n))\n",
    "plt.show()\n",
    "print(\"There is around {:.2f}% of the movies that have an active wikipedia freebase ID.\".format(avg_ratio*100))"
   ]
  },
  {
   "cell_type": "markdown",
   "id": "9fb85fdc",
   "metadata": {},
   "source": [
    "#### Critical values"
   ]
  },
  {
   "cell_type": "code",
   "execution_count": 25,
   "id": "2cc963ff",
   "metadata": {},
   "outputs": [
    {
     "name": "stdout",
     "output_type": "stream",
     "text": [
      "There are 17949 rows with critical values. These are values such as: empty dictionaries, 0, nan, etc.\n"
     ]
    }
   ],
   "source": [
    "#Number of movies with critical values.\n",
    "nb_critical_values = df_movies[~df_movies.astype(bool).all(axis=1)].shape[0]\n",
    "print(\"There are {} rows with critical values. These are values such as: empty dictionaries, 0, nan, etc.\".format(nb_critical_values))"
   ]
  },
  {
   "cell_type": "markdown",
   "id": "c0a7829e",
   "metadata": {},
   "source": [
    "#### Duplicated rows"
   ]
  },
  {
   "cell_type": "code",
   "execution_count": 26,
   "id": "7a2b549f",
   "metadata": {},
   "outputs": [
    {
     "name": "stdout",
     "output_type": "stream",
     "text": [
      "There are 0 duplicated rows in the movie dataset.\n"
     ]
    }
   ],
   "source": [
    "df_temp = df_movies.copy()\n",
    "df_temp['m_languages'] = df_temp['m_languages'].apply(lambda x: str(list(x.values())))\n",
    "df_temp['m_countries'] = df_temp['m_countries'].apply(lambda x: str(list(x.values())))\n",
    "df_temp['m_genres'] = df_temp['m_genres'].apply(lambda x: str(list(x.values())))\n",
    "nb_movie_duplicated_rows = df_temp.duplicated().sum()\n",
    "print(\"There are {} duplicated rows in the movie dataset.\".format(nb_movie_duplicated_rows))"
   ]
  },
  {
   "cell_type": "markdown",
   "id": "555ad9c9",
   "metadata": {},
   "source": [
    "#### Duplicated movies"
   ]
  },
  {
   "cell_type": "code",
   "execution_count": 27,
   "id": "e25412dc",
   "metadata": {},
   "outputs": [
    {
     "data": {
      "text/html": [
       "<div>\n",
       "<style scoped>\n",
       "    .dataframe tbody tr th:only-of-type {\n",
       "        vertical-align: middle;\n",
       "    }\n",
       "\n",
       "    .dataframe tbody tr th {\n",
       "        vertical-align: top;\n",
       "    }\n",
       "\n",
       "    .dataframe thead th {\n",
       "        text-align: right;\n",
       "    }\n",
       "</style>\n",
       "<table border=\"1\" class=\"dataframe\">\n",
       "  <thead>\n",
       "    <tr style=\"text-align: right;\">\n",
       "      <th></th>\n",
       "      <th>wikipedia_m_ID</th>\n",
       "      <th>freebase_m_ID</th>\n",
       "      <th>m_name</th>\n",
       "      <th>m_release_date</th>\n",
       "      <th>m_BO_revenue</th>\n",
       "      <th>m_runtime</th>\n",
       "      <th>m_languages</th>\n",
       "      <th>m_countries</th>\n",
       "      <th>m_genres</th>\n",
       "    </tr>\n",
       "  </thead>\n",
       "  <tbody>\n",
       "    <tr>\n",
       "      <th>64872</th>\n",
       "      <td>24604084</td>\n",
       "      <td>/m/080cdj1</td>\n",
       "      <td>A</td>\n",
       "      <td>1998-01-01</td>\n",
       "      <td>NaN</td>\n",
       "      <td>136.0</td>\n",
       "      <td>{'/m/03_9r': 'Japanese Language'}</td>\n",
       "      <td>{'/m/03_3d': 'Japan'}</td>\n",
       "      <td>{'/m/0gw5n2f': 'Japanese Movies', '/m/03q4nz':...</td>\n",
       "    </tr>\n",
       "    <tr>\n",
       "      <th>66267</th>\n",
       "      <td>23488527</td>\n",
       "      <td>/m/06w8mcl</td>\n",
       "      <td>A</td>\n",
       "      <td>1998-01-01</td>\n",
       "      <td>NaN</td>\n",
       "      <td>NaN</td>\n",
       "      <td>{'/m/09bnf': 'Kannada Language'}</td>\n",
       "      <td>{'/m/03rk0': 'India'}</td>\n",
       "      <td>{'/m/02l7c8': 'Romance Film'}</td>\n",
       "    </tr>\n",
       "    <tr>\n",
       "      <th>38544</th>\n",
       "      <td>33545449</td>\n",
       "      <td>/m/0hgrdzf</td>\n",
       "      <td>A Sister to Assist 'Er</td>\n",
       "      <td>NaT</td>\n",
       "      <td>NaN</td>\n",
       "      <td>59.0</td>\n",
       "      <td>{}</td>\n",
       "      <td>{}</td>\n",
       "      <td>{'/m/05p553': 'Comedy film'}</td>\n",
       "    </tr>\n",
       "    <tr>\n",
       "      <th>74307</th>\n",
       "      <td>33545395</td>\n",
       "      <td>/m/0hgrll0</td>\n",
       "      <td>A Sister to Assist 'Er</td>\n",
       "      <td>NaT</td>\n",
       "      <td>NaN</td>\n",
       "      <td>64.0</td>\n",
       "      <td>{}</td>\n",
       "      <td>{}</td>\n",
       "      <td>{'/m/05p553': 'Comedy film'}</td>\n",
       "    </tr>\n",
       "  </tbody>\n",
       "</table>\n",
       "</div>"
      ],
      "text/plain": [
       "       wikipedia_m_ID freebase_m_ID                  m_name m_release_date  \\\n",
       "64872        24604084    /m/080cdj1                       A     1998-01-01   \n",
       "66267        23488527    /m/06w8mcl                       A     1998-01-01   \n",
       "38544        33545449    /m/0hgrdzf  A Sister to Assist 'Er            NaT   \n",
       "74307        33545395    /m/0hgrll0  A Sister to Assist 'Er            NaT   \n",
       "\n",
       "       m_BO_revenue  m_runtime                        m_languages  \\\n",
       "64872           NaN      136.0  {'/m/03_9r': 'Japanese Language'}   \n",
       "66267           NaN        NaN   {'/m/09bnf': 'Kannada Language'}   \n",
       "38544           NaN       59.0                                 {}   \n",
       "74307           NaN       64.0                                 {}   \n",
       "\n",
       "                 m_countries  \\\n",
       "64872  {'/m/03_3d': 'Japan'}   \n",
       "66267  {'/m/03rk0': 'India'}   \n",
       "38544                     {}   \n",
       "74307                     {}   \n",
       "\n",
       "                                                m_genres  \n",
       "64872  {'/m/0gw5n2f': 'Japanese Movies', '/m/03q4nz':...  \n",
       "66267                      {'/m/02l7c8': 'Romance Film'}  \n",
       "38544                       {'/m/05p553': 'Comedy film'}  \n",
       "74307                       {'/m/05p553': 'Comedy film'}  "
      ]
     },
     "execution_count": 27,
     "metadata": {},
     "output_type": "execute_result"
    }
   ],
   "source": [
    "df_movies[df_movies.duplicated(subset=['m_name', 'm_release_date'], keep=False)].sort_values('m_name').head(4)"
   ]
  },
  {
   "cell_type": "code",
   "execution_count": 28,
   "id": "5e868195",
   "metadata": {},
   "outputs": [
    {
     "name": "stdout",
     "output_type": "stream",
     "text": [
      "There are 196 duplicated movies.\n"
     ]
    }
   ],
   "source": [
    "#Number of duplicated movies.\n",
    "nb_movies_duplicated = df_movies[df_movies.duplicated(subset=['m_name', 'm_release_date'], keep=False)]['wikipedia_m_ID'].count()\n",
    "print(\"There are {} duplicated movies.\".format(nb_movies_duplicated))"
   ]
  },
  {
   "cell_type": "markdown",
   "id": "d8055eac",
   "metadata": {},
   "source": [
    "#### Movie release date"
   ]
  },
  {
   "cell_type": "code",
   "execution_count": 29,
   "id": "9fa5f281",
   "metadata": {},
   "outputs": [
    {
     "data": {
      "image/png": "[encoded data removed]",
      "text/plain": [
       "<Figure size 2160x720 with 1 Axes>"
      ]
     },
     "metadata": {
      "needs_background": "light"
     },
     "output_type": "display_data"
    }
   ],
   "source": [
    "#Movie release date quick overview\n",
    "df_movies['m_release_date'].dropna().dt.year.sort_values().value_counts(sort=False).plot(kind='bar', figsize=(30,10))\n",
    "plt.grid()\n",
    "plt.title('Distribution of the film release date', fontsize=25)\n",
    "plt.xlabel('Date', fontsize=15)\n",
    "plt.ylabel('Number of films', fontsize=15)\n",
    "plt.show()"
   ]
  },
  {
   "cell_type": "code",
   "execution_count": 30,
   "id": "0ea89748",
   "metadata": {},
   "outputs": [
    {
     "data": {
      "text/html": [
       "<div>\n",
       "<style scoped>\n",
       "    .dataframe tbody tr th:only-of-type {\n",
       "        vertical-align: middle;\n",
       "    }\n",
       "\n",
       "    .dataframe tbody tr th {\n",
       "        vertical-align: top;\n",
       "    }\n",
       "\n",
       "    .dataframe thead th {\n",
       "        text-align: right;\n",
       "    }\n",
       "</style>\n",
       "<table border=\"1\" class=\"dataframe\">\n",
       "  <thead>\n",
       "    <tr style=\"text-align: right;\">\n",
       "      <th></th>\n",
       "      <th>wikipedia_m_ID</th>\n",
       "      <th>freebase_m_ID</th>\n",
       "      <th>m_name</th>\n",
       "      <th>m_release_date</th>\n",
       "      <th>m_BO_revenue</th>\n",
       "      <th>m_runtime</th>\n",
       "      <th>m_languages</th>\n",
       "      <th>m_countries</th>\n",
       "      <th>m_genres</th>\n",
       "    </tr>\n",
       "  </thead>\n",
       "  <tbody>\n",
       "    <tr>\n",
       "      <th>34022</th>\n",
       "      <td>23124260</td>\n",
       "      <td>/m/064mmw7</td>\n",
       "      <td>Jeepers Creepers 4</td>\n",
       "      <td>2016-06-08</td>\n",
       "      <td>NaN</td>\n",
       "      <td>NaN</td>\n",
       "      <td>{}</td>\n",
       "      <td>{'/m/09c7w0': 'United States of America'}</td>\n",
       "      <td>{'/m/01jfsb': 'Thriller', '/m/03npn': 'Horror'}</td>\n",
       "    </tr>\n",
       "    <tr>\n",
       "      <th>30275</th>\n",
       "      <td>27554912</td>\n",
       "      <td>/m/0c03gcc</td>\n",
       "      <td>Kung Fu Panda 3</td>\n",
       "      <td>2016-03-18</td>\n",
       "      <td>NaN</td>\n",
       "      <td>NaN</td>\n",
       "      <td>{}</td>\n",
       "      <td>{}</td>\n",
       "      <td>{}</td>\n",
       "    </tr>\n",
       "    <tr>\n",
       "      <th>64862</th>\n",
       "      <td>3139382</td>\n",
       "      <td>/m/08tyfg</td>\n",
       "      <td>Battle Angel</td>\n",
       "      <td>2016-01-01</td>\n",
       "      <td>NaN</td>\n",
       "      <td>NaN</td>\n",
       "      <td>{'/m/02h40lc': 'English Language'}</td>\n",
       "      <td>{'/m/09c7w0': 'United States of America'}</td>\n",
       "      <td>{'/m/01jfsb': 'Thriller', '/m/06n90': 'Science...</td>\n",
       "    </tr>\n",
       "    <tr>\n",
       "      <th>51429</th>\n",
       "      <td>25813358</td>\n",
       "      <td>/m/0gmbk1g</td>\n",
       "      <td>Avatar 2</td>\n",
       "      <td>2015-01-01</td>\n",
       "      <td>NaN</td>\n",
       "      <td>NaN</td>\n",
       "      <td>{'/m/02h40lc': 'English Language'}</td>\n",
       "      <td>{'/m/09c7w0': 'United States of America'}</td>\n",
       "      <td>{'/m/06n90': 'Science Fiction', '/m/02kdv5l': ...</td>\n",
       "    </tr>\n",
       "    <tr>\n",
       "      <th>53855</th>\n",
       "      <td>32416903</td>\n",
       "      <td>/m/0gys9tc</td>\n",
       "      <td>Total Dhamaal</td>\n",
       "      <td>2015-01-01</td>\n",
       "      <td>NaN</td>\n",
       "      <td>138.0</td>\n",
       "      <td>{'/m/03k50': 'Hindi Language'}</td>\n",
       "      <td>{}</td>\n",
       "      <td>{'/m/05p553': 'Comedy film'}</td>\n",
       "    </tr>\n",
       "  </tbody>\n",
       "</table>\n",
       "</div>"
      ],
      "text/plain": [
       "       wikipedia_m_ID freebase_m_ID              m_name m_release_date  \\\n",
       "34022        23124260    /m/064mmw7  Jeepers Creepers 4     2016-06-08   \n",
       "30275        27554912    /m/0c03gcc     Kung Fu Panda 3     2016-03-18   \n",
       "64862         3139382     /m/08tyfg        Battle Angel     2016-01-01   \n",
       "51429        25813358    /m/0gmbk1g            Avatar 2     2015-01-01   \n",
       "53855        32416903    /m/0gys9tc       Total Dhamaal     2015-01-01   \n",
       "\n",
       "       m_BO_revenue  m_runtime                         m_languages  \\\n",
       "34022           NaN        NaN                                  {}   \n",
       "30275           NaN        NaN                                  {}   \n",
       "64862           NaN        NaN  {'/m/02h40lc': 'English Language'}   \n",
       "51429           NaN        NaN  {'/m/02h40lc': 'English Language'}   \n",
       "53855           NaN      138.0      {'/m/03k50': 'Hindi Language'}   \n",
       "\n",
       "                                     m_countries  \\\n",
       "34022  {'/m/09c7w0': 'United States of America'}   \n",
       "30275                                         {}   \n",
       "64862  {'/m/09c7w0': 'United States of America'}   \n",
       "51429  {'/m/09c7w0': 'United States of America'}   \n",
       "53855                                         {}   \n",
       "\n",
       "                                                m_genres  \n",
       "34022    {'/m/01jfsb': 'Thriller', '/m/03npn': 'Horror'}  \n",
       "30275                                                 {}  \n",
       "64862  {'/m/01jfsb': 'Thriller', '/m/06n90': 'Science...  \n",
       "51429  {'/m/06n90': 'Science Fiction', '/m/02kdv5l': ...  \n",
       "53855                       {'/m/05p553': 'Comedy film'}  "
      ]
     },
     "execution_count": 30,
     "metadata": {},
     "output_type": "execute_result"
    }
   ],
   "source": [
    "#Quick look at the movies after 2013.\n",
    "df_movies[df_movies['m_release_date'].dt.year > 2013].sort_values('m_release_date', ascending=False).head()"
   ]
  },
  {
   "cell_type": "code",
   "execution_count": 31,
   "id": "9fc09e46",
   "metadata": {},
   "outputs": [
    {
     "name": "stdout",
     "output_type": "stream",
     "text": [
      "There are 24 movies released after 2013. It can be seen that several movies have a wrong date of release (e.g Avatar 2).\n"
     ]
    }
   ],
   "source": [
    "nb_movies_after_2013 = df_movies[df_movies['m_release_date'].dt.year > 2013].shape[0]\n",
    "print(\"There are {} movies released after 2013. It can be seen that several movies have a wrong date of release (e.g Avatar 2).\".format(nb_movies_after_2013))"
   ]
  },
  {
   "cell_type": "markdown",
   "id": "0e09db2d",
   "metadata": {},
   "source": [
    "#### Movie runtime"
   ]
  },
  {
   "cell_type": "code",
   "execution_count": 32,
   "id": "7bdaf54e",
   "metadata": {},
   "outputs": [
    {
     "data": {
      "image/png": "[encoded data removed]",
      "text/plain": [
       "<Figure size 1440x720 with 1 Axes>"
      ]
     },
     "metadata": {
      "needs_background": "light"
     },
     "output_type": "display_data"
    }
   ],
   "source": [
    "plt.figure(figsize=(20,10))\n",
    "df_movies.m_runtime.hist(bins=50)\n",
    "plt.yscale('log')\n",
    "plt.ylabel('Number of movies (log scale)', fontsize=15)\n",
    "plt.xlabel('Duration of movies', fontsize=15)\n",
    "plt.title(\"Log-scaled distribution of the movie duration in the dataset\", fontsize=25)\n",
    "plt.show()"
   ]
  },
  {
   "cell_type": "code",
   "execution_count": 33,
   "id": "06c4145c",
   "metadata": {},
   "outputs": [
    {
     "name": "stdout",
     "output_type": "stream",
     "text": [
      "There are 14 movies which a runtime > 1500 and 107 movies with a runtime < 1.\n"
     ]
    }
   ],
   "source": [
    "nb_movies_duration_inf_1 = df_movies[(df_movies['m_runtime']>= 1500)]['wikipedia_m_ID'].count()\n",
    "nb_movies_duration_supp_1500 = df_movies[(df_movies['m_runtime']<= 1)]['wikipedia_m_ID'].count()\n",
    "print(\"There are {} movies which a runtime > 1500 and {} movies with a runtime < 1.\".format(nb_movies_duration_inf_1, nb_movies_duration_supp_1500))"
   ]
  },
  {
   "cell_type": "markdown",
   "id": "259102f6",
   "metadata": {},
   "source": [
    "One can see that there are some outliers in the runtime. It might be due to the time conversion. As the runtime input is supposed to be in minutes, freebase ID will be queried using wikidata to know whether the runtime is the correct one."
   ]
  },
  {
   "cell_type": "markdown",
   "id": "dbbfcbcc",
   "metadata": {},
   "source": [
    "The movie database contains following errors:\n",
    "- **Critical values**: There are values such as empty dictionaries, 0, False in the rows. For practicity, they'll be all replaced by np.nan values.\n",
    "- **Duplicated movies**: There are movies that can be considered identical (same movie name and same release date). Some of them are duplicated. They'll be safely removed by keeping the first one as they represent the same movie.\n",
    "- **Movie release date**: There are some outliers in the movie release date. This mainly concerns movies after 2013. It is due to the creation date of the dataset: 2013. It means all the movies after 2013 are probable dates of release rather than effective ones. Those will be queried using freebase movie ID and changed when possible (as it might be earlier). After this operation, the movies after 2013 will be dropped as it was too recent regarding the dataset creation. This is also a reason why there is too few movies after 2013.\n",
    "- **Movie runtime**: There are some outliers in the movie runtime. Movie runtime is supposed to be in minutes. However, there is one movie that would last 60 days. In the other way, there are many films that last less than a minute. It is probable that all those cases are due to wrong conversions (i.e duration expressed in seconds or in hours). Those will be queried using freebase movie ID and changed when possible. If the movie does not exist using freebase, the runtime will be kept. But when studying runtime, it will be important to remember those edgecases."
   ]
  },
  {
   "cell_type": "markdown",
   "id": "06352344",
   "metadata": {},
   "source": [
    "#### Cleaning"
   ]
  },
  {
   "cell_type": "code",
   "execution_count": 34,
   "id": "40a85159",
   "metadata": {},
   "outputs": [],
   "source": [
    "df_movies=df_movies.where(df_movies.astype(bool),np.nan).drop_duplicates(subset=['m_name', 'm_release_date'], keep='first')"
   ]
  },
  {
   "cell_type": "code",
   "execution_count": 35,
   "id": "ae4a2857",
   "metadata": {},
   "outputs": [],
   "source": [
    "feature_wiki_ID={\n",
    "    \"runtime\": 'AP2047',\n",
    "    \"pubdate\":'AP577'\n",
    "}\n",
    "\n",
    "def get_freebase_feature_movie(row, value, op, n_lim, feature):\n",
    "    ops = {\n",
    "    '>=' : operator.ge,\n",
    "    '<=' : operator.le,\n",
    "    '>' : operator.gt,\n",
    "    '<' : operator.lt,\n",
    "    }\n",
    "    op = ops[op]\n",
    "        \n",
    "    if feature == 'pubdate':\n",
    "        val_to_compare=value.year\n",
    "    else:\n",
    "        val_to_compare = value\n",
    "    \n",
    "    if op(val_to_compare, n_lim):\n",
    "        id_m = str(row['freebase_m_ID'].split('/')[2])\n",
    "        query = 'https://query.wikidata.org/bigdata/namespace/wdq/sparql?format=json&query=PREFIX%20wd%3A%20%3Chttp%3A%2F%2Fwww.wikidata.org%2Fentity%2F%3E%0APREFIX%20wdt%3A%20%3Chttp%3A%2F%2Fwww.wikidata.org%2Fprop%2Fdirect%2F%3E%0APREFIX%20wikibase%3A%20%3Chttp%3A%2F%2Fwikiba.se%2Fontology%23%3E%0A%0ASELECT%20%20%3Fs%20%3FsLabel%20%3Fp%20%20%3Fo%20%3FoLabel%20%3F{}%20WHERE%20%7B%0A%20%3Fs%20wdt%3AP646%20%22%2Fm%2F{}%22.%0A%20%3Fs%20wdt%3{}%20%3F{}.%0A%0A%20%20%20SERVICE%20wikibase%3Alabel%20%7B%0A%20%20%20%20bd%3AserviceParam%20wikibase%3Alanguage%20%22en%22%20.%0A%20%20%20%7D%0A%20%7D'.format(feature, id_m, feature_wiki_ID[feature], feature)\n",
    "        response_json = requests.get(query).json()['results']['bindings']\n",
    "        if len(response_json):\n",
    "            \n",
    "            if feature == 'runtime':\n",
    "                new_value = float(response_json[0][feature]['value'])\n",
    "                if new_value!=value:\n",
    "                    time.sleep(2)\n",
    "                    print(\"{} movie had a {} of {:.2f}. However, using freebase ID, {}={}min.\".format(row['m_name'], feature,\n",
    "                                                                                               value, feature, \n",
    "                                                                                               new_value))\n",
    "                    value = new_value\n",
    "            elif feature=='pubdate':\n",
    "                new_value = (response_json[0][feature]['value'])\n",
    "                new_value=new_value.replace(\"Z\", \"\")\n",
    "                new_value = datetime.strptime(new_value,'%Y-%m-%dT%H:%M:%S')\n",
    "                if new_value.year!=value.year:\n",
    "                    print(\"{} movie had a {} of {}. However, using freebase ID, {}={}.\".format(row['m_name'], feature,\n",
    "                                                                                               value.date(), feature, \n",
    "                                                                                               new_value.date()))\n",
    "                    value = new_value\n",
    "            \n",
    "    return value"
   ]
  },
  {
   "cell_type": "code",
   "execution_count": 36,
   "id": "a669d3b0",
   "metadata": {},
   "outputs": [
    {
     "name": "stdout",
     "output_type": "stream",
     "text": [
      "Avatar 2 movie had a pubdate of 2015-01-01. However, using freebase ID, pubdate=2022-12-14.\n",
      "Total Dhamaal movie had a pubdate of 2015-01-01. However, using freebase ID, pubdate=2018-12-07.\n",
      "Battle Angel movie had a pubdate of 2016-01-01. However, using freebase ID, pubdate=2019-02-06.\n"
     ]
    }
   ],
   "source": [
    "time.sleep(10)\n",
    "df_movies['m_release_date'] = df_movies[['m_release_date', 'freebase_m_ID', 'm_name']].apply(lambda row: get_freebase_feature_movie(row, row['m_release_date'], '>=', 2015, 'pubdate'), axis=1)"
   ]
  },
  {
   "cell_type": "code",
   "execution_count": 37,
   "id": "d41e855c",
   "metadata": {},
   "outputs": [],
   "source": [
    "df_movies = df_movies[df_movies.m_release_date.dt.year < 2013]"
   ]
  },
  {
   "cell_type": "code",
   "execution_count": 38,
   "id": "1be25fa5",
   "metadata": {},
   "outputs": [
    {
     "name": "stdout",
     "output_type": "stream",
     "text": [
      "Zero Tolerance movie had a runtime of 1079281.00. However, using freebase ID, runtime=88.0min.\n",
      "Dhool Ka Phool movie had a runtime of 1533.00. However, using freebase ID, runtime=153.0min.\n",
      "Cinématon movie had a runtime of 9360.00. However, using freebase ID, runtime=11828.0min.\n",
      "Dil Ne Phir Yaad Kiya movie had a runtime of 1966.00. However, using freebase ID, runtime=148.0min.\n",
      "As Seen Through a Telescope movie had a runtime of 0.70. However, using freebase ID, runtime=55.0min.\n",
      "Men Boxing movie had a runtime of 0.08. However, using freebase ID, runtime=5.0min.\n",
      "Fred Ott's Sneeze movie had a runtime of 0.08. However, using freebase ID, runtime=4.0min.\n",
      "Sick Kitten movie had a runtime of 0.57. However, using freebase ID, runtime=34.0min.\n",
      "The X-Rays movie had a runtime of 0.73. However, using freebase ID, runtime=44.0min.\n",
      "Blacksmith Scene movie had a runtime of 0.57. However, using freebase ID, runtime=34.0min.\n",
      "L'Arroseur Arrosé movie had a runtime of 0.82. However, using freebase ID, runtime=49.0min.\n",
      "L'Arrivée d'un train en gare de la Ciotat movie had a runtime of 0.83. However, using freebase ID, runtime=49.0min.\n",
      "The Derby movie had a runtime of 0.47. However, using freebase ID, runtime=30.0min.\n",
      "Buffalo Dance movie had a runtime of 0.27. However, using freebase ID, runtime=16.0min.\n",
      "Rough Sea at Dover movie had a runtime of 0.65. However, using freebase ID, runtime=17.0min.\n",
      "La Mer movie had a runtime of 0.63. However, using freebase ID, runtime=30.0min.\n",
      "Carmencita movie had a runtime of 0.50. However, using freebase ID, runtime=22.0min.\n",
      "Akrobatisches Potpourri movie had a runtime of 0.10. However, using freebase ID, runtime=15.0min.\n",
      "Roundhay Garden Scene movie had a runtime of 0.03. However, using freebase ID, runtime=1.66min.\n",
      "Serpentinen Tanz movie had a runtime of 0.10. However, using freebase ID, runtime=20.0min.\n",
      "Awakening of Rip movie had a runtime of 0.42. However, using freebase ID, runtime=25.0min.\n",
      "The Kiss movie had a runtime of 0.78. However, using freebase ID, runtime=18.0min.\n",
      "Opening of the Kiel Canal movie had a runtime of 0.30. However, using freebase ID, runtime=18.0min.\n",
      "La Pêche aux poissons rouges movie had a runtime of 0.63. However, using freebase ID, runtime=34.0min.\n",
      "Les Forgerons movie had a runtime of 0.82. However, using freebase ID, runtime=40.0min.\n",
      "Workers Leaving the Lumiere Factory movie had a runtime of 0.77. However, using freebase ID, runtime=42.0min.\n"
     ]
    }
   ],
   "source": [
    "time.sleep(10)\n",
    "df_movies['m_runtime'] = df_movies[['m_runtime', 'freebase_m_ID', 'm_name']].apply(lambda row: get_freebase_feature_movie(row, row['m_runtime'], '>', 1500, 'runtime'), axis=1)\n",
    "df_movies['m_runtime'] = df_movies[['m_runtime', 'freebase_m_ID', 'm_name']].apply(lambda row: get_freebase_feature_movie(row, row['m_runtime'], '<', 1, 'runtime'), axis=1)"
   ]
  },
  {
   "cell_type": "markdown",
   "id": "0484af0a",
   "metadata": {},
   "source": [
    "# 4. CMU dataset preparation"
   ]
  },
  {
   "cell_type": "markdown",
   "id": "cd0c6a75",
   "metadata": {},
   "source": [
    "## 4.1 Get american movies"
   ]
  },
  {
   "cell_type": "markdown",
   "id": "4ed0da71",
   "metadata": {},
   "source": [
    "3 columns of the movie dataset will be split: movie languages, movie country of production and movie genres. They will be split in two columns: freebase ID in the first, and value in the other."
   ]
  },
  {
   "cell_type": "code",
   "execution_count": 39,
   "id": "e033d5d6",
   "metadata": {},
   "outputs": [],
   "source": [
    "def split_feature(row, feature, flag):\n",
    "    \"\"\"\n",
    "    Splits list-like columns into key for freebase_ID and value for the value.\n",
    "\n",
    "    :param row: Row to apply the split\n",
    "    :param feature: Column to split\n",
    "    :param flag: Takes the value if True, the key if False\n",
    "    :return: The value or the key of row[feature]\n",
    "    \"\"\"\n",
    "    if isinstance(row[feature], float):\n",
    "        return np.nan\n",
    "    elif flag:\n",
    "        return list(row[feature].values())\n",
    "    else:\n",
    "        return row[feature].keys()"
   ]
  },
  {
   "cell_type": "code",
   "execution_count": 40,
   "id": "74be69ff",
   "metadata": {},
   "outputs": [],
   "source": [
    "features = ['m_languages', 'm_countries', 'm_genres']\n",
    "_freebase_ID = '_freebase_ID'\n",
    "for i, feature in enumerate(features):\n",
    "    df_movies[feature+_freebase_ID] = df_movies.apply(lambda row: split_feature(row, feature, 0), axis=1)\n",
    "    df_movies[feature] = df_movies.apply(lambda row: split_feature(row, feature, 1), axis=1)"
   ]
  },
  {
   "cell_type": "code",
   "execution_count": 41,
   "id": "d13b1ad5",
   "metadata": {},
   "outputs": [],
   "source": [
    "df_movies.drop(['m_languages_freebase_ID', 'm_countries_freebase_ID', 'm_genres_freebase_ID'], axis=1, inplace=True)"
   ]
  },
  {
   "cell_type": "code",
   "execution_count": 42,
   "id": "ce4dcf11",
   "metadata": {},
   "outputs": [
    {
     "name": "stdout",
     "output_type": "stream",
     "text": [
      "There are 146 different countries present in the dataset.\n"
     ]
    }
   ],
   "source": [
    "df_countries_m = df_movies.explode('m_countries').dropna(subset='m_countries')\n",
    "nb_unique_countries = df_countries_m['m_countries'].nunique()\n",
    "print(\"There are {} different countries present in the dataset.\".format(nb_unique_countries))"
   ]
  },
  {
   "cell_type": "code",
   "execution_count": 43,
   "id": "08a09d64",
   "metadata": {},
   "outputs": [],
   "source": [
    "df_movies_USA = df_countries_m[df_countries_m['m_countries']=='United States of America']"
   ]
  },
  {
   "cell_type": "markdown",
   "id": "bcfe6659",
   "metadata": {},
   "source": [
    "## 4.2 Filter characters dataset"
   ]
  },
  {
   "cell_type": "code",
   "execution_count": 44,
   "id": "6eb2a672",
   "metadata": {},
   "outputs": [],
   "source": [
    "# Keeps just one row if an actor played several roles in a movie\n",
    "df_chars.drop_duplicates(['wikipedia_m_ID', 'actor_name'], keep='first', inplace=True)"
   ]
  },
  {
   "cell_type": "code",
   "execution_count": 45,
   "id": "6130603f",
   "metadata": {},
   "outputs": [],
   "source": [
    "# Keep correct actors (you're born before releasing a movie)\n",
    "df_chars = df_chars.loc[(df_chars['actor_dob'] < df_chars['m_release_date'])]"
   ]
  },
  {
   "cell_type": "code",
   "execution_count": 46,
   "id": "93b58a5e",
   "metadata": {},
   "outputs": [
    {
     "name": "stdout",
     "output_type": "stream",
     "text": [
      "There are 511 rows with same actor name but different date of birth.\n"
     ]
    }
   ],
   "source": [
    "df_test = df_chars.copy()\n",
    "df_test.drop_duplicates(subset=['actor_name', 'actor_dob'], keep='first', inplace=True)\n",
    "df_test = df_test[df_test.duplicated('actor_name', keep=False)]\n",
    "print(\"There are {} rows with same actor name but different date of birth.\".format(df_test.shape[0]))\n",
    "# We decided to keep those rows, \n",
    "# but add modifications on the ones whose actor name appears in the numbers (to merge the score to the true actor)"
   ]
  },
  {
   "cell_type": "code",
   "execution_count": 47,
   "id": "f5d956fc",
   "metadata": {},
   "outputs": [],
   "source": [
    "filter_conditions=(\n",
    "    ((df_chars['actor_name'] =='Edward Burns') & (df_chars['actor_dob'] =='1879-09-21')) |\n",
    "    ((df_chars['actor_name'] =='Harrison Ford') & (df_chars['actor_dob'] =='1884-03-16')) |\n",
    "    ((df_chars['actor_name'] =='Kevin James') & (df_chars['actor_dob'] =='1954-11-17')) # porn actor\n",
    ")\n",
    "df_chars = df_chars.loc[~filter_conditions]"
   ]
  },
  {
   "cell_type": "code",
   "execution_count": 48,
   "id": "ce420194",
   "metadata": {},
   "outputs": [],
   "source": [
    "filter_conditions=(\n",
    "    (df_chars['actor_name'] =='Patrick Wilson') & (df_chars['actor_dob'] =='1969-02-01') \n",
    ")\n",
    "df_chars.loc[filter_conditions, 'actor_dob']= '1973-07-03'"
   ]
  },
  {
   "cell_type": "code",
   "execution_count": 49,
   "id": "67a7814c",
   "metadata": {},
   "outputs": [],
   "source": [
    "filter_conditions=(\n",
    "    (df_chars['actor_name'] =='Justin Long') & (df_chars['actor_dob'] =='1970-06-29') \n",
    ")\n",
    "df_chars.loc[filter_conditions, 'actor_name']= 'Justin Long 2'"
   ]
  },
  {
   "cell_type": "code",
   "execution_count": 50,
   "id": "eaf47443",
   "metadata": {},
   "outputs": [],
   "source": [
    "filter_conditions=(\n",
    "    (df_chars['actor_name'] =='Kenny Rogers') & (df_chars['actor_dob'] =='1964-11-10') \n",
    ")\n",
    "df_chars.loc[filter_conditions, 'actor_dob']= '1938-08-21'"
   ]
  },
  {
   "cell_type": "code",
   "execution_count": 51,
   "id": "fb8acede",
   "metadata": {},
   "outputs": [],
   "source": [
    "filter_conditions=(\n",
    "    (df_chars['actor_name'] =='Kevin Smith') & (df_chars['actor_dob'] =='1963-03-16') \n",
    ")\n",
    "df_chars.loc[filter_conditions, 'actor_name']= 'Kevin Smith_NZ'"
   ]
  },
  {
   "cell_type": "code",
   "execution_count": 52,
   "id": "3bf8d6cc",
   "metadata": {},
   "outputs": [],
   "source": [
    "# Keeps only movies where we have at least two actors (as the interest is coacting)\n",
    "df_chars = df_chars[df_chars.duplicated('wikipedia_m_ID', keep=False)]"
   ]
  },
  {
   "cell_type": "code",
   "execution_count": 53,
   "id": "c0e51761",
   "metadata": {},
   "outputs": [],
   "source": [
    "# Keeps only characters from american movies\n",
    "df_chars = df_chars.merge(df_movies_USA[['wikipedia_m_ID', 'm_name']], how='inner', on='wikipedia_m_ID')"
   ]
  },
  {
   "cell_type": "code",
   "execution_count": 54,
   "id": "bc481002",
   "metadata": {},
   "outputs": [],
   "source": [
    "# Drop columns that won't be used at all for the analysis\n",
    "df_chars.drop(['freebase_character_map', 'freebase_character_id', 'freebase_actor_id', 'freebase_m_ID'], axis=1, inplace=True)"
   ]
  },
  {
   "cell_type": "markdown",
   "id": "f50efa94",
   "metadata": {},
   "source": [
    "## 4.3 Movie filtering"
   ]
  },
  {
   "cell_type": "code",
   "execution_count": 55,
   "id": "ec4c32e2",
   "metadata": {},
   "outputs": [],
   "source": [
    "# Keeps only movies where actors data is available\n",
    "df_movies = df_movies.merge(df_chars.drop_duplicates('wikipedia_m_ID', keep='first'), how='inner', on=['wikipedia_m_ID', 'm_name', 'm_release_date'])"
   ]
  },
  {
   "cell_type": "code",
   "execution_count": 56,
   "id": "b39abcc2",
   "metadata": {},
   "outputs": [],
   "source": [
    "# Drop columns that won't be used at all for the analysis\n",
    "df_movies.drop('freebase_m_ID', axis=1, inplace=True)"
   ]
  },
  {
   "cell_type": "markdown",
   "id": "cc7446ad",
   "metadata": {},
   "source": [
    "## 4.3 PCA on movie genres"
   ]
  },
  {
   "cell_type": "code",
   "execution_count": 57,
   "id": "2a2d169b",
   "metadata": {},
   "outputs": [
    {
     "data": {
      "text/html": [
       "<div>\n",
       "<style scoped>\n",
       "    .dataframe tbody tr th:only-of-type {\n",
       "        vertical-align: middle;\n",
       "    }\n",
       "\n",
       "    .dataframe tbody tr th {\n",
       "        vertical-align: top;\n",
       "    }\n",
       "\n",
       "    .dataframe thead th {\n",
       "        text-align: right;\n",
       "    }\n",
       "</style>\n",
       "<table border=\"1\" class=\"dataframe\">\n",
       "  <thead>\n",
       "    <tr style=\"text-align: right;\">\n",
       "      <th></th>\n",
       "      <th>wikipedia_m_ID</th>\n",
       "      <th>freebase_m_ID</th>\n",
       "      <th>m_name</th>\n",
       "      <th>m_release_date</th>\n",
       "      <th>m_BO_revenue</th>\n",
       "      <th>m_runtime</th>\n",
       "      <th>m_languages</th>\n",
       "      <th>m_countries</th>\n",
       "      <th>m_genres</th>\n",
       "    </tr>\n",
       "  </thead>\n",
       "  <tbody>\n",
       "    <tr>\n",
       "      <th>0</th>\n",
       "      <td>975900</td>\n",
       "      <td>/m/03vyhn</td>\n",
       "      <td>Ghosts of Mars</td>\n",
       "      <td>2001-08-24</td>\n",
       "      <td>14010832.0</td>\n",
       "      <td>98.0</td>\n",
       "      <td>[English Language]</td>\n",
       "      <td>United States of America</td>\n",
       "      <td>Thriller</td>\n",
       "    </tr>\n",
       "    <tr>\n",
       "      <th>0</th>\n",
       "      <td>975900</td>\n",
       "      <td>/m/03vyhn</td>\n",
       "      <td>Ghosts of Mars</td>\n",
       "      <td>2001-08-24</td>\n",
       "      <td>14010832.0</td>\n",
       "      <td>98.0</td>\n",
       "      <td>[English Language]</td>\n",
       "      <td>United States of America</td>\n",
       "      <td>Science Fiction</td>\n",
       "    </tr>\n",
       "    <tr>\n",
       "      <th>0</th>\n",
       "      <td>975900</td>\n",
       "      <td>/m/03vyhn</td>\n",
       "      <td>Ghosts of Mars</td>\n",
       "      <td>2001-08-24</td>\n",
       "      <td>14010832.0</td>\n",
       "      <td>98.0</td>\n",
       "      <td>[English Language]</td>\n",
       "      <td>United States of America</td>\n",
       "      <td>Horror</td>\n",
       "    </tr>\n",
       "    <tr>\n",
       "      <th>0</th>\n",
       "      <td>975900</td>\n",
       "      <td>/m/03vyhn</td>\n",
       "      <td>Ghosts of Mars</td>\n",
       "      <td>2001-08-24</td>\n",
       "      <td>14010832.0</td>\n",
       "      <td>98.0</td>\n",
       "      <td>[English Language]</td>\n",
       "      <td>United States of America</td>\n",
       "      <td>Adventure</td>\n",
       "    </tr>\n",
       "    <tr>\n",
       "      <th>0</th>\n",
       "      <td>975900</td>\n",
       "      <td>/m/03vyhn</td>\n",
       "      <td>Ghosts of Mars</td>\n",
       "      <td>2001-08-24</td>\n",
       "      <td>14010832.0</td>\n",
       "      <td>98.0</td>\n",
       "      <td>[English Language]</td>\n",
       "      <td>United States of America</td>\n",
       "      <td>Supernatural</td>\n",
       "    </tr>\n",
       "  </tbody>\n",
       "</table>\n",
       "</div>"
      ],
      "text/plain": [
       "   wikipedia_m_ID freebase_m_ID          m_name m_release_date  m_BO_revenue  \\\n",
       "0          975900     /m/03vyhn  Ghosts of Mars     2001-08-24    14010832.0   \n",
       "0          975900     /m/03vyhn  Ghosts of Mars     2001-08-24    14010832.0   \n",
       "0          975900     /m/03vyhn  Ghosts of Mars     2001-08-24    14010832.0   \n",
       "0          975900     /m/03vyhn  Ghosts of Mars     2001-08-24    14010832.0   \n",
       "0          975900     /m/03vyhn  Ghosts of Mars     2001-08-24    14010832.0   \n",
       "\n",
       "   m_runtime         m_languages               m_countries         m_genres  \n",
       "0       98.0  [English Language]  United States of America         Thriller  \n",
       "0       98.0  [English Language]  United States of America  Science Fiction  \n",
       "0       98.0  [English Language]  United States of America           Horror  \n",
       "0       98.0  [English Language]  United States of America        Adventure  \n",
       "0       98.0  [English Language]  United States of America     Supernatural  "
      ]
     },
     "execution_count": 57,
     "metadata": {},
     "output_type": "execute_result"
    }
   ],
   "source": [
    "df_genres_m = df_movies_USA.explode('m_genres').dropna(subset='m_genres').copy()\n",
    "df_genres_m.head()"
   ]
  },
  {
   "cell_type": "code",
   "execution_count": 58,
   "id": "292c60bd",
   "metadata": {},
   "outputs": [],
   "source": [
    "def one_hot_encoding(df, col):\n",
    "    y = pd.get_dummies(df[col])\n",
    "    return y, y.columns"
   ]
  },
  {
   "cell_type": "code",
   "execution_count": 59,
   "id": "0d42c0f6",
   "metadata": {},
   "outputs": [],
   "source": [
    "one_hot, genres_one_hot_labels = one_hot_encoding(df_genres_m, 'm_genres')\n",
    "df_genres_one_hot = pd.concat([df_genres_m, one_hot], axis=1)\n",
    "df_genres_one_hot = df_genres_one_hot.groupby('wikipedia_m_ID')[genres_one_hot_labels].sum()"
   ]
  },
  {
   "cell_type": "code",
   "execution_count": 60,
   "id": "5caf65d9",
   "metadata": {},
   "outputs": [],
   "source": [
    "nb_genres_USA=len(genres_one_hot_labels)"
   ]
  },
  {
   "cell_type": "code",
   "execution_count": 61,
   "id": "a59581e4",
   "metadata": {},
   "outputs": [
    {
     "data": {
      "image/png": "[encoded data removed]",
      "text/plain": [
       "<Figure size 864x432 with 1 Axes>"
      ]
     },
     "metadata": {
      "needs_background": "light"
     },
     "output_type": "display_data"
    }
   ],
   "source": [
    "n=nb_genres_USA\n",
    "scaler = MinMaxScaler()\n",
    "X_features = scaler.fit_transform(df_genres_one_hot)\n",
    "pca = PCA(n)\n",
    "pca.fit(X_features)\n",
    "pca_variance = pca.explained_variance_\n",
    "pca_variance_ratio = pca.explained_variance_ratio_\n",
    "\n",
    "csum = np.cumsum(pca_variance_ratio)\n",
    "plt.figure(figsize=(12, 6))\n",
    "plt.plot(csum)\n",
    "plt.plot(15, 0.6, marker='o', color='red') \n",
    "plt.ylabel('Variance ratio')\n",
    "plt.xlabel('Number of component')\n",
    "plt.title('Cumulated variance ratio vs number of components')\n",
    "plt.text(15, 0.6, '  ({}, {})'.format(15, 0.6))\n",
    "plt.show()"
   ]
  },
  {
   "cell_type": "code",
   "execution_count": 62,
   "id": "e14042f9",
   "metadata": {},
   "outputs": [],
   "source": [
    "n=15\n",
    "scaler = StandardScaler()\n",
    "X_features = scaler.fit_transform(df_genres_one_hot)\n",
    "pca = PCA(n)\n",
    "pca.fit_transform(X_features)\n",
    "pca_variance = pca.explained_variance_"
   ]
  },
  {
   "cell_type": "code",
   "execution_count": 63,
   "id": "5f91b11f",
   "metadata": {},
   "outputs": [],
   "source": [
    "# number of components\n",
    "n_pcs = pca.components_.shape[0]\n",
    "\n",
    "best_four_important = []\n",
    "most_important_names = []\n",
    "n_best = 4\n",
    "initial_feature_names = genres_one_hot_labels\n",
    "for i in range(n_pcs):\n",
    "    elts = np.argsort((pca.components_[i]))[::-1][:n_best]\n",
    "    best_four_important.append(elts)\n",
    "    most_important_names.append([initial_feature_names[elts[i]] for i in range(n_best)])"
   ]
  },
  {
   "cell_type": "code",
   "execution_count": 64,
   "id": "015fba72",
   "metadata": {},
   "outputs": [],
   "source": [
    "new_space = pca.transform(df_genres_one_hot.values)\n",
    "new_space = new_space.argmax(axis=1)\n",
    "\n",
    "df_genres_one_hot['m_genre_PCA'] = new_space\n",
    "df_genres_one_hot['m_genre_PCA'] = df_genres_one_hot['m_genre_PCA'].apply(lambda x: \", \".join(most_important_names[x]))"
   ]
  },
  {
   "cell_type": "code",
   "execution_count": 65,
   "id": "1243fd17",
   "metadata": {},
   "outputs": [
    {
     "data": {
      "text/html": [
       "<div>\n",
       "<style scoped>\n",
       "    .dataframe tbody tr th:only-of-type {\n",
       "        vertical-align: middle;\n",
       "    }\n",
       "\n",
       "    .dataframe tbody tr th {\n",
       "        vertical-align: top;\n",
       "    }\n",
       "\n",
       "    .dataframe thead th {\n",
       "        text-align: right;\n",
       "    }\n",
       "</style>\n",
       "<table border=\"1\" class=\"dataframe\">\n",
       "  <thead>\n",
       "    <tr style=\"text-align: right;\">\n",
       "      <th></th>\n",
       "      <th>wikipedia_m_ID</th>\n",
       "      <th>freebase_m_ID</th>\n",
       "      <th>m_name</th>\n",
       "      <th>m_release_date</th>\n",
       "      <th>m_BO_revenue</th>\n",
       "      <th>m_runtime</th>\n",
       "      <th>m_languages</th>\n",
       "      <th>m_countries</th>\n",
       "      <th>m_genres</th>\n",
       "      <th>m_genre_PCA</th>\n",
       "    </tr>\n",
       "  </thead>\n",
       "  <tbody>\n",
       "    <tr>\n",
       "      <th>0</th>\n",
       "      <td>975900</td>\n",
       "      <td>/m/03vyhn</td>\n",
       "      <td>Ghosts of Mars</td>\n",
       "      <td>2001-08-24</td>\n",
       "      <td>14010832.0</td>\n",
       "      <td>98.0</td>\n",
       "      <td>[English Language]</td>\n",
       "      <td>United States of America</td>\n",
       "      <td>[Thriller, Science Fiction, Horror, Adventure,...</td>\n",
       "      <td>Thriller, Crime Thriller, Action, Mystery</td>\n",
       "    </tr>\n",
       "    <tr>\n",
       "      <th>1</th>\n",
       "      <td>3196793</td>\n",
       "      <td>/m/08yl5d</td>\n",
       "      <td>Getting Away with Murder: The JonBenét Ramsey ...</td>\n",
       "      <td>2000-02-16</td>\n",
       "      <td>NaN</td>\n",
       "      <td>95.0</td>\n",
       "      <td>[English Language]</td>\n",
       "      <td>United States of America</td>\n",
       "      <td>[Mystery, Biographical film, Drama, Crime Drama]</td>\n",
       "      <td>Mystery, Horror, Psychological thriller, Child...</td>\n",
       "    </tr>\n",
       "    <tr>\n",
       "      <th>2</th>\n",
       "      <td>13696889</td>\n",
       "      <td>/m/03cfc81</td>\n",
       "      <td>The Gangsters</td>\n",
       "      <td>1913-05-29</td>\n",
       "      <td>NaN</td>\n",
       "      <td>35.0</td>\n",
       "      <td>[Silent film, English Language]</td>\n",
       "      <td>United States of America</td>\n",
       "      <td>[Short Film, Silent film, Indie, Black-and-whi...</td>\n",
       "      <td>Detective fiction, Detective, Anti-war film, A...</td>\n",
       "    </tr>\n",
       "    <tr>\n",
       "      <th>3</th>\n",
       "      <td>10408933</td>\n",
       "      <td>/m/02qc0j7</td>\n",
       "      <td>Alexander's Ragtime Band</td>\n",
       "      <td>1938-08-16</td>\n",
       "      <td>3600000.0</td>\n",
       "      <td>106.0</td>\n",
       "      <td>[English Language]</td>\n",
       "      <td>United States of America</td>\n",
       "      <td>[Musical, Comedy, Black-and-white]</td>\n",
       "      <td>Detective fiction, Detective, Anti-war film, A...</td>\n",
       "    </tr>\n",
       "    <tr>\n",
       "      <th>4</th>\n",
       "      <td>175026</td>\n",
       "      <td>/m/017n1p</td>\n",
       "      <td>Sarah and Son</td>\n",
       "      <td>1930-01-01</td>\n",
       "      <td>NaN</td>\n",
       "      <td>86.0</td>\n",
       "      <td>[English Language]</td>\n",
       "      <td>United States of America</td>\n",
       "      <td>[Drama, Black-and-white]</td>\n",
       "      <td>Detective fiction, Detective, Anti-war film, A...</td>\n",
       "    </tr>\n",
       "  </tbody>\n",
       "</table>\n",
       "</div>"
      ],
      "text/plain": [
       "   wikipedia_m_ID freebase_m_ID  \\\n",
       "0          975900     /m/03vyhn   \n",
       "1         3196793     /m/08yl5d   \n",
       "2        13696889    /m/03cfc81   \n",
       "3        10408933    /m/02qc0j7   \n",
       "4          175026     /m/017n1p   \n",
       "\n",
       "                                              m_name m_release_date  \\\n",
       "0                                     Ghosts of Mars     2001-08-24   \n",
       "1  Getting Away with Murder: The JonBenét Ramsey ...     2000-02-16   \n",
       "2                                      The Gangsters     1913-05-29   \n",
       "3                           Alexander's Ragtime Band     1938-08-16   \n",
       "4                                      Sarah and Son     1930-01-01   \n",
       "\n",
       "   m_BO_revenue  m_runtime                      m_languages  \\\n",
       "0    14010832.0       98.0               [English Language]   \n",
       "1           NaN       95.0               [English Language]   \n",
       "2           NaN       35.0  [Silent film, English Language]   \n",
       "3     3600000.0      106.0               [English Language]   \n",
       "4           NaN       86.0               [English Language]   \n",
       "\n",
       "                m_countries  \\\n",
       "0  United States of America   \n",
       "1  United States of America   \n",
       "2  United States of America   \n",
       "3  United States of America   \n",
       "4  United States of America   \n",
       "\n",
       "                                            m_genres  \\\n",
       "0  [Thriller, Science Fiction, Horror, Adventure,...   \n",
       "1   [Mystery, Biographical film, Drama, Crime Drama]   \n",
       "2  [Short Film, Silent film, Indie, Black-and-whi...   \n",
       "3                 [Musical, Comedy, Black-and-white]   \n",
       "4                           [Drama, Black-and-white]   \n",
       "\n",
       "                                         m_genre_PCA  \n",
       "0          Thriller, Crime Thriller, Action, Mystery  \n",
       "1  Mystery, Horror, Psychological thriller, Child...  \n",
       "2  Detective fiction, Detective, Anti-war film, A...  \n",
       "3  Detective fiction, Detective, Anti-war film, A...  \n",
       "4  Detective fiction, Detective, Anti-war film, A...  "
      ]
     },
     "execution_count": 65,
     "metadata": {},
     "output_type": "execute_result"
    }
   ],
   "source": [
    "df_movies_genre_PCA = df_movies_USA.merge(df_genres_one_hot[['m_genre_PCA']], left_on='wikipedia_m_ID', right_on='wikipedia_m_ID')\n",
    "df_movies_genre_PCA.head()"
   ]
  },
  {
   "cell_type": "code",
   "execution_count": 66,
   "id": "479da8f4",
   "metadata": {},
   "outputs": [
    {
     "data": {
      "image/png": "[encoded data removed]",
      "text/plain": [
       "<Figure size 1440x432 with 1 Axes>"
      ]
     },
     "metadata": {
      "needs_background": "light"
     },
     "output_type": "display_data"
    }
   ],
   "source": [
    "plt.figure(figsize=(20,6))\n",
    "df_movies_genre_PCA['m_genre_PCA'].value_counts().plot(kind='bar', figsize=(20,6))\n",
    "plt.title('Number of movies per movie genre after PCA', fontsize = 25)\n",
    "plt.xlabel('Movie genre', fontsize = 15)\n",
    "plt.ylabel('Number of movies', fontsize = 15)\n",
    "plt.show()"
   ]
  },
  {
   "cell_type": "markdown",
   "id": "a7306b43",
   "metadata": {},
   "source": [
    "## 4.5 Merge with characters dataset"
   ]
  },
  {
   "cell_type": "code",
   "execution_count": 67,
   "id": "70d19c43",
   "metadata": {},
   "outputs": [],
   "source": [
    "df_chars = df_chars.merge(df_movies_genre_PCA[['wikipedia_m_ID', 'm_genre_PCA']], on='wikipedia_m_ID', how='left')"
   ]
  },
  {
   "cell_type": "markdown",
   "id": "fd88effa",
   "metadata": {},
   "source": [
    "# 5. Score computation"
   ]
  },
  {
   "cell_type": "markdown",
   "id": "f2a674ab",
   "metadata": {},
   "source": [
    "## 5.1 Load the numbers dataset"
   ]
  },
  {
   "cell_type": "code",
   "execution_count": 68,
   "id": "14c01492",
   "metadata": {},
   "outputs": [],
   "source": [
    "#CONSTANTS\n",
    "YEAR_OFFSET=2 # if 3: last triplet 2019, 2020, 2021;; if 2: last triplet 2020, 2021, 2022\n",
    "START_INDEX=28 # 20 correspond to the triplet 2000, 2001, 2002\n",
    "START_YEAR=1980+START_INDEX"
   ]
  },
  {
   "cell_type": "code",
   "execution_count": 69,
   "id": "94b4b285",
   "metadata": {},
   "outputs": [],
   "source": [
    "#read the tsv files having the actor's popularity\n",
    "tab_years=np.arange(1980,2022+1)\n",
    "actors_rating=[]\n",
    "for i, year in enumerate (tab_years):\n",
    "    path_numbers = os.path.join(THE_NUMBERS_PATH, 'actors_{}_the_numbers.tsv'.format(year))\n",
    "    actors_rating.append(pd.read_csv(path_numbers,\n",
    "                              sep='\\t',\n",
    "                              escapechar=',',\n",
    "                              names=['actor_name','popularity', 'movies', 'avg_billing']))"
   ]
  },
  {
   "cell_type": "markdown",
   "id": "212ffdf0",
   "metadata": {},
   "source": [
    "## 5.2 Creation of a pipeline"
   ]
  },
  {
   "cell_type": "markdown",
   "id": "120cbbc9",
   "metadata": {},
   "source": [
    "#### Check for duplicated actor name for each year"
   ]
  },
  {
   "cell_type": "code",
   "execution_count": 70,
   "id": "a8b1fcb9",
   "metadata": {},
   "outputs": [
    {
     "name": "stdout",
     "output_type": "stream",
     "text": [
      "There are 0 actors that appear twice in the same year.\n"
     ]
    }
   ],
   "source": [
    "#check for duplicated actor name for each year\n",
    "total_duplicated=0\n",
    "for i in range (len(tab_years)):\n",
    "    total_duplicated+=actors_rating[i].duplicated(subset='actor_name').sum()\n",
    "print('There are {} actors that appear twice in the same year.'.format(total_duplicated))"
   ]
  },
  {
   "cell_type": "markdown",
   "id": "6ccc61c8",
   "metadata": {},
   "source": [
    "#### Formatting the dataset in a useful way"
   ]
  },
  {
   "cell_type": "code",
   "execution_count": 71,
   "id": "917e63f5",
   "metadata": {},
   "outputs": [
    {
     "data": {
      "text/html": [
       "<div>\n",
       "<style scoped>\n",
       "    .dataframe tbody tr th:only-of-type {\n",
       "        vertical-align: middle;\n",
       "    }\n",
       "\n",
       "    .dataframe tbody tr th {\n",
       "        vertical-align: top;\n",
       "    }\n",
       "\n",
       "    .dataframe thead th {\n",
       "        text-align: right;\n",
       "    }\n",
       "</style>\n",
       "<table border=\"1\" class=\"dataframe\">\n",
       "  <thead>\n",
       "    <tr style=\"text-align: right;\">\n",
       "      <th></th>\n",
       "      <th>1980</th>\n",
       "      <th>1981</th>\n",
       "      <th>1982</th>\n",
       "      <th>1983</th>\n",
       "      <th>1984</th>\n",
       "      <th>1985</th>\n",
       "      <th>1986</th>\n",
       "      <th>1987</th>\n",
       "      <th>1988</th>\n",
       "      <th>1989</th>\n",
       "      <th>...</th>\n",
       "      <th>2013</th>\n",
       "      <th>2014</th>\n",
       "      <th>2015</th>\n",
       "      <th>2016</th>\n",
       "      <th>2017</th>\n",
       "      <th>2018</th>\n",
       "      <th>2019</th>\n",
       "      <th>2020</th>\n",
       "      <th>2021</th>\n",
       "      <th>2022</th>\n",
       "    </tr>\n",
       "    <tr>\n",
       "      <th>actor_name</th>\n",
       "      <th></th>\n",
       "      <th></th>\n",
       "      <th></th>\n",
       "      <th></th>\n",
       "      <th></th>\n",
       "      <th></th>\n",
       "      <th></th>\n",
       "      <th></th>\n",
       "      <th></th>\n",
       "      <th></th>\n",
       "      <th></th>\n",
       "      <th></th>\n",
       "      <th></th>\n",
       "      <th></th>\n",
       "      <th></th>\n",
       "      <th></th>\n",
       "      <th></th>\n",
       "      <th></th>\n",
       "      <th></th>\n",
       "      <th></th>\n",
       "      <th></th>\n",
       "    </tr>\n",
       "  </thead>\n",
       "  <tbody>\n",
       "    <tr>\n",
       "      <th>Jane Fonda</th>\n",
       "      <td>440.0</td>\n",
       "      <td>364.0</td>\n",
       "      <td>198.0</td>\n",
       "      <td>99.0</td>\n",
       "      <td>NaN</td>\n",
       "      <td>NaN</td>\n",
       "      <td>63.0</td>\n",
       "      <td>63.0</td>\n",
       "      <td>63.0</td>\n",
       "      <td>NaN</td>\n",
       "      <td>...</td>\n",
       "      <td>NaN</td>\n",
       "      <td>16.0</td>\n",
       "      <td>16.0</td>\n",
       "      <td>16.0</td>\n",
       "      <td>NaN</td>\n",
       "      <td>59.0</td>\n",
       "      <td>59.0</td>\n",
       "      <td>59.0</td>\n",
       "      <td>NaN</td>\n",
       "      <td>NaN</td>\n",
       "    </tr>\n",
       "    <tr>\n",
       "      <th>Clint Eastwood</th>\n",
       "      <td>360.0</td>\n",
       "      <td>263.0</td>\n",
       "      <td>260.0</td>\n",
       "      <td>180.0</td>\n",
       "      <td>347.0</td>\n",
       "      <td>343.0</td>\n",
       "      <td>332.0</td>\n",
       "      <td>165.0</td>\n",
       "      <td>155.0</td>\n",
       "      <td>100.0</td>\n",
       "      <td>...</td>\n",
       "      <td>16.0</td>\n",
       "      <td>16.0</td>\n",
       "      <td>NaN</td>\n",
       "      <td>NaN</td>\n",
       "      <td>NaN</td>\n",
       "      <td>71.0</td>\n",
       "      <td>71.0</td>\n",
       "      <td>71.0</td>\n",
       "      <td>36.0</td>\n",
       "      <td>36.0</td>\n",
       "    </tr>\n",
       "    <tr>\n",
       "      <th>John Belushi</th>\n",
       "      <td>269.0</td>\n",
       "      <td>295.0</td>\n",
       "      <td>217.0</td>\n",
       "      <td>125.0</td>\n",
       "      <td>NaN</td>\n",
       "      <td>NaN</td>\n",
       "      <td>NaN</td>\n",
       "      <td>NaN</td>\n",
       "      <td>NaN</td>\n",
       "      <td>NaN</td>\n",
       "      <td>...</td>\n",
       "      <td>NaN</td>\n",
       "      <td>NaN</td>\n",
       "      <td>NaN</td>\n",
       "      <td>NaN</td>\n",
       "      <td>NaN</td>\n",
       "      <td>NaN</td>\n",
       "      <td>NaN</td>\n",
       "      <td>NaN</td>\n",
       "      <td>NaN</td>\n",
       "      <td>NaN</td>\n",
       "    </tr>\n",
       "    <tr>\n",
       "      <th>Burt Reynolds</th>\n",
       "      <td>262.0</td>\n",
       "      <td>84.0</td>\n",
       "      <td>NaN</td>\n",
       "      <td>NaN</td>\n",
       "      <td>NaN</td>\n",
       "      <td>NaN</td>\n",
       "      <td>NaN</td>\n",
       "      <td>NaN</td>\n",
       "      <td>NaN</td>\n",
       "      <td>NaN</td>\n",
       "      <td>...</td>\n",
       "      <td>NaN</td>\n",
       "      <td>NaN</td>\n",
       "      <td>NaN</td>\n",
       "      <td>NaN</td>\n",
       "      <td>NaN</td>\n",
       "      <td>NaN</td>\n",
       "      <td>NaN</td>\n",
       "      <td>NaN</td>\n",
       "      <td>NaN</td>\n",
       "      <td>NaN</td>\n",
       "    </tr>\n",
       "    <tr>\n",
       "      <th>Goldie Hawn</th>\n",
       "      <td>258.0</td>\n",
       "      <td>170.0</td>\n",
       "      <td>251.0</td>\n",
       "      <td>81.0</td>\n",
       "      <td>147.0</td>\n",
       "      <td>66.0</td>\n",
       "      <td>132.0</td>\n",
       "      <td>125.0</td>\n",
       "      <td>125.0</td>\n",
       "      <td>59.0</td>\n",
       "      <td>...</td>\n",
       "      <td>NaN</td>\n",
       "      <td>NaN</td>\n",
       "      <td>NaN</td>\n",
       "      <td>NaN</td>\n",
       "      <td>43.0</td>\n",
       "      <td>43.0</td>\n",
       "      <td>43.0</td>\n",
       "      <td>NaN</td>\n",
       "      <td>NaN</td>\n",
       "      <td>NaN</td>\n",
       "    </tr>\n",
       "    <tr>\n",
       "      <th>...</th>\n",
       "      <td>...</td>\n",
       "      <td>...</td>\n",
       "      <td>...</td>\n",
       "      <td>...</td>\n",
       "      <td>...</td>\n",
       "      <td>...</td>\n",
       "      <td>...</td>\n",
       "      <td>...</td>\n",
       "      <td>...</td>\n",
       "      <td>...</td>\n",
       "      <td>...</td>\n",
       "      <td>...</td>\n",
       "      <td>...</td>\n",
       "      <td>...</td>\n",
       "      <td>...</td>\n",
       "      <td>...</td>\n",
       "      <td>...</td>\n",
       "      <td>...</td>\n",
       "      <td>...</td>\n",
       "      <td>...</td>\n",
       "      <td>...</td>\n",
       "    </tr>\n",
       "    <tr>\n",
       "      <th>Myha’la Herrold</th>\n",
       "      <td>NaN</td>\n",
       "      <td>NaN</td>\n",
       "      <td>NaN</td>\n",
       "      <td>NaN</td>\n",
       "      <td>NaN</td>\n",
       "      <td>NaN</td>\n",
       "      <td>NaN</td>\n",
       "      <td>NaN</td>\n",
       "      <td>NaN</td>\n",
       "      <td>NaN</td>\n",
       "      <td>...</td>\n",
       "      <td>NaN</td>\n",
       "      <td>NaN</td>\n",
       "      <td>NaN</td>\n",
       "      <td>NaN</td>\n",
       "      <td>NaN</td>\n",
       "      <td>NaN</td>\n",
       "      <td>NaN</td>\n",
       "      <td>NaN</td>\n",
       "      <td>NaN</td>\n",
       "      <td>48.0</td>\n",
       "    </tr>\n",
       "    <tr>\n",
       "      <th>Chase Sui Wonders</th>\n",
       "      <td>NaN</td>\n",
       "      <td>NaN</td>\n",
       "      <td>NaN</td>\n",
       "      <td>NaN</td>\n",
       "      <td>NaN</td>\n",
       "      <td>NaN</td>\n",
       "      <td>NaN</td>\n",
       "      <td>NaN</td>\n",
       "      <td>NaN</td>\n",
       "      <td>NaN</td>\n",
       "      <td>...</td>\n",
       "      <td>NaN</td>\n",
       "      <td>NaN</td>\n",
       "      <td>NaN</td>\n",
       "      <td>NaN</td>\n",
       "      <td>NaN</td>\n",
       "      <td>NaN</td>\n",
       "      <td>NaN</td>\n",
       "      <td>NaN</td>\n",
       "      <td>NaN</td>\n",
       "      <td>48.0</td>\n",
       "    </tr>\n",
       "    <tr>\n",
       "      <th>Rachel Sennott</th>\n",
       "      <td>NaN</td>\n",
       "      <td>NaN</td>\n",
       "      <td>NaN</td>\n",
       "      <td>NaN</td>\n",
       "      <td>NaN</td>\n",
       "      <td>NaN</td>\n",
       "      <td>NaN</td>\n",
       "      <td>NaN</td>\n",
       "      <td>NaN</td>\n",
       "      <td>NaN</td>\n",
       "      <td>...</td>\n",
       "      <td>NaN</td>\n",
       "      <td>NaN</td>\n",
       "      <td>NaN</td>\n",
       "      <td>NaN</td>\n",
       "      <td>NaN</td>\n",
       "      <td>NaN</td>\n",
       "      <td>NaN</td>\n",
       "      <td>NaN</td>\n",
       "      <td>NaN</td>\n",
       "      <td>48.0</td>\n",
       "    </tr>\n",
       "    <tr>\n",
       "      <th>Pete Davidson</th>\n",
       "      <td>NaN</td>\n",
       "      <td>NaN</td>\n",
       "      <td>NaN</td>\n",
       "      <td>NaN</td>\n",
       "      <td>NaN</td>\n",
       "      <td>NaN</td>\n",
       "      <td>NaN</td>\n",
       "      <td>NaN</td>\n",
       "      <td>NaN</td>\n",
       "      <td>NaN</td>\n",
       "      <td>...</td>\n",
       "      <td>NaN</td>\n",
       "      <td>NaN</td>\n",
       "      <td>NaN</td>\n",
       "      <td>NaN</td>\n",
       "      <td>NaN</td>\n",
       "      <td>NaN</td>\n",
       "      <td>NaN</td>\n",
       "      <td>NaN</td>\n",
       "      <td>NaN</td>\n",
       "      <td>48.0</td>\n",
       "    </tr>\n",
       "    <tr>\n",
       "      <th>Lesley Manville</th>\n",
       "      <td>NaN</td>\n",
       "      <td>NaN</td>\n",
       "      <td>NaN</td>\n",
       "      <td>NaN</td>\n",
       "      <td>NaN</td>\n",
       "      <td>NaN</td>\n",
       "      <td>NaN</td>\n",
       "      <td>NaN</td>\n",
       "      <td>NaN</td>\n",
       "      <td>NaN</td>\n",
       "      <td>...</td>\n",
       "      <td>NaN</td>\n",
       "      <td>NaN</td>\n",
       "      <td>NaN</td>\n",
       "      <td>NaN</td>\n",
       "      <td>NaN</td>\n",
       "      <td>NaN</td>\n",
       "      <td>NaN</td>\n",
       "      <td>NaN</td>\n",
       "      <td>NaN</td>\n",
       "      <td>46.0</td>\n",
       "    </tr>\n",
       "  </tbody>\n",
       "</table>\n",
       "<p>2702 rows × 43 columns</p>\n",
       "</div>"
      ],
      "text/plain": [
       "                    1980   1981   1982   1983   1984   1985   1986   1987  \\\n",
       "actor_name                                                                  \n",
       "Jane Fonda         440.0  364.0  198.0   99.0    NaN    NaN   63.0   63.0   \n",
       "Clint Eastwood     360.0  263.0  260.0  180.0  347.0  343.0  332.0  165.0   \n",
       "John Belushi       269.0  295.0  217.0  125.0    NaN    NaN    NaN    NaN   \n",
       "Burt Reynolds      262.0   84.0    NaN    NaN    NaN    NaN    NaN    NaN   \n",
       "Goldie Hawn        258.0  170.0  251.0   81.0  147.0   66.0  132.0  125.0   \n",
       "...                  ...    ...    ...    ...    ...    ...    ...    ...   \n",
       "Myha’la Herrold      NaN    NaN    NaN    NaN    NaN    NaN    NaN    NaN   \n",
       "Chase Sui Wonders    NaN    NaN    NaN    NaN    NaN    NaN    NaN    NaN   \n",
       "Rachel Sennott       NaN    NaN    NaN    NaN    NaN    NaN    NaN    NaN   \n",
       "Pete Davidson        NaN    NaN    NaN    NaN    NaN    NaN    NaN    NaN   \n",
       "Lesley Manville      NaN    NaN    NaN    NaN    NaN    NaN    NaN    NaN   \n",
       "\n",
       "                    1988   1989  ...  2013  2014  2015  2016  2017  2018  \\\n",
       "actor_name                       ...                                       \n",
       "Jane Fonda          63.0    NaN  ...   NaN  16.0  16.0  16.0   NaN  59.0   \n",
       "Clint Eastwood     155.0  100.0  ...  16.0  16.0   NaN   NaN   NaN  71.0   \n",
       "John Belushi         NaN    NaN  ...   NaN   NaN   NaN   NaN   NaN   NaN   \n",
       "Burt Reynolds        NaN    NaN  ...   NaN   NaN   NaN   NaN   NaN   NaN   \n",
       "Goldie Hawn        125.0   59.0  ...   NaN   NaN   NaN   NaN  43.0  43.0   \n",
       "...                  ...    ...  ...   ...   ...   ...   ...   ...   ...   \n",
       "Myha’la Herrold      NaN    NaN  ...   NaN   NaN   NaN   NaN   NaN   NaN   \n",
       "Chase Sui Wonders    NaN    NaN  ...   NaN   NaN   NaN   NaN   NaN   NaN   \n",
       "Rachel Sennott       NaN    NaN  ...   NaN   NaN   NaN   NaN   NaN   NaN   \n",
       "Pete Davidson        NaN    NaN  ...   NaN   NaN   NaN   NaN   NaN   NaN   \n",
       "Lesley Manville      NaN    NaN  ...   NaN   NaN   NaN   NaN   NaN   NaN   \n",
       "\n",
       "                   2019  2020  2021  2022  \n",
       "actor_name                                 \n",
       "Jane Fonda         59.0  59.0   NaN   NaN  \n",
       "Clint Eastwood     71.0  71.0  36.0  36.0  \n",
       "John Belushi        NaN   NaN   NaN   NaN  \n",
       "Burt Reynolds       NaN   NaN   NaN   NaN  \n",
       "Goldie Hawn        43.0   NaN   NaN   NaN  \n",
       "...                 ...   ...   ...   ...  \n",
       "Myha’la Herrold     NaN   NaN   NaN  48.0  \n",
       "Chase Sui Wonders   NaN   NaN   NaN  48.0  \n",
       "Rachel Sennott      NaN   NaN   NaN  48.0  \n",
       "Pete Davidson       NaN   NaN   NaN  48.0  \n",
       "Lesley Manville     NaN   NaN   NaN  46.0  \n",
       "\n",
       "[2702 rows x 43 columns]"
      ]
     },
     "execution_count": 71,
     "metadata": {},
     "output_type": "execute_result"
    }
   ],
   "source": [
    "number_actors_per_year=[]\n",
    "df_ratings_all_years=actors_rating[0].set_index('actor_name')[['popularity']]\n",
    "df_ratings_all_years.iloc[[78]]\n",
    "df_ratings_all_years.set_axis([*df_ratings_all_years.columns[:-1], int('{}'.format(1980))], axis=1, inplace=True)\n",
    "for i in range (len(tab_years)-1):\n",
    "    number_actors_per_year.append((len(actors_rating[i+1])))\n",
    "    df_ratings_all_years=pd.concat([df_ratings_all_years, actors_rating[i+1].set_index('actor_name')[['popularity']]],  axis=1)\n",
    "    df_ratings_all_years.set_axis([*df_ratings_all_years.columns[:-1], int('{}'.format(i+1+1980))], axis=1, inplace=True)\n",
    "df_ratings_all_yearsT=df_ratings_all_years.T\n",
    "\n",
    "ACTORS=list(df_ratings_all_yearsT)#all the actors present in the numbers dataset\n",
    "#print('There is a total of {} actors in the Number dataset.'.format(len(ACTORS)))\n",
    "df_ratings_all_years"
   ]
  },
  {
   "cell_type": "markdown",
   "id": "2b19cedc",
   "metadata": {},
   "source": [
    "#### Mean of the score per actor"
   ]
  },
  {
   "cell_type": "code",
   "execution_count": 72,
   "id": "acf1c778",
   "metadata": {},
   "outputs": [
    {
     "name": "stdout",
     "output_type": "stream",
     "text": [
      "Actors with the highest mean popularity score computed on the 42 years of the dataset.\n"
     ]
    }
   ],
   "source": [
    "df_ratings_all_years['mean_score'] = df_ratings_all_years.mean(axis=1)\n",
    "print(\"Actors with the highest mean popularity score computed on the 42 years of the dataset.\")\n",
    "#pd.set_option('display.max_columns', None)\n",
    "df_ratings_all_years.fillna(0, inplace=True)"
   ]
  },
  {
   "cell_type": "code",
   "execution_count": 73,
   "id": "107e80bc",
   "metadata": {},
   "outputs": [
    {
     "data": {
      "image/png": "[encoded data removed]",
      "text/plain": [
       "<Figure size 1440x432 with 1 Axes>"
      ]
     },
     "metadata": {
      "needs_background": "light"
     },
     "output_type": "display_data"
    }
   ],
   "source": [
    "df_ratings_all_years.sort_values(by='mean_score', ascending=False).head().rename_axis(None).T.plot(figsize=(20,6))\n",
    "plt.title(\"Score evolution for the 5 actors with the highest mean score.\")\n",
    "plt.xlabel('Date')\n",
    "plt.ylabel('Score')\n",
    "plt.show()"
   ]
  },
  {
   "cell_type": "markdown",
   "id": "04817ef5",
   "metadata": {},
   "source": [
    "#### Looking at the actor with highest average score"
   ]
  },
  {
   "cell_type": "code",
   "execution_count": 74,
   "id": "b7f22931",
   "metadata": {},
   "outputs": [
    {
     "name": "stdout",
     "output_type": "stream",
     "text": [
      "Actors that have the least \"empty years\" throughout the 42 years of the dataset.\n"
     ]
    },
    {
     "data": {
      "text/html": [
       "<div>\n",
       "<style scoped>\n",
       "    .dataframe tbody tr th:only-of-type {\n",
       "        vertical-align: middle;\n",
       "    }\n",
       "\n",
       "    .dataframe tbody tr th {\n",
       "        vertical-align: top;\n",
       "    }\n",
       "\n",
       "    .dataframe thead th {\n",
       "        text-align: right;\n",
       "    }\n",
       "</style>\n",
       "<table border=\"1\" class=\"dataframe\">\n",
       "  <thead>\n",
       "    <tr style=\"text-align: right;\">\n",
       "      <th></th>\n",
       "      <th>1980</th>\n",
       "      <th>1981</th>\n",
       "      <th>1982</th>\n",
       "      <th>1983</th>\n",
       "      <th>1984</th>\n",
       "      <th>1985</th>\n",
       "      <th>1986</th>\n",
       "      <th>1987</th>\n",
       "      <th>1988</th>\n",
       "      <th>1989</th>\n",
       "      <th>...</th>\n",
       "      <th>2015</th>\n",
       "      <th>2016</th>\n",
       "      <th>2017</th>\n",
       "      <th>2018</th>\n",
       "      <th>2019</th>\n",
       "      <th>2020</th>\n",
       "      <th>2021</th>\n",
       "      <th>2022</th>\n",
       "      <th>mean_score</th>\n",
       "      <th>is_na</th>\n",
       "    </tr>\n",
       "    <tr>\n",
       "      <th>actor_name</th>\n",
       "      <th></th>\n",
       "      <th></th>\n",
       "      <th></th>\n",
       "      <th></th>\n",
       "      <th></th>\n",
       "      <th></th>\n",
       "      <th></th>\n",
       "      <th></th>\n",
       "      <th></th>\n",
       "      <th></th>\n",
       "      <th></th>\n",
       "      <th></th>\n",
       "      <th></th>\n",
       "      <th></th>\n",
       "      <th></th>\n",
       "      <th></th>\n",
       "      <th></th>\n",
       "      <th></th>\n",
       "      <th></th>\n",
       "      <th></th>\n",
       "      <th></th>\n",
       "    </tr>\n",
       "  </thead>\n",
       "  <tbody>\n",
       "    <tr>\n",
       "      <th>Jane Fonda</th>\n",
       "      <td>440.0</td>\n",
       "      <td>364.0</td>\n",
       "      <td>198.0</td>\n",
       "      <td>99.0</td>\n",
       "      <td>0.0</td>\n",
       "      <td>0.0</td>\n",
       "      <td>63.0</td>\n",
       "      <td>63.0</td>\n",
       "      <td>63.0</td>\n",
       "      <td>0.0</td>\n",
       "      <td>...</td>\n",
       "      <td>16.0</td>\n",
       "      <td>16.0</td>\n",
       "      <td>0.0</td>\n",
       "      <td>59.0</td>\n",
       "      <td>59.0</td>\n",
       "      <td>59.0</td>\n",
       "      <td>0.0</td>\n",
       "      <td>0.0</td>\n",
       "      <td>109.3125</td>\n",
       "      <td>0</td>\n",
       "    </tr>\n",
       "    <tr>\n",
       "      <th>Maude Apatow</th>\n",
       "      <td>0.0</td>\n",
       "      <td>0.0</td>\n",
       "      <td>0.0</td>\n",
       "      <td>0.0</td>\n",
       "      <td>0.0</td>\n",
       "      <td>0.0</td>\n",
       "      <td>0.0</td>\n",
       "      <td>0.0</td>\n",
       "      <td>0.0</td>\n",
       "      <td>0.0</td>\n",
       "      <td>...</td>\n",
       "      <td>0.0</td>\n",
       "      <td>0.0</td>\n",
       "      <td>0.0</td>\n",
       "      <td>0.0</td>\n",
       "      <td>0.0</td>\n",
       "      <td>0.0</td>\n",
       "      <td>0.0</td>\n",
       "      <td>0.0</td>\n",
       "      <td>58.0000</td>\n",
       "      <td>0</td>\n",
       "    </tr>\n",
       "    <tr>\n",
       "      <th>Iris Apatow</th>\n",
       "      <td>0.0</td>\n",
       "      <td>0.0</td>\n",
       "      <td>0.0</td>\n",
       "      <td>0.0</td>\n",
       "      <td>0.0</td>\n",
       "      <td>0.0</td>\n",
       "      <td>0.0</td>\n",
       "      <td>0.0</td>\n",
       "      <td>0.0</td>\n",
       "      <td>0.0</td>\n",
       "      <td>...</td>\n",
       "      <td>0.0</td>\n",
       "      <td>0.0</td>\n",
       "      <td>0.0</td>\n",
       "      <td>0.0</td>\n",
       "      <td>0.0</td>\n",
       "      <td>0.0</td>\n",
       "      <td>0.0</td>\n",
       "      <td>0.0</td>\n",
       "      <td>58.0000</td>\n",
       "      <td>0</td>\n",
       "    </tr>\n",
       "  </tbody>\n",
       "</table>\n",
       "<p>3 rows × 45 columns</p>\n",
       "</div>"
      ],
      "text/plain": [
       "               1980   1981   1982  1983  1984  1985  1986  1987  1988  1989  \\\n",
       "actor_name                                                                    \n",
       "Jane Fonda    440.0  364.0  198.0  99.0   0.0   0.0  63.0  63.0  63.0   0.0   \n",
       "Maude Apatow    0.0    0.0    0.0   0.0   0.0   0.0   0.0   0.0   0.0   0.0   \n",
       "Iris Apatow     0.0    0.0    0.0   0.0   0.0   0.0   0.0   0.0   0.0   0.0   \n",
       "\n",
       "              ...  2015  2016  2017  2018  2019  2020  2021  2022  mean_score  \\\n",
       "actor_name    ...                                                               \n",
       "Jane Fonda    ...  16.0  16.0   0.0  59.0  59.0  59.0   0.0   0.0    109.3125   \n",
       "Maude Apatow  ...   0.0   0.0   0.0   0.0   0.0   0.0   0.0   0.0     58.0000   \n",
       "Iris Apatow   ...   0.0   0.0   0.0   0.0   0.0   0.0   0.0   0.0     58.0000   \n",
       "\n",
       "              is_na  \n",
       "actor_name           \n",
       "Jane Fonda        0  \n",
       "Maude Apatow      0  \n",
       "Iris Apatow       0  \n",
       "\n",
       "[3 rows x 45 columns]"
      ]
     },
     "execution_count": 74,
     "metadata": {},
     "output_type": "execute_result"
    }
   ],
   "source": [
    "df_ratings_all_years['is_na']=df_ratings_all_years.apply(lambda row: row.isna().sum().sum(), axis=1)\n",
    "print(\"Actors that have the least \\\"empty years\\\" throughout the 42 years of the dataset.\")\n",
    "df_ratings_all_years.sort_values(by='is_na', ascending=True).head(3)"
   ]
  },
  {
   "cell_type": "code",
   "execution_count": 75,
   "id": "87cf393f",
   "metadata": {},
   "outputs": [
    {
     "data": {
      "image/png": "[encoded data removed]",
      "text/plain": [
       "<Figure size 1440x432 with 1 Axes>"
      ]
     },
     "metadata": {
      "needs_background": "light"
     },
     "output_type": "display_data"
    }
   ],
   "source": [
    "df_ratings_all_years.sort_values(by='is_na', ascending=True).head(3).rename_axis(None).T.plot(figsize=(20,6))\n",
    "plt.title(\"Actors that have the least \\\"empty years\\\"\")\n",
    "plt.xlabel('Date')\n",
    "plt.ylabel('Score')\n",
    "plt.show()"
   ]
  },
  {
   "cell_type": "code",
   "execution_count": 76,
   "id": "39c370d9",
   "metadata": {},
   "outputs": [
    {
     "data": {
      "text/html": [
       "<div>\n",
       "<style scoped>\n",
       "    .dataframe tbody tr th:only-of-type {\n",
       "        vertical-align: middle;\n",
       "    }\n",
       "\n",
       "    .dataframe tbody tr th {\n",
       "        vertical-align: top;\n",
       "    }\n",
       "\n",
       "    .dataframe thead th {\n",
       "        text-align: right;\n",
       "    }\n",
       "</style>\n",
       "<table border=\"1\" class=\"dataframe\">\n",
       "  <thead>\n",
       "    <tr style=\"text-align: right;\">\n",
       "      <th></th>\n",
       "      <th>1980</th>\n",
       "      <th>1981</th>\n",
       "      <th>1982</th>\n",
       "      <th>1983</th>\n",
       "      <th>1984</th>\n",
       "      <th>1985</th>\n",
       "      <th>1986</th>\n",
       "      <th>1987</th>\n",
       "      <th>1988</th>\n",
       "      <th>1989</th>\n",
       "      <th>...</th>\n",
       "      <th>2015</th>\n",
       "      <th>2016</th>\n",
       "      <th>2017</th>\n",
       "      <th>2018</th>\n",
       "      <th>2019</th>\n",
       "      <th>2020</th>\n",
       "      <th>2021</th>\n",
       "      <th>2022</th>\n",
       "      <th>mean_score</th>\n",
       "      <th>is_na</th>\n",
       "    </tr>\n",
       "    <tr>\n",
       "      <th>actor_name</th>\n",
       "      <th></th>\n",
       "      <th></th>\n",
       "      <th></th>\n",
       "      <th></th>\n",
       "      <th></th>\n",
       "      <th></th>\n",
       "      <th></th>\n",
       "      <th></th>\n",
       "      <th></th>\n",
       "      <th></th>\n",
       "      <th></th>\n",
       "      <th></th>\n",
       "      <th></th>\n",
       "      <th></th>\n",
       "      <th></th>\n",
       "      <th></th>\n",
       "      <th></th>\n",
       "      <th></th>\n",
       "      <th></th>\n",
       "      <th></th>\n",
       "      <th></th>\n",
       "    </tr>\n",
       "  </thead>\n",
       "  <tbody>\n",
       "    <tr>\n",
       "      <th>Jane Fonda</th>\n",
       "      <td>440.0</td>\n",
       "      <td>364.0</td>\n",
       "      <td>198.0</td>\n",
       "      <td>99.0</td>\n",
       "      <td>0.0</td>\n",
       "      <td>0.0</td>\n",
       "      <td>63.0</td>\n",
       "      <td>63.0</td>\n",
       "      <td>63.0</td>\n",
       "      <td>0.0</td>\n",
       "      <td>...</td>\n",
       "      <td>16.0</td>\n",
       "      <td>16.0</td>\n",
       "      <td>0.0</td>\n",
       "      <td>59.0</td>\n",
       "      <td>59.0</td>\n",
       "      <td>59.0</td>\n",
       "      <td>0.0</td>\n",
       "      <td>0.0</td>\n",
       "      <td>109.312500</td>\n",
       "      <td>0</td>\n",
       "    </tr>\n",
       "    <tr>\n",
       "      <th>Clint Eastwood</th>\n",
       "      <td>360.0</td>\n",
       "      <td>263.0</td>\n",
       "      <td>260.0</td>\n",
       "      <td>180.0</td>\n",
       "      <td>347.0</td>\n",
       "      <td>343.0</td>\n",
       "      <td>332.0</td>\n",
       "      <td>165.0</td>\n",
       "      <td>155.0</td>\n",
       "      <td>100.0</td>\n",
       "      <td>...</td>\n",
       "      <td>0.0</td>\n",
       "      <td>0.0</td>\n",
       "      <td>0.0</td>\n",
       "      <td>71.0</td>\n",
       "      <td>71.0</td>\n",
       "      <td>71.0</td>\n",
       "      <td>36.0</td>\n",
       "      <td>36.0</td>\n",
       "      <td>132.052632</td>\n",
       "      <td>0</td>\n",
       "    </tr>\n",
       "    <tr>\n",
       "      <th>John Belushi</th>\n",
       "      <td>269.0</td>\n",
       "      <td>295.0</td>\n",
       "      <td>217.0</td>\n",
       "      <td>125.0</td>\n",
       "      <td>0.0</td>\n",
       "      <td>0.0</td>\n",
       "      <td>0.0</td>\n",
       "      <td>0.0</td>\n",
       "      <td>0.0</td>\n",
       "      <td>0.0</td>\n",
       "      <td>...</td>\n",
       "      <td>0.0</td>\n",
       "      <td>0.0</td>\n",
       "      <td>0.0</td>\n",
       "      <td>0.0</td>\n",
       "      <td>0.0</td>\n",
       "      <td>0.0</td>\n",
       "      <td>0.0</td>\n",
       "      <td>0.0</td>\n",
       "      <td>226.500000</td>\n",
       "      <td>0</td>\n",
       "    </tr>\n",
       "    <tr>\n",
       "      <th>Burt Reynolds</th>\n",
       "      <td>262.0</td>\n",
       "      <td>84.0</td>\n",
       "      <td>0.0</td>\n",
       "      <td>0.0</td>\n",
       "      <td>0.0</td>\n",
       "      <td>0.0</td>\n",
       "      <td>0.0</td>\n",
       "      <td>0.0</td>\n",
       "      <td>0.0</td>\n",
       "      <td>0.0</td>\n",
       "      <td>...</td>\n",
       "      <td>0.0</td>\n",
       "      <td>0.0</td>\n",
       "      <td>0.0</td>\n",
       "      <td>0.0</td>\n",
       "      <td>0.0</td>\n",
       "      <td>0.0</td>\n",
       "      <td>0.0</td>\n",
       "      <td>0.0</td>\n",
       "      <td>114.500000</td>\n",
       "      <td>0</td>\n",
       "    </tr>\n",
       "    <tr>\n",
       "      <th>Goldie Hawn</th>\n",
       "      <td>258.0</td>\n",
       "      <td>170.0</td>\n",
       "      <td>251.0</td>\n",
       "      <td>81.0</td>\n",
       "      <td>147.0</td>\n",
       "      <td>66.0</td>\n",
       "      <td>132.0</td>\n",
       "      <td>125.0</td>\n",
       "      <td>125.0</td>\n",
       "      <td>59.0</td>\n",
       "      <td>...</td>\n",
       "      <td>0.0</td>\n",
       "      <td>0.0</td>\n",
       "      <td>43.0</td>\n",
       "      <td>43.0</td>\n",
       "      <td>43.0</td>\n",
       "      <td>0.0</td>\n",
       "      <td>0.0</td>\n",
       "      <td>0.0</td>\n",
       "      <td>104.814815</td>\n",
       "      <td>0</td>\n",
       "    </tr>\n",
       "  </tbody>\n",
       "</table>\n",
       "<p>5 rows × 45 columns</p>\n",
       "</div>"
      ],
      "text/plain": [
       "                 1980   1981   1982   1983   1984   1985   1986   1987   1988  \\\n",
       "actor_name                                                                      \n",
       "Jane Fonda      440.0  364.0  198.0   99.0    0.0    0.0   63.0   63.0   63.0   \n",
       "Clint Eastwood  360.0  263.0  260.0  180.0  347.0  343.0  332.0  165.0  155.0   \n",
       "John Belushi    269.0  295.0  217.0  125.0    0.0    0.0    0.0    0.0    0.0   \n",
       "Burt Reynolds   262.0   84.0    0.0    0.0    0.0    0.0    0.0    0.0    0.0   \n",
       "Goldie Hawn     258.0  170.0  251.0   81.0  147.0   66.0  132.0  125.0  125.0   \n",
       "\n",
       "                 1989  ...  2015  2016  2017  2018  2019  2020  2021  2022  \\\n",
       "actor_name             ...                                                   \n",
       "Jane Fonda        0.0  ...  16.0  16.0   0.0  59.0  59.0  59.0   0.0   0.0   \n",
       "Clint Eastwood  100.0  ...   0.0   0.0   0.0  71.0  71.0  71.0  36.0  36.0   \n",
       "John Belushi      0.0  ...   0.0   0.0   0.0   0.0   0.0   0.0   0.0   0.0   \n",
       "Burt Reynolds     0.0  ...   0.0   0.0   0.0   0.0   0.0   0.0   0.0   0.0   \n",
       "Goldie Hawn      59.0  ...   0.0   0.0  43.0  43.0  43.0   0.0   0.0   0.0   \n",
       "\n",
       "                mean_score  is_na  \n",
       "actor_name                         \n",
       "Jane Fonda      109.312500      0  \n",
       "Clint Eastwood  132.052632      0  \n",
       "John Belushi    226.500000      0  \n",
       "Burt Reynolds   114.500000      0  \n",
       "Goldie Hawn     104.814815      0  \n",
       "\n",
       "[5 rows x 45 columns]"
      ]
     },
     "execution_count": 76,
     "metadata": {},
     "output_type": "execute_result"
    }
   ],
   "source": [
    "df_ratings_all_years.head()"
   ]
  },
  {
   "cell_type": "markdown",
   "id": "040d1e46",
   "metadata": {},
   "source": [
    "## 5.3 Retrieve yearly score of each actor"
   ]
  },
  {
   "cell_type": "code",
   "execution_count": 77,
   "id": "145b21eb",
   "metadata": {},
   "outputs": [],
   "source": [
    "#Find the yearly score of each actor but the score from the numbers is over the last three years.\n",
    "#The combined score of year n = yearly score year n + yearly score year n-1 + yearly score year n-2\n",
    "#That's why the score of year 1979 and 1978 are computed and added to the dataframe.\n",
    "def find_score_7879(row, yeartocheck):\n",
    "    reel_moinsa=0\n",
    "    reel_moinsb=0\n",
    "    firstzerofound=0 \n",
    "    cum78=0\n",
    "    cum79=0\n",
    "    for i, year in enumerate(tab_years):\n",
    "        if firstzerofound == 1:\n",
    "            break\n",
    "        if row[year] == 0:\n",
    "            firstzerofound=1\n",
    "            for j in range(1, year-1979):\n",
    "                reel_moinsc=row[year-j]-reel_moinsa-reel_moinsb\n",
    "                reel_moinsa=reel_moinsb\n",
    "                \n",
    "                cum78=reel_moinsc\n",
    "                cum79=cum78+reel_moinsb\n",
    "                \n",
    "                reel_moinsb=reel_moinsc\n",
    "\n",
    "    if(yeartocheck==1978):\n",
    "        return cum78\n",
    "    elif(yeartocheck==1979):\n",
    "        return cum79\n",
    "    else:\n",
    "        print(\"error, wrong date\")\n",
    "        return-1"
   ]
  },
  {
   "cell_type": "code",
   "execution_count": 78,
   "id": "1d1408b6",
   "metadata": {},
   "outputs": [],
   "source": [
    "df_ratings_all_years[1978]=df_ratings_all_years.apply(lambda row: find_score_7879(row, 1978), axis=1)\n",
    "df_ratings_all_years[1979]=df_ratings_all_years.apply(lambda row: find_score_7879(row, 1979), axis=1)\n",
    "actor_name_index = df_ratings_all_years.index.values\n",
    "first_column = df_ratings_all_years.pop(1979)\n",
    "df_ratings_all_years.insert(0, 1979, first_column)\n",
    "first_column = df_ratings_all_years.pop(1978)\n",
    "df_ratings_all_years.insert(0, 1978, first_column)\n",
    "#df_ratings_all_years.loc[\"Harrison Ford\", 2001]=68"
   ]
  },
  {
   "cell_type": "code",
   "execution_count": 79,
   "id": "ff16b84f",
   "metadata": {},
   "outputs": [],
   "source": [
    "df_ratings_all_years.reset_index(inplace=True)"
   ]
  },
  {
   "cell_type": "code",
   "execution_count": 80,
   "id": "a7634687",
   "metadata": {},
   "outputs": [],
   "source": [
    "#find the yearly score of each actor\n",
    "\n",
    "df_yearly_score=df_ratings_all_years.copy()\n",
    "def find_yearly_score(row):\n",
    "    yearly_score=[]\n",
    "    #print(row)\n",
    "    for i, year in enumerate(tab_years):\n",
    "        \n",
    "        if (year==1980):\n",
    "            yearly_score.append(row[1978]) #1978\n",
    "            yearly_score.append(row[1979]-yearly_score[i]) #1979\n",
    "        yearly_score.append(row[year]-yearly_score[i+1]-yearly_score[i]) #le reste\n",
    "        #print(year, row[year]-yearly_score[i+1]-yearly_score[i], \"=\", row[year],\"-\", yearly_score[i], \"-\",yearly_score[i+1])\n",
    "    return yearly_score\n"
   ]
  },
  {
   "cell_type": "code",
   "execution_count": 81,
   "id": "276fa134",
   "metadata": {},
   "outputs": [],
   "source": [
    "#errors in the numbers\n",
    "df_yearly_score.loc[26, 1979]=58 #harrison Ford had a wrong value for 1979.\n",
    "df_yearly_score.loc[6, 1981]=152 #alan alda had a wrong score for 1981\n",
    "df_yearly_score.loc[6, 1982]=90 #alan alda had a wrong score for 1981\n",
    "df_yearly_score.loc[6, 1983]=90 #alan alda had a wrong score for 1981"
   ]
  },
  {
   "cell_type": "code",
   "execution_count": 82,
   "id": "fb4fa232",
   "metadata": {},
   "outputs": [],
   "source": [
    "supp_tab_years=tab_years.tolist()\n",
    "tab_years_descending=tab_years.tolist()\n",
    "tab_years_descending.reverse()\n",
    "supp_tab_years.insert(0, 1979)\n",
    "supp_tab_years.insert(0, 1978)\n",
    "\n",
    "#df_e_metric.loc[\"Harrison Ford\", 1979]=58\n",
    "\n",
    "df_yearly_score=df_yearly_score.apply(lambda row: find_yearly_score(row), axis=1).to_frame()\n",
    "\n",
    "#change over the df to have it in a normalized way.\n",
    "df_reel_years=pd.DataFrame(df_yearly_score[0].to_list(), columns=supp_tab_years)\n",
    "df_reel_years['actor_name'] = actor_name_index\n",
    "df_reel_years.set_index('actor_name', inplace=True)"
   ]
  },
  {
   "cell_type": "markdown",
   "id": "68f87729",
   "metadata": {},
   "source": [
    "## 5.4 Retrieve year of revelation of each actor"
   ]
  },
  {
   "cell_type": "code",
   "execution_count": 83,
   "id": "0a95834c",
   "metadata": {},
   "outputs": [],
   "source": [
    "df_numbers_yearly = df_reel_years.copy()"
   ]
  },
  {
   "cell_type": "code",
   "execution_count": 84,
   "id": "0fed1191",
   "metadata": {},
   "outputs": [],
   "source": [
    "df_numbers_yearly.drop([1978, 1979], inplace=True, axis=1)"
   ]
  },
  {
   "cell_type": "code",
   "execution_count": 85,
   "id": "6b78ad07",
   "metadata": {},
   "outputs": [],
   "source": [
    "columns = df_numbers_yearly.columns\n",
    "def get_min_year(row):\n",
    "    for x in columns[:-2]:\n",
    "        if row[x]>0:\n",
    "            return x\n",
    "    return 0"
   ]
  },
  {
   "cell_type": "code",
   "execution_count": 86,
   "id": "1ee7804c",
   "metadata": {},
   "outputs": [],
   "source": [
    "def get_min_year_score(row):\n",
    "    for x in columns[:-2]:\n",
    "        if row[x] >0:\n",
    "            return float(row[x])\n",
    "    return 0"
   ]
  },
  {
   "cell_type": "code",
   "execution_count": 87,
   "id": "c129760d",
   "metadata": {},
   "outputs": [
    {
     "data": {
      "text/html": [
       "<div>\n",
       "<style scoped>\n",
       "    .dataframe tbody tr th:only-of-type {\n",
       "        vertical-align: middle;\n",
       "    }\n",
       "\n",
       "    .dataframe tbody tr th {\n",
       "        vertical-align: top;\n",
       "    }\n",
       "\n",
       "    .dataframe thead th {\n",
       "        text-align: right;\n",
       "    }\n",
       "</style>\n",
       "<table border=\"1\" class=\"dataframe\">\n",
       "  <thead>\n",
       "    <tr style=\"text-align: right;\">\n",
       "      <th></th>\n",
       "      <th>1980</th>\n",
       "      <th>1981</th>\n",
       "      <th>1982</th>\n",
       "      <th>1983</th>\n",
       "      <th>1984</th>\n",
       "      <th>1985</th>\n",
       "      <th>1986</th>\n",
       "      <th>1987</th>\n",
       "      <th>1988</th>\n",
       "      <th>1989</th>\n",
       "      <th>...</th>\n",
       "      <th>2015</th>\n",
       "      <th>2016</th>\n",
       "      <th>2017</th>\n",
       "      <th>2018</th>\n",
       "      <th>2019</th>\n",
       "      <th>2020</th>\n",
       "      <th>2021</th>\n",
       "      <th>2022</th>\n",
       "      <th>min_year</th>\n",
       "      <th>min_year_score</th>\n",
       "    </tr>\n",
       "    <tr>\n",
       "      <th>actor_name</th>\n",
       "      <th></th>\n",
       "      <th></th>\n",
       "      <th></th>\n",
       "      <th></th>\n",
       "      <th></th>\n",
       "      <th></th>\n",
       "      <th></th>\n",
       "      <th></th>\n",
       "      <th></th>\n",
       "      <th></th>\n",
       "      <th></th>\n",
       "      <th></th>\n",
       "      <th></th>\n",
       "      <th></th>\n",
       "      <th></th>\n",
       "      <th></th>\n",
       "      <th></th>\n",
       "      <th></th>\n",
       "      <th></th>\n",
       "      <th></th>\n",
       "      <th></th>\n",
       "    </tr>\n",
       "  </thead>\n",
       "  <tbody>\n",
       "    <tr>\n",
       "      <th>Jane Fonda</th>\n",
       "      <td>99.0</td>\n",
       "      <td>99.0</td>\n",
       "      <td>0.0</td>\n",
       "      <td>0.0</td>\n",
       "      <td>0.0</td>\n",
       "      <td>0.0</td>\n",
       "      <td>63.0</td>\n",
       "      <td>0.0</td>\n",
       "      <td>0.0</td>\n",
       "      <td>0.0</td>\n",
       "      <td>...</td>\n",
       "      <td>0.0</td>\n",
       "      <td>0.0</td>\n",
       "      <td>0.0</td>\n",
       "      <td>59.0</td>\n",
       "      <td>0.0</td>\n",
       "      <td>0.0</td>\n",
       "      <td>0.0</td>\n",
       "      <td>0.0</td>\n",
       "      <td>1980</td>\n",
       "      <td>99.0</td>\n",
       "    </tr>\n",
       "    <tr>\n",
       "      <th>Clint Eastwood</th>\n",
       "      <td>174.0</td>\n",
       "      <td>0.0</td>\n",
       "      <td>86.0</td>\n",
       "      <td>94.0</td>\n",
       "      <td>167.0</td>\n",
       "      <td>82.0</td>\n",
       "      <td>83.0</td>\n",
       "      <td>0.0</td>\n",
       "      <td>72.0</td>\n",
       "      <td>28.0</td>\n",
       "      <td>...</td>\n",
       "      <td>0.0</td>\n",
       "      <td>0.0</td>\n",
       "      <td>0.0</td>\n",
       "      <td>71.0</td>\n",
       "      <td>0.0</td>\n",
       "      <td>0.0</td>\n",
       "      <td>36.0</td>\n",
       "      <td>0.0</td>\n",
       "      <td>1980</td>\n",
       "      <td>174.0</td>\n",
       "    </tr>\n",
       "    <tr>\n",
       "      <th>John Belushi</th>\n",
       "      <td>92.0</td>\n",
       "      <td>125.0</td>\n",
       "      <td>0.0</td>\n",
       "      <td>0.0</td>\n",
       "      <td>0.0</td>\n",
       "      <td>0.0</td>\n",
       "      <td>0.0</td>\n",
       "      <td>0.0</td>\n",
       "      <td>0.0</td>\n",
       "      <td>0.0</td>\n",
       "      <td>...</td>\n",
       "      <td>0.0</td>\n",
       "      <td>0.0</td>\n",
       "      <td>0.0</td>\n",
       "      <td>0.0</td>\n",
       "      <td>0.0</td>\n",
       "      <td>0.0</td>\n",
       "      <td>0.0</td>\n",
       "      <td>0.0</td>\n",
       "      <td>1980</td>\n",
       "      <td>92.0</td>\n",
       "    </tr>\n",
       "  </tbody>\n",
       "</table>\n",
       "<p>3 rows × 45 columns</p>\n",
       "</div>"
      ],
      "text/plain": [
       "                 1980   1981  1982  1983   1984  1985  1986  1987  1988  1989  \\\n",
       "actor_name                                                                      \n",
       "Jane Fonda       99.0   99.0   0.0   0.0    0.0   0.0  63.0   0.0   0.0   0.0   \n",
       "Clint Eastwood  174.0    0.0  86.0  94.0  167.0  82.0  83.0   0.0  72.0  28.0   \n",
       "John Belushi     92.0  125.0   0.0   0.0    0.0   0.0   0.0   0.0   0.0   0.0   \n",
       "\n",
       "                ...  2015  2016  2017  2018  2019  2020  2021  2022  min_year  \\\n",
       "actor_name      ...                                                             \n",
       "Jane Fonda      ...   0.0   0.0   0.0  59.0   0.0   0.0   0.0   0.0      1980   \n",
       "Clint Eastwood  ...   0.0   0.0   0.0  71.0   0.0   0.0  36.0   0.0      1980   \n",
       "John Belushi    ...   0.0   0.0   0.0   0.0   0.0   0.0   0.0   0.0      1980   \n",
       "\n",
       "                min_year_score  \n",
       "actor_name                      \n",
       "Jane Fonda                99.0  \n",
       "Clint Eastwood           174.0  \n",
       "John Belushi              92.0  \n",
       "\n",
       "[3 rows x 45 columns]"
      ]
     },
     "execution_count": 87,
     "metadata": {},
     "output_type": "execute_result"
    }
   ],
   "source": [
    "df_numbers_yearly['min_year'] = df_numbers_yearly.apply(lambda row: get_min_year(row), axis=1)\n",
    "df_numbers_yearly['min_year_score'] = df_numbers_yearly.apply(lambda row: get_min_year_score(row), axis=1)\n",
    "df_numbers_yearly.head(3)"
   ]
  },
  {
   "cell_type": "markdown",
   "id": "13c29e0f",
   "metadata": {},
   "source": [
    "## 5.5 Filter out actors that are not in the CMU dataset"
   ]
  },
  {
   "cell_type": "code",
   "execution_count": 88,
   "id": "fdaeda04",
   "metadata": {},
   "outputs": [
    {
     "data": {
      "text/plain": [
       "2064"
      ]
     },
     "execution_count": 88,
     "metadata": {},
     "output_type": "execute_result"
    }
   ],
   "source": [
    "#Keep only actors that appear in the characters dataset\n",
    "df_numbers_yearly = df_numbers_yearly.merge(df_chars.drop_duplicates('actor_name', keep='first')[['actor_name']], on='actor_name')\n",
    "df_numbers_yearly.shape[0]"
   ]
  },
  {
   "cell_type": "markdown",
   "id": "195d669d",
   "metadata": {},
   "source": [
    "## 5.6 Compute fame score"
   ]
  },
  {
   "cell_type": "markdown",
   "id": "af02ea3c",
   "metadata": {},
   "source": [
    "#### Cumultaed number of movies per actor per year after revelation"
   ]
  },
  {
   "cell_type": "code",
   "execution_count": 89,
   "id": "089cb8d3",
   "metadata": {},
   "outputs": [],
   "source": [
    "df_chars['m_release_year'] = df_chars['m_release_date'].dt.year"
   ]
  },
  {
   "cell_type": "code",
   "execution_count": 90,
   "id": "04e7e068",
   "metadata": {},
   "outputs": [],
   "source": [
    "columns = ['actor_name', 'min_year']\n",
    "df_chars = df_chars.merge(df_numbers_yearly.reset_index()[columns], on='actor_name', how='left')"
   ]
  },
  {
   "cell_type": "code",
   "execution_count": 91,
   "id": "f6f8a63e",
   "metadata": {},
   "outputs": [
    {
     "data": {
      "text/html": [
       "<div>\n",
       "<style scoped>\n",
       "    .dataframe tbody tr th:only-of-type {\n",
       "        vertical-align: middle;\n",
       "    }\n",
       "\n",
       "    .dataframe tbody tr th {\n",
       "        vertical-align: top;\n",
       "    }\n",
       "\n",
       "    .dataframe thead th {\n",
       "        text-align: right;\n",
       "    }\n",
       "</style>\n",
       "<table border=\"1\" class=\"dataframe\">\n",
       "  <thead>\n",
       "    <tr style=\"text-align: right;\">\n",
       "      <th></th>\n",
       "      <th>m_release_year</th>\n",
       "      <th>actor_name</th>\n",
       "      <th>wikipedia_m_ID</th>\n",
       "      <th>min_year</th>\n",
       "    </tr>\n",
       "  </thead>\n",
       "  <tbody>\n",
       "    <tr>\n",
       "      <th>0</th>\n",
       "      <td>1896</td>\n",
       "      <td>John C. Rice</td>\n",
       "      <td>1</td>\n",
       "      <td>NaN</td>\n",
       "    </tr>\n",
       "    <tr>\n",
       "      <th>1</th>\n",
       "      <td>1896</td>\n",
       "      <td>May Irwin</td>\n",
       "      <td>1</td>\n",
       "      <td>NaN</td>\n",
       "    </tr>\n",
       "    <tr>\n",
       "      <th>2</th>\n",
       "      <td>1903</td>\n",
       "      <td>Arthur White</td>\n",
       "      <td>1</td>\n",
       "      <td>NaN</td>\n",
       "    </tr>\n",
       "    <tr>\n",
       "      <th>3</th>\n",
       "      <td>1903</td>\n",
       "      <td>Broncho Billy Anderson</td>\n",
       "      <td>1</td>\n",
       "      <td>NaN</td>\n",
       "    </tr>\n",
       "    <tr>\n",
       "      <th>4</th>\n",
       "      <td>1903</td>\n",
       "      <td>Donald Gallaher</td>\n",
       "      <td>1</td>\n",
       "      <td>NaN</td>\n",
       "    </tr>\n",
       "    <tr>\n",
       "      <th>...</th>\n",
       "      <td>...</td>\n",
       "      <td>...</td>\n",
       "      <td>...</td>\n",
       "      <td>...</td>\n",
       "    </tr>\n",
       "    <tr>\n",
       "      <th>139022</th>\n",
       "      <td>2012</td>\n",
       "      <td>Zoe Saldana</td>\n",
       "      <td>1</td>\n",
       "      <td>2002.0</td>\n",
       "    </tr>\n",
       "    <tr>\n",
       "      <th>139023</th>\n",
       "      <td>2012</td>\n",
       "      <td>Zohren Weiss</td>\n",
       "      <td>1</td>\n",
       "      <td>NaN</td>\n",
       "    </tr>\n",
       "    <tr>\n",
       "      <th>139024</th>\n",
       "      <td>2012</td>\n",
       "      <td>Zoë Bell</td>\n",
       "      <td>1</td>\n",
       "      <td>NaN</td>\n",
       "    </tr>\n",
       "    <tr>\n",
       "      <th>139025</th>\n",
       "      <td>2012</td>\n",
       "      <td>Óscar Jaenada</td>\n",
       "      <td>1</td>\n",
       "      <td>NaN</td>\n",
       "    </tr>\n",
       "    <tr>\n",
       "      <th>139026</th>\n",
       "      <td>2012</td>\n",
       "      <td>Željko Ivanek</td>\n",
       "      <td>3</td>\n",
       "      <td>NaN</td>\n",
       "    </tr>\n",
       "  </tbody>\n",
       "</table>\n",
       "<p>139027 rows × 4 columns</p>\n",
       "</div>"
      ],
      "text/plain": [
       "        m_release_year              actor_name  wikipedia_m_ID  min_year\n",
       "0                 1896            John C. Rice               1       NaN\n",
       "1                 1896               May Irwin               1       NaN\n",
       "2                 1903            Arthur White               1       NaN\n",
       "3                 1903  Broncho Billy Anderson               1       NaN\n",
       "4                 1903         Donald Gallaher               1       NaN\n",
       "...                ...                     ...             ...       ...\n",
       "139022            2012             Zoe Saldana               1    2002.0\n",
       "139023            2012            Zohren Weiss               1       NaN\n",
       "139024            2012                Zoë Bell               1       NaN\n",
       "139025            2012           Óscar Jaenada               1       NaN\n",
       "139026            2012           Željko Ivanek               3       NaN\n",
       "\n",
       "[139027 rows x 4 columns]"
      ]
     },
     "execution_count": 91,
     "metadata": {},
     "output_type": "execute_result"
    }
   ],
   "source": [
    "map_nb_movies_per_year = df_chars.groupby(['m_release_year', 'actor_name']).agg({'wikipedia_m_ID': 'count', 'min_year':'first'}).reset_index()\n",
    "map_nb_movies_per_year"
   ]
  },
  {
   "cell_type": "code",
   "execution_count": 92,
   "id": "dfd55948",
   "metadata": {},
   "outputs": [],
   "source": [
    "nb_years = range(1980, 2013)\n",
    "list_years = dict()\n",
    "for y in nb_years:\n",
    "    filter_conditions=(\n",
    "        map_nb_movies_per_year['m_release_year'] <= y\n",
    "    )\n",
    "    l_year = map_nb_movies_per_year[filter_conditions]\n",
    "    l_year = l_year.groupby('actor_name')['wikipedia_m_ID'].sum().reset_index()\n",
    "    l_year['wikipedia_m_ID'] =l_year['wikipedia_m_ID'].astype(int)\n",
    "    l_year.rename({'wikipedia_m_ID': 'nb_movies_until_{}'.format(y)}, axis=1, inplace=True)\n",
    "    list_years.update({y: l_year})"
   ]
  },
  {
   "cell_type": "code",
   "execution_count": 93,
   "id": "b9347d69",
   "metadata": {},
   "outputs": [],
   "source": [
    "nb_years = range(1980, 2013)\n",
    "list_years_revealed = dict()\n",
    "for y in nb_years:\n",
    "    filter_conditions=(\n",
    "        (map_nb_movies_per_year['m_release_year'] <= y) &\n",
    "        (map_nb_movies_per_year['min_year'] <= map_nb_movies_per_year['m_release_year'])\n",
    "    )\n",
    "    l_year = map_nb_movies_per_year[filter_conditions]\n",
    "    l_year = l_year.groupby('actor_name')['wikipedia_m_ID'].sum().reset_index()\n",
    "    l_year['wikipedia_m_ID'] =l_year['wikipedia_m_ID'].astype(int)\n",
    "    l_year.rename({'wikipedia_m_ID': 'nb_movies_after_revelation_until_{}'.format(y)}, axis=1, inplace=True)\n",
    "    list_years_revealed.update({y: l_year})"
   ]
  },
  {
   "cell_type": "code",
   "execution_count": 94,
   "id": "45890d0f",
   "metadata": {},
   "outputs": [
    {
     "data": {
      "text/html": [
       "<div>\n",
       "<style scoped>\n",
       "    .dataframe tbody tr th:only-of-type {\n",
       "        vertical-align: middle;\n",
       "    }\n",
       "\n",
       "    .dataframe tbody tr th {\n",
       "        vertical-align: top;\n",
       "    }\n",
       "\n",
       "    .dataframe thead th {\n",
       "        text-align: right;\n",
       "    }\n",
       "</style>\n",
       "<table border=\"1\" class=\"dataframe\">\n",
       "  <thead>\n",
       "    <tr style=\"text-align: right;\">\n",
       "      <th></th>\n",
       "      <th>actor_name</th>\n",
       "      <th>1980</th>\n",
       "      <th>1981</th>\n",
       "      <th>1982</th>\n",
       "      <th>1983</th>\n",
       "      <th>1984</th>\n",
       "      <th>1985</th>\n",
       "      <th>1986</th>\n",
       "      <th>1987</th>\n",
       "      <th>1988</th>\n",
       "      <th>...</th>\n",
       "      <th>nb_movies_after_revelation_until_2003</th>\n",
       "      <th>nb_movies_after_revelation_until_2004</th>\n",
       "      <th>nb_movies_after_revelation_until_2005</th>\n",
       "      <th>nb_movies_after_revelation_until_2006</th>\n",
       "      <th>nb_movies_after_revelation_until_2007</th>\n",
       "      <th>nb_movies_after_revelation_until_2008</th>\n",
       "      <th>nb_movies_after_revelation_until_2009</th>\n",
       "      <th>nb_movies_after_revelation_until_2010</th>\n",
       "      <th>nb_movies_after_revelation_until_2011</th>\n",
       "      <th>nb_movies_after_revelation_until_2012</th>\n",
       "    </tr>\n",
       "  </thead>\n",
       "  <tbody>\n",
       "    <tr>\n",
       "      <th>0</th>\n",
       "      <td>Jane Fonda</td>\n",
       "      <td>99.0</td>\n",
       "      <td>99.0</td>\n",
       "      <td>0.0</td>\n",
       "      <td>0.0</td>\n",
       "      <td>0.0</td>\n",
       "      <td>0.0</td>\n",
       "      <td>63.0</td>\n",
       "      <td>0.0</td>\n",
       "      <td>0.0</td>\n",
       "      <td>...</td>\n",
       "      <td>10</td>\n",
       "      <td>10</td>\n",
       "      <td>11</td>\n",
       "      <td>11</td>\n",
       "      <td>12</td>\n",
       "      <td>12</td>\n",
       "      <td>12</td>\n",
       "      <td>12</td>\n",
       "      <td>14</td>\n",
       "      <td>14</td>\n",
       "    </tr>\n",
       "    <tr>\n",
       "      <th>1</th>\n",
       "      <td>Clint Eastwood</td>\n",
       "      <td>174.0</td>\n",
       "      <td>0.0</td>\n",
       "      <td>86.0</td>\n",
       "      <td>94.0</td>\n",
       "      <td>167.0</td>\n",
       "      <td>82.0</td>\n",
       "      <td>83.0</td>\n",
       "      <td>0.0</td>\n",
       "      <td>72.0</td>\n",
       "      <td>...</td>\n",
       "      <td>23</td>\n",
       "      <td>24</td>\n",
       "      <td>24</td>\n",
       "      <td>24</td>\n",
       "      <td>25</td>\n",
       "      <td>26</td>\n",
       "      <td>26</td>\n",
       "      <td>26</td>\n",
       "      <td>26</td>\n",
       "      <td>27</td>\n",
       "    </tr>\n",
       "    <tr>\n",
       "      <th>2</th>\n",
       "      <td>John Belushi</td>\n",
       "      <td>92.0</td>\n",
       "      <td>125.0</td>\n",
       "      <td>0.0</td>\n",
       "      <td>0.0</td>\n",
       "      <td>0.0</td>\n",
       "      <td>0.0</td>\n",
       "      <td>0.0</td>\n",
       "      <td>0.0</td>\n",
       "      <td>0.0</td>\n",
       "      <td>...</td>\n",
       "      <td>3</td>\n",
       "      <td>3</td>\n",
       "      <td>3</td>\n",
       "      <td>3</td>\n",
       "      <td>3</td>\n",
       "      <td>3</td>\n",
       "      <td>3</td>\n",
       "      <td>3</td>\n",
       "      <td>3</td>\n",
       "      <td>3</td>\n",
       "    </tr>\n",
       "    <tr>\n",
       "      <th>3</th>\n",
       "      <td>Burt Reynolds</td>\n",
       "      <td>0.0</td>\n",
       "      <td>0.0</td>\n",
       "      <td>0.0</td>\n",
       "      <td>0.0</td>\n",
       "      <td>0.0</td>\n",
       "      <td>0.0</td>\n",
       "      <td>0.0</td>\n",
       "      <td>0.0</td>\n",
       "      <td>0.0</td>\n",
       "      <td>...</td>\n",
       "      <td>12</td>\n",
       "      <td>13</td>\n",
       "      <td>17</td>\n",
       "      <td>21</td>\n",
       "      <td>23</td>\n",
       "      <td>25</td>\n",
       "      <td>25</td>\n",
       "      <td>25</td>\n",
       "      <td>26</td>\n",
       "      <td>26</td>\n",
       "    </tr>\n",
       "    <tr>\n",
       "      <th>4</th>\n",
       "      <td>Goldie Hawn</td>\n",
       "      <td>170.0</td>\n",
       "      <td>0.0</td>\n",
       "      <td>81.0</td>\n",
       "      <td>0.0</td>\n",
       "      <td>66.0</td>\n",
       "      <td>0.0</td>\n",
       "      <td>66.0</td>\n",
       "      <td>59.0</td>\n",
       "      <td>0.0</td>\n",
       "      <td>...</td>\n",
       "      <td>17</td>\n",
       "      <td>17</td>\n",
       "      <td>17</td>\n",
       "      <td>17</td>\n",
       "      <td>17</td>\n",
       "      <td>17</td>\n",
       "      <td>17</td>\n",
       "      <td>17</td>\n",
       "      <td>17</td>\n",
       "      <td>17</td>\n",
       "    </tr>\n",
       "  </tbody>\n",
       "</table>\n",
       "<p>5 rows × 112 columns</p>\n",
       "</div>"
      ],
      "text/plain": [
       "       actor_name   1980   1981  1982  1983   1984  1985  1986  1987  1988  \\\n",
       "0      Jane Fonda   99.0   99.0   0.0   0.0    0.0   0.0  63.0   0.0   0.0   \n",
       "1  Clint Eastwood  174.0    0.0  86.0  94.0  167.0  82.0  83.0   0.0  72.0   \n",
       "2    John Belushi   92.0  125.0   0.0   0.0    0.0   0.0   0.0   0.0   0.0   \n",
       "3   Burt Reynolds    0.0    0.0   0.0   0.0    0.0   0.0   0.0   0.0   0.0   \n",
       "4     Goldie Hawn  170.0    0.0  81.0   0.0   66.0   0.0  66.0  59.0   0.0   \n",
       "\n",
       "   ...  nb_movies_after_revelation_until_2003  \\\n",
       "0  ...                                     10   \n",
       "1  ...                                     23   \n",
       "2  ...                                      3   \n",
       "3  ...                                     12   \n",
       "4  ...                                     17   \n",
       "\n",
       "   nb_movies_after_revelation_until_2004  \\\n",
       "0                                     10   \n",
       "1                                     24   \n",
       "2                                      3   \n",
       "3                                     13   \n",
       "4                                     17   \n",
       "\n",
       "   nb_movies_after_revelation_until_2005  \\\n",
       "0                                     11   \n",
       "1                                     24   \n",
       "2                                      3   \n",
       "3                                     17   \n",
       "4                                     17   \n",
       "\n",
       "   nb_movies_after_revelation_until_2006  \\\n",
       "0                                     11   \n",
       "1                                     24   \n",
       "2                                      3   \n",
       "3                                     21   \n",
       "4                                     17   \n",
       "\n",
       "   nb_movies_after_revelation_until_2007  \\\n",
       "0                                     12   \n",
       "1                                     25   \n",
       "2                                      3   \n",
       "3                                     23   \n",
       "4                                     17   \n",
       "\n",
       "   nb_movies_after_revelation_until_2008  \\\n",
       "0                                     12   \n",
       "1                                     26   \n",
       "2                                      3   \n",
       "3                                     25   \n",
       "4                                     17   \n",
       "\n",
       "   nb_movies_after_revelation_until_2009  \\\n",
       "0                                     12   \n",
       "1                                     26   \n",
       "2                                      3   \n",
       "3                                     25   \n",
       "4                                     17   \n",
       "\n",
       "   nb_movies_after_revelation_until_2010  \\\n",
       "0                                     12   \n",
       "1                                     26   \n",
       "2                                      3   \n",
       "3                                     25   \n",
       "4                                     17   \n",
       "\n",
       "   nb_movies_after_revelation_until_2011  \\\n",
       "0                                     14   \n",
       "1                                     26   \n",
       "2                                      3   \n",
       "3                                     26   \n",
       "4                                     17   \n",
       "\n",
       "   nb_movies_after_revelation_until_2012  \n",
       "0                                     14  \n",
       "1                                     27  \n",
       "2                                      3  \n",
       "3                                     26  \n",
       "4                                     17  \n",
       "\n",
       "[5 rows x 112 columns]"
      ]
     },
     "execution_count": 94,
     "metadata": {},
     "output_type": "execute_result"
    }
   ],
   "source": [
    "for key, year in list_years.items():\n",
    "    df_numbers_yearly = df_numbers_yearly.merge(year, on='actor_name', how='left')\n",
    "    df_numbers_yearly['nb_movies_until_{}'.format(key)] = df_numbers_yearly['nb_movies_until_{}'.format(key)].fillna(0).astype(int)\n",
    "    \n",
    "for key, year in list_years_revealed.items():\n",
    "    df_numbers_yearly = df_numbers_yearly.merge(year, on='actor_name', how='left')\n",
    "    df_numbers_yearly['nb_movies_after_revelation_until_{}'.format(key)] = df_numbers_yearly['nb_movies_after_revelation_until_{}'.format(key)].fillna(0).astype(int)\n",
    "df_numbers_yearly.head()"
   ]
  },
  {
   "cell_type": "code",
   "execution_count": 95,
   "id": "26300919",
   "metadata": {},
   "outputs": [],
   "source": [
    "# we don't need scores avec 2012\n",
    "columns_to_drop = [y for y in range(2013, 2023)]\n",
    "df_numbers_yearly.drop(columns_to_drop, axis=1, inplace=True)"
   ]
  },
  {
   "cell_type": "markdown",
   "id": "8f7a1087",
   "metadata": {},
   "source": [
    "#### Score computation"
   ]
  },
  {
   "cell_type": "code",
   "execution_count": 96,
   "id": "77d205be",
   "metadata": {},
   "outputs": [],
   "source": [
    "years = [y for y in range(2012, 1979, -1)]\n",
    "nb_movies = ['nb_movies_after_revelation_until_{}'.format(y) for y in range(2012, 1979, -1)]"
   ]
  },
  {
   "cell_type": "code",
   "execution_count": 97,
   "id": "db0bdf80",
   "metadata": {},
   "outputs": [],
   "source": [
    "def compute_weight(row):\n",
    "    one_year=0\n",
    "    actor_score_weighted=[]\n",
    "    list_scores = row[years]\n",
    "    weights = row[nb_movies]\n",
    "    for i, year_out in enumerate(list_scores):\n",
    "        one_year=0\n",
    "        for dist, (score, weight) in enumerate(zip(list_scores[i:], weights[i:]), start=1):\n",
    "            one_year=one_year+score*weight/dist\n",
    "        actor_score_weighted.append(one_year)\n",
    "    actor_score_weighted.reverse()\n",
    "    return actor_score_weighted"
   ]
  },
  {
   "cell_type": "code",
   "execution_count": 98,
   "id": "0771c7d1",
   "metadata": {},
   "outputs": [
    {
     "name": "stdout",
     "output_type": "stream",
     "text": [
      "CPU times: total: 9.58 s\n",
      "Wall time: 9.67 s\n"
     ]
    }
   ],
   "source": [
    "%%time\n",
    "df_yearly_decayed = df_numbers_yearly.apply(lambda row: compute_weight(row), axis=1).to_frame()"
   ]
  },
  {
   "cell_type": "code",
   "execution_count": 99,
   "id": "596615b7",
   "metadata": {},
   "outputs": [],
   "source": [
    "df_numbers_yearly.set_index('actor_name', inplace=True)\n",
    "years.reverse()"
   ]
  },
  {
   "cell_type": "code",
   "execution_count": 100,
   "id": "1d075f77",
   "metadata": {},
   "outputs": [],
   "source": [
    "df_yearly_decayed=pd.DataFrame(df_yearly_decayed[0].to_list(), columns=years).copy()\n",
    "df_yearly_decayed['actor_name'] = df_numbers_yearly.index.values\n",
    "df_yearly_decayed.set_index('actor_name', inplace=True)"
   ]
  },
  {
   "cell_type": "code",
   "execution_count": 101,
   "id": "cb6a4871",
   "metadata": {},
   "outputs": [],
   "source": [
    "df_yearly_decayed = df_yearly_decayed.loc[~(df_yearly_decayed==0).all(axis=1)]"
   ]
  },
  {
   "cell_type": "code",
   "execution_count": 102,
   "id": "458d2b42",
   "metadata": {},
   "outputs": [],
   "source": [
    "df_yearly_decayed.reset_index(inplace=True)"
   ]
  },
  {
   "cell_type": "code",
   "execution_count": 103,
   "id": "a11fa9ad",
   "metadata": {},
   "outputs": [
    {
     "data": {
      "text/html": [
       "<div>\n",
       "<style scoped>\n",
       "    .dataframe tbody tr th:only-of-type {\n",
       "        vertical-align: middle;\n",
       "    }\n",
       "\n",
       "    .dataframe tbody tr th {\n",
       "        vertical-align: top;\n",
       "    }\n",
       "\n",
       "    .dataframe thead th {\n",
       "        text-align: right;\n",
       "    }\n",
       "</style>\n",
       "<table border=\"1\" class=\"dataframe\">\n",
       "  <thead>\n",
       "    <tr style=\"text-align: right;\">\n",
       "      <th></th>\n",
       "      <th>actor_name</th>\n",
       "      <th>1980</th>\n",
       "      <th>1981</th>\n",
       "      <th>1982</th>\n",
       "      <th>1983</th>\n",
       "      <th>1984</th>\n",
       "      <th>1985</th>\n",
       "      <th>1986</th>\n",
       "      <th>1987</th>\n",
       "      <th>1988</th>\n",
       "      <th>...</th>\n",
       "      <th>2003</th>\n",
       "      <th>2004</th>\n",
       "      <th>2005</th>\n",
       "      <th>2006</th>\n",
       "      <th>2007</th>\n",
       "      <th>2008</th>\n",
       "      <th>2009</th>\n",
       "      <th>2010</th>\n",
       "      <th>2011</th>\n",
       "      <th>2012</th>\n",
       "    </tr>\n",
       "  </thead>\n",
       "  <tbody>\n",
       "    <tr>\n",
       "      <th>3</th>\n",
       "      <td>Burt Reynolds</td>\n",
       "      <td>0.0</td>\n",
       "      <td>0.0</td>\n",
       "      <td>0.0</td>\n",
       "      <td>0.0</td>\n",
       "      <td>0.000000</td>\n",
       "      <td>0.0</td>\n",
       "      <td>0.000000</td>\n",
       "      <td>0.000000</td>\n",
       "      <td>0.00000</td>\n",
       "      <td>...</td>\n",
       "      <td>14.857143</td>\n",
       "      <td>13.000000</td>\n",
       "      <td>2799.555556</td>\n",
       "      <td>1404.400000</td>\n",
       "      <td>938.787879</td>\n",
       "      <td>705.666667</td>\n",
       "      <td>565.600000</td>\n",
       "      <td>472.095238</td>\n",
       "      <td>405.219048</td>\n",
       "      <td>355.000000</td>\n",
       "    </tr>\n",
       "    <tr>\n",
       "      <th>18</th>\n",
       "      <td>Meryl Streep</td>\n",
       "      <td>0.0</td>\n",
       "      <td>0.0</td>\n",
       "      <td>148.0</td>\n",
       "      <td>320.0</td>\n",
       "      <td>284.333333</td>\n",
       "      <td>751.0</td>\n",
       "      <td>864.433333</td>\n",
       "      <td>517.866667</td>\n",
       "      <td>377.87619</td>\n",
       "      <td>...</td>\n",
       "      <td>1168.239338</td>\n",
       "      <td>926.633319</td>\n",
       "      <td>788.376528</td>\n",
       "      <td>3382.726084</td>\n",
       "      <td>1969.270508</td>\n",
       "      <td>5418.813094</td>\n",
       "      <td>8914.494664</td>\n",
       "      <td>5214.388815</td>\n",
       "      <td>3807.210202</td>\n",
       "      <td>5433.933031</td>\n",
       "    </tr>\n",
       "    <tr>\n",
       "      <th>338</th>\n",
       "      <td>Bruce Willis</td>\n",
       "      <td>0.0</td>\n",
       "      <td>0.0</td>\n",
       "      <td>0.0</td>\n",
       "      <td>0.0</td>\n",
       "      <td>0.000000</td>\n",
       "      <td>0.0</td>\n",
       "      <td>0.000000</td>\n",
       "      <td>75.000000</td>\n",
       "      <td>319.50000</td>\n",
       "      <td>...</td>\n",
       "      <td>6837.117523</td>\n",
       "      <td>5275.770486</td>\n",
       "      <td>8609.241538</td>\n",
       "      <td>6663.609501</td>\n",
       "      <td>10071.305226</td>\n",
       "      <td>6811.595987</td>\n",
       "      <td>6950.876427</td>\n",
       "      <td>11341.698926</td>\n",
       "      <td>7555.336701</td>\n",
       "      <td>12138.982689</td>\n",
       "    </tr>\n",
       "    <tr>\n",
       "      <th>414</th>\n",
       "      <td>Denzel Washington</td>\n",
       "      <td>0.0</td>\n",
       "      <td>0.0</td>\n",
       "      <td>0.0</td>\n",
       "      <td>0.0</td>\n",
       "      <td>0.000000</td>\n",
       "      <td>0.0</td>\n",
       "      <td>0.000000</td>\n",
       "      <td>0.000000</td>\n",
       "      <td>0.00000</td>\n",
       "      <td>...</td>\n",
       "      <td>4101.144811</td>\n",
       "      <td>6480.237531</td>\n",
       "      <td>4207.311607</td>\n",
       "      <td>7413.886729</td>\n",
       "      <td>7901.676182</td>\n",
       "      <td>5289.325816</td>\n",
       "      <td>5804.717693</td>\n",
       "      <td>8748.336365</td>\n",
       "      <td>5788.651092</td>\n",
       "      <td>9897.153187</td>\n",
       "    </tr>\n",
       "  </tbody>\n",
       "</table>\n",
       "<p>4 rows × 34 columns</p>\n",
       "</div>"
      ],
      "text/plain": [
       "            actor_name  1980  1981   1982   1983        1984   1985  \\\n",
       "3        Burt Reynolds   0.0   0.0    0.0    0.0    0.000000    0.0   \n",
       "18        Meryl Streep   0.0   0.0  148.0  320.0  284.333333  751.0   \n",
       "338       Bruce Willis   0.0   0.0    0.0    0.0    0.000000    0.0   \n",
       "414  Denzel Washington   0.0   0.0    0.0    0.0    0.000000    0.0   \n",
       "\n",
       "           1986        1987       1988  ...         2003         2004  \\\n",
       "3      0.000000    0.000000    0.00000  ...    14.857143    13.000000   \n",
       "18   864.433333  517.866667  377.87619  ...  1168.239338   926.633319   \n",
       "338    0.000000   75.000000  319.50000  ...  6837.117523  5275.770486   \n",
       "414    0.000000    0.000000    0.00000  ...  4101.144811  6480.237531   \n",
       "\n",
       "            2005         2006          2007         2008         2009  \\\n",
       "3    2799.555556  1404.400000    938.787879   705.666667   565.600000   \n",
       "18    788.376528  3382.726084   1969.270508  5418.813094  8914.494664   \n",
       "338  8609.241538  6663.609501  10071.305226  6811.595987  6950.876427   \n",
       "414  4207.311607  7413.886729   7901.676182  5289.325816  5804.717693   \n",
       "\n",
       "             2010         2011          2012  \n",
       "3      472.095238   405.219048    355.000000  \n",
       "18    5214.388815  3807.210202   5433.933031  \n",
       "338  11341.698926  7555.336701  12138.982689  \n",
       "414   8748.336365  5788.651092   9897.153187  \n",
       "\n",
       "[4 rows x 34 columns]"
      ]
     },
     "execution_count": 103,
     "metadata": {},
     "output_type": "execute_result"
    }
   ],
   "source": [
    "filter_conditions=(\n",
    "    (df_yearly_decayed['actor_name'] == 'Burt Reynolds') | \n",
    "    (df_yearly_decayed['actor_name'] == 'Denzel Washington') |\n",
    "    (df_yearly_decayed['actor_name'] == 'Meryl Streep') |\n",
    "    (df_yearly_decayed['actor_name'] == 'Bruce Willis')\n",
    ")\n",
    "df_yearly_decayed.loc[filter_conditions]"
   ]
  },
  {
   "cell_type": "code",
   "execution_count": 104,
   "id": "71c6139e",
   "metadata": {},
   "outputs": [
    {
     "data": {
      "image/png": "[encoded data removed]",
      "text/plain": [
       "<Figure size 1080x432 with 1 Axes>"
      ]
     },
     "metadata": {
      "needs_background": "light"
     },
     "output_type": "display_data"
    }
   ],
   "source": [
    "a = df_yearly_decayed.loc[filter_conditions].T\n",
    "a.columns = a.iloc[0]\n",
    "\n",
    "a = a.iloc[1: , :]\n",
    "a.plot(figsize=(15, 6))\n",
    "plt.xlim(2004, 2011)\n",
    "plt.title(\"Score funtion\")\n",
    "plt.show()"
   ]
  },
  {
   "cell_type": "code",
   "execution_count": 105,
   "id": "996acf31",
   "metadata": {},
   "outputs": [],
   "source": [
    "nb_new_actors = dict()\n",
    "for y in df_yearly_decayed.columns[1:]:\n",
    "    nb = (df_yearly_decayed[y]==0).sum()\n",
    "    nb_new_actors.update({y: nb})"
   ]
  },
  {
   "cell_type": "code",
   "execution_count": 106,
   "id": "38fdb9c1",
   "metadata": {},
   "outputs": [
    {
     "data": {
      "text/plain": [
       "<BarContainer object of 33 artists>"
      ]
     },
     "execution_count": 106,
     "metadata": {},
     "output_type": "execute_result"
    },
    {
     "data": {
      "image/png": "[encoded data removed]",
      "text/plain": [
       "<Figure size 432x288 with 1 Axes>"
      ]
     },
     "metadata": {
      "needs_background": "light"
     },
     "output_type": "display_data"
    }
   ],
   "source": [
    "plt.bar(nb_new_actors.keys(), nb_new_actors.values())"
   ]
  },
  {
   "cell_type": "markdown",
   "id": "62e8286d",
   "metadata": {},
   "source": [
    "#### Retrieve year of revelation"
   ]
  },
  {
   "cell_type": "code",
   "execution_count": 107,
   "id": "b18e3c95",
   "metadata": {},
   "outputs": [
    {
     "data": {
      "text/html": [
       "<div>\n",
       "<style scoped>\n",
       "    .dataframe tbody tr th:only-of-type {\n",
       "        vertical-align: middle;\n",
       "    }\n",
       "\n",
       "    .dataframe tbody tr th {\n",
       "        vertical-align: top;\n",
       "    }\n",
       "\n",
       "    .dataframe thead th {\n",
       "        text-align: right;\n",
       "    }\n",
       "</style>\n",
       "<table border=\"1\" class=\"dataframe\">\n",
       "  <thead>\n",
       "    <tr style=\"text-align: right;\">\n",
       "      <th></th>\n",
       "      <th>actor_name</th>\n",
       "      <th>1980</th>\n",
       "      <th>1981</th>\n",
       "      <th>1982</th>\n",
       "      <th>1983</th>\n",
       "      <th>1984</th>\n",
       "      <th>1985</th>\n",
       "      <th>1986</th>\n",
       "      <th>1987</th>\n",
       "      <th>1988</th>\n",
       "      <th>...</th>\n",
       "      <th>2005</th>\n",
       "      <th>2006</th>\n",
       "      <th>2007</th>\n",
       "      <th>2008</th>\n",
       "      <th>2009</th>\n",
       "      <th>2010</th>\n",
       "      <th>2011</th>\n",
       "      <th>2012</th>\n",
       "      <th>min_year</th>\n",
       "      <th>min_year_score</th>\n",
       "    </tr>\n",
       "  </thead>\n",
       "  <tbody>\n",
       "    <tr>\n",
       "      <th>0</th>\n",
       "      <td>Jane Fonda</td>\n",
       "      <td>99.0</td>\n",
       "      <td>346.5</td>\n",
       "      <td>181.500000</td>\n",
       "      <td>123.75</td>\n",
       "      <td>94.050000</td>\n",
       "      <td>75.900000</td>\n",
       "      <td>441.642857</td>\n",
       "      <td>243.803571</td>\n",
       "      <td>174.125000</td>\n",
       "      <td>...</td>\n",
       "      <td>892.587692</td>\n",
       "      <td>462.089744</td>\n",
       "      <td>317.717532</td>\n",
       "      <td>244.955719</td>\n",
       "      <td>200.891379</td>\n",
       "      <td>171.213548</td>\n",
       "      <td>149.784285</td>\n",
       "      <td>133.531250</td>\n",
       "      <td>0</td>\n",
       "      <td>0</td>\n",
       "    </tr>\n",
       "    <tr>\n",
       "      <th>1</th>\n",
       "      <td>Clint Eastwood</td>\n",
       "      <td>348.0</td>\n",
       "      <td>174.0</td>\n",
       "      <td>460.000000</td>\n",
       "      <td>729.00</td>\n",
       "      <td>1755.266667</td>\n",
       "      <td>1706.666667</td>\n",
       "      <td>1880.347619</td>\n",
       "      <td>1189.833333</td>\n",
       "      <td>1686.509524</td>\n",
       "      <td>...</td>\n",
       "      <td>2139.009068</td>\n",
       "      <td>1715.610398</td>\n",
       "      <td>1470.104342</td>\n",
       "      <td>3616.394846</td>\n",
       "      <td>2334.278040</td>\n",
       "      <td>1850.068876</td>\n",
       "      <td>1576.740235</td>\n",
       "      <td>1825.545952</td>\n",
       "      <td>0</td>\n",
       "      <td>0</td>\n",
       "    </tr>\n",
       "    <tr>\n",
       "      <th>2</th>\n",
       "      <td>John Belushi</td>\n",
       "      <td>92.0</td>\n",
       "      <td>421.0</td>\n",
       "      <td>218.166667</td>\n",
       "      <td>148.00</td>\n",
       "      <td>112.150000</td>\n",
       "      <td>90.333333</td>\n",
       "      <td>75.642857</td>\n",
       "      <td>65.071429</td>\n",
       "      <td>57.097222</td>\n",
       "      <td>...</td>\n",
       "      <td>18.538462</td>\n",
       "      <td>17.830484</td>\n",
       "      <td>17.174603</td>\n",
       "      <td>16.565271</td>\n",
       "      <td>15.997701</td>\n",
       "      <td>15.467742</td>\n",
       "      <td>14.971774</td>\n",
       "      <td>14.506629</td>\n",
       "      <td>0</td>\n",
       "      <td>0</td>\n",
       "    </tr>\n",
       "  </tbody>\n",
       "</table>\n",
       "<p>3 rows × 36 columns</p>\n",
       "</div>"
      ],
      "text/plain": [
       "       actor_name   1980   1981        1982    1983         1984         1985  \\\n",
       "0      Jane Fonda   99.0  346.5  181.500000  123.75    94.050000    75.900000   \n",
       "1  Clint Eastwood  348.0  174.0  460.000000  729.00  1755.266667  1706.666667   \n",
       "2    John Belushi   92.0  421.0  218.166667  148.00   112.150000    90.333333   \n",
       "\n",
       "          1986         1987         1988  ...         2005         2006  \\\n",
       "0   441.642857   243.803571   174.125000  ...   892.587692   462.089744   \n",
       "1  1880.347619  1189.833333  1686.509524  ...  2139.009068  1715.610398   \n",
       "2    75.642857    65.071429    57.097222  ...    18.538462    17.830484   \n",
       "\n",
       "          2007         2008         2009         2010         2011  \\\n",
       "0   317.717532   244.955719   200.891379   171.213548   149.784285   \n",
       "1  1470.104342  3616.394846  2334.278040  1850.068876  1576.740235   \n",
       "2    17.174603    16.565271    15.997701    15.467742    14.971774   \n",
       "\n",
       "          2012  min_year  min_year_score  \n",
       "0   133.531250         0               0  \n",
       "1  1825.545952         0               0  \n",
       "2    14.506629         0               0  \n",
       "\n",
       "[3 rows x 36 columns]"
      ]
     },
     "execution_count": 107,
     "metadata": {},
     "output_type": "execute_result"
    }
   ],
   "source": [
    "df_yearly_decayed=df_yearly_decayed.copy()\n",
    "df_yearly_decayed['min_year'] = df_yearly_decayed.apply(lambda row: get_min_year(row), axis=1)\n",
    "df_yearly_decayed['min_year_score'] = df_yearly_decayed.apply(lambda row: get_min_year_score(row), axis=1)\n",
    "df_yearly_decayed.head(3)"
   ]
  },
  {
   "cell_type": "markdown",
   "id": "84335ef6",
   "metadata": {},
   "source": [
    "# 6. Output as clean CSV"
   ]
  },
  {
   "cell_type": "code",
   "execution_count": 108,
   "id": "385413c4",
   "metadata": {},
   "outputs": [],
   "source": [
    "OUTPUT_FILE = 'characters_preprocessed.tsv'\n",
    "OUTPUT_PATH = os.path.join(DATA_PATH, OUTPUT_FILE)\n",
    "df_chars.to_csv(OUTPUT_PATH, sep=\"\\t\", index=False)"
   ]
  },
  {
   "cell_type": "code",
   "execution_count": 109,
   "id": "53cf0fd1",
   "metadata": {},
   "outputs": [],
   "source": [
    "OUTPUT_FILE = 'american_movies_preprocessed.tsv'\n",
    "OUTPUT_PATH = os.path.join(DATA_PATH, OUTPUT_FILE)\n",
    "df_movies_genre_PCA.to_csv(OUTPUT_PATH, sep=\"\\t\", index=False)"
   ]
  },
  {
   "cell_type": "code",
   "execution_count": 110,
   "id": "c05b3b7e",
   "metadata": {},
   "outputs": [],
   "source": [
    "OUTPUT_FILE_NUMBERS = 'score_function.tsv'\n",
    "OUTPUT_PATH = os.path.join(DATA_PATH, OUTPUT_FILE_NUMBERS)\n",
    "df_yearly_decayed.to_csv(OUTPUT_PATH, sep=\"\\t\", index=False)"
   ]
  }
 ],
 "metadata": {
  "kernelspec": {
   "display_name": "Python 3 (ipykernel)",
   "language": "python",
   "name": "python3"
  },
  "language_info": {
   "codemirror_mode": {
    "name": "ipython",
    "version": 3
   },
   "file_extension": ".py",
   "mimetype": "text/x-python",
   "name": "python",
   "nbconvert_exporter": "python",
   "pygments_lexer": "ipython3",
   "version": "3.9.12"
  }
 },
 "nbformat": 4,
 "nbformat_minor": 5
}
