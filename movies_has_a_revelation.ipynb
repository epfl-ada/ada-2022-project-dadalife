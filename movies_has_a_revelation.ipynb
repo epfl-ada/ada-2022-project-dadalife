{
 "cells": [
  {
   "cell_type": "code",
   "execution_count": 1,
   "id": "aa5cc897",
   "metadata": {},
   "outputs": [],
   "source": [
    "import operator\n",
    "import random\n",
    "import requests\n",
    "import time\n",
    "import csv\n",
    "import os\n",
    "import pandas as pd\n",
    "import seaborn as sns\n",
    "import numpy as np\n",
    "import networkx as nx\n",
    "from scipy import stats\n",
    "from ast import literal_eval\n",
    "from matplotlib import pyplot as plt\n",
    "from statsmodels.stats import diagnostic\n",
    "from datetime import datetime\n",
    "from sklearn.manifold import TSNE\n",
    "from sklearn.decomposition import PCA\n",
    "from sklearn.preprocessing import StandardScaler, MinMaxScaler\n",
    "from sklearn.linear_model import LinearRegression, LogisticRegression\n",
    "from sklearn.model_selection import train_test_split\n",
    "\n",
    "# Data standard scaler\n",
    "from sklearn.preprocessing import StandardScaler\n",
    "\n",
    "# Random train-test split\n",
    "from sklearn.model_selection import train_test_split\n",
    "\n",
    "# Metrics and model selection\n",
    "from sklearn.metrics import classification_report, confusion_matrix, accuracy_score, auc, roc_curve, precision_recall_curve\n",
    "from sklearn.model_selection import cross_val_predict\n",
    "\n",
    "# Classifiers\n",
    "from sklearn.linear_model import LogisticRegression\n",
    "from sklearn.ensemble import RandomForestClassifier\n",
    "from sklearn.neural_network import MLPClassifier\n",
    "\n",
    "from scipy.stats import ttest_ind\n",
    "\n",
    "#To visualize on of the RandomForest decision trees\n",
    "#from sklearn import tree\n",
    "\n",
    "#colors used when comparing genders\n",
    "PURPLE = 'purple'\n",
    "ORANGE = '#ffb82c'\n",
    "\n",
    "#colors used when generic comparisons\n",
    "BLUE = '#0173b2'\n",
    "RED = '#d55e00'\n",
    "\n",
    "#print(sns.color_palette(\"colorblind\").as_hex())\n",
    "#sns.color_palette(\"colorblind\")"
   ]
  },
  {
   "cell_type": "code",
   "execution_count": 2,
   "id": "c3079717",
   "metadata": {},
   "outputs": [
    {
     "data": {
      "text/html": [
       "\n",
       "<style>\n",
       ".output_png {\n",
       "    display: table-cell;\n",
       "    text-align: center;\n",
       "    vertical-align: middle;\n",
       "}\n",
       "</style>\n"
      ],
      "text/plain": [
       "<IPython.core.display.HTML object>"
      ]
     },
     "execution_count": 2,
     "metadata": {},
     "output_type": "execute_result"
    }
   ],
   "source": [
    "from IPython.core.display import HTML\n",
    "HTML(\"\"\"\n",
    "<style>\n",
    ".output_png {\n",
    "    display: table-cell;\n",
    "    text-align: center;\n",
    "    vertical-align: middle;\n",
    "}\n",
    "</style>\n",
    "\"\"\")"
   ]
  },
  {
   "cell_type": "markdown",
   "id": "9acafde8",
   "metadata": {},
   "source": [
    "# 1. Load the data\n",
    "<a class=\"anchor\" id=\"load\"></a>"
   ]
  },
  {
   "cell_type": "code",
   "execution_count": 3,
   "id": "201443db",
   "metadata": {},
   "outputs": [],
   "source": [
    "DATA_PATH = './data'\n",
    "MOVIE_PATH = os.path.join(DATA_PATH, 'american_movies_preprocessed.tsv')\n",
    "CHAR_PATH = os.path.join(DATA_PATH, 'characters_preprocessed.tsv')\n",
    "SCORE_FUNCTION_PATH = os.path.join(DATA_PATH, 'score_function.tsv')"
   ]
  },
  {
   "cell_type": "markdown",
   "id": "b0c6d06f",
   "metadata": {},
   "source": [
    "### 1.1 Characters data\n",
    "<a class=\"anchor\" id=\"load_characters\"></a>"
   ]
  },
  {
   "cell_type": "code",
   "execution_count": 4,
   "id": "549a98de",
   "metadata": {},
   "outputs": [
    {
     "data": {
      "text/html": [
       "<div>\n",
       "<style scoped>\n",
       "    .dataframe tbody tr th:only-of-type {\n",
       "        vertical-align: middle;\n",
       "    }\n",
       "\n",
       "    .dataframe tbody tr th {\n",
       "        vertical-align: top;\n",
       "    }\n",
       "\n",
       "    .dataframe thead th {\n",
       "        text-align: right;\n",
       "    }\n",
       "</style>\n",
       "<table border=\"1\" class=\"dataframe\">\n",
       "  <thead>\n",
       "    <tr style=\"text-align: right;\">\n",
       "      <th></th>\n",
       "      <th>wikipedia_m_ID</th>\n",
       "      <th>m_release_date</th>\n",
       "      <th>character_name</th>\n",
       "      <th>actor_dob</th>\n",
       "      <th>actor_gender</th>\n",
       "      <th>actor_height</th>\n",
       "      <th>actor_ethnicity</th>\n",
       "      <th>actor_name</th>\n",
       "      <th>actor_age</th>\n",
       "      <th>m_name</th>\n",
       "      <th>m_genre_PCA</th>\n",
       "      <th>m_release_year</th>\n",
       "      <th>min_year</th>\n",
       "    </tr>\n",
       "  </thead>\n",
       "  <tbody>\n",
       "    <tr>\n",
       "      <th>0</th>\n",
       "      <td>975900</td>\n",
       "      <td>2001-08-24</td>\n",
       "      <td>Akooshay</td>\n",
       "      <td>1958-08-26</td>\n",
       "      <td>F</td>\n",
       "      <td>1.62</td>\n",
       "      <td>NaN</td>\n",
       "      <td>Wanda De Jesus</td>\n",
       "      <td>42.0</td>\n",
       "      <td>Ghosts of Mars</td>\n",
       "      <td>Documentary, Culture &amp; Society, Gay, Gay Interest</td>\n",
       "      <td>2001</td>\n",
       "      <td>NaN</td>\n",
       "    </tr>\n",
       "    <tr>\n",
       "      <th>1</th>\n",
       "      <td>975900</td>\n",
       "      <td>2001-08-24</td>\n",
       "      <td>Lieutenant Melanie Ballard</td>\n",
       "      <td>1974-08-15</td>\n",
       "      <td>F</td>\n",
       "      <td>1.78</td>\n",
       "      <td>/m/044038p</td>\n",
       "      <td>Natasha Henstridge</td>\n",
       "      <td>27.0</td>\n",
       "      <td>Ghosts of Mars</td>\n",
       "      <td>Documentary, Culture &amp; Society, Gay, Gay Interest</td>\n",
       "      <td>2001</td>\n",
       "      <td>2000.0</td>\n",
       "    </tr>\n",
       "  </tbody>\n",
       "</table>\n",
       "</div>"
      ],
      "text/plain": [
       "   wikipedia_m_ID m_release_date              character_name   actor_dob  \\\n",
       "0          975900     2001-08-24                    Akooshay  1958-08-26   \n",
       "1          975900     2001-08-24  Lieutenant Melanie Ballard  1974-08-15   \n",
       "\n",
       "  actor_gender  actor_height actor_ethnicity          actor_name  actor_age  \\\n",
       "0            F          1.62             NaN      Wanda De Jesus       42.0   \n",
       "1            F          1.78      /m/044038p  Natasha Henstridge       27.0   \n",
       "\n",
       "           m_name                                        m_genre_PCA  \\\n",
       "0  Ghosts of Mars  Documentary, Culture & Society, Gay, Gay Interest   \n",
       "1  Ghosts of Mars  Documentary, Culture & Society, Gay, Gay Interest   \n",
       "\n",
       "   m_release_year  min_year  \n",
       "0            2001       NaN  \n",
       "1            2001    2000.0  "
      ]
     },
     "execution_count": 4,
     "metadata": {},
     "output_type": "execute_result"
    }
   ],
   "source": [
    "df_chars=pd.read_csv(CHAR_PATH, sep=\"\\t\")\n",
    "df_chars['m_release_date']=pd.to_datetime(df_chars['m_release_date'], errors = 'coerce')\n",
    "df_chars.head(2)"
   ]
  },
  {
   "cell_type": "markdown",
   "id": "dd9cd6b6",
   "metadata": {},
   "source": [
    "### 1.2 Movies data\n",
    "<a class=\"anchor\" id=\"load_movies\"></a>"
   ]
  },
  {
   "cell_type": "code",
   "execution_count": 5,
   "id": "c3ce24ef",
   "metadata": {
    "scrolled": true
   },
   "outputs": [
    {
     "data": {
      "text/html": [
       "<div>\n",
       "<style scoped>\n",
       "    .dataframe tbody tr th:only-of-type {\n",
       "        vertical-align: middle;\n",
       "    }\n",
       "\n",
       "    .dataframe tbody tr th {\n",
       "        vertical-align: top;\n",
       "    }\n",
       "\n",
       "    .dataframe thead th {\n",
       "        text-align: right;\n",
       "    }\n",
       "</style>\n",
       "<table border=\"1\" class=\"dataframe\">\n",
       "  <thead>\n",
       "    <tr style=\"text-align: right;\">\n",
       "      <th></th>\n",
       "      <th>wikipedia_m_ID</th>\n",
       "      <th>m_name</th>\n",
       "      <th>m_release_date</th>\n",
       "      <th>m_BO_revenue</th>\n",
       "      <th>m_runtime</th>\n",
       "      <th>m_languages</th>\n",
       "      <th>m_countries</th>\n",
       "      <th>m_genres</th>\n",
       "      <th>character_name</th>\n",
       "      <th>actor_dob</th>\n",
       "      <th>actor_gender</th>\n",
       "      <th>actor_height</th>\n",
       "      <th>actor_ethnicity</th>\n",
       "      <th>actor_name</th>\n",
       "      <th>actor_age</th>\n",
       "      <th>m_genre_PCA</th>\n",
       "    </tr>\n",
       "  </thead>\n",
       "  <tbody>\n",
       "    <tr>\n",
       "      <th>0</th>\n",
       "      <td>975900</td>\n",
       "      <td>Ghosts of Mars</td>\n",
       "      <td>2001-08-24</td>\n",
       "      <td>14010832.0</td>\n",
       "      <td>98.0</td>\n",
       "      <td>['English Language']</td>\n",
       "      <td>United States of America</td>\n",
       "      <td>['Thriller', 'Science Fiction', 'Horror', 'Adv...</td>\n",
       "      <td>Akooshay</td>\n",
       "      <td>1958-08-26</td>\n",
       "      <td>F</td>\n",
       "      <td>1.62</td>\n",
       "      <td>NaN</td>\n",
       "      <td>Wanda De Jesus</td>\n",
       "      <td>42.0</td>\n",
       "      <td>Documentary, Culture &amp; Society, Gay, Gay Interest</td>\n",
       "    </tr>\n",
       "    <tr>\n",
       "      <th>1</th>\n",
       "      <td>3196793</td>\n",
       "      <td>Getting Away with Murder: The JonBenét Ramsey ...</td>\n",
       "      <td>2000-02-16</td>\n",
       "      <td>NaN</td>\n",
       "      <td>95.0</td>\n",
       "      <td>['English Language']</td>\n",
       "      <td>United States of America</td>\n",
       "      <td>['Mystery', 'Biographical film', 'Drama', 'Cri...</td>\n",
       "      <td>Reporter</td>\n",
       "      <td>1956-12-19</td>\n",
       "      <td>F</td>\n",
       "      <td>NaN</td>\n",
       "      <td>NaN</td>\n",
       "      <td>Alice Barrett</td>\n",
       "      <td>43.0</td>\n",
       "      <td>Gay, Gay Interest, Gay Themed, LGBT</td>\n",
       "    </tr>\n",
       "  </tbody>\n",
       "</table>\n",
       "</div>"
      ],
      "text/plain": [
       "   wikipedia_m_ID                                             m_name  \\\n",
       "0          975900                                     Ghosts of Mars   \n",
       "1         3196793  Getting Away with Murder: The JonBenét Ramsey ...   \n",
       "\n",
       "  m_release_date  m_BO_revenue  m_runtime           m_languages  \\\n",
       "0     2001-08-24    14010832.0       98.0  ['English Language']   \n",
       "1     2000-02-16           NaN       95.0  ['English Language']   \n",
       "\n",
       "                m_countries  \\\n",
       "0  United States of America   \n",
       "1  United States of America   \n",
       "\n",
       "                                            m_genres character_name  \\\n",
       "0  ['Thriller', 'Science Fiction', 'Horror', 'Adv...       Akooshay   \n",
       "1  ['Mystery', 'Biographical film', 'Drama', 'Cri...       Reporter   \n",
       "\n",
       "    actor_dob actor_gender  actor_height actor_ethnicity      actor_name  \\\n",
       "0  1958-08-26            F          1.62             NaN  Wanda De Jesus   \n",
       "1  1956-12-19            F           NaN             NaN   Alice Barrett   \n",
       "\n",
       "   actor_age                                        m_genre_PCA  \n",
       "0       42.0  Documentary, Culture & Society, Gay, Gay Interest  \n",
       "1       43.0                Gay, Gay Interest, Gay Themed, LGBT  "
      ]
     },
     "execution_count": 5,
     "metadata": {},
     "output_type": "execute_result"
    }
   ],
   "source": [
    "df_movies=pd.read_csv(MOVIE_PATH, sep='\\t')\n",
    "df_movies['m_release_date']=pd.to_datetime(df_movies['m_release_date'], errors = 'coerce')\n",
    "df_movies.head(2)"
   ]
  },
  {
   "cell_type": "markdown",
   "id": "68d45c5c",
   "metadata": {},
   "source": [
    "### 1.4 The score function"
   ]
  },
  {
   "cell_type": "code",
   "execution_count": 6,
   "id": "adea5536",
   "metadata": {},
   "outputs": [
    {
     "data": {
      "text/html": [
       "<div>\n",
       "<style scoped>\n",
       "    .dataframe tbody tr th:only-of-type {\n",
       "        vertical-align: middle;\n",
       "    }\n",
       "\n",
       "    .dataframe tbody tr th {\n",
       "        vertical-align: top;\n",
       "    }\n",
       "\n",
       "    .dataframe thead th {\n",
       "        text-align: right;\n",
       "    }\n",
       "</style>\n",
       "<table border=\"1\" class=\"dataframe\">\n",
       "  <thead>\n",
       "    <tr style=\"text-align: right;\">\n",
       "      <th></th>\n",
       "      <th>actor_name</th>\n",
       "      <th>1980</th>\n",
       "      <th>1981</th>\n",
       "      <th>1982</th>\n",
       "      <th>1983</th>\n",
       "      <th>1984</th>\n",
       "      <th>1985</th>\n",
       "      <th>1986</th>\n",
       "      <th>1987</th>\n",
       "      <th>1988</th>\n",
       "      <th>...</th>\n",
       "      <th>2005</th>\n",
       "      <th>2006</th>\n",
       "      <th>2007</th>\n",
       "      <th>2008</th>\n",
       "      <th>2009</th>\n",
       "      <th>2010</th>\n",
       "      <th>2011</th>\n",
       "      <th>2012</th>\n",
       "      <th>min_year</th>\n",
       "      <th>min_year_score</th>\n",
       "    </tr>\n",
       "  </thead>\n",
       "  <tbody>\n",
       "    <tr>\n",
       "      <th>0</th>\n",
       "      <td>Jane Fonda</td>\n",
       "      <td>99.0</td>\n",
       "      <td>346.5</td>\n",
       "      <td>181.5</td>\n",
       "      <td>123.75</td>\n",
       "      <td>94.050000</td>\n",
       "      <td>75.900000</td>\n",
       "      <td>441.642857</td>\n",
       "      <td>243.803571</td>\n",
       "      <td>174.125000</td>\n",
       "      <td>...</td>\n",
       "      <td>892.587692</td>\n",
       "      <td>462.089744</td>\n",
       "      <td>317.717532</td>\n",
       "      <td>244.955719</td>\n",
       "      <td>200.891379</td>\n",
       "      <td>171.213548</td>\n",
       "      <td>149.784285</td>\n",
       "      <td>133.531250</td>\n",
       "      <td>0</td>\n",
       "      <td>0</td>\n",
       "    </tr>\n",
       "    <tr>\n",
       "      <th>1</th>\n",
       "      <td>Clint Eastwood</td>\n",
       "      <td>348.0</td>\n",
       "      <td>174.0</td>\n",
       "      <td>460.0</td>\n",
       "      <td>729.00</td>\n",
       "      <td>1755.266667</td>\n",
       "      <td>1706.666667</td>\n",
       "      <td>1880.347619</td>\n",
       "      <td>1189.833333</td>\n",
       "      <td>1686.509524</td>\n",
       "      <td>...</td>\n",
       "      <td>2139.009068</td>\n",
       "      <td>1715.610398</td>\n",
       "      <td>1470.104342</td>\n",
       "      <td>3616.394846</td>\n",
       "      <td>2334.278040</td>\n",
       "      <td>1850.068876</td>\n",
       "      <td>1576.740235</td>\n",
       "      <td>1825.545952</td>\n",
       "      <td>0</td>\n",
       "      <td>0</td>\n",
       "    </tr>\n",
       "  </tbody>\n",
       "</table>\n",
       "<p>2 rows × 36 columns</p>\n",
       "</div>"
      ],
      "text/plain": [
       "       actor_name   1980   1981   1982    1983         1984         1985  \\\n",
       "0      Jane Fonda   99.0  346.5  181.5  123.75    94.050000    75.900000   \n",
       "1  Clint Eastwood  348.0  174.0  460.0  729.00  1755.266667  1706.666667   \n",
       "\n",
       "          1986         1987         1988  ...         2005         2006  \\\n",
       "0   441.642857   243.803571   174.125000  ...   892.587692   462.089744   \n",
       "1  1880.347619  1189.833333  1686.509524  ...  2139.009068  1715.610398   \n",
       "\n",
       "          2007         2008         2009         2010         2011  \\\n",
       "0   317.717532   244.955719   200.891379   171.213548   149.784285   \n",
       "1  1470.104342  3616.394846  2334.278040  1850.068876  1576.740235   \n",
       "\n",
       "          2012  min_year  min_year_score  \n",
       "0   133.531250         0               0  \n",
       "1  1825.545952         0               0  \n",
       "\n",
       "[2 rows x 36 columns]"
      ]
     },
     "execution_count": 6,
     "metadata": {},
     "output_type": "execute_result"
    }
   ],
   "source": [
    "df_numbers=pd.read_csv(SCORE_FUNCTION_PATH, sep='\\t')\n",
    "df_numbers.head(2)"
   ]
  },
  {
   "cell_type": "markdown",
   "id": "d04b1e78",
   "metadata": {},
   "source": [
    "# 2. Features of movies computation"
   ]
  },
  {
   "cell_type": "markdown",
   "id": "e4695e4c",
   "metadata": {},
   "source": [
    "## 2.1 Number of actors per movie"
   ]
  },
  {
   "cell_type": "code",
   "execution_count": 7,
   "id": "9bc0d249",
   "metadata": {},
   "outputs": [],
   "source": [
    "#compute number of actors per movie\n",
    "nb_actors_per_movie = df_chars['wikipedia_m_ID'].value_counts().reset_index().copy()\n",
    "nb_actors_per_movie.rename({'wikipedia_m_ID': 'nb_actors', 'index': 'wikipedia_m_ID'}, axis=1, inplace=True)"
   ]
  },
  {
   "cell_type": "code",
   "execution_count": 8,
   "id": "d50f0654",
   "metadata": {},
   "outputs": [],
   "source": [
    "#add nb of actors per movie\n",
    "df_movies = df_movies.merge(nb_actors_per_movie, on='wikipedia_m_ID', how='left').copy()\n",
    "df_chars = df_chars.merge(nb_actors_per_movie, on='wikipedia_m_ID', how='left').copy()"
   ]
  },
  {
   "cell_type": "code",
   "execution_count": 9,
   "id": "3550c4a2",
   "metadata": {},
   "outputs": [
    {
     "name": "stdout",
     "output_type": "stream",
     "text": [
      "Number of unique movies in movies=24850 and in chars=24884 --> False\n"
     ]
    }
   ],
   "source": [
    "nb_unique_movies_in_movies = df_movies['wikipedia_m_ID'].nunique()\n",
    "nb_unique_movies_in_chars = df_chars['wikipedia_m_ID'].nunique()\n",
    "print(\"Number of unique movies in movies={} and in chars={} --> {}\".format(nb_unique_movies_in_movies, nb_unique_movies_in_chars, nb_unique_movies_in_movies==nb_unique_movies_in_chars))"
   ]
  },
  {
   "cell_type": "code",
   "execution_count": 10,
   "id": "7e770983",
   "metadata": {},
   "outputs": [
    {
     "data": {
      "image/png": "[encoded data removed]",
      "text/plain": [
       "<Figure size 1080x432 with 1 Axes>"
      ]
     },
     "metadata": {
      "needs_background": "light"
     },
     "output_type": "display_data"
    },
    {
     "name": "stdout",
     "output_type": "stream",
     "text": [
      "In average, there is 7.62 actors per movie among the american movies dataset with more than two actors.\n",
      "There are 24850 unique movies which have a known list of actors greater than 2.\n"
     ]
    }
   ],
   "source": [
    "#nb actors per movie\n",
    "plt.figure(figsize=(15, 6))\n",
    "sns.histplot(data=df_movies, x='nb_actors')\n",
    "plt.title(\"Distribution of the number of actors per movie\")\n",
    "plt.ylabel(\"Count\")\n",
    "plt.xlabel(\"Number of actors in movie\")\n",
    "plt.show()\n",
    "avg_nb_actors_per_movie = df_movies['nb_actors'].mean()\n",
    "nb_unique_movies_with_actors = df_movies['wikipedia_m_ID'].nunique()\n",
    "print(\"In average, there is {:.2f} actors per movie among the american movies dataset with more than two actors.\".format(avg_nb_actors_per_movie))\n",
    "print(\"There are {} unique movies which have a known list of actors greater than 2.\".format(nb_unique_movies_with_actors))"
   ]
  },
  {
   "cell_type": "markdown",
   "id": "98e76bda",
   "metadata": {},
   "source": [
    "## 2.2 Number of movies of actor when releasing movie"
   ]
  },
  {
   "cell_type": "code",
   "execution_count": 11,
   "id": "441c654e",
   "metadata": {},
   "outputs": [
    {
     "data": {
      "text/html": [
       "<div>\n",
       "<style scoped>\n",
       "    .dataframe tbody tr th:only-of-type {\n",
       "        vertical-align: middle;\n",
       "    }\n",
       "\n",
       "    .dataframe tbody tr th {\n",
       "        vertical-align: top;\n",
       "    }\n",
       "\n",
       "    .dataframe thead th {\n",
       "        text-align: right;\n",
       "    }\n",
       "</style>\n",
       "<table border=\"1\" class=\"dataframe\">\n",
       "  <thead>\n",
       "    <tr style=\"text-align: right;\">\n",
       "      <th></th>\n",
       "      <th>wikipedia_m_ID</th>\n",
       "      <th>m_release_date</th>\n",
       "      <th>character_name</th>\n",
       "      <th>actor_dob</th>\n",
       "      <th>actor_gender</th>\n",
       "      <th>actor_height</th>\n",
       "      <th>actor_ethnicity</th>\n",
       "      <th>actor_name</th>\n",
       "      <th>actor_age</th>\n",
       "      <th>m_name</th>\n",
       "      <th>...</th>\n",
       "      <th>2003</th>\n",
       "      <th>2004</th>\n",
       "      <th>2005</th>\n",
       "      <th>2006</th>\n",
       "      <th>2007</th>\n",
       "      <th>2008</th>\n",
       "      <th>2009</th>\n",
       "      <th>2010</th>\n",
       "      <th>2011</th>\n",
       "      <th>2012</th>\n",
       "    </tr>\n",
       "  </thead>\n",
       "  <tbody>\n",
       "    <tr>\n",
       "      <th>0</th>\n",
       "      <td>975900</td>\n",
       "      <td>2001-08-24</td>\n",
       "      <td>Akooshay</td>\n",
       "      <td>1958-08-26</td>\n",
       "      <td>F</td>\n",
       "      <td>1.620</td>\n",
       "      <td>NaN</td>\n",
       "      <td>Wanda De Jesus</td>\n",
       "      <td>42.0</td>\n",
       "      <td>Ghosts of Mars</td>\n",
       "      <td>...</td>\n",
       "      <td>NaN</td>\n",
       "      <td>NaN</td>\n",
       "      <td>NaN</td>\n",
       "      <td>NaN</td>\n",
       "      <td>NaN</td>\n",
       "      <td>NaN</td>\n",
       "      <td>NaN</td>\n",
       "      <td>NaN</td>\n",
       "      <td>NaN</td>\n",
       "      <td>NaN</td>\n",
       "    </tr>\n",
       "    <tr>\n",
       "      <th>1</th>\n",
       "      <td>975900</td>\n",
       "      <td>2001-08-24</td>\n",
       "      <td>Lieutenant Melanie Ballard</td>\n",
       "      <td>1974-08-15</td>\n",
       "      <td>F</td>\n",
       "      <td>1.780</td>\n",
       "      <td>/m/044038p</td>\n",
       "      <td>Natasha Henstridge</td>\n",
       "      <td>27.0</td>\n",
       "      <td>Ghosts of Mars</td>\n",
       "      <td>...</td>\n",
       "      <td>42.750000</td>\n",
       "      <td>34.200000</td>\n",
       "      <td>28.500000</td>\n",
       "      <td>24.428571</td>\n",
       "      <td>21.375000</td>\n",
       "      <td>19.000000</td>\n",
       "      <td>17.100000</td>\n",
       "      <td>15.545455</td>\n",
       "      <td>14.250000</td>\n",
       "      <td>13.153846</td>\n",
       "    </tr>\n",
       "    <tr>\n",
       "      <th>2</th>\n",
       "      <td>975900</td>\n",
       "      <td>2001-08-24</td>\n",
       "      <td>Desolation Williams</td>\n",
       "      <td>1969-06-15</td>\n",
       "      <td>M</td>\n",
       "      <td>1.727</td>\n",
       "      <td>/m/0x67</td>\n",
       "      <td>Ice Cube</td>\n",
       "      <td>32.0</td>\n",
       "      <td>Ghosts of Mars</td>\n",
       "      <td>...</td>\n",
       "      <td>1356.146032</td>\n",
       "      <td>2146.828571</td>\n",
       "      <td>3255.369913</td>\n",
       "      <td>1990.897222</td>\n",
       "      <td>2641.254319</td>\n",
       "      <td>2432.196392</td>\n",
       "      <td>1729.285333</td>\n",
       "      <td>1391.918606</td>\n",
       "      <td>1179.534513</td>\n",
       "      <td>1029.515124</td>\n",
       "    </tr>\n",
       "    <tr>\n",
       "      <th>3</th>\n",
       "      <td>975900</td>\n",
       "      <td>2001-08-24</td>\n",
       "      <td>Sgt Jericho Butler</td>\n",
       "      <td>1967-09-12</td>\n",
       "      <td>M</td>\n",
       "      <td>1.750</td>\n",
       "      <td>NaN</td>\n",
       "      <td>Jason Statham</td>\n",
       "      <td>33.0</td>\n",
       "      <td>Ghosts of Mars</td>\n",
       "      <td>...</td>\n",
       "      <td>645.500000</td>\n",
       "      <td>477.600000</td>\n",
       "      <td>715.333333</td>\n",
       "      <td>426.228571</td>\n",
       "      <td>311.050000</td>\n",
       "      <td>930.650794</td>\n",
       "      <td>546.942857</td>\n",
       "      <td>2009.549784</td>\n",
       "      <td>1152.650000</td>\n",
       "      <td>2576.304895</td>\n",
       "    </tr>\n",
       "    <tr>\n",
       "      <th>4</th>\n",
       "      <td>975900</td>\n",
       "      <td>2001-08-24</td>\n",
       "      <td>Bashira Kincaid</td>\n",
       "      <td>1977-09-25</td>\n",
       "      <td>F</td>\n",
       "      <td>1.650</td>\n",
       "      <td>NaN</td>\n",
       "      <td>Clea DuVall</td>\n",
       "      <td>23.0</td>\n",
       "      <td>Ghosts of Mars</td>\n",
       "      <td>...</td>\n",
       "      <td>764.333333</td>\n",
       "      <td>388.000000</td>\n",
       "      <td>261.583333</td>\n",
       "      <td>197.888889</td>\n",
       "      <td>159.400000</td>\n",
       "      <td>133.575758</td>\n",
       "      <td>115.023810</td>\n",
       "      <td>101.038462</td>\n",
       "      <td>90.111111</td>\n",
       "      <td>81.333333</td>\n",
       "    </tr>\n",
       "  </tbody>\n",
       "</table>\n",
       "<p>5 rows × 47 columns</p>\n",
       "</div>"
      ],
      "text/plain": [
       "   wikipedia_m_ID m_release_date              character_name   actor_dob  \\\n",
       "0          975900     2001-08-24                    Akooshay  1958-08-26   \n",
       "1          975900     2001-08-24  Lieutenant Melanie Ballard  1974-08-15   \n",
       "2          975900     2001-08-24         Desolation Williams  1969-06-15   \n",
       "3          975900     2001-08-24          Sgt Jericho Butler  1967-09-12   \n",
       "4          975900     2001-08-24             Bashira Kincaid  1977-09-25   \n",
       "\n",
       "  actor_gender  actor_height actor_ethnicity          actor_name  actor_age  \\\n",
       "0            F         1.620             NaN      Wanda De Jesus       42.0   \n",
       "1            F         1.780      /m/044038p  Natasha Henstridge       27.0   \n",
       "2            M         1.727         /m/0x67            Ice Cube       32.0   \n",
       "3            M         1.750             NaN       Jason Statham       33.0   \n",
       "4            F         1.650             NaN         Clea DuVall       23.0   \n",
       "\n",
       "           m_name  ...         2003         2004         2005         2006  \\\n",
       "0  Ghosts of Mars  ...          NaN          NaN          NaN          NaN   \n",
       "1  Ghosts of Mars  ...    42.750000    34.200000    28.500000    24.428571   \n",
       "2  Ghosts of Mars  ...  1356.146032  2146.828571  3255.369913  1990.897222   \n",
       "3  Ghosts of Mars  ...   645.500000   477.600000   715.333333   426.228571   \n",
       "4  Ghosts of Mars  ...   764.333333   388.000000   261.583333   197.888889   \n",
       "\n",
       "          2007         2008         2009         2010         2011  \\\n",
       "0          NaN          NaN          NaN          NaN          NaN   \n",
       "1    21.375000    19.000000    17.100000    15.545455    14.250000   \n",
       "2  2641.254319  2432.196392  1729.285333  1391.918606  1179.534513   \n",
       "3   311.050000   930.650794   546.942857  2009.549784  1152.650000   \n",
       "4   159.400000   133.575758   115.023810   101.038462    90.111111   \n",
       "\n",
       "          2012  \n",
       "0          NaN  \n",
       "1    13.153846  \n",
       "2  1029.515124  \n",
       "3  2576.304895  \n",
       "4    81.333333  \n",
       "\n",
       "[5 rows x 47 columns]"
      ]
     },
     "execution_count": 11,
     "metadata": {},
     "output_type": "execute_result"
    }
   ],
   "source": [
    "#merge: if known score, column of score is = score, otherwise = 0\n",
    "columns = df_numbers.columns\n",
    "df_chars_numbers = df_chars.merge(df_numbers[columns[:-2]], on=['actor_name'], how='left').copy()\n",
    "df_chars_numbers.head()"
   ]
  },
  {
   "cell_type": "code",
   "execution_count": 12,
   "id": "62cb4d49",
   "metadata": {},
   "outputs": [],
   "source": [
    "map_nb_movies_per_year = df_chars_numbers.groupby(['actor_name', 'm_release_year'])['wikipedia_m_ID'].count().reset_index()"
   ]
  },
  {
   "cell_type": "code",
   "execution_count": 13,
   "id": "00e49498",
   "metadata": {},
   "outputs": [],
   "source": [
    "year = range(1980, 2013)\n",
    "list_nb_movies_at_year = dict()\n",
    "for y in year:\n",
    "    filter_conditions = (\n",
    "        (map_nb_movies_per_year['m_release_year'] < y)\n",
    "    )\n",
    "    list_nb_movies = map_nb_movies_per_year.loc[filter_conditions]\n",
    "    list_nb_movies = list_nb_movies.groupby('actor_name')['wikipedia_m_ID'].sum()\n",
    "    list_nb_movies_at_year.update({y: list_nb_movies})"
   ]
  },
  {
   "cell_type": "code",
   "execution_count": 14,
   "id": "e2e0f8f3",
   "metadata": {},
   "outputs": [],
   "source": [
    "def get_nb_movies_each_year(row):\n",
    "    release_year = row['m_release_date'].year\n",
    "    actor_name = row['actor_name']\n",
    "    try:\n",
    "        df_tmp = list_nb_movies_at_year[release_year]\n",
    "        nb_movies = df_tmp[actor_name]\n",
    "        return nb_movies\n",
    "    except:\n",
    "        return 0"
   ]
  },
  {
   "cell_type": "code",
   "execution_count": 15,
   "id": "e95541ef",
   "metadata": {},
   "outputs": [],
   "source": [
    "df_chars_numbers['nb_movies_before_this_movie'] = df_chars_numbers.apply(lambda row: get_nb_movies_each_year(row), axis=1)"
   ]
  },
  {
   "cell_type": "markdown",
   "id": "59f9cf1e",
   "metadata": {},
   "source": [
    "## 2.3 Number of movies per decade"
   ]
  },
  {
   "cell_type": "code",
   "execution_count": 16,
   "id": "4df2a343",
   "metadata": {},
   "outputs": [],
   "source": [
    "nb_decades_lower = range(1980, 2030, 10)\n",
    "nb_decades_upper = range(1990, 2030, 10)\n",
    "list_decades = dict()\n",
    "for dec_lower, dec_upper in zip(nb_decades_lower, nb_decades_upper):\n",
    "    filter_conditions = (\n",
    "        (map_nb_movies_per_year['m_release_year'] >= dec_lower)&\n",
    "        (map_nb_movies_per_year['m_release_year'] < dec_upper)\n",
    "    )\n",
    "    list_dec = map_nb_movies_per_year.loc[filter_conditions]\n",
    "    list_dec = list_dec.groupby('actor_name')['wikipedia_m_ID'].count().reset_index()\n",
    "    list_dec['wikipedia_m_ID'] =list_dec['wikipedia_m_ID'].astype(int)\n",
    "    list_dec.rename({'wikipedia_m_ID': 'nb_movies_dec_{}_{}'.format(dec_lower, dec_upper)}, axis=1, inplace=True)\n",
    "    list_decades.update({range(dec_lower, dec_upper): list_dec})"
   ]
  },
  {
   "cell_type": "code",
   "execution_count": 17,
   "id": "81a7afcf",
   "metadata": {},
   "outputs": [],
   "source": [
    "for key, dec in list_decades.items():\n",
    "    df_chars_numbers = df_chars_numbers.merge(dec, on='actor_name', how='left')\n",
    "    df_chars_numbers['nb_movies_dec_{}_{}'.format(key.start, key.stop)].fillna(0, inplace=True)"
   ]
  },
  {
   "cell_type": "code",
   "execution_count": 18,
   "id": "6cd0c03e",
   "metadata": {},
   "outputs": [
    {
     "data": {
      "text/html": [
       "<div>\n",
       "<style scoped>\n",
       "    .dataframe tbody tr th:only-of-type {\n",
       "        vertical-align: middle;\n",
       "    }\n",
       "\n",
       "    .dataframe tbody tr th {\n",
       "        vertical-align: top;\n",
       "    }\n",
       "\n",
       "    .dataframe thead th {\n",
       "        text-align: right;\n",
       "    }\n",
       "</style>\n",
       "<table border=\"1\" class=\"dataframe\">\n",
       "  <thead>\n",
       "    <tr style=\"text-align: right;\">\n",
       "      <th></th>\n",
       "      <th>wikipedia_m_ID</th>\n",
       "      <th>m_release_date</th>\n",
       "      <th>character_name</th>\n",
       "      <th>actor_dob</th>\n",
       "      <th>actor_gender</th>\n",
       "      <th>actor_height</th>\n",
       "      <th>actor_ethnicity</th>\n",
       "      <th>actor_name</th>\n",
       "      <th>actor_age</th>\n",
       "      <th>m_name</th>\n",
       "      <th>...</th>\n",
       "      <th>2008</th>\n",
       "      <th>2009</th>\n",
       "      <th>2010</th>\n",
       "      <th>2011</th>\n",
       "      <th>2012</th>\n",
       "      <th>nb_movies_before_this_movie</th>\n",
       "      <th>nb_movies_dec_1980_1990</th>\n",
       "      <th>nb_movies_dec_1990_2000</th>\n",
       "      <th>nb_movies_dec_2000_2010</th>\n",
       "      <th>nb_movies_dec_2010_2020</th>\n",
       "    </tr>\n",
       "  </thead>\n",
       "  <tbody>\n",
       "    <tr>\n",
       "      <th>0</th>\n",
       "      <td>975900</td>\n",
       "      <td>2001-08-24</td>\n",
       "      <td>Akooshay</td>\n",
       "      <td>1958-08-26</td>\n",
       "      <td>F</td>\n",
       "      <td>1.62</td>\n",
       "      <td>NaN</td>\n",
       "      <td>Wanda De Jesus</td>\n",
       "      <td>42.0</td>\n",
       "      <td>Ghosts of Mars</td>\n",
       "      <td>...</td>\n",
       "      <td>NaN</td>\n",
       "      <td>NaN</td>\n",
       "      <td>NaN</td>\n",
       "      <td>NaN</td>\n",
       "      <td>NaN</td>\n",
       "      <td>3</td>\n",
       "      <td>0.0</td>\n",
       "      <td>2.0</td>\n",
       "      <td>4.0</td>\n",
       "      <td>0.0</td>\n",
       "    </tr>\n",
       "    <tr>\n",
       "      <th>1</th>\n",
       "      <td>975900</td>\n",
       "      <td>2001-08-24</td>\n",
       "      <td>Lieutenant Melanie Ballard</td>\n",
       "      <td>1974-08-15</td>\n",
       "      <td>F</td>\n",
       "      <td>1.78</td>\n",
       "      <td>/m/044038p</td>\n",
       "      <td>Natasha Henstridge</td>\n",
       "      <td>27.0</td>\n",
       "      <td>Ghosts of Mars</td>\n",
       "      <td>...</td>\n",
       "      <td>19.0</td>\n",
       "      <td>17.1</td>\n",
       "      <td>15.545455</td>\n",
       "      <td>14.25</td>\n",
       "      <td>13.153846</td>\n",
       "      <td>8</td>\n",
       "      <td>0.0</td>\n",
       "      <td>3.0</td>\n",
       "      <td>6.0</td>\n",
       "      <td>0.0</td>\n",
       "    </tr>\n",
       "  </tbody>\n",
       "</table>\n",
       "<p>2 rows × 52 columns</p>\n",
       "</div>"
      ],
      "text/plain": [
       "   wikipedia_m_ID m_release_date              character_name   actor_dob  \\\n",
       "0          975900     2001-08-24                    Akooshay  1958-08-26   \n",
       "1          975900     2001-08-24  Lieutenant Melanie Ballard  1974-08-15   \n",
       "\n",
       "  actor_gender  actor_height actor_ethnicity          actor_name  actor_age  \\\n",
       "0            F          1.62             NaN      Wanda De Jesus       42.0   \n",
       "1            F          1.78      /m/044038p  Natasha Henstridge       27.0   \n",
       "\n",
       "           m_name  ...  2008  2009       2010   2011       2012  \\\n",
       "0  Ghosts of Mars  ...   NaN   NaN        NaN    NaN        NaN   \n",
       "1  Ghosts of Mars  ...  19.0  17.1  15.545455  14.25  13.153846   \n",
       "\n",
       "   nb_movies_before_this_movie  nb_movies_dec_1980_1990  \\\n",
       "0                            3                      0.0   \n",
       "1                            8                      0.0   \n",
       "\n",
       "   nb_movies_dec_1990_2000  nb_movies_dec_2000_2010  nb_movies_dec_2010_2020  \n",
       "0                      2.0                      4.0                      0.0  \n",
       "1                      3.0                      6.0                      0.0  \n",
       "\n",
       "[2 rows x 52 columns]"
      ]
     },
     "execution_count": 18,
     "metadata": {},
     "output_type": "execute_result"
    }
   ],
   "source": [
    "df_chars_numbers.head(2)"
   ]
  },
  {
   "cell_type": "markdown",
   "id": "1d7b9320",
   "metadata": {},
   "source": [
    "## 2.4 Compute scores per actor at movie time"
   ]
  },
  {
   "cell_type": "code",
   "execution_count": 19,
   "id": "4fbee1b9",
   "metadata": {},
   "outputs": [],
   "source": [
    "df_chars_numbers = df_chars_numbers[df_chars_numbers['m_release_date'].dt.year > 1980].copy()"
   ]
  },
  {
   "cell_type": "code",
   "execution_count": 20,
   "id": "8f9c3b84",
   "metadata": {},
   "outputs": [
    {
     "name": "stdout",
     "output_type": "stream",
     "text": [
      "There are 13712 unique movies with coacting.\n"
     ]
    }
   ],
   "source": [
    "nb_unique_movies = df_chars_numbers['wikipedia_m_ID'].nunique()\n",
    "print(\"There are {} unique movies with coacting.\".format(nb_unique_movies))"
   ]
  },
  {
   "cell_type": "code",
   "execution_count": 21,
   "id": "bd784836",
   "metadata": {},
   "outputs": [],
   "source": [
    "def get_movie_actor_score(row):\n",
    "    val = row[str(row['m_release_year']-1)]\n",
    "    if val > 0:\n",
    "        return val\n",
    "    else:\n",
    "        return 0"
   ]
  },
  {
   "cell_type": "code",
   "execution_count": 22,
   "id": "3432de68",
   "metadata": {},
   "outputs": [],
   "source": [
    "df_chars_numbers['actor_score'] = df_chars_numbers.apply(lambda row: get_movie_actor_score(row), axis=1)"
   ]
  },
  {
   "cell_type": "code",
   "execution_count": 23,
   "id": "bdd410a5",
   "metadata": {},
   "outputs": [
    {
     "data": {
      "image/png": "[encoded data removed]",
      "text/plain": [
       "<Figure size 432x288 with 1 Axes>"
      ]
     },
     "metadata": {
      "needs_background": "light"
     },
     "output_type": "display_data"
    }
   ],
   "source": [
    "sns.scatterplot(data = df_chars_numbers.loc[(df_chars_numbers['actor_score']>0)].sort_values('actor_score').drop_duplicates('actor_name', keep='last'), y='nb_movies_before_this_movie', x='actor_score', hue=\"actor_gender\");"
   ]
  },
  {
   "cell_type": "code",
   "execution_count": 24,
   "id": "2ea32fae",
   "metadata": {},
   "outputs": [],
   "source": [
    "women_nb_movies_highest_score = df_chars_numbers.loc[(df_chars_numbers['actor_score']>0) & (df_chars_numbers['actor_gender']=='F')].sort_values('actor_score').drop_duplicates('actor_name', keep='last')['nb_movies_before_this_movie']\n",
    "men_nb_movies_highest_score = df_chars_numbers.loc[(df_chars_numbers['actor_score']>0) & (df_chars_numbers['actor_gender']=='M')].sort_values('actor_score').drop_duplicates('actor_name', keep='last')['nb_movies_before_this_movie']"
   ]
  },
  {
   "cell_type": "code",
   "execution_count": 25,
   "id": "499b7fd5",
   "metadata": {},
   "outputs": [
    {
     "name": "stdout",
     "output_type": "stream",
     "text": [
      "At the peak of their carreer, women had before performed 12.32 movies in average.\n",
      "At the peak of their carreer, men had before performed 16.21 movies in average.\n"
     ]
    },
    {
     "data": {
      "text/plain": [
       "Ttest_indResult(statistic=-5.362465244255523, pvalue=9.619260122200605e-08)"
      ]
     },
     "execution_count": 25,
     "metadata": {},
     "output_type": "execute_result"
    }
   ],
   "source": [
    "women_mean_nb_movies_highest_score = women_nb_movies_highest_score.mean()\n",
    "men_mean_nb_movies_highest_score = men_nb_movies_highest_score.mean()\n",
    "print(\"At the peak of their carreer, women had before performed {:.2f} movies in average.\".format(women_mean_nb_movies_highest_score))\n",
    "print(\"At the peak of their carreer, men had before performed {:.2f} movies in average.\".format(men_mean_nb_movies_highest_score))\n",
    "ttest_ind(women_nb_movies_highest_score, men_nb_movies_highest_score)"
   ]
  },
  {
   "cell_type": "code",
   "execution_count": 26,
   "id": "14e91e0b",
   "metadata": {},
   "outputs": [],
   "source": [
    "women_highest_score = df_chars_numbers.loc[(df_chars_numbers['actor_score']>0) & (df_chars_numbers['actor_gender']=='F')].sort_values('actor_score').drop_duplicates('actor_name', keep='last')['actor_score']\n",
    "men_highest_score = df_chars_numbers.loc[(df_chars_numbers['actor_score']>0) & (df_chars_numbers['actor_gender']=='M')].sort_values('actor_score').drop_duplicates('actor_name', keep='last')['actor_score']"
   ]
  },
  {
   "cell_type": "code",
   "execution_count": 27,
   "id": "7723612e",
   "metadata": {},
   "outputs": [
    {
     "name": "stdout",
     "output_type": "stream",
     "text": [
      "At the peak of their carreer, women have in average reached a score of 525.89.\n",
      "At the peak of their carreer, men have in average reached a score of 890.59.\n"
     ]
    },
    {
     "data": {
      "text/plain": [
       "Ttest_indResult(statistic=-4.022467941449092, pvalue=6.0723689662790975e-05)"
      ]
     },
     "execution_count": 27,
     "metadata": {},
     "output_type": "execute_result"
    }
   ],
   "source": [
    "women_mean_highest_score = women_highest_score.mean()\n",
    "men_mean_highest_score = men_highest_score.mean()\n",
    "print(\"At the peak of their carreer, women have in average reached a score of {:.2f}.\".format(women_mean_highest_score))\n",
    "print(\"At the peak of their carreer, men have in average reached a score of {:.2f}.\".format(men_mean_highest_score))\n",
    "ttest_ind(women_highest_score, men_highest_score)"
   ]
  },
  {
   "cell_type": "markdown",
   "id": "85d9229d",
   "metadata": {},
   "source": [
    "## 3.6 Compute movie features"
   ]
  },
  {
   "cell_type": "code",
   "execution_count": 28,
   "id": "741ddc38",
   "metadata": {},
   "outputs": [
    {
     "name": "stdout",
     "output_type": "stream",
     "text": [
      "There are 24701 unique actors with coacting.\n"
     ]
    }
   ],
   "source": [
    "nb_unique_actors = df_chars_numbers['actor_name'].nunique()\n",
    "print(\"There are {} unique actors with coacting.\".format(nb_unique_actors))"
   ]
  },
  {
   "cell_type": "code",
   "execution_count": 29,
   "id": "32637997",
   "metadata": {},
   "outputs": [
    {
     "data": {
      "text/html": [
       "<div>\n",
       "<style scoped>\n",
       "    .dataframe tbody tr th:only-of-type {\n",
       "        vertical-align: middle;\n",
       "    }\n",
       "\n",
       "    .dataframe tbody tr th {\n",
       "        vertical-align: top;\n",
       "    }\n",
       "\n",
       "    .dataframe thead th {\n",
       "        text-align: right;\n",
       "    }\n",
       "</style>\n",
       "<table border=\"1\" class=\"dataframe\">\n",
       "  <thead>\n",
       "    <tr style=\"text-align: right;\">\n",
       "      <th></th>\n",
       "      <th>wikipedia_m_ID</th>\n",
       "      <th>m_release_date</th>\n",
       "      <th>character_name</th>\n",
       "      <th>actor_dob</th>\n",
       "      <th>actor_gender</th>\n",
       "      <th>actor_height</th>\n",
       "      <th>actor_ethnicity</th>\n",
       "      <th>actor_name</th>\n",
       "      <th>actor_age</th>\n",
       "      <th>m_name</th>\n",
       "      <th>...</th>\n",
       "      <th>2009</th>\n",
       "      <th>2010</th>\n",
       "      <th>2011</th>\n",
       "      <th>2012</th>\n",
       "      <th>nb_movies_before_this_movie</th>\n",
       "      <th>nb_movies_dec_1980_1990</th>\n",
       "      <th>nb_movies_dec_1990_2000</th>\n",
       "      <th>nb_movies_dec_2000_2010</th>\n",
       "      <th>nb_movies_dec_2010_2020</th>\n",
       "      <th>actor_score</th>\n",
       "    </tr>\n",
       "  </thead>\n",
       "  <tbody>\n",
       "    <tr>\n",
       "      <th>0</th>\n",
       "      <td>975900</td>\n",
       "      <td>2001-08-24</td>\n",
       "      <td>Akooshay</td>\n",
       "      <td>1958-08-26</td>\n",
       "      <td>F</td>\n",
       "      <td>1.62</td>\n",
       "      <td>NaN</td>\n",
       "      <td>Wanda De Jesus</td>\n",
       "      <td>42.0</td>\n",
       "      <td>Ghosts of Mars</td>\n",
       "      <td>...</td>\n",
       "      <td>NaN</td>\n",
       "      <td>NaN</td>\n",
       "      <td>NaN</td>\n",
       "      <td>NaN</td>\n",
       "      <td>3</td>\n",
       "      <td>0.0</td>\n",
       "      <td>2.0</td>\n",
       "      <td>4.0</td>\n",
       "      <td>0.0</td>\n",
       "      <td>0.0</td>\n",
       "    </tr>\n",
       "    <tr>\n",
       "      <th>1</th>\n",
       "      <td>975900</td>\n",
       "      <td>2001-08-24</td>\n",
       "      <td>Lieutenant Melanie Ballard</td>\n",
       "      <td>1974-08-15</td>\n",
       "      <td>F</td>\n",
       "      <td>1.78</td>\n",
       "      <td>/m/044038p</td>\n",
       "      <td>Natasha Henstridge</td>\n",
       "      <td>27.0</td>\n",
       "      <td>Ghosts of Mars</td>\n",
       "      <td>...</td>\n",
       "      <td>17.1</td>\n",
       "      <td>15.545455</td>\n",
       "      <td>14.25</td>\n",
       "      <td>13.153846</td>\n",
       "      <td>8</td>\n",
       "      <td>0.0</td>\n",
       "      <td>3.0</td>\n",
       "      <td>6.0</td>\n",
       "      <td>0.0</td>\n",
       "      <td>171.0</td>\n",
       "    </tr>\n",
       "  </tbody>\n",
       "</table>\n",
       "<p>2 rows × 53 columns</p>\n",
       "</div>"
      ],
      "text/plain": [
       "   wikipedia_m_ID m_release_date              character_name   actor_dob  \\\n",
       "0          975900     2001-08-24                    Akooshay  1958-08-26   \n",
       "1          975900     2001-08-24  Lieutenant Melanie Ballard  1974-08-15   \n",
       "\n",
       "  actor_gender  actor_height actor_ethnicity          actor_name  actor_age  \\\n",
       "0            F          1.62             NaN      Wanda De Jesus       42.0   \n",
       "1            F          1.78      /m/044038p  Natasha Henstridge       27.0   \n",
       "\n",
       "           m_name  ...  2009       2010   2011       2012  \\\n",
       "0  Ghosts of Mars  ...   NaN        NaN    NaN        NaN   \n",
       "1  Ghosts of Mars  ...  17.1  15.545455  14.25  13.153846   \n",
       "\n",
       "   nb_movies_before_this_movie  nb_movies_dec_1980_1990  \\\n",
       "0                            3                      0.0   \n",
       "1                            8                      0.0   \n",
       "\n",
       "   nb_movies_dec_1990_2000  nb_movies_dec_2000_2010  nb_movies_dec_2010_2020  \\\n",
       "0                      2.0                      4.0                      0.0   \n",
       "1                      3.0                      6.0                      0.0   \n",
       "\n",
       "   actor_score  \n",
       "0          0.0  \n",
       "1        171.0  \n",
       "\n",
       "[2 rows x 53 columns]"
      ]
     },
     "execution_count": 29,
     "metadata": {},
     "output_type": "execute_result"
    }
   ],
   "source": [
    "df_chars_numbers.head(2)"
   ]
  },
  {
   "cell_type": "code",
   "execution_count": 30,
   "id": "8f1d8548",
   "metadata": {},
   "outputs": [],
   "source": [
    "columns = ['wikipedia_m_ID', 'actor_name', 'actor_gender', 'actor_score']\n",
    "df_temp = df_chars_numbers.copy()\n",
    "df_temp['actor_score'] = df_temp['actor_score'].astype(str)\n",
    "df_temp['actor_gender'] = df_temp['actor_gender'].astype(str)\n",
    "df_movies_features = df_temp[columns].groupby('wikipedia_m_ID').agg({'actor_name':'$l$'.join,'actor_gender':'$l$'.join, 'actor_score':'$l$'.join})"
   ]
  },
  {
   "cell_type": "code",
   "execution_count": 31,
   "id": "28645beb",
   "metadata": {},
   "outputs": [
    {
     "data": {
      "text/html": [
       "<div>\n",
       "<style scoped>\n",
       "    .dataframe tbody tr th:only-of-type {\n",
       "        vertical-align: middle;\n",
       "    }\n",
       "\n",
       "    .dataframe tbody tr th {\n",
       "        vertical-align: top;\n",
       "    }\n",
       "\n",
       "    .dataframe thead th {\n",
       "        text-align: right;\n",
       "    }\n",
       "</style>\n",
       "<table border=\"1\" class=\"dataframe\">\n",
       "  <thead>\n",
       "    <tr style=\"text-align: right;\">\n",
       "      <th></th>\n",
       "      <th>actor_name</th>\n",
       "      <th>actor_gender</th>\n",
       "      <th>actor_score</th>\n",
       "    </tr>\n",
       "    <tr>\n",
       "      <th>wikipedia_m_ID</th>\n",
       "      <th></th>\n",
       "      <th></th>\n",
       "      <th></th>\n",
       "    </tr>\n",
       "  </thead>\n",
       "  <tbody>\n",
       "    <tr>\n",
       "      <th>3217</th>\n",
       "      <td>Ted Raimi$l$Ivan Raimi$l$Bruce Campbell$l$Brid...</td>\n",
       "      <td>M$l$M$l$M$l$F$l$F$l$F$l$M$l$M$l$M</td>\n",
       "      <td>0.0$l$0.0$l$0.0$l$0.0$l$0.0$l$0.0$l$0.0$l$0.0$...</td>\n",
       "    </tr>\n",
       "    <tr>\n",
       "      <th>3746</th>\n",
       "      <td>William Sanderson$l$Harrison Ford$l$Rutger Hau...</td>\n",
       "      <td>M$l$M$l$M$l$F$l$F$l$F$l$M$l$M$l$M$l$M$l$M$l$M$l$M</td>\n",
       "      <td>0.0$l$250.0$l$0.0$l$0.0$l$0.0$l$0.0$l$0.0$l$0....</td>\n",
       "    </tr>\n",
       "    <tr>\n",
       "      <th>3947</th>\n",
       "      <td>Isabella Rossellini$l$Kyle MacLachlan$l$Dennis...</td>\n",
       "      <td>F$l$M$l$M$l$F$l$F$l$M$l$M$l$F$l$F$l$M$l$M</td>\n",
       "      <td>0.0$l$34.5$l$0.0$l$0.0$l$0.0$l$0.0$l$0.0$l$0.0...</td>\n",
       "    </tr>\n",
       "    <tr>\n",
       "      <th>4231</th>\n",
       "      <td>Kristy Swanson$l$Donald Sutherland$l$Paul Reub...</td>\n",
       "      <td>F$l$M$l$M$l$M$l$M$l$F$l$M$l$M$l$M$l$M$l$F$l$F$...</td>\n",
       "      <td>0.0$l$0.0$l$11.571428571428571$l$15.7142857142...</td>\n",
       "    </tr>\n",
       "    <tr>\n",
       "      <th>4560</th>\n",
       "      <td>Tommy Flanagan$l$Sean Lawlor$l$Sophie Marceau$...</td>\n",
       "      <td>M$l$M$l$F$l$M$l$M$l$M$l$M$l$M$l$M$l$M$l$M$l$M$...</td>\n",
       "      <td>0.0$l$0.0$l$0.0$l$0.0$l$2844.061904761905$l$0....</td>\n",
       "    </tr>\n",
       "    <tr>\n",
       "      <th>...</th>\n",
       "      <td>...</td>\n",
       "      <td>...</td>\n",
       "      <td>...</td>\n",
       "    </tr>\n",
       "    <tr>\n",
       "      <th>36619262</th>\n",
       "      <td>Leonardo Nam$l$Gillian Jacobs$l$Peter Scanavino</td>\n",
       "      <td>M$l$F$l$M</td>\n",
       "      <td>0.0$l$0.0$l$0.0</td>\n",
       "    </tr>\n",
       "    <tr>\n",
       "      <th>36724042</th>\n",
       "      <td>John Barrowman$l$Ryan Cutrona$l$Bashar Rahal</td>\n",
       "      <td>M$l$M$l$M</td>\n",
       "      <td>0.0$l$0.0$l$0.0</td>\n",
       "    </tr>\n",
       "    <tr>\n",
       "      <th>36956792</th>\n",
       "      <td>Bruce Allpress$l$Ben Chaplin$l$Brian Cox$l$Ale...</td>\n",
       "      <td>M$l$M$l$M$l$M$l$M$l$M$l$M$l$M$l$F$l$F</td>\n",
       "      <td>0.0$l$4.666666666666667$l$0.0$l$0.0$l$0.0$l$0....</td>\n",
       "    </tr>\n",
       "    <tr>\n",
       "      <th>37373877</th>\n",
       "      <td>Gabrielle Anwar$l$Traci Lords$l$Dina Meyer$l$G...</td>\n",
       "      <td>F$l$F$l$F$l$M$l$M</td>\n",
       "      <td>0.0$l$0.0$l$1.4545454545454546$l$0.0$l$0.93333...</td>\n",
       "    </tr>\n",
       "    <tr>\n",
       "      <th>37501922</th>\n",
       "      <td>Luke Perry$l$Alexis Arquette</td>\n",
       "      <td>M$l$F</td>\n",
       "      <td>0.0$l$0.0</td>\n",
       "    </tr>\n",
       "  </tbody>\n",
       "</table>\n",
       "<p>13712 rows × 3 columns</p>\n",
       "</div>"
      ],
      "text/plain": [
       "                                                       actor_name  \\\n",
       "wikipedia_m_ID                                                      \n",
       "3217            Ted Raimi$l$Ivan Raimi$l$Bruce Campbell$l$Brid...   \n",
       "3746            William Sanderson$l$Harrison Ford$l$Rutger Hau...   \n",
       "3947            Isabella Rossellini$l$Kyle MacLachlan$l$Dennis...   \n",
       "4231            Kristy Swanson$l$Donald Sutherland$l$Paul Reub...   \n",
       "4560            Tommy Flanagan$l$Sean Lawlor$l$Sophie Marceau$...   \n",
       "...                                                           ...   \n",
       "36619262          Leonardo Nam$l$Gillian Jacobs$l$Peter Scanavino   \n",
       "36724042             John Barrowman$l$Ryan Cutrona$l$Bashar Rahal   \n",
       "36956792        Bruce Allpress$l$Ben Chaplin$l$Brian Cox$l$Ale...   \n",
       "37373877        Gabrielle Anwar$l$Traci Lords$l$Dina Meyer$l$G...   \n",
       "37501922                             Luke Perry$l$Alexis Arquette   \n",
       "\n",
       "                                                     actor_gender  \\\n",
       "wikipedia_m_ID                                                      \n",
       "3217                            M$l$M$l$M$l$F$l$F$l$F$l$M$l$M$l$M   \n",
       "3746            M$l$M$l$M$l$F$l$F$l$F$l$M$l$M$l$M$l$M$l$M$l$M$l$M   \n",
       "3947                    F$l$M$l$M$l$F$l$F$l$M$l$M$l$F$l$F$l$M$l$M   \n",
       "4231            F$l$M$l$M$l$M$l$M$l$F$l$M$l$M$l$M$l$M$l$F$l$F$...   \n",
       "4560            M$l$M$l$F$l$M$l$M$l$M$l$M$l$M$l$M$l$M$l$M$l$M$...   \n",
       "...                                                           ...   \n",
       "36619262                                                M$l$F$l$M   \n",
       "36724042                                                M$l$M$l$M   \n",
       "36956792                    M$l$M$l$M$l$M$l$M$l$M$l$M$l$M$l$F$l$F   \n",
       "37373877                                        F$l$F$l$F$l$M$l$M   \n",
       "37501922                                                    M$l$F   \n",
       "\n",
       "                                                      actor_score  \n",
       "wikipedia_m_ID                                                     \n",
       "3217            0.0$l$0.0$l$0.0$l$0.0$l$0.0$l$0.0$l$0.0$l$0.0$...  \n",
       "3746            0.0$l$250.0$l$0.0$l$0.0$l$0.0$l$0.0$l$0.0$l$0....  \n",
       "3947            0.0$l$34.5$l$0.0$l$0.0$l$0.0$l$0.0$l$0.0$l$0.0...  \n",
       "4231            0.0$l$0.0$l$11.571428571428571$l$15.7142857142...  \n",
       "4560            0.0$l$0.0$l$0.0$l$0.0$l$2844.061904761905$l$0....  \n",
       "...                                                           ...  \n",
       "36619262                                          0.0$l$0.0$l$0.0  \n",
       "36724042                                          0.0$l$0.0$l$0.0  \n",
       "36956792        0.0$l$4.666666666666667$l$0.0$l$0.0$l$0.0$l$0....  \n",
       "37373877        0.0$l$0.0$l$1.4545454545454546$l$0.0$l$0.93333...  \n",
       "37501922                                                0.0$l$0.0  \n",
       "\n",
       "[13712 rows x 3 columns]"
      ]
     },
     "execution_count": 31,
     "metadata": {},
     "output_type": "execute_result"
    }
   ],
   "source": [
    "df_movies_features"
   ]
  },
  {
   "cell_type": "code",
   "execution_count": 32,
   "id": "34219047",
   "metadata": {},
   "outputs": [],
   "source": [
    "def get_function_of_list_values(list_values, function, gender=None):\n",
    "    list_split = list_values.split('$l$')\n",
    "    list_split = [float(x) for x in list_split]\n",
    "    if function == 'max':\n",
    "        return max(list_split)\n",
    "    if function == 'min':\n",
    "        return min(list_split)\n",
    "    if function == 'mean':\n",
    "        return np.mean(list_split)\n",
    "    if function == 'median':\n",
    "        return np.median(list_split)\n",
    "    if function == 'nb_famous_actors' or function == 'nb_actors_already_played':\n",
    "        return np.count_nonzero(list_split)\n",
    "    if function == 'prop_famous_actors' or function == 'prop_nb_movies':\n",
    "        return (np.count_nonzero(list_split))/float(len(list_split))"
   ]
  },
  {
   "cell_type": "code",
   "execution_count": 33,
   "id": "2b5d6024",
   "metadata": {},
   "outputs": [],
   "source": [
    "def get_function_of_list_values_condition(row, function, gender_cat=None):\n",
    "    list_temp = row['actor_score'].split('$l$')\n",
    "    gender_split = row['actor_gender'].split('$l$')\n",
    "    list_temp = [float(x) for x in list_temp]\n",
    "    list_split = []\n",
    "    for x, gender in zip(list_temp, gender_split):\n",
    "        if gender == gender_cat:\n",
    "            list_split.append(x)\n",
    "    if len(list_split) == 0:\n",
    "        return np.nan\n",
    "    if function == 'max':\n",
    "        return max(list_split)\n",
    "    if function == 'min':\n",
    "        return min(list_split)\n",
    "    if function == 'mean':\n",
    "        return np.mean(list_split)\n",
    "    if function == 'median':\n",
    "        return np.median(list_split)\n",
    "    if function == 'nb_famous_actors' or function == 'nb_actors_already_played':\n",
    "        return np.count_nonzero(list_split)\n",
    "    if function == 'prop_famous_actors' or function == 'prop_nb_movies':\n",
    "        try:\n",
    "            return (np.count_nonzero(list_split))/np.count_nonzero(list_temp)\n",
    "        except:\n",
    "            return 0"
   ]
  },
  {
   "cell_type": "code",
   "execution_count": 34,
   "id": "13ea158f",
   "metadata": {},
   "outputs": [],
   "source": [
    "list_function_score = ['max', 'min', 'mean', 'median', 'nb_famous_actors', 'prop_famous_actors']\n",
    "for f in list_function_score:\n",
    "    df_movies_features['score_'+f] = df_movies_features['actor_score'].apply(lambda x: get_function_of_list_values(x, f))"
   ]
  },
  {
   "cell_type": "code",
   "execution_count": 35,
   "id": "1c4cb91c",
   "metadata": {},
   "outputs": [],
   "source": [
    "list_function_score = ['max', 'min', 'mean', 'median', 'nb_famous_actors', 'prop_famous_actors']\n",
    "gender_list = ['M', 'F']\n",
    "for gender in gender_list:\n",
    "    for f in list_function_score:\n",
    "        df_movies_features[gender+'_'+f] = df_movies_features.apply(lambda row: get_function_of_list_values_condition(row, f, gender), axis=1)\n"
   ]
  },
  {
   "cell_type": "code",
   "execution_count": 36,
   "id": "5437eb7f",
   "metadata": {},
   "outputs": [
    {
     "data": {
      "text/html": [
       "<div>\n",
       "<style scoped>\n",
       "    .dataframe tbody tr th:only-of-type {\n",
       "        vertical-align: middle;\n",
       "    }\n",
       "\n",
       "    .dataframe tbody tr th {\n",
       "        vertical-align: top;\n",
       "    }\n",
       "\n",
       "    .dataframe thead th {\n",
       "        text-align: right;\n",
       "    }\n",
       "</style>\n",
       "<table border=\"1\" class=\"dataframe\">\n",
       "  <thead>\n",
       "    <tr style=\"text-align: right;\">\n",
       "      <th></th>\n",
       "      <th>actor_name</th>\n",
       "      <th>actor_gender</th>\n",
       "      <th>actor_score</th>\n",
       "      <th>score_max</th>\n",
       "      <th>score_min</th>\n",
       "      <th>score_mean</th>\n",
       "      <th>score_median</th>\n",
       "      <th>score_nb_famous_actors</th>\n",
       "      <th>score_prop_famous_actors</th>\n",
       "      <th>M_max</th>\n",
       "      <th>...</th>\n",
       "      <th>M_mean</th>\n",
       "      <th>M_median</th>\n",
       "      <th>M_nb_famous_actors</th>\n",
       "      <th>M_prop_famous_actors</th>\n",
       "      <th>F_max</th>\n",
       "      <th>F_min</th>\n",
       "      <th>F_mean</th>\n",
       "      <th>F_median</th>\n",
       "      <th>F_nb_famous_actors</th>\n",
       "      <th>F_prop_famous_actors</th>\n",
       "    </tr>\n",
       "    <tr>\n",
       "      <th>wikipedia_m_ID</th>\n",
       "      <th></th>\n",
       "      <th></th>\n",
       "      <th></th>\n",
       "      <th></th>\n",
       "      <th></th>\n",
       "      <th></th>\n",
       "      <th></th>\n",
       "      <th></th>\n",
       "      <th></th>\n",
       "      <th></th>\n",
       "      <th></th>\n",
       "      <th></th>\n",
       "      <th></th>\n",
       "      <th></th>\n",
       "      <th></th>\n",
       "      <th></th>\n",
       "      <th></th>\n",
       "      <th></th>\n",
       "      <th></th>\n",
       "      <th></th>\n",
       "      <th></th>\n",
       "    </tr>\n",
       "  </thead>\n",
       "  <tbody>\n",
       "    <tr>\n",
       "      <th>3217</th>\n",
       "      <td>Ted Raimi$l$Ivan Raimi$l$Bruce Campbell$l$Brid...</td>\n",
       "      <td>M$l$M$l$M$l$F$l$F$l$F$l$M$l$M$l$M</td>\n",
       "      <td>0.0$l$0.0$l$0.0$l$0.0$l$0.0$l$0.0$l$0.0$l$0.0$...</td>\n",
       "      <td>0.000000</td>\n",
       "      <td>0.0</td>\n",
       "      <td>0.000000</td>\n",
       "      <td>0.0</td>\n",
       "      <td>0</td>\n",
       "      <td>0.000000</td>\n",
       "      <td>0.000000</td>\n",
       "      <td>...</td>\n",
       "      <td>0.000000</td>\n",
       "      <td>0.0</td>\n",
       "      <td>0.0</td>\n",
       "      <td>0.0</td>\n",
       "      <td>0.0</td>\n",
       "      <td>0.0</td>\n",
       "      <td>0.0</td>\n",
       "      <td>0.0</td>\n",
       "      <td>0.0</td>\n",
       "      <td>0.0</td>\n",
       "    </tr>\n",
       "    <tr>\n",
       "      <th>3746</th>\n",
       "      <td>William Sanderson$l$Harrison Ford$l$Rutger Hau...</td>\n",
       "      <td>M$l$M$l$M$l$F$l$F$l$F$l$M$l$M$l$M$l$M$l$M$l$M$l$M</td>\n",
       "      <td>0.0$l$250.0$l$0.0$l$0.0$l$0.0$l$0.0$l$0.0$l$0....</td>\n",
       "      <td>250.000000</td>\n",
       "      <td>0.0</td>\n",
       "      <td>19.230769</td>\n",
       "      <td>0.0</td>\n",
       "      <td>1</td>\n",
       "      <td>0.076923</td>\n",
       "      <td>250.000000</td>\n",
       "      <td>...</td>\n",
       "      <td>25.000000</td>\n",
       "      <td>0.0</td>\n",
       "      <td>1.0</td>\n",
       "      <td>1.0</td>\n",
       "      <td>0.0</td>\n",
       "      <td>0.0</td>\n",
       "      <td>0.0</td>\n",
       "      <td>0.0</td>\n",
       "      <td>0.0</td>\n",
       "      <td>0.0</td>\n",
       "    </tr>\n",
       "    <tr>\n",
       "      <th>3947</th>\n",
       "      <td>Isabella Rossellini$l$Kyle MacLachlan$l$Dennis...</td>\n",
       "      <td>F$l$M$l$M$l$F$l$F$l$M$l$M$l$F$l$F$l$M$l$M</td>\n",
       "      <td>0.0$l$34.5$l$0.0$l$0.0$l$0.0$l$0.0$l$0.0$l$0.0...</td>\n",
       "      <td>34.500000</td>\n",
       "      <td>0.0</td>\n",
       "      <td>3.136364</td>\n",
       "      <td>0.0</td>\n",
       "      <td>1</td>\n",
       "      <td>0.090909</td>\n",
       "      <td>34.500000</td>\n",
       "      <td>...</td>\n",
       "      <td>5.750000</td>\n",
       "      <td>0.0</td>\n",
       "      <td>1.0</td>\n",
       "      <td>1.0</td>\n",
       "      <td>0.0</td>\n",
       "      <td>0.0</td>\n",
       "      <td>0.0</td>\n",
       "      <td>0.0</td>\n",
       "      <td>0.0</td>\n",
       "      <td>0.0</td>\n",
       "    </tr>\n",
       "    <tr>\n",
       "      <th>4231</th>\n",
       "      <td>Kristy Swanson$l$Donald Sutherland$l$Paul Reub...</td>\n",
       "      <td>F$l$M$l$M$l$M$l$M$l$F$l$M$l$M$l$M$l$M$l$F$l$F$...</td>\n",
       "      <td>0.0$l$0.0$l$11.571428571428571$l$15.7142857142...</td>\n",
       "      <td>15.714286</td>\n",
       "      <td>0.0</td>\n",
       "      <td>1.948980</td>\n",
       "      <td>0.0</td>\n",
       "      <td>2</td>\n",
       "      <td>0.142857</td>\n",
       "      <td>15.714286</td>\n",
       "      <td>...</td>\n",
       "      <td>3.031746</td>\n",
       "      <td>0.0</td>\n",
       "      <td>2.0</td>\n",
       "      <td>1.0</td>\n",
       "      <td>0.0</td>\n",
       "      <td>0.0</td>\n",
       "      <td>0.0</td>\n",
       "      <td>0.0</td>\n",
       "      <td>0.0</td>\n",
       "      <td>0.0</td>\n",
       "    </tr>\n",
       "    <tr>\n",
       "      <th>4560</th>\n",
       "      <td>Tommy Flanagan$l$Sean Lawlor$l$Sophie Marceau$...</td>\n",
       "      <td>M$l$M$l$F$l$M$l$M$l$M$l$M$l$M$l$M$l$M$l$M$l$M$...</td>\n",
       "      <td>0.0$l$0.0$l$0.0$l$0.0$l$2844.061904761905$l$0....</td>\n",
       "      <td>2844.061905</td>\n",
       "      <td>0.0</td>\n",
       "      <td>189.604127</td>\n",
       "      <td>0.0</td>\n",
       "      <td>1</td>\n",
       "      <td>0.066667</td>\n",
       "      <td>2844.061905</td>\n",
       "      <td>...</td>\n",
       "      <td>218.773993</td>\n",
       "      <td>0.0</td>\n",
       "      <td>1.0</td>\n",
       "      <td>1.0</td>\n",
       "      <td>0.0</td>\n",
       "      <td>0.0</td>\n",
       "      <td>0.0</td>\n",
       "      <td>0.0</td>\n",
       "      <td>0.0</td>\n",
       "      <td>0.0</td>\n",
       "    </tr>\n",
       "  </tbody>\n",
       "</table>\n",
       "<p>5 rows × 21 columns</p>\n",
       "</div>"
      ],
      "text/plain": [
       "                                                       actor_name  \\\n",
       "wikipedia_m_ID                                                      \n",
       "3217            Ted Raimi$l$Ivan Raimi$l$Bruce Campbell$l$Brid...   \n",
       "3746            William Sanderson$l$Harrison Ford$l$Rutger Hau...   \n",
       "3947            Isabella Rossellini$l$Kyle MacLachlan$l$Dennis...   \n",
       "4231            Kristy Swanson$l$Donald Sutherland$l$Paul Reub...   \n",
       "4560            Tommy Flanagan$l$Sean Lawlor$l$Sophie Marceau$...   \n",
       "\n",
       "                                                     actor_gender  \\\n",
       "wikipedia_m_ID                                                      \n",
       "3217                            M$l$M$l$M$l$F$l$F$l$F$l$M$l$M$l$M   \n",
       "3746            M$l$M$l$M$l$F$l$F$l$F$l$M$l$M$l$M$l$M$l$M$l$M$l$M   \n",
       "3947                    F$l$M$l$M$l$F$l$F$l$M$l$M$l$F$l$F$l$M$l$M   \n",
       "4231            F$l$M$l$M$l$M$l$M$l$F$l$M$l$M$l$M$l$M$l$F$l$F$...   \n",
       "4560            M$l$M$l$F$l$M$l$M$l$M$l$M$l$M$l$M$l$M$l$M$l$M$...   \n",
       "\n",
       "                                                      actor_score  \\\n",
       "wikipedia_m_ID                                                      \n",
       "3217            0.0$l$0.0$l$0.0$l$0.0$l$0.0$l$0.0$l$0.0$l$0.0$...   \n",
       "3746            0.0$l$250.0$l$0.0$l$0.0$l$0.0$l$0.0$l$0.0$l$0....   \n",
       "3947            0.0$l$34.5$l$0.0$l$0.0$l$0.0$l$0.0$l$0.0$l$0.0...   \n",
       "4231            0.0$l$0.0$l$11.571428571428571$l$15.7142857142...   \n",
       "4560            0.0$l$0.0$l$0.0$l$0.0$l$2844.061904761905$l$0....   \n",
       "\n",
       "                  score_max  score_min  score_mean  score_median  \\\n",
       "wikipedia_m_ID                                                     \n",
       "3217               0.000000        0.0    0.000000           0.0   \n",
       "3746             250.000000        0.0   19.230769           0.0   \n",
       "3947              34.500000        0.0    3.136364           0.0   \n",
       "4231              15.714286        0.0    1.948980           0.0   \n",
       "4560            2844.061905        0.0  189.604127           0.0   \n",
       "\n",
       "                score_nb_famous_actors  score_prop_famous_actors        M_max  \\\n",
       "wikipedia_m_ID                                                                  \n",
       "3217                                 0                  0.000000     0.000000   \n",
       "3746                                 1                  0.076923   250.000000   \n",
       "3947                                 1                  0.090909    34.500000   \n",
       "4231                                 2                  0.142857    15.714286   \n",
       "4560                                 1                  0.066667  2844.061905   \n",
       "\n",
       "                ...      M_mean  M_median  M_nb_famous_actors  \\\n",
       "wikipedia_m_ID  ...                                             \n",
       "3217            ...    0.000000       0.0                 0.0   \n",
       "3746            ...   25.000000       0.0                 1.0   \n",
       "3947            ...    5.750000       0.0                 1.0   \n",
       "4231            ...    3.031746       0.0                 2.0   \n",
       "4560            ...  218.773993       0.0                 1.0   \n",
       "\n",
       "                M_prop_famous_actors  F_max  F_min  F_mean  F_median  \\\n",
       "wikipedia_m_ID                                                         \n",
       "3217                             0.0    0.0    0.0     0.0       0.0   \n",
       "3746                             1.0    0.0    0.0     0.0       0.0   \n",
       "3947                             1.0    0.0    0.0     0.0       0.0   \n",
       "4231                             1.0    0.0    0.0     0.0       0.0   \n",
       "4560                             1.0    0.0    0.0     0.0       0.0   \n",
       "\n",
       "                F_nb_famous_actors  F_prop_famous_actors  \n",
       "wikipedia_m_ID                                            \n",
       "3217                           0.0                   0.0  \n",
       "3746                           0.0                   0.0  \n",
       "3947                           0.0                   0.0  \n",
       "4231                           0.0                   0.0  \n",
       "4560                           0.0                   0.0  \n",
       "\n",
       "[5 rows x 21 columns]"
      ]
     },
     "execution_count": 36,
     "metadata": {},
     "output_type": "execute_result"
    }
   ],
   "source": [
    "df_movies_features.head()"
   ]
  },
  {
   "cell_type": "markdown",
   "id": "6f9ee06d",
   "metadata": {},
   "source": [
    "# 3. Actors dataset preparation"
   ]
  },
  {
   "cell_type": "code",
   "execution_count": 37,
   "id": "5d2376e3",
   "metadata": {},
   "outputs": [],
   "source": [
    "list_columns = ['score_'+x for x in list_function_score] + ['F_'+x for x in list_function_score] + ['M_'+x for x in list_function_score]"
   ]
  },
  {
   "cell_type": "code",
   "execution_count": 38,
   "id": "2e940de3",
   "metadata": {},
   "outputs": [
    {
     "data": {
      "text/html": [
       "<div>\n",
       "<style scoped>\n",
       "    .dataframe tbody tr th:only-of-type {\n",
       "        vertical-align: middle;\n",
       "    }\n",
       "\n",
       "    .dataframe tbody tr th {\n",
       "        vertical-align: top;\n",
       "    }\n",
       "\n",
       "    .dataframe thead th {\n",
       "        text-align: right;\n",
       "    }\n",
       "</style>\n",
       "<table border=\"1\" class=\"dataframe\">\n",
       "  <thead>\n",
       "    <tr style=\"text-align: right;\">\n",
       "      <th></th>\n",
       "      <th>wikipedia_m_ID</th>\n",
       "      <th>m_release_date</th>\n",
       "      <th>character_name</th>\n",
       "      <th>actor_dob</th>\n",
       "      <th>actor_gender</th>\n",
       "      <th>actor_height</th>\n",
       "      <th>actor_ethnicity</th>\n",
       "      <th>actor_name</th>\n",
       "      <th>actor_age</th>\n",
       "      <th>m_name</th>\n",
       "      <th>...</th>\n",
       "      <th>F_mean</th>\n",
       "      <th>F_median</th>\n",
       "      <th>F_nb_famous_actors</th>\n",
       "      <th>F_prop_famous_actors</th>\n",
       "      <th>M_max</th>\n",
       "      <th>M_min</th>\n",
       "      <th>M_mean</th>\n",
       "      <th>M_median</th>\n",
       "      <th>M_nb_famous_actors</th>\n",
       "      <th>M_prop_famous_actors</th>\n",
       "    </tr>\n",
       "  </thead>\n",
       "  <tbody>\n",
       "    <tr>\n",
       "      <th>0</th>\n",
       "      <td>975900</td>\n",
       "      <td>2001-08-24</td>\n",
       "      <td>Akooshay</td>\n",
       "      <td>1958-08-26</td>\n",
       "      <td>F</td>\n",
       "      <td>1.620</td>\n",
       "      <td>NaN</td>\n",
       "      <td>Wanda De Jesus</td>\n",
       "      <td>42.0</td>\n",
       "      <td>Ghosts of Mars</td>\n",
       "      <td>...</td>\n",
       "      <td>37.561111</td>\n",
       "      <td>10.85</td>\n",
       "      <td>4.0</td>\n",
       "      <td>0.666667</td>\n",
       "      <td>1458.8</td>\n",
       "      <td>0.0</td>\n",
       "      <td>213.828571</td>\n",
       "      <td>0.0</td>\n",
       "      <td>2.0</td>\n",
       "      <td>0.333333</td>\n",
       "    </tr>\n",
       "    <tr>\n",
       "      <th>1</th>\n",
       "      <td>975900</td>\n",
       "      <td>2001-08-24</td>\n",
       "      <td>Lieutenant Melanie Ballard</td>\n",
       "      <td>1974-08-15</td>\n",
       "      <td>F</td>\n",
       "      <td>1.780</td>\n",
       "      <td>/m/044038p</td>\n",
       "      <td>Natasha Henstridge</td>\n",
       "      <td>27.0</td>\n",
       "      <td>Ghosts of Mars</td>\n",
       "      <td>...</td>\n",
       "      <td>37.561111</td>\n",
       "      <td>10.85</td>\n",
       "      <td>4.0</td>\n",
       "      <td>0.666667</td>\n",
       "      <td>1458.8</td>\n",
       "      <td>0.0</td>\n",
       "      <td>213.828571</td>\n",
       "      <td>0.0</td>\n",
       "      <td>2.0</td>\n",
       "      <td>0.333333</td>\n",
       "    </tr>\n",
       "    <tr>\n",
       "      <th>2</th>\n",
       "      <td>975900</td>\n",
       "      <td>2001-08-24</td>\n",
       "      <td>Desolation Williams</td>\n",
       "      <td>1969-06-15</td>\n",
       "      <td>M</td>\n",
       "      <td>1.727</td>\n",
       "      <td>/m/0x67</td>\n",
       "      <td>Ice Cube</td>\n",
       "      <td>32.0</td>\n",
       "      <td>Ghosts of Mars</td>\n",
       "      <td>...</td>\n",
       "      <td>37.561111</td>\n",
       "      <td>10.85</td>\n",
       "      <td>4.0</td>\n",
       "      <td>0.666667</td>\n",
       "      <td>1458.8</td>\n",
       "      <td>0.0</td>\n",
       "      <td>213.828571</td>\n",
       "      <td>0.0</td>\n",
       "      <td>2.0</td>\n",
       "      <td>0.333333</td>\n",
       "    </tr>\n",
       "  </tbody>\n",
       "</table>\n",
       "<p>3 rows × 71 columns</p>\n",
       "</div>"
      ],
      "text/plain": [
       "   wikipedia_m_ID m_release_date              character_name   actor_dob  \\\n",
       "0          975900     2001-08-24                    Akooshay  1958-08-26   \n",
       "1          975900     2001-08-24  Lieutenant Melanie Ballard  1974-08-15   \n",
       "2          975900     2001-08-24         Desolation Williams  1969-06-15   \n",
       "\n",
       "  actor_gender  actor_height actor_ethnicity          actor_name  actor_age  \\\n",
       "0            F         1.620             NaN      Wanda De Jesus       42.0   \n",
       "1            F         1.780      /m/044038p  Natasha Henstridge       27.0   \n",
       "2            M         1.727         /m/0x67            Ice Cube       32.0   \n",
       "\n",
       "           m_name  ...     F_mean  F_median  F_nb_famous_actors  \\\n",
       "0  Ghosts of Mars  ...  37.561111     10.85                 4.0   \n",
       "1  Ghosts of Mars  ...  37.561111     10.85                 4.0   \n",
       "2  Ghosts of Mars  ...  37.561111     10.85                 4.0   \n",
       "\n",
       "   F_prop_famous_actors   M_max  M_min      M_mean  M_median  \\\n",
       "0              0.666667  1458.8    0.0  213.828571       0.0   \n",
       "1              0.666667  1458.8    0.0  213.828571       0.0   \n",
       "2              0.666667  1458.8    0.0  213.828571       0.0   \n",
       "\n",
       "   M_nb_famous_actors  M_prop_famous_actors  \n",
       "0                 2.0              0.333333  \n",
       "1                 2.0              0.333333  \n",
       "2                 2.0              0.333333  \n",
       "\n",
       "[3 rows x 71 columns]"
      ]
     },
     "execution_count": 38,
     "metadata": {},
     "output_type": "execute_result"
    }
   ],
   "source": [
    "df_chars_merged = df_chars_numbers.merge(df_movies_features[list_columns], left_on='wikipedia_m_ID', right_index=True, how='left').copy()\n",
    "df_chars_merged.head(3)"
   ]
  },
  {
   "cell_type": "markdown",
   "id": "228d57c1",
   "metadata": {},
   "source": [
    "#### Booleans for revelation and famous"
   ]
  },
  {
   "cell_type": "code",
   "execution_count": 39,
   "id": "8e4bfc7c",
   "metadata": {},
   "outputs": [
    {
     "data": {
      "text/html": [
       "<div>\n",
       "<style scoped>\n",
       "    .dataframe tbody tr th:only-of-type {\n",
       "        vertical-align: middle;\n",
       "    }\n",
       "\n",
       "    .dataframe tbody tr th {\n",
       "        vertical-align: top;\n",
       "    }\n",
       "\n",
       "    .dataframe thead th {\n",
       "        text-align: right;\n",
       "    }\n",
       "</style>\n",
       "<table border=\"1\" class=\"dataframe\">\n",
       "  <thead>\n",
       "    <tr style=\"text-align: right;\">\n",
       "      <th></th>\n",
       "      <th>wikipedia_m_ID</th>\n",
       "      <th>m_release_date</th>\n",
       "      <th>character_name</th>\n",
       "      <th>actor_dob</th>\n",
       "      <th>actor_gender</th>\n",
       "      <th>actor_height</th>\n",
       "      <th>actor_ethnicity</th>\n",
       "      <th>actor_name</th>\n",
       "      <th>actor_age</th>\n",
       "      <th>m_name</th>\n",
       "      <th>...</th>\n",
       "      <th>F_nb_famous_actors</th>\n",
       "      <th>F_prop_famous_actors</th>\n",
       "      <th>M_max</th>\n",
       "      <th>M_min</th>\n",
       "      <th>M_mean</th>\n",
       "      <th>M_median</th>\n",
       "      <th>M_nb_famous_actors</th>\n",
       "      <th>M_prop_famous_actors</th>\n",
       "      <th>is_revealed</th>\n",
       "      <th>already_revealed</th>\n",
       "    </tr>\n",
       "  </thead>\n",
       "  <tbody>\n",
       "    <tr>\n",
       "      <th>0</th>\n",
       "      <td>975900</td>\n",
       "      <td>2001-08-24</td>\n",
       "      <td>Akooshay</td>\n",
       "      <td>1958-08-26</td>\n",
       "      <td>F</td>\n",
       "      <td>1.620</td>\n",
       "      <td>NaN</td>\n",
       "      <td>Wanda De Jesus</td>\n",
       "      <td>42.0</td>\n",
       "      <td>Ghosts of Mars</td>\n",
       "      <td>...</td>\n",
       "      <td>4.0</td>\n",
       "      <td>0.666667</td>\n",
       "      <td>1458.8</td>\n",
       "      <td>0.0</td>\n",
       "      <td>213.828571</td>\n",
       "      <td>0.0</td>\n",
       "      <td>2.0</td>\n",
       "      <td>0.333333</td>\n",
       "      <td>0</td>\n",
       "      <td>0</td>\n",
       "    </tr>\n",
       "    <tr>\n",
       "      <th>1</th>\n",
       "      <td>975900</td>\n",
       "      <td>2001-08-24</td>\n",
       "      <td>Lieutenant Melanie Ballard</td>\n",
       "      <td>1974-08-15</td>\n",
       "      <td>F</td>\n",
       "      <td>1.780</td>\n",
       "      <td>/m/044038p</td>\n",
       "      <td>Natasha Henstridge</td>\n",
       "      <td>27.0</td>\n",
       "      <td>Ghosts of Mars</td>\n",
       "      <td>...</td>\n",
       "      <td>4.0</td>\n",
       "      <td>0.666667</td>\n",
       "      <td>1458.8</td>\n",
       "      <td>0.0</td>\n",
       "      <td>213.828571</td>\n",
       "      <td>0.0</td>\n",
       "      <td>2.0</td>\n",
       "      <td>0.333333</td>\n",
       "      <td>0</td>\n",
       "      <td>1</td>\n",
       "    </tr>\n",
       "    <tr>\n",
       "      <th>2</th>\n",
       "      <td>975900</td>\n",
       "      <td>2001-08-24</td>\n",
       "      <td>Desolation Williams</td>\n",
       "      <td>1969-06-15</td>\n",
       "      <td>M</td>\n",
       "      <td>1.727</td>\n",
       "      <td>/m/0x67</td>\n",
       "      <td>Ice Cube</td>\n",
       "      <td>32.0</td>\n",
       "      <td>Ghosts of Mars</td>\n",
       "      <td>...</td>\n",
       "      <td>4.0</td>\n",
       "      <td>0.666667</td>\n",
       "      <td>1458.8</td>\n",
       "      <td>0.0</td>\n",
       "      <td>213.828571</td>\n",
       "      <td>0.0</td>\n",
       "      <td>2.0</td>\n",
       "      <td>0.333333</td>\n",
       "      <td>0</td>\n",
       "      <td>1</td>\n",
       "    </tr>\n",
       "    <tr>\n",
       "      <th>3</th>\n",
       "      <td>975900</td>\n",
       "      <td>2001-08-24</td>\n",
       "      <td>Sgt Jericho Butler</td>\n",
       "      <td>1967-09-12</td>\n",
       "      <td>M</td>\n",
       "      <td>1.750</td>\n",
       "      <td>NaN</td>\n",
       "      <td>Jason Statham</td>\n",
       "      <td>33.0</td>\n",
       "      <td>Ghosts of Mars</td>\n",
       "      <td>...</td>\n",
       "      <td>4.0</td>\n",
       "      <td>0.666667</td>\n",
       "      <td>1458.8</td>\n",
       "      <td>0.0</td>\n",
       "      <td>213.828571</td>\n",
       "      <td>0.0</td>\n",
       "      <td>2.0</td>\n",
       "      <td>0.333333</td>\n",
       "      <td>0</td>\n",
       "      <td>1</td>\n",
       "    </tr>\n",
       "    <tr>\n",
       "      <th>4</th>\n",
       "      <td>975900</td>\n",
       "      <td>2001-08-24</td>\n",
       "      <td>Bashira Kincaid</td>\n",
       "      <td>1977-09-25</td>\n",
       "      <td>F</td>\n",
       "      <td>1.650</td>\n",
       "      <td>NaN</td>\n",
       "      <td>Clea DuVall</td>\n",
       "      <td>23.0</td>\n",
       "      <td>Ghosts of Mars</td>\n",
       "      <td>...</td>\n",
       "      <td>4.0</td>\n",
       "      <td>0.666667</td>\n",
       "      <td>1458.8</td>\n",
       "      <td>0.0</td>\n",
       "      <td>213.828571</td>\n",
       "      <td>0.0</td>\n",
       "      <td>2.0</td>\n",
       "      <td>0.333333</td>\n",
       "      <td>0</td>\n",
       "      <td>1</td>\n",
       "    </tr>\n",
       "  </tbody>\n",
       "</table>\n",
       "<p>5 rows × 73 columns</p>\n",
       "</div>"
      ],
      "text/plain": [
       "   wikipedia_m_ID m_release_date              character_name   actor_dob  \\\n",
       "0          975900     2001-08-24                    Akooshay  1958-08-26   \n",
       "1          975900     2001-08-24  Lieutenant Melanie Ballard  1974-08-15   \n",
       "2          975900     2001-08-24         Desolation Williams  1969-06-15   \n",
       "3          975900     2001-08-24          Sgt Jericho Butler  1967-09-12   \n",
       "4          975900     2001-08-24             Bashira Kincaid  1977-09-25   \n",
       "\n",
       "  actor_gender  actor_height actor_ethnicity          actor_name  actor_age  \\\n",
       "0            F         1.620             NaN      Wanda De Jesus       42.0   \n",
       "1            F         1.780      /m/044038p  Natasha Henstridge       27.0   \n",
       "2            M         1.727         /m/0x67            Ice Cube       32.0   \n",
       "3            M         1.750             NaN       Jason Statham       33.0   \n",
       "4            F         1.650             NaN         Clea DuVall       23.0   \n",
       "\n",
       "           m_name  ... F_nb_famous_actors  F_prop_famous_actors   M_max  \\\n",
       "0  Ghosts of Mars  ...                4.0              0.666667  1458.8   \n",
       "1  Ghosts of Mars  ...                4.0              0.666667  1458.8   \n",
       "2  Ghosts of Mars  ...                4.0              0.666667  1458.8   \n",
       "3  Ghosts of Mars  ...                4.0              0.666667  1458.8   \n",
       "4  Ghosts of Mars  ...                4.0              0.666667  1458.8   \n",
       "\n",
       "   M_min      M_mean  M_median  M_nb_famous_actors  M_prop_famous_actors  \\\n",
       "0    0.0  213.828571       0.0                 2.0              0.333333   \n",
       "1    0.0  213.828571       0.0                 2.0              0.333333   \n",
       "2    0.0  213.828571       0.0                 2.0              0.333333   \n",
       "3    0.0  213.828571       0.0                 2.0              0.333333   \n",
       "4    0.0  213.828571       0.0                 2.0              0.333333   \n",
       "\n",
       "   is_revealed  already_revealed  \n",
       "0            0                 0  \n",
       "1            0                 1  \n",
       "2            0                 1  \n",
       "3            0                 1  \n",
       "4            0                 1  \n",
       "\n",
       "[5 rows x 73 columns]"
      ]
     },
     "execution_count": 39,
     "metadata": {},
     "output_type": "execute_result"
    }
   ],
   "source": [
    "df_chars_merged['is_revealed'] = df_chars_merged.apply(lambda row: row['min_year'] == row['m_release_date'].year, axis=1).astype(int)\n",
    "df_chars_merged['already_revealed'] = df_chars_merged.apply(lambda row: row['min_year'] < row['m_release_date'].year and row['min_year']!=0.0, axis=1).astype(int)\n",
    "df_chars_merged.head()"
   ]
  },
  {
   "cell_type": "markdown",
   "id": "fbd7d6a6",
   "metadata": {},
   "source": [
    "#### Filter out actors when movie released date was after his·her revelation"
   ]
  },
  {
   "cell_type": "code",
   "execution_count": 40,
   "id": "a7f4df79",
   "metadata": {},
   "outputs": [],
   "source": [
    "filter_conditions = (\n",
    "    (df_chars_merged['already_revealed'] == 0)    \n",
    "\n",
    ")\n",
    "df_chars_filtered = df_chars_merged.loc[filter_conditions]"
   ]
  },
  {
   "cell_type": "markdown",
   "id": "2bedf45c",
   "metadata": {},
   "source": [
    "#### Mapping past of actor"
   ]
  },
  {
   "cell_type": "code",
   "execution_count": 41,
   "id": "c104c2e9",
   "metadata": {},
   "outputs": [],
   "source": [
    "aggregation = {\"score_max\":\"max\", \"score_mean\":\"mean\", \"score_prop_famous_actors\":\"mean\", \"score_prop_famous_actors\":\"max\", \"score_nb_famous_actors\":\"max\"}\n",
    "map_past_of_actor = df_chars_filtered.groupby(['actor_name', 'm_release_year']).agg(aggregation).reset_index()"
   ]
  },
  {
   "cell_type": "code",
   "execution_count": 42,
   "id": "031a0427",
   "metadata": {},
   "outputs": [],
   "source": [
    "year = range(1982, 2013)\n",
    "#columns = [\"score_max\", \"score_mean\", \"score_prop_famous_actors\", \"score_prop_famous_actors\", \"score_nb_famous_actors\"]\n",
    "list_past_actors_per_year = pd.DataFrame()\n",
    "for y in year:\n",
    "    filter_conditions = (\n",
    "        (map_past_of_actor['m_release_year'] >= y-3) &\n",
    "        (map_past_of_actor['m_release_year'] <= y)\n",
    "    )\n",
    "    list_past_actors = map_past_of_actor.loc[filter_conditions].copy()\n",
    "    list_past_actors = list_past_actors.groupby('actor_name').agg(aggregation)\n",
    "    previous_col = list_past_actors.columns\n",
    "    list_past_actors.columns = ['previous_'+c for c in previous_col]\n",
    "    list_past_actors['m_release_year'] = list_past_actors.apply(lambda row: y, axis=1)\n",
    "    list_past_actors_per_year = pd.concat([list_past_actors_per_year, list_past_actors])\n",
    "\n",
    "list_past_actors_per_year.reset_index(inplace=True)"
   ]
  },
  {
   "cell_type": "code",
   "execution_count": 43,
   "id": "5d3411db",
   "metadata": {},
   "outputs": [],
   "source": [
    "df_final = df_chars_filtered.merge(list_past_actors_per_year, on=['actor_name', 'm_release_year'], how='left')"
   ]
  },
  {
   "cell_type": "markdown",
   "id": "11d894d5",
   "metadata": {},
   "source": [
    "#### Filter out movies where no one in the current casting and in the previous castings were famous"
   ]
  },
  {
   "cell_type": "code",
   "execution_count": 44,
   "id": "e49ffc14",
   "metadata": {},
   "outputs": [],
   "source": [
    "df_final = df_final[~((df_final['score_nb_famous_actors']==0) & (df_final['previous_score_nb_famous_actors']==0))].copy()"
   ]
  },
  {
   "cell_type": "code",
   "execution_count": 45,
   "id": "7ead92ec",
   "metadata": {},
   "outputs": [],
   "source": [
    "df_final.drop_duplicates(['actor_name', 'm_release_year'], inplace=True)"
   ]
  },
  {
   "cell_type": "markdown",
   "id": "d7d08126",
   "metadata": {},
   "source": [
    "# 4. Actor revelation prediction"
   ]
  },
  {
   "cell_type": "code",
   "execution_count": 46,
   "id": "08f2e91c",
   "metadata": {},
   "outputs": [
    {
     "data": {
      "text/plain": [
       "18243"
      ]
     },
     "execution_count": 46,
     "metadata": {},
     "output_type": "execute_result"
    }
   ],
   "source": [
    "df_final['actor_name'].nunique()"
   ]
  },
  {
   "cell_type": "code",
   "execution_count": 47,
   "id": "afa17f2f",
   "metadata": {},
   "outputs": [
    {
     "data": {
      "text/plain": [
       "0    58118\n",
       "1     1376\n",
       "Name: is_revealed, dtype: int64"
      ]
     },
     "execution_count": 47,
     "metadata": {},
     "output_type": "execute_result"
    }
   ],
   "source": [
    "df_final['is_revealed'].value_counts()"
   ]
  },
  {
   "cell_type": "markdown",
   "id": "e8bf9bcd",
   "metadata": {},
   "source": [
    "## 4.1 Average per past feature and revelation movie feature"
   ]
  },
  {
   "cell_type": "code",
   "execution_count": 48,
   "id": "c0755487",
   "metadata": {},
   "outputs": [
    {
     "data": {
      "text/html": [
       "<div>\n",
       "<style scoped>\n",
       "    .dataframe tbody tr th:only-of-type {\n",
       "        vertical-align: middle;\n",
       "    }\n",
       "\n",
       "    .dataframe tbody tr th {\n",
       "        vertical-align: top;\n",
       "    }\n",
       "\n",
       "    .dataframe thead th {\n",
       "        text-align: right;\n",
       "    }\n",
       "</style>\n",
       "<table border=\"1\" class=\"dataframe\">\n",
       "  <thead>\n",
       "    <tr style=\"text-align: right;\">\n",
       "      <th></th>\n",
       "      <th>wikipedia_m_ID</th>\n",
       "      <th>actor_height</th>\n",
       "      <th>actor_age</th>\n",
       "      <th>m_release_year</th>\n",
       "      <th>min_year</th>\n",
       "      <th>nb_actors</th>\n",
       "      <th>1980</th>\n",
       "      <th>1981</th>\n",
       "      <th>1982</th>\n",
       "      <th>1983</th>\n",
       "      <th>...</th>\n",
       "      <th>M_min</th>\n",
       "      <th>M_mean</th>\n",
       "      <th>M_median</th>\n",
       "      <th>M_nb_famous_actors</th>\n",
       "      <th>M_prop_famous_actors</th>\n",
       "      <th>already_revealed</th>\n",
       "      <th>previous_score_max</th>\n",
       "      <th>previous_score_mean</th>\n",
       "      <th>previous_score_prop_famous_actors</th>\n",
       "      <th>previous_score_nb_famous_actors</th>\n",
       "    </tr>\n",
       "    <tr>\n",
       "      <th>is_revealed</th>\n",
       "      <th></th>\n",
       "      <th></th>\n",
       "      <th></th>\n",
       "      <th></th>\n",
       "      <th></th>\n",
       "      <th></th>\n",
       "      <th></th>\n",
       "      <th></th>\n",
       "      <th></th>\n",
       "      <th></th>\n",
       "      <th></th>\n",
       "      <th></th>\n",
       "      <th></th>\n",
       "      <th></th>\n",
       "      <th></th>\n",
       "      <th></th>\n",
       "      <th></th>\n",
       "      <th></th>\n",
       "      <th></th>\n",
       "      <th></th>\n",
       "      <th></th>\n",
       "    </tr>\n",
       "  </thead>\n",
       "  <tbody>\n",
       "    <tr>\n",
       "      <th>0</th>\n",
       "      <td>9.820502e+06</td>\n",
       "      <td>1.823185</td>\n",
       "      <td>39.061215</td>\n",
       "      <td>1999.876596</td>\n",
       "      <td>1793.449128</td>\n",
       "      <td>11.994460</td>\n",
       "      <td>0.0</td>\n",
       "      <td>0.000000</td>\n",
       "      <td>0.378610</td>\n",
       "      <td>0.946096</td>\n",
       "      <td>...</td>\n",
       "      <td>0.344278</td>\n",
       "      <td>104.679658</td>\n",
       "      <td>4.168729</td>\n",
       "      <td>1.456269</td>\n",
       "      <td>0.564214</td>\n",
       "      <td>0.0</td>\n",
       "      <td>1757.766516</td>\n",
       "      <td>86.811552</td>\n",
       "      <td>0.256143</td>\n",
       "      <td>3.299963</td>\n",
       "    </tr>\n",
       "    <tr>\n",
       "      <th>1</th>\n",
       "      <td>7.300334e+06</td>\n",
       "      <td>1.747725</td>\n",
       "      <td>31.999264</td>\n",
       "      <td>1998.699855</td>\n",
       "      <td>1998.699855</td>\n",
       "      <td>13.634448</td>\n",
       "      <td>0.0</td>\n",
       "      <td>2.021802</td>\n",
       "      <td>2.813953</td>\n",
       "      <td>7.210635</td>\n",
       "      <td>...</td>\n",
       "      <td>0.045576</td>\n",
       "      <td>154.531012</td>\n",
       "      <td>6.880355</td>\n",
       "      <td>1.881455</td>\n",
       "      <td>0.629330</td>\n",
       "      <td>0.0</td>\n",
       "      <td>2760.648697</td>\n",
       "      <td>107.395163</td>\n",
       "      <td>0.304185</td>\n",
       "      <td>4.384558</td>\n",
       "    </tr>\n",
       "  </tbody>\n",
       "</table>\n",
       "<p>2 rows × 68 columns</p>\n",
       "</div>"
      ],
      "text/plain": [
       "             wikipedia_m_ID  actor_height  actor_age  m_release_year  \\\n",
       "is_revealed                                                            \n",
       "0              9.820502e+06      1.823185  39.061215     1999.876596   \n",
       "1              7.300334e+06      1.747725  31.999264     1998.699855   \n",
       "\n",
       "                min_year  nb_actors  1980      1981      1982      1983  ...  \\\n",
       "is_revealed                                                              ...   \n",
       "0            1793.449128  11.994460   0.0  0.000000  0.378610  0.946096  ...   \n",
       "1            1998.699855  13.634448   0.0  2.021802  2.813953  7.210635  ...   \n",
       "\n",
       "                M_min      M_mean  M_median  M_nb_famous_actors  \\\n",
       "is_revealed                                                       \n",
       "0            0.344278  104.679658  4.168729            1.456269   \n",
       "1            0.045576  154.531012  6.880355            1.881455   \n",
       "\n",
       "             M_prop_famous_actors  already_revealed  previous_score_max  \\\n",
       "is_revealed                                                               \n",
       "0                        0.564214               0.0         1757.766516   \n",
       "1                        0.629330               0.0         2760.648697   \n",
       "\n",
       "             previous_score_mean  previous_score_prop_famous_actors  \\\n",
       "is_revealed                                                           \n",
       "0                      86.811552                           0.256143   \n",
       "1                     107.395163                           0.304185   \n",
       "\n",
       "             previous_score_nb_famous_actors  \n",
       "is_revealed                                   \n",
       "0                                   3.299963  \n",
       "1                                   4.384558  \n",
       "\n",
       "[2 rows x 68 columns]"
      ]
     },
     "execution_count": 48,
     "metadata": {},
     "output_type": "execute_result"
    }
   ],
   "source": [
    "df_final.groupby('is_revealed').mean()"
   ]
  },
  {
   "cell_type": "code",
   "execution_count": 49,
   "id": "755639e2",
   "metadata": {},
   "outputs": [
    {
     "data": {
      "text/plain": [
       "<AxesSubplot:xlabel='is_revealed', ylabel='score_prop_famous_actors'>"
      ]
     },
     "execution_count": 49,
     "metadata": {},
     "output_type": "execute_result"
    },
    {
     "data": {
      "image/png": "[encoded data removed]",
      "text/plain": [
       "<Figure size 432x288 with 1 Axes>"
      ]
     },
     "metadata": {
      "needs_background": "light"
     },
     "output_type": "display_data"
    }
   ],
   "source": [
    "sns.boxplot(data=df_final, x='is_revealed',y='score_prop_famous_actors')"
   ]
  },
  {
   "cell_type": "code",
   "execution_count": 50,
   "id": "d5a9fb4f",
   "metadata": {},
   "outputs": [
    {
     "data": {
      "text/plain": [
       "<AxesSubplot:xlabel='is_revealed', ylabel='previous_score_prop_famous_actors'>"
      ]
     },
     "execution_count": 50,
     "metadata": {},
     "output_type": "execute_result"
    },
    {
     "data": {
      "image/png": "[encoded data removed]",
      "text/plain": [
       "<Figure size 432x288 with 1 Axes>"
      ]
     },
     "metadata": {
      "needs_background": "light"
     },
     "output_type": "display_data"
    }
   ],
   "source": [
    "sns.boxplot(data=df_final, x='is_revealed',y='previous_score_prop_famous_actors')"
   ]
  },
  {
   "cell_type": "code",
   "execution_count": 51,
   "id": "c7f49cfe",
   "metadata": {},
   "outputs": [
    {
     "data": {
      "text/plain": [
       "<AxesSubplot:xlabel='is_revealed', ylabel='score_max'>"
      ]
     },
     "execution_count": 51,
     "metadata": {},
     "output_type": "execute_result"
    },
    {
     "data": {
      "image/png": "[encoded data removed]",
      "text/plain": [
       "<Figure size 432x288 with 1 Axes>"
      ]
     },
     "metadata": {
      "needs_background": "light"
     },
     "output_type": "display_data"
    }
   ],
   "source": [
    "sns.boxplot(data=df_final, x='is_revealed',y='score_max')"
   ]
  },
  {
   "cell_type": "code",
   "execution_count": 52,
   "id": "72ed3e01",
   "metadata": {},
   "outputs": [
    {
     "data": {
      "text/plain": [
       "<AxesSubplot:xlabel='is_revealed', ylabel='previous_score_max'>"
      ]
     },
     "execution_count": 52,
     "metadata": {},
     "output_type": "execute_result"
    },
    {
     "data": {
      "image/png": "[encoded data removed]",
      "text/plain": [
       "<Figure size 432x288 with 1 Axes>"
      ]
     },
     "metadata": {
      "needs_background": "light"
     },
     "output_type": "display_data"
    }
   ],
   "source": [
    "sns.boxplot(data=df_final, x='is_revealed',y='previous_score_max')"
   ]
  },
  {
   "cell_type": "markdown",
   "id": "8d7dcbef",
   "metadata": {},
   "source": [
    "## 4.2 Correlation"
   ]
  },
  {
   "cell_type": "code",
   "execution_count": 53,
   "id": "2657f3e0",
   "metadata": {},
   "outputs": [],
   "source": [
    "list_columns = ['score_max', 'score_min','score_mean', 'score_median', 'score_nb_famous_actors',\n",
    "                'score_prop_famous_actors', 'F_max', 'F_min', 'F_mean', 'F_median',\n",
    "                'F_nb_famous_actors', 'F_prop_famous_actors', 'M_max', 'M_min',\n",
    "                'M_mean', 'M_median', 'M_nb_famous_actors', 'M_prop_famous_actors', 'previous_score_max',\n",
    "                'previous_score_mean', 'previous_score_prop_famous_actors',\n",
    "                'previous_score_nb_famous_actors', 'is_revealed']"
   ]
  },
  {
   "cell_type": "code",
   "execution_count": 54,
   "id": "b630beee",
   "metadata": {},
   "outputs": [],
   "source": [
    "list_columns = ['score_max', 'score_nb_famous_actors',\n",
    "                'score_prop_famous_actors', 'previous_score_max',\n",
    "                'previous_score_mean', 'previous_score_prop_famous_actors',\n",
    "                'previous_score_nb_famous_actors','m_release_year', 'is_revealed']"
   ]
  },
  {
   "cell_type": "code",
   "execution_count": 55,
   "id": "4bf672c9",
   "metadata": {},
   "outputs": [],
   "source": [
    "list_columns = ['score_max', 'score_nb_famous_actors',\n",
    "                'score_prop_famous_actors', 'm_release_year', 'is_revealed']"
   ]
  },
  {
   "cell_type": "code",
   "execution_count": 56,
   "id": "16d54942",
   "metadata": {},
   "outputs": [
    {
     "data": {
      "text/plain": [
       "<AxesSubplot:xlabel='nb_movies_before_this_movie', ylabel='Count'>"
      ]
     },
     "execution_count": 56,
     "metadata": {},
     "output_type": "execute_result"
    },
    {
     "data": {
      "image/png": "[encoded data removed]",
      "text/plain": [
       "<Figure size 432x288 with 1 Axes>"
      ]
     },
     "metadata": {
      "needs_background": "light"
     },
     "output_type": "display_data"
    }
   ],
   "source": [
    "sns.histplot(data=df_final[df_final['is_revealed'] == 1], x='nb_movies_before_this_movie')"
   ]
  },
  {
   "cell_type": "code",
   "execution_count": 57,
   "id": "ee3607c5",
   "metadata": {},
   "outputs": [
    {
     "data": {
      "text/plain": [
       "<AxesSubplot:>"
      ]
     },
     "execution_count": 57,
     "metadata": {},
     "output_type": "execute_result"
    },
    {
     "data": {
      "image/png": "[encoded data removed]",
      "text/plain": [
       "<Figure size 432x288 with 1 Axes>"
      ]
     },
     "metadata": {
      "needs_background": "light"
     },
     "output_type": "display_data"
    }
   ],
   "source": [
    "df_final.loc[(df_final['is_revealed'] == 1) & (df_final['nb_movies_before_this_movie'] == 0)]['m_release_date'].hist(bins=32)"
   ]
  },
  {
   "cell_type": "code",
   "execution_count": 58,
   "id": "7f139d2a",
   "metadata": {},
   "outputs": [
    {
     "data": {
      "image/png": "[encoded data removed]",
      "text/plain": [
       "<Figure size 1080x432 with 1 Axes>"
      ]
     },
     "metadata": {
      "needs_background": "light"
     },
     "output_type": "display_data"
    }
   ],
   "source": [
    "plt.figure(figsize=(15, 6))\n",
    "sns.barplot(data=df_final, x='m_release_year', y='score_max', hue='is_revealed')\n",
    "plt.xticks(rotation=90);"
   ]
  },
  {
   "cell_type": "code",
   "execution_count": 59,
   "id": "a3d76979",
   "metadata": {},
   "outputs": [
    {
     "data": {
      "image/png": "[encoded data removed]",
      "text/plain": [
       "<Figure size 1080x432 with 1 Axes>"
      ]
     },
     "metadata": {
      "needs_background": "light"
     },
     "output_type": "display_data"
    }
   ],
   "source": [
    "plt.figure(figsize=(15, 6))\n",
    "sns.barplot(data=df_final, x='m_release_year', y='score_prop_famous_actors', hue='is_revealed')\n",
    "plt.xticks(rotation=90);"
   ]
  },
  {
   "cell_type": "code",
   "execution_count": 60,
   "id": "e31adb83",
   "metadata": {},
   "outputs": [
    {
     "data": {
      "image/png": "[encoded data removed]",
      "text/plain": [
       "<Figure size 1080x576 with 2 Axes>"
      ]
     },
     "metadata": {
      "needs_background": "light"
     },
     "output_type": "display_data"
    }
   ],
   "source": [
    "columns = list_columns\n",
    "dataset = df_final[columns].fillna(0)\n",
    "\n",
    "# Heatmap of the correlation between the attributes\n",
    "corr = dataset.corr()\n",
    "corr.drop(corr.tail(1).index,inplace=True)\n",
    "#mask = np.triu(np.ones_like(corr, dtype='bool'))\n",
    "\n",
    "plt.figure(figsize=(15, 8))\n",
    "cmap = sns.diverging_palette(240,240, as_cmap=True)\n",
    "sns.heatmap(data=corr[['is_revealed']], cmap=cmap, center=0, annot=True)\n",
    "plt.show()"
   ]
  },
  {
   "cell_type": "code",
   "execution_count": 61,
   "id": "34ee94b6",
   "metadata": {},
   "outputs": [
    {
     "data": {
      "text/plain": [
       "Ttest_indResult(statistic=6.384098134642077, pvalue=1.7367650673118204e-10)"
      ]
     },
     "execution_count": 61,
     "metadata": {},
     "output_type": "execute_result"
    }
   ],
   "source": [
    "revealed_ = df_final[df_final['is_revealed'] == 1]\n",
    "not_revealed_ = df_final[df_final['is_revealed'] == 0]\n",
    "ttest_ind(revealed_['score_prop_famous_actors'], not_revealed_['score_prop_famous_actors'])"
   ]
  },
  {
   "cell_type": "code",
   "execution_count": 62,
   "id": "bbded44b",
   "metadata": {},
   "outputs": [
    {
     "data": {
      "text/plain": [
       "Ttest_indResult(statistic=8.904430220128871, pvalue=5.513268092004895e-19)"
      ]
     },
     "execution_count": 62,
     "metadata": {},
     "output_type": "execute_result"
    }
   ],
   "source": [
    "ttest_ind(revealed_['score_max'], not_revealed_['score_max'])"
   ]
  },
  {
   "cell_type": "code",
   "execution_count": 63,
   "id": "5ed87725",
   "metadata": {},
   "outputs": [
    {
     "data": {
      "text/plain": [
       "Ttest_indResult(statistic=9.915220167777838, pvalue=3.7257439589155187e-23)"
      ]
     },
     "execution_count": 63,
     "metadata": {},
     "output_type": "execute_result"
    }
   ],
   "source": [
    "ttest_ind(revealed_['score_nb_famous_actors'], not_revealed_['score_nb_famous_actors'])"
   ]
  },
  {
   "cell_type": "markdown",
   "id": "52acb9b6",
   "metadata": {},
   "source": [
    "## 4.3 Zoom on actors for which their revelation was at their first movie"
   ]
  },
  {
   "cell_type": "code",
   "execution_count": 64,
   "id": "a0c06b37",
   "metadata": {},
   "outputs": [],
   "source": [
    "#select only the ones for which the revelation was at their first movie\n",
    "revelation_at_first_movie = df_final.loc[(df_final['nb_movies_before_this_movie'] == 0)]"
   ]
  },
  {
   "cell_type": "code",
   "execution_count": 65,
   "id": "3e4027a3",
   "metadata": {},
   "outputs": [
    {
     "data": {
      "image/png": "[encoded data removed]",
      "text/plain": [
       "<Figure size 1080x576 with 2 Axes>"
      ]
     },
     "metadata": {
      "needs_background": "light"
     },
     "output_type": "display_data"
    }
   ],
   "source": [
    "columns = list_columns\n",
    "dataset = revelation_at_first_movie[columns].fillna(0)\n",
    "\n",
    "# Heatmap of the correlation between the attributes\n",
    "corr = dataset.corr()\n",
    "corr.drop(corr.tail(1).index,inplace=True)\n",
    "#mask = np.triu(np.ones_like(corr, dtype='bool'))\n",
    "\n",
    "plt.figure(figsize=(15, 8))\n",
    "cmap = sns.diverging_palette(240,240, as_cmap=True)\n",
    "sns.heatmap(data=corr[['is_revealed']], cmap=cmap, center=0, annot=True)\n",
    "plt.show()"
   ]
  },
  {
   "cell_type": "code",
   "execution_count": 66,
   "id": "749056b8",
   "metadata": {},
   "outputs": [
    {
     "data": {
      "text/html": [
       "<div>\n",
       "<style scoped>\n",
       "    .dataframe tbody tr th:only-of-type {\n",
       "        vertical-align: middle;\n",
       "    }\n",
       "\n",
       "    .dataframe tbody tr th {\n",
       "        vertical-align: top;\n",
       "    }\n",
       "\n",
       "    .dataframe thead th {\n",
       "        text-align: right;\n",
       "    }\n",
       "</style>\n",
       "<table border=\"1\" class=\"dataframe\">\n",
       "  <thead>\n",
       "    <tr style=\"text-align: right;\">\n",
       "      <th></th>\n",
       "      <th>wikipedia_m_ID</th>\n",
       "      <th>actor_height</th>\n",
       "      <th>actor_age</th>\n",
       "      <th>m_release_year</th>\n",
       "      <th>min_year</th>\n",
       "      <th>nb_actors</th>\n",
       "      <th>1980</th>\n",
       "      <th>1981</th>\n",
       "      <th>1982</th>\n",
       "      <th>1983</th>\n",
       "      <th>...</th>\n",
       "      <th>M_min</th>\n",
       "      <th>M_mean</th>\n",
       "      <th>M_median</th>\n",
       "      <th>M_nb_famous_actors</th>\n",
       "      <th>M_prop_famous_actors</th>\n",
       "      <th>already_revealed</th>\n",
       "      <th>previous_score_max</th>\n",
       "      <th>previous_score_mean</th>\n",
       "      <th>previous_score_prop_famous_actors</th>\n",
       "      <th>previous_score_nb_famous_actors</th>\n",
       "    </tr>\n",
       "    <tr>\n",
       "      <th>is_revealed</th>\n",
       "      <th></th>\n",
       "      <th></th>\n",
       "      <th></th>\n",
       "      <th></th>\n",
       "      <th></th>\n",
       "      <th></th>\n",
       "      <th></th>\n",
       "      <th></th>\n",
       "      <th></th>\n",
       "      <th></th>\n",
       "      <th></th>\n",
       "      <th></th>\n",
       "      <th></th>\n",
       "      <th></th>\n",
       "      <th></th>\n",
       "      <th></th>\n",
       "      <th></th>\n",
       "      <th></th>\n",
       "      <th></th>\n",
       "      <th></th>\n",
       "      <th></th>\n",
       "    </tr>\n",
       "  </thead>\n",
       "  <tbody>\n",
       "    <tr>\n",
       "      <th>0</th>\n",
       "      <td>8.783374e+06</td>\n",
       "      <td>1.779011</td>\n",
       "      <td>30.982563</td>\n",
       "      <td>1999.680318</td>\n",
       "      <td>1945.190118</td>\n",
       "      <td>12.724363</td>\n",
       "      <td>0.0</td>\n",
       "      <td>0.000000</td>\n",
       "      <td>0.690332</td>\n",
       "      <td>2.395015</td>\n",
       "      <td>...</td>\n",
       "      <td>0.410208</td>\n",
       "      <td>116.339983</td>\n",
       "      <td>4.660476</td>\n",
       "      <td>1.576102</td>\n",
       "      <td>0.652016</td>\n",
       "      <td>0.0</td>\n",
       "      <td>1109.590949</td>\n",
       "      <td>101.634140</td>\n",
       "      <td>0.198776</td>\n",
       "      <td>2.508039</td>\n",
       "    </tr>\n",
       "    <tr>\n",
       "      <th>1</th>\n",
       "      <td>6.367551e+06</td>\n",
       "      <td>1.729962</td>\n",
       "      <td>21.488889</td>\n",
       "      <td>1998.538462</td>\n",
       "      <td>1998.538462</td>\n",
       "      <td>14.049451</td>\n",
       "      <td>0.0</td>\n",
       "      <td>1.857143</td>\n",
       "      <td>0.928571</td>\n",
       "      <td>5.800366</td>\n",
       "      <td>...</td>\n",
       "      <td>0.000000</td>\n",
       "      <td>148.832037</td>\n",
       "      <td>3.176529</td>\n",
       "      <td>1.961538</td>\n",
       "      <td>0.674817</td>\n",
       "      <td>0.0</td>\n",
       "      <td>1655.758339</td>\n",
       "      <td>139.235104</td>\n",
       "      <td>0.228679</td>\n",
       "      <td>3.248588</td>\n",
       "    </tr>\n",
       "  </tbody>\n",
       "</table>\n",
       "<p>2 rows × 68 columns</p>\n",
       "</div>"
      ],
      "text/plain": [
       "             wikipedia_m_ID  actor_height  actor_age  m_release_year  \\\n",
       "is_revealed                                                            \n",
       "0              8.783374e+06      1.779011  30.982563     1999.680318   \n",
       "1              6.367551e+06      1.729962  21.488889     1998.538462   \n",
       "\n",
       "                min_year  nb_actors  1980      1981      1982      1983  ...  \\\n",
       "is_revealed                                                              ...   \n",
       "0            1945.190118  12.724363   0.0  0.000000  0.690332  2.395015  ...   \n",
       "1            1998.538462  14.049451   0.0  1.857143  0.928571  5.800366  ...   \n",
       "\n",
       "                M_min      M_mean  M_median  M_nb_famous_actors  \\\n",
       "is_revealed                                                       \n",
       "0            0.410208  116.339983  4.660476            1.576102   \n",
       "1            0.000000  148.832037  3.176529            1.961538   \n",
       "\n",
       "             M_prop_famous_actors  already_revealed  previous_score_max  \\\n",
       "is_revealed                                                               \n",
       "0                        0.652016               0.0         1109.590949   \n",
       "1                        0.674817               0.0         1655.758339   \n",
       "\n",
       "             previous_score_mean  previous_score_prop_famous_actors  \\\n",
       "is_revealed                                                           \n",
       "0                     101.634140                           0.198776   \n",
       "1                     139.235104                           0.228679   \n",
       "\n",
       "             previous_score_nb_famous_actors  \n",
       "is_revealed                                   \n",
       "0                                   2.508039  \n",
       "1                                   3.248588  \n",
       "\n",
       "[2 rows x 68 columns]"
      ]
     },
     "execution_count": 66,
     "metadata": {},
     "output_type": "execute_result"
    }
   ],
   "source": [
    "revelation_at_first_movie.groupby(['is_revealed']).mean()"
   ]
  },
  {
   "cell_type": "code",
   "execution_count": 67,
   "id": "d6676327",
   "metadata": {},
   "outputs": [
    {
     "data": {
      "text/html": [
       "<div>\n",
       "<style scoped>\n",
       "    .dataframe tbody tr th:only-of-type {\n",
       "        vertical-align: middle;\n",
       "    }\n",
       "\n",
       "    .dataframe tbody tr th {\n",
       "        vertical-align: top;\n",
       "    }\n",
       "\n",
       "    .dataframe thead th {\n",
       "        text-align: right;\n",
       "    }\n",
       "</style>\n",
       "<table border=\"1\" class=\"dataframe\">\n",
       "  <thead>\n",
       "    <tr style=\"text-align: right;\">\n",
       "      <th></th>\n",
       "      <th></th>\n",
       "      <th>wikipedia_m_ID</th>\n",
       "      <th>actor_height</th>\n",
       "      <th>actor_age</th>\n",
       "      <th>min_year</th>\n",
       "      <th>nb_actors</th>\n",
       "      <th>1980</th>\n",
       "      <th>1981</th>\n",
       "      <th>1982</th>\n",
       "      <th>1983</th>\n",
       "      <th>1984</th>\n",
       "      <th>...</th>\n",
       "      <th>M_min</th>\n",
       "      <th>M_mean</th>\n",
       "      <th>M_median</th>\n",
       "      <th>M_nb_famous_actors</th>\n",
       "      <th>M_prop_famous_actors</th>\n",
       "      <th>already_revealed</th>\n",
       "      <th>previous_score_max</th>\n",
       "      <th>previous_score_mean</th>\n",
       "      <th>previous_score_prop_famous_actors</th>\n",
       "      <th>previous_score_nb_famous_actors</th>\n",
       "    </tr>\n",
       "    <tr>\n",
       "      <th>m_release_year</th>\n",
       "      <th>is_revealed</th>\n",
       "      <th></th>\n",
       "      <th></th>\n",
       "      <th></th>\n",
       "      <th></th>\n",
       "      <th></th>\n",
       "      <th></th>\n",
       "      <th></th>\n",
       "      <th></th>\n",
       "      <th></th>\n",
       "      <th></th>\n",
       "      <th></th>\n",
       "      <th></th>\n",
       "      <th></th>\n",
       "      <th></th>\n",
       "      <th></th>\n",
       "      <th></th>\n",
       "      <th></th>\n",
       "      <th></th>\n",
       "      <th></th>\n",
       "      <th></th>\n",
       "      <th></th>\n",
       "    </tr>\n",
       "  </thead>\n",
       "  <tbody>\n",
       "    <tr>\n",
       "      <th rowspan=\"2\" valign=\"top\">1981</th>\n",
       "      <th>0</th>\n",
       "      <td>8.146164e+06</td>\n",
       "      <td>1.751910</td>\n",
       "      <td>30.567485</td>\n",
       "      <td>1989.081081</td>\n",
       "      <td>9.053892</td>\n",
       "      <td>0.0</td>\n",
       "      <td>0.0</td>\n",
       "      <td>13.057143</td>\n",
       "      <td>41.157143</td>\n",
       "      <td>38.52381</td>\n",
       "      <td>...</td>\n",
       "      <td>0.000000</td>\n",
       "      <td>1.967591</td>\n",
       "      <td>0.868263</td>\n",
       "      <td>0.101796</td>\n",
       "      <td>0.077844</td>\n",
       "      <td>0.0</td>\n",
       "      <td>NaN</td>\n",
       "      <td>NaN</td>\n",
       "      <td>NaN</td>\n",
       "      <td>NaN</td>\n",
       "    </tr>\n",
       "    <tr>\n",
       "      <th>1</th>\n",
       "      <td>3.700303e+06</td>\n",
       "      <td>1.675667</td>\n",
       "      <td>27.200000</td>\n",
       "      <td>1981.000000</td>\n",
       "      <td>9.600000</td>\n",
       "      <td>0.0</td>\n",
       "      <td>67.6</td>\n",
       "      <td>33.800000</td>\n",
       "      <td>38.533333</td>\n",
       "      <td>116.90000</td>\n",
       "      <td>...</td>\n",
       "      <td>0.000000</td>\n",
       "      <td>27.072857</td>\n",
       "      <td>0.000000</td>\n",
       "      <td>0.800000</td>\n",
       "      <td>0.700000</td>\n",
       "      <td>0.0</td>\n",
       "      <td>NaN</td>\n",
       "      <td>NaN</td>\n",
       "      <td>NaN</td>\n",
       "      <td>NaN</td>\n",
       "    </tr>\n",
       "    <tr>\n",
       "      <th>1982</th>\n",
       "      <th>0</th>\n",
       "      <td>6.456874e+06</td>\n",
       "      <td>1.714594</td>\n",
       "      <td>33.653333</td>\n",
       "      <td>1990.250000</td>\n",
       "      <td>12.868421</td>\n",
       "      <td>0.0</td>\n",
       "      <td>0.0</td>\n",
       "      <td>0.000000</td>\n",
       "      <td>18.125000</td>\n",
       "      <td>52.06250</td>\n",
       "      <td>...</td>\n",
       "      <td>0.000000</td>\n",
       "      <td>15.547941</td>\n",
       "      <td>0.000000</td>\n",
       "      <td>1.026316</td>\n",
       "      <td>0.723684</td>\n",
       "      <td>0.0</td>\n",
       "      <td>145.835526</td>\n",
       "      <td>12.953797</td>\n",
       "      <td>0.114949</td>\n",
       "      <td>1.407895</td>\n",
       "    </tr>\n",
       "    <tr>\n",
       "      <th rowspan=\"2\" valign=\"top\">1983</th>\n",
       "      <th>0</th>\n",
       "      <td>4.512391e+06</td>\n",
       "      <td>1.774408</td>\n",
       "      <td>32.991379</td>\n",
       "      <td>1875.705882</td>\n",
       "      <td>13.632479</td>\n",
       "      <td>0.0</td>\n",
       "      <td>0.0</td>\n",
       "      <td>0.000000</td>\n",
       "      <td>0.000000</td>\n",
       "      <td>0.00000</td>\n",
       "      <td>...</td>\n",
       "      <td>0.000000</td>\n",
       "      <td>18.727097</td>\n",
       "      <td>1.074074</td>\n",
       "      <td>1.034188</td>\n",
       "      <td>0.840456</td>\n",
       "      <td>0.0</td>\n",
       "      <td>142.319088</td>\n",
       "      <td>13.743715</td>\n",
       "      <td>0.111038</td>\n",
       "      <td>1.273504</td>\n",
       "    </tr>\n",
       "    <tr>\n",
       "      <th>1</th>\n",
       "      <td>8.685666e+06</td>\n",
       "      <td>1.700000</td>\n",
       "      <td>25.000000</td>\n",
       "      <td>1983.000000</td>\n",
       "      <td>12.250000</td>\n",
       "      <td>0.0</td>\n",
       "      <td>0.0</td>\n",
       "      <td>0.000000</td>\n",
       "      <td>215.750000</td>\n",
       "      <td>107.87500</td>\n",
       "      <td>...</td>\n",
       "      <td>0.000000</td>\n",
       "      <td>22.694444</td>\n",
       "      <td>0.000000</td>\n",
       "      <td>0.750000</td>\n",
       "      <td>0.750000</td>\n",
       "      <td>0.0</td>\n",
       "      <td>211.791667</td>\n",
       "      <td>13.600992</td>\n",
       "      <td>0.095833</td>\n",
       "      <td>1.000000</td>\n",
       "    </tr>\n",
       "    <tr>\n",
       "      <th>...</th>\n",
       "      <th>...</th>\n",
       "      <td>...</td>\n",
       "      <td>...</td>\n",
       "      <td>...</td>\n",
       "      <td>...</td>\n",
       "      <td>...</td>\n",
       "      <td>...</td>\n",
       "      <td>...</td>\n",
       "      <td>...</td>\n",
       "      <td>...</td>\n",
       "      <td>...</td>\n",
       "      <td>...</td>\n",
       "      <td>...</td>\n",
       "      <td>...</td>\n",
       "      <td>...</td>\n",
       "      <td>...</td>\n",
       "      <td>...</td>\n",
       "      <td>...</td>\n",
       "      <td>...</td>\n",
       "      <td>...</td>\n",
       "      <td>...</td>\n",
       "      <td>...</td>\n",
       "    </tr>\n",
       "    <tr>\n",
       "      <th>2010</th>\n",
       "      <th>1</th>\n",
       "      <td>2.424935e+07</td>\n",
       "      <td>1.750000</td>\n",
       "      <td>15.500000</td>\n",
       "      <td>2010.000000</td>\n",
       "      <td>13.500000</td>\n",
       "      <td>0.0</td>\n",
       "      <td>0.0</td>\n",
       "      <td>0.000000</td>\n",
       "      <td>0.000000</td>\n",
       "      <td>0.00000</td>\n",
       "      <td>...</td>\n",
       "      <td>0.000000</td>\n",
       "      <td>720.613025</td>\n",
       "      <td>0.000000</td>\n",
       "      <td>3.500000</td>\n",
       "      <td>0.785714</td>\n",
       "      <td>0.0</td>\n",
       "      <td>4895.660069</td>\n",
       "      <td>603.252971</td>\n",
       "      <td>0.358333</td>\n",
       "      <td>5.000000</td>\n",
       "    </tr>\n",
       "    <tr>\n",
       "      <th rowspan=\"2\" valign=\"top\">2011</th>\n",
       "      <th>0</th>\n",
       "      <td>2.819469e+07</td>\n",
       "      <td>1.725079</td>\n",
       "      <td>31.621749</td>\n",
       "      <td>1831.818182</td>\n",
       "      <td>13.505669</td>\n",
       "      <td>0.0</td>\n",
       "      <td>0.0</td>\n",
       "      <td>0.000000</td>\n",
       "      <td>0.000000</td>\n",
       "      <td>0.00000</td>\n",
       "      <td>...</td>\n",
       "      <td>0.000000</td>\n",
       "      <td>193.210291</td>\n",
       "      <td>7.232894</td>\n",
       "      <td>1.961364</td>\n",
       "      <td>0.612648</td>\n",
       "      <td>0.0</td>\n",
       "      <td>1817.704689</td>\n",
       "      <td>177.941275</td>\n",
       "      <td>0.234736</td>\n",
       "      <td>3.217687</td>\n",
       "    </tr>\n",
       "    <tr>\n",
       "      <th>1</th>\n",
       "      <td>2.765670e+07</td>\n",
       "      <td>1.742857</td>\n",
       "      <td>27.100000</td>\n",
       "      <td>2011.000000</td>\n",
       "      <td>12.400000</td>\n",
       "      <td>0.0</td>\n",
       "      <td>0.0</td>\n",
       "      <td>0.000000</td>\n",
       "      <td>0.000000</td>\n",
       "      <td>0.00000</td>\n",
       "      <td>...</td>\n",
       "      <td>0.000000</td>\n",
       "      <td>598.824382</td>\n",
       "      <td>13.735088</td>\n",
       "      <td>3.600000</td>\n",
       "      <td>0.715678</td>\n",
       "      <td>0.0</td>\n",
       "      <td>4516.747427</td>\n",
       "      <td>507.391679</td>\n",
       "      <td>0.417401</td>\n",
       "      <td>5.400000</td>\n",
       "    </tr>\n",
       "    <tr>\n",
       "      <th rowspan=\"2\" valign=\"top\">2012</th>\n",
       "      <th>0</th>\n",
       "      <td>3.025628e+07</td>\n",
       "      <td>1.726692</td>\n",
       "      <td>32.440945</td>\n",
       "      <td>1511.437500</td>\n",
       "      <td>13.074906</td>\n",
       "      <td>NaN</td>\n",
       "      <td>NaN</td>\n",
       "      <td>NaN</td>\n",
       "      <td>NaN</td>\n",
       "      <td>NaN</td>\n",
       "      <td>...</td>\n",
       "      <td>0.172512</td>\n",
       "      <td>240.604681</td>\n",
       "      <td>25.373683</td>\n",
       "      <td>2.217228</td>\n",
       "      <td>0.646146</td>\n",
       "      <td>0.0</td>\n",
       "      <td>1844.782503</td>\n",
       "      <td>202.430177</td>\n",
       "      <td>0.257230</td>\n",
       "      <td>3.385768</td>\n",
       "    </tr>\n",
       "    <tr>\n",
       "      <th>1</th>\n",
       "      <td>3.183310e+07</td>\n",
       "      <td>1.633333</td>\n",
       "      <td>24.800000</td>\n",
       "      <td>2012.000000</td>\n",
       "      <td>11.900000</td>\n",
       "      <td>0.0</td>\n",
       "      <td>0.0</td>\n",
       "      <td>0.000000</td>\n",
       "      <td>0.000000</td>\n",
       "      <td>0.00000</td>\n",
       "      <td>...</td>\n",
       "      <td>0.000000</td>\n",
       "      <td>294.507184</td>\n",
       "      <td>3.286667</td>\n",
       "      <td>2.500000</td>\n",
       "      <td>0.737302</td>\n",
       "      <td>0.0</td>\n",
       "      <td>2544.485001</td>\n",
       "      <td>251.523189</td>\n",
       "      <td>0.298114</td>\n",
       "      <td>3.800000</td>\n",
       "    </tr>\n",
       "  </tbody>\n",
       "</table>\n",
       "<p>63 rows × 67 columns</p>\n",
       "</div>"
      ],
      "text/plain": [
       "                            wikipedia_m_ID  actor_height  actor_age  \\\n",
       "m_release_year is_revealed                                            \n",
       "1981           0              8.146164e+06      1.751910  30.567485   \n",
       "               1              3.700303e+06      1.675667  27.200000   \n",
       "1982           0              6.456874e+06      1.714594  33.653333   \n",
       "1983           0              4.512391e+06      1.774408  32.991379   \n",
       "               1              8.685666e+06      1.700000  25.000000   \n",
       "...                                    ...           ...        ...   \n",
       "2010           1              2.424935e+07      1.750000  15.500000   \n",
       "2011           0              2.819469e+07      1.725079  31.621749   \n",
       "               1              2.765670e+07      1.742857  27.100000   \n",
       "2012           0              3.025628e+07      1.726692  32.440945   \n",
       "               1              3.183310e+07      1.633333  24.800000   \n",
       "\n",
       "                               min_year  nb_actors  1980  1981       1982  \\\n",
       "m_release_year is_revealed                                                  \n",
       "1981           0            1989.081081   9.053892   0.0   0.0  13.057143   \n",
       "               1            1981.000000   9.600000   0.0  67.6  33.800000   \n",
       "1982           0            1990.250000  12.868421   0.0   0.0   0.000000   \n",
       "1983           0            1875.705882  13.632479   0.0   0.0   0.000000   \n",
       "               1            1983.000000  12.250000   0.0   0.0   0.000000   \n",
       "...                                 ...        ...   ...   ...        ...   \n",
       "2010           1            2010.000000  13.500000   0.0   0.0   0.000000   \n",
       "2011           0            1831.818182  13.505669   0.0   0.0   0.000000   \n",
       "               1            2011.000000  12.400000   0.0   0.0   0.000000   \n",
       "2012           0            1511.437500  13.074906   NaN   NaN        NaN   \n",
       "               1            2012.000000  11.900000   0.0   0.0   0.000000   \n",
       "\n",
       "                                  1983       1984  ...     M_min      M_mean  \\\n",
       "m_release_year is_revealed                         ...                         \n",
       "1981           0             41.157143   38.52381  ...  0.000000    1.967591   \n",
       "               1             38.533333  116.90000  ...  0.000000   27.072857   \n",
       "1982           0             18.125000   52.06250  ...  0.000000   15.547941   \n",
       "1983           0              0.000000    0.00000  ...  0.000000   18.727097   \n",
       "               1            215.750000  107.87500  ...  0.000000   22.694444   \n",
       "...                                ...        ...  ...       ...         ...   \n",
       "2010           1              0.000000    0.00000  ...  0.000000  720.613025   \n",
       "2011           0              0.000000    0.00000  ...  0.000000  193.210291   \n",
       "               1              0.000000    0.00000  ...  0.000000  598.824382   \n",
       "2012           0                   NaN        NaN  ...  0.172512  240.604681   \n",
       "               1              0.000000    0.00000  ...  0.000000  294.507184   \n",
       "\n",
       "                             M_median  M_nb_famous_actors  \\\n",
       "m_release_year is_revealed                                  \n",
       "1981           0             0.868263            0.101796   \n",
       "               1             0.000000            0.800000   \n",
       "1982           0             0.000000            1.026316   \n",
       "1983           0             1.074074            1.034188   \n",
       "               1             0.000000            0.750000   \n",
       "...                               ...                 ...   \n",
       "2010           1             0.000000            3.500000   \n",
       "2011           0             7.232894            1.961364   \n",
       "               1            13.735088            3.600000   \n",
       "2012           0            25.373683            2.217228   \n",
       "               1             3.286667            2.500000   \n",
       "\n",
       "                            M_prop_famous_actors  already_revealed  \\\n",
       "m_release_year is_revealed                                           \n",
       "1981           0                        0.077844               0.0   \n",
       "               1                        0.700000               0.0   \n",
       "1982           0                        0.723684               0.0   \n",
       "1983           0                        0.840456               0.0   \n",
       "               1                        0.750000               0.0   \n",
       "...                                          ...               ...   \n",
       "2010           1                        0.785714               0.0   \n",
       "2011           0                        0.612648               0.0   \n",
       "               1                        0.715678               0.0   \n",
       "2012           0                        0.646146               0.0   \n",
       "               1                        0.737302               0.0   \n",
       "\n",
       "                            previous_score_max  previous_score_mean  \\\n",
       "m_release_year is_revealed                                            \n",
       "1981           0                           NaN                  NaN   \n",
       "               1                           NaN                  NaN   \n",
       "1982           0                    145.835526            12.953797   \n",
       "1983           0                    142.319088            13.743715   \n",
       "               1                    211.791667            13.600992   \n",
       "...                                        ...                  ...   \n",
       "2010           1                   4895.660069           603.252971   \n",
       "2011           0                   1817.704689           177.941275   \n",
       "               1                   4516.747427           507.391679   \n",
       "2012           0                   1844.782503           202.430177   \n",
       "               1                   2544.485001           251.523189   \n",
       "\n",
       "                            previous_score_prop_famous_actors  \\\n",
       "m_release_year is_revealed                                      \n",
       "1981           0                                          NaN   \n",
       "               1                                          NaN   \n",
       "1982           0                                     0.114949   \n",
       "1983           0                                     0.111038   \n",
       "               1                                     0.095833   \n",
       "...                                                       ...   \n",
       "2010           1                                     0.358333   \n",
       "2011           0                                     0.234736   \n",
       "               1                                     0.417401   \n",
       "2012           0                                     0.257230   \n",
       "               1                                     0.298114   \n",
       "\n",
       "                            previous_score_nb_famous_actors  \n",
       "m_release_year is_revealed                                   \n",
       "1981           0                                        NaN  \n",
       "               1                                        NaN  \n",
       "1982           0                                   1.407895  \n",
       "1983           0                                   1.273504  \n",
       "               1                                   1.000000  \n",
       "...                                                     ...  \n",
       "2010           1                                   5.000000  \n",
       "2011           0                                   3.217687  \n",
       "               1                                   5.400000  \n",
       "2012           0                                   3.385768  \n",
       "               1                                   3.800000  \n",
       "\n",
       "[63 rows x 67 columns]"
      ]
     },
     "execution_count": 67,
     "metadata": {},
     "output_type": "execute_result"
    }
   ],
   "source": [
    "revelation_at_first_movie.groupby(['m_release_year', 'is_revealed']).mean()"
   ]
  },
  {
   "cell_type": "code",
   "execution_count": 68,
   "id": "f05e0a40",
   "metadata": {},
   "outputs": [
    {
     "data": {
      "text/plain": [
       "<AxesSubplot:xlabel='is_revealed', ylabel='score_prop_famous_actors'>"
      ]
     },
     "execution_count": 68,
     "metadata": {},
     "output_type": "execute_result"
    },
    {
     "data": {
      "image/png": "[encoded data removed]",
      "text/plain": [
       "<Figure size 432x288 with 1 Axes>"
      ]
     },
     "metadata": {
      "needs_background": "light"
     },
     "output_type": "display_data"
    }
   ],
   "source": [
    "sns.boxplot(data=revelation_at_first_movie, x='is_revealed', y='score_prop_famous_actors')"
   ]
  },
  {
   "cell_type": "code",
   "execution_count": 69,
   "id": "9b27e54d",
   "metadata": {},
   "outputs": [
    {
     "data": {
      "text/plain": [
       "Ttest_indResult(statistic=1.9623609921086, pvalue=0.04974326851925275)"
      ]
     },
     "execution_count": 69,
     "metadata": {},
     "output_type": "execute_result"
    }
   ],
   "source": [
    "revealed_at_first_movie = revelation_at_first_movie[revelation_at_first_movie['is_revealed'] == 1]\n",
    "not_revealed_at_first_movie = revelation_at_first_movie[revelation_at_first_movie['is_revealed'] == 0]\n",
    "ttest_ind(revealed_at_first_movie['score_prop_famous_actors'], not_revealed_at_first_movie['score_prop_famous_actors'])"
   ]
  },
  {
   "cell_type": "code",
   "execution_count": 70,
   "id": "7f3a6539",
   "metadata": {},
   "outputs": [
    {
     "data": {
      "text/plain": [
       "Ttest_indResult(statistic=2.8609403358600147, pvalue=0.004231074881190308)"
      ]
     },
     "execution_count": 70,
     "metadata": {},
     "output_type": "execute_result"
    }
   ],
   "source": [
    "ttest_ind(revealed_at_first_movie['score_max'], not_revealed_at_first_movie['score_max'])"
   ]
  },
  {
   "cell_type": "code",
   "execution_count": 71,
   "id": "93ee5d55",
   "metadata": {},
   "outputs": [
    {
     "data": {
      "text/plain": [
       "Ttest_indResult(statistic=3.900621805497332, pvalue=9.646292594792792e-05)"
      ]
     },
     "execution_count": 71,
     "metadata": {},
     "output_type": "execute_result"
    }
   ],
   "source": [
    "ttest_ind(revealed_at_first_movie['score_nb_famous_actors'], not_revealed_at_first_movie['score_nb_famous_actors'])"
   ]
  },
  {
   "cell_type": "markdown",
   "id": "3bc468fa",
   "metadata": {},
   "source": [
    "## 4.3 Prediction"
   ]
  },
  {
   "cell_type": "code",
   "execution_count": 72,
   "id": "d48e86e8",
   "metadata": {},
   "outputs": [
    {
     "name": "stdout",
     "output_type": "stream",
     "text": [
      "Accuracy on the training data: 58.36%\n"
     ]
    }
   ],
   "source": [
    "X = dataset.drop('is_revealed', axis=1)\n",
    "y = dataset['is_revealed']\n",
    "\n",
    "X_train, X_test, y_train, y_test = train_test_split(X, y, test_size=0.3, random_state=42)\n",
    "\n",
    "scaler = StandardScaler()\n",
    "scaler.fit(X_train)\n",
    "X_train = scaler.transform(X_train)\n",
    "X_test = scaler.transform(X_test)\n",
    "\n",
    "# Dictionary to store the results\n",
    "logistic_regression_results = dict()\n",
    "\n",
    "# Build and fit classifier to training data\n",
    "clf = LogisticRegression(solver='liblinear', max_iter=10000, C=1, class_weight='balanced')\n",
    "clf.fit(X_train, y_train)\n",
    "\n",
    "# Training set accuracy\n",
    "y_pred = clf.predict(X_train)\n",
    "acc_tr = accuracy_score(y_pred, y_train) * 100\n",
    "print(\"Accuracy on the training data: {:.2f}%\".format(acc_tr))"
   ]
  },
  {
   "cell_type": "code",
   "execution_count": 73,
   "id": "a8042360",
   "metadata": {},
   "outputs": [
    {
     "name": "stdout",
     "output_type": "stream",
     "text": [
      "              precision    recall  f1-score   support\n",
      "\n",
      "           0       0.65      0.99      0.79      2375\n",
      "           1       0.54      0.02      0.04      1270\n",
      "\n",
      "    accuracy                           0.65      3645\n",
      "   macro avg       0.60      0.51      0.41      3645\n",
      "weighted avg       0.62      0.65      0.53      3645\n",
      "\n"
     ]
    }
   ],
   "source": [
    "# Predict the binary output with a cross validationn\n",
    "y_pred = cross_val_predict(clf, X_test, y_test, cv=10, method=\"predict\")\n",
    "# Compute the False Positive Rate and True Positive Rate\n",
    "print(classification_report(y_pred, y_test))"
   ]
  },
  {
   "cell_type": "code",
   "execution_count": 74,
   "id": "1a3ab27f",
   "metadata": {},
   "outputs": [
    {
     "data": {
      "image/png": "[encoded data removed]",
      "text/plain": [
       "<Figure size 576x360 with 2 Axes>"
      ]
     },
     "metadata": {
      "needs_background": "light"
     },
     "output_type": "display_data"
    }
   ],
   "source": [
    "# Creation of confusion matrix\n",
    "cm = confusion_matrix(y_test, y_pred)\n",
    "conf_matrix=pd.DataFrame(data=cm, columns=['Predicted: 0', 'Predicted: 1'], index=['Actual: 0', 'Actual: 1'])\n",
    "logistic_regression_results.update({'cm': conf_matrix})\n",
    "\n",
    "# Plot confusion matrix\n",
    "plt.figure(figsize=(8, 5))\n",
    "sns.heatmap(conf_matrix, annot=True, fmt='d', cmap = 'Reds')\n",
    "plt.title(\"Confusion matrix\")\n",
    "plt.show()"
   ]
  },
  {
   "cell_type": "code",
   "execution_count": 75,
   "id": "1c8dfd9d",
   "metadata": {},
   "outputs": [
    {
     "data": {
      "image/png": "[encoded data removed]",
      "text/plain": [
       "<Figure size 1080x432 with 2 Axes>"
      ]
     },
     "metadata": {
      "needs_background": "light"
     },
     "output_type": "display_data"
    }
   ],
   "source": [
    "# Predict the probabilities with a cross validationn\n",
    "y_pred = cross_val_predict(clf, X_test, y_test, cv=10, method=\"predict_proba\")\n",
    "\n",
    "#Compute the precision and recall\n",
    "precision, recall, _ = precision_recall_curve(y_test, y_pred[:, 1])\n",
    "\n",
    "#Compute the false positive rate and true positive rate\n",
    "fpr, tpr, _ = roc_curve(y_test, y_pred[:, 1])\n",
    "\n",
    "# Compute the area under the P-R curve and ROC curve\n",
    "pr_score = auc(recall, precision)\n",
    "roc_score = auc(fpr, tpr)\n",
    "\n",
    "# Plot P-R curve and ROC curve\n",
    "fig, axs = plt.subplots(1, 2, figsize=(15, 6))\n",
    "\n",
    "ax = axs[0]\n",
    "ax.plot(recall, precision, label='logistic')\n",
    "ax.plot([1, 0], [0, 1],'r--', label = 'no skill')\n",
    "ax.set_xlabel(\"Recall\")\n",
    "ax.set_ylabel(\"Precision\")\n",
    "ax.set_title(\"Precision-Recall Curve - Area = {:.3f}\".format(pr_score))\n",
    "ax.legend(loc = 'lower left')\n",
    "\n",
    "ax = axs[1]\n",
    "ax.plot(fpr, tpr, label='logistic')\n",
    "ax.plot([0, 1], [0, 1],'r--', label = 'no skill')\n",
    "ax.set_xlabel(\"False positive rate\")\n",
    "ax.set_ylabel(\"True positive rate\")\n",
    "ax.set_title(\"ROC Curve - Area = {:.3f}\".format(roc_score))\n",
    "ax.legend(loc = 'lower right')\n",
    "\n",
    "fig.suptitle('Logistic regression')\n",
    "fig.tight_layout()\n",
    "plt.show()"
   ]
  },
  {
   "cell_type": "code",
   "execution_count": 76,
   "id": "057c9a1d",
   "metadata": {},
   "outputs": [
    {
     "data": {
      "image/png": "[encoded data removed]",
      "text/plain": [
       "<Figure size 360x504 with 1 Axes>"
      ]
     },
     "metadata": {
      "needs_background": "light"
     },
     "output_type": "display_data"
    }
   ],
   "source": [
    "# Weight of each column in logistic regression\n",
    "tmp = []\n",
    "for name, value in zip(dataset.columns, clf.coef_[0]):\n",
    "    tmp.append({\"name\": name, \"value\": value})\n",
    "    \n",
    "features_coef = pd.DataFrame(tmp).sort_values(\"value\")\n",
    "\n",
    "plt.subplots(figsize=(5,7))\n",
    "plt.barh(features_coef.name, features_coef.value, alpha=0.6)\n",
    "plt.show()"
   ]
  },
  {
   "cell_type": "markdown",
   "id": "332286a8",
   "metadata": {},
   "source": [
    "# 5. Movie revelation prediction"
   ]
  },
  {
   "cell_type": "markdown",
   "id": "f2653c6f",
   "metadata": {},
   "source": [
    "## 5.1 Grouping movies by actors"
   ]
  },
  {
   "cell_type": "code",
   "execution_count": 77,
   "id": "dbf0b98b",
   "metadata": {},
   "outputs": [
    {
     "data": {
      "text/html": [
       "<div>\n",
       "<style scoped>\n",
       "    .dataframe tbody tr th:only-of-type {\n",
       "        vertical-align: middle;\n",
       "    }\n",
       "\n",
       "    .dataframe tbody tr th {\n",
       "        vertical-align: top;\n",
       "    }\n",
       "\n",
       "    .dataframe thead th {\n",
       "        text-align: right;\n",
       "    }\n",
       "</style>\n",
       "<table border=\"1\" class=\"dataframe\">\n",
       "  <thead>\n",
       "    <tr style=\"text-align: right;\">\n",
       "      <th></th>\n",
       "      <th>wikipedia_m_ID</th>\n",
       "      <th>has_revelation</th>\n",
       "    </tr>\n",
       "  </thead>\n",
       "  <tbody>\n",
       "    <tr>\n",
       "      <th>0</th>\n",
       "      <td>3746</td>\n",
       "      <td>1</td>\n",
       "    </tr>\n",
       "    <tr>\n",
       "      <th>1</th>\n",
       "      <td>3947</td>\n",
       "      <td>0</td>\n",
       "    </tr>\n",
       "    <tr>\n",
       "      <th>2</th>\n",
       "      <td>4231</td>\n",
       "      <td>0</td>\n",
       "    </tr>\n",
       "    <tr>\n",
       "      <th>3</th>\n",
       "      <td>4560</td>\n",
       "      <td>0</td>\n",
       "    </tr>\n",
       "    <tr>\n",
       "      <th>4</th>\n",
       "      <td>4726</td>\n",
       "      <td>0</td>\n",
       "    </tr>\n",
       "  </tbody>\n",
       "</table>\n",
       "</div>"
      ],
      "text/plain": [
       "   wikipedia_m_ID  has_revelation\n",
       "0            3746               1\n",
       "1            3947               0\n",
       "2            4231               0\n",
       "3            4560               0\n",
       "4            4726               0"
      ]
     },
     "execution_count": 77,
     "metadata": {},
     "output_type": "execute_result"
    }
   ],
   "source": [
    "df_movie_revelation = df_final.groupby('wikipedia_m_ID')['is_revealed'].sum().copy().reset_index()\n",
    "df_movie_revelation.rename({'is_revealed' : 'has_revelation'}, axis=1, inplace=True)\n",
    "df_movie_revelation['has_revelation'] = (df_movie_revelation['has_revelation'] > 0).astype(int)\n",
    "df_movie_revelation.head()"
   ]
  },
  {
   "cell_type": "code",
   "execution_count": 78,
   "id": "d6463e3a",
   "metadata": {},
   "outputs": [
    {
     "data": {
      "text/plain": [
       "0    10878\n",
       "1      949\n",
       "Name: has_revelation, dtype: int64"
      ]
     },
     "execution_count": 78,
     "metadata": {},
     "output_type": "execute_result"
    }
   ],
   "source": [
    "df_movie_revelation['has_revelation'].value_counts()"
   ]
  },
  {
   "cell_type": "code",
   "execution_count": 79,
   "id": "900ab24d",
   "metadata": {},
   "outputs": [],
   "source": [
    "df_chars_revelation = df_final.merge(df_movie_revelation, on='wikipedia_m_ID', how='left').copy().sort_values(['wikipedia_m_ID', 'is_revealed'], ascending=False)"
   ]
  },
  {
   "cell_type": "code",
   "execution_count": 80,
   "id": "2ba783f5",
   "metadata": {},
   "outputs": [],
   "source": [
    "df_revelation = df_chars_revelation.drop_duplicates(subset=['wikipedia_m_ID', 'has_revelation'], keep='first')"
   ]
  },
  {
   "cell_type": "code",
   "execution_count": 81,
   "id": "4b23bf4d",
   "metadata": {},
   "outputs": [],
   "source": [
    "df_revelation = df_revelation[df_revelation['score_nb_famous_actors'] > 0].copy()"
   ]
  },
  {
   "cell_type": "code",
   "execution_count": 82,
   "id": "5315e20c",
   "metadata": {},
   "outputs": [
    {
     "data": {
      "text/html": [
       "<div>\n",
       "<style scoped>\n",
       "    .dataframe tbody tr th:only-of-type {\n",
       "        vertical-align: middle;\n",
       "    }\n",
       "\n",
       "    .dataframe tbody tr th {\n",
       "        vertical-align: top;\n",
       "    }\n",
       "\n",
       "    .dataframe thead th {\n",
       "        text-align: right;\n",
       "    }\n",
       "</style>\n",
       "<table border=\"1\" class=\"dataframe\">\n",
       "  <thead>\n",
       "    <tr style=\"text-align: right;\">\n",
       "      <th></th>\n",
       "      <th>wikipedia_m_ID</th>\n",
       "      <th>actor_height</th>\n",
       "      <th>actor_age</th>\n",
       "      <th>m_release_year</th>\n",
       "      <th>min_year</th>\n",
       "      <th>nb_actors</th>\n",
       "      <th>1980</th>\n",
       "      <th>1981</th>\n",
       "      <th>1982</th>\n",
       "      <th>1983</th>\n",
       "      <th>...</th>\n",
       "      <th>M_mean</th>\n",
       "      <th>M_median</th>\n",
       "      <th>M_nb_famous_actors</th>\n",
       "      <th>M_prop_famous_actors</th>\n",
       "      <th>is_revealed</th>\n",
       "      <th>already_revealed</th>\n",
       "      <th>previous_score_max</th>\n",
       "      <th>previous_score_mean</th>\n",
       "      <th>previous_score_prop_famous_actors</th>\n",
       "      <th>previous_score_nb_famous_actors</th>\n",
       "    </tr>\n",
       "    <tr>\n",
       "      <th>has_revelation</th>\n",
       "      <th></th>\n",
       "      <th></th>\n",
       "      <th></th>\n",
       "      <th></th>\n",
       "      <th></th>\n",
       "      <th></th>\n",
       "      <th></th>\n",
       "      <th></th>\n",
       "      <th></th>\n",
       "      <th></th>\n",
       "      <th></th>\n",
       "      <th></th>\n",
       "      <th></th>\n",
       "      <th></th>\n",
       "      <th></th>\n",
       "      <th></th>\n",
       "      <th></th>\n",
       "      <th></th>\n",
       "      <th></th>\n",
       "      <th></th>\n",
       "      <th></th>\n",
       "    </tr>\n",
       "  </thead>\n",
       "  <tbody>\n",
       "    <tr>\n",
       "      <th>0</th>\n",
       "      <td>1.066139e+07</td>\n",
       "      <td>1.753816</td>\n",
       "      <td>38.519508</td>\n",
       "      <td>2000.543421</td>\n",
       "      <td>1787.184426</td>\n",
       "      <td>10.128400</td>\n",
       "      <td>0.0</td>\n",
       "      <td>0.000000</td>\n",
       "      <td>0.000000</td>\n",
       "      <td>0.000000</td>\n",
       "      <td>...</td>\n",
       "      <td>131.478926</td>\n",
       "      <td>13.848070</td>\n",
       "      <td>1.588830</td>\n",
       "      <td>0.676116</td>\n",
       "      <td>0.0</td>\n",
       "      <td>0.0</td>\n",
       "      <td>1870.838265</td>\n",
       "      <td>98.553096</td>\n",
       "      <td>0.302877</td>\n",
       "      <td>3.377802</td>\n",
       "    </tr>\n",
       "    <tr>\n",
       "      <th>1</th>\n",
       "      <td>7.650263e+06</td>\n",
       "      <td>1.747865</td>\n",
       "      <td>32.014833</td>\n",
       "      <td>1999.855055</td>\n",
       "      <td>1999.855055</td>\n",
       "      <td>13.589525</td>\n",
       "      <td>0.0</td>\n",
       "      <td>1.046285</td>\n",
       "      <td>2.415956</td>\n",
       "      <td>4.002842</td>\n",
       "      <td>...</td>\n",
       "      <td>179.458786</td>\n",
       "      <td>7.201728</td>\n",
       "      <td>2.121803</td>\n",
       "      <td>0.696955</td>\n",
       "      <td>1.0</td>\n",
       "      <td>0.0</td>\n",
       "      <td>3171.821531</td>\n",
       "      <td>119.219135</td>\n",
       "      <td>0.331984</td>\n",
       "      <td>4.809113</td>\n",
       "    </tr>\n",
       "  </tbody>\n",
       "</table>\n",
       "<p>2 rows × 69 columns</p>\n",
       "</div>"
      ],
      "text/plain": [
       "                wikipedia_m_ID  actor_height  actor_age  m_release_year  \\\n",
       "has_revelation                                                            \n",
       "0                 1.066139e+07      1.753816  38.519508     2000.543421   \n",
       "1                 7.650263e+06      1.747865  32.014833     1999.855055   \n",
       "\n",
       "                   min_year  nb_actors  1980      1981      1982      1983  \\\n",
       "has_revelation                                                               \n",
       "0               1787.184426  10.128400   0.0  0.000000  0.000000  0.000000   \n",
       "1               1999.855055  13.589525   0.0  1.046285  2.415956  4.002842   \n",
       "\n",
       "                ...      M_mean   M_median  M_nb_famous_actors  \\\n",
       "has_revelation  ...                                              \n",
       "0               ...  131.478926  13.848070            1.588830   \n",
       "1               ...  179.458786   7.201728            2.121803   \n",
       "\n",
       "                M_prop_famous_actors  is_revealed  already_revealed  \\\n",
       "has_revelation                                                        \n",
       "0                           0.676116          0.0               0.0   \n",
       "1                           0.696955          1.0               0.0   \n",
       "\n",
       "                previous_score_max  previous_score_mean  \\\n",
       "has_revelation                                            \n",
       "0                      1870.838265            98.553096   \n",
       "1                      3171.821531           119.219135   \n",
       "\n",
       "                previous_score_prop_famous_actors  \\\n",
       "has_revelation                                      \n",
       "0                                        0.302877   \n",
       "1                                        0.331984   \n",
       "\n",
       "                previous_score_nb_famous_actors  \n",
       "has_revelation                                   \n",
       "0                                      3.377802  \n",
       "1                                      4.809113  \n",
       "\n",
       "[2 rows x 69 columns]"
      ]
     },
     "execution_count": 82,
     "metadata": {},
     "output_type": "execute_result"
    }
   ],
   "source": [
    "df_revelation.groupby('has_revelation').mean()"
   ]
  },
  {
   "cell_type": "code",
   "execution_count": 83,
   "id": "9333edb6",
   "metadata": {},
   "outputs": [
    {
     "data": {
      "text/plain": [
       "<AxesSubplot:xlabel='has_revelation', ylabel='score_prop_famous_actors'>"
      ]
     },
     "execution_count": 83,
     "metadata": {},
     "output_type": "execute_result"
    },
    {
     "data": {
      "image/png": "[encoded data removed]",
      "text/plain": [
       "<Figure size 432x288 with 1 Axes>"
      ]
     },
     "metadata": {
      "needs_background": "light"
     },
     "output_type": "display_data"
    }
   ],
   "source": [
    "sns.boxplot(data=df_revelation, x='has_revelation',y='score_prop_famous_actors')"
   ]
  },
  {
   "cell_type": "code",
   "execution_count": 84,
   "id": "b3339f67",
   "metadata": {},
   "outputs": [
    {
     "data": {
      "text/plain": [
       "has_revelation\n",
       "0    0.676116\n",
       "1    0.696955\n",
       "Name: M_prop_famous_actors, dtype: float64"
      ]
     },
     "execution_count": 84,
     "metadata": {},
     "output_type": "execute_result"
    }
   ],
   "source": [
    "df_revelation.groupby('has_revelation')['M_prop_famous_actors'].mean()"
   ]
  },
  {
   "cell_type": "code",
   "execution_count": 85,
   "id": "d3ed813d",
   "metadata": {},
   "outputs": [
    {
     "data": {
      "text/plain": [
       "has_revelation\n",
       "0    0.341249\n",
       "1    0.306403\n",
       "Name: F_prop_famous_actors, dtype: float64"
      ]
     },
     "execution_count": 85,
     "metadata": {},
     "output_type": "execute_result"
    }
   ],
   "source": [
    "df_revelation.groupby('has_revelation')['F_prop_famous_actors'].mean()"
   ]
  },
  {
   "cell_type": "code",
   "execution_count": 86,
   "id": "cbbb9c97",
   "metadata": {},
   "outputs": [],
   "source": [
    "list_columns = ['score_max',\n",
    " 'score_nb_famous_actors',\n",
    " 'score_prop_famous_actors',\n",
    " 'previous_score_max',\n",
    " 'previous_score_mean',\n",
    " 'previous_score_prop_famous_actors',\n",
    " 'previous_score_nb_famous_actors',\n",
    " 'm_release_year']"
   ]
  },
  {
   "cell_type": "code",
   "execution_count": 87,
   "id": "be93ca0b",
   "metadata": {},
   "outputs": [
    {
     "data": {
      "image/png": "[encoded data removed]",
      "text/plain": [
       "<Figure size 1080x576 with 2 Axes>"
      ]
     },
     "metadata": {
      "needs_background": "light"
     },
     "output_type": "display_data"
    }
   ],
   "source": [
    "columns = list_columns+['wikipedia_m_ID', 'actor_name', 'has_revelation']\n",
    "dataset = df_revelation[columns].groupby(['wikipedia_m_ID', 'actor_name']).mean().fillna(0)\n",
    "\n",
    "# Heatmap of the correlation between the attributes\n",
    "corr = dataset.corr()\n",
    "mask = np.triu(np.ones_like(corr, dtype='bool'))\n",
    "\n",
    "plt.figure(figsize=(15, 8))\n",
    "cmap = sns.diverging_palette(240,240, as_cmap=True)\n",
    "sns.heatmap(data=corr, cmap=cmap, center=0, mask=mask, annot=True)\n",
    "plt.show()"
   ]
  },
  {
   "cell_type": "code",
   "execution_count": 88,
   "id": "0ab1f189",
   "metadata": {},
   "outputs": [
    {
     "name": "stdout",
     "output_type": "stream",
     "text": [
      "Accuracy on the training data: 67.45%\n"
     ]
    }
   ],
   "source": [
    "X = dataset.drop('has_revelation', axis=1)\n",
    "y = dataset['has_revelation']\n",
    "\n",
    "X_train, X_test, y_train, y_test = train_test_split(X, y, test_size=0.3, random_state=42)\n",
    "\n",
    "scaler = StandardScaler()\n",
    "scaler.fit(X_train)\n",
    "X_train = scaler.transform(X_train)\n",
    "X_test = scaler.transform(X_test)\n",
    "\n",
    "# Dictionary to store the results\n",
    "logistic_regression_results = dict()\n",
    "\n",
    "# Build and fit classifier to training data\n",
    "clf = LogisticRegression(max_iter=10000, C=0.5, class_weight='balanced')\n",
    "clf.fit(X_train, y_train)\n",
    "\n",
    "# Training set accuracy\n",
    "y_pred = clf.predict(X_train)\n",
    "acc_tr = accuracy_score(y_pred, y_train) * 100\n",
    "print(\"Accuracy on the training data: {:.2f}%\".format(acc_tr))"
   ]
  },
  {
   "cell_type": "code",
   "execution_count": 89,
   "id": "ecd6b49b",
   "metadata": {},
   "outputs": [
    {
     "name": "stdout",
     "output_type": "stream",
     "text": [
      "              precision    recall  f1-score   support\n",
      "\n",
      "         0.0       0.72      0.95      0.82      1638\n",
      "         1.0       0.67      0.21      0.32       782\n",
      "\n",
      "    accuracy                           0.71      2420\n",
      "   macro avg       0.69      0.58      0.57      2420\n",
      "weighted avg       0.70      0.71      0.65      2420\n",
      "\n"
     ]
    }
   ],
   "source": [
    "# Predict the binary output with a cross validationn\n",
    "y_pred = cross_val_predict(clf, X_test, y_test, cv=10, method=\"predict\")\n",
    "# Compute the False Positive Rate and True Positive Rate\n",
    "print(classification_report(y_pred, y_test))"
   ]
  },
  {
   "cell_type": "code",
   "execution_count": 90,
   "id": "095e9ce8",
   "metadata": {},
   "outputs": [
    {
     "data": {
      "image/png": "[encoded data removed]",
      "text/plain": [
       "<Figure size 576x360 with 2 Axes>"
      ]
     },
     "metadata": {
      "needs_background": "light"
     },
     "output_type": "display_data"
    }
   ],
   "source": [
    "# Creation of confusion matrix\n",
    "cm = confusion_matrix(y_test, y_pred)\n",
    "conf_matrix=pd.DataFrame(data=cm, columns=['Predicted: 0', 'Predicted: 1'], index=['Actual: 0', 'Actual: 1'])\n",
    "logistic_regression_results.update({'cm': conf_matrix})\n",
    "\n",
    "# Plot confusion matrix\n",
    "plt.figure(figsize=(8, 5))\n",
    "sns.heatmap(conf_matrix, annot=True, fmt='d', cmap = 'Reds')\n",
    "plt.title(\"Confusion matrix\")\n",
    "plt.show()"
   ]
  },
  {
   "cell_type": "code",
   "execution_count": 91,
   "id": "2980617f",
   "metadata": {},
   "outputs": [
    {
     "data": {
      "image/png": "[encoded data removed]",
      "text/plain": [
       "<Figure size 1080x432 with 2 Axes>"
      ]
     },
     "metadata": {
      "needs_background": "light"
     },
     "output_type": "display_data"
    }
   ],
   "source": [
    "# Predict the probabilities with a cross validationn\n",
    "y_pred = cross_val_predict(clf, X_test, y_test, cv=10, method=\"predict_proba\")\n",
    "\n",
    "#Compute the precision and recall\n",
    "precision, recall, _ = precision_recall_curve(y_test, y_pred[:, 1])\n",
    "\n",
    "#Compute the false positive rate and true positive rate\n",
    "fpr, tpr, _ = roc_curve(y_test, y_pred[:, 1])\n",
    "\n",
    "# Compute the area under the P-R curve and ROC curve\n",
    "pr_score = auc(recall, precision)\n",
    "roc_score = auc(fpr, tpr)\n",
    "\n",
    "# Plot P-R curve and ROC curve\n",
    "fig, axs = plt.subplots(1, 2, figsize=(15, 6))\n",
    "\n",
    "ax = axs[0]\n",
    "ax.plot(recall, precision, label='logistic')\n",
    "ax.plot([1, 0], [0, 1],'r--', label = 'no skill')\n",
    "ax.set_xlabel(\"Recall\")\n",
    "ax.set_ylabel(\"Precision\")\n",
    "ax.set_title(\"Precision-Recall Curve - Area = {:.3f}\".format(pr_score))\n",
    "ax.legend(loc = 'lower left')\n",
    "\n",
    "ax = axs[1]\n",
    "ax.plot(fpr, tpr, label='logistic')\n",
    "ax.plot([0, 1], [0, 1],'r--', label = 'no skill')\n",
    "ax.set_xlabel(\"False positive rate\")\n",
    "ax.set_ylabel(\"True positive rate\")\n",
    "ax.set_title(\"ROC Curve - Area = {:.3f}\".format(roc_score))\n",
    "ax.legend(loc = 'lower right')\n",
    "\n",
    "fig.suptitle('Logistic regression')\n",
    "fig.tight_layout()\n",
    "plt.show()"
   ]
  },
  {
   "cell_type": "code",
   "execution_count": 92,
   "id": "e61c311b",
   "metadata": {},
   "outputs": [
    {
     "data": {
      "image/png": "[encoded data removed]",
      "text/plain": [
       "<Figure size 360x504 with 1 Axes>"
      ]
     },
     "metadata": {
      "needs_background": "light"
     },
     "output_type": "display_data"
    }
   ],
   "source": [
    "# Weight of each column in logistic regression\n",
    "tmp = []\n",
    "for name, value in zip(dataset.columns, clf.coef_[0]):\n",
    "    tmp.append({\"name\": name, \"value\": value})\n",
    "    \n",
    "features_coef = pd.DataFrame(tmp).sort_values(\"value\")\n",
    "\n",
    "plt.subplots(figsize=(5,7))\n",
    "plt.barh(features_coef.name, features_coef.value, alpha=0.6)\n",
    "plt.show()"
   ]
  },
  {
   "cell_type": "markdown",
   "id": "50c84095",
   "metadata": {},
   "source": [
    "# 6. Stay in the loop"
   ]
  },
  {
   "cell_type": "markdown",
   "id": "f9ed9c6e",
   "metadata": {},
   "source": [
    "## 6.1 Load the yearly numbers dataset"
   ]
  },
  {
   "cell_type": "code",
   "execution_count": null,
   "id": "3852199d",
   "metadata": {},
   "outputs": [],
   "source": [
    "SCORE_YEARLY_PATH = os.path.join(DATA_PATH, 'numbers_yearly.tsv')\n",
    "df_numbers_yearly=pd.read_csv(SCORE_YEARLY_PATH, sep=\"\\t\")\n",
    "df_numbers_yearly['m_release_date']=pd.to_datetime(df_chars['m_release_date'], errors = 'coerce')\n",
    "df_numbers_yearly.head(2)"
   ]
  },
  {
   "cell_type": "code",
   "execution_count": 93,
   "id": "e28d6639",
   "metadata": {},
   "outputs": [
    {
     "ename": "NameError",
     "evalue": "name 'df_numbers_yearly' is not defined",
     "output_type": "error",
     "traceback": [
      "\u001b[1;31m---------------------------------------------------------------------------\u001b[0m",
      "\u001b[1;31mNameError\u001b[0m                                 Traceback (most recent call last)",
      "Input \u001b[1;32mIn [93]\u001b[0m, in \u001b[0;36m<cell line: 1>\u001b[1;34m()\u001b[0m\n\u001b[1;32m----> 1\u001b[0m \u001b[43mdf_numbers_yearly\u001b[49m\u001b[38;5;241m.\u001b[39mhead(\u001b[38;5;241m2\u001b[39m)\n",
      "\u001b[1;31mNameError\u001b[0m: name 'df_numbers_yearly' is not defined"
     ]
    }
   ],
   "source": [
    "df_numbers_yearly.head(2)"
   ]
  },
  {
   "cell_type": "code",
   "execution_count": null,
   "id": "16c03283",
   "metadata": {},
   "outputs": [],
   "source": [
    "columns = df_numbers_yearly.columns[1:]"
   ]
  },
  {
   "cell_type": "code",
   "execution_count": null,
   "id": "a14247b6",
   "metadata": {},
   "outputs": [],
   "source": [
    "df_loop = df_chars_merged.loc[(df_chars_merged['already_revealed']==1) & (df_chars_merged['nb_years_acting']>=1)].sort_values(['actor_name', 'm_release_date']).drop_duplicates(['actor_name'], keep='first').copy()\n",
    "df_loop.drop(columns, axis=1, inplace=True)\n",
    "df_loop = df_loop.merge(df_numbers_yearly, on='actor_name', how='left').copy()\n",
    "df_loop.dropna(subset=['actor_gender'], inplace=True)\n",
    "df_loop.head()"
   ]
  },
  {
   "cell_type": "code",
   "execution_count": null,
   "id": "ff9dc703",
   "metadata": {},
   "outputs": [],
   "source": [
    "df_loop['actor_gender'].value_counts()"
   ]
  },
  {
   "cell_type": "code",
   "execution_count": null,
   "id": "a6102efa",
   "metadata": {},
   "outputs": [],
   "source": [
    "def get_score_year(row):\n",
    "    release_year = row['m_release_date'].year\n",
    "    return int(row['{}'.format(release_year)] > 0)"
   ]
  },
  {
   "cell_type": "code",
   "execution_count": null,
   "id": "272084f2",
   "metadata": {},
   "outputs": [],
   "source": [
    "df_loop['still_ranked'] = df_loop.apply(lambda row: get_score_year(row), axis=1)"
   ]
  },
  {
   "cell_type": "code",
   "execution_count": null,
   "id": "4e6d92f0",
   "metadata": {},
   "outputs": [],
   "source": [
    "df_loop['is_main_actor'] = (df_loop['score_max'] == df_loop['min_year_score']).astype(int)"
   ]
  },
  {
   "cell_type": "code",
   "execution_count": null,
   "id": "e9aa1983",
   "metadata": {},
   "outputs": [],
   "source": [
    "df_loop['is_main_actor'].sum()"
   ]
  },
  {
   "cell_type": "code",
   "execution_count": null,
   "id": "c3321df5",
   "metadata": {},
   "outputs": [],
   "source": [
    "df_loop['still_ranked'].sum()"
   ]
  },
  {
   "cell_type": "code",
   "execution_count": null,
   "id": "f6848f60",
   "metadata": {},
   "outputs": [],
   "source": [
    "df_loop[df_loop['still_ranked'] == 1]['is_main_actor'].sum()"
   ]
  },
  {
   "cell_type": "code",
   "execution_count": null,
   "id": "d5b520f8",
   "metadata": {},
   "outputs": [],
   "source": [
    "df_loop.loc[(df_loop['is_main_actor'] == 0) & (df_loop['still_ranked'] == 0)].shape"
   ]
  },
  {
   "cell_type": "code",
   "execution_count": null,
   "id": "aa8711f8",
   "metadata": {},
   "outputs": [],
   "source": [
    "df_loop.loc[(df_loop['is_main_actor'] == 1) & (df_loop['still_ranked'] == 0)].shape"
   ]
  },
  {
   "cell_type": "code",
   "execution_count": null,
   "id": "54aa16df",
   "metadata": {},
   "outputs": [],
   "source": [
    "df_loop.loc[(df_loop['is_main_actor'] == 1) & (df_loop['still_ranked'] == 1)].shape"
   ]
  },
  {
   "cell_type": "code",
   "execution_count": null,
   "id": "fd23eede",
   "metadata": {},
   "outputs": [],
   "source": [
    "df_loop.loc[(df_loop['is_main_actor'] == 0) & (df_loop['still_ranked'] == 1)].shape"
   ]
  },
  {
   "cell_type": "code",
   "execution_count": null,
   "id": "1b64452a",
   "metadata": {},
   "outputs": [],
   "source": [
    "#df_loop.drop_duplicates('wikipedia_m_ID', keep='first', inplace=True)"
   ]
  },
  {
   "cell_type": "code",
   "execution_count": null,
   "id": "af66c394",
   "metadata": {},
   "outputs": [],
   "source": [
    "df_loop['wikipedia_m_ID'].nunique()"
   ]
  },
  {
   "cell_type": "code",
   "execution_count": null,
   "id": "c1a7d1c1",
   "metadata": {},
   "outputs": [],
   "source": [
    "df_loop.groupby('still_ranked')[list_columns+['is_main_actor']].mean()"
   ]
  },
  {
   "cell_type": "code",
   "execution_count": null,
   "id": "f5b91184",
   "metadata": {},
   "outputs": [],
   "source": [
    "df_loop[df_loop['actor_gender']=='M'].groupby('still_ranked')[list_columns+['is_main_actor']].mean()"
   ]
  },
  {
   "cell_type": "code",
   "execution_count": null,
   "id": "4e3a5b7b",
   "metadata": {},
   "outputs": [],
   "source": [
    "df_loop[df_loop['actor_gender']=='F'].groupby('still_ranked')[list_columns+['is_main_actor']].mean()"
   ]
  },
  {
   "cell_type": "code",
   "execution_count": null,
   "id": "6a56d84d",
   "metadata": {},
   "outputs": [],
   "source": [
    "sns.histplot(data=df_loop,x='actor_gender',hue='still_ranked', cumulative=False, multiple='fill', stat='proportion')\n",
    "plt.grid();"
   ]
  },
  {
   "cell_type": "code",
   "execution_count": null,
   "id": "19faea14",
   "metadata": {},
   "outputs": [],
   "source": [
    "sns.boxplot(data=df_loop,x='actor_gender',y='score_max', hue='still_ranked')"
   ]
  },
  {
   "cell_type": "code",
   "execution_count": null,
   "id": "5a232608",
   "metadata": {},
   "outputs": [],
   "source": [
    "sns.boxplot(data=df_loop,x='actor_gender',y='F_max', hue='still_ranked')"
   ]
  },
  {
   "cell_type": "code",
   "execution_count": null,
   "id": "f3814b51",
   "metadata": {},
   "outputs": [],
   "source": [
    "sns.boxplot(data=df_loop,x='actor_gender',y='M_max', hue='still_ranked')"
   ]
  },
  {
   "cell_type": "code",
   "execution_count": null,
   "id": "7a3a5e16",
   "metadata": {},
   "outputs": [],
   "source": [
    "df_tmp = df_loop.dropna()\n",
    "ttest_ind(df_tmp[df_tmp['still_ranked']==1]['M_max'], df_tmp[df_tmp['still_ranked']==0]['M_max'])"
   ]
  },
  {
   "cell_type": "code",
   "execution_count": null,
   "id": "0e13e0a6",
   "metadata": {},
   "outputs": [],
   "source": [
    "ttest_ind(df_tmp[df_tmp['still_ranked']==1]['F_max'], df_tmp[df_tmp['still_ranked']==0]['F_max'])"
   ]
  }
 ],
 "metadata": {
  "kernelspec": {
   "display_name": "Python 3 (ipykernel)",
   "language": "python",
   "name": "python3"
  },
  "language_info": {
   "codemirror_mode": {
    "name": "ipython",
    "version": 3
   },
   "file_extension": ".py",
   "mimetype": "text/x-python",
   "name": "python",
   "nbconvert_exporter": "python",
   "pygments_lexer": "ipython3",
   "version": "3.9.12"
  }
 },
 "nbformat": 4,
 "nbformat_minor": 5
}
