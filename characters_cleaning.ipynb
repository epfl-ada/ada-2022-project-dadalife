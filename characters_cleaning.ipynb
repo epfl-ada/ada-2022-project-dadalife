{
 "cells": [
  {
   "cell_type": "code",
   "execution_count": 28,
   "id": "aa5cc897",
   "metadata": {},
   "outputs": [],
   "source": [
    "import operator\n",
    "import random\n",
    "import requests\n",
    "import time\n",
    "import csv\n",
    "import os\n",
    "import pandas as pd\n",
    "import seaborn as sns\n",
    "import numpy as np\n",
    "import networkx as nx\n",
    "from scipy import stats\n",
    "from ast import literal_eval\n",
    "from matplotlib import pyplot as plt\n",
    "from statsmodels.stats import diagnostic\n",
    "from datetime import datetime\n",
    "from sklearn.manifold import TSNE\n",
    "from sklearn.decomposition import PCA\n",
    "from sklearn.preprocessing import StandardScaler, MinMaxScaler\n",
    "\n",
    "#colors used when comparing genders\n",
    "PURPLE = 'purple'\n",
    "ORANGE = '#ffb82c'\n",
    "\n",
    "#colors used when generic comparisons\n",
    "BLUE = '#0173b2'\n",
    "RED = '#d55e00'\n",
    "\n",
    "#print(sns.color_palette(\"colorblind\").as_hex())\n",
    "#sns.color_palette(\"colorblind\")"
   ]
  },
  {
   "cell_type": "code",
   "execution_count": 29,
   "id": "c3079717",
   "metadata": {},
   "outputs": [
    {
     "data": {
      "text/html": [
       "\n",
       "<style>\n",
       ".output_png {\n",
       "    display: table-cell;\n",
       "    text-align: center;\n",
       "    vertical-align: middle;\n",
       "}\n",
       "</style>\n"
      ],
      "text/plain": [
       "<IPython.core.display.HTML object>"
      ]
     },
     "execution_count": 29,
     "metadata": {},
     "output_type": "execute_result"
    }
   ],
   "source": [
    "from IPython.core.display import HTML\n",
    "HTML(\"\"\"\n",
    "<style>\n",
    ".output_png {\n",
    "    display: table-cell;\n",
    "    text-align: center;\n",
    "    vertical-align: middle;\n",
    "}\n",
    "</style>\n",
    "\"\"\")"
   ]
  },
  {
   "cell_type": "markdown",
   "id": "9acafde8",
   "metadata": {},
   "source": [
    "# 1. Load the characters dataset\n",
    "<a class=\"anchor\" id=\"load\"></a>"
   ]
  },
  {
   "cell_type": "code",
   "execution_count": 30,
   "id": "201443db",
   "metadata": {},
   "outputs": [],
   "source": [
    "DATA_PATH = './data'\n",
    "CHAR_PATH = os.path.join(DATA_PATH, 'character.metadata.tsv')\n",
    "ETHNICITIES_PATH =  os.path.join('ethnicities.csv')"
   ]
  },
  {
   "cell_type": "code",
   "execution_count": 31,
   "id": "549a98de",
   "metadata": {},
   "outputs": [],
   "source": [
    "a_cols = ['wikipedia_m_ID', 'freebase_m_ID', 'm_release_date','character_name', 'actor_dob', 'actor_gender', 'actor_height', 'actor_ethnicity', 'actor_name', 'actor_age', 'freebase_character_map', 'freebase_character_id', 'freebase_actor_id']\n",
    "df_chars=pd.read_csv(CHAR_PATH, sep='\\t', names=a_cols)"
   ]
  },
  {
   "cell_type": "markdown",
   "id": "f35e34b6",
   "metadata": {},
   "source": [
    "# 2. Quick look at the data\n",
    "<a class=\"anchor\" id=\"quicklook\"></a>"
   ]
  },
  {
   "cell_type": "code",
   "execution_count": 5,
   "id": "ea825008",
   "metadata": {},
   "outputs": [
    {
     "name": "stdout",
     "output_type": "stream",
     "text": [
      "<class 'pandas.core.frame.DataFrame'>\n",
      "RangeIndex: 450669 entries, 0 to 450668\n",
      "Data columns (total 13 columns):\n",
      " #   Column                  Non-Null Count   Dtype  \n",
      "---  ------                  --------------   -----  \n",
      " 0   wikipedia_m_ID          450669 non-null  int64  \n",
      " 1   freebase_m_ID           450669 non-null  object \n",
      " 2   m_release_date          440674 non-null  object \n",
      " 3   character_name          192794 non-null  object \n",
      " 4   actor_dob               344524 non-null  object \n",
      " 5   actor_gender            405060 non-null  object \n",
      " 6   actor_height            154824 non-null  float64\n",
      " 7   actor_ethnicity         106058 non-null  object \n",
      " 8   actor_name              449441 non-null  object \n",
      " 9   actor_age               292556 non-null  float64\n",
      " 10  freebase_character_map  450669 non-null  object \n",
      " 11  freebase_character_id   192804 non-null  object \n",
      " 12  freebase_actor_id       449854 non-null  object \n",
      "dtypes: float64(2), int64(1), object(10)\n",
      "memory usage: 44.7+ MB\n"
     ]
    }
   ],
   "source": [
    "df_chars.info()"
   ]
  },
  {
   "cell_type": "code",
   "execution_count": 6,
   "id": "b65b35eb",
   "metadata": {},
   "outputs": [
    {
     "data": {
      "text/html": [
       "<div>\n",
       "<style scoped>\n",
       "    .dataframe tbody tr th:only-of-type {\n",
       "        vertical-align: middle;\n",
       "    }\n",
       "\n",
       "    .dataframe tbody tr th {\n",
       "        vertical-align: top;\n",
       "    }\n",
       "\n",
       "    .dataframe thead th {\n",
       "        text-align: right;\n",
       "    }\n",
       "</style>\n",
       "<table border=\"1\" class=\"dataframe\">\n",
       "  <thead>\n",
       "    <tr style=\"text-align: right;\">\n",
       "      <th></th>\n",
       "      <th>wikipedia_m_ID</th>\n",
       "      <th>freebase_m_ID</th>\n",
       "      <th>m_release_date</th>\n",
       "      <th>character_name</th>\n",
       "      <th>actor_dob</th>\n",
       "      <th>actor_gender</th>\n",
       "      <th>actor_height</th>\n",
       "      <th>actor_ethnicity</th>\n",
       "      <th>actor_name</th>\n",
       "      <th>actor_age</th>\n",
       "      <th>freebase_character_map</th>\n",
       "      <th>freebase_character_id</th>\n",
       "      <th>freebase_actor_id</th>\n",
       "    </tr>\n",
       "  </thead>\n",
       "  <tbody>\n",
       "    <tr>\n",
       "      <th>122012</th>\n",
       "      <td>1146934</td>\n",
       "      <td>/m/04bb7p</td>\n",
       "      <td>1997-12-03</td>\n",
       "      <td>NaN</td>\n",
       "      <td>1947-02-24</td>\n",
       "      <td>M</td>\n",
       "      <td>NaN</td>\n",
       "      <td>NaN</td>\n",
       "      <td>Mike Hodge</td>\n",
       "      <td>50.0</td>\n",
       "      <td>/m/0gcjq6d</td>\n",
       "      <td>NaN</td>\n",
       "      <td>/m/0d28jrv</td>\n",
       "    </tr>\n",
       "    <tr>\n",
       "      <th>225026</th>\n",
       "      <td>13931033</td>\n",
       "      <td>/m/03cnkmw</td>\n",
       "      <td>2007-09-28</td>\n",
       "      <td>Zé Tabacão</td>\n",
       "      <td>NaN</td>\n",
       "      <td>M</td>\n",
       "      <td>NaN</td>\n",
       "      <td>NaN</td>\n",
       "      <td>Otto Ferreira</td>\n",
       "      <td>NaN</td>\n",
       "      <td>/m/0jvv2yb</td>\n",
       "      <td>/m/0jvv2yf</td>\n",
       "      <td>/m/0jvv2yn</td>\n",
       "    </tr>\n",
       "    <tr>\n",
       "      <th>441414</th>\n",
       "      <td>10657592</td>\n",
       "      <td>/m/02qlg4b</td>\n",
       "      <td>2004</td>\n",
       "      <td>Bhai</td>\n",
       "      <td>1954-05-25</td>\n",
       "      <td>M</td>\n",
       "      <td>NaN</td>\n",
       "      <td>/m/04mvp8</td>\n",
       "      <td>Murali</td>\n",
       "      <td>49.0</td>\n",
       "      <td>/m/0h882_f</td>\n",
       "      <td>/m/0h882_h</td>\n",
       "      <td>/m/02qy3py</td>\n",
       "    </tr>\n",
       "    <tr>\n",
       "      <th>227637</th>\n",
       "      <td>2374400</td>\n",
       "      <td>/m/077dlr</td>\n",
       "      <td>1999</td>\n",
       "      <td>Turner</td>\n",
       "      <td>1948-12-21</td>\n",
       "      <td>M</td>\n",
       "      <td>1.89</td>\n",
       "      <td>/m/0x67</td>\n",
       "      <td>Samuel L. Jackson</td>\n",
       "      <td>50.0</td>\n",
       "      <td>/m/0cs30vm</td>\n",
       "      <td>/m/0gy9d2n</td>\n",
       "      <td>/m/0f5xn</td>\n",
       "    </tr>\n",
       "  </tbody>\n",
       "</table>\n",
       "</div>"
      ],
      "text/plain": [
       "        wikipedia_m_ID freebase_m_ID m_release_date character_name  \\\n",
       "122012         1146934     /m/04bb7p     1997-12-03            NaN   \n",
       "225026        13931033    /m/03cnkmw     2007-09-28     Zé Tabacão   \n",
       "441414        10657592    /m/02qlg4b           2004           Bhai   \n",
       "227637         2374400     /m/077dlr           1999         Turner   \n",
       "\n",
       "         actor_dob actor_gender  actor_height actor_ethnicity  \\\n",
       "122012  1947-02-24            M           NaN             NaN   \n",
       "225026         NaN            M           NaN             NaN   \n",
       "441414  1954-05-25            M           NaN       /m/04mvp8   \n",
       "227637  1948-12-21            M          1.89         /m/0x67   \n",
       "\n",
       "               actor_name  actor_age freebase_character_map  \\\n",
       "122012         Mike Hodge       50.0             /m/0gcjq6d   \n",
       "225026      Otto Ferreira        NaN             /m/0jvv2yb   \n",
       "441414             Murali       49.0             /m/0h882_f   \n",
       "227637  Samuel L. Jackson       50.0             /m/0cs30vm   \n",
       "\n",
       "       freebase_character_id freebase_actor_id  \n",
       "122012                   NaN        /m/0d28jrv  \n",
       "225026            /m/0jvv2yf        /m/0jvv2yn  \n",
       "441414            /m/0h882_h        /m/02qy3py  \n",
       "227637            /m/0gy9d2n          /m/0f5xn  "
      ]
     },
     "execution_count": 6,
     "metadata": {},
     "output_type": "execute_result"
    }
   ],
   "source": [
    "df_chars.sample(4)"
   ]
  },
  {
   "cell_type": "markdown",
   "id": "55a71375",
   "metadata": {},
   "source": [
    "# 3. Data preprocessing\n",
    "<a class=\"anchor\" id=\"preprocessing\"></a>"
   ]
  },
  {
   "cell_type": "markdown",
   "id": "738a4a50",
   "metadata": {},
   "source": [
    "#### Columns conversion"
   ]
  },
  {
   "cell_type": "code",
   "execution_count": 7,
   "id": "75b29b73",
   "metadata": {},
   "outputs": [],
   "source": [
    "#Change problematic dates\n",
    "df_chars['m_release_date']=pd.to_datetime(df_chars['m_release_date'], errors = 'coerce')##min value of date '1010-12-02' qui plus petit que la plus petite date de to_datetime\n",
    "df_chars['actor_dob'] = df_chars['actor_dob'].apply(lambda x: str(x) if len(str(x)) <=10 else str(x)[:10])\n",
    "df_chars['actor_dob'] = pd.to_datetime(df_chars['actor_dob'], errors = 'coerce')"
   ]
  },
  {
   "cell_type": "markdown",
   "id": "571d6ca5",
   "metadata": {},
   "source": [
    "#### Actor age"
   ]
  },
  {
   "cell_type": "code",
   "execution_count": 8,
   "id": "1aed661f",
   "metadata": {},
   "outputs": [
    {
     "name": "stdout",
     "output_type": "stream",
     "text": [
      "There are 433 characters whose actor has a negative age.\n"
     ]
    }
   ],
   "source": [
    "# Number of characters whose actor has a negative age when appearing in the movie\n",
    "nb_chars_negative_age = df_chars[df_chars['actor_age'] <= 0]['actor_age'].value_counts().sum()\n",
    "print(\"There are {} characters whose actor has a negative age.\".format(nb_chars_negative_age))"
   ]
  },
  {
   "cell_type": "markdown",
   "id": "c41cff1c",
   "metadata": {},
   "source": [
    "#### Actor name"
   ]
  },
  {
   "cell_type": "code",
   "execution_count": 9,
   "id": "e451432e",
   "metadata": {},
   "outputs": [
    {
     "data": {
      "text/plain": [
       "NaN                   1228\n",
       "Mel Blanc              791\n",
       "Mithun Chakraborty     328\n",
       "Oliver Hardy           299\n",
       "Mohanlal               234\n",
       "Moe Howard             225\n",
       "Mammootty              225\n",
       "Dharmendra Deol        219\n",
       "Larry Fine             219\n",
       "Amitabh Bachchan       206\n",
       "Name: actor_name, dtype: int64"
      ]
     },
     "execution_count": 9,
     "metadata": {},
     "output_type": "execute_result"
    }
   ],
   "source": [
    "# Number of characters whose actor is named 'NaN'\n",
    "df_chars['actor_name'].value_counts(dropna=False)[:10]"
   ]
  },
  {
   "cell_type": "code",
   "execution_count": 10,
   "id": "9622b68b",
   "metadata": {},
   "outputs": [
    {
     "name": "stdout",
     "output_type": "stream",
     "text": [
      "There are 1228 characters whose actor name is nan.\n"
     ]
    }
   ],
   "source": [
    "# Number of characters whose actor is named 'NaN'\n",
    "nb_chars_nan = df_chars['actor_name'].value_counts(dropna=False)[np.nan]\n",
    "print(\"There are {} characters whose actor name is nan.\".format(nb_chars_nan))"
   ]
  },
  {
   "cell_type": "markdown",
   "id": "d29fca57",
   "metadata": {},
   "source": [
    "#### Duplicated characters"
   ]
  },
  {
   "cell_type": "code",
   "execution_count": 11,
   "id": "5f8c393f",
   "metadata": {},
   "outputs": [
    {
     "name": "stdout",
     "output_type": "stream",
     "text": [
      "There are 0 duplicated characters. So there is no duplicated row.\n"
     ]
    }
   ],
   "source": [
    "# Number of duplicates\n",
    "nb_char_duplicates = df_chars.duplicated().sum()\n",
    "print(\"There are {} duplicated characters. So there is no duplicated row.\".format(nb_char_duplicates))"
   ]
  },
  {
   "cell_type": "code",
   "execution_count": 12,
   "id": "0223a9c6",
   "metadata": {},
   "outputs": [
    {
     "name": "stdout",
     "output_type": "stream",
     "text": [
      "There are 1086 characters which appear in the same movie with the same release date, have the same name and which are played by the same actor.\n"
     ]
    }
   ],
   "source": [
    "# Number of occurrences with same subset of columns as described below\n",
    "nb_char_duplicates_sub = df_chars.duplicated(subset=['wikipedia_m_ID', 'character_name', 'actor_name', 'm_release_date']).sum()\n",
    "print(\"There are {} characters which appear in the same movie with the same release date, have the same name and which are played by the same actor.\".format(nb_char_duplicates_sub))"
   ]
  },
  {
   "cell_type": "markdown",
   "id": "3ed62810",
   "metadata": {},
   "source": [
    "#### Casting date of birth"
   ]
  },
  {
   "cell_type": "code",
   "execution_count": 13,
   "id": "aa5b38c7",
   "metadata": {},
   "outputs": [
    {
     "data": {
      "image/png": "[encoded data removed]",
      "text/plain": [
       "<Figure size 432x288 with 1 Axes>"
      ]
     },
     "metadata": {
      "needs_background": "light"
     },
     "output_type": "display_data"
    },
    {
     "name": "stdout",
     "output_type": "stream",
     "text": [
      "There are 59 actors born before 1850.\n",
      "There are 1 actors born after 2013.\n"
     ]
    }
   ],
   "source": [
    "#Looking at date of birth\n",
    "plt.title('Distribution of casting date of birth')\n",
    "plt.xlabel('Year')\n",
    "plt.ylabel('Number of actors born that year')\n",
    "plt.hist(df_chars['actor_dob'], bins=50, color=BLUE)\n",
    "plt.grid()\n",
    "plt.show()\n",
    "date_born_min = df_chars.loc[df_chars['actor_dob'].dt.year<1850]['wikipedia_m_ID'].count()\n",
    "date_born_max = df_chars.loc[df_chars['actor_dob'].dt.year>2013]['wikipedia_m_ID'].count()\n",
    "print(\"There are {} actors born before 1850.\\nThere are {} actors born after 2013.\".format(date_born_min, date_born_max))"
   ]
  },
  {
   "cell_type": "code",
   "execution_count": 14,
   "id": "3c9a9bf6",
   "metadata": {},
   "outputs": [
    {
     "data": {
      "text/plain": [
       "array([nan])"
      ]
     },
     "execution_count": 14,
     "metadata": {},
     "output_type": "execute_result"
    }
   ],
   "source": [
    "#The actors born before 1850 have all nan as age.\n",
    "df_chars.loc[df_chars['actor_dob'].dt.year<1850]['actor_age'].unique()"
   ]
  },
  {
   "cell_type": "code",
   "execution_count": 15,
   "id": "c403d233",
   "metadata": {},
   "outputs": [
    {
     "data": {
      "text/plain": [
       "array([-37.])"
      ]
     },
     "execution_count": 15,
     "metadata": {},
     "output_type": "execute_result"
    }
   ],
   "source": [
    "#The actor born after 2013 has a negative age. He'll be dropped in the next cell\n",
    "df_chars.loc[df_chars['actor_dob'].dt.year>2013]['actor_age'].unique()"
   ]
  },
  {
   "cell_type": "code",
   "execution_count": 16,
   "id": "7a0735dd",
   "metadata": {},
   "outputs": [
    {
     "name": "stdout",
     "output_type": "stream",
     "text": [
      "The first movie is released in 1888.\n"
     ]
    }
   ],
   "source": [
    "date_movie_first_release = df_chars['m_release_date'].min()\n",
    "print(\"The first movie is released in {}.\".format(date_movie_first_release.year))"
   ]
  },
  {
   "cell_type": "markdown",
   "id": "edc2bc92",
   "metadata": {},
   "source": [
    "The actor database contains following errors:\n",
    "- **Actors with negative age**: is (at least in some cases (wikipedia_movie_id: 15007384)) due to actors having the same last name, which probably led to some scraping missmatch, e.g. a movie attributed to a son when it was in fact his father acting. We are going to drop those since it is clearly mistaken.\n",
    "- **Actors with name 'Nan'**: there is no way for us to qualitatively use this data, so we will drop them.\n",
    "- **Actors duplicates**: some duplicates were identified, we will safely remove them.\n",
    "- **Actors with old date of birth**: there are some actors with really old date of birth (59 before 1850). It was decided to safely remove their characters."
   ]
  },
  {
   "cell_type": "markdown",
   "id": "bac8ef03",
   "metadata": {},
   "source": [
    "#### Cleaning"
   ]
  },
  {
   "cell_type": "code",
   "execution_count": 17,
   "id": "8bc3d096",
   "metadata": {},
   "outputs": [],
   "source": [
    "def cast_age(x):\n",
    "    try:\n",
    "        value = int(x)\n",
    "    except:\n",
    "        value = np.nan\n",
    "    return value"
   ]
  },
  {
   "cell_type": "code",
   "execution_count": 18,
   "id": "4127a2d7",
   "metadata": {},
   "outputs": [],
   "source": [
    "df_chars['actor_age'] = df_chars['actor_age'].apply(lambda x: cast_age(x))\n",
    "df_chars['actor_age'] = df_chars.apply(lambda row: row['m_release_date'].year - row['actor_dob'].year if (row['actor_age']==np.nan and row['actor_dob']!=np.nan and row['m_release_date']!=np.nan) else row['actor_age'], axis=1)\n",
    "df_chars = df_chars.loc[(df_chars['actor_age'] >=0) | (df_chars['actor_age'].isna())]\n",
    "\n",
    "df_chars = df_chars.loc[(df_chars['actor_dob'].dt.year >=1850) | (df_chars['actor_dob'].isna())]\n",
    "df_chars.dropna(subset='actor_name', inplace=True)\n",
    "df_chars.drop_duplicates(subset=[\"wikipedia_m_ID\", \"character_name\", \"actor_name\", \"m_release_date\"], keep=False, inplace=True)"
   ]
  },
  {
   "cell_type": "markdown",
   "id": "aca4e0fe",
   "metadata": {},
   "source": [
    "#### Cleaned CSV"
   ]
  },
  {
   "cell_type": "code",
   "execution_count": 21,
   "id": "62ebc5d5",
   "metadata": {},
   "outputs": [],
   "source": [
    "OUTPUT_FILE = 'characters_cleaned.tsv'\n",
    "OUTPUT_PATH = os.path.join(DATA_PATH, OUTPUT_FILE)\n",
    "df_chars.to_csv(OUTPUT_PATH, sep=\"\\t\")"
   ]
  }
 ],
 "metadata": {
  "kernelspec": {
   "display_name": "Python 3 (ipykernel)",
   "language": "python",
   "name": "python3"
  },
  "language_info": {
   "codemirror_mode": {
    "name": "ipython",
    "version": 3
   },
   "file_extension": ".py",
   "mimetype": "text/x-python",
   "name": "python",
   "nbconvert_exporter": "python",
   "pygments_lexer": "ipython3",
   "version": "3.9.12"
  }
 },
 "nbformat": 4,
 "nbformat_minor": 5
}
