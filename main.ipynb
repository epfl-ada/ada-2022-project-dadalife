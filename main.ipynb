{
 "cells": [
  {
   "cell_type": "code",
   "execution_count": 1,
   "id": "aa5cc897",
   "metadata": {},
   "outputs": [],
   "source": [
    "import operator\n",
    "import random\n",
    "import requests\n",
    "import time\n",
    "import csv\n",
    "import os\n",
    "import pandas as pd\n",
    "import seaborn as sns\n",
    "import numpy as np\n",
    "import networkx as nx\n",
    "from scipy import stats\n",
    "from ast import literal_eval\n",
    "from matplotlib import pyplot as plt\n",
    "from statsmodels.stats import diagnostic\n",
    "from datetime import datetime\n",
    "from sklearn.manifold import TSNE\n",
    "from sklearn.decomposition import PCA\n",
    "from sklearn.preprocessing import StandardScaler, MinMaxScaler\n",
    "from sklearn.linear_model import LinearRegression, LogisticRegression\n",
    "from sklearn.model_selection import train_test_split\n",
    "\n",
    "# Data standard scaler\n",
    "from sklearn.preprocessing import StandardScaler\n",
    "\n",
    "# Random train-test split\n",
    "from sklearn.model_selection import train_test_split\n",
    "\n",
    "# Metrics and model selection\n",
    "from sklearn.metrics import classification_report, confusion_matrix, accuracy_score, auc, roc_curve, \\\n",
    "    precision_recall_curve\n",
    "from sklearn.model_selection import cross_val_predict\n",
    "\n",
    "# Classifiers\n",
    "from sklearn.linear_model import LogisticRegression\n",
    "from sklearn.ensemble import RandomForestClassifier\n",
    "from sklearn.neural_network import MLPClassifier\n",
    "\n",
    "from scipy.stats import ttest_ind\n",
    "\n",
    "#To visualize on of the RandomForest decision trees\n",
    "#from sklearn import tree\n",
    "\n",
    "#colors used when comparing genders\n",
    "PURPLE = 'purple'\n",
    "ORANGE = '#ffb82c'\n",
    "\n",
    "#colors used when generic comparisons\n",
    "BLUE = '#0173b2'\n",
    "RED = '#d55e00'\n",
    "\n",
    "#print(sns.color_palette(\"colorblind\").as_hex())\n",
    "#sns.color_palette(\"colorblind\")"
   ]
  },
  {
   "cell_type": "code",
   "execution_count": 2,
   "id": "c3079717",
   "metadata": {},
   "outputs": [
    {
     "data": {
      "text/html": [
       "\n",
       "<style>\n",
       ".output_png {\n",
       "    display: table-cell;\n",
       "    text-align: center;\n",
       "    vertical-align: middle;\n",
       "}\n",
       "</style>\n"
      ],
      "text/plain": [
       "<IPython.core.display.HTML object>"
      ]
     },
     "execution_count": 2,
     "metadata": {},
     "output_type": "execute_result"
    }
   ],
   "source": [
    "from IPython.core.display import HTML\n",
    "\n",
    "HTML(\"\"\"\n",
    "<style>\n",
    ".output_png {\n",
    "    display: table-cell;\n",
    "    text-align: center;\n",
    "    vertical-align: middle;\n",
    "}\n",
    "</style>\n",
    "\"\"\")"
   ]
  },
  {
   "cell_type": "markdown",
   "id": "9acafde8",
   "metadata": {},
   "source": [
    "# 1. Load the preprocessed data"
   ]
  },
  {
   "cell_type": "code",
   "execution_count": 3,
   "id": "201443db",
   "metadata": {},
   "outputs": [],
   "source": [
    "DATA_PATH = './preprocessed_data'\n",
    "CHAR_PATH = os.path.join(DATA_PATH, 'characters_preprocessed.tsv')\n",
    "SCORE_FUNCTION_PATH = os.path.join(DATA_PATH, 'score_function.tsv')"
   ]
  },
  {
   "cell_type": "markdown",
   "id": "b0c6d06f",
   "metadata": {},
   "source": [
    "### 1.1 Characters dataset"
   ]
  },
  {
   "cell_type": "code",
   "execution_count": 4,
   "id": "549a98de",
   "metadata": {},
   "outputs": [
    {
     "data": {
      "text/html": [
       "<div>\n",
       "<style scoped>\n",
       "    .dataframe tbody tr th:only-of-type {\n",
       "        vertical-align: middle;\n",
       "    }\n",
       "\n",
       "    .dataframe tbody tr th {\n",
       "        vertical-align: top;\n",
       "    }\n",
       "\n",
       "    .dataframe thead th {\n",
       "        text-align: right;\n",
       "    }\n",
       "</style>\n",
       "<table border=\"1\" class=\"dataframe\">\n",
       "  <thead>\n",
       "    <tr style=\"text-align: right;\">\n",
       "      <th></th>\n",
       "      <th>wikipedia_m_ID</th>\n",
       "      <th>m_release_date</th>\n",
       "      <th>character_name</th>\n",
       "      <th>actor_dob</th>\n",
       "      <th>actor_gender</th>\n",
       "      <th>actor_height</th>\n",
       "      <th>actor_ethnicity</th>\n",
       "      <th>actor_name</th>\n",
       "      <th>actor_age</th>\n",
       "      <th>m_name</th>\n",
       "      <th>m_genre_PCA</th>\n",
       "      <th>m_release_year</th>\n",
       "      <th>min_year</th>\n",
       "      <th>min_year_score</th>\n",
       "    </tr>\n",
       "  </thead>\n",
       "  <tbody>\n",
       "    <tr>\n",
       "      <th>0</th>\n",
       "      <td>975900</td>\n",
       "      <td>2001-08-24</td>\n",
       "      <td>Akooshay</td>\n",
       "      <td>1958-08-26</td>\n",
       "      <td>F</td>\n",
       "      <td>1.62</td>\n",
       "      <td>NaN</td>\n",
       "      <td>Wanda De Jesus</td>\n",
       "      <td>42.0</td>\n",
       "      <td>Ghosts of Mars</td>\n",
       "      <td>Thriller, Crime Thriller, Action, Mystery</td>\n",
       "      <td>2001</td>\n",
       "      <td>NaN</td>\n",
       "      <td>NaN</td>\n",
       "    </tr>\n",
       "    <tr>\n",
       "      <th>1</th>\n",
       "      <td>975900</td>\n",
       "      <td>2001-08-24</td>\n",
       "      <td>Lieutenant Melanie Ballard</td>\n",
       "      <td>1974-08-15</td>\n",
       "      <td>F</td>\n",
       "      <td>1.78</td>\n",
       "      <td>NaN</td>\n",
       "      <td>Natasha Henstridge</td>\n",
       "      <td>27.0</td>\n",
       "      <td>Ghosts of Mars</td>\n",
       "      <td>Thriller, Crime Thriller, Action, Mystery</td>\n",
       "      <td>2001</td>\n",
       "      <td>2000.0</td>\n",
       "      <td>57.0</td>\n",
       "    </tr>\n",
       "  </tbody>\n",
       "</table>\n",
       "</div>"
      ],
      "text/plain": [
       "   wikipedia_m_ID m_release_date              character_name  actor_dob  \\\n",
       "0          975900     2001-08-24                    Akooshay 1958-08-26   \n",
       "1          975900     2001-08-24  Lieutenant Melanie Ballard 1974-08-15   \n",
       "\n",
       "  actor_gender  actor_height actor_ethnicity          actor_name  actor_age  \\\n",
       "0            F          1.62             NaN      Wanda De Jesus       42.0   \n",
       "1            F          1.78             NaN  Natasha Henstridge       27.0   \n",
       "\n",
       "           m_name                                m_genre_PCA  m_release_year  \\\n",
       "0  Ghosts of Mars  Thriller, Crime Thriller, Action, Mystery            2001   \n",
       "1  Ghosts of Mars  Thriller, Crime Thriller, Action, Mystery            2001   \n",
       "\n",
       "   min_year  min_year_score  \n",
       "0       NaN             NaN  \n",
       "1    2000.0            57.0  "
      ]
     },
     "execution_count": 4,
     "metadata": {},
     "output_type": "execute_result"
    }
   ],
   "source": [
    "df_chars = pd.read_csv(CHAR_PATH, sep=\"\\t\")\n",
    "df_chars['m_release_date'] = pd.to_datetime(df_chars['m_release_date'], errors='coerce')\n",
    "df_chars['actor_dob'] = pd.to_datetime(df_chars['actor_dob'], errors='coerce')\n",
    "df_chars.head(2)"
   ]
  },
  {
   "cell_type": "markdown",
   "id": "68d45c5c",
   "metadata": {},
   "source": [
    "### 1.2 The score function"
   ]
  },
  {
   "cell_type": "code",
   "execution_count": 5,
   "id": "adea5536",
   "metadata": {},
   "outputs": [
    {
     "data": {
      "text/html": [
       "<div>\n",
       "<style scoped>\n",
       "    .dataframe tbody tr th:only-of-type {\n",
       "        vertical-align: middle;\n",
       "    }\n",
       "\n",
       "    .dataframe tbody tr th {\n",
       "        vertical-align: top;\n",
       "    }\n",
       "\n",
       "    .dataframe thead th {\n",
       "        text-align: right;\n",
       "    }\n",
       "</style>\n",
       "<table border=\"1\" class=\"dataframe\">\n",
       "  <thead>\n",
       "    <tr style=\"text-align: right;\">\n",
       "      <th></th>\n",
       "      <th>1980</th>\n",
       "      <th>1981</th>\n",
       "      <th>1982</th>\n",
       "      <th>1983</th>\n",
       "      <th>1984</th>\n",
       "      <th>1985</th>\n",
       "      <th>1986</th>\n",
       "      <th>1987</th>\n",
       "      <th>1988</th>\n",
       "      <th>1989</th>\n",
       "      <th>...</th>\n",
       "      <th>2005</th>\n",
       "      <th>2006</th>\n",
       "      <th>2007</th>\n",
       "      <th>2008</th>\n",
       "      <th>2009</th>\n",
       "      <th>2010</th>\n",
       "      <th>2011</th>\n",
       "      <th>2012</th>\n",
       "      <th>min_year</th>\n",
       "      <th>min_year_score</th>\n",
       "    </tr>\n",
       "    <tr>\n",
       "      <th>actor_name</th>\n",
       "      <th></th>\n",
       "      <th></th>\n",
       "      <th></th>\n",
       "      <th></th>\n",
       "      <th></th>\n",
       "      <th></th>\n",
       "      <th></th>\n",
       "      <th></th>\n",
       "      <th></th>\n",
       "      <th></th>\n",
       "      <th></th>\n",
       "      <th></th>\n",
       "      <th></th>\n",
       "      <th></th>\n",
       "      <th></th>\n",
       "      <th></th>\n",
       "      <th></th>\n",
       "      <th></th>\n",
       "      <th></th>\n",
       "      <th></th>\n",
       "      <th></th>\n",
       "    </tr>\n",
       "  </thead>\n",
       "  <tbody>\n",
       "    <tr>\n",
       "      <th>Jane Fonda</th>\n",
       "      <td>99.0</td>\n",
       "      <td>346.5</td>\n",
       "      <td>181.5</td>\n",
       "      <td>123.75</td>\n",
       "      <td>94.050000</td>\n",
       "      <td>75.900000</td>\n",
       "      <td>441.642857</td>\n",
       "      <td>243.803571</td>\n",
       "      <td>174.125000</td>\n",
       "      <td>137.400000</td>\n",
       "      <td>...</td>\n",
       "      <td>892.587692</td>\n",
       "      <td>462.089744</td>\n",
       "      <td>317.717532</td>\n",
       "      <td>244.955719</td>\n",
       "      <td>200.891379</td>\n",
       "      <td>171.213548</td>\n",
       "      <td>149.784285</td>\n",
       "      <td>133.531250</td>\n",
       "      <td>1980</td>\n",
       "      <td>99.0</td>\n",
       "    </tr>\n",
       "    <tr>\n",
       "      <th>Clint Eastwood</th>\n",
       "      <td>348.0</td>\n",
       "      <td>174.0</td>\n",
       "      <td>460.0</td>\n",
       "      <td>729.00</td>\n",
       "      <td>1755.266667</td>\n",
       "      <td>1706.666667</td>\n",
       "      <td>1880.347619</td>\n",
       "      <td>1189.833333</td>\n",
       "      <td>1686.509524</td>\n",
       "      <td>1454.709524</td>\n",
       "      <td>...</td>\n",
       "      <td>2139.009068</td>\n",
       "      <td>1715.610398</td>\n",
       "      <td>1470.104342</td>\n",
       "      <td>3616.394846</td>\n",
       "      <td>2334.278040</td>\n",
       "      <td>1850.068876</td>\n",
       "      <td>1576.740235</td>\n",
       "      <td>1825.545952</td>\n",
       "      <td>1980</td>\n",
       "      <td>348.0</td>\n",
       "    </tr>\n",
       "  </tbody>\n",
       "</table>\n",
       "<p>2 rows × 35 columns</p>\n",
       "</div>"
      ],
      "text/plain": [
       "                 1980   1981   1982    1983         1984         1985  \\\n",
       "actor_name                                                              \n",
       "Jane Fonda       99.0  346.5  181.5  123.75    94.050000    75.900000   \n",
       "Clint Eastwood  348.0  174.0  460.0  729.00  1755.266667  1706.666667   \n",
       "\n",
       "                       1986         1987         1988         1989  ...  \\\n",
       "actor_name                                                          ...   \n",
       "Jane Fonda       441.642857   243.803571   174.125000   137.400000  ...   \n",
       "Clint Eastwood  1880.347619  1189.833333  1686.509524  1454.709524  ...   \n",
       "\n",
       "                       2005         2006         2007         2008  \\\n",
       "actor_name                                                           \n",
       "Jane Fonda       892.587692   462.089744   317.717532   244.955719   \n",
       "Clint Eastwood  2139.009068  1715.610398  1470.104342  3616.394846   \n",
       "\n",
       "                       2009         2010         2011         2012  min_year  \\\n",
       "actor_name                                                                     \n",
       "Jane Fonda       200.891379   171.213548   149.784285   133.531250      1980   \n",
       "Clint Eastwood  2334.278040  1850.068876  1576.740235  1825.545952      1980   \n",
       "\n",
       "                min_year_score  \n",
       "actor_name                      \n",
       "Jane Fonda                99.0  \n",
       "Clint Eastwood           348.0  \n",
       "\n",
       "[2 rows x 35 columns]"
      ]
     },
     "execution_count": 5,
     "metadata": {},
     "output_type": "execute_result"
    }
   ],
   "source": [
    "df_numbers = pd.read_csv(SCORE_FUNCTION_PATH, sep='\\t')\n",
    "df_numbers.set_index('actor_name', inplace=True)\n",
    "df_numbers.head(2)"
   ]
  },
  {
   "cell_type": "markdown",
   "id": "9c648774",
   "metadata": {},
   "source": [
    "# 2. Dataset preparation"
   ]
  },
  {
   "cell_type": "markdown",
   "id": "5f72f3d2",
   "metadata": {},
   "source": [
    "#### Add a new column: \n",
    "* `min_year_starring`: it corresponds to the starting year of career of an actor"
   ]
  },
  {
   "cell_type": "code",
   "execution_count": 6,
   "id": "2faf8c26",
   "metadata": {},
   "outputs": [],
   "source": [
    "map_min_year_starring = df_chars.groupby(['actor_name'])['m_release_year'].min()\n",
    "df_chars['min_year_starring'] = df_chars['actor_name'].map(lambda x: map_min_year_starring[x])"
   ]
  },
  {
   "cell_type": "markdown",
   "id": "76bb3adc",
   "metadata": {},
   "source": [
    "#### Add two new columns:\n",
    "* `is_revealed`: boolean which is true if the release year of the movie the actor is starring in correspond to the year the actor has appeared in the numbers' ranking for the first time\n",
    "* `already_revealed`: boolean which is true if the release year of the movie the actor is starring in correspond to a greater year than your revelation year: the actor has already appeared in the numbers ranking before starring in this movie"
   ]
  },
  {
   "cell_type": "code",
   "execution_count": 7,
   "id": "29f3bced",
   "metadata": {},
   "outputs": [],
   "source": [
    "df_chars['is_revealed'] = df_chars.apply(lambda row: row['min_year'] == row['m_release_date'].year, axis=1).astype(int)\n",
    "df_chars['already_revealed'] = df_chars.apply(\n",
    "    lambda row: row['min_year'] < row['m_release_date'].year and row['min_year'] != 0.0, axis=1).astype(int)"
   ]
  },
  {
   "cell_type": "markdown",
   "id": "9e1c035f",
   "metadata": {},
   "source": [
    "#### Add a new column:\n",
    "* `popularity`: Categorical column which takes three possible values: **famous**, **revelation**, **unknown**. It corresponds to, at the release year of the movie, either: have been already revealed in the numbers at that time, being revealed at that time, or haven't been revealed at that time."
   ]
  },
  {
   "cell_type": "code",
   "execution_count": 8,
   "id": "7bf91798",
   "metadata": {},
   "outputs": [],
   "source": [
    "def get_popularity(row):\n",
    "    if (row.is_revealed == 0) and (row.already_revealed == 0):\n",
    "        return 'unknown'\n",
    "    if (row.is_revealed == 0) and (row.already_revealed == 1):\n",
    "        return 'famous'\n",
    "    if (row.is_revealed == 1) and (row.already_revealed == 0):\n",
    "        return 'revelation'\n",
    "    if (row.is_revealed == 1) and (row.already_revealed == 1):\n",
    "        raise ValueError('The actor {} has a value 1 for is_revealed and 1 for already_revealed'.format(row.actor_name))"
   ]
  },
  {
   "cell_type": "code",
   "execution_count": 9,
   "id": "0b4c4a81",
   "metadata": {},
   "outputs": [],
   "source": [
    "df_chars['popularity'] = df_chars.apply(lambda row: get_popularity(row), axis=1)"
   ]
  },
  {
   "cell_type": "markdown",
   "id": "e3bcceda",
   "metadata": {},
   "source": [
    "# 3. Insight on coacting effect"
   ]
  },
  {
   "cell_type": "code",
   "execution_count": null,
   "id": "bbf53808",
   "metadata": {},
   "outputs": [],
   "source": []
  },
  {
   "cell_type": "markdown",
   "id": "e1bb1c51",
   "metadata": {},
   "source": [
    "# 4. Regression analysis: how co-acting impacts being revealed"
   ]
  },
  {
   "cell_type": "markdown",
   "id": "d04b1e78",
   "metadata": {},
   "source": [
    "## 4.1 Features of actor score"
   ]
  },
  {
   "cell_type": "code",
   "execution_count": 10,
   "id": "2479a404",
   "metadata": {},
   "outputs": [],
   "source": [
    "df_regression = df_chars.copy()"
   ]
  },
  {
   "cell_type": "markdown",
   "id": "a8bd8120",
   "metadata": {},
   "source": [
    "#### Column conversion\n",
    "* add a column `actor_gender_cat`: it represents the actor gender as a binary input"
   ]
  },
  {
   "cell_type": "code",
   "execution_count": 11,
   "id": "a8805950",
   "metadata": {},
   "outputs": [],
   "source": [
    "df_regression['actor_gender_cat'] = (df_regression['actor_gender'] == 'F').astype(int)"
   ]
  },
  {
   "cell_type": "markdown",
   "id": "0b8d3f72",
   "metadata": {},
   "source": [
    "#### Drop columns \n",
    "* Two columns won't be used for the analysis: `actor_height` and `actor_ethnicity`"
   ]
  },
  {
   "cell_type": "code",
   "execution_count": 12,
   "id": "598ddd43",
   "metadata": {},
   "outputs": [],
   "source": [
    "df_regression.drop(['actor_height', 'actor_ethnicity', 'm_release_date'], axis=1, inplace=True)"
   ]
  },
  {
   "cell_type": "markdown",
   "id": "c0fcda0c",
   "metadata": {},
   "source": [
    "#### Number of actors per movie\n",
    "* add a new column: `nb_actors`: Number of actors per movie"
   ]
  },
  {
   "cell_type": "code",
   "execution_count": 13,
   "id": "9bc0d249",
   "metadata": {},
   "outputs": [],
   "source": [
    "#compute number of actors per movie\n",
    "map_nb_actors_per_movie = df_regression.groupby(['wikipedia_m_ID'])['actor_name'].count()\n",
    "df_regression['nb_actors'] = df_regression['wikipedia_m_ID'].map(lambda x: map_nb_actors_per_movie[x])"
   ]
  },
  {
   "cell_type": "code",
   "execution_count": 14,
   "id": "7e770983",
   "metadata": {},
   "outputs": [
    {
     "data": {
      "image/png": "[encoded data removed]",
      "text/plain": [
       "<Figure size 864x360 with 1 Axes>"
      ]
     },
     "metadata": {
      "needs_background": "light"
     },
     "output_type": "display_data"
    },
    {
     "name": "stdout",
     "output_type": "stream",
     "text": [
      "In average, there are 7.61 actors per movie in our dataset.\n",
      "It corresponds to 24884 different movies.\n"
     ]
    }
   ],
   "source": [
    "#nb actors per movie\n",
    "plt.figure(figsize=(12, 5))\n",
    "sns.histplot(data=df_regression.drop_duplicates('wikipedia_m_ID'), x='nb_actors')\n",
    "plt.title(\"Distribution of the number of actors per movie\")\n",
    "plt.ylabel(\"Count\")\n",
    "plt.xlabel(\"Number of actors per movie\")\n",
    "plt.show()\n",
    "avg_nb_actors_per_movie = df_regression.drop_duplicates('wikipedia_m_ID')['nb_actors'].mean()\n",
    "nb_unique_movies_with_actors = df_regression['wikipedia_m_ID'].nunique()\n",
    "print(\"In average, there are {:.2f} actors per movie in our dataset.\".format(avg_nb_actors_per_movie))\n",
    "print(\"It corresponds to {} different movies.\".format(nb_unique_movies_with_actors))"
   ]
  },
  {
   "cell_type": "markdown",
   "id": "98e76bda",
   "metadata": {},
   "source": [
    "#### Number of movies of each actor before releasing movie\n",
    "* add a new column `nb_movies_before_releasing_movie`: it corresponds to the number of movies an actor has starred in before playing in the movie row"
   ]
  },
  {
   "cell_type": "code",
   "execution_count": 15,
   "id": "7cac3c5f",
   "metadata": {},
   "outputs": [],
   "source": [
    "map_nb_movies_per_year = df_regression.groupby(['actor_name', 'm_release_year'])['wikipedia_m_ID'].count().reset_index()"
   ]
  },
  {
   "cell_type": "code",
   "execution_count": 16,
   "id": "c3957cf4",
   "metadata": {},
   "outputs": [],
   "source": [
    "year = range(1980, 2013)\n",
    "list_nb_movies_at_year = dict()\n",
    "for y in year:\n",
    "    filter_conditions = (\n",
    "        (map_nb_movies_per_year['m_release_year'] < y)\n",
    "    )\n",
    "    list_nb_movies = map_nb_movies_per_year.loc[filter_conditions]\n",
    "    list_nb_movies = list_nb_movies.groupby('actor_name')['wikipedia_m_ID'].sum()\n",
    "    list_nb_movies_at_year.update({y: list_nb_movies})"
   ]
  },
  {
   "cell_type": "code",
   "execution_count": 19,
   "id": "d4ff37fc",
   "metadata": {},
   "outputs": [],
   "source": [
    "def get_nb_movies_each_year(row):\n",
    "    release_year = row['m_release_year']\n",
    "    actor_name = row['actor_name']\n",
    "    try:\n",
    "        df_tmp = list_nb_movies_at_year[release_year]\n",
    "        nb_movies = df_tmp[actor_name]\n",
    "        return nb_movies\n",
    "    except:\n",
    "        return 0"
   ]
  },
  {
   "cell_type": "code",
   "execution_count": 20,
   "id": "e0661e76",
   "metadata": {},
   "outputs": [],
   "source": [
    "df_regression['nb_movies_before_this_movie'] = df_regression.apply(lambda row: get_nb_movies_each_year(row), axis=1)"
   ]
  },
  {
   "cell_type": "markdown",
   "id": "59f9cf1e",
   "metadata": {},
   "source": [
    "#### Number of movies per decade\n",
    "* Add four columns that compute the number of movies an actor has performed during each decade"
   ]
  },
  {
   "cell_type": "code",
   "execution_count": 21,
   "id": "4df2a343",
   "metadata": {},
   "outputs": [],
   "source": [
    "nb_decades_lower = range(1980, 2030, 10)\n",
    "nb_decades_upper = range(1990, 2030, 10)\n",
    "list_decades = dict()\n",
    "for dec_lower, dec_upper in zip(nb_decades_lower, nb_decades_upper):\n",
    "    filter_conditions = (\n",
    "            (map_nb_movies_per_year['m_release_year'] >= dec_lower) &\n",
    "            (map_nb_movies_per_year['m_release_year'] < dec_upper)\n",
    "    )\n",
    "    list_dec = map_nb_movies_per_year.loc[filter_conditions]\n",
    "    list_dec = list_dec.groupby('actor_name')['wikipedia_m_ID'].count().reset_index()\n",
    "    list_dec['wikipedia_m_ID'] = list_dec['wikipedia_m_ID'].astype(int)\n",
    "    list_dec.rename({'wikipedia_m_ID': 'nb_movies_dec_{}_{}'.format(dec_lower, dec_upper)}, axis=1, inplace=True)\n",
    "    list_decades.update({range(dec_lower, dec_upper): list_dec})"
   ]
  },
  {
   "cell_type": "code",
   "execution_count": 22,
   "id": "81a7afcf",
   "metadata": {},
   "outputs": [],
   "source": [
    "for key, dec in list_decades.items():\n",
    "    df_regression = df_regression.merge(dec, on='actor_name', how='left')\n",
    "    df_regression['nb_movies_dec_{}_{}'.format(key.start, key.stop)].fillna(0, inplace=True)"
   ]
  },
  {
   "cell_type": "code",
   "execution_count": 23,
   "id": "6cd0c03e",
   "metadata": {},
   "outputs": [
    {
     "data": {
      "text/html": [
       "<div>\n",
       "<style scoped>\n",
       "    .dataframe tbody tr th:only-of-type {\n",
       "        vertical-align: middle;\n",
       "    }\n",
       "\n",
       "    .dataframe tbody tr th {\n",
       "        vertical-align: top;\n",
       "    }\n",
       "\n",
       "    .dataframe thead th {\n",
       "        text-align: right;\n",
       "    }\n",
       "</style>\n",
       "<table border=\"1\" class=\"dataframe\">\n",
       "  <thead>\n",
       "    <tr style=\"text-align: right;\">\n",
       "      <th></th>\n",
       "      <th>wikipedia_m_ID</th>\n",
       "      <th>character_name</th>\n",
       "      <th>actor_dob</th>\n",
       "      <th>actor_gender</th>\n",
       "      <th>actor_name</th>\n",
       "      <th>actor_age</th>\n",
       "      <th>m_name</th>\n",
       "      <th>m_genre_PCA</th>\n",
       "      <th>m_release_year</th>\n",
       "      <th>min_year</th>\n",
       "      <th>...</th>\n",
       "      <th>is_revealed</th>\n",
       "      <th>already_revealed</th>\n",
       "      <th>popularity</th>\n",
       "      <th>actor_gender_cat</th>\n",
       "      <th>nb_actors</th>\n",
       "      <th>nb_movies_before_this_movie</th>\n",
       "      <th>nb_movies_dec_1980_1990</th>\n",
       "      <th>nb_movies_dec_1990_2000</th>\n",
       "      <th>nb_movies_dec_2000_2010</th>\n",
       "      <th>nb_movies_dec_2010_2020</th>\n",
       "    </tr>\n",
       "  </thead>\n",
       "  <tbody>\n",
       "    <tr>\n",
       "      <th>0</th>\n",
       "      <td>975900</td>\n",
       "      <td>Akooshay</td>\n",
       "      <td>1958-08-26</td>\n",
       "      <td>F</td>\n",
       "      <td>Wanda De Jesus</td>\n",
       "      <td>42.0</td>\n",
       "      <td>Ghosts of Mars</td>\n",
       "      <td>Thriller, Crime Thriller, Action, Mystery</td>\n",
       "      <td>2001</td>\n",
       "      <td>NaN</td>\n",
       "      <td>...</td>\n",
       "      <td>0</td>\n",
       "      <td>0</td>\n",
       "      <td>unknown</td>\n",
       "      <td>1</td>\n",
       "      <td>13</td>\n",
       "      <td>3</td>\n",
       "      <td>0.0</td>\n",
       "      <td>2.0</td>\n",
       "      <td>4.0</td>\n",
       "      <td>0.0</td>\n",
       "    </tr>\n",
       "    <tr>\n",
       "      <th>1</th>\n",
       "      <td>975900</td>\n",
       "      <td>Lieutenant Melanie Ballard</td>\n",
       "      <td>1974-08-15</td>\n",
       "      <td>F</td>\n",
       "      <td>Natasha Henstridge</td>\n",
       "      <td>27.0</td>\n",
       "      <td>Ghosts of Mars</td>\n",
       "      <td>Thriller, Crime Thriller, Action, Mystery</td>\n",
       "      <td>2001</td>\n",
       "      <td>2000.0</td>\n",
       "      <td>...</td>\n",
       "      <td>0</td>\n",
       "      <td>1</td>\n",
       "      <td>famous</td>\n",
       "      <td>1</td>\n",
       "      <td>13</td>\n",
       "      <td>8</td>\n",
       "      <td>0.0</td>\n",
       "      <td>3.0</td>\n",
       "      <td>6.0</td>\n",
       "      <td>0.0</td>\n",
       "    </tr>\n",
       "  </tbody>\n",
       "</table>\n",
       "<p>2 rows × 22 columns</p>\n",
       "</div>"
      ],
      "text/plain": [
       "   wikipedia_m_ID              character_name  actor_dob actor_gender  \\\n",
       "0          975900                    Akooshay 1958-08-26            F   \n",
       "1          975900  Lieutenant Melanie Ballard 1974-08-15            F   \n",
       "\n",
       "           actor_name  actor_age          m_name  \\\n",
       "0      Wanda De Jesus       42.0  Ghosts of Mars   \n",
       "1  Natasha Henstridge       27.0  Ghosts of Mars   \n",
       "\n",
       "                                 m_genre_PCA  m_release_year  min_year  ...  \\\n",
       "0  Thriller, Crime Thriller, Action, Mystery            2001       NaN  ...   \n",
       "1  Thriller, Crime Thriller, Action, Mystery            2001    2000.0  ...   \n",
       "\n",
       "   is_revealed  already_revealed  popularity  actor_gender_cat nb_actors  \\\n",
       "0            0                 0     unknown                 1        13   \n",
       "1            0                 1      famous                 1        13   \n",
       "\n",
       "   nb_movies_before_this_movie  nb_movies_dec_1980_1990  \\\n",
       "0                            3                      0.0   \n",
       "1                            8                      0.0   \n",
       "\n",
       "   nb_movies_dec_1990_2000  nb_movies_dec_2000_2010  nb_movies_dec_2010_2020  \n",
       "0                      2.0                      4.0                      0.0  \n",
       "1                      3.0                      6.0                      0.0  \n",
       "\n",
       "[2 rows x 22 columns]"
      ]
     },
     "execution_count": 23,
     "metadata": {},
     "output_type": "execute_result"
    }
   ],
   "source": [
    "df_regression.head(2)"
   ]
  },
  {
   "cell_type": "markdown",
   "id": "1d7b9320",
   "metadata": {},
   "source": [
    "#### Retrieve the scores per actor at movie time\n",
    "* add a new column `actor_score`: it corresponds to the score of the actor at the year before starring the movie"
   ]
  },
  {
   "cell_type": "code",
   "execution_count": 31,
   "id": "bc56f940",
   "metadata": {},
   "outputs": [],
   "source": [
    "def retrieve_actor_score(row):\n",
    "    score_year_to_retrieve = row['m_release_year'] - 1\n",
    "    actor_name = row['actor_name']\n",
    "    try:\n",
    "        return df_numbers['{}'.format(score_year_to_retrieve)][actor_name]\n",
    "    except:\n",
    "        return 0"
   ]
  },
  {
   "cell_type": "code",
   "execution_count": 32,
   "id": "901a11d9",
   "metadata": {},
   "outputs": [],
   "source": [
    "df_regression['actor_score'] = df_regression.apply(lambda row: retrieve_actor_score(row), axis=1)"
   ]
  },
  {
   "cell_type": "markdown",
   "id": "8bb6560d",
   "metadata": {},
   "source": [
    "#### Keep only movies strictly after 1980 (minimal year for which we have an actor score)"
   ]
  },
  {
   "cell_type": "code",
   "execution_count": 33,
   "id": "20d5d76b",
   "metadata": {},
   "outputs": [],
   "source": [
    "# Keep only movies after 1980\n",
    "df_regression = df_regression[df_regression['m_release_year'] > 1980].copy()"
   ]
  },
  {
   "cell_type": "markdown",
   "id": "16713af4",
   "metadata": {},
   "source": [
    "#### Quick analysis just for fun"
   ]
  },
  {
   "cell_type": "code",
   "execution_count": 34,
   "id": "8f9c3b84",
   "metadata": {},
   "outputs": [
    {
     "name": "stdout",
     "output_type": "stream",
     "text": [
      "There are 13712 unique movies released after 1980 and with at least two actors in the dataset.\n"
     ]
    }
   ],
   "source": [
    "nb_unique_movies = df_regression['wikipedia_m_ID'].nunique()\n",
    "print(\"There are {} unique movies released after 1980 and with at least two actors in the dataset.\".format(\n",
    "    nb_unique_movies))"
   ]
  },
  {
   "cell_type": "code",
   "execution_count": 35,
   "id": "5995ccb2",
   "metadata": {},
   "outputs": [
    {
     "name": "stdout",
     "output_type": "stream",
     "text": [
      "There are 24701 actors in this dataset.\n",
      "Among them, there are 3732 actors who had started their carreer before 1980.\n"
     ]
    }
   ],
   "source": [
    "nb_actors = df_regression['actor_name'].nunique()\n",
    "nb_actors_who_started_carreer_after_1980 = df_regression.loc[(df_regression['nb_movies_before_this_movie'] == 0)][\n",
    "    'actor_name'].nunique()\n",
    "print(\"There are {} actors in this dataset.\".format(nb_actors))\n",
    "print(\"Among them, there are {} actors who had started their carreer before 1980.\".format(\n",
    "    nb_actors - nb_actors_who_started_carreer_after_1980))"
   ]
  },
  {
   "cell_type": "code",
   "execution_count": 36,
   "id": "bdd410a5",
   "metadata": {},
   "outputs": [
    {
     "data": {
      "image/png": "[encoded data removed]",
      "text/plain": [
       "<Figure size 432x288 with 1 Axes>"
      ]
     },
     "metadata": {
      "needs_background": "light"
     },
     "output_type": "display_data"
    }
   ],
   "source": [
    "sns.scatterplot(\n",
    "    data=df_regression.loc[(df_regression['actor_score'] > 0)].sort_values('actor_score').drop_duplicates('actor_name',\n",
    "                                                                                                          keep='last'),\n",
    "    y='nb_movies_before_this_movie', x='actor_score', hue=\"actor_gender\");"
   ]
  },
  {
   "cell_type": "code",
   "execution_count": 37,
   "id": "2ea32fae",
   "metadata": {},
   "outputs": [],
   "source": [
    "women_nb_movies_highest_score = \\\n",
    "    df_regression.loc[(df_regression['actor_score'] > 0) & (df_regression['actor_gender'] == 'F')].sort_values(\n",
    "        'actor_score').drop_duplicates('actor_name', keep='last')['nb_movies_before_this_movie']\n",
    "men_nb_movies_highest_score = \\\n",
    "    df_regression.loc[(df_regression['actor_score'] > 0) & (df_regression['actor_gender'] == 'M')].sort_values(\n",
    "        'actor_score').drop_duplicates('actor_name', keep='last')['nb_movies_before_this_movie']"
   ]
  },
  {
   "cell_type": "code",
   "execution_count": 38,
   "id": "499b7fd5",
   "metadata": {},
   "outputs": [
    {
     "name": "stdout",
     "output_type": "stream",
     "text": [
      "At the peak of their carreer, women had before performed 12.32 movies in average.\n",
      "At the peak of their carreer, men had before performed 16.21 movies in average.\n"
     ]
    },
    {
     "data": {
      "text/plain": [
       "Ttest_indResult(statistic=-5.362465244255523, pvalue=9.619260122200605e-08)"
      ]
     },
     "execution_count": 38,
     "metadata": {},
     "output_type": "execute_result"
    }
   ],
   "source": [
    "women_mean_nb_movies_highest_score = women_nb_movies_highest_score.mean()\n",
    "men_mean_nb_movies_highest_score = men_nb_movies_highest_score.mean()\n",
    "print(\"At the peak of their carreer, women had before performed {:.2f} movies in average.\".format(\n",
    "    women_mean_nb_movies_highest_score))\n",
    "print(\"At the peak of their carreer, men had before performed {:.2f} movies in average.\".format(\n",
    "    men_mean_nb_movies_highest_score))\n",
    "ttest_ind(women_nb_movies_highest_score, men_nb_movies_highest_score)"
   ]
  },
  {
   "cell_type": "code",
   "execution_count": 39,
   "id": "14e91e0b",
   "metadata": {},
   "outputs": [],
   "source": [
    "women_highest_score = \\\n",
    "    df_regression.loc[(df_regression['actor_score'] > 0) & (df_regression['actor_gender'] == 'F')].sort_values(\n",
    "        'actor_score').drop_duplicates('actor_name', keep='last')['actor_score']\n",
    "men_highest_score = \\\n",
    "    df_regression.loc[(df_regression['actor_score'] > 0) & (df_regression['actor_gender'] == 'M')].sort_values(\n",
    "        'actor_score').drop_duplicates('actor_name', keep='last')['actor_score']"
   ]
  },
  {
   "cell_type": "code",
   "execution_count": 40,
   "id": "7723612e",
   "metadata": {},
   "outputs": [
    {
     "name": "stdout",
     "output_type": "stream",
     "text": [
      "At the peak of their carreer, women have in average reached a score of 525.89.\n",
      "At the peak of their carreer, men have in average reached a score of 890.59.\n"
     ]
    },
    {
     "data": {
      "text/plain": [
       "Ttest_indResult(statistic=-4.022467941449092, pvalue=6.0723689662790975e-05)"
      ]
     },
     "execution_count": 40,
     "metadata": {},
     "output_type": "execute_result"
    }
   ],
   "source": [
    "women_mean_highest_score = women_highest_score.mean()\n",
    "men_mean_highest_score = men_highest_score.mean()\n",
    "print(\"At the peak of their carreer, women have in average reached a score of {:.2f}.\".format(women_mean_highest_score))\n",
    "print(\"At the peak of their carreer, men have in average reached a score of {:.2f}.\".format(men_mean_highest_score))\n",
    "ttest_ind(women_highest_score, men_highest_score)"
   ]
  },
  {
   "cell_type": "markdown",
   "id": "85d9229d",
   "metadata": {},
   "source": [
    "## 3.2 Compute movie features"
   ]
  },
  {
   "cell_type": "code",
   "execution_count": 41,
   "id": "8f1d8548",
   "metadata": {},
   "outputs": [],
   "source": [
    "columns = ['wikipedia_m_ID', 'actor_name', 'actor_gender', 'actor_score']\n",
    "df_temp = df_regression.copy()\n",
    "df_temp['actor_score'] = df_temp['actor_score'].astype(str)\n",
    "df_temp['actor_gender'] = df_temp['actor_gender'].astype(str)\n",
    "df_movies_features = df_temp[columns].groupby('wikipedia_m_ID').agg(\n",
    "    {'actor_name': '$l$'.join, 'actor_gender': '$l$'.join, 'actor_score': '$l$'.join})"
   ]
  },
  {
   "cell_type": "code",
   "execution_count": 42,
   "id": "28645beb",
   "metadata": {},
   "outputs": [
    {
     "data": {
      "text/html": [
       "<div>\n",
       "<style scoped>\n",
       "    .dataframe tbody tr th:only-of-type {\n",
       "        vertical-align: middle;\n",
       "    }\n",
       "\n",
       "    .dataframe tbody tr th {\n",
       "        vertical-align: top;\n",
       "    }\n",
       "\n",
       "    .dataframe thead th {\n",
       "        text-align: right;\n",
       "    }\n",
       "</style>\n",
       "<table border=\"1\" class=\"dataframe\">\n",
       "  <thead>\n",
       "    <tr style=\"text-align: right;\">\n",
       "      <th></th>\n",
       "      <th>actor_name</th>\n",
       "      <th>actor_gender</th>\n",
       "      <th>actor_score</th>\n",
       "    </tr>\n",
       "    <tr>\n",
       "      <th>wikipedia_m_ID</th>\n",
       "      <th></th>\n",
       "      <th></th>\n",
       "      <th></th>\n",
       "    </tr>\n",
       "  </thead>\n",
       "  <tbody>\n",
       "    <tr>\n",
       "      <th>3217</th>\n",
       "      <td>Ted Raimi$l$Ivan Raimi$l$Bruce Campbell$l$Brid...</td>\n",
       "      <td>M$l$M$l$M$l$F$l$F$l$F$l$M$l$M$l$M</td>\n",
       "      <td>0.0$l$0.0$l$0.0$l$0.0$l$0.0$l$0.0$l$0.0$l$0.0$...</td>\n",
       "    </tr>\n",
       "    <tr>\n",
       "      <th>3746</th>\n",
       "      <td>William Sanderson$l$Harrison Ford$l$Rutger Hau...</td>\n",
       "      <td>M$l$M$l$M$l$F$l$F$l$F$l$M$l$M$l$M$l$M$l$M$l$M$l$M</td>\n",
       "      <td>0.0$l$250.0$l$0.0$l$0.0$l$0.0$l$0.0$l$0.0$l$0....</td>\n",
       "    </tr>\n",
       "    <tr>\n",
       "      <th>3947</th>\n",
       "      <td>Isabella Rossellini$l$Kyle MacLachlan$l$Dennis...</td>\n",
       "      <td>F$l$M$l$M$l$F$l$F$l$M$l$M$l$F$l$F$l$M$l$M</td>\n",
       "      <td>0.0$l$34.5$l$0.0$l$0.0$l$0.0$l$0.0$l$0.0$l$0.0...</td>\n",
       "    </tr>\n",
       "    <tr>\n",
       "      <th>4231</th>\n",
       "      <td>Kristy Swanson$l$Donald Sutherland$l$Paul Reub...</td>\n",
       "      <td>F$l$M$l$M$l$M$l$M$l$F$l$M$l$M$l$M$l$M$l$F$l$F$...</td>\n",
       "      <td>0.0$l$0.0$l$11.571428571428571$l$15.7142857142...</td>\n",
       "    </tr>\n",
       "    <tr>\n",
       "      <th>4560</th>\n",
       "      <td>Tommy Flanagan$l$Sean Lawlor$l$Sophie Marceau$...</td>\n",
       "      <td>M$l$M$l$F$l$M$l$M$l$M$l$M$l$M$l$M$l$M$l$M$l$M$...</td>\n",
       "      <td>0.0$l$0.0$l$0.0$l$0.0$l$2844.061904761905$l$0....</td>\n",
       "    </tr>\n",
       "    <tr>\n",
       "      <th>...</th>\n",
       "      <td>...</td>\n",
       "      <td>...</td>\n",
       "      <td>...</td>\n",
       "    </tr>\n",
       "    <tr>\n",
       "      <th>36619262</th>\n",
       "      <td>Leonardo Nam$l$Gillian Jacobs$l$Peter Scanavino</td>\n",
       "      <td>M$l$F$l$M</td>\n",
       "      <td>0.0$l$0.0$l$0.0</td>\n",
       "    </tr>\n",
       "    <tr>\n",
       "      <th>36724042</th>\n",
       "      <td>John Barrowman$l$Ryan Cutrona$l$Bashar Rahal</td>\n",
       "      <td>M$l$M$l$M</td>\n",
       "      <td>0.0$l$0.0$l$0.0</td>\n",
       "    </tr>\n",
       "    <tr>\n",
       "      <th>36956792</th>\n",
       "      <td>Bruce Allpress$l$Ben Chaplin$l$Brian Cox$l$Ale...</td>\n",
       "      <td>M$l$M$l$M$l$M$l$M$l$M$l$M$l$M$l$F$l$F</td>\n",
       "      <td>0.0$l$4.666666666666667$l$0.0$l$0.0$l$0.0$l$0....</td>\n",
       "    </tr>\n",
       "    <tr>\n",
       "      <th>37373877</th>\n",
       "      <td>Gabrielle Anwar$l$Traci Lords$l$Dina Meyer$l$G...</td>\n",
       "      <td>F$l$F$l$F$l$M$l$M</td>\n",
       "      <td>0.0$l$0.0$l$1.4545454545454546$l$0.0$l$0.93333...</td>\n",
       "    </tr>\n",
       "    <tr>\n",
       "      <th>37501922</th>\n",
       "      <td>Luke Perry$l$Alexis Arquette</td>\n",
       "      <td>M$l$F</td>\n",
       "      <td>0.0$l$0.0</td>\n",
       "    </tr>\n",
       "  </tbody>\n",
       "</table>\n",
       "<p>13712 rows × 3 columns</p>\n",
       "</div>"
      ],
      "text/plain": [
       "                                                       actor_name  \\\n",
       "wikipedia_m_ID                                                      \n",
       "3217            Ted Raimi$l$Ivan Raimi$l$Bruce Campbell$l$Brid...   \n",
       "3746            William Sanderson$l$Harrison Ford$l$Rutger Hau...   \n",
       "3947            Isabella Rossellini$l$Kyle MacLachlan$l$Dennis...   \n",
       "4231            Kristy Swanson$l$Donald Sutherland$l$Paul Reub...   \n",
       "4560            Tommy Flanagan$l$Sean Lawlor$l$Sophie Marceau$...   \n",
       "...                                                           ...   \n",
       "36619262          Leonardo Nam$l$Gillian Jacobs$l$Peter Scanavino   \n",
       "36724042             John Barrowman$l$Ryan Cutrona$l$Bashar Rahal   \n",
       "36956792        Bruce Allpress$l$Ben Chaplin$l$Brian Cox$l$Ale...   \n",
       "37373877        Gabrielle Anwar$l$Traci Lords$l$Dina Meyer$l$G...   \n",
       "37501922                             Luke Perry$l$Alexis Arquette   \n",
       "\n",
       "                                                     actor_gender  \\\n",
       "wikipedia_m_ID                                                      \n",
       "3217                            M$l$M$l$M$l$F$l$F$l$F$l$M$l$M$l$M   \n",
       "3746            M$l$M$l$M$l$F$l$F$l$F$l$M$l$M$l$M$l$M$l$M$l$M$l$M   \n",
       "3947                    F$l$M$l$M$l$F$l$F$l$M$l$M$l$F$l$F$l$M$l$M   \n",
       "4231            F$l$M$l$M$l$M$l$M$l$F$l$M$l$M$l$M$l$M$l$F$l$F$...   \n",
       "4560            M$l$M$l$F$l$M$l$M$l$M$l$M$l$M$l$M$l$M$l$M$l$M$...   \n",
       "...                                                           ...   \n",
       "36619262                                                M$l$F$l$M   \n",
       "36724042                                                M$l$M$l$M   \n",
       "36956792                    M$l$M$l$M$l$M$l$M$l$M$l$M$l$M$l$F$l$F   \n",
       "37373877                                        F$l$F$l$F$l$M$l$M   \n",
       "37501922                                                    M$l$F   \n",
       "\n",
       "                                                      actor_score  \n",
       "wikipedia_m_ID                                                     \n",
       "3217            0.0$l$0.0$l$0.0$l$0.0$l$0.0$l$0.0$l$0.0$l$0.0$...  \n",
       "3746            0.0$l$250.0$l$0.0$l$0.0$l$0.0$l$0.0$l$0.0$l$0....  \n",
       "3947            0.0$l$34.5$l$0.0$l$0.0$l$0.0$l$0.0$l$0.0$l$0.0...  \n",
       "4231            0.0$l$0.0$l$11.571428571428571$l$15.7142857142...  \n",
       "4560            0.0$l$0.0$l$0.0$l$0.0$l$2844.061904761905$l$0....  \n",
       "...                                                           ...  \n",
       "36619262                                          0.0$l$0.0$l$0.0  \n",
       "36724042                                          0.0$l$0.0$l$0.0  \n",
       "36956792        0.0$l$4.666666666666667$l$0.0$l$0.0$l$0.0$l$0....  \n",
       "37373877        0.0$l$0.0$l$1.4545454545454546$l$0.0$l$0.93333...  \n",
       "37501922                                                0.0$l$0.0  \n",
       "\n",
       "[13712 rows x 3 columns]"
      ]
     },
     "execution_count": 42,
     "metadata": {},
     "output_type": "execute_result"
    }
   ],
   "source": [
    "df_movies_features"
   ]
  },
  {
   "cell_type": "code",
   "execution_count": 43,
   "id": "2b5d6024",
   "metadata": {},
   "outputs": [],
   "source": [
    "def get_function_of_list_values_condition(row, function, gender_bool=None):\n",
    "    list_temp = row['actor_score'].split('$l$')\n",
    "    gender_split = row['actor_gender'].split('$l$')\n",
    "    list_temp = [float(x) for x in list_temp]\n",
    "    if gender_bool:\n",
    "        list_split = []\n",
    "        for x, gender in zip(list_temp, gender_split):\n",
    "            if gender == gender_bool:\n",
    "                list_split.append(x)\n",
    "    else:\n",
    "        list_split = list_temp\n",
    "    if len(list_split) == 0:\n",
    "        return np.nan\n",
    "    if function == 'max':\n",
    "        return max(list_split)\n",
    "    if function == 'min':\n",
    "        return min(list_split)\n",
    "    if function == 'mean':\n",
    "        return np.mean(list_split)\n",
    "    if function == 'median':\n",
    "        return np.median(list_split)\n",
    "    if function == 'nb_famous_actors' or function == 'nb_actors_already_played':\n",
    "        return np.count_nonzero(list_split)\n",
    "    if function == 'prop_famous_actors' or function == 'prop_nb_movies':\n",
    "        if gender_bool:\n",
    "            try:\n",
    "                return (np.count_nonzero(list_split)) / np.count_nonzero(list_temp)\n",
    "            except:\n",
    "                return 0\n",
    "        else:\n",
    "            return (np.count_nonzero(list_split)) / float(len(list_split))"
   ]
  },
  {
   "cell_type": "code",
   "execution_count": 44,
   "id": "13ea158f",
   "metadata": {},
   "outputs": [],
   "source": [
    "list_function_score = ['max', 'min', 'mean', 'median', 'nb_famous_actors', 'prop_famous_actors']\n",
    "for f in list_function_score:\n",
    "    df_movies_features['cast_' + f] = df_movies_features.apply(\n",
    "        lambda row: get_function_of_list_values_condition(row, f), axis=1)"
   ]
  },
  {
   "cell_type": "code",
   "execution_count": 45,
   "id": "1c4cb91c",
   "metadata": {},
   "outputs": [],
   "source": [
    "list_function_score = ['max', 'min', 'mean', 'median', 'nb_famous_actors', 'prop_famous_actors']\n",
    "gender_list = ['M', 'F']\n",
    "for gender in gender_list:\n",
    "    for f in list_function_score:\n",
    "        df_movies_features[gender + '_' + f] = df_movies_features.apply(\n",
    "            lambda row: get_function_of_list_values_condition(row, f, gender_bool=gender), axis=1)\n"
   ]
  },
  {
   "cell_type": "code",
   "execution_count": 46,
   "id": "5437eb7f",
   "metadata": {},
   "outputs": [
    {
     "data": {
      "text/html": [
       "<div>\n",
       "<style scoped>\n",
       "    .dataframe tbody tr th:only-of-type {\n",
       "        vertical-align: middle;\n",
       "    }\n",
       "\n",
       "    .dataframe tbody tr th {\n",
       "        vertical-align: top;\n",
       "    }\n",
       "\n",
       "    .dataframe thead th {\n",
       "        text-align: right;\n",
       "    }\n",
       "</style>\n",
       "<table border=\"1\" class=\"dataframe\">\n",
       "  <thead>\n",
       "    <tr style=\"text-align: right;\">\n",
       "      <th></th>\n",
       "      <th>actor_name</th>\n",
       "      <th>actor_gender</th>\n",
       "      <th>actor_score</th>\n",
       "      <th>cast_max</th>\n",
       "      <th>cast_min</th>\n",
       "      <th>cast_mean</th>\n",
       "      <th>cast_median</th>\n",
       "      <th>cast_nb_famous_actors</th>\n",
       "      <th>cast_prop_famous_actors</th>\n",
       "      <th>M_max</th>\n",
       "      <th>...</th>\n",
       "      <th>M_mean</th>\n",
       "      <th>M_median</th>\n",
       "      <th>M_nb_famous_actors</th>\n",
       "      <th>M_prop_famous_actors</th>\n",
       "      <th>F_max</th>\n",
       "      <th>F_min</th>\n",
       "      <th>F_mean</th>\n",
       "      <th>F_median</th>\n",
       "      <th>F_nb_famous_actors</th>\n",
       "      <th>F_prop_famous_actors</th>\n",
       "    </tr>\n",
       "    <tr>\n",
       "      <th>wikipedia_m_ID</th>\n",
       "      <th></th>\n",
       "      <th></th>\n",
       "      <th></th>\n",
       "      <th></th>\n",
       "      <th></th>\n",
       "      <th></th>\n",
       "      <th></th>\n",
       "      <th></th>\n",
       "      <th></th>\n",
       "      <th></th>\n",
       "      <th></th>\n",
       "      <th></th>\n",
       "      <th></th>\n",
       "      <th></th>\n",
       "      <th></th>\n",
       "      <th></th>\n",
       "      <th></th>\n",
       "      <th></th>\n",
       "      <th></th>\n",
       "      <th></th>\n",
       "      <th></th>\n",
       "    </tr>\n",
       "  </thead>\n",
       "  <tbody>\n",
       "    <tr>\n",
       "      <th>3217</th>\n",
       "      <td>Ted Raimi$l$Ivan Raimi$l$Bruce Campbell$l$Brid...</td>\n",
       "      <td>M$l$M$l$M$l$F$l$F$l$F$l$M$l$M$l$M</td>\n",
       "      <td>0.0$l$0.0$l$0.0$l$0.0$l$0.0$l$0.0$l$0.0$l$0.0$...</td>\n",
       "      <td>0.0</td>\n",
       "      <td>0.0</td>\n",
       "      <td>0.000000</td>\n",
       "      <td>0.0</td>\n",
       "      <td>0</td>\n",
       "      <td>0.000000</td>\n",
       "      <td>0.0</td>\n",
       "      <td>...</td>\n",
       "      <td>0.0</td>\n",
       "      <td>0.0</td>\n",
       "      <td>0.0</td>\n",
       "      <td>0.0</td>\n",
       "      <td>0.0</td>\n",
       "      <td>0.0</td>\n",
       "      <td>0.0</td>\n",
       "      <td>0.0</td>\n",
       "      <td>0.0</td>\n",
       "      <td>0.0</td>\n",
       "    </tr>\n",
       "    <tr>\n",
       "      <th>3746</th>\n",
       "      <td>William Sanderson$l$Harrison Ford$l$Rutger Hau...</td>\n",
       "      <td>M$l$M$l$M$l$F$l$F$l$F$l$M$l$M$l$M$l$M$l$M$l$M$l$M</td>\n",
       "      <td>0.0$l$250.0$l$0.0$l$0.0$l$0.0$l$0.0$l$0.0$l$0....</td>\n",
       "      <td>250.0</td>\n",
       "      <td>0.0</td>\n",
       "      <td>19.230769</td>\n",
       "      <td>0.0</td>\n",
       "      <td>1</td>\n",
       "      <td>0.076923</td>\n",
       "      <td>250.0</td>\n",
       "      <td>...</td>\n",
       "      <td>25.0</td>\n",
       "      <td>0.0</td>\n",
       "      <td>1.0</td>\n",
       "      <td>1.0</td>\n",
       "      <td>0.0</td>\n",
       "      <td>0.0</td>\n",
       "      <td>0.0</td>\n",
       "      <td>0.0</td>\n",
       "      <td>0.0</td>\n",
       "      <td>0.0</td>\n",
       "    </tr>\n",
       "  </tbody>\n",
       "</table>\n",
       "<p>2 rows × 21 columns</p>\n",
       "</div>"
      ],
      "text/plain": [
       "                                                       actor_name  \\\n",
       "wikipedia_m_ID                                                      \n",
       "3217            Ted Raimi$l$Ivan Raimi$l$Bruce Campbell$l$Brid...   \n",
       "3746            William Sanderson$l$Harrison Ford$l$Rutger Hau...   \n",
       "\n",
       "                                                     actor_gender  \\\n",
       "wikipedia_m_ID                                                      \n",
       "3217                            M$l$M$l$M$l$F$l$F$l$F$l$M$l$M$l$M   \n",
       "3746            M$l$M$l$M$l$F$l$F$l$F$l$M$l$M$l$M$l$M$l$M$l$M$l$M   \n",
       "\n",
       "                                                      actor_score  cast_max  \\\n",
       "wikipedia_m_ID                                                                \n",
       "3217            0.0$l$0.0$l$0.0$l$0.0$l$0.0$l$0.0$l$0.0$l$0.0$...       0.0   \n",
       "3746            0.0$l$250.0$l$0.0$l$0.0$l$0.0$l$0.0$l$0.0$l$0....     250.0   \n",
       "\n",
       "                cast_min  cast_mean  cast_median  cast_nb_famous_actors  \\\n",
       "wikipedia_m_ID                                                            \n",
       "3217                 0.0   0.000000          0.0                      0   \n",
       "3746                 0.0  19.230769          0.0                      1   \n",
       "\n",
       "                cast_prop_famous_actors  M_max  ...  M_mean  M_median  \\\n",
       "wikipedia_m_ID                                  ...                     \n",
       "3217                           0.000000    0.0  ...     0.0       0.0   \n",
       "3746                           0.076923  250.0  ...    25.0       0.0   \n",
       "\n",
       "                M_nb_famous_actors  M_prop_famous_actors  F_max  F_min  \\\n",
       "wikipedia_m_ID                                                           \n",
       "3217                           0.0                   0.0    0.0    0.0   \n",
       "3746                           1.0                   1.0    0.0    0.0   \n",
       "\n",
       "                F_mean  F_median  F_nb_famous_actors  F_prop_famous_actors  \n",
       "wikipedia_m_ID                                                              \n",
       "3217               0.0       0.0                 0.0                   0.0  \n",
       "3746               0.0       0.0                 0.0                   0.0  \n",
       "\n",
       "[2 rows x 21 columns]"
      ]
     },
     "execution_count": 46,
     "metadata": {},
     "output_type": "execute_result"
    }
   ],
   "source": [
    "df_movies_features.head(2)"
   ]
  },
  {
   "cell_type": "markdown",
   "id": "6f9ee06d",
   "metadata": {},
   "source": [
    "## 3.3 Compute actor story"
   ]
  },
  {
   "cell_type": "code",
   "execution_count": 47,
   "id": "5d2376e3",
   "metadata": {},
   "outputs": [],
   "source": [
    "list_columns = ['cast_' + x for x in list_function_score] + ['F_' + x for x in list_function_score] + ['M_' + x for x in\n",
    "                                                                                                       list_function_score]"
   ]
  },
  {
   "cell_type": "code",
   "execution_count": 48,
   "id": "2e940de3",
   "metadata": {},
   "outputs": [
    {
     "data": {
      "text/html": [
       "<div>\n",
       "<style scoped>\n",
       "    .dataframe tbody tr th:only-of-type {\n",
       "        vertical-align: middle;\n",
       "    }\n",
       "\n",
       "    .dataframe tbody tr th {\n",
       "        vertical-align: top;\n",
       "    }\n",
       "\n",
       "    .dataframe thead th {\n",
       "        text-align: right;\n",
       "    }\n",
       "</style>\n",
       "<table border=\"1\" class=\"dataframe\">\n",
       "  <thead>\n",
       "    <tr style=\"text-align: right;\">\n",
       "      <th></th>\n",
       "      <th>wikipedia_m_ID</th>\n",
       "      <th>character_name</th>\n",
       "      <th>actor_dob</th>\n",
       "      <th>actor_gender</th>\n",
       "      <th>actor_name</th>\n",
       "      <th>actor_age</th>\n",
       "      <th>m_name</th>\n",
       "      <th>m_genre_PCA</th>\n",
       "      <th>m_release_year</th>\n",
       "      <th>min_year</th>\n",
       "      <th>...</th>\n",
       "      <th>F_mean</th>\n",
       "      <th>F_median</th>\n",
       "      <th>F_nb_famous_actors</th>\n",
       "      <th>F_prop_famous_actors</th>\n",
       "      <th>M_max</th>\n",
       "      <th>M_min</th>\n",
       "      <th>M_mean</th>\n",
       "      <th>M_median</th>\n",
       "      <th>M_nb_famous_actors</th>\n",
       "      <th>M_prop_famous_actors</th>\n",
       "    </tr>\n",
       "  </thead>\n",
       "  <tbody>\n",
       "    <tr>\n",
       "      <th>0</th>\n",
       "      <td>975900</td>\n",
       "      <td>Akooshay</td>\n",
       "      <td>1958-08-26</td>\n",
       "      <td>F</td>\n",
       "      <td>Wanda De Jesus</td>\n",
       "      <td>42.0</td>\n",
       "      <td>Ghosts of Mars</td>\n",
       "      <td>Thriller, Crime Thriller, Action, Mystery</td>\n",
       "      <td>2001</td>\n",
       "      <td>NaN</td>\n",
       "      <td>...</td>\n",
       "      <td>37.561111</td>\n",
       "      <td>10.85</td>\n",
       "      <td>4.0</td>\n",
       "      <td>0.666667</td>\n",
       "      <td>1458.8</td>\n",
       "      <td>0.0</td>\n",
       "      <td>213.828571</td>\n",
       "      <td>0.0</td>\n",
       "      <td>2.0</td>\n",
       "      <td>0.333333</td>\n",
       "    </tr>\n",
       "    <tr>\n",
       "      <th>1</th>\n",
       "      <td>975900</td>\n",
       "      <td>Lieutenant Melanie Ballard</td>\n",
       "      <td>1974-08-15</td>\n",
       "      <td>F</td>\n",
       "      <td>Natasha Henstridge</td>\n",
       "      <td>27.0</td>\n",
       "      <td>Ghosts of Mars</td>\n",
       "      <td>Thriller, Crime Thriller, Action, Mystery</td>\n",
       "      <td>2001</td>\n",
       "      <td>2000.0</td>\n",
       "      <td>...</td>\n",
       "      <td>37.561111</td>\n",
       "      <td>10.85</td>\n",
       "      <td>4.0</td>\n",
       "      <td>0.666667</td>\n",
       "      <td>1458.8</td>\n",
       "      <td>0.0</td>\n",
       "      <td>213.828571</td>\n",
       "      <td>0.0</td>\n",
       "      <td>2.0</td>\n",
       "      <td>0.333333</td>\n",
       "    </tr>\n",
       "    <tr>\n",
       "      <th>2</th>\n",
       "      <td>975900</td>\n",
       "      <td>Desolation Williams</td>\n",
       "      <td>1969-06-15</td>\n",
       "      <td>M</td>\n",
       "      <td>Ice Cube</td>\n",
       "      <td>32.0</td>\n",
       "      <td>Ghosts of Mars</td>\n",
       "      <td>Thriller, Crime Thriller, Action, Mystery</td>\n",
       "      <td>2001</td>\n",
       "      <td>1991.0</td>\n",
       "      <td>...</td>\n",
       "      <td>37.561111</td>\n",
       "      <td>10.85</td>\n",
       "      <td>4.0</td>\n",
       "      <td>0.666667</td>\n",
       "      <td>1458.8</td>\n",
       "      <td>0.0</td>\n",
       "      <td>213.828571</td>\n",
       "      <td>0.0</td>\n",
       "      <td>2.0</td>\n",
       "      <td>0.333333</td>\n",
       "    </tr>\n",
       "  </tbody>\n",
       "</table>\n",
       "<p>3 rows × 41 columns</p>\n",
       "</div>"
      ],
      "text/plain": [
       "   wikipedia_m_ID              character_name  actor_dob actor_gender  \\\n",
       "0          975900                    Akooshay 1958-08-26            F   \n",
       "1          975900  Lieutenant Melanie Ballard 1974-08-15            F   \n",
       "2          975900         Desolation Williams 1969-06-15            M   \n",
       "\n",
       "           actor_name  actor_age          m_name  \\\n",
       "0      Wanda De Jesus       42.0  Ghosts of Mars   \n",
       "1  Natasha Henstridge       27.0  Ghosts of Mars   \n",
       "2            Ice Cube       32.0  Ghosts of Mars   \n",
       "\n",
       "                                 m_genre_PCA  m_release_year  min_year  ...  \\\n",
       "0  Thriller, Crime Thriller, Action, Mystery            2001       NaN  ...   \n",
       "1  Thriller, Crime Thriller, Action, Mystery            2001    2000.0  ...   \n",
       "2  Thriller, Crime Thriller, Action, Mystery            2001    1991.0  ...   \n",
       "\n",
       "      F_mean  F_median  F_nb_famous_actors  F_prop_famous_actors   M_max  \\\n",
       "0  37.561111     10.85                 4.0              0.666667  1458.8   \n",
       "1  37.561111     10.85                 4.0              0.666667  1458.8   \n",
       "2  37.561111     10.85                 4.0              0.666667  1458.8   \n",
       "\n",
       "   M_min      M_mean  M_median  M_nb_famous_actors  M_prop_famous_actors  \n",
       "0    0.0  213.828571       0.0                 2.0              0.333333  \n",
       "1    0.0  213.828571       0.0                 2.0              0.333333  \n",
       "2    0.0  213.828571       0.0                 2.0              0.333333  \n",
       "\n",
       "[3 rows x 41 columns]"
      ]
     },
     "execution_count": 48,
     "metadata": {},
     "output_type": "execute_result"
    }
   ],
   "source": [
    "df_regression_merged = df_regression.merge(df_movies_features[list_columns], left_on='wikipedia_m_ID', right_index=True,\n",
    "                                           how='left').copy()\n",
    "df_regression_merged.head(3)"
   ]
  },
  {
   "cell_type": "markdown",
   "id": "0290fa38",
   "metadata": {},
   "source": [
    "#### Filter out actors when movie released date was after his·her revelation"
   ]
  },
  {
   "cell_type": "code",
   "execution_count": 50,
   "id": "33ff07bd",
   "metadata": {},
   "outputs": [
    {
     "data": {
      "text/html": [
       "<div>\n",
       "<style scoped>\n",
       "    .dataframe tbody tr th:only-of-type {\n",
       "        vertical-align: middle;\n",
       "    }\n",
       "\n",
       "    .dataframe tbody tr th {\n",
       "        vertical-align: top;\n",
       "    }\n",
       "\n",
       "    .dataframe thead th {\n",
       "        text-align: right;\n",
       "    }\n",
       "</style>\n",
       "<table border=\"1\" class=\"dataframe\">\n",
       "  <thead>\n",
       "    <tr style=\"text-align: right;\">\n",
       "      <th></th>\n",
       "      <th>wikipedia_m_ID</th>\n",
       "      <th>character_name</th>\n",
       "      <th>actor_dob</th>\n",
       "      <th>actor_gender</th>\n",
       "      <th>actor_name</th>\n",
       "      <th>actor_age</th>\n",
       "      <th>m_name</th>\n",
       "      <th>m_genre_PCA</th>\n",
       "      <th>m_release_year</th>\n",
       "      <th>min_year</th>\n",
       "      <th>...</th>\n",
       "      <th>F_mean</th>\n",
       "      <th>F_median</th>\n",
       "      <th>F_nb_famous_actors</th>\n",
       "      <th>F_prop_famous_actors</th>\n",
       "      <th>M_max</th>\n",
       "      <th>M_min</th>\n",
       "      <th>M_mean</th>\n",
       "      <th>M_median</th>\n",
       "      <th>M_nb_famous_actors</th>\n",
       "      <th>M_prop_famous_actors</th>\n",
       "    </tr>\n",
       "  </thead>\n",
       "  <tbody>\n",
       "    <tr>\n",
       "      <th>0</th>\n",
       "      <td>975900</td>\n",
       "      <td>Akooshay</td>\n",
       "      <td>1958-08-26</td>\n",
       "      <td>F</td>\n",
       "      <td>Wanda De Jesus</td>\n",
       "      <td>42.0</td>\n",
       "      <td>Ghosts of Mars</td>\n",
       "      <td>Thriller, Crime Thriller, Action, Mystery</td>\n",
       "      <td>2001</td>\n",
       "      <td>NaN</td>\n",
       "      <td>...</td>\n",
       "      <td>37.561111</td>\n",
       "      <td>10.85</td>\n",
       "      <td>4.0</td>\n",
       "      <td>0.666667</td>\n",
       "      <td>1458.8</td>\n",
       "      <td>0.0</td>\n",
       "      <td>213.828571</td>\n",
       "      <td>0.0</td>\n",
       "      <td>2.0</td>\n",
       "      <td>0.333333</td>\n",
       "    </tr>\n",
       "    <tr>\n",
       "      <th>7</th>\n",
       "      <td>975900</td>\n",
       "      <td>Michael Descanso</td>\n",
       "      <td>1971-03-20</td>\n",
       "      <td>M</td>\n",
       "      <td>Liam Waite</td>\n",
       "      <td>30.0</td>\n",
       "      <td>Ghosts of Mars</td>\n",
       "      <td>Thriller, Crime Thriller, Action, Mystery</td>\n",
       "      <td>2001</td>\n",
       "      <td>NaN</td>\n",
       "      <td>...</td>\n",
       "      <td>37.561111</td>\n",
       "      <td>10.85</td>\n",
       "      <td>4.0</td>\n",
       "      <td>0.666667</td>\n",
       "      <td>1458.8</td>\n",
       "      <td>0.0</td>\n",
       "      <td>213.828571</td>\n",
       "      <td>0.0</td>\n",
       "      <td>2.0</td>\n",
       "      <td>0.333333</td>\n",
       "    </tr>\n",
       "  </tbody>\n",
       "</table>\n",
       "<p>2 rows × 41 columns</p>\n",
       "</div>"
      ],
      "text/plain": [
       "   wikipedia_m_ID    character_name  actor_dob actor_gender      actor_name  \\\n",
       "0          975900          Akooshay 1958-08-26            F  Wanda De Jesus   \n",
       "7          975900  Michael Descanso 1971-03-20            M      Liam Waite   \n",
       "\n",
       "   actor_age          m_name                                m_genre_PCA  \\\n",
       "0       42.0  Ghosts of Mars  Thriller, Crime Thriller, Action, Mystery   \n",
       "7       30.0  Ghosts of Mars  Thriller, Crime Thriller, Action, Mystery   \n",
       "\n",
       "   m_release_year  min_year  ...     F_mean  F_median  F_nb_famous_actors  \\\n",
       "0            2001       NaN  ...  37.561111     10.85                 4.0   \n",
       "7            2001       NaN  ...  37.561111     10.85                 4.0   \n",
       "\n",
       "   F_prop_famous_actors   M_max  M_min      M_mean  M_median  \\\n",
       "0              0.666667  1458.8    0.0  213.828571       0.0   \n",
       "7              0.666667  1458.8    0.0  213.828571       0.0   \n",
       "\n",
       "   M_nb_famous_actors  M_prop_famous_actors  \n",
       "0                 2.0              0.333333  \n",
       "7                 2.0              0.333333  \n",
       "\n",
       "[2 rows x 41 columns]"
      ]
     },
     "execution_count": 50,
     "metadata": {},
     "output_type": "execute_result"
    }
   ],
   "source": [
    "filter_conditions = (\n",
    "    (df_regression_merged['already_revealed'] == 0)\n",
    "\n",
    ")\n",
    "df_regression_filtered = df_regression_merged.loc[filter_conditions]\n",
    "df_regression_filtered.head(2)"
   ]
  },
  {
   "cell_type": "markdown",
   "id": "f473b100",
   "metadata": {},
   "source": [
    "#### Mapping past of actor"
   ]
  },
  {
   "cell_type": "code",
   "execution_count": 52,
   "id": "db5fb75e",
   "metadata": {},
   "outputs": [],
   "source": [
    "aggregation = {\"cast_max\": \"max\", \"cast_mean\": \"mean\", \"cast_prop_famous_actors\": \"mean\",\n",
    "               \"cast_prop_famous_actors\": \"max\", \"cast_nb_famous_actors\": \"max\"}\n",
    "map_past_of_actor = df_regression_filtered.groupby(['actor_name', 'm_release_year']).agg(aggregation).reset_index()"
   ]
  },
  {
   "cell_type": "code",
   "execution_count": 53,
   "id": "6b6056c7",
   "metadata": {},
   "outputs": [],
   "source": [
    "year = range(1982, 2013)\n",
    "#columns = [\"score_max\", \"score_mean\", \"score_prop_famous_actors\", \"score_prop_famous_actors\", \"score_nb_famous_actors\"]\n",
    "list_past_actors_per_year = pd.DataFrame()\n",
    "for y in year:\n",
    "    filter_conditions = (\n",
    "            (map_past_of_actor['m_release_year'] >= y - 3) &\n",
    "            (map_past_of_actor['m_release_year'] <= y)\n",
    "    )\n",
    "    list_past_actors = map_past_of_actor.loc[filter_conditions].copy()\n",
    "    list_past_actors = list_past_actors.groupby('actor_name').agg(aggregation)\n",
    "    previous_col = list_past_actors.columns\n",
    "    list_past_actors.columns = ['previous_' + c for c in previous_col]\n",
    "    list_past_actors['m_release_year'] = list_past_actors.apply(lambda row: y, axis=1)\n",
    "    list_past_actors_per_year = pd.concat([list_past_actors_per_year, list_past_actors])\n",
    "\n",
    "list_past_actors_per_year.reset_index(inplace=True)"
   ]
  },
  {
   "cell_type": "code",
   "execution_count": 54,
   "id": "5c0c0370",
   "metadata": {},
   "outputs": [
    {
     "data": {
      "text/html": [
       "<div>\n",
       "<style scoped>\n",
       "    .dataframe tbody tr th:only-of-type {\n",
       "        vertical-align: middle;\n",
       "    }\n",
       "\n",
       "    .dataframe tbody tr th {\n",
       "        vertical-align: top;\n",
       "    }\n",
       "\n",
       "    .dataframe thead th {\n",
       "        text-align: right;\n",
       "    }\n",
       "</style>\n",
       "<table border=\"1\" class=\"dataframe\">\n",
       "  <thead>\n",
       "    <tr style=\"text-align: right;\">\n",
       "      <th></th>\n",
       "      <th>wikipedia_m_ID</th>\n",
       "      <th>character_name</th>\n",
       "      <th>actor_dob</th>\n",
       "      <th>actor_gender</th>\n",
       "      <th>actor_name</th>\n",
       "      <th>actor_age</th>\n",
       "      <th>m_name</th>\n",
       "      <th>m_genre_PCA</th>\n",
       "      <th>m_release_year</th>\n",
       "      <th>min_year</th>\n",
       "      <th>...</th>\n",
       "      <th>M_max</th>\n",
       "      <th>M_min</th>\n",
       "      <th>M_mean</th>\n",
       "      <th>M_median</th>\n",
       "      <th>M_nb_famous_actors</th>\n",
       "      <th>M_prop_famous_actors</th>\n",
       "      <th>previous_cast_max</th>\n",
       "      <th>previous_cast_mean</th>\n",
       "      <th>previous_cast_prop_famous_actors</th>\n",
       "      <th>previous_cast_nb_famous_actors</th>\n",
       "    </tr>\n",
       "  </thead>\n",
       "  <tbody>\n",
       "    <tr>\n",
       "      <th>0</th>\n",
       "      <td>975900</td>\n",
       "      <td>Akooshay</td>\n",
       "      <td>1958-08-26</td>\n",
       "      <td>F</td>\n",
       "      <td>Wanda De Jesus</td>\n",
       "      <td>42.0</td>\n",
       "      <td>Ghosts of Mars</td>\n",
       "      <td>Thriller, Crime Thriller, Action, Mystery</td>\n",
       "      <td>2001</td>\n",
       "      <td>NaN</td>\n",
       "      <td>...</td>\n",
       "      <td>1458.8</td>\n",
       "      <td>0.0</td>\n",
       "      <td>213.828571</td>\n",
       "      <td>0.0</td>\n",
       "      <td>2.0</td>\n",
       "      <td>0.333333</td>\n",
       "      <td>1458.800000</td>\n",
       "      <td>66.237179</td>\n",
       "      <td>0.461538</td>\n",
       "      <td>6.0</td>\n",
       "    </tr>\n",
       "    <tr>\n",
       "      <th>1</th>\n",
       "      <td>975900</td>\n",
       "      <td>Michael Descanso</td>\n",
       "      <td>1971-03-20</td>\n",
       "      <td>M</td>\n",
       "      <td>Liam Waite</td>\n",
       "      <td>30.0</td>\n",
       "      <td>Ghosts of Mars</td>\n",
       "      <td>Thriller, Crime Thriller, Action, Mystery</td>\n",
       "      <td>2001</td>\n",
       "      <td>NaN</td>\n",
       "      <td>...</td>\n",
       "      <td>1458.8</td>\n",
       "      <td>0.0</td>\n",
       "      <td>213.828571</td>\n",
       "      <td>0.0</td>\n",
       "      <td>2.0</td>\n",
       "      <td>0.333333</td>\n",
       "      <td>2425.821429</td>\n",
       "      <td>295.279175</td>\n",
       "      <td>0.461538</td>\n",
       "      <td>6.0</td>\n",
       "    </tr>\n",
       "    <tr>\n",
       "      <th>2</th>\n",
       "      <td>975900</td>\n",
       "      <td>Tres</td>\n",
       "      <td>1959-03-09</td>\n",
       "      <td>M</td>\n",
       "      <td>Rodney A. Grant</td>\n",
       "      <td>42.0</td>\n",
       "      <td>Ghosts of Mars</td>\n",
       "      <td>Thriller, Crime Thriller, Action, Mystery</td>\n",
       "      <td>2001</td>\n",
       "      <td>NaN</td>\n",
       "      <td>...</td>\n",
       "      <td>1458.8</td>\n",
       "      <td>0.0</td>\n",
       "      <td>213.828571</td>\n",
       "      <td>0.0</td>\n",
       "      <td>2.0</td>\n",
       "      <td>0.333333</td>\n",
       "      <td>3241.953846</td>\n",
       "      <td>120.166090</td>\n",
       "      <td>0.461538</td>\n",
       "      <td>6.0</td>\n",
       "    </tr>\n",
       "    <tr>\n",
       "      <th>3</th>\n",
       "      <td>975900</td>\n",
       "      <td>McSimms</td>\n",
       "      <td>1944-07-22</td>\n",
       "      <td>M</td>\n",
       "      <td>Peter Jason</td>\n",
       "      <td>57.0</td>\n",
       "      <td>Ghosts of Mars</td>\n",
       "      <td>Thriller, Crime Thriller, Action, Mystery</td>\n",
       "      <td>2001</td>\n",
       "      <td>NaN</td>\n",
       "      <td>...</td>\n",
       "      <td>1458.8</td>\n",
       "      <td>0.0</td>\n",
       "      <td>213.828571</td>\n",
       "      <td>0.0</td>\n",
       "      <td>2.0</td>\n",
       "      <td>0.333333</td>\n",
       "      <td>1458.800000</td>\n",
       "      <td>67.542735</td>\n",
       "      <td>0.500000</td>\n",
       "      <td>6.0</td>\n",
       "    </tr>\n",
       "    <tr>\n",
       "      <th>4</th>\n",
       "      <td>975900</td>\n",
       "      <td>Benchley</td>\n",
       "      <td>1935-08-13</td>\n",
       "      <td>M</td>\n",
       "      <td>Doug McGrath</td>\n",
       "      <td>66.0</td>\n",
       "      <td>Ghosts of Mars</td>\n",
       "      <td>Thriller, Crime Thriller, Action, Mystery</td>\n",
       "      <td>2001</td>\n",
       "      <td>NaN</td>\n",
       "      <td>...</td>\n",
       "      <td>1458.8</td>\n",
       "      <td>0.0</td>\n",
       "      <td>213.828571</td>\n",
       "      <td>0.0</td>\n",
       "      <td>2.0</td>\n",
       "      <td>0.333333</td>\n",
       "      <td>1458.800000</td>\n",
       "      <td>132.474359</td>\n",
       "      <td>0.461538</td>\n",
       "      <td>6.0</td>\n",
       "    </tr>\n",
       "  </tbody>\n",
       "</table>\n",
       "<p>5 rows × 45 columns</p>\n",
       "</div>"
      ],
      "text/plain": [
       "   wikipedia_m_ID    character_name  actor_dob actor_gender       actor_name  \\\n",
       "0          975900          Akooshay 1958-08-26            F   Wanda De Jesus   \n",
       "1          975900  Michael Descanso 1971-03-20            M       Liam Waite   \n",
       "2          975900              Tres 1959-03-09            M  Rodney A. Grant   \n",
       "3          975900           McSimms 1944-07-22            M      Peter Jason   \n",
       "4          975900          Benchley 1935-08-13            M     Doug McGrath   \n",
       "\n",
       "   actor_age          m_name                                m_genre_PCA  \\\n",
       "0       42.0  Ghosts of Mars  Thriller, Crime Thriller, Action, Mystery   \n",
       "1       30.0  Ghosts of Mars  Thriller, Crime Thriller, Action, Mystery   \n",
       "2       42.0  Ghosts of Mars  Thriller, Crime Thriller, Action, Mystery   \n",
       "3       57.0  Ghosts of Mars  Thriller, Crime Thriller, Action, Mystery   \n",
       "4       66.0  Ghosts of Mars  Thriller, Crime Thriller, Action, Mystery   \n",
       "\n",
       "   m_release_year  min_year  ...   M_max  M_min      M_mean  M_median  \\\n",
       "0            2001       NaN  ...  1458.8    0.0  213.828571       0.0   \n",
       "1            2001       NaN  ...  1458.8    0.0  213.828571       0.0   \n",
       "2            2001       NaN  ...  1458.8    0.0  213.828571       0.0   \n",
       "3            2001       NaN  ...  1458.8    0.0  213.828571       0.0   \n",
       "4            2001       NaN  ...  1458.8    0.0  213.828571       0.0   \n",
       "\n",
       "  M_nb_famous_actors  M_prop_famous_actors  previous_cast_max  \\\n",
       "0                2.0              0.333333        1458.800000   \n",
       "1                2.0              0.333333        2425.821429   \n",
       "2                2.0              0.333333        3241.953846   \n",
       "3                2.0              0.333333        1458.800000   \n",
       "4                2.0              0.333333        1458.800000   \n",
       "\n",
       "   previous_cast_mean  previous_cast_prop_famous_actors  \\\n",
       "0           66.237179                          0.461538   \n",
       "1          295.279175                          0.461538   \n",
       "2          120.166090                          0.461538   \n",
       "3           67.542735                          0.500000   \n",
       "4          132.474359                          0.461538   \n",
       "\n",
       "   previous_cast_nb_famous_actors  \n",
       "0                             6.0  \n",
       "1                             6.0  \n",
       "2                             6.0  \n",
       "3                             6.0  \n",
       "4                             6.0  \n",
       "\n",
       "[5 rows x 45 columns]"
      ]
     },
     "execution_count": 54,
     "metadata": {},
     "output_type": "execute_result"
    }
   ],
   "source": [
    "df_final = df_regression_filtered.merge(list_past_actors_per_year, on=['actor_name', 'm_release_year'], how='left')\n",
    "df_final.head()"
   ]
  },
  {
   "cell_type": "markdown",
   "id": "5a20666e",
   "metadata": {},
   "source": [
    "#### Keep only one row per actor and release year"
   ]
  },
  {
   "cell_type": "code",
   "execution_count": 55,
   "id": "543bff96",
   "metadata": {},
   "outputs": [],
   "source": [
    "#as those duplicated rows are only the number of movies casted in year and the features are equivalent\n",
    "df_final.drop_duplicates(['actor_name', 'm_release_year'], inplace=True)"
   ]
  },
  {
   "cell_type": "markdown",
   "id": "04e97eec",
   "metadata": {},
   "source": [
    "## 3.4 Actor revelation prediction"
   ]
  },
  {
   "cell_type": "code",
   "execution_count": 56,
   "id": "cd8bdf96",
   "metadata": {},
   "outputs": [
    {
     "name": "stdout",
     "output_type": "stream",
     "text": [
      "76643 configurations will be compared, mapping configurations of 24628 actors.\n"
     ]
    }
   ],
   "source": [
    "nb_configurations = df_final['actor_name'].count()\n",
    "nb_actors = df_final['actor_name'].nunique()\n",
    "print(\"{} configurations will be compared, mapping configurations of {} actors.\".format(nb_configurations, nb_actors))\n",
    "#Those configurations represent the situation of an actor and its output (is revealed or not)."
   ]
  },
  {
   "cell_type": "code",
   "execution_count": 57,
   "id": "51ac7105",
   "metadata": {},
   "outputs": [
    {
     "name": "stdout",
     "output_type": "stream",
     "text": [
      "Among those configurations, 1492 of them lead to the revelation of the actor, which represents 1.95% of the configurations.\n"
     ]
    }
   ],
   "source": [
    "nb_configurations_revelation = df_final['is_revealed'].sum()\n",
    "print(\n",
    "    \"Among those configurations, {} of them lead to the revelation of the actor, which represents {:.2f}% of the configurations.\".format(\n",
    "        nb_configurations_revelation, nb_configurations_revelation * 100 / nb_configurations))"
   ]
  },
  {
   "cell_type": "markdown",
   "id": "a145c2b2",
   "metadata": {},
   "source": [
    "## 4.1 Average per past feature and revelation movie feature"
   ]
  },
  {
   "cell_type": "code",
   "execution_count": 58,
   "id": "a63e9c2a",
   "metadata": {},
   "outputs": [
    {
     "data": {
      "text/html": [
       "<div>\n",
       "<style scoped>\n",
       "    .dataframe tbody tr th:only-of-type {\n",
       "        vertical-align: middle;\n",
       "    }\n",
       "\n",
       "    .dataframe tbody tr th {\n",
       "        vertical-align: top;\n",
       "    }\n",
       "\n",
       "    .dataframe thead th {\n",
       "        text-align: right;\n",
       "    }\n",
       "</style>\n",
       "<table border=\"1\" class=\"dataframe\">\n",
       "  <thead>\n",
       "    <tr style=\"text-align: right;\">\n",
       "      <th></th>\n",
       "      <th>wikipedia_m_ID</th>\n",
       "      <th>actor_age</th>\n",
       "      <th>m_release_year</th>\n",
       "      <th>min_year</th>\n",
       "      <th>min_year_score</th>\n",
       "      <th>min_year_starring</th>\n",
       "      <th>already_revealed</th>\n",
       "      <th>actor_gender_cat</th>\n",
       "      <th>nb_actors</th>\n",
       "      <th>nb_movies_before_this_movie</th>\n",
       "      <th>...</th>\n",
       "      <th>M_max</th>\n",
       "      <th>M_min</th>\n",
       "      <th>M_mean</th>\n",
       "      <th>M_median</th>\n",
       "      <th>M_nb_famous_actors</th>\n",
       "      <th>M_prop_famous_actors</th>\n",
       "      <th>previous_cast_max</th>\n",
       "      <th>previous_cast_mean</th>\n",
       "      <th>previous_cast_prop_famous_actors</th>\n",
       "      <th>previous_cast_nb_famous_actors</th>\n",
       "    </tr>\n",
       "    <tr>\n",
       "      <th>is_revealed</th>\n",
       "      <th></th>\n",
       "      <th></th>\n",
       "      <th></th>\n",
       "      <th></th>\n",
       "      <th></th>\n",
       "      <th></th>\n",
       "      <th></th>\n",
       "      <th></th>\n",
       "      <th></th>\n",
       "      <th></th>\n",
       "      <th></th>\n",
       "      <th></th>\n",
       "      <th></th>\n",
       "      <th></th>\n",
       "      <th></th>\n",
       "      <th></th>\n",
       "      <th></th>\n",
       "      <th></th>\n",
       "      <th></th>\n",
       "      <th></th>\n",
       "      <th></th>\n",
       "    </tr>\n",
       "  </thead>\n",
       "  <tbody>\n",
       "    <tr>\n",
       "      <th>0</th>\n",
       "      <td>1.027422e+07</td>\n",
       "      <td>38.715856</td>\n",
       "      <td>1999.204522</td>\n",
       "      <td>1789.577317</td>\n",
       "      <td>46.775554</td>\n",
       "      <td>1989.36927</td>\n",
       "      <td>0.0</td>\n",
       "      <td>0.341952</td>\n",
       "      <td>11.024777</td>\n",
       "      <td>5.616293</td>\n",
       "      <td>...</td>\n",
       "      <td>601.266990</td>\n",
       "      <td>-6.970228</td>\n",
       "      <td>80.231567</td>\n",
       "      <td>3.232641</td>\n",
       "      <td>1.130909</td>\n",
       "      <td>0.437699</td>\n",
       "      <td>1352.952603</td>\n",
       "      <td>66.196873</td>\n",
       "      <td>0.197308</td>\n",
       "      <td>2.542415</td>\n",
       "    </tr>\n",
       "    <tr>\n",
       "      <th>1</th>\n",
       "      <td>7.183243e+06</td>\n",
       "      <td>31.714868</td>\n",
       "      <td>1998.049598</td>\n",
       "      <td>1998.049598</td>\n",
       "      <td>57.553619</td>\n",
       "      <td>1989.83311</td>\n",
       "      <td>0.0</td>\n",
       "      <td>0.380027</td>\n",
       "      <td>13.381367</td>\n",
       "      <td>7.127346</td>\n",
       "      <td>...</td>\n",
       "      <td>1089.402055</td>\n",
       "      <td>-3.321362</td>\n",
       "      <td>141.947913</td>\n",
       "      <td>6.345062</td>\n",
       "      <td>1.735748</td>\n",
       "      <td>0.580480</td>\n",
       "      <td>2541.759259</td>\n",
       "      <td>98.703881</td>\n",
       "      <td>0.280084</td>\n",
       "      <td>4.036910</td>\n",
       "    </tr>\n",
       "  </tbody>\n",
       "</table>\n",
       "<p>2 rows × 37 columns</p>\n",
       "</div>"
      ],
      "text/plain": [
       "             wikipedia_m_ID  actor_age  m_release_year     min_year  \\\n",
       "is_revealed                                                           \n",
       "0              1.027422e+07  38.715856     1999.204522  1789.577317   \n",
       "1              7.183243e+06  31.714868     1998.049598  1998.049598   \n",
       "\n",
       "             min_year_score  min_year_starring  already_revealed  \\\n",
       "is_revealed                                                        \n",
       "0                 46.775554         1989.36927               0.0   \n",
       "1                 57.553619         1989.83311               0.0   \n",
       "\n",
       "             actor_gender_cat  nb_actors  nb_movies_before_this_movie  ...  \\\n",
       "is_revealed                                                            ...   \n",
       "0                    0.341952  11.024777                     5.616293  ...   \n",
       "1                    0.380027  13.381367                     7.127346  ...   \n",
       "\n",
       "                   M_max     M_min      M_mean  M_median  M_nb_famous_actors  \\\n",
       "is_revealed                                                                    \n",
       "0             601.266990 -6.970228   80.231567  3.232641            1.130909   \n",
       "1            1089.402055 -3.321362  141.947913  6.345062            1.735748   \n",
       "\n",
       "             M_prop_famous_actors  previous_cast_max  previous_cast_mean  \\\n",
       "is_revealed                                                                \n",
       "0                        0.437699        1352.952603           66.196873   \n",
       "1                        0.580480        2541.759259           98.703881   \n",
       "\n",
       "             previous_cast_prop_famous_actors  previous_cast_nb_famous_actors  \n",
       "is_revealed                                                                    \n",
       "0                                    0.197308                        2.542415  \n",
       "1                                    0.280084                        4.036910  \n",
       "\n",
       "[2 rows x 37 columns]"
      ]
     },
     "execution_count": 58,
     "metadata": {},
     "output_type": "execute_result"
    }
   ],
   "source": [
    "df_final.groupby('is_revealed').mean()"
   ]
  },
  {
   "cell_type": "code",
   "execution_count": null,
   "id": "9fa614c2",
   "metadata": {},
   "outputs": [],
   "source": [
    "sns.boxplot(data=df_final, x='is_revealed', y='cast_prop_famous_actors')"
   ]
  },
  {
   "cell_type": "code",
   "execution_count": null,
   "id": "5a090588",
   "metadata": {},
   "outputs": [],
   "source": [
    "sns.boxplot(data=df_final, x='is_revealed', y='previous_cast_prop_famous_actors')"
   ]
  },
  {
   "cell_type": "code",
   "execution_count": null,
   "id": "b4bc56ce",
   "metadata": {},
   "outputs": [],
   "source": [
    "sns.boxplot(data=df_final, x='is_revealed', y='cast_max')"
   ]
  },
  {
   "cell_type": "code",
   "execution_count": null,
   "id": "f040e51b",
   "metadata": {},
   "outputs": [],
   "source": [
    "sns.boxplot(data=df_final, x='is_revealed', y='previous_cast_max')"
   ]
  },
  {
   "cell_type": "markdown",
   "id": "7d473745",
   "metadata": {},
   "source": [
    "## 4.2 Correlation"
   ]
  },
  {
   "cell_type": "code",
   "execution_count": 59,
   "id": "376f780f",
   "metadata": {},
   "outputs": [],
   "source": [
    "list_columns = ['cast_max', 'cast_mean', 'cast_median', 'cast_nb_famous_actors',\n",
    "                'cast_prop_famous_actors', 'F_max', 'F_mean', 'F_median',\n",
    "                'F_nb_famous_actors', 'F_prop_famous_actors', 'M_max',\n",
    "                'M_mean', 'M_median', 'M_nb_famous_actors', 'M_prop_famous_actors', 'previous_cast_max',\n",
    "                'previous_cast_mean', 'previous_cast_prop_famous_actors',\n",
    "                'previous_cast_nb_famous_actors', 'm_release_year', 'actor_age', 'actor_gender_cat',\n",
    "                'nb_movies_before_this_movie',\n",
    "                'is_revealed']"
   ]
  },
  {
   "cell_type": "code",
   "execution_count": null,
   "id": "891cf4f2",
   "metadata": {},
   "outputs": [],
   "source": [
    "list_columns = ['cast_max', 'cast_min', 'cast_mean', 'cast_median', 'cast_nb_famous_actors',\n",
    "                'cast_prop_famous_actors', 'F_max', 'F_min', 'F_mean', 'F_median',\n",
    "                'F_nb_famous_actors', 'F_prop_famous_actors', 'M_max', 'M_min',\n",
    "                'M_mean', 'M_median', 'M_nb_famous_actors', 'M_prop_famous_actors', 'previous_cast_max',\n",
    "                'previous_cast_mean', 'previous_cast_prop_famous_actors',\n",
    "                'previous_cast_nb_famous_actors', 'm_release_year', 'actor_age', 'actor_gender_cat',\n",
    "                'nb_movies_before_this_movie',\n",
    "                'is_revealed']"
   ]
  },
  {
   "cell_type": "code",
   "execution_count": null,
   "id": "35f3dba1",
   "metadata": {},
   "outputs": [],
   "source": [
    "list_columns = ['cast_max', 'cast_median', 'cast_nb_famous_actors',\n",
    "                'cast_prop_famous_actors', 'previous_cast_max',\n",
    "                'previous_cast_mean', 'previous_cast_prop_famous_actors',\n",
    "                'previous_cast_nb_famous_actors', 'm_release_year', 'actor_age', 'actor_gender_cat',\n",
    "                'is_revealed']"
   ]
  },
  {
   "cell_type": "code",
   "execution_count": null,
   "id": "4477b512",
   "metadata": {},
   "outputs": [],
   "source": [
    "list_columns = ['score_max', 'score_nb_famous_actors',\n",
    "                'score_prop_famous_actors', 'm_release_year', 'is_revealed']"
   ]
  },
  {
   "cell_type": "code",
   "execution_count": 60,
   "id": "e91c3a40",
   "metadata": {},
   "outputs": [
    {
     "data": {
      "text/plain": [
       "<AxesSubplot:xlabel='nb_movies_before_this_movie', ylabel='Count'>"
      ]
     },
     "execution_count": 60,
     "metadata": {},
     "output_type": "execute_result"
    },
    {
     "data": {
      "image/png": "[encoded data removed]",
      "text/plain": [
       "<Figure size 432x288 with 1 Axes>"
      ]
     },
     "metadata": {
      "needs_background": "light"
     },
     "output_type": "display_data"
    }
   ],
   "source": [
    "sns.histplot(data=df_final[df_final['is_revealed'] == 1], x='nb_movies_before_this_movie')"
   ]
  },
  {
   "cell_type": "code",
   "execution_count": 62,
   "id": "cc3c3229",
   "metadata": {},
   "outputs": [
    {
     "data": {
      "text/plain": [
       "<AxesSubplot:>"
      ]
     },
     "execution_count": 62,
     "metadata": {},
     "output_type": "execute_result"
    },
    {
     "data": {
      "image/png": "[encoded data removed]",
      "text/plain": [
       "<Figure size 432x288 with 1 Axes>"
      ]
     },
     "metadata": {
      "needs_background": "light"
     },
     "output_type": "display_data"
    }
   ],
   "source": [
    "df_final.loc[(df_final['is_revealed'] == 1) & (df_final['nb_movies_before_this_movie'] == 0)]['m_release_year'].hist(\n",
    "    bins=32)"
   ]
  },
  {
   "cell_type": "code",
   "execution_count": null,
   "id": "5d3fe878",
   "metadata": {},
   "outputs": [],
   "source": [
    "plt.figure(figsize=(15, 6))\n",
    "sns.barplot(data=df_final, x='m_release_year', y='cast_max', hue='is_revealed')\n",
    "plt.xticks(rotation=90);"
   ]
  },
  {
   "cell_type": "code",
   "execution_count": null,
   "id": "3ffd6c65",
   "metadata": {},
   "outputs": [],
   "source": [
    "plt.figure(figsize=(15, 6))\n",
    "sns.barplot(data=df_final, x='m_release_year', y='cast_prop_famous_actors', hue='is_revealed')\n",
    "plt.xticks(rotation=90);"
   ]
  },
  {
   "cell_type": "code",
   "execution_count": 63,
   "id": "cd034aed",
   "metadata": {},
   "outputs": [],
   "source": [
    "nb_rows = df_final['is_revealed'].count()\n",
    "nb_is_revealed = df_final['is_revealed'].sum()\n",
    "weights = df_final['is_revealed'].apply(\n",
    "    lambda x: 1 - nb_is_revealed / nb_rows if x else nb_is_revealed / nb_rows).to_list()\n",
    "df_sampled = df_final.sample(n=4000, replace=True, weights=weights, random_state=1)"
   ]
  },
  {
   "cell_type": "code",
   "execution_count": 64,
   "id": "e4e0fa8a",
   "metadata": {},
   "outputs": [
    {
     "data": {
      "image/png": "[encoded data removed]",
      "text/plain": [
       "<Figure size 1080x576 with 2 Axes>"
      ]
     },
     "metadata": {
      "needs_background": "light"
     },
     "output_type": "display_data"
    }
   ],
   "source": [
    "columns = list_columns\n",
    "dataset = df_sampled[columns].fillna(0)\n",
    "\n",
    "# Heatmap of the correlation between the attributes and the output 'is_revealed'\n",
    "corr = dataset.corr()\n",
    "corr.drop(corr.tail(1).index, inplace=True)\n",
    "#mask = np.triu(np.ones_like(corr, dtype='bool'))\n",
    "\n",
    "plt.figure(figsize=(15, 8))\n",
    "cmap = sns.diverging_palette(240, 240, as_cmap=True)\n",
    "sns.heatmap(data=corr[['is_revealed']], cmap=cmap, center=0, annot=True)\n",
    "plt.show()"
   ]
  },
  {
   "cell_type": "code",
   "execution_count": 65,
   "id": "113d729c",
   "metadata": {},
   "outputs": [
    {
     "data": {
      "text/plain": [
       "Ttest_indResult(statistic=13.064311602073081, pvalue=5.7964119862139987e-39)"
      ]
     },
     "execution_count": 65,
     "metadata": {},
     "output_type": "execute_result"
    }
   ],
   "source": [
    "revealed_ = df_final[df_final['is_revealed'] == 1]\n",
    "not_revealed_ = df_final[df_final['is_revealed'] == 0]\n",
    "ttest_ind(revealed_['cast_prop_famous_actors'], not_revealed_['cast_prop_famous_actors'])"
   ]
  },
  {
   "cell_type": "code",
   "execution_count": 66,
   "id": "5ca812d8",
   "metadata": {},
   "outputs": [
    {
     "data": {
      "text/plain": [
       "Ttest_indResult(statistic=12.648695698552457, pvalue=1.237668834207513e-36)"
      ]
     },
     "execution_count": 66,
     "metadata": {},
     "output_type": "execute_result"
    }
   ],
   "source": [
    "ttest_ind(revealed_['cast_max'], not_revealed_['cast_max'])"
   ]
  },
  {
   "cell_type": "code",
   "execution_count": 67,
   "id": "d84ec293",
   "metadata": {},
   "outputs": [
    {
     "data": {
      "text/plain": [
       "Ttest_indResult(statistic=15.722276989530029, pvalue=1.3005699255135099e-55)"
      ]
     },
     "execution_count": 67,
     "metadata": {},
     "output_type": "execute_result"
    }
   ],
   "source": [
    "ttest_ind(revealed_['cast_nb_famous_actors'], not_revealed_['cast_nb_famous_actors'])"
   ]
  },
  {
   "cell_type": "markdown",
   "id": "c0dd13cc",
   "metadata": {},
   "source": [
    "## 4.3 Prediction"
   ]
  },
  {
   "cell_type": "code",
   "execution_count": 68,
   "id": "3ea3c23d",
   "metadata": {},
   "outputs": [
    {
     "name": "stdout",
     "output_type": "stream",
     "text": [
      "Accuracy on the training data: 68.79%\n"
     ]
    }
   ],
   "source": [
    "X = dataset.drop('is_revealed', axis=1)\n",
    "y = dataset['is_revealed']\n",
    "\n",
    "X_train, X_test, y_train, y_test = train_test_split(X, y, test_size=0.3, random_state=45)\n",
    "\n",
    "scaler = StandardScaler()\n",
    "scaler.fit(X_train)\n",
    "X_train = scaler.transform(X_train)\n",
    "X_test = scaler.transform(X_test)\n",
    "\n",
    "# Dictionary to store the results\n",
    "logistic_regression_results = dict()\n",
    "\n",
    "# Build and fit classifier to training data\n",
    "clf = LogisticRegression(max_iter=10000, C=2, class_weight='balanced')\n",
    "clf.fit(X_train, y_train)\n",
    "\n",
    "# Training set accuracy\n",
    "y_pred = clf.predict(X_train)\n",
    "acc_tr = accuracy_score(y_pred, y_train) * 100\n",
    "print(\"Accuracy on the training data: {:.2f}%\".format(acc_tr))"
   ]
  },
  {
   "cell_type": "code",
   "execution_count": 69,
   "id": "53055ca0",
   "metadata": {},
   "outputs": [
    {
     "name": "stdout",
     "output_type": "stream",
     "text": [
      "              precision    recall  f1-score   support\n",
      "\n",
      "           0       0.66      0.68      0.67       597\n",
      "           1       0.67      0.65      0.66       603\n",
      "\n",
      "    accuracy                           0.66      1200\n",
      "   macro avg       0.66      0.66      0.66      1200\n",
      "weighted avg       0.66      0.66      0.66      1200\n",
      "\n"
     ]
    }
   ],
   "source": [
    "# Predict the binary output with a cross validation\n",
    "y_pred = cross_val_predict(clf, X_test, y_test, cv=10, method=\"predict\")\n",
    "# Compute the False Positive Rate and True Positive Rate\n",
    "print(classification_report(y_pred, y_test))"
   ]
  },
  {
   "cell_type": "code",
   "execution_count": 70,
   "id": "4de77454",
   "metadata": {},
   "outputs": [
    {
     "data": {
      "image/png": "[encoded data removed]",
      "text/plain": [
       "<Figure size 576x360 with 2 Axes>"
      ]
     },
     "metadata": {
      "needs_background": "light"
     },
     "output_type": "display_data"
    }
   ],
   "source": [
    "# Creation of confusion matrix\n",
    "cm = confusion_matrix(y_test, y_pred)\n",
    "conf_matrix = pd.DataFrame(data=cm, columns=['Predicted: 0', 'Predicted: 1'], index=['Actual: 0', 'Actual: 1'])\n",
    "logistic_regression_results.update({'cm': conf_matrix})\n",
    "\n",
    "# Plot confusion matrix\n",
    "plt.figure(figsize=(8, 5))\n",
    "sns.heatmap(conf_matrix, annot=True, fmt='d', cmap='Reds')\n",
    "plt.title(\"Confusion matrix\")\n",
    "plt.show()"
   ]
  },
  {
   "cell_type": "code",
   "execution_count": 71,
   "id": "8746d2c5",
   "metadata": {},
   "outputs": [
    {
     "data": {
      "image/png": "[encoded data removed]",
      "text/plain": [
       "<Figure size 1080x432 with 2 Axes>"
      ]
     },
     "metadata": {
      "needs_background": "light"
     },
     "output_type": "display_data"
    }
   ],
   "source": [
    "# Predict the probabilities with a cross validation\n",
    "y_pred = cross_val_predict(clf, X_test, y_test, cv=10, method=\"predict_proba\")\n",
    "\n",
    "#Compute the precision and recall\n",
    "precision, recall, _ = precision_recall_curve(y_test, y_pred[:, 1])\n",
    "\n",
    "#Compute the false positive rate and true positive rate\n",
    "fpr, tpr, _ = roc_curve(y_test, y_pred[:, 1])\n",
    "\n",
    "# Compute the area under the P-R curve and ROC curve\n",
    "pr_score = auc(recall, precision)\n",
    "roc_score = auc(fpr, tpr)\n",
    "\n",
    "# Plot P-R curve and ROC curve\n",
    "fig, axs = plt.subplots(1, 2, figsize=(15, 6))\n",
    "\n",
    "ax = axs[0]\n",
    "ax.plot(recall, precision, label='logistic')\n",
    "ax.plot([1, 0], [0, 1], 'r--', label='no skill')\n",
    "ax.set_xlabel(\"Recall\")\n",
    "ax.set_ylabel(\"Precision\")\n",
    "ax.set_title(\"Precision-Recall Curve - Area = {:.3f}\".format(pr_score))\n",
    "ax.legend(loc='lower left')\n",
    "\n",
    "ax = axs[1]\n",
    "ax.plot(fpr, tpr, label='logistic')\n",
    "ax.plot([0, 1], [0, 1], 'r--', label='no skill')\n",
    "ax.set_xlabel(\"False positive rate\")\n",
    "ax.set_ylabel(\"True positive rate\")\n",
    "ax.set_title(\"ROC Curve - Area = {:.3f}\".format(roc_score))\n",
    "ax.legend(loc='lower right')\n",
    "\n",
    "fig.suptitle('Logistic regression')\n",
    "fig.tight_layout()\n",
    "plt.show()"
   ]
  },
  {
   "cell_type": "code",
   "execution_count": null,
   "id": "23e14491",
   "metadata": {},
   "outputs": [],
   "source": [
    "columns_names = []"
   ]
  },
  {
   "cell_type": "code",
   "execution_count": 94,
   "id": "698ffb19",
   "metadata": {},
   "outputs": [],
   "source": [
    "linear_regression_col_names = {\n",
    "    'cast_max': 'Score of the most famous actor in revelation movie',\n",
    "    'cast_mean': 'Average score of the casting of the revelation movie',\n",
    "    'cast_median': 'Median score of the casting of the revelation movie',\n",
    "    'cast_nb_famous_actors': 'Number of famous actors in revelation movie',\n",
    "    'cast_prop_famous_actors': 'Ratio of famous actors in revelation movie',\n",
    "    'F_max': 'Score of the most famous female actress in revelation movie',\n",
    "    'F_mean': 'Average score of the female casting of the revelation movie',\n",
    "    'F_median': 'Median score of the female casting of the revelation movie',\n",
    "    'F_nb_famous_actors': 'Number of famous female actress in revelation movie',\n",
    "    'F_prop_famous_actors': 'Ratio of famous female actresses in revelation movie',\n",
    "    'M_max': 'Score of the most famous male actor in revelation movie',\n",
    "    'M_mean': 'Average score of the male casting of the revelation movie',\n",
    "    'M_median': 'Median score of the male casting of the revelation movie',\n",
    "    'M_nb_famous_actors': 'Number of famous male actor in revelation movie',\n",
    "    'M_prop_famous_actors': 'Ratio of famous male actors in revelation movie',\n",
    "    'previous_cast_max': 'Score of the most famous actor the actor has played with in the past three years',\n",
    "    'previous_cast_mean': 'Average score of all actors the actor has played with in the past three years',\n",
    "    'previous_cast_prop_famous_actors': 'Average ratio of famous actors among each movie of the actor has played with in the past three years',\n",
    "    'previous_cast_nb_famous_actors': 'Total number of famous actors the actor has played with in the past three years',\n",
    "    'm_release_year': 'Movie release year',\n",
    "    'actor_age': 'Actor age',\n",
    "    'actor_gender_cat': 'Female gender',\n",
    "    'nb_movies_before_this_movie': 'Number of movies the actor has already starred in'\n",
    "}\n"
   ]
  },
  {
   "cell_type": "code",
   "execution_count": 95,
   "id": "b186a97d",
   "metadata": {},
   "outputs": [
    {
     "data": {
      "image/png": "[encoded data removed]",
      "text/plain": [
       "<Figure size 360x504 with 1 Axes>"
      ]
     },
     "metadata": {
      "needs_background": "light"
     },
     "output_type": "display_data"
    }
   ],
   "source": [
    "# Weight of each column in logistic regression\n",
    "tmp = []\n",
    "for name, value in zip(dataset.columns[:-1], clf.coef_[0]):\n",
    "    tmp.append({\"name\": linear_regression_col_names[name], \"value\": value})\n",
    "\n",
    "features_coef = pd.DataFrame(tmp).sort_values(\"value\")\n",
    "\n",
    "plt.subplots(figsize=(5, 7))\n",
    "plt.barh(features_coef.name, features_coef.value, alpha=0.6)\n",
    "plt.title('Linear regression analysis of the impact of coacting on being revealed')\n",
    "plt.show()"
   ]
  },
  {
   "cell_type": "code",
   "execution_count": 77,
   "id": "292ed97c",
   "metadata": {},
   "outputs": [],
   "source": [
    "regression_columns = dict()\n",
    "for name, value in zip(dataset.columns[:-1], clf.coef_[0]):\n",
    "    regression_columns.update({name: value})"
   ]
  },
  {
   "cell_type": "code",
   "execution_count": 89,
   "id": "fbb042d6",
   "metadata": {},
   "outputs": [],
   "source": [
    "regression_columns_operation = 'regression_columns_operation.csv'\n",
    "with open(regression_columns_operation, 'w') as f:\n",
    "    writer = csv.writer(f)\n",
    "    for key, val in regression_columns.items():\n",
    "        row = [key, val]\n",
    "        # write a row to the csv file\n",
    "        writer.writerow(row)"
   ]
  },
  {
   "cell_type": "code",
   "execution_count": null,
   "id": "c3aff13e",
   "metadata": {},
   "outputs": [],
   "source": [
    "def retrieve_movie_features(row, arr, gender_arr):\n",
    "    type_f, function = row.split('_')\n",
    "    values = list(arr)\n",
    "    if type_f == 'F' or type_f == 'M':\n",
    "        values = []\n",
    "        for x, g in zip(arr, gender_arr):\n",
    "            if g == type_f:\n",
    "                values.append(x)\n",
    "    if function == 'max':\n",
    "        return max(values)\n",
    "    if function == 'min':\n",
    "        return min(values)\n",
    "    if function == 'mean':\n",
    "        return np.mean(values)\n",
    "    if function == 'median':\n",
    "        return np.median(values)\n",
    "    if function == 'nb_famous_actors' or function == 'nb_actors_already_played':\n",
    "        return np.count_nonzero(values)\n",
    "    if function == 'prop_famous_actors' or function == 'prop_nb_movies':\n",
    "        if type_f == 'F' or type_f == 'M':\n",
    "            try:\n",
    "                return (np.count_nonzero(values)) / np.count_nonzero(values)\n",
    "            except:\n",
    "                return 0\n",
    "        else:\n",
    "            return (np.count_nonzero(values)) / float(len(values))"
   ]
  },
  {
   "cell_type": "code",
   "execution_count": null,
   "id": "0f0d3b38",
   "metadata": {},
   "outputs": [],
   "source": []
  },
  {
   "cell_type": "markdown",
   "id": "332286a8",
   "metadata": {},
   "source": [
    "# 5. Movie revelation prediction"
   ]
  },
  {
   "cell_type": "markdown",
   "id": "68f8e172",
   "metadata": {},
   "source": [
    "## 5.1 Grouping movies by actors"
   ]
  },
  {
   "cell_type": "code",
   "execution_count": null,
   "id": "dbf0b98b",
   "metadata": {},
   "outputs": [],
   "source": [
    "df_movie_revelation = df_final.groupby('wikipedia_m_ID')['is_revealed'].sum().copy().reset_index()\n",
    "df_movie_revelation.rename({'is_revealed': 'has_revelation'}, axis=1, inplace=True)\n",
    "df_movie_revelation['has_revelation'] = (df_movie_revelation['has_revelation'] > 0).astype(int)\n",
    "df_movie_revelation.head()"
   ]
  },
  {
   "cell_type": "code",
   "execution_count": null,
   "id": "d6463e3a",
   "metadata": {},
   "outputs": [],
   "source": [
    "df_movie_revelation['has_revelation'].value_counts()"
   ]
  },
  {
   "cell_type": "code",
   "execution_count": null,
   "id": "900ab24d",
   "metadata": {},
   "outputs": [],
   "source": [
    "df_chars_revelation = df_final.merge(df_movie_revelation, on='wikipedia_m_ID', how='left').copy().sort_values(\n",
    "    ['wikipedia_m_ID', 'is_revealed'], ascending=False)"
   ]
  },
  {
   "cell_type": "code",
   "execution_count": null,
   "id": "2ba783f5",
   "metadata": {},
   "outputs": [],
   "source": [
    "df_revelation = df_chars_revelation.drop_duplicates(subset=['wikipedia_m_ID', 'has_revelation'], keep='first')"
   ]
  },
  {
   "cell_type": "code",
   "execution_count": null,
   "id": "4b23bf4d",
   "metadata": {},
   "outputs": [],
   "source": [
    "df_revelation = df_revelation[df_revelation['cast_nb_famous_actors'] > 0].copy()"
   ]
  },
  {
   "cell_type": "code",
   "execution_count": null,
   "id": "5315e20c",
   "metadata": {},
   "outputs": [],
   "source": [
    "df_revelation.groupby('has_revelation').mean()"
   ]
  },
  {
   "cell_type": "code",
   "execution_count": null,
   "id": "9333edb6",
   "metadata": {},
   "outputs": [],
   "source": [
    "sns.boxplot(data=df_revelation, x='has_revelation', y='cast_prop_famous_actors')"
   ]
  },
  {
   "cell_type": "code",
   "execution_count": null,
   "id": "b3339f67",
   "metadata": {},
   "outputs": [],
   "source": [
    "df_revelation.groupby('has_revelation')['M_prop_famous_actors'].mean()"
   ]
  },
  {
   "cell_type": "code",
   "execution_count": null,
   "id": "d3ed813d",
   "metadata": {},
   "outputs": [],
   "source": [
    "df_revelation.groupby('has_revelation')['F_prop_famous_actors'].mean()"
   ]
  },
  {
   "cell_type": "code",
   "execution_count": null,
   "id": "cbbb9c97",
   "metadata": {},
   "outputs": [],
   "source": [
    "list_columns = ['cast_max',\n",
    "                'cast_nb_famous_actors',\n",
    "                'cast_prop_famous_actors',\n",
    "                'previous_cast_max',\n",
    "                'previous_cast_mean',\n",
    "                'previous_cast_prop_famous_actors',\n",
    "                'previous_cast_nb_famous_actors',\n",
    "                'm_release_year']"
   ]
  },
  {
   "cell_type": "code",
   "execution_count": null,
   "id": "be93ca0b",
   "metadata": {},
   "outputs": [],
   "source": [
    "nb_rows = df_revelation['has_revelation'].count()\n",
    "nb_is_revealed = df_revelation['has_revelation'].sum()\n",
    "weights = df_revelation['has_revelation'].apply(\n",
    "    lambda x: 1 - nb_is_revealed / nb_rows if x else nb_is_revealed / nb_rows).to_list()\n",
    "df_sampled_movie_rev = df_revelation.sample(n=4000, replace=True, weights=weights, random_state=1)\n",
    "\n",
    "columns = list_columns + ['wikipedia_m_ID', 'actor_name', 'has_revelation']\n",
    "dataset = df_sampled_movie_rev[columns].groupby(['wikipedia_m_ID', 'actor_name']).mean().fillna(0)\n",
    "\n",
    "# Heatmap of the correlation between the attributes\n",
    "corr = dataset.corr()\n",
    "mask = np.triu(np.ones_like(corr, dtype='bool'))\n",
    "\n",
    "plt.figure(figsize=(15, 8))\n",
    "cmap = sns.diverging_palette(240, 240, as_cmap=True)\n",
    "sns.heatmap(data=corr, cmap=cmap, center=0, mask=mask, annot=True)\n",
    "plt.show()"
   ]
  },
  {
   "cell_type": "code",
   "execution_count": null,
   "id": "0ab1f189",
   "metadata": {},
   "outputs": [],
   "source": [
    "X = dataset.drop('has_revelation', axis=1)\n",
    "y = dataset['has_revelation']\n",
    "\n",
    "X_train, X_test, y_train, y_test = train_test_split(X, y, test_size=0.3, random_state=42)\n",
    "\n",
    "scaler = StandardScaler()\n",
    "scaler.fit(X_train)\n",
    "X_train = scaler.transform(X_train)\n",
    "X_test = scaler.transform(X_test)\n",
    "\n",
    "# Dictionary to store the results\n",
    "logistic_regression_results = dict()\n",
    "\n",
    "# Build and fit classifier to training data\n",
    "clf = LogisticRegression(max_iter=10000, C=0.5, class_weight='balanced')\n",
    "clf.fit(X_train, y_train)\n",
    "\n",
    "# Training set accuracy\n",
    "y_pred = clf.predict(X_train)\n",
    "acc_tr = accuracy_score(y_pred, y_train) * 100\n",
    "print(\"Accuracy on the training data: {:.2f}%\".format(acc_tr))"
   ]
  },
  {
   "cell_type": "code",
   "execution_count": null,
   "id": "ecd6b49b",
   "metadata": {},
   "outputs": [],
   "source": [
    "# Predict the binary output with a cross validation\n",
    "y_pred = cross_val_predict(clf, X_test, y_test, cv=10, method=\"predict\")\n",
    "# Compute the False Positive Rate and True Positive Rate\n",
    "print(classification_report(y_pred, y_test))"
   ]
  },
  {
   "cell_type": "code",
   "execution_count": null,
   "id": "095e9ce8",
   "metadata": {},
   "outputs": [],
   "source": [
    "# Creation of confusion matrix\n",
    "cm = confusion_matrix(y_test, y_pred)\n",
    "conf_matrix = pd.DataFrame(data=cm, columns=['Predicted: 0', 'Predicted: 1'], index=['Actual: 0', 'Actual: 1'])\n",
    "logistic_regression_results.update({'cm': conf_matrix})\n",
    "\n",
    "# Plot confusion matrix\n",
    "plt.figure(figsize=(8, 5))\n",
    "sns.heatmap(conf_matrix, annot=True, fmt='d', cmap='Reds')\n",
    "plt.title(\"Confusion matrix\")\n",
    "plt.show()"
   ]
  },
  {
   "cell_type": "code",
   "execution_count": null,
   "id": "2980617f",
   "metadata": {},
   "outputs": [],
   "source": [
    "# Predict the probabilities with a cross validation\n",
    "y_pred = cross_val_predict(clf, X_test, y_test, cv=10, method=\"predict_proba\")\n",
    "\n",
    "#Compute the precision and recall\n",
    "precision, recall, _ = precision_recall_curve(y_test, y_pred[:, 1])\n",
    "\n",
    "#Compute the false positive rate and true positive rate\n",
    "fpr, tpr, _ = roc_curve(y_test, y_pred[:, 1])\n",
    "\n",
    "# Compute the area under the P-R curve and ROC curve\n",
    "pr_score = auc(recall, precision)\n",
    "roc_score = auc(fpr, tpr)\n",
    "\n",
    "# Plot P-R curve and ROC curve\n",
    "fig, axs = plt.subplots(1, 2, figsize=(15, 6))\n",
    "\n",
    "ax = axs[0]\n",
    "ax.plot(recall, precision, label='logistic')\n",
    "ax.plot([1, 0], [0, 1], 'r--', label='no skill')\n",
    "ax.set_xlabel(\"Recall\")\n",
    "ax.set_ylabel(\"Precision\")\n",
    "ax.set_title(\"Precision-Recall Curve - Area = {:.3f}\".format(pr_score))\n",
    "ax.legend(loc='lower left')\n",
    "\n",
    "ax = axs[1]\n",
    "ax.plot(fpr, tpr, label='logistic')\n",
    "ax.plot([0, 1], [0, 1], 'r--', label='no skill')\n",
    "ax.set_xlabel(\"False positive rate\")\n",
    "ax.set_ylabel(\"True positive rate\")\n",
    "ax.set_title(\"ROC Curve - Area = {:.3f}\".format(roc_score))\n",
    "ax.legend(loc='lower right')\n",
    "\n",
    "fig.suptitle('Logistic regression')\n",
    "fig.tight_layout()\n",
    "plt.show()"
   ]
  },
  {
   "cell_type": "code",
   "execution_count": null,
   "id": "e61c311b",
   "metadata": {},
   "outputs": [],
   "source": [
    "# Weight of each column in logistic regression\n",
    "tmp = []\n",
    "for name, value in zip(dataset.columns, clf.coef_[0]):\n",
    "    tmp.append({\"name\": name, \"value\": value})\n",
    "\n",
    "features_coef = pd.DataFrame(tmp).sort_values(\"value\")\n",
    "\n",
    "plt.subplots(figsize=(5, 7))\n",
    "plt.barh(features_coef.name, features_coef.value, alpha=0.6)\n",
    "plt.show()"
   ]
  },
  {
   "cell_type": "markdown",
   "id": "50c84095",
   "metadata": {},
   "source": [
    "# 6. Stay in the loop"
   ]
  },
  {
   "cell_type": "markdown",
   "id": "314ff021",
   "metadata": {},
   "source": [
    "## 6.1 Load the yearly numbers dataset"
   ]
  },
  {
   "cell_type": "code",
   "execution_count": null,
   "id": "5aa88513",
   "metadata": {},
   "outputs": [],
   "source": [
    "SCORE_YEARLY_PATH = os.path.join(DATA_PATH, 'numbers_yearly.tsv')\n",
    "df_numbers_yearly = pd.read_csv(SCORE_YEARLY_PATH, sep=\"\\t\")\n",
    "df_numbers_yearly['m_release_date'] = pd.to_datetime(df_chars['m_release_date'], errors='coerce')\n",
    "df_numbers_yearly.head(2)"
   ]
  },
  {
   "cell_type": "code",
   "execution_count": null,
   "id": "e28d6639",
   "metadata": {},
   "outputs": [],
   "source": [
    "df_numbers_yearly.head(2)"
   ]
  },
  {
   "cell_type": "code",
   "execution_count": null,
   "id": "16c03283",
   "metadata": {},
   "outputs": [],
   "source": [
    "columns = df_numbers_yearly.columns[1:]"
   ]
  },
  {
   "cell_type": "code",
   "execution_count": null,
   "id": "a14247b6",
   "metadata": {},
   "outputs": [],
   "source": [
    "df_loop = df_chars_merged.loc[\n",
    "    (df_chars_merged['already_revealed'] == 1) & (df_chars_merged['nb_years_acting'] >= 1)].sort_values(\n",
    "    ['actor_name', 'm_release_date']).drop_duplicates(['actor_name'], keep='first').copy()\n",
    "df_loop.drop(columns, axis=1, inplace=True)\n",
    "df_loop = df_loop.merge(df_numbers_yearly, on='actor_name', how='left').copy()\n",
    "df_loop.dropna(subset=['actor_gender'], inplace=True)\n",
    "df_loop.head()"
   ]
  },
  {
   "cell_type": "code",
   "execution_count": null,
   "id": "ff9dc703",
   "metadata": {},
   "outputs": [],
   "source": [
    "df_loop['actor_gender'].value_counts()"
   ]
  },
  {
   "cell_type": "code",
   "execution_count": null,
   "id": "a6102efa",
   "metadata": {},
   "outputs": [],
   "source": [
    "def get_score_year(row):\n",
    "    release_year = row['m_release_date'].year\n",
    "    return int(row['{}'.format(release_year)] > 0)"
   ]
  },
  {
   "cell_type": "code",
   "execution_count": null,
   "id": "272084f2",
   "metadata": {},
   "outputs": [],
   "source": [
    "df_loop['still_ranked'] = df_loop.apply(lambda row: get_score_year(row), axis=1)"
   ]
  },
  {
   "cell_type": "code",
   "execution_count": null,
   "id": "4e6d92f0",
   "metadata": {},
   "outputs": [],
   "source": [
    "df_loop['is_main_actor'] = (df_loop['score_max'] == df_loop['min_year_score']).astype(int)"
   ]
  },
  {
   "cell_type": "code",
   "execution_count": null,
   "id": "e9aa1983",
   "metadata": {},
   "outputs": [],
   "source": [
    "df_loop['is_main_actor'].sum()"
   ]
  },
  {
   "cell_type": "code",
   "execution_count": null,
   "id": "c3321df5",
   "metadata": {},
   "outputs": [],
   "source": [
    "df_loop['still_ranked'].sum()"
   ]
  },
  {
   "cell_type": "code",
   "execution_count": null,
   "id": "f6848f60",
   "metadata": {},
   "outputs": [],
   "source": [
    "df_loop[df_loop['still_ranked'] == 1]['is_main_actor'].sum()"
   ]
  },
  {
   "cell_type": "code",
   "execution_count": null,
   "id": "d5b520f8",
   "metadata": {},
   "outputs": [],
   "source": [
    "df_loop.loc[(df_loop['is_main_actor'] == 0) & (df_loop['still_ranked'] == 0)].shape"
   ]
  },
  {
   "cell_type": "code",
   "execution_count": null,
   "id": "aa8711f8",
   "metadata": {},
   "outputs": [],
   "source": [
    "df_loop.loc[(df_loop['is_main_actor'] == 1) & (df_loop['still_ranked'] == 0)].shape"
   ]
  },
  {
   "cell_type": "code",
   "execution_count": null,
   "id": "54aa16df",
   "metadata": {},
   "outputs": [],
   "source": [
    "df_loop.loc[(df_loop['is_main_actor'] == 1) & (df_loop['still_ranked'] == 1)].shape"
   ]
  },
  {
   "cell_type": "code",
   "execution_count": null,
   "id": "fd23eede",
   "metadata": {},
   "outputs": [],
   "source": [
    "df_loop.loc[(df_loop['is_main_actor'] == 0) & (df_loop['still_ranked'] == 1)].shape"
   ]
  },
  {
   "cell_type": "code",
   "execution_count": null,
   "id": "1b64452a",
   "metadata": {},
   "outputs": [],
   "source": [
    "#df_loop.drop_duplicates('wikipedia_m_ID', keep='first', inplace=True)"
   ]
  },
  {
   "cell_type": "code",
   "execution_count": null,
   "id": "af66c394",
   "metadata": {},
   "outputs": [],
   "source": [
    "df_loop['wikipedia_m_ID'].nunique()"
   ]
  },
  {
   "cell_type": "code",
   "execution_count": null,
   "id": "c1a7d1c1",
   "metadata": {},
   "outputs": [],
   "source": [
    "df_loop.groupby('still_ranked')[list_columns + ['is_main_actor']].mean()"
   ]
  },
  {
   "cell_type": "code",
   "execution_count": null,
   "id": "f5b91184",
   "metadata": {},
   "outputs": [],
   "source": [
    "df_loop[df_loop['actor_gender'] == 'M'].groupby('still_ranked')[list_columns + ['is_main_actor']].mean()"
   ]
  },
  {
   "cell_type": "code",
   "execution_count": null,
   "id": "4e3a5b7b",
   "metadata": {},
   "outputs": [],
   "source": [
    "df_loop[df_loop['actor_gender'] == 'F'].groupby('still_ranked')[list_columns + ['is_main_actor']].mean()"
   ]
  },
  {
   "cell_type": "code",
   "execution_count": null,
   "id": "6a56d84d",
   "metadata": {},
   "outputs": [],
   "source": [
    "sns.histplot(data=df_loop, x='actor_gender', hue='still_ranked', cumulative=False, multiple='fill', stat='proportion')\n",
    "plt.grid();"
   ]
  },
  {
   "cell_type": "code",
   "execution_count": null,
   "id": "19faea14",
   "metadata": {},
   "outputs": [],
   "source": [
    "sns.boxplot(data=df_loop, x='actor_gender', y='score_max', hue='still_ranked')"
   ]
  },
  {
   "cell_type": "code",
   "execution_count": null,
   "id": "5a232608",
   "metadata": {},
   "outputs": [],
   "source": [
    "sns.boxplot(data=df_loop, x='actor_gender', y='F_max', hue='still_ranked')"
   ]
  },
  {
   "cell_type": "code",
   "execution_count": null,
   "id": "f3814b51",
   "metadata": {},
   "outputs": [],
   "source": [
    "sns.boxplot(data=df_loop, x='actor_gender', y='M_max', hue='still_ranked')"
   ]
  },
  {
   "cell_type": "code",
   "execution_count": null,
   "id": "7a3a5e16",
   "metadata": {},
   "outputs": [],
   "source": [
    "df_tmp = df_loop.dropna()\n",
    "ttest_ind(df_tmp[df_tmp['still_ranked'] == 1]['M_max'], df_tmp[df_tmp['still_ranked'] == 0]['M_max'])"
   ]
  },
  {
   "cell_type": "code",
   "execution_count": null,
   "id": "0e13e0a6",
   "metadata": {},
   "outputs": [],
   "source": [
    "ttest_ind(df_tmp[df_tmp['still_ranked'] == 1]['F_max'], df_tmp[df_tmp['still_ranked'] == 0]['F_max'])"
   ]
  }
 ],
 "metadata": {
  "kernelspec": {
   "display_name": "Python 3 (ipykernel)",
   "language": "python",
   "name": "python3"
  },
  "language_info": {
   "codemirror_mode": {
    "name": "ipython",
    "version": 3
   },
   "file_extension": ".py",
   "mimetype": "text/x-python",
   "name": "python",
   "nbconvert_exporter": "python",
   "pygments_lexer": "ipython3",
   "version": "3.9.12"
  }
 },
 "nbformat": 4,
 "nbformat_minor": 5
}
