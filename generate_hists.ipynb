{
 "cells": [
  {
   "cell_type": "code",
   "execution_count": 23,
   "metadata": {},
   "outputs": [],
   "source": [
    "import pandas as pd, numpy as np, scipy as sp\n",
    "import plotly.express as px\n",
    "pd.options.plotting.backend = \"plotly\""
   ]
  },
  {
   "cell_type": "code",
   "execution_count": 34,
   "metadata": {},
   "outputs": [],
   "source": [
    "# Retrieve the pkl corresponding to the carreer boosters\n",
    "files_attr = pd.read_csv('images/career_boosters/career_boosters_ids.csv', names=['start', 'end', 'genres'])"
   ]
  },
  {
   "cell_type": "code",
   "execution_count": 35,
   "metadata": {},
   "outputs": [],
   "source": [
    "#images are created in another notebook and saved .pkl.\n",
    "#They are retrieved here.\n",
    "def generate_filename(row):\n",
    "    \"\"\"\n",
    "    Images are created in another notebook, they are retrieved here to create histograms\n",
    "    :param row: row of the df\n",
    "    :return: the pickles\n",
    "    \"\"\"\n",
    "    return \"images/career_boosters/career_booster_dc_{}_{}_genre_{}.pkl\".format(row['start'], row['end'], row['genres'])"
   ]
  },
  {
   "cell_type": "code",
   "execution_count": 36,
   "metadata": {},
   "outputs": [
    {
     "data": {
      "text/html": [
       "<div>\n",
       "<style scoped>\n",
       "    .dataframe tbody tr th:only-of-type {\n",
       "        vertical-align: middle;\n",
       "    }\n",
       "\n",
       "    .dataframe tbody tr th {\n",
       "        vertical-align: top;\n",
       "    }\n",
       "\n",
       "    .dataframe thead th {\n",
       "        text-align: right;\n",
       "    }\n",
       "</style>\n",
       "<table border=\"1\" class=\"dataframe\">\n",
       "  <thead>\n",
       "    <tr style=\"text-align: right;\">\n",
       "      <th></th>\n",
       "      <th>booster_in</th>\n",
       "      <th>m_genre</th>\n",
       "      <th>dob</th>\n",
       "      <th>ranking</th>\n",
       "      <th>betweenness_centrality_subset</th>\n",
       "      <th>degree_centrality</th>\n",
       "      <th>actor_score_before_period</th>\n",
       "      <th>nb_actors_boosted</th>\n",
       "      <th>nb_actors_boosted_at_revelation</th>\n",
       "      <th>nb_actors_boosted_before_revelation</th>\n",
       "    </tr>\n",
       "  </thead>\n",
       "  <tbody>\n",
       "    <tr>\n",
       "      <th>Dennis Quaid</th>\n",
       "      <td>(1982, 1983, 1984, 1985, 1986)</td>\n",
       "      <td>all</td>\n",
       "      <td>1954-04-09</td>\n",
       "      <td>1</td>\n",
       "      <td>1124.0</td>\n",
       "      <td>0.088</td>\n",
       "      <td>250.0</td>\n",
       "      <td>13</td>\n",
       "      <td>12</td>\n",
       "      <td>1</td>\n",
       "    </tr>\n",
       "    <tr>\n",
       "      <th>Chevy Chase</th>\n",
       "      <td>(1982, 1983, 1984, 1985, 1986)</td>\n",
       "      <td>all</td>\n",
       "      <td>1943-10-08</td>\n",
       "      <td>2</td>\n",
       "      <td>860.0</td>\n",
       "      <td>0.081</td>\n",
       "      <td>885.0</td>\n",
       "      <td>13</td>\n",
       "      <td>8</td>\n",
       "      <td>5</td>\n",
       "    </tr>\n",
       "    <tr>\n",
       "      <th>Dan Aykroyd</th>\n",
       "      <td>(1982, 1983, 1984, 1985, 1986)</td>\n",
       "      <td>all</td>\n",
       "      <td>1952-07-01</td>\n",
       "      <td>3</td>\n",
       "      <td>939.0</td>\n",
       "      <td>0.061</td>\n",
       "      <td>198.0</td>\n",
       "      <td>9</td>\n",
       "      <td>4</td>\n",
       "      <td>5</td>\n",
       "    </tr>\n",
       "    <tr>\n",
       "      <th>William Hurt</th>\n",
       "      <td>(1982, 1983, 1984, 1985, 1986)</td>\n",
       "      <td>all</td>\n",
       "      <td>1950-03-20</td>\n",
       "      <td>4</td>\n",
       "      <td>766.0</td>\n",
       "      <td>0.061</td>\n",
       "      <td>240.5</td>\n",
       "      <td>9</td>\n",
       "      <td>7</td>\n",
       "      <td>2</td>\n",
       "    </tr>\n",
       "    <tr>\n",
       "      <th>Kurt Russell</th>\n",
       "      <td>(1982, 1983, 1984, 1985, 1986)</td>\n",
       "      <td>all</td>\n",
       "      <td>1951-03-17</td>\n",
       "      <td>5</td>\n",
       "      <td>461.0</td>\n",
       "      <td>0.054</td>\n",
       "      <td>142.0</td>\n",
       "      <td>8</td>\n",
       "      <td>4</td>\n",
       "      <td>4</td>\n",
       "    </tr>\n",
       "  </tbody>\n",
       "</table>\n",
       "</div>"
      ],
      "text/plain": [
       "                                  booster_in m_genre         dob  ranking  \\\n",
       "Dennis Quaid  (1982, 1983, 1984, 1985, 1986)     all  1954-04-09        1   \n",
       "Chevy Chase   (1982, 1983, 1984, 1985, 1986)     all  1943-10-08        2   \n",
       "Dan Aykroyd   (1982, 1983, 1984, 1985, 1986)     all  1952-07-01        3   \n",
       "William Hurt  (1982, 1983, 1984, 1985, 1986)     all  1950-03-20        4   \n",
       "Kurt Russell  (1982, 1983, 1984, 1985, 1986)     all  1951-03-17        5   \n",
       "\n",
       "              betweenness_centrality_subset  degree_centrality  \\\n",
       "Dennis Quaid                         1124.0              0.088   \n",
       "Chevy Chase                           860.0              0.081   \n",
       "Dan Aykroyd                           939.0              0.061   \n",
       "William Hurt                          766.0              0.061   \n",
       "Kurt Russell                          461.0              0.054   \n",
       "\n",
       "              actor_score_before_period  nb_actors_boosted  \\\n",
       "Dennis Quaid                      250.0                 13   \n",
       "Chevy Chase                       885.0                 13   \n",
       "Dan Aykroyd                       198.0                  9   \n",
       "William Hurt                      240.5                  9   \n",
       "Kurt Russell                      142.0                  8   \n",
       "\n",
       "              nb_actors_boosted_at_revelation  \\\n",
       "Dennis Quaid                               12   \n",
       "Chevy Chase                                 8   \n",
       "Dan Aykroyd                                 4   \n",
       "William Hurt                                7   \n",
       "Kurt Russell                                4   \n",
       "\n",
       "              nb_actors_boosted_before_revelation  \n",
       "Dennis Quaid                                    1  \n",
       "Chevy Chase                                     5  \n",
       "Dan Aykroyd                                     5  \n",
       "William Hurt                                    2  \n",
       "Kurt Russell                                    4  "
      ]
     },
     "execution_count": 36,
     "metadata": {},
     "output_type": "execute_result"
    }
   ],
   "source": [
    "example = pd.read_pickle(generate_filename(files_attr.iloc[0]))\n",
    "example.head()"
   ]
  },
  {
   "cell_type": "code",
   "execution_count": 37,
   "metadata": {},
   "outputs": [
    {
     "data": {
      "application/vnd.plotly.v1+json": {
       "config": {
        "plotlyServerURL": "https://plot.ly"
       },
       "data": [
        {
         "alignmentgroup": "True",
         "customdata": [
          [
           "1954-04-09",
           250,
           13,
           1124
          ],
          [
           "1943-10-08",
           885,
           13,
           860
          ],
          [
           "1952-07-01",
           198,
           9,
           939
          ],
          [
           "1950-03-20",
           240.5,
           9,
           766
          ],
          [
           "1951-03-17",
           142,
           8,
           461
          ]
         ],
         "hovertemplate": "degree_centrality=%{x}<br>Actor=%{y}<br>dob=%{customdata[0]}<br>actor_score_before_period=%{customdata[1]}<br>nb_actors_boosted=%{customdata[2]}<br>betweenness_centrality_subset=%{customdata[3]}<extra></extra>",
         "legendgroup": "",
         "marker": {
          "color": "#636efa",
          "pattern": {
           "shape": ""
          }
         },
         "name": "",
         "offsetgroup": "",
         "orientation": "h",
         "showlegend": false,
         "textposition": "auto",
         "type": "bar",
         "x": [
          0.088,
          0.081,
          0.061,
          0.061,
          0.054
         ],
         "xaxis": "x",
         "y": [
          "Dennis Quaid",
          "Chevy Chase",
          "Dan Aykroyd",
          "William Hurt",
          "Kurt Russell"
         ],
         "yaxis": "y"
        }
       ],
       "layout": {
        "barmode": "relative",
        "legend": {
         "tracegroupgap": 0
        },
        "margin": {
         "t": 60
        },
        "template": {
         "data": {
          "bar": [
           {
            "error_x": {
             "color": "#2a3f5f"
            },
            "error_y": {
             "color": "#2a3f5f"
            },
            "marker": {
             "line": {
              "color": "#E5ECF6",
              "width": 0.5
             },
             "pattern": {
              "fillmode": "overlay",
              "size": 10,
              "solidity": 0.2
             }
            },
            "type": "bar"
           }
          ],
          "barpolar": [
           {
            "marker": {
             "line": {
              "color": "#E5ECF6",
              "width": 0.5
             },
             "pattern": {
              "fillmode": "overlay",
              "size": 10,
              "solidity": 0.2
             }
            },
            "type": "barpolar"
           }
          ],
          "carpet": [
           {
            "aaxis": {
             "endlinecolor": "#2a3f5f",
             "gridcolor": "white",
             "linecolor": "white",
             "minorgridcolor": "white",
             "startlinecolor": "#2a3f5f"
            },
            "baxis": {
             "endlinecolor": "#2a3f5f",
             "gridcolor": "white",
             "linecolor": "white",
             "minorgridcolor": "white",
             "startlinecolor": "#2a3f5f"
            },
            "type": "carpet"
           }
          ],
          "choropleth": [
           {
            "colorbar": {
             "outlinewidth": 0,
             "ticks": ""
            },
            "type": "choropleth"
           }
          ],
          "contour": [
           {
            "colorbar": {
             "outlinewidth": 0,
             "ticks": ""
            },
            "colorscale": [
             [
              0,
              "#0d0887"
             ],
             [
              0.1111111111111111,
              "#46039f"
             ],
             [
              0.2222222222222222,
              "#7201a8"
             ],
             [
              0.3333333333333333,
              "#9c179e"
             ],
             [
              0.4444444444444444,
              "#bd3786"
             ],
             [
              0.5555555555555556,
              "#d8576b"
             ],
             [
              0.6666666666666666,
              "#ed7953"
             ],
             [
              0.7777777777777778,
              "#fb9f3a"
             ],
             [
              0.8888888888888888,
              "#fdca26"
             ],
             [
              1,
              "#f0f921"
             ]
            ],
            "type": "contour"
           }
          ],
          "contourcarpet": [
           {
            "colorbar": {
             "outlinewidth": 0,
             "ticks": ""
            },
            "type": "contourcarpet"
           }
          ],
          "heatmap": [
           {
            "colorbar": {
             "outlinewidth": 0,
             "ticks": ""
            },
            "colorscale": [
             [
              0,
              "#0d0887"
             ],
             [
              0.1111111111111111,
              "#46039f"
             ],
             [
              0.2222222222222222,
              "#7201a8"
             ],
             [
              0.3333333333333333,
              "#9c179e"
             ],
             [
              0.4444444444444444,
              "#bd3786"
             ],
             [
              0.5555555555555556,
              "#d8576b"
             ],
             [
              0.6666666666666666,
              "#ed7953"
             ],
             [
              0.7777777777777778,
              "#fb9f3a"
             ],
             [
              0.8888888888888888,
              "#fdca26"
             ],
             [
              1,
              "#f0f921"
             ]
            ],
            "type": "heatmap"
           }
          ],
          "heatmapgl": [
           {
            "colorbar": {
             "outlinewidth": 0,
             "ticks": ""
            },
            "colorscale": [
             [
              0,
              "#0d0887"
             ],
             [
              0.1111111111111111,
              "#46039f"
             ],
             [
              0.2222222222222222,
              "#7201a8"
             ],
             [
              0.3333333333333333,
              "#9c179e"
             ],
             [
              0.4444444444444444,
              "#bd3786"
             ],
             [
              0.5555555555555556,
              "#d8576b"
             ],
             [
              0.6666666666666666,
              "#ed7953"
             ],
             [
              0.7777777777777778,
              "#fb9f3a"
             ],
             [
              0.8888888888888888,
              "#fdca26"
             ],
             [
              1,
              "#f0f921"
             ]
            ],
            "type": "heatmapgl"
           }
          ],
          "histogram": [
           {
            "marker": {
             "pattern": {
              "fillmode": "overlay",
              "size": 10,
              "solidity": 0.2
             }
            },
            "type": "histogram"
           }
          ],
          "histogram2d": [
           {
            "colorbar": {
             "outlinewidth": 0,
             "ticks": ""
            },
            "colorscale": [
             [
              0,
              "#0d0887"
             ],
             [
              0.1111111111111111,
              "#46039f"
             ],
             [
              0.2222222222222222,
              "#7201a8"
             ],
             [
              0.3333333333333333,
              "#9c179e"
             ],
             [
              0.4444444444444444,
              "#bd3786"
             ],
             [
              0.5555555555555556,
              "#d8576b"
             ],
             [
              0.6666666666666666,
              "#ed7953"
             ],
             [
              0.7777777777777778,
              "#fb9f3a"
             ],
             [
              0.8888888888888888,
              "#fdca26"
             ],
             [
              1,
              "#f0f921"
             ]
            ],
            "type": "histogram2d"
           }
          ],
          "histogram2dcontour": [
           {
            "colorbar": {
             "outlinewidth": 0,
             "ticks": ""
            },
            "colorscale": [
             [
              0,
              "#0d0887"
             ],
             [
              0.1111111111111111,
              "#46039f"
             ],
             [
              0.2222222222222222,
              "#7201a8"
             ],
             [
              0.3333333333333333,
              "#9c179e"
             ],
             [
              0.4444444444444444,
              "#bd3786"
             ],
             [
              0.5555555555555556,
              "#d8576b"
             ],
             [
              0.6666666666666666,
              "#ed7953"
             ],
             [
              0.7777777777777778,
              "#fb9f3a"
             ],
             [
              0.8888888888888888,
              "#fdca26"
             ],
             [
              1,
              "#f0f921"
             ]
            ],
            "type": "histogram2dcontour"
           }
          ],
          "mesh3d": [
           {
            "colorbar": {
             "outlinewidth": 0,
             "ticks": ""
            },
            "type": "mesh3d"
           }
          ],
          "parcoords": [
           {
            "line": {
             "colorbar": {
              "outlinewidth": 0,
              "ticks": ""
             }
            },
            "type": "parcoords"
           }
          ],
          "pie": [
           {
            "automargin": true,
            "type": "pie"
           }
          ],
          "scatter": [
           {
            "fillpattern": {
             "fillmode": "overlay",
             "size": 10,
             "solidity": 0.2
            },
            "type": "scatter"
           }
          ],
          "scatter3d": [
           {
            "line": {
             "colorbar": {
              "outlinewidth": 0,
              "ticks": ""
             }
            },
            "marker": {
             "colorbar": {
              "outlinewidth": 0,
              "ticks": ""
             }
            },
            "type": "scatter3d"
           }
          ],
          "scattercarpet": [
           {
            "marker": {
             "colorbar": {
              "outlinewidth": 0,
              "ticks": ""
             }
            },
            "type": "scattercarpet"
           }
          ],
          "scattergeo": [
           {
            "marker": {
             "colorbar": {
              "outlinewidth": 0,
              "ticks": ""
             }
            },
            "type": "scattergeo"
           }
          ],
          "scattergl": [
           {
            "marker": {
             "colorbar": {
              "outlinewidth": 0,
              "ticks": ""
             }
            },
            "type": "scattergl"
           }
          ],
          "scattermapbox": [
           {
            "marker": {
             "colorbar": {
              "outlinewidth": 0,
              "ticks": ""
             }
            },
            "type": "scattermapbox"
           }
          ],
          "scatterpolar": [
           {
            "marker": {
             "colorbar": {
              "outlinewidth": 0,
              "ticks": ""
             }
            },
            "type": "scatterpolar"
           }
          ],
          "scatterpolargl": [
           {
            "marker": {
             "colorbar": {
              "outlinewidth": 0,
              "ticks": ""
             }
            },
            "type": "scatterpolargl"
           }
          ],
          "scatterternary": [
           {
            "marker": {
             "colorbar": {
              "outlinewidth": 0,
              "ticks": ""
             }
            },
            "type": "scatterternary"
           }
          ],
          "surface": [
           {
            "colorbar": {
             "outlinewidth": 0,
             "ticks": ""
            },
            "colorscale": [
             [
              0,
              "#0d0887"
             ],
             [
              0.1111111111111111,
              "#46039f"
             ],
             [
              0.2222222222222222,
              "#7201a8"
             ],
             [
              0.3333333333333333,
              "#9c179e"
             ],
             [
              0.4444444444444444,
              "#bd3786"
             ],
             [
              0.5555555555555556,
              "#d8576b"
             ],
             [
              0.6666666666666666,
              "#ed7953"
             ],
             [
              0.7777777777777778,
              "#fb9f3a"
             ],
             [
              0.8888888888888888,
              "#fdca26"
             ],
             [
              1,
              "#f0f921"
             ]
            ],
            "type": "surface"
           }
          ],
          "table": [
           {
            "cells": {
             "fill": {
              "color": "#EBF0F8"
             },
             "line": {
              "color": "white"
             }
            },
            "header": {
             "fill": {
              "color": "#C8D4E3"
             },
             "line": {
              "color": "white"
             }
            },
            "type": "table"
           }
          ]
         },
         "layout": {
          "annotationdefaults": {
           "arrowcolor": "#2a3f5f",
           "arrowhead": 0,
           "arrowwidth": 1
          },
          "autotypenumbers": "strict",
          "coloraxis": {
           "colorbar": {
            "outlinewidth": 0,
            "ticks": ""
           }
          },
          "colorscale": {
           "diverging": [
            [
             0,
             "#8e0152"
            ],
            [
             0.1,
             "#c51b7d"
            ],
            [
             0.2,
             "#de77ae"
            ],
            [
             0.3,
             "#f1b6da"
            ],
            [
             0.4,
             "#fde0ef"
            ],
            [
             0.5,
             "#f7f7f7"
            ],
            [
             0.6,
             "#e6f5d0"
            ],
            [
             0.7,
             "#b8e186"
            ],
            [
             0.8,
             "#7fbc41"
            ],
            [
             0.9,
             "#4d9221"
            ],
            [
             1,
             "#276419"
            ]
           ],
           "sequential": [
            [
             0,
             "#0d0887"
            ],
            [
             0.1111111111111111,
             "#46039f"
            ],
            [
             0.2222222222222222,
             "#7201a8"
            ],
            [
             0.3333333333333333,
             "#9c179e"
            ],
            [
             0.4444444444444444,
             "#bd3786"
            ],
            [
             0.5555555555555556,
             "#d8576b"
            ],
            [
             0.6666666666666666,
             "#ed7953"
            ],
            [
             0.7777777777777778,
             "#fb9f3a"
            ],
            [
             0.8888888888888888,
             "#fdca26"
            ],
            [
             1,
             "#f0f921"
            ]
           ],
           "sequentialminus": [
            [
             0,
             "#0d0887"
            ],
            [
             0.1111111111111111,
             "#46039f"
            ],
            [
             0.2222222222222222,
             "#7201a8"
            ],
            [
             0.3333333333333333,
             "#9c179e"
            ],
            [
             0.4444444444444444,
             "#bd3786"
            ],
            [
             0.5555555555555556,
             "#d8576b"
            ],
            [
             0.6666666666666666,
             "#ed7953"
            ],
            [
             0.7777777777777778,
             "#fb9f3a"
            ],
            [
             0.8888888888888888,
             "#fdca26"
            ],
            [
             1,
             "#f0f921"
            ]
           ]
          },
          "colorway": [
           "#636efa",
           "#EF553B",
           "#00cc96",
           "#ab63fa",
           "#FFA15A",
           "#19d3f3",
           "#FF6692",
           "#B6E880",
           "#FF97FF",
           "#FECB52"
          ],
          "font": {
           "color": "#2a3f5f"
          },
          "geo": {
           "bgcolor": "white",
           "lakecolor": "white",
           "landcolor": "#E5ECF6",
           "showlakes": true,
           "showland": true,
           "subunitcolor": "white"
          },
          "hoverlabel": {
           "align": "left"
          },
          "hovermode": "closest",
          "mapbox": {
           "style": "light"
          },
          "paper_bgcolor": "white",
          "plot_bgcolor": "#E5ECF6",
          "polar": {
           "angularaxis": {
            "gridcolor": "white",
            "linecolor": "white",
            "ticks": ""
           },
           "bgcolor": "#E5ECF6",
           "radialaxis": {
            "gridcolor": "white",
            "linecolor": "white",
            "ticks": ""
           }
          },
          "scene": {
           "xaxis": {
            "backgroundcolor": "#E5ECF6",
            "gridcolor": "white",
            "gridwidth": 2,
            "linecolor": "white",
            "showbackground": true,
            "ticks": "",
            "zerolinecolor": "white"
           },
           "yaxis": {
            "backgroundcolor": "#E5ECF6",
            "gridcolor": "white",
            "gridwidth": 2,
            "linecolor": "white",
            "showbackground": true,
            "ticks": "",
            "zerolinecolor": "white"
           },
           "zaxis": {
            "backgroundcolor": "#E5ECF6",
            "gridcolor": "white",
            "gridwidth": 2,
            "linecolor": "white",
            "showbackground": true,
            "ticks": "",
            "zerolinecolor": "white"
           }
          },
          "shapedefaults": {
           "line": {
            "color": "#2a3f5f"
           }
          },
          "ternary": {
           "aaxis": {
            "gridcolor": "white",
            "linecolor": "white",
            "ticks": ""
           },
           "baxis": {
            "gridcolor": "white",
            "linecolor": "white",
            "ticks": ""
           },
           "bgcolor": "#E5ECF6",
           "caxis": {
            "gridcolor": "white",
            "linecolor": "white",
            "ticks": ""
           }
          },
          "title": {
           "x": 0.05
          },
          "xaxis": {
           "automargin": true,
           "gridcolor": "white",
           "linecolor": "white",
           "ticks": "",
           "title": {
            "standoff": 15
           },
           "zerolinecolor": "white",
           "zerolinewidth": 2
          },
          "yaxis": {
           "automargin": true,
           "gridcolor": "white",
           "linecolor": "white",
           "ticks": "",
           "title": {
            "standoff": 15
           },
           "zerolinecolor": "white",
           "zerolinewidth": 2
          }
         }
        },
        "xaxis": {
         "anchor": "y",
         "domain": [
          0,
          1
         ],
         "title": {
          "text": "degree_centrality"
         }
        },
        "yaxis": {
         "anchor": "x",
         "domain": [
          0,
          1
         ],
         "title": {
          "text": "Actor"
         }
        }
       }
      },
      "text/html": [
       "<div>                            <div id=\"f7498c55-445e-4641-b8dd-8dc2441fa0ab\" class=\"plotly-graph-div\" style=\"height:525px; width:100%;\"></div>            <script type=\"text/javascript\">                require([\"plotly\"], function(Plotly) {                    window.PLOTLYENV=window.PLOTLYENV || {};                                    if (document.getElementById(\"f7498c55-445e-4641-b8dd-8dc2441fa0ab\")) {                    Plotly.newPlot(                        \"f7498c55-445e-4641-b8dd-8dc2441fa0ab\",                        [{\"alignmentgroup\":\"True\",\"customdata\":[[\"1954-04-09\",250.0,13,1124.0],[\"1943-10-08\",885.0,13,860.0],[\"1952-07-01\",198.0,9,939.0],[\"1950-03-20\",240.5,9,766.0],[\"1951-03-17\",142.0,8,461.0]],\"hovertemplate\":\"degree_centrality=%{x}<br>Actor=%{y}<br>dob=%{customdata[0]}<br>actor_score_before_period=%{customdata[1]}<br>nb_actors_boosted=%{customdata[2]}<br>betweenness_centrality_subset=%{customdata[3]}<extra></extra>\",\"legendgroup\":\"\",\"marker\":{\"color\":\"#636efa\",\"pattern\":{\"shape\":\"\"}},\"name\":\"\",\"offsetgroup\":\"\",\"orientation\":\"h\",\"showlegend\":false,\"textposition\":\"auto\",\"x\":[0.088,0.081,0.061,0.061,0.054],\"xaxis\":\"x\",\"y\":[\"Dennis Quaid\",\"Chevy Chase\",\"Dan Aykroyd\",\"William Hurt\",\"Kurt Russell\"],\"yaxis\":\"y\",\"type\":\"bar\"}],                        {\"template\":{\"data\":{\"histogram2dcontour\":[{\"type\":\"histogram2dcontour\",\"colorbar\":{\"outlinewidth\":0,\"ticks\":\"\"},\"colorscale\":[[0.0,\"#0d0887\"],[0.1111111111111111,\"#46039f\"],[0.2222222222222222,\"#7201a8\"],[0.3333333333333333,\"#9c179e\"],[0.4444444444444444,\"#bd3786\"],[0.5555555555555556,\"#d8576b\"],[0.6666666666666666,\"#ed7953\"],[0.7777777777777778,\"#fb9f3a\"],[0.8888888888888888,\"#fdca26\"],[1.0,\"#f0f921\"]]}],\"choropleth\":[{\"type\":\"choropleth\",\"colorbar\":{\"outlinewidth\":0,\"ticks\":\"\"}}],\"histogram2d\":[{\"type\":\"histogram2d\",\"colorbar\":{\"outlinewidth\":0,\"ticks\":\"\"},\"colorscale\":[[0.0,\"#0d0887\"],[0.1111111111111111,\"#46039f\"],[0.2222222222222222,\"#7201a8\"],[0.3333333333333333,\"#9c179e\"],[0.4444444444444444,\"#bd3786\"],[0.5555555555555556,\"#d8576b\"],[0.6666666666666666,\"#ed7953\"],[0.7777777777777778,\"#fb9f3a\"],[0.8888888888888888,\"#fdca26\"],[1.0,\"#f0f921\"]]}],\"heatmap\":[{\"type\":\"heatmap\",\"colorbar\":{\"outlinewidth\":0,\"ticks\":\"\"},\"colorscale\":[[0.0,\"#0d0887\"],[0.1111111111111111,\"#46039f\"],[0.2222222222222222,\"#7201a8\"],[0.3333333333333333,\"#9c179e\"],[0.4444444444444444,\"#bd3786\"],[0.5555555555555556,\"#d8576b\"],[0.6666666666666666,\"#ed7953\"],[0.7777777777777778,\"#fb9f3a\"],[0.8888888888888888,\"#fdca26\"],[1.0,\"#f0f921\"]]}],\"heatmapgl\":[{\"type\":\"heatmapgl\",\"colorbar\":{\"outlinewidth\":0,\"ticks\":\"\"},\"colorscale\":[[0.0,\"#0d0887\"],[0.1111111111111111,\"#46039f\"],[0.2222222222222222,\"#7201a8\"],[0.3333333333333333,\"#9c179e\"],[0.4444444444444444,\"#bd3786\"],[0.5555555555555556,\"#d8576b\"],[0.6666666666666666,\"#ed7953\"],[0.7777777777777778,\"#fb9f3a\"],[0.8888888888888888,\"#fdca26\"],[1.0,\"#f0f921\"]]}],\"contourcarpet\":[{\"type\":\"contourcarpet\",\"colorbar\":{\"outlinewidth\":0,\"ticks\":\"\"}}],\"contour\":[{\"type\":\"contour\",\"colorbar\":{\"outlinewidth\":0,\"ticks\":\"\"},\"colorscale\":[[0.0,\"#0d0887\"],[0.1111111111111111,\"#46039f\"],[0.2222222222222222,\"#7201a8\"],[0.3333333333333333,\"#9c179e\"],[0.4444444444444444,\"#bd3786\"],[0.5555555555555556,\"#d8576b\"],[0.6666666666666666,\"#ed7953\"],[0.7777777777777778,\"#fb9f3a\"],[0.8888888888888888,\"#fdca26\"],[1.0,\"#f0f921\"]]}],\"surface\":[{\"type\":\"surface\",\"colorbar\":{\"outlinewidth\":0,\"ticks\":\"\"},\"colorscale\":[[0.0,\"#0d0887\"],[0.1111111111111111,\"#46039f\"],[0.2222222222222222,\"#7201a8\"],[0.3333333333333333,\"#9c179e\"],[0.4444444444444444,\"#bd3786\"],[0.5555555555555556,\"#d8576b\"],[0.6666666666666666,\"#ed7953\"],[0.7777777777777778,\"#fb9f3a\"],[0.8888888888888888,\"#fdca26\"],[1.0,\"#f0f921\"]]}],\"mesh3d\":[{\"type\":\"mesh3d\",\"colorbar\":{\"outlinewidth\":0,\"ticks\":\"\"}}],\"scatter\":[{\"fillpattern\":{\"fillmode\":\"overlay\",\"size\":10,\"solidity\":0.2},\"type\":\"scatter\"}],\"parcoords\":[{\"type\":\"parcoords\",\"line\":{\"colorbar\":{\"outlinewidth\":0,\"ticks\":\"\"}}}],\"scatterpolargl\":[{\"type\":\"scatterpolargl\",\"marker\":{\"colorbar\":{\"outlinewidth\":0,\"ticks\":\"\"}}}],\"bar\":[{\"error_x\":{\"color\":\"#2a3f5f\"},\"error_y\":{\"color\":\"#2a3f5f\"},\"marker\":{\"line\":{\"color\":\"#E5ECF6\",\"width\":0.5},\"pattern\":{\"fillmode\":\"overlay\",\"size\":10,\"solidity\":0.2}},\"type\":\"bar\"}],\"scattergeo\":[{\"type\":\"scattergeo\",\"marker\":{\"colorbar\":{\"outlinewidth\":0,\"ticks\":\"\"}}}],\"scatterpolar\":[{\"type\":\"scatterpolar\",\"marker\":{\"colorbar\":{\"outlinewidth\":0,\"ticks\":\"\"}}}],\"histogram\":[{\"marker\":{\"pattern\":{\"fillmode\":\"overlay\",\"size\":10,\"solidity\":0.2}},\"type\":\"histogram\"}],\"scattergl\":[{\"type\":\"scattergl\",\"marker\":{\"colorbar\":{\"outlinewidth\":0,\"ticks\":\"\"}}}],\"scatter3d\":[{\"type\":\"scatter3d\",\"line\":{\"colorbar\":{\"outlinewidth\":0,\"ticks\":\"\"}},\"marker\":{\"colorbar\":{\"outlinewidth\":0,\"ticks\":\"\"}}}],\"scattermapbox\":[{\"type\":\"scattermapbox\",\"marker\":{\"colorbar\":{\"outlinewidth\":0,\"ticks\":\"\"}}}],\"scatterternary\":[{\"type\":\"scatterternary\",\"marker\":{\"colorbar\":{\"outlinewidth\":0,\"ticks\":\"\"}}}],\"scattercarpet\":[{\"type\":\"scattercarpet\",\"marker\":{\"colorbar\":{\"outlinewidth\":0,\"ticks\":\"\"}}}],\"carpet\":[{\"aaxis\":{\"endlinecolor\":\"#2a3f5f\",\"gridcolor\":\"white\",\"linecolor\":\"white\",\"minorgridcolor\":\"white\",\"startlinecolor\":\"#2a3f5f\"},\"baxis\":{\"endlinecolor\":\"#2a3f5f\",\"gridcolor\":\"white\",\"linecolor\":\"white\",\"minorgridcolor\":\"white\",\"startlinecolor\":\"#2a3f5f\"},\"type\":\"carpet\"}],\"table\":[{\"cells\":{\"fill\":{\"color\":\"#EBF0F8\"},\"line\":{\"color\":\"white\"}},\"header\":{\"fill\":{\"color\":\"#C8D4E3\"},\"line\":{\"color\":\"white\"}},\"type\":\"table\"}],\"barpolar\":[{\"marker\":{\"line\":{\"color\":\"#E5ECF6\",\"width\":0.5},\"pattern\":{\"fillmode\":\"overlay\",\"size\":10,\"solidity\":0.2}},\"type\":\"barpolar\"}],\"pie\":[{\"automargin\":true,\"type\":\"pie\"}]},\"layout\":{\"autotypenumbers\":\"strict\",\"colorway\":[\"#636efa\",\"#EF553B\",\"#00cc96\",\"#ab63fa\",\"#FFA15A\",\"#19d3f3\",\"#FF6692\",\"#B6E880\",\"#FF97FF\",\"#FECB52\"],\"font\":{\"color\":\"#2a3f5f\"},\"hovermode\":\"closest\",\"hoverlabel\":{\"align\":\"left\"},\"paper_bgcolor\":\"white\",\"plot_bgcolor\":\"#E5ECF6\",\"polar\":{\"bgcolor\":\"#E5ECF6\",\"angularaxis\":{\"gridcolor\":\"white\",\"linecolor\":\"white\",\"ticks\":\"\"},\"radialaxis\":{\"gridcolor\":\"white\",\"linecolor\":\"white\",\"ticks\":\"\"}},\"ternary\":{\"bgcolor\":\"#E5ECF6\",\"aaxis\":{\"gridcolor\":\"white\",\"linecolor\":\"white\",\"ticks\":\"\"},\"baxis\":{\"gridcolor\":\"white\",\"linecolor\":\"white\",\"ticks\":\"\"},\"caxis\":{\"gridcolor\":\"white\",\"linecolor\":\"white\",\"ticks\":\"\"}},\"coloraxis\":{\"colorbar\":{\"outlinewidth\":0,\"ticks\":\"\"}},\"colorscale\":{\"sequential\":[[0.0,\"#0d0887\"],[0.1111111111111111,\"#46039f\"],[0.2222222222222222,\"#7201a8\"],[0.3333333333333333,\"#9c179e\"],[0.4444444444444444,\"#bd3786\"],[0.5555555555555556,\"#d8576b\"],[0.6666666666666666,\"#ed7953\"],[0.7777777777777778,\"#fb9f3a\"],[0.8888888888888888,\"#fdca26\"],[1.0,\"#f0f921\"]],\"sequentialminus\":[[0.0,\"#0d0887\"],[0.1111111111111111,\"#46039f\"],[0.2222222222222222,\"#7201a8\"],[0.3333333333333333,\"#9c179e\"],[0.4444444444444444,\"#bd3786\"],[0.5555555555555556,\"#d8576b\"],[0.6666666666666666,\"#ed7953\"],[0.7777777777777778,\"#fb9f3a\"],[0.8888888888888888,\"#fdca26\"],[1.0,\"#f0f921\"]],\"diverging\":[[0,\"#8e0152\"],[0.1,\"#c51b7d\"],[0.2,\"#de77ae\"],[0.3,\"#f1b6da\"],[0.4,\"#fde0ef\"],[0.5,\"#f7f7f7\"],[0.6,\"#e6f5d0\"],[0.7,\"#b8e186\"],[0.8,\"#7fbc41\"],[0.9,\"#4d9221\"],[1,\"#276419\"]]},\"xaxis\":{\"gridcolor\":\"white\",\"linecolor\":\"white\",\"ticks\":\"\",\"title\":{\"standoff\":15},\"zerolinecolor\":\"white\",\"automargin\":true,\"zerolinewidth\":2},\"yaxis\":{\"gridcolor\":\"white\",\"linecolor\":\"white\",\"ticks\":\"\",\"title\":{\"standoff\":15},\"zerolinecolor\":\"white\",\"automargin\":true,\"zerolinewidth\":2},\"scene\":{\"xaxis\":{\"backgroundcolor\":\"#E5ECF6\",\"gridcolor\":\"white\",\"linecolor\":\"white\",\"showbackground\":true,\"ticks\":\"\",\"zerolinecolor\":\"white\",\"gridwidth\":2},\"yaxis\":{\"backgroundcolor\":\"#E5ECF6\",\"gridcolor\":\"white\",\"linecolor\":\"white\",\"showbackground\":true,\"ticks\":\"\",\"zerolinecolor\":\"white\",\"gridwidth\":2},\"zaxis\":{\"backgroundcolor\":\"#E5ECF6\",\"gridcolor\":\"white\",\"linecolor\":\"white\",\"showbackground\":true,\"ticks\":\"\",\"zerolinecolor\":\"white\",\"gridwidth\":2}},\"shapedefaults\":{\"line\":{\"color\":\"#2a3f5f\"}},\"annotationdefaults\":{\"arrowcolor\":\"#2a3f5f\",\"arrowhead\":0,\"arrowwidth\":1},\"geo\":{\"bgcolor\":\"white\",\"landcolor\":\"#E5ECF6\",\"subunitcolor\":\"white\",\"showland\":true,\"showlakes\":true,\"lakecolor\":\"white\"},\"title\":{\"x\":0.05},\"mapbox\":{\"style\":\"light\"}}},\"xaxis\":{\"anchor\":\"y\",\"domain\":[0.0,1.0],\"title\":{\"text\":\"degree_centrality\"}},\"yaxis\":{\"anchor\":\"x\",\"domain\":[0.0,1.0],\"title\":{\"text\":\"Actor\"}},\"legend\":{\"tracegroupgap\":0},\"margin\":{\"t\":60},\"barmode\":\"relative\"},                        {\"responsive\": true}                    ).then(function(){\n",
       "                            \n",
       "var gd = document.getElementById('f7498c55-445e-4641-b8dd-8dc2441fa0ab');\n",
       "var x = new MutationObserver(function (mutations, observer) {{\n",
       "        var display = window.getComputedStyle(gd).display;\n",
       "        if (!display || display === 'none') {{\n",
       "            console.log([gd, 'removed!']);\n",
       "            Plotly.purge(gd);\n",
       "            observer.disconnect();\n",
       "        }}\n",
       "}});\n",
       "\n",
       "// Listen for the removal of the full notebook cells\n",
       "var notebookContainer = gd.closest('#notebook-container');\n",
       "if (notebookContainer) {{\n",
       "    x.observe(notebookContainer, {childList: true});\n",
       "}}\n",
       "\n",
       "// Listen for the clearing of the current output cell\n",
       "var outputEl = gd.closest('.output');\n",
       "if (outputEl) {{\n",
       "    x.observe(outputEl, {childList: true});\n",
       "}}\n",
       "\n",
       "                        })                };                });            </script>        </div>"
      ]
     },
     "metadata": {},
     "output_type": "display_data"
    }
   ],
   "source": [
    "px.bar(example, x=\"degree_centrality\", labels=dict(index=\"Actor\", degree_centrality=\"degree_centrality\"), hover_data={\"dob\": True,\"actor_score_before_period\": True, \"nb_actors_boosted\": True, \"betweenness_centrality_subset\":True, \"degree_centrality\":True}, orientation='h')"
   ]
  },
  {
   "cell_type": "code",
   "execution_count": 41,
   "metadata": {},
   "outputs": [
    {
     "name": "stdout",
     "output_type": "stream",
     "text": [
      "['preprocessed_data/career_boosters/career_booster_dc_1982_1986_genre_all.pkl', 'preprocessed_data/career_boosters/career_booster_dc_1982_1986_genre_Thriller_Crime_Thriller_Action_Mystery.pkl', 'preprocessed_data/career_boosters/career_booster_dc_1982_1986_genre_Comedy_Grossout_film_Gross_out_Romantic_comedy.pkl', 'preprocessed_data/career_boosters/career_booster_dc_1982_1986_genre_Gay_Gay_Interest_Gay_Themed_LGBT.pkl', 'preprocessed_data/career_boosters/career_booster_dc_1982_1986_genre_Period_piece_Epic_Romantic_drama_Costume_drama.pkl', 'preprocessed_data/career_boosters/career_booster_dc_1982_1986_genre_ChildrensFamily_Family_Film_Animation_Fantasy.pkl', 'preprocessed_data/career_boosters/career_booster_dc_1982_1986_genre_Mystery_Horror_ChildrensFamily_Drama.pkl', 'preprocessed_data/career_boosters/career_booster_dc_1982_1986_genre_Antiwar_Antiwar_film_Detective_fiction_Detective.pkl', 'preprocessed_data/career_boosters/career_booster_dc_1982_1986_genre_Biography_Culture__Society_Social_issues_Documentary.pkl', 'preprocessed_data/career_boosters/career_booster_dc_1982_1986_genre_Antiwar_Antiwar_film_War_film_Existentialism.pkl', 'preprocessed_data/career_boosters/career_booster_dc_1982_1986_genre_Horror_Bmovie_Gay_Gay_Interest.pkl', 'preprocessed_data/career_boosters/career_booster_dc_1982_1986_genre_Doomsday_film_Apocalyptic_and_postapocalyptic_fiction_Pornographic_movie_Dystopia.pkl', 'preprocessed_data/career_boosters/career_booster_dc_1982_1986_genre_Nature_Animals_Adult_Pornographic_movie.pkl', 'preprocessed_data/career_boosters/career_booster_dc_1982_1986_genre_Film_Film__Television_History_Antiwar_Antiwar_film.pkl', 'preprocessed_data/career_boosters/career_booster_dc_1982_1986_genre_Avantgarde_Experimental_film_Essay_Film_Surrealism.pkl', 'preprocessed_data/career_boosters/career_booster_dc_1987_1991_genre_all.pkl', 'preprocessed_data/career_boosters/career_booster_dc_1987_1991_genre_Thriller_Crime_Thriller_Action_Mystery.pkl', 'preprocessed_data/career_boosters/career_booster_dc_1987_1991_genre_Antiwar_Antiwar_film_War_film_Existentialism.pkl', 'preprocessed_data/career_boosters/career_booster_dc_1987_1991_genre_ChildrensFamily_Family_Film_Animation_Fantasy.pkl', 'preprocessed_data/career_boosters/career_booster_dc_1987_1991_genre_Gay_Gay_Interest_Gay_Themed_LGBT.pkl', 'preprocessed_data/career_boosters/career_booster_dc_1987_1991_genre_Biography_Culture__Society_Social_issues_Documentary.pkl', 'preprocessed_data/career_boosters/career_booster_dc_1987_1991_genre_Comedy_Grossout_film_Gross_out_Romantic_comedy.pkl', 'preprocessed_data/career_boosters/career_booster_dc_1987_1991_genre_Period_piece_Epic_Romantic_drama_Costume_drama.pkl', 'preprocessed_data/career_boosters/career_booster_dc_1987_1991_genre_Mystery_Horror_ChildrensFamily_Drama.pkl', 'preprocessed_data/career_boosters/career_booster_dc_1987_1991_genre_Horror_Bmovie_Gay_Gay_Interest.pkl', 'preprocessed_data/career_boosters/career_booster_dc_1987_1991_genre_Doomsday_film_Apocalyptic_and_postapocalyptic_fiction_Pornographic_movie_Dystopia.pkl', 'preprocessed_data/career_boosters/career_booster_dc_1987_1991_genre_Avantgarde_Experimental_film_Essay_Film_Surrealism.pkl', 'preprocessed_data/career_boosters/career_booster_dc_1987_1991_genre_Antiwar_Antiwar_film_Detective_fiction_Detective.pkl', 'preprocessed_data/career_boosters/career_booster_dc_1987_1991_genre_Grossout_film_Gross_out_Pornographic_movie_Adult.pkl', 'preprocessed_data/career_boosters/career_booster_dc_1992_1996_genre_all.pkl', 'preprocessed_data/career_boosters/career_booster_dc_1992_1996_genre_Horror_Bmovie_Gay_Gay_Interest.pkl', 'preprocessed_data/career_boosters/career_booster_dc_1992_1996_genre_Biography_Culture__Society_Social_issues_Documentary.pkl', 'preprocessed_data/career_boosters/career_booster_dc_1992_1996_genre_Thriller_Crime_Thriller_Action_Mystery.pkl', 'preprocessed_data/career_boosters/career_booster_dc_1992_1996_genre_Doomsday_film_Apocalyptic_and_postapocalyptic_fiction_Pornographic_movie_Dystopia.pkl', 'preprocessed_data/career_boosters/career_booster_dc_1992_1996_genre_Period_piece_Epic_Romantic_drama_Costume_drama.pkl', 'preprocessed_data/career_boosters/career_booster_dc_1992_1996_genre_Gay_Gay_Interest_Gay_Themed_LGBT.pkl', 'preprocessed_data/career_boosters/career_booster_dc_1992_1996_genre_Comedy_Grossout_film_Gross_out_Romantic_comedy.pkl', 'preprocessed_data/career_boosters/career_booster_dc_1992_1996_genre_ChildrensFamily_Family_Film_Animation_Fantasy.pkl', 'preprocessed_data/career_boosters/career_booster_dc_1992_1996_genre_Mystery_Horror_ChildrensFamily_Drama.pkl', 'preprocessed_data/career_boosters/career_booster_dc_1992_1996_genre_Avantgarde_Experimental_film_Essay_Film_Surrealism.pkl', 'preprocessed_data/career_boosters/career_booster_dc_1992_1996_genre_Antiwar_Antiwar_film_Detective_fiction_Detective.pkl', 'preprocessed_data/career_boosters/career_booster_dc_1992_1996_genre_Grossout_film_Gross_out_Pornographic_movie_Adult.pkl', 'preprocessed_data/career_boosters/career_booster_dc_1992_1996_genre_Antiwar_Antiwar_film_War_film_Existentialism.pkl', 'preprocessed_data/career_boosters/career_booster_dc_1992_1996_genre_Film_Film__Television_History_Antiwar_Antiwar_film.pkl', 'preprocessed_data/career_boosters/career_booster_dc_1997_2001_genre_all.pkl', 'preprocessed_data/career_boosters/career_booster_dc_1997_2001_genre_Thriller_Crime_Thriller_Action_Mystery.pkl', 'preprocessed_data/career_boosters/career_booster_dc_1997_2001_genre_Biography_Culture__Society_Social_issues_Documentary.pkl', 'preprocessed_data/career_boosters/career_booster_dc_1997_2001_genre_ChildrensFamily_Family_Film_Animation_Fantasy.pkl', 'preprocessed_data/career_boosters/career_booster_dc_1997_2001_genre_Comedy_Grossout_film_Gross_out_Romantic_comedy.pkl', 'preprocessed_data/career_boosters/career_booster_dc_1997_2001_genre_Period_piece_Epic_Romantic_drama_Costume_drama.pkl', 'preprocessed_data/career_boosters/career_booster_dc_1997_2001_genre_Gay_Gay_Interest_Gay_Themed_LGBT.pkl', 'preprocessed_data/career_boosters/career_booster_dc_1997_2001_genre_Doomsday_film_Apocalyptic_and_postapocalyptic_fiction_Pornographic_movie_Dystopia.pkl', 'preprocessed_data/career_boosters/career_booster_dc_1997_2001_genre_Mystery_Horror_ChildrensFamily_Drama.pkl', 'preprocessed_data/career_boosters/career_booster_dc_1997_2001_genre_Antiwar_Antiwar_film_War_film_Existentialism.pkl', 'preprocessed_data/career_boosters/career_booster_dc_1997_2001_genre_Avantgarde_Experimental_film_Essay_Film_Surrealism.pkl', 'preprocessed_data/career_boosters/career_booster_dc_1997_2001_genre_Horror_Bmovie_Gay_Gay_Interest.pkl', 'preprocessed_data/career_boosters/career_booster_dc_1997_2001_genre_Antiwar_Antiwar_film_Detective_fiction_Detective.pkl', 'preprocessed_data/career_boosters/career_booster_dc_1997_2001_genre_Grossout_film_Gross_out_Pornographic_movie_Adult.pkl', 'preprocessed_data/career_boosters/career_booster_dc_1997_2001_genre_Film_Film__Television_History_Antiwar_Antiwar_film.pkl', 'preprocessed_data/career_boosters/career_booster_dc_1997_2001_genre_Nature_Animals_Adult_Pornographic_movie.pkl', 'preprocessed_data/career_boosters/career_booster_dc_2002_2006_genre_all.pkl', 'preprocessed_data/career_boosters/career_booster_dc_2002_2006_genre_Thriller_Crime_Thriller_Action_Mystery.pkl', 'preprocessed_data/career_boosters/career_booster_dc_2002_2006_genre_ChildrensFamily_Family_Film_Animation_Fantasy.pkl', 'preprocessed_data/career_boosters/career_booster_dc_2002_2006_genre_Biography_Culture__Society_Social_issues_Documentary.pkl', 'preprocessed_data/career_boosters/career_booster_dc_2002_2006_genre_Comedy_Grossout_film_Gross_out_Romantic_comedy.pkl', 'preprocessed_data/career_boosters/career_booster_dc_2002_2006_genre_Period_piece_Epic_Romantic_drama_Costume_drama.pkl', 'preprocessed_data/career_boosters/career_booster_dc_2002_2006_genre_Avantgarde_Experimental_film_Essay_Film_Surrealism.pkl', 'preprocessed_data/career_boosters/career_booster_dc_2002_2006_genre_Gay_Gay_Interest_Gay_Themed_LGBT.pkl', 'preprocessed_data/career_boosters/career_booster_dc_2002_2006_genre_Doomsday_film_Apocalyptic_and_postapocalyptic_fiction_Pornographic_movie_Dystopia.pkl', 'preprocessed_data/career_boosters/career_booster_dc_2002_2006_genre_Mystery_Horror_ChildrensFamily_Drama.pkl', 'preprocessed_data/career_boosters/career_booster_dc_2002_2006_genre_Antiwar_Antiwar_film_War_film_Existentialism.pkl', 'preprocessed_data/career_boosters/career_booster_dc_2002_2006_genre_Film_Film__Television_History_Antiwar_Antiwar_film.pkl', 'preprocessed_data/career_boosters/career_booster_dc_2002_2006_genre_Horror_Bmovie_Gay_Gay_Interest.pkl', 'preprocessed_data/career_boosters/career_booster_dc_2002_2006_genre_Antiwar_Antiwar_film_Detective_fiction_Detective.pkl', 'preprocessed_data/career_boosters/career_booster_dc_2002_2006_genre_Grossout_film_Gross_out_Pornographic_movie_Adult.pkl', 'preprocessed_data/career_boosters/career_booster_dc_2002_2006_genre_Nature_Animals_Adult_Pornographic_movie.pkl', 'preprocessed_data/career_boosters/career_booster_dc_2007_2011_genre_all.pkl', 'preprocessed_data/career_boosters/career_booster_dc_2007_2011_genre_Gay_Gay_Interest_Gay_Themed_LGBT.pkl', 'preprocessed_data/career_boosters/career_booster_dc_2007_2011_genre_Thriller_Crime_Thriller_Action_Mystery.pkl', 'preprocessed_data/career_boosters/career_booster_dc_2007_2011_genre_ChildrensFamily_Family_Film_Animation_Fantasy.pkl', 'preprocessed_data/career_boosters/career_booster_dc_2007_2011_genre_Biography_Culture__Society_Social_issues_Documentary.pkl', 'preprocessed_data/career_boosters/career_booster_dc_2007_2011_genre_Comedy_Grossout_film_Gross_out_Romantic_comedy.pkl', 'preprocessed_data/career_boosters/career_booster_dc_2007_2011_genre_Period_piece_Epic_Romantic_drama_Costume_drama.pkl', 'preprocessed_data/career_boosters/career_booster_dc_2007_2011_genre_Mystery_Horror_ChildrensFamily_Drama.pkl', 'preprocessed_data/career_boosters/career_booster_dc_2007_2011_genre_Horror_Bmovie_Gay_Gay_Interest.pkl', 'preprocessed_data/career_boosters/career_booster_dc_2007_2011_genre_Avantgarde_Experimental_film_Essay_Film_Surrealism.pkl', 'preprocessed_data/career_boosters/career_booster_dc_2007_2011_genre_Doomsday_film_Apocalyptic_and_postapocalyptic_fiction_Pornographic_movie_Dystopia.pkl', 'preprocessed_data/career_boosters/career_booster_dc_2007_2011_genre_Antiwar_Antiwar_film_War_film_Existentialism.pkl', 'preprocessed_data/career_boosters/career_booster_dc_2007_2011_genre_Nature_Animals_Adult_Pornographic_movie.pkl', 'preprocessed_data/career_boosters/career_booster_dc_2007_2011_genre_Antiwar_Antiwar_film_Detective_fiction_Detective.pkl', 'preprocessed_data/career_boosters/career_booster_dc_2007_2011_genre_Film_Film__Television_History_Antiwar_Antiwar_film.pkl', 'preprocessed_data/career_boosters/career_booster_dc_2007_2011_genre_Grossout_film_Gross_out_Pornographic_movie_Adult.pkl']\n"
     ]
    }
   ],
   "source": [
    "names = []\n",
    "#Create histograms from pickles\n",
    "for _, elem in files_attr.iterrows():\n",
    "    fn = generate_filename(elem)\n",
    "    names.append(fn)\n",
    "    pkl = pd.read_pickle(fn)\n",
    "    if pkl.size == 0:\n",
    "        continue\n",
    "    pkl = pkl[pkl.degree_centrality != 0]\n",
    "    if pkl.size == 0:\n",
    "        continue\n",
    "    pkl.rename(columns={\"dob\": 'Birth date', \"actor_score_before_period\": 'Score', \"nb_actors_boosted\": \"Boosted actors during period\", \"degree_centrality\": \"Degree centrality\", \"betweenness_centrality_subset\": \"Betweenness centrality\"}, inplace=True, errors='raise')\n",
    "    fig = px.bar(pkl, x=\"Degree centrality\", labels=dict(index=\"Actor\"), hover_data={\"Birth date\": True,\"Score\": True, \"Boosted actors during period\": True, \"Betweenness centrality\":True, \"Degree centrality\":True}, orientation='h')\n",
    "    fig.update_layout(showlegend=False)\n",
    "    fig.write_html('images/histograms/'+fn.split('/')[-1][:-4]+\".html\")\n",
    "\n",
    "print(names)"
   ]
  },
  {
   "cell_type": "code",
   "execution_count": null,
   "metadata": {},
   "outputs": [],
   "source": []
  }
 ],
 "metadata": {
  "kernelspec": {
   "display_name": "Python 3 (ipykernel)",
   "language": "python",
   "name": "python3"
  },
  "language_info": {
   "codemirror_mode": {
    "name": "ipython",
    "version": 3
   },
   "file_extension": ".py",
   "mimetype": "text/x-python",
   "name": "python",
   "nbconvert_exporter": "python",
   "pygments_lexer": "ipython3",
   "version": "3.9.13"
  }
 },
 "nbformat": 4,
 "nbformat_minor": 1
}
