{
 "cells": [
  {
   "cell_type": "code",
   "execution_count": 43,
   "metadata": {
    "collapsed": true
   },
   "outputs": [],
   "source": [
    "import pandas as pd, numpy as np, scipy as sp\n",
    "import plotly.express as px\n",
    "pd.options.plotting.backend = \"plotly\""
   ]
  },
  {
   "cell_type": "code",
   "execution_count": 2,
   "outputs": [],
   "source": [
    "files_attr = pd.read_csv('data/hist_data/career_boosters_ids.csv', names=['start', 'end', 'genres'])"
   ],
   "metadata": {
    "collapsed": false
   }
  },
  {
   "cell_type": "code",
   "execution_count": 5,
   "outputs": [],
   "source": [
    "def generate_filename(row):\n",
    "    return \"data/hist_data/career_booster_dc_{}_{}_genre_{}.pkl\".format(row['start'], row['end'], row['genres'])"
   ],
   "metadata": {
    "collapsed": false
   }
  },
  {
   "cell_type": "code",
   "execution_count": 66,
   "outputs": [
    {
     "name": "stdout",
     "output_type": "stream",
     "text": [
      "Index(['booster_in', 'm_genre', 'ranking', 'betweenness_centrality_subset',\n",
      "       'degree_centrality', 'actor_score_before_period', 'nb_actors_boosted',\n",
      "       'nb_actors_boosted_at_revelation',\n",
      "       'nb_actors_boosted_before_revelation'],\n",
      "      dtype='object')\n"
     ]
    },
    {
     "data": {
      "text/plain": "                                  booster_in m_genre  ranking  \\\nDennis Quaid  (1982, 1983, 1984, 1985, 1986)     all        1   \nChevy Chase   (1982, 1983, 1984, 1985, 1986)     all        2   \nDan Aykroyd   (1982, 1983, 1984, 1985, 1986)     all        3   \nWilliam Hurt  (1982, 1983, 1984, 1985, 1986)     all        4   \nKurt Russell  (1982, 1983, 1984, 1985, 1986)     all        5   \n\n              betweenness_centrality_subset  degree_centrality  Actor score  \\\nDennis Quaid                    1124.359258           0.087838        250.0   \nChevy Chase                      859.911077           0.081081        885.0   \nDan Aykroyd                      938.580864           0.060811        198.0   \nWilliam Hurt                     765.724702           0.060811        240.5   \nKurt Russell                     460.692110           0.054054        142.0   \n\n              Boosted actors  nb_actors_boosted_at_revelation  \\\nDennis Quaid              13                               12   \nChevy Chase               13                                8   \nDan Aykroyd                9                                4   \nWilliam Hurt               9                                7   \nKurt Russell               8                                4   \n\n              nb_actors_boosted_before_revelation  \nDennis Quaid                                    1  \nChevy Chase                                     5  \nDan Aykroyd                                     5  \nWilliam Hurt                                    2  \nKurt Russell                                    4  ",
      "text/html": "<div>\n<style scoped>\n    .dataframe tbody tr th:only-of-type {\n        vertical-align: middle;\n    }\n\n    .dataframe tbody tr th {\n        vertical-align: top;\n    }\n\n    .dataframe thead th {\n        text-align: right;\n    }\n</style>\n<table border=\"1\" class=\"dataframe\">\n  <thead>\n    <tr style=\"text-align: right;\">\n      <th></th>\n      <th>booster_in</th>\n      <th>m_genre</th>\n      <th>ranking</th>\n      <th>betweenness_centrality_subset</th>\n      <th>degree_centrality</th>\n      <th>Actor score</th>\n      <th>Boosted actors</th>\n      <th>nb_actors_boosted_at_revelation</th>\n      <th>nb_actors_boosted_before_revelation</th>\n    </tr>\n  </thead>\n  <tbody>\n    <tr>\n      <th>Dennis Quaid</th>\n      <td>(1982, 1983, 1984, 1985, 1986)</td>\n      <td>all</td>\n      <td>1</td>\n      <td>1124.359258</td>\n      <td>0.087838</td>\n      <td>250.0</td>\n      <td>13</td>\n      <td>12</td>\n      <td>1</td>\n    </tr>\n    <tr>\n      <th>Chevy Chase</th>\n      <td>(1982, 1983, 1984, 1985, 1986)</td>\n      <td>all</td>\n      <td>2</td>\n      <td>859.911077</td>\n      <td>0.081081</td>\n      <td>885.0</td>\n      <td>13</td>\n      <td>8</td>\n      <td>5</td>\n    </tr>\n    <tr>\n      <th>Dan Aykroyd</th>\n      <td>(1982, 1983, 1984, 1985, 1986)</td>\n      <td>all</td>\n      <td>3</td>\n      <td>938.580864</td>\n      <td>0.060811</td>\n      <td>198.0</td>\n      <td>9</td>\n      <td>4</td>\n      <td>5</td>\n    </tr>\n    <tr>\n      <th>William Hurt</th>\n      <td>(1982, 1983, 1984, 1985, 1986)</td>\n      <td>all</td>\n      <td>4</td>\n      <td>765.724702</td>\n      <td>0.060811</td>\n      <td>240.5</td>\n      <td>9</td>\n      <td>7</td>\n      <td>2</td>\n    </tr>\n    <tr>\n      <th>Kurt Russell</th>\n      <td>(1982, 1983, 1984, 1985, 1986)</td>\n      <td>all</td>\n      <td>5</td>\n      <td>460.692110</td>\n      <td>0.054054</td>\n      <td>142.0</td>\n      <td>8</td>\n      <td>4</td>\n      <td>4</td>\n    </tr>\n  </tbody>\n</table>\n</div>"
     },
     "execution_count": 66,
     "metadata": {},
     "output_type": "execute_result"
    }
   ],
   "source": [
    "example = pd.read_pickle(generate_filename(files_attr.iloc[0]))\n",
    "\n",
    "example.head()"
   ],
   "metadata": {
    "collapsed": false
   }
  },
  {
   "cell_type": "code",
   "execution_count": 79,
   "outputs": [
    {
     "data": {
      "application/vnd.plotly.v1+json": {
       "data": [
        {
         "alignmentgroup": "True",
         "customdata": [
          [
           250.0,
           13.0
          ],
          [
           885.0,
           13.0
          ],
          [
           198.0,
           9.0
          ],
          [
           240.5,
           9.0
          ],
          [
           142.0,
           8.0
          ]
         ],
         "hovertemplate": "Actor=%{x}<br>Actor score=%{customdata[0]}<br>Boosted actors=%{customdata[1]}<extra></extra>",
         "legendgroup": "",
         "marker": {
          "color": "#636efa",
          "pattern": {
           "shape": ""
          }
         },
         "name": "",
         "offsetgroup": "",
         "orientation": "v",
         "showlegend": false,
         "textposition": "auto",
         "x": [
          "Dennis Quaid",
          "Chevy Chase",
          "Dan Aykroyd",
          "William Hurt",
          "Kurt Russell"
         ],
         "xaxis": "x",
         "y": [
          1124.359258278251,
          859.9110771319918,
          938.5808643125068,
          765.7247018105775,
          460.69211033194506
         ],
         "yaxis": "y",
         "type": "bar"
        }
       ],
       "layout": {
        "template": {
         "data": {
          "histogram2dcontour": [
           {
            "type": "histogram2dcontour",
            "colorbar": {
             "outlinewidth": 0,
             "ticks": ""
            },
            "colorscale": [
             [
              0.0,
              "#0d0887"
             ],
             [
              0.1111111111111111,
              "#46039f"
             ],
             [
              0.2222222222222222,
              "#7201a8"
             ],
             [
              0.3333333333333333,
              "#9c179e"
             ],
             [
              0.4444444444444444,
              "#bd3786"
             ],
             [
              0.5555555555555556,
              "#d8576b"
             ],
             [
              0.6666666666666666,
              "#ed7953"
             ],
             [
              0.7777777777777778,
              "#fb9f3a"
             ],
             [
              0.8888888888888888,
              "#fdca26"
             ],
             [
              1.0,
              "#f0f921"
             ]
            ]
           }
          ],
          "choropleth": [
           {
            "type": "choropleth",
            "colorbar": {
             "outlinewidth": 0,
             "ticks": ""
            }
           }
          ],
          "histogram2d": [
           {
            "type": "histogram2d",
            "colorbar": {
             "outlinewidth": 0,
             "ticks": ""
            },
            "colorscale": [
             [
              0.0,
              "#0d0887"
             ],
             [
              0.1111111111111111,
              "#46039f"
             ],
             [
              0.2222222222222222,
              "#7201a8"
             ],
             [
              0.3333333333333333,
              "#9c179e"
             ],
             [
              0.4444444444444444,
              "#bd3786"
             ],
             [
              0.5555555555555556,
              "#d8576b"
             ],
             [
              0.6666666666666666,
              "#ed7953"
             ],
             [
              0.7777777777777778,
              "#fb9f3a"
             ],
             [
              0.8888888888888888,
              "#fdca26"
             ],
             [
              1.0,
              "#f0f921"
             ]
            ]
           }
          ],
          "heatmap": [
           {
            "type": "heatmap",
            "colorbar": {
             "outlinewidth": 0,
             "ticks": ""
            },
            "colorscale": [
             [
              0.0,
              "#0d0887"
             ],
             [
              0.1111111111111111,
              "#46039f"
             ],
             [
              0.2222222222222222,
              "#7201a8"
             ],
             [
              0.3333333333333333,
              "#9c179e"
             ],
             [
              0.4444444444444444,
              "#bd3786"
             ],
             [
              0.5555555555555556,
              "#d8576b"
             ],
             [
              0.6666666666666666,
              "#ed7953"
             ],
             [
              0.7777777777777778,
              "#fb9f3a"
             ],
             [
              0.8888888888888888,
              "#fdca26"
             ],
             [
              1.0,
              "#f0f921"
             ]
            ]
           }
          ],
          "heatmapgl": [
           {
            "type": "heatmapgl",
            "colorbar": {
             "outlinewidth": 0,
             "ticks": ""
            },
            "colorscale": [
             [
              0.0,
              "#0d0887"
             ],
             [
              0.1111111111111111,
              "#46039f"
             ],
             [
              0.2222222222222222,
              "#7201a8"
             ],
             [
              0.3333333333333333,
              "#9c179e"
             ],
             [
              0.4444444444444444,
              "#bd3786"
             ],
             [
              0.5555555555555556,
              "#d8576b"
             ],
             [
              0.6666666666666666,
              "#ed7953"
             ],
             [
              0.7777777777777778,
              "#fb9f3a"
             ],
             [
              0.8888888888888888,
              "#fdca26"
             ],
             [
              1.0,
              "#f0f921"
             ]
            ]
           }
          ],
          "contourcarpet": [
           {
            "type": "contourcarpet",
            "colorbar": {
             "outlinewidth": 0,
             "ticks": ""
            }
           }
          ],
          "contour": [
           {
            "type": "contour",
            "colorbar": {
             "outlinewidth": 0,
             "ticks": ""
            },
            "colorscale": [
             [
              0.0,
              "#0d0887"
             ],
             [
              0.1111111111111111,
              "#46039f"
             ],
             [
              0.2222222222222222,
              "#7201a8"
             ],
             [
              0.3333333333333333,
              "#9c179e"
             ],
             [
              0.4444444444444444,
              "#bd3786"
             ],
             [
              0.5555555555555556,
              "#d8576b"
             ],
             [
              0.6666666666666666,
              "#ed7953"
             ],
             [
              0.7777777777777778,
              "#fb9f3a"
             ],
             [
              0.8888888888888888,
              "#fdca26"
             ],
             [
              1.0,
              "#f0f921"
             ]
            ]
           }
          ],
          "surface": [
           {
            "type": "surface",
            "colorbar": {
             "outlinewidth": 0,
             "ticks": ""
            },
            "colorscale": [
             [
              0.0,
              "#0d0887"
             ],
             [
              0.1111111111111111,
              "#46039f"
             ],
             [
              0.2222222222222222,
              "#7201a8"
             ],
             [
              0.3333333333333333,
              "#9c179e"
             ],
             [
              0.4444444444444444,
              "#bd3786"
             ],
             [
              0.5555555555555556,
              "#d8576b"
             ],
             [
              0.6666666666666666,
              "#ed7953"
             ],
             [
              0.7777777777777778,
              "#fb9f3a"
             ],
             [
              0.8888888888888888,
              "#fdca26"
             ],
             [
              1.0,
              "#f0f921"
             ]
            ]
           }
          ],
          "mesh3d": [
           {
            "type": "mesh3d",
            "colorbar": {
             "outlinewidth": 0,
             "ticks": ""
            }
           }
          ],
          "scatter": [
           {
            "fillpattern": {
             "fillmode": "overlay",
             "size": 10,
             "solidity": 0.2
            },
            "type": "scatter"
           }
          ],
          "parcoords": [
           {
            "type": "parcoords",
            "line": {
             "colorbar": {
              "outlinewidth": 0,
              "ticks": ""
             }
            }
           }
          ],
          "scatterpolargl": [
           {
            "type": "scatterpolargl",
            "marker": {
             "colorbar": {
              "outlinewidth": 0,
              "ticks": ""
             }
            }
           }
          ],
          "bar": [
           {
            "error_x": {
             "color": "#2a3f5f"
            },
            "error_y": {
             "color": "#2a3f5f"
            },
            "marker": {
             "line": {
              "color": "#E5ECF6",
              "width": 0.5
             },
             "pattern": {
              "fillmode": "overlay",
              "size": 10,
              "solidity": 0.2
             }
            },
            "type": "bar"
           }
          ],
          "scattergeo": [
           {
            "type": "scattergeo",
            "marker": {
             "colorbar": {
              "outlinewidth": 0,
              "ticks": ""
             }
            }
           }
          ],
          "scatterpolar": [
           {
            "type": "scatterpolar",
            "marker": {
             "colorbar": {
              "outlinewidth": 0,
              "ticks": ""
             }
            }
           }
          ],
          "histogram": [
           {
            "marker": {
             "pattern": {
              "fillmode": "overlay",
              "size": 10,
              "solidity": 0.2
             }
            },
            "type": "histogram"
           }
          ],
          "scattergl": [
           {
            "type": "scattergl",
            "marker": {
             "colorbar": {
              "outlinewidth": 0,
              "ticks": ""
             }
            }
           }
          ],
          "scatter3d": [
           {
            "type": "scatter3d",
            "line": {
             "colorbar": {
              "outlinewidth": 0,
              "ticks": ""
             }
            },
            "marker": {
             "colorbar": {
              "outlinewidth": 0,
              "ticks": ""
             }
            }
           }
          ],
          "scattermapbox": [
           {
            "type": "scattermapbox",
            "marker": {
             "colorbar": {
              "outlinewidth": 0,
              "ticks": ""
             }
            }
           }
          ],
          "scatterternary": [
           {
            "type": "scatterternary",
            "marker": {
             "colorbar": {
              "outlinewidth": 0,
              "ticks": ""
             }
            }
           }
          ],
          "scattercarpet": [
           {
            "type": "scattercarpet",
            "marker": {
             "colorbar": {
              "outlinewidth": 0,
              "ticks": ""
             }
            }
           }
          ],
          "carpet": [
           {
            "aaxis": {
             "endlinecolor": "#2a3f5f",
             "gridcolor": "white",
             "linecolor": "white",
             "minorgridcolor": "white",
             "startlinecolor": "#2a3f5f"
            },
            "baxis": {
             "endlinecolor": "#2a3f5f",
             "gridcolor": "white",
             "linecolor": "white",
             "minorgridcolor": "white",
             "startlinecolor": "#2a3f5f"
            },
            "type": "carpet"
           }
          ],
          "table": [
           {
            "cells": {
             "fill": {
              "color": "#EBF0F8"
             },
             "line": {
              "color": "white"
             }
            },
            "header": {
             "fill": {
              "color": "#C8D4E3"
             },
             "line": {
              "color": "white"
             }
            },
            "type": "table"
           }
          ],
          "barpolar": [
           {
            "marker": {
             "line": {
              "color": "#E5ECF6",
              "width": 0.5
             },
             "pattern": {
              "fillmode": "overlay",
              "size": 10,
              "solidity": 0.2
             }
            },
            "type": "barpolar"
           }
          ],
          "pie": [
           {
            "automargin": true,
            "type": "pie"
           }
          ]
         },
         "layout": {
          "autotypenumbers": "strict",
          "colorway": [
           "#636efa",
           "#EF553B",
           "#00cc96",
           "#ab63fa",
           "#FFA15A",
           "#19d3f3",
           "#FF6692",
           "#B6E880",
           "#FF97FF",
           "#FECB52"
          ],
          "font": {
           "color": "#2a3f5f"
          },
          "hovermode": "closest",
          "hoverlabel": {
           "align": "left"
          },
          "paper_bgcolor": "white",
          "plot_bgcolor": "#E5ECF6",
          "polar": {
           "bgcolor": "#E5ECF6",
           "angularaxis": {
            "gridcolor": "white",
            "linecolor": "white",
            "ticks": ""
           },
           "radialaxis": {
            "gridcolor": "white",
            "linecolor": "white",
            "ticks": ""
           }
          },
          "ternary": {
           "bgcolor": "#E5ECF6",
           "aaxis": {
            "gridcolor": "white",
            "linecolor": "white",
            "ticks": ""
           },
           "baxis": {
            "gridcolor": "white",
            "linecolor": "white",
            "ticks": ""
           },
           "caxis": {
            "gridcolor": "white",
            "linecolor": "white",
            "ticks": ""
           }
          },
          "coloraxis": {
           "colorbar": {
            "outlinewidth": 0,
            "ticks": ""
           }
          },
          "colorscale": {
           "sequential": [
            [
             0.0,
             "#0d0887"
            ],
            [
             0.1111111111111111,
             "#46039f"
            ],
            [
             0.2222222222222222,
             "#7201a8"
            ],
            [
             0.3333333333333333,
             "#9c179e"
            ],
            [
             0.4444444444444444,
             "#bd3786"
            ],
            [
             0.5555555555555556,
             "#d8576b"
            ],
            [
             0.6666666666666666,
             "#ed7953"
            ],
            [
             0.7777777777777778,
             "#fb9f3a"
            ],
            [
             0.8888888888888888,
             "#fdca26"
            ],
            [
             1.0,
             "#f0f921"
            ]
           ],
           "sequentialminus": [
            [
             0.0,
             "#0d0887"
            ],
            [
             0.1111111111111111,
             "#46039f"
            ],
            [
             0.2222222222222222,
             "#7201a8"
            ],
            [
             0.3333333333333333,
             "#9c179e"
            ],
            [
             0.4444444444444444,
             "#bd3786"
            ],
            [
             0.5555555555555556,
             "#d8576b"
            ],
            [
             0.6666666666666666,
             "#ed7953"
            ],
            [
             0.7777777777777778,
             "#fb9f3a"
            ],
            [
             0.8888888888888888,
             "#fdca26"
            ],
            [
             1.0,
             "#f0f921"
            ]
           ],
           "diverging": [
            [
             0,
             "#8e0152"
            ],
            [
             0.1,
             "#c51b7d"
            ],
            [
             0.2,
             "#de77ae"
            ],
            [
             0.3,
             "#f1b6da"
            ],
            [
             0.4,
             "#fde0ef"
            ],
            [
             0.5,
             "#f7f7f7"
            ],
            [
             0.6,
             "#e6f5d0"
            ],
            [
             0.7,
             "#b8e186"
            ],
            [
             0.8,
             "#7fbc41"
            ],
            [
             0.9,
             "#4d9221"
            ],
            [
             1,
             "#276419"
            ]
           ]
          },
          "xaxis": {
           "gridcolor": "white",
           "linecolor": "white",
           "ticks": "",
           "title": {
            "standoff": 15
           },
           "zerolinecolor": "white",
           "automargin": true,
           "zerolinewidth": 2
          },
          "yaxis": {
           "gridcolor": "white",
           "linecolor": "white",
           "ticks": "",
           "title": {
            "standoff": 15
           },
           "zerolinecolor": "white",
           "automargin": true,
           "zerolinewidth": 2
          },
          "scene": {
           "xaxis": {
            "backgroundcolor": "#E5ECF6",
            "gridcolor": "white",
            "linecolor": "white",
            "showbackground": true,
            "ticks": "",
            "zerolinecolor": "white",
            "gridwidth": 2
           },
           "yaxis": {
            "backgroundcolor": "#E5ECF6",
            "gridcolor": "white",
            "linecolor": "white",
            "showbackground": true,
            "ticks": "",
            "zerolinecolor": "white",
            "gridwidth": 2
           },
           "zaxis": {
            "backgroundcolor": "#E5ECF6",
            "gridcolor": "white",
            "linecolor": "white",
            "showbackground": true,
            "ticks": "",
            "zerolinecolor": "white",
            "gridwidth": 2
           }
          },
          "shapedefaults": {
           "line": {
            "color": "#2a3f5f"
           }
          },
          "annotationdefaults": {
           "arrowcolor": "#2a3f5f",
           "arrowhead": 0,
           "arrowwidth": 1
          },
          "geo": {
           "bgcolor": "white",
           "landcolor": "#E5ECF6",
           "subunitcolor": "white",
           "showland": true,
           "showlakes": true,
           "lakecolor": "white"
          },
          "title": {
           "x": 0.05
          },
          "mapbox": {
           "style": "light"
          }
         }
        },
        "xaxis": {
         "anchor": "y",
         "domain": [
          0.0,
          1.0
         ],
         "title": {
          "text": "Actor"
         }
        },
        "yaxis": {
         "anchor": "x",
         "domain": [
          0.0,
          1.0
         ],
         "title": {
          "text": "Betweenness centrality"
         }
        },
        "legend": {
         "tracegroupgap": 0
        },
        "margin": {
         "t": 60
        },
        "barmode": "relative",
        "showlegend": false
       },
       "config": {
        "plotlyServerURL": "https://plot.ly"
       }
      },
      "text/html": "<div>                            <div id=\"e76c5ae9-de6d-4c3e-911c-307ed979162f\" class=\"plotly-graph-div\" style=\"height:525px; width:100%;\"></div>            <script type=\"text/javascript\">                require([\"plotly\"], function(Plotly) {                    window.PLOTLYENV=window.PLOTLYENV || {};                                    if (document.getElementById(\"e76c5ae9-de6d-4c3e-911c-307ed979162f\")) {                    Plotly.newPlot(                        \"e76c5ae9-de6d-4c3e-911c-307ed979162f\",                        [{\"alignmentgroup\":\"True\",\"customdata\":[[250.0,13.0],[885.0,13.0],[198.0,9.0],[240.5,9.0],[142.0,8.0]],\"hovertemplate\":\"Actor=%{x}<br>Actor score=%{customdata[0]}<br>Boosted actors=%{customdata[1]}<extra></extra>\",\"legendgroup\":\"\",\"marker\":{\"color\":\"#636efa\",\"pattern\":{\"shape\":\"\"}},\"name\":\"\",\"offsetgroup\":\"\",\"orientation\":\"v\",\"showlegend\":false,\"textposition\":\"auto\",\"x\":[\"Dennis Quaid\",\"Chevy Chase\",\"Dan Aykroyd\",\"William Hurt\",\"Kurt Russell\"],\"xaxis\":\"x\",\"y\":[1124.359258278251,859.9110771319918,938.5808643125068,765.7247018105775,460.69211033194506],\"yaxis\":\"y\",\"type\":\"bar\"}],                        {\"template\":{\"data\":{\"histogram2dcontour\":[{\"type\":\"histogram2dcontour\",\"colorbar\":{\"outlinewidth\":0,\"ticks\":\"\"},\"colorscale\":[[0.0,\"#0d0887\"],[0.1111111111111111,\"#46039f\"],[0.2222222222222222,\"#7201a8\"],[0.3333333333333333,\"#9c179e\"],[0.4444444444444444,\"#bd3786\"],[0.5555555555555556,\"#d8576b\"],[0.6666666666666666,\"#ed7953\"],[0.7777777777777778,\"#fb9f3a\"],[0.8888888888888888,\"#fdca26\"],[1.0,\"#f0f921\"]]}],\"choropleth\":[{\"type\":\"choropleth\",\"colorbar\":{\"outlinewidth\":0,\"ticks\":\"\"}}],\"histogram2d\":[{\"type\":\"histogram2d\",\"colorbar\":{\"outlinewidth\":0,\"ticks\":\"\"},\"colorscale\":[[0.0,\"#0d0887\"],[0.1111111111111111,\"#46039f\"],[0.2222222222222222,\"#7201a8\"],[0.3333333333333333,\"#9c179e\"],[0.4444444444444444,\"#bd3786\"],[0.5555555555555556,\"#d8576b\"],[0.6666666666666666,\"#ed7953\"],[0.7777777777777778,\"#fb9f3a\"],[0.8888888888888888,\"#fdca26\"],[1.0,\"#f0f921\"]]}],\"heatmap\":[{\"type\":\"heatmap\",\"colorbar\":{\"outlinewidth\":0,\"ticks\":\"\"},\"colorscale\":[[0.0,\"#0d0887\"],[0.1111111111111111,\"#46039f\"],[0.2222222222222222,\"#7201a8\"],[0.3333333333333333,\"#9c179e\"],[0.4444444444444444,\"#bd3786\"],[0.5555555555555556,\"#d8576b\"],[0.6666666666666666,\"#ed7953\"],[0.7777777777777778,\"#fb9f3a\"],[0.8888888888888888,\"#fdca26\"],[1.0,\"#f0f921\"]]}],\"heatmapgl\":[{\"type\":\"heatmapgl\",\"colorbar\":{\"outlinewidth\":0,\"ticks\":\"\"},\"colorscale\":[[0.0,\"#0d0887\"],[0.1111111111111111,\"#46039f\"],[0.2222222222222222,\"#7201a8\"],[0.3333333333333333,\"#9c179e\"],[0.4444444444444444,\"#bd3786\"],[0.5555555555555556,\"#d8576b\"],[0.6666666666666666,\"#ed7953\"],[0.7777777777777778,\"#fb9f3a\"],[0.8888888888888888,\"#fdca26\"],[1.0,\"#f0f921\"]]}],\"contourcarpet\":[{\"type\":\"contourcarpet\",\"colorbar\":{\"outlinewidth\":0,\"ticks\":\"\"}}],\"contour\":[{\"type\":\"contour\",\"colorbar\":{\"outlinewidth\":0,\"ticks\":\"\"},\"colorscale\":[[0.0,\"#0d0887\"],[0.1111111111111111,\"#46039f\"],[0.2222222222222222,\"#7201a8\"],[0.3333333333333333,\"#9c179e\"],[0.4444444444444444,\"#bd3786\"],[0.5555555555555556,\"#d8576b\"],[0.6666666666666666,\"#ed7953\"],[0.7777777777777778,\"#fb9f3a\"],[0.8888888888888888,\"#fdca26\"],[1.0,\"#f0f921\"]]}],\"surface\":[{\"type\":\"surface\",\"colorbar\":{\"outlinewidth\":0,\"ticks\":\"\"},\"colorscale\":[[0.0,\"#0d0887\"],[0.1111111111111111,\"#46039f\"],[0.2222222222222222,\"#7201a8\"],[0.3333333333333333,\"#9c179e\"],[0.4444444444444444,\"#bd3786\"],[0.5555555555555556,\"#d8576b\"],[0.6666666666666666,\"#ed7953\"],[0.7777777777777778,\"#fb9f3a\"],[0.8888888888888888,\"#fdca26\"],[1.0,\"#f0f921\"]]}],\"mesh3d\":[{\"type\":\"mesh3d\",\"colorbar\":{\"outlinewidth\":0,\"ticks\":\"\"}}],\"scatter\":[{\"fillpattern\":{\"fillmode\":\"overlay\",\"size\":10,\"solidity\":0.2},\"type\":\"scatter\"}],\"parcoords\":[{\"type\":\"parcoords\",\"line\":{\"colorbar\":{\"outlinewidth\":0,\"ticks\":\"\"}}}],\"scatterpolargl\":[{\"type\":\"scatterpolargl\",\"marker\":{\"colorbar\":{\"outlinewidth\":0,\"ticks\":\"\"}}}],\"bar\":[{\"error_x\":{\"color\":\"#2a3f5f\"},\"error_y\":{\"color\":\"#2a3f5f\"},\"marker\":{\"line\":{\"color\":\"#E5ECF6\",\"width\":0.5},\"pattern\":{\"fillmode\":\"overlay\",\"size\":10,\"solidity\":0.2}},\"type\":\"bar\"}],\"scattergeo\":[{\"type\":\"scattergeo\",\"marker\":{\"colorbar\":{\"outlinewidth\":0,\"ticks\":\"\"}}}],\"scatterpolar\":[{\"type\":\"scatterpolar\",\"marker\":{\"colorbar\":{\"outlinewidth\":0,\"ticks\":\"\"}}}],\"histogram\":[{\"marker\":{\"pattern\":{\"fillmode\":\"overlay\",\"size\":10,\"solidity\":0.2}},\"type\":\"histogram\"}],\"scattergl\":[{\"type\":\"scattergl\",\"marker\":{\"colorbar\":{\"outlinewidth\":0,\"ticks\":\"\"}}}],\"scatter3d\":[{\"type\":\"scatter3d\",\"line\":{\"colorbar\":{\"outlinewidth\":0,\"ticks\":\"\"}},\"marker\":{\"colorbar\":{\"outlinewidth\":0,\"ticks\":\"\"}}}],\"scattermapbox\":[{\"type\":\"scattermapbox\",\"marker\":{\"colorbar\":{\"outlinewidth\":0,\"ticks\":\"\"}}}],\"scatterternary\":[{\"type\":\"scatterternary\",\"marker\":{\"colorbar\":{\"outlinewidth\":0,\"ticks\":\"\"}}}],\"scattercarpet\":[{\"type\":\"scattercarpet\",\"marker\":{\"colorbar\":{\"outlinewidth\":0,\"ticks\":\"\"}}}],\"carpet\":[{\"aaxis\":{\"endlinecolor\":\"#2a3f5f\",\"gridcolor\":\"white\",\"linecolor\":\"white\",\"minorgridcolor\":\"white\",\"startlinecolor\":\"#2a3f5f\"},\"baxis\":{\"endlinecolor\":\"#2a3f5f\",\"gridcolor\":\"white\",\"linecolor\":\"white\",\"minorgridcolor\":\"white\",\"startlinecolor\":\"#2a3f5f\"},\"type\":\"carpet\"}],\"table\":[{\"cells\":{\"fill\":{\"color\":\"#EBF0F8\"},\"line\":{\"color\":\"white\"}},\"header\":{\"fill\":{\"color\":\"#C8D4E3\"},\"line\":{\"color\":\"white\"}},\"type\":\"table\"}],\"barpolar\":[{\"marker\":{\"line\":{\"color\":\"#E5ECF6\",\"width\":0.5},\"pattern\":{\"fillmode\":\"overlay\",\"size\":10,\"solidity\":0.2}},\"type\":\"barpolar\"}],\"pie\":[{\"automargin\":true,\"type\":\"pie\"}]},\"layout\":{\"autotypenumbers\":\"strict\",\"colorway\":[\"#636efa\",\"#EF553B\",\"#00cc96\",\"#ab63fa\",\"#FFA15A\",\"#19d3f3\",\"#FF6692\",\"#B6E880\",\"#FF97FF\",\"#FECB52\"],\"font\":{\"color\":\"#2a3f5f\"},\"hovermode\":\"closest\",\"hoverlabel\":{\"align\":\"left\"},\"paper_bgcolor\":\"white\",\"plot_bgcolor\":\"#E5ECF6\",\"polar\":{\"bgcolor\":\"#E5ECF6\",\"angularaxis\":{\"gridcolor\":\"white\",\"linecolor\":\"white\",\"ticks\":\"\"},\"radialaxis\":{\"gridcolor\":\"white\",\"linecolor\":\"white\",\"ticks\":\"\"}},\"ternary\":{\"bgcolor\":\"#E5ECF6\",\"aaxis\":{\"gridcolor\":\"white\",\"linecolor\":\"white\",\"ticks\":\"\"},\"baxis\":{\"gridcolor\":\"white\",\"linecolor\":\"white\",\"ticks\":\"\"},\"caxis\":{\"gridcolor\":\"white\",\"linecolor\":\"white\",\"ticks\":\"\"}},\"coloraxis\":{\"colorbar\":{\"outlinewidth\":0,\"ticks\":\"\"}},\"colorscale\":{\"sequential\":[[0.0,\"#0d0887\"],[0.1111111111111111,\"#46039f\"],[0.2222222222222222,\"#7201a8\"],[0.3333333333333333,\"#9c179e\"],[0.4444444444444444,\"#bd3786\"],[0.5555555555555556,\"#d8576b\"],[0.6666666666666666,\"#ed7953\"],[0.7777777777777778,\"#fb9f3a\"],[0.8888888888888888,\"#fdca26\"],[1.0,\"#f0f921\"]],\"sequentialminus\":[[0.0,\"#0d0887\"],[0.1111111111111111,\"#46039f\"],[0.2222222222222222,\"#7201a8\"],[0.3333333333333333,\"#9c179e\"],[0.4444444444444444,\"#bd3786\"],[0.5555555555555556,\"#d8576b\"],[0.6666666666666666,\"#ed7953\"],[0.7777777777777778,\"#fb9f3a\"],[0.8888888888888888,\"#fdca26\"],[1.0,\"#f0f921\"]],\"diverging\":[[0,\"#8e0152\"],[0.1,\"#c51b7d\"],[0.2,\"#de77ae\"],[0.3,\"#f1b6da\"],[0.4,\"#fde0ef\"],[0.5,\"#f7f7f7\"],[0.6,\"#e6f5d0\"],[0.7,\"#b8e186\"],[0.8,\"#7fbc41\"],[0.9,\"#4d9221\"],[1,\"#276419\"]]},\"xaxis\":{\"gridcolor\":\"white\",\"linecolor\":\"white\",\"ticks\":\"\",\"title\":{\"standoff\":15},\"zerolinecolor\":\"white\",\"automargin\":true,\"zerolinewidth\":2},\"yaxis\":{\"gridcolor\":\"white\",\"linecolor\":\"white\",\"ticks\":\"\",\"title\":{\"standoff\":15},\"zerolinecolor\":\"white\",\"automargin\":true,\"zerolinewidth\":2},\"scene\":{\"xaxis\":{\"backgroundcolor\":\"#E5ECF6\",\"gridcolor\":\"white\",\"linecolor\":\"white\",\"showbackground\":true,\"ticks\":\"\",\"zerolinecolor\":\"white\",\"gridwidth\":2},\"yaxis\":{\"backgroundcolor\":\"#E5ECF6\",\"gridcolor\":\"white\",\"linecolor\":\"white\",\"showbackground\":true,\"ticks\":\"\",\"zerolinecolor\":\"white\",\"gridwidth\":2},\"zaxis\":{\"backgroundcolor\":\"#E5ECF6\",\"gridcolor\":\"white\",\"linecolor\":\"white\",\"showbackground\":true,\"ticks\":\"\",\"zerolinecolor\":\"white\",\"gridwidth\":2}},\"shapedefaults\":{\"line\":{\"color\":\"#2a3f5f\"}},\"annotationdefaults\":{\"arrowcolor\":\"#2a3f5f\",\"arrowhead\":0,\"arrowwidth\":1},\"geo\":{\"bgcolor\":\"white\",\"landcolor\":\"#E5ECF6\",\"subunitcolor\":\"white\",\"showland\":true,\"showlakes\":true,\"lakecolor\":\"white\"},\"title\":{\"x\":0.05},\"mapbox\":{\"style\":\"light\"}}},\"xaxis\":{\"anchor\":\"y\",\"domain\":[0.0,1.0],\"title\":{\"text\":\"Actor\"}},\"yaxis\":{\"anchor\":\"x\",\"domain\":[0.0,1.0],\"title\":{\"text\":\"Betweenness centrality\"}},\"legend\":{\"tracegroupgap\":0},\"margin\":{\"t\":60},\"barmode\":\"relative\",\"showlegend\":false},                        {\"responsive\": true}                    ).then(function(){\n                            \nvar gd = document.getElementById('e76c5ae9-de6d-4c3e-911c-307ed979162f');\nvar x = new MutationObserver(function (mutations, observer) {{\n        var display = window.getComputedStyle(gd).display;\n        if (!display || display === 'none') {{\n            console.log([gd, 'removed!']);\n            Plotly.purge(gd);\n            observer.disconnect();\n        }}\n}});\n\n// Listen for the removal of the full notebook cells\nvar notebookContainer = gd.closest('#notebook-container');\nif (notebookContainer) {{\n    x.observe(notebookContainer, {childList: true});\n}}\n\n// Listen for the clearing of the current output cell\nvar outputEl = gd.closest('.output');\nif (outputEl) {{\n    x.observe(outputEl, {childList: true});\n}}\n\n                        })                };                });            </script>        </div>"
     },
     "metadata": {},
     "output_type": "display_data"
    }
   ],
   "source": [
    "fig = px.bar(example, y=\"betweenness_centrality_subset\", labels=dict(index=\"Actor\", betweenness_centrality_subset=\"Betweenness centrality\"), hover_data={\"Actor score\": True, \"Boosted actors\": True, \"betweenness_centrality_subset\":False})\n",
    "fig.update_layout(showlegend=False)\n",
    "fig.write_html(\"test.html\")"
   ],
   "metadata": {
    "collapsed": false
   }
  },
  {
   "cell_type": "code",
   "execution_count": 82,
   "outputs": [
    {
     "name": "stdout",
     "output_type": "stream",
     "text": [
      "['data/hist_data/career_booster_dc_1982_1986_genre_all.pkl', 'data/hist_data/career_booster_dc_1982_1986_genre_Doomsday_film_Apocalyptic_and_postapocalyptic_fiction_Dystopia_Disaster.pkl', 'data/hist_data/career_booster_dc_1982_1986_genre_Detective_Detective_fiction_Crime_Thriller_Mystery.pkl', 'data/hist_data/career_booster_dc_1982_1986_genre_Grossout_film_Gross_out_Romance_Film_Comedy.pkl', 'data/hist_data/career_booster_dc_1982_1986_genre_Horror_Drama_Slasher_Psychological_thriller.pkl', 'data/hist_data/career_booster_dc_1982_1986_genre_Family_Film_ChildrensFamily_Comedy_Animation.pkl', 'data/hist_data/career_booster_dc_1982_1986_genre_Documentary_Culture__Society_Gay_Gay_Interest.pkl', 'data/hist_data/career_booster_dc_1982_1986_genre_Gay_Gay_Interest_Gay_Themed_LGBT.pkl', 'data/hist_data/career_booster_dc_1982_1986_genre_Antiwar_Antiwar_film_Environmental_Science_Nature.pkl', 'data/hist_data/career_booster_dc_1982_1986_genre_Environmental_Science_Nature_Sword_and_sorcery_films_Sword_and_sorcery.pkl', 'data/hist_data/career_booster_dc_1982_1986_genre_Business_Computers_Finance__Investing_Romance_Film.pkl', 'data/hist_data/career_booster_dc_1982_1986_genre_Avantgarde_Experimental_film_Surrealism_Essay_Film.pkl', 'data/hist_data/career_booster_dc_1982_1986_genre_Horror_Bmovie_Cult_Slasher.pkl', 'data/hist_data/career_booster_dc_1982_1986_genre_Business_Computers_Finance__Investing_Experimental_film.pkl', 'data/hist_data/career_booster_dc_1982_1986_genre_Documentary_Culture__Society_Biography_Social_issues.pkl', 'data/hist_data/career_booster_dc_1987_1991_genre_all.pkl', 'data/hist_data/career_booster_dc_1987_1991_genre_Avantgarde_Experimental_film_Surrealism_Essay_Film.pkl', 'data/hist_data/career_booster_dc_1987_1991_genre_Antiwar_Antiwar_film_Environmental_Science_Nature.pkl', 'data/hist_data/career_booster_dc_1987_1991_genre_Horror_Drama_Slasher_Psychological_thriller.pkl', 'data/hist_data/career_booster_dc_1987_1991_genre_Family_Film_ChildrensFamily_Comedy_Animation.pkl', 'data/hist_data/career_booster_dc_1987_1991_genre_Grossout_film_Gross_out_Romance_Film_Comedy.pkl', 'data/hist_data/career_booster_dc_1987_1991_genre_Doomsday_film_Apocalyptic_and_postapocalyptic_fiction_Dystopia_Disaster.pkl', 'data/hist_data/career_booster_dc_1987_1991_genre_Gay_Gay_Interest_Gay_Themed_LGBT.pkl', 'data/hist_data/career_booster_dc_1987_1991_genre_Business_Computers_Finance__Investing_Romance_Film.pkl', 'data/hist_data/career_booster_dc_1987_1991_genre_Documentary_Culture__Society_Gay_Gay_Interest.pkl', 'data/hist_data/career_booster_dc_1987_1991_genre_Detective_Detective_fiction_Crime_Thriller_Mystery.pkl', 'data/hist_data/career_booster_dc_1987_1991_genre_Environmental_Science_Nature_Gross_out_Grossout_film.pkl', 'data/hist_data/career_booster_dc_1987_1991_genre_Environmental_Science_Nature_Sword_and_sorcery_films_Sword_and_sorcery.pkl', 'data/hist_data/career_booster_dc_1987_1991_genre_Horror_Bmovie_Cult_Slasher.pkl', 'data/hist_data/career_booster_dc_1987_1991_genre_Documentary_Culture__Society_Biography_Social_issues.pkl', 'data/hist_data/career_booster_dc_1987_1991_genre_Business_Computers_Finance__Investing_Experimental_film.pkl', 'data/hist_data/career_booster_dc_1992_1996_genre_all.pkl', 'data/hist_data/career_booster_dc_1992_1996_genre_Horror_Bmovie_Cult_Slasher.pkl', 'data/hist_data/career_booster_dc_1992_1996_genre_Grossout_film_Gross_out_Romance_Film_Comedy.pkl', 'data/hist_data/career_booster_dc_1992_1996_genre_Documentary_Culture__Society_Gay_Gay_Interest.pkl', 'data/hist_data/career_booster_dc_1992_1996_genre_Doomsday_film_Apocalyptic_and_postapocalyptic_fiction_Dystopia_Disaster.pkl', 'data/hist_data/career_booster_dc_1992_1996_genre_Avantgarde_Experimental_film_Surrealism_Essay_Film.pkl', 'data/hist_data/career_booster_dc_1992_1996_genre_Gay_Gay_Interest_Gay_Themed_LGBT.pkl', 'data/hist_data/career_booster_dc_1992_1996_genre_Family_Film_ChildrensFamily_Comedy_Animation.pkl', 'data/hist_data/career_booster_dc_1992_1996_genre_Detective_Detective_fiction_Crime_Thriller_Mystery.pkl', 'data/hist_data/career_booster_dc_1992_1996_genre_Documentary_Culture__Society_Biography_Social_issues.pkl', 'data/hist_data/career_booster_dc_1992_1996_genre_Horror_Drama_Slasher_Psychological_thriller.pkl', 'data/hist_data/career_booster_dc_1992_1996_genre_Environmental_Science_Nature_Sword_and_sorcery_films_Sword_and_sorcery.pkl', 'data/hist_data/career_booster_dc_1992_1996_genre_Business_Computers_Finance__Investing_Romance_Film.pkl', 'data/hist_data/career_booster_dc_1992_1996_genre_Antiwar_Antiwar_film_Environmental_Science_Nature.pkl', 'data/hist_data/career_booster_dc_1992_1996_genre_Business_Computers_Finance__Investing_Experimental_film.pkl', 'data/hist_data/career_booster_dc_1992_1996_genre_Environmental_Science_Nature_Gross_out_Grossout_film.pkl', 'data/hist_data/career_booster_dc_1997_2001_genre_all.pkl', 'data/hist_data/career_booster_dc_1997_2001_genre_Documentary_Culture__Society_Gay_Gay_Interest.pkl', 'data/hist_data/career_booster_dc_1997_2001_genre_Grossout_film_Gross_out_Romance_Film_Comedy.pkl', 'data/hist_data/career_booster_dc_1997_2001_genre_Horror_Drama_Slasher_Psychological_thriller.pkl', 'data/hist_data/career_booster_dc_1997_2001_genre_Detective_Detective_fiction_Crime_Thriller_Mystery.pkl', 'data/hist_data/career_booster_dc_1997_2001_genre_Antiwar_Antiwar_film_Environmental_Science_Nature.pkl', 'data/hist_data/career_booster_dc_1997_2001_genre_Doomsday_film_Apocalyptic_and_postapocalyptic_fiction_Dystopia_Disaster.pkl', 'data/hist_data/career_booster_dc_1997_2001_genre_Gay_Gay_Interest_Gay_Themed_LGBT.pkl', 'data/hist_data/career_booster_dc_1997_2001_genre_Environmental_Science_Nature_Sword_and_sorcery_films_Sword_and_sorcery.pkl', 'data/hist_data/career_booster_dc_1997_2001_genre_Family_Film_ChildrensFamily_Comedy_Animation.pkl', 'data/hist_data/career_booster_dc_1997_2001_genre_Avantgarde_Experimental_film_Surrealism_Essay_Film.pkl', 'data/hist_data/career_booster_dc_1997_2001_genre_Business_Computers_Finance__Investing_Romance_Film.pkl', 'data/hist_data/career_booster_dc_1997_2001_genre_Documentary_Culture__Society_Biography_Social_issues.pkl', 'data/hist_data/career_booster_dc_1997_2001_genre_Horror_Bmovie_Cult_Slasher.pkl', 'data/hist_data/career_booster_dc_1997_2001_genre_Environmental_Science_Nature_Gross_out_Grossout_film.pkl', 'data/hist_data/career_booster_dc_1997_2001_genre_Business_Computers_Finance__Investing_Experimental_film.pkl', 'data/hist_data/career_booster_dc_2002_2006_genre_all.pkl', 'data/hist_data/career_booster_dc_2002_2006_genre_Grossout_film_Gross_out_Romance_Film_Comedy.pkl', 'data/hist_data/career_booster_dc_2002_2006_genre_Business_Computers_Finance__Investing_Romance_Film.pkl', 'data/hist_data/career_booster_dc_2002_2006_genre_Documentary_Culture__Society_Gay_Gay_Interest.pkl', 'data/hist_data/career_booster_dc_2002_2006_genre_Horror_Drama_Slasher_Psychological_thriller.pkl', 'data/hist_data/career_booster_dc_2002_2006_genre_Doomsday_film_Apocalyptic_and_postapocalyptic_fiction_Dystopia_Disaster.pkl', 'data/hist_data/career_booster_dc_2002_2006_genre_Environmental_Science_Nature_Sword_and_sorcery_films_Sword_and_sorcery.pkl', 'data/hist_data/career_booster_dc_2002_2006_genre_Family_Film_ChildrensFamily_Comedy_Animation.pkl', 'data/hist_data/career_booster_dc_2002_2006_genre_Gay_Gay_Interest_Gay_Themed_LGBT.pkl', 'data/hist_data/career_booster_dc_2002_2006_genre_Avantgarde_Experimental_film_Surrealism_Essay_Film.pkl', 'data/hist_data/career_booster_dc_2002_2006_genre_Detective_Detective_fiction_Crime_Thriller_Mystery.pkl', 'data/hist_data/career_booster_dc_2002_2006_genre_Antiwar_Antiwar_film_Environmental_Science_Nature.pkl', 'data/hist_data/career_booster_dc_2002_2006_genre_Horror_Bmovie_Cult_Slasher.pkl', 'data/hist_data/career_booster_dc_2002_2006_genre_Documentary_Culture__Society_Biography_Social_issues.pkl', 'data/hist_data/career_booster_dc_2002_2006_genre_Business_Computers_Finance__Investing_Experimental_film.pkl', 'data/hist_data/career_booster_dc_2002_2006_genre_Environmental_Science_Nature_Gross_out_Grossout_film.pkl', 'data/hist_data/career_booster_dc_2007_2011_genre_all.pkl', 'data/hist_data/career_booster_dc_2007_2011_genre_Grossout_film_Gross_out_Romance_Film_Comedy.pkl', 'data/hist_data/career_booster_dc_2007_2011_genre_Detective_Detective_fiction_Crime_Thriller_Mystery.pkl', 'data/hist_data/career_booster_dc_2007_2011_genre_Family_Film_ChildrensFamily_Comedy_Animation.pkl', 'data/hist_data/career_booster_dc_2007_2011_genre_Environmental_Science_Nature_Sword_and_sorcery_films_Sword_and_sorcery.pkl', 'data/hist_data/career_booster_dc_2007_2011_genre_Documentary_Culture__Society_Gay_Gay_Interest.pkl', 'data/hist_data/career_booster_dc_2007_2011_genre_Gay_Gay_Interest_Gay_Themed_LGBT.pkl', 'data/hist_data/career_booster_dc_2007_2011_genre_Avantgarde_Experimental_film_Surrealism_Essay_Film.pkl', 'data/hist_data/career_booster_dc_2007_2011_genre_Horror_Drama_Slasher_Psychological_thriller.pkl', 'data/hist_data/career_booster_dc_2007_2011_genre_Doomsday_film_Apocalyptic_and_postapocalyptic_fiction_Dystopia_Disaster.pkl', 'data/hist_data/career_booster_dc_2007_2011_genre_Documentary_Culture__Society_Biography_Social_issues.pkl', 'data/hist_data/career_booster_dc_2007_2011_genre_Horror_Bmovie_Cult_Slasher.pkl', 'data/hist_data/career_booster_dc_2007_2011_genre_Business_Computers_Finance__Investing_Romance_Film.pkl', 'data/hist_data/career_booster_dc_2007_2011_genre_Antiwar_Antiwar_film_Environmental_Science_Nature.pkl', 'data/hist_data/career_booster_dc_2007_2011_genre_Environmental_Science_Nature_Gross_out_Grossout_film.pkl', 'data/hist_data/career_booster_dc_2007_2011_genre_Business_Computers_Finance__Investing_Experimental_film.pkl']\n"
     ]
    }
   ],
   "source": [
    "names = []\n",
    "\n",
    "for _, elem in files_attr.iterrows():\n",
    "    fn = generate_filename(elem)\n",
    "    names.append(fn)\n",
    "    pkl = pd.read_pickle(fn)\n",
    "    if pkl.size == 0:\n",
    "        continue\n",
    "    pkl.rename(columns={\"actor_score_before_period\": 'Actor score', \"nb_actors_boosted\": \"Boosted actors\"}, inplace=True, errors='raise')\n",
    "    fig = px.bar(pkl, y=\"betweenness_centrality_subset\", labels=dict(index=\"Actor\", betweenness_centrality_subset=\"Betweenness centrality\"), hover_data={\"Actor score\": True, \"Boosted actors\": True, \"betweenness_centrality_subset\":False})\n",
    "    fig.update_layout(showlegend=False)\n",
    "    fig.write_html('img/'+fn.split('/')[-1][:-4]+\".html\")\n",
    "\n",
    "print(names)"
   ],
   "metadata": {
    "collapsed": false
   }
  },
  {
   "cell_type": "code",
   "execution_count": 32,
   "outputs": [
    {
     "data": {
      "text/plain": "<AxesSubplot: >"
     },
     "execution_count": 32,
     "metadata": {},
     "output_type": "execute_result"
    },
    {
     "data": {
      "text/plain": "<Figure size 640x480 with 1 Axes>",
      "image/png": "[encoded data removed]"
     },
     "metadata": {},
     "output_type": "display_data"
    }
   ],
   "source": [],
   "metadata": {
    "collapsed": false
   }
  }
 ],
 "metadata": {
  "kernelspec": {
   "display_name": "Python 3",
   "language": "python",
   "name": "python3"
  },
  "language_info": {
   "codemirror_mode": {
    "name": "ipython",
    "version": 2
   },
   "file_extension": ".py",
   "mimetype": "text/x-python",
   "name": "python",
   "nbconvert_exporter": "python",
   "pygments_lexer": "ipython2",
   "version": "2.7.6"
  }
 },
 "nbformat": 4,
 "nbformat_minor": 0
}
